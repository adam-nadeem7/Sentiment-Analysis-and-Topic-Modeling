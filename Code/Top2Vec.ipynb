{
 "cells": [
  {
   "cell_type": "code",
   "execution_count": 73,
   "metadata": {},
   "outputs": [],
   "source": [
    "from umap import UMAP\n",
    "from hdbscan import HDBSCAN"
   ]
  },
  {
   "cell_type": "code",
   "execution_count": 84,
   "metadata": {},
   "outputs": [
    {
     "name": "stderr",
     "output_type": "stream",
     "text": [
      "2024-02-05 21:08:16,938 - top2vec - INFO - Pre-processing documents for training\n",
      "INFO:top2vec:Pre-processing documents for training\n",
      "c:\\Users\\Yayun Li\\Projects\\NLPEON\\nlpeon-venv\\lib\\site-packages\\sklearn\\feature_extraction\\text.py:525: UserWarning: The parameter 'token_pattern' will not be used since 'tokenizer' is not None'\n",
      "  warnings.warn(\n",
      "2024-02-05 21:08:21,281 - top2vec - INFO - Downloading universal-sentence-encoder-multilingual model\n",
      "INFO:top2vec:Downloading universal-sentence-encoder-multilingual model\n",
      "2024-02-05 21:08:22,879 - top2vec - INFO - Creating joint document/word embedding\n",
      "INFO:top2vec:Creating joint document/word embedding\n",
      "2024-02-05 21:13:32,459 - top2vec - INFO - Creating lower dimension embedding of documents\n",
      "INFO:top2vec:Creating lower dimension embedding of documents\n",
      "c:\\Users\\Yayun Li\\Projects\\NLPEON\\nlpeon-venv\\lib\\site-packages\\umap\\umap_.py:1943: UserWarning: n_jobs value -1 overridden to 1 by setting random_state. Use no seed for parallelism.\n",
      "  warn(f\"n_jobs value {self.n_jobs} overridden to 1 by setting random_state. Use no seed for parallelism.\")\n",
      "2024-02-05 21:16:00,513 - top2vec - INFO - Finding dense areas of documents\n",
      "INFO:top2vec:Finding dense areas of documents\n",
      "2024-02-05 21:16:07,738 - top2vec - INFO - Finding topics\n",
      "INFO:top2vec:Finding topics\n"
     ]
    }
   ],
   "source": [
    "model = Top2Vec(dataset[dataset[\"NPS\"] <= 6][\"translated_comment\"].tolist(), speed='learn', umap_args={'random_state' : 1}, hdbscan_args={'min_cluster_size': 200})"
   ]
  },
  {
   "cell_type": "code",
   "execution_count": 85,
   "metadata": {},
   "outputs": [
    {
     "data": {
      "text/plain": [
       "58"
      ]
     },
     "execution_count": 85,
     "metadata": {},
     "output_type": "execute_result"
    }
   ],
   "source": [
    "model.get_num_topics()"
   ]
  },
  {
   "cell_type": "code",
   "execution_count": 87,
   "metadata": {},
   "outputs": [],
   "source": [
    "topic_words, word_scores, topic_nums = model.get_topics(58)\n"
   ]
  },
  {
   "cell_type": "code",
   "execution_count": 88,
   "metadata": {},
   "outputs": [
    {
     "data": {
      "text/plain": [
       "array([['contract', 'contracts', 'contractual', ..., 'expires',\n",
       "        'appointment', 'monthly'],\n",
       "       ['invoice', 'invoices', 'billed', ..., 'deposits', 'contracts',\n",
       "        'amount'],\n",
       "       ['me', 'mine', 'agreed', ..., 'sek', 'agree', 'unprofessional'],\n",
       "       ...,\n",
       "       ['communication', 'communicating', 'communicate', ...,\n",
       "        'notification', 'say', 'inform'],\n",
       "       ['robot', 'chatbot', 'bot', ..., 'not', 'mechanics', 'non'],\n",
       "       ['knows', 'know', 'unknown', ..., 'familiar', 'told', 'wrong']],\n",
       "      dtype='<U15')"
      ]
     },
     "execution_count": 88,
     "metadata": {},
     "output_type": "execute_result"
    }
   ],
   "source": [
    "topic_words"
   ]
  },
  {
   "cell_type": "code",
   "execution_count": 89,
   "metadata": {},
   "outputs": [],
   "source": [
    "import pandas as pd\n",
    "df = pd.DataFrame(topic_words)\n",
    "\n",
    "df.to_csv(\"topic_words.csv\")"
   ]
  },
  {
   "cell_type": "code",
   "execution_count": 90,
   "metadata": {},
   "outputs": [
    {
     "data": {
      "text/plain": [
       "array([[0.4787627 , 0.44598788, 0.4299614 , ..., 0.18990687, 0.18838792,\n",
       "        0.1881775 ],\n",
       "       [0.48313364, 0.47019693, 0.42097908, ..., 0.22262761, 0.2218652 ,\n",
       "        0.22049192],\n",
       "       [0.15176967, 0.15079933, 0.14861444, ..., 0.10674613, 0.10561912,\n",
       "        0.10555615],\n",
       "       ...,\n",
       "       [0.54986715, 0.5035161 , 0.4650884 , ..., 0.17681918, 0.17661244,\n",
       "        0.1765796 ],\n",
       "       [0.6766126 , 0.4429894 , 0.42498335, ..., 0.18466027, 0.18458164,\n",
       "        0.18452314],\n",
       "       [0.62310225, 0.61574423, 0.5588394 , ..., 0.41786945, 0.41733176,\n",
       "        0.41660386]], dtype=float32)"
      ]
     },
     "execution_count": 90,
     "metadata": {},
     "output_type": "execute_result"
    }
   ],
   "source": [
    "word_scores"
   ]
  },
  {
   "cell_type": "code",
   "execution_count": 92,
   "metadata": {},
   "outputs": [],
   "source": [
    "\n",
    "topic_words, word_scores, topic_scores, topic_nums = model.search_topics(keywords=[\"contract\"], num_topics=5)"
   ]
  },
  {
   "cell_type": "code",
   "execution_count": 93,
   "metadata": {},
   "outputs": [
    {
     "data": {
      "text/plain": [
       "array([0.47876268, 0.44392413, 0.30382368, 0.28929636, 0.26643894])"
      ]
     },
     "execution_count": 93,
     "metadata": {},
     "output_type": "execute_result"
    }
   ],
   "source": [
    "topic_scores"
   ]
  },
  {
   "cell_type": "code",
   "execution_count": 94,
   "metadata": {},
   "outputs": [
    {
     "data": {
      "text/plain": [
       "array([ 0, 14, 51, 47, 24], dtype=int64)"
      ]
     },
     "execution_count": 94,
     "metadata": {},
     "output_type": "execute_result"
    }
   ],
   "source": [
    "topic_nums"
   ]
  },
  {
   "cell_type": "code",
   "execution_count": 95,
   "metadata": {},
   "outputs": [
    {
     "data": {
      "text/plain": [
       "[array(['contract', 'contracts', 'contractual', 'agreement', 'unpaid',\n",
       "        'agreements', 'contractor', 'signed', 'promised', 'subcontractor',\n",
       "        'signing', 'billed', 'termination', 'canceling', 'terminated',\n",
       "        'overpayment', 'cancellation', 'cancel', 'repayment', 'billing',\n",
       "        'canceled', 'pending', 'underpayment', 'fee', 'promises',\n",
       "        'renewal', 'paid', 'subscription', 'deal', 'expired',\n",
       "        'subcontractors', 'terminate', 'payment', 'debited', 'ended',\n",
       "        'fees', 'month', 'refunded', 'scam', 'invoice', 'expire',\n",
       "        'deadline', 'renewed', 'promise', 'payments', 'deadlines',\n",
       "        'disconnected', 'expires', 'appointment', 'monthly'], dtype='<U15'),\n",
       " array(['shit', 'seriously', 'decent', 'dear', 'downright', 'awfully',\n",
       "        'rd', 'well', 'eur', 'great', 'crap', 'terrible', 'badly', 'sucks',\n",
       "        'neat', 'bad', 'lousy', 'bother', 'poorly', 'honestly', 'good',\n",
       "        'fair', 'incredibly', 'bothers', 'neatly', 'unfortunate', 'nice',\n",
       "        'fine', 'oops', 'bok', 'pity', 'nicely', 'nov', 'super',\n",
       "        'outrageous', 'nd', 'ok', 'll', 'fortunately', 'fairly', 'don',\n",
       "        'wiser', 'far', 'terribly', 'tedious', 'quite', 'excellent',\n",
       "        'shame', 'bit', 'man'], dtype='<U15'),\n",
       " array(['overpriced', 'expensive', 'cheap', 'cheaper', 'cheapest',\n",
       "        'decent', 'seriously', 'honestly', 'poorly', 'plus', 'prices',\n",
       "        'worth', 'although', 'even', 'price', 'bother', 'hardly', 'cost',\n",
       "        'terrible', 'despite', 'least', 'extra', 'also', 'awfully',\n",
       "        'neatly', 'too', 'better', 'unnecessarily', 'unfortunately',\n",
       "        'worthless', 'nice', 'fairly', 'costs', 'moreover', 'besides',\n",
       "        'sucks', 'nicely', 'great', 'addition', 'nor', 'else',\n",
       "        'incredibly', 'poor', 'reasonable', 'considerably', 'still',\n",
       "        'fortunately', 'quite', 'though', 'regardless'], dtype='<U15'),\n",
       " array(['promises', 'promised', 'promise', 'unreliable', 'pending',\n",
       "        'guarantee', 'refused', 'hopeless', 'rejected', 'unreachable',\n",
       "        'canceled', 'contract', 'contractual', 'ignored', 'worthless',\n",
       "        'notify', 'contracts', 'postponed', 'failed', 'unpaid',\n",
       "        'dissatisfied', 'unsuccessful', 'signed', 'unacceptable',\n",
       "        'agreement', 'announced', 'agreements', 'dissatisfaction',\n",
       "        'unsatisfactory', 'forgot', 'misinformed', 'assured', 'unresolved',\n",
       "        'unjustified', 'fulfilled', 'expectations', 'avoid', 'overdue',\n",
       "        'cancel', 'terminate', 'delayed', 'loyalty', 'nothing',\n",
       "        'canceling', 'unknown', 'trust', 'unreasonable', 'failure',\n",
       "        'objections', 'endless'], dtype='<U15'),\n",
       " array(['price', 'prices', 'pricing', 'cheaper', 'overpriced', 'cheapest',\n",
       "        'lowest', 'discount', 'discounts', 'lower', 'low', 'cheap',\n",
       "        'reduction', 'reduced', 'rates', 'tariff', 'tariffs', 'reduce',\n",
       "        'deals', 'worth', 'expensive', 'cost', 'less', 'costs', 'value',\n",
       "        'underpayment', 'fees', 'minus', 'fee', 'rate', 'savings',\n",
       "        'amount', 'sell', 'expense', 'overpayment', 'euros', 'cents',\n",
       "        'deductions', 'premium', 'sale', 'pay', 'down', 'refunded',\n",
       "        'expenses', 'values', 'cena', 'sold', 'refund', 'offer', 'offers'],\n",
       "       dtype='<U15')]"
      ]
     },
     "execution_count": 95,
     "metadata": {},
     "output_type": "execute_result"
    }
   ],
   "source": [
    "topic_words"
   ]
  }
 ],
 "metadata": {
  "kernelspec": {
   "display_name": "nlpeon-venv",
   "language": "python",
   "name": "python3"
  },
  "language_info": {
   "codemirror_mode": {
    "name": "ipython",
    "version": 3
   },
   "file_extension": ".py",
   "mimetype": "text/x-python",
   "name": "python",
   "nbconvert_exporter": "python",
   "pygments_lexer": "ipython3",
   "version": "3.10.4"
  }
 },
 "nbformat": 4,
 "nbformat_minor": 2
}
