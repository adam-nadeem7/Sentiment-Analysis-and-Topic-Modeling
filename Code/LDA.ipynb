{
 "cells": [
  {
   "cell_type": "code",
   "execution_count": 22,
   "metadata": {
    "collapsed": true,
    "ExecuteTime": {
     "end_time": "2024-02-04T17:52:51.405807Z",
     "start_time": "2024-02-04T17:52:51.404Z"
    }
   },
   "outputs": [],
   "source": [
    "import pandas as pd\n",
    "import numpy as np\n",
    "import matplotlib.pyplot as plt\n",
    "import seaborn as sns\n",
    "from datetime import datetime"
   ]
  },
  {
   "cell_type": "code",
   "execution_count": 23,
   "outputs": [
    {
     "data": {
      "text/plain": "   ID interview_date  country NPS  \\\n0   1     2022-05-11  Germany   0   \n1   2     2022-07-19   Poland   0   \n2   3     2022-12-14    Italy   8   \n3   4     2022-08-04  Germany  10   \n4   5     2022-08-15   Poland   9   \n\n                                             comment  \\\n0  Die Vertragsänderung meiner Mutter wurde nicht...   \n1            ebok nie dziala - brak wgladu do Faktur   \n2  NON SAPREI. PERCHE' MI SONO TROVATO BENE SEMPR...   \n3  Service auch telefonisch immer erreichbar und ...   \n4         Fachowosc,kompetencje i kultura pracownika   \n\n                                  translated_comment  \n0  My mother&#39;s contract change did not go thr...  \n1         ebok does not work - no access to invoices  \n2  I WOULD NOT KNOW. BECAUSE I HAVE ALWAYS FOUND ...  \n3  Service is always available by phone and you g...  \n4   Professionalism, competence and employee culture  ",
      "text/html": "<div>\n<style scoped>\n    .dataframe tbody tr th:only-of-type {\n        vertical-align: middle;\n    }\n\n    .dataframe tbody tr th {\n        vertical-align: top;\n    }\n\n    .dataframe thead th {\n        text-align: right;\n    }\n</style>\n<table border=\"1\" class=\"dataframe\">\n  <thead>\n    <tr style=\"text-align: right;\">\n      <th></th>\n      <th>ID</th>\n      <th>interview_date</th>\n      <th>country</th>\n      <th>NPS</th>\n      <th>comment</th>\n      <th>translated_comment</th>\n    </tr>\n  </thead>\n  <tbody>\n    <tr>\n      <th>0</th>\n      <td>1</td>\n      <td>2022-05-11</td>\n      <td>Germany</td>\n      <td>0</td>\n      <td>Die Vertragsänderung meiner Mutter wurde nicht...</td>\n      <td>My mother&amp;#39;s contract change did not go thr...</td>\n    </tr>\n    <tr>\n      <th>1</th>\n      <td>2</td>\n      <td>2022-07-19</td>\n      <td>Poland</td>\n      <td>0</td>\n      <td>ebok nie dziala - brak wgladu do Faktur</td>\n      <td>ebok does not work - no access to invoices</td>\n    </tr>\n    <tr>\n      <th>2</th>\n      <td>3</td>\n      <td>2022-12-14</td>\n      <td>Italy</td>\n      <td>8</td>\n      <td>NON SAPREI. PERCHE' MI SONO TROVATO BENE SEMPR...</td>\n      <td>I WOULD NOT KNOW. BECAUSE I HAVE ALWAYS FOUND ...</td>\n    </tr>\n    <tr>\n      <th>3</th>\n      <td>4</td>\n      <td>2022-08-04</td>\n      <td>Germany</td>\n      <td>10</td>\n      <td>Service auch telefonisch immer erreichbar und ...</td>\n      <td>Service is always available by phone and you g...</td>\n    </tr>\n    <tr>\n      <th>4</th>\n      <td>5</td>\n      <td>2022-08-15</td>\n      <td>Poland</td>\n      <td>9</td>\n      <td>Fachowosc,kompetencje i kultura pracownika</td>\n      <td>Professionalism, competence and employee culture</td>\n    </tr>\n  </tbody>\n</table>\n</div>"
     },
     "execution_count": 23,
     "metadata": {},
     "output_type": "execute_result"
    }
   ],
   "source": [
    "file_path = \"anonymized_challenge_dataset.csv\"\n",
    "dataset = pd.read_csv(file_path)\n",
    "\n",
    "# Display the first few rows of the dataset to understand its structure\n",
    "dataset.head()"
   ],
   "metadata": {
    "collapsed": false,
    "ExecuteTime": {
     "end_time": "2024-02-04T17:52:52.864830Z",
     "start_time": "2024-02-04T17:52:51.408837Z"
    }
   }
  },
  {
   "cell_type": "code",
   "execution_count": 23,
   "outputs": [],
   "source": [],
   "metadata": {
    "collapsed": false,
    "ExecuteTime": {
     "end_time": "2024-02-04T17:52:52.867263Z",
     "start_time": "2024-02-04T17:52:52.865326Z"
    }
   }
  },
  {
   "cell_type": "code",
   "execution_count": 24,
   "outputs": [
    {
     "name": "stdout",
     "output_type": "stream",
     "text": [
      "<class 'pandas.core.frame.DataFrame'>\n",
      "RangeIndex: 503952 entries, 0 to 503951\n",
      "Data columns (total 5 columns):\n",
      " #   Column              Non-Null Count   Dtype \n",
      "---  ------              --------------   ----- \n",
      " 0   ID                  503952 non-null  int64 \n",
      " 1   interview_date      502936 non-null  object\n",
      " 2   country             502566 non-null  object\n",
      " 3   NPS                 500699 non-null  object\n",
      " 4   translated_comment  497321 non-null  object\n",
      "dtypes: int64(1), object(4)\n",
      "memory usage: 19.2+ MB\n",
      "None\n"
     ]
    }
   ],
   "source": [
    "# Data Cleaning\n",
    "dataset = dataset.drop(\"comment\", axis = 1)\n",
    "print(dataset.info())\n",
    "\n",
    "# Check for missing values\n",
    "missing_values = dataset.isnull().sum()\n",
    "\n",
    "# Initial analysis of NPS values (checking for outliers or inappropriate values)\n",
    "dataset['NPS'] = pd.to_numeric(dataset['NPS'], errors='coerce')\n",
    "nps_summary = dataset['NPS'].describe()\n",
    "\n",
    "# Convert 'interview_date' to datetime\n",
    "dataset['interview_date'] = pd.to_datetime(dataset['interview_date'], errors='coerce')\n",
    "\n",
    "# Check data types\n",
    "data_types = dataset.dtypes"
   ],
   "metadata": {
    "collapsed": false,
    "ExecuteTime": {
     "end_time": "2024-02-04T17:52:53.185284Z",
     "start_time": "2024-02-04T17:52:52.870627Z"
    }
   }
  },
  {
   "cell_type": "code",
   "execution_count": 25,
   "outputs": [],
   "source": [
    "# Investigating the outlier in NPS\n",
    "dataset = dataset[dataset['NPS'] < 11]\n",
    "\n",
    "# Recheck NPS summary after handling outliers\n",
    "nps_summary_cleaned = dataset['NPS'].describe()\n",
    "\n",
    "dataset = dataset[dataset['translated_comment'].notnull()]\n",
    "dataset.dropna(subset=['interview_date'], inplace=True)\n",
    "\n",
    "\n",
    "# Convert results to a dictionary for easier interpretation\n",
    "cleaning_results = {\n",
    "    \"missing_values\": dataset.isnull().sum().to_dict(),\n",
    "    \"nps_summary_cleaned\": nps_summary_cleaned.to_dict()\n",
    "}"
   ],
   "metadata": {
    "collapsed": false,
    "ExecuteTime": {
     "end_time": "2024-02-04T17:52:53.307999Z",
     "start_time": "2024-02-04T17:52:53.187489Z"
    }
   }
  },
  {
   "cell_type": "code",
   "execution_count": 26,
   "outputs": [
    {
     "data": {
      "text/plain": "country\nNetherlands       153148\nCzech             130030\nGermany            48484\nRomania            41674\nPoland             34981\nItaly              32409\nSweden             30512\nHungary            24994\nCzech Republic       667\nUnited Kingdom       397\nName: count, dtype: int64"
     },
     "execution_count": 26,
     "metadata": {},
     "output_type": "execute_result"
    }
   ],
   "source": [
    "keep_countries = ['Germany', 'Poland', 'Italy', 'Romania', 'Sweden', 'Netherlands', 'Czech',\n",
    "                          'Czech Republic', 'United Kingdom', 'Hungary']\n",
    "df = dataset[dataset['country'].isin(keep_countries)]\n",
    "df['country'].value_counts()"
   ],
   "metadata": {
    "collapsed": false,
    "ExecuteTime": {
     "end_time": "2024-02-04T17:52:53.354131Z",
     "start_time": "2024-02-04T17:52:53.323409Z"
    }
   }
  },
  {
   "cell_type": "code",
   "execution_count": 27,
   "outputs": [],
   "source": [
    "country_mapping = {'Czech Republic': 'Czech'}\n",
    "df['country'] = df['country'].replace(country_mapping)"
   ],
   "metadata": {
    "collapsed": false,
    "ExecuteTime": {
     "end_time": "2024-02-04T17:52:53.395373Z",
     "start_time": "2024-02-04T17:52:53.366273Z"
    }
   }
  },
  {
   "cell_type": "code",
   "execution_count": 28,
   "outputs": [],
   "source": [
    "def customerType(dataset):\n",
    "    if dataset[\"NPS\"] >= 9:\n",
    "        return \"promoters\"\n",
    "    elif (dataset[\"NPS\"] == 7 or dataset[\"NPS\"] == 8):\n",
    "        return \"passives\"\n",
    "    elif dataset[\"NPS\"] <= 6:\n",
    "        return \"detractors\"\n",
    "\n",
    "df[\"customer_type\"] = dataset.apply(customerType, axis = 1)"
   ],
   "metadata": {
    "collapsed": false,
    "ExecuteTime": {
     "end_time": "2024-02-04T17:52:56.211934Z",
     "start_time": "2024-02-04T17:52:53.392297Z"
    }
   }
  },
  {
   "cell_type": "code",
   "execution_count": 31,
   "outputs": [
    {
     "name": "stderr",
     "output_type": "stream",
     "text": [
      "[nltk_data] Downloading package punkt to /Users/pati/nltk_data...\n",
      "[nltk_data]   Package punkt is already up-to-date!\n",
      "[nltk_data] Downloading package stopwords to /Users/pati/nltk_data...\n",
      "[nltk_data]   Package stopwords is already up-to-date!\n",
      "[nltk_data] Downloading package wordnet to /Users/pati/nltk_data...\n",
      "[nltk_data]   Package wordnet is already up-to-date!\n"
     ]
    }
   ],
   "source": [
    "from nltk.corpus import stopwords\n",
    "from nltk.tokenize import word_tokenize\n",
    "from nltk.stem import WordNetLemmatizer\n",
    "import nltk\n",
    "import re\n",
    "\n",
    "# Downloading necessary NLTK resources\n",
    "nltk.download('punkt')\n",
    "nltk.download('stopwords')\n",
    "nltk.download('wordnet')\n",
    "\n",
    "sw_nltk = stopwords.words('english')\n",
    "#sw_nltk.remove('not')\n",
    "#sw_nltk.remove('no')\n",
    "# #sw_nltk.remove('nor')\n",
    "\n",
    "\n",
    "# sw_nltk.remove(\"aren't\")\n",
    "# sw_nltk.remove(\"couldn't\")\n",
    "# sw_nltk.remove(\"didn't\")\n",
    "stop_words = [word for word in sw_nltk if word not in sw_nltk[-36:]]\n",
    "# sw_nltk.remove([sw_nltk[-36:]])\n",
    "\n",
    "# Initializing the lemmatizer\n",
    "lemmatizer = WordNetLemmatizer()"
   ],
   "metadata": {
    "collapsed": false,
    "ExecuteTime": {
     "end_time": "2024-02-04T17:56:32.876980Z",
     "start_time": "2024-02-04T17:56:32.875601Z"
    }
   }
  },
  {
   "cell_type": "code",
   "execution_count": 32,
   "outputs": [],
   "source": [
    "import string\n",
    "def preprocess_text(text):\n",
    "    # Convert to lower case\n",
    "    text = text.lower()\n",
    "    # Remove punctuation\n",
    "    text = text.translate(str.maketrans('', '', string.punctuation))\n",
    "    # Tokenization\n",
    "    words = nltk.word_tokenize(text)\n",
    "    # Remove stopwords\n",
    "    words = [word for word in words if word not in stop_words]\n",
    "    # Joining back into a string\n",
    "    text = ' '.join(words)\n",
    "    return text\n",
    "\n",
    "# df['comment_preprocessed'] = df['comment'].apply(preprocess_text)\n",
    "df[\"translated_comment\"] = df[\"translated_comment\"].str.replace(\"&#39;\",\"\\'\")\n",
    "df['translated_comment_preprocessed'] = df['translated_comment'].apply(preprocess_text)\n",
    "\n",
    "df[\"translated_comment_preprocessed\"] = df[\"translated_comment_preprocessed\"].str.replace(\"quot\", \"\", regex = False)"
   ],
   "metadata": {
    "collapsed": false,
    "ExecuteTime": {
     "end_time": "2024-02-04T17:57:16.479676Z",
     "start_time": "2024-02-04T17:56:45.346555Z"
    }
   }
  },
  {
   "cell_type": "code",
   "execution_count": 33,
   "outputs": [],
   "source": [
    "def is_numeric(text):\n",
    "    \"\"\"\n",
    "    Check if the given text is entirely numeric.\n",
    "    \"\"\"\n",
    "    return text.isdigit() if isinstance(text, str) else False\n",
    "\n",
    "# Filter out rows where the comments are entirely numeric\n",
    "df = df[~df['translated_comment_preprocessed'].apply(is_numeric)]"
   ],
   "metadata": {
    "collapsed": false,
    "ExecuteTime": {
     "end_time": "2024-02-04T17:57:43.851086Z",
     "start_time": "2024-02-04T17:57:43.707686Z"
    }
   }
  },
  {
   "cell_type": "code",
   "execution_count": 34,
   "outputs": [],
   "source": [
    "import re\n",
    "\n",
    "def remove_emojis(text):\n",
    "    \"\"\"\n",
    "    Remove emojis from the given text.\n",
    "    \"\"\"\n",
    "    # Emoji patterns\n",
    "    emoji_pattern = re.compile(\"[\"\n",
    "                           u\"\\U0001F600-\\U0001F64F\"  # emoticons\n",
    "                           u\"\\U0001F300-\\U0001F5FF\"  # symbols & pictographs\n",
    "                           u\"\\U0001F680-\\U0001F6FF\"  # transport & map symbols\n",
    "                           u\"\\U0001F1E0-\\U0001F1FF\"  # flags (iOS)\n",
    "                           u\"\\U00002702-\\U000027B0\"\n",
    "                           u\"\\U000024C2-\\U0001F251\"\n",
    "                           \"]+\", flags=re.UNICODE)\n",
    "    return emoji_pattern.sub(r'', text)\n",
    "\n",
    "# Apply the function to the relevant columns\n",
    "df['translated_comment_preprocessed'] = df['translated_comment_preprocessed'].apply(remove_emojis)"
   ],
   "metadata": {
    "collapsed": false,
    "ExecuteTime": {
     "end_time": "2024-02-04T17:57:49.660056Z",
     "start_time": "2024-02-04T17:57:48.575190Z"
    }
   }
  },
  {
   "cell_type": "code",
   "execution_count": 35,
   "outputs": [
    {
     "name": "stderr",
     "output_type": "stream",
     "text": [
      "/var/folders/7d/3j289sn94z33yg9kjh93rgf80000gn/T/ipykernel_2729/3434058970.py:4: SettingWithCopyWarning: \n",
      "A value is trying to be set on a copy of a slice from a DataFrame.\n",
      "Try using .loc[row_indexer,col_indexer] = value instead\n",
      "\n",
      "See the caveats in the documentation: https://pandas.pydata.org/pandas-docs/stable/user_guide/indexing.html#returning-a-view-versus-a-copy\n",
      "  dataset['comment_length_2'] = dataset['translated_comment_preprocessed'].str.len()\n"
     ]
    }
   ],
   "source": [
    "df['comment_length'] = df['translated_comment_preprocessed'].apply(lambda x : len(x))\n",
    "dataset = df[df['comment_length'] > 1]\n",
    "\n",
    "dataset['comment_length_2'] = dataset['translated_comment_preprocessed'].str.len()\n",
    "dataset = dataset[dataset['comment_length_2'] > 0]\n",
    "\n",
    "dataset = dataset.dropna(subset=[\"translated_comment_preprocessed\"])\n",
    "dataset.drop('comment_length_2', axis=1, inplace=True)"
   ],
   "metadata": {
    "collapsed": false,
    "ExecuteTime": {
     "end_time": "2024-02-04T17:57:51.317946Z",
     "start_time": "2024-02-04T17:57:50.901799Z"
    }
   }
  },
  {
   "cell_type": "code",
   "execution_count": 36,
   "outputs": [],
   "source": [
    "dataset.to_csv('cleaned_dataset_100.csv', index=False)"
   ],
   "metadata": {
    "collapsed": false,
    "ExecuteTime": {
     "end_time": "2024-02-04T17:57:55.046158Z",
     "start_time": "2024-02-04T17:57:53.152341Z"
    }
   }
  },
  {
   "cell_type": "code",
   "execution_count": 37,
   "outputs": [],
   "source": [
    "df_percent = dataset.sample(frac=0.1)\n",
    "df_percent.to_csv('cleaned_dataset_100_10percent.csv', index=False)"
   ],
   "metadata": {
    "collapsed": false,
    "ExecuteTime": {
     "end_time": "2024-02-04T17:57:55.996163Z",
     "start_time": "2024-02-04T17:57:55.733294Z"
    }
   }
  },
  {
   "cell_type": "code",
   "execution_count": 88,
   "outputs": [
    {
     "name": "stdout",
     "output_type": "stream",
     "text": [
      "done with tokenization\n"
     ]
    }
   ],
   "source": [
    "import os\n",
    "from gensim.models import LdaModel\n",
    "from gensim import corpora  # Tokenization\n",
    "dataset = dataset[(dataset['NPS'] <= 6)]\n",
    "tokenized_docs = [word_tokenize(doc.lower()) for doc in dataset['translated_comment_preprocessed']]\n",
    "print(\"done with tokenization\")\n",
    "\n",
    "from gensim.models import Phrases\n",
    "from gensim.models.phrases import Phraser\n",
    "import pyLDAvis.gensim_models as gensimvis\n",
    "import pyLDAvis\n",
    "from gensim.models.coherencemodel import CoherenceModel\n",
    "\n",
    "\n",
    "# Build the bigram models\n",
    "#bigram = Phrases(tokenized_docs, min_count=2, threshold=5)  # higher threshold fewer phrases\n",
    "#bigram_mod = Phraser(bigram)\n",
    "\n",
    "# Apply the models to the tokenized docs\n",
    "#bigram_docs = [bigram_mod[doc] for doc in tokenized_docs]\n",
    "\n",
    "\n",
    "# Dictionary and Corpus\n",
    "dictionary = corpora.Dictionary(tokenized_docs)\n",
    "dictionary.filter_extremes()\n",
    "corpus = [dictionary.doc2bow(text) for text in tokenized_docs]\n",
    "\n",
    "# LDA Model\n",
    "lda_model = LdaModel(corpus, num_topics=9, id2word=dictionary, passes=30, alpha='auto', eta='auto')"
   ],
   "metadata": {
    "collapsed": false,
    "ExecuteTime": {
     "end_time": "2024-02-05T12:42:28.685082Z",
     "start_time": "2024-02-05T12:39:59.451399Z"
    }
   }
  },
  {
   "cell_type": "code",
   "execution_count": 87,
   "outputs": [
    {
     "name": "stdout",
     "output_type": "stream",
     "text": [
      "one down 0.642589970020583\n",
      "one down 0.6502093985636616\n",
      "one down 0.6510404178804576\n",
      "one down 0.6660971370188418\n",
      "one down 0.6458128396803969\n",
      "one down 0.6132130304007789\n",
      "one down 0.6628177038804354\n",
      "one down 0.6113108646887729\n",
      "one down 0.6296642810987029\n",
      "one down 0.63816981544017\n",
      "one down 0.6087262026271116\n",
      "one down 0.6076305554180648\n",
      "one down 0.630488733617124\n",
      "one down 0.6015620371461161\n",
      "one down 0.5868751652017856\n",
      "one down 0.6096635838127193\n",
      "one down 0.5909888093667274\n",
      "one down 0.5791382156202213\n",
      "one down 0.5840097174412971\n",
      "one down 0.5773682550453793\n",
      "one down 0.563563410486932\n",
      "one down 0.571377349271367\n",
      "one down 0.5864471166759112\n",
      "one down 0.5621831752863081\n",
      "one down 0.5583385557577716\n",
      "one down 0.5496057495516775\n",
      "one down 0.5292327572478748\n",
      "one down 0.562755471154976\n",
      "one down 0.5508394870554895\n",
      "one down 0.5391587077881534\n",
      "one down 0.5414784564631206\n",
      "one down 0.5241070450818176\n",
      "one down 0.5246567103751271\n",
      "one down 0.5077756227494503\n",
      "one down 0.5032786127082203\n",
      "one down 0.5074577460413144\n",
      "one down 0.5067683948943894\n",
      "one down 0.48439133739388157\n",
      "one down 0.46969853184496285\n",
      "one down 0.4832437036520336\n",
      "one down 0.474788650877756\n",
      "one down 0.48009417559211376\n",
      "one down 0.4716614606704626\n",
      "one down 0.45997122541082075\n",
      "one down 0.46943883587478974\n"
     ]
    },
    {
     "ename": "KeyboardInterrupt",
     "evalue": "",
     "output_type": "error",
     "traceback": [
      "\u001B[0;31m---------------------------------------------------------------------------\u001B[0m",
      "\u001B[0;31mKeyboardInterrupt\u001B[0m                         Traceback (most recent call last)",
      "Cell \u001B[0;32mIn[87], line 16\u001B[0m\n\u001B[1;32m     14\u001B[0m start \u001B[38;5;241m=\u001B[39m \u001B[38;5;241m6\u001B[39m\n\u001B[1;32m     15\u001B[0m step \u001B[38;5;241m=\u001B[39m \u001B[38;5;241m1\u001B[39m\n\u001B[0;32m---> 16\u001B[0m model_list, coherence_values \u001B[38;5;241m=\u001B[39m \u001B[43mcompute_coherence_values\u001B[49m\u001B[43m(\u001B[49m\u001B[43mdictionary\u001B[49m\u001B[38;5;241;43m=\u001B[39;49m\u001B[43mdictionary\u001B[49m\u001B[43m,\u001B[49m\u001B[43m \u001B[49m\u001B[43mcorpus\u001B[49m\u001B[38;5;241;43m=\u001B[39;49m\u001B[43mcorpus\u001B[49m\u001B[43m,\u001B[49m\u001B[43m \u001B[49m\u001B[43mtexts\u001B[49m\u001B[38;5;241;43m=\u001B[39;49m\u001B[43mtokenized_docs\u001B[49m\u001B[43m,\u001B[49m\u001B[43m \u001B[49m\u001B[43mstart\u001B[49m\u001B[38;5;241;43m=\u001B[39;49m\u001B[43mstart\u001B[49m\u001B[43m,\u001B[49m\u001B[43m \u001B[49m\u001B[43mlimit\u001B[49m\u001B[38;5;241;43m=\u001B[39;49m\u001B[43mlimit\u001B[49m\u001B[43m,\u001B[49m\u001B[43m \u001B[49m\u001B[43mstep\u001B[49m\u001B[38;5;241;43m=\u001B[39;49m\u001B[43mstep\u001B[49m\u001B[43m)\u001B[49m\n",
      "Cell \u001B[0;32mIn[87], line 9\u001B[0m, in \u001B[0;36mcompute_coherence_values\u001B[0;34m(dictionary, corpus, texts, limit, start, step)\u001B[0m\n\u001B[1;32m      7\u001B[0m     coherencemodel \u001B[38;5;241m=\u001B[39m CoherenceModel(model\u001B[38;5;241m=\u001B[39mmodel, texts\u001B[38;5;241m=\u001B[39mtexts, dictionary\u001B[38;5;241m=\u001B[39mdictionary, coherence\u001B[38;5;241m=\u001B[39m\u001B[38;5;124m'\u001B[39m\u001B[38;5;124mc_v\u001B[39m\u001B[38;5;124m'\u001B[39m)\n\u001B[1;32m      8\u001B[0m     coherence_values\u001B[38;5;241m.\u001B[39mappend(coherencemodel\u001B[38;5;241m.\u001B[39mget_coherence())\n\u001B[0;32m----> 9\u001B[0m     \u001B[38;5;28mprint\u001B[39m(\u001B[38;5;124m\"\u001B[39m\u001B[38;5;124mone down \u001B[39m\u001B[38;5;124m\"\u001B[39m \u001B[38;5;241m+\u001B[39m \u001B[38;5;28mstr\u001B[39m(\u001B[43mcoherencemodel\u001B[49m\u001B[38;5;241;43m.\u001B[39;49m\u001B[43mget_coherence\u001B[49m\u001B[43m(\u001B[49m\u001B[43m)\u001B[49m))\n\u001B[1;32m     11\u001B[0m \u001B[38;5;28;01mreturn\u001B[39;00m model_list, coherence_values\n",
      "File \u001B[0;32m~/Documents/eon/venv/lib/python3.11/site-packages/gensim/models/coherencemodel.py:614\u001B[0m, in \u001B[0;36mCoherenceModel.get_coherence\u001B[0;34m(self)\u001B[0m\n\u001B[1;32m    605\u001B[0m \u001B[38;5;28;01mdef\u001B[39;00m \u001B[38;5;21mget_coherence\u001B[39m(\u001B[38;5;28mself\u001B[39m):\n\u001B[1;32m    606\u001B[0m \u001B[38;5;250m    \u001B[39m\u001B[38;5;124;03m\"\"\"Get coherence value based on pipeline parameters.\u001B[39;00m\n\u001B[1;32m    607\u001B[0m \n\u001B[1;32m    608\u001B[0m \u001B[38;5;124;03m    Returns\u001B[39;00m\n\u001B[0;32m   (...)\u001B[0m\n\u001B[1;32m    612\u001B[0m \n\u001B[1;32m    613\u001B[0m \u001B[38;5;124;03m    \"\"\"\u001B[39;00m\n\u001B[0;32m--> 614\u001B[0m     confirmed_measures \u001B[38;5;241m=\u001B[39m \u001B[38;5;28;43mself\u001B[39;49m\u001B[38;5;241;43m.\u001B[39;49m\u001B[43mget_coherence_per_topic\u001B[49m\u001B[43m(\u001B[49m\u001B[43m)\u001B[49m\n\u001B[1;32m    615\u001B[0m     \u001B[38;5;28;01mreturn\u001B[39;00m \u001B[38;5;28mself\u001B[39m\u001B[38;5;241m.\u001B[39maggregate_measures(confirmed_measures)\n",
      "File \u001B[0;32m~/Documents/eon/venv/lib/python3.11/site-packages/gensim/models/coherencemodel.py:586\u001B[0m, in \u001B[0;36mCoherenceModel.get_coherence_per_topic\u001B[0;34m(self, segmented_topics, with_std, with_support)\u001B[0m\n\u001B[1;32m    583\u001B[0m \u001B[38;5;28;01melse\u001B[39;00m:\n\u001B[1;32m    584\u001B[0m     kwargs[\u001B[38;5;124m'\u001B[39m\u001B[38;5;124mnormalize\u001B[39m\u001B[38;5;124m'\u001B[39m] \u001B[38;5;241m=\u001B[39m (\u001B[38;5;28mself\u001B[39m\u001B[38;5;241m.\u001B[39mcoherence \u001B[38;5;241m==\u001B[39m \u001B[38;5;124m'\u001B[39m\u001B[38;5;124mc_npmi\u001B[39m\u001B[38;5;124m'\u001B[39m)\n\u001B[0;32m--> 586\u001B[0m \u001B[38;5;28;01mreturn\u001B[39;00m \u001B[43mmeasure\u001B[49m\u001B[38;5;241;43m.\u001B[39;49m\u001B[43mconf\u001B[49m\u001B[43m(\u001B[49m\u001B[43msegmented_topics\u001B[49m\u001B[43m,\u001B[49m\u001B[43m \u001B[49m\u001B[38;5;28;43mself\u001B[39;49m\u001B[38;5;241;43m.\u001B[39;49m\u001B[43m_accumulator\u001B[49m\u001B[43m,\u001B[49m\u001B[43m \u001B[49m\u001B[38;5;241;43m*\u001B[39;49m\u001B[38;5;241;43m*\u001B[39;49m\u001B[43mkwargs\u001B[49m\u001B[43m)\u001B[49m\n",
      "File \u001B[0;32m~/Documents/eon/venv/lib/python3.11/site-packages/gensim/topic_coherence/indirect_confirmation_measure.py:177\u001B[0m, in \u001B[0;36mcosine_similarity\u001B[0;34m(segmented_topics, accumulator, topics, measure, gamma, with_std, with_support)\u001B[0m\n\u001B[1;32m    175\u001B[0m \u001B[38;5;28;01mfor\u001B[39;00m i, (w_prime, w_star) \u001B[38;5;129;01min\u001B[39;00m \u001B[38;5;28menumerate\u001B[39m(topic_segments):\n\u001B[1;32m    176\u001B[0m     w_prime_cv \u001B[38;5;241m=\u001B[39m context_vectors[w_prime, topic_words]\n\u001B[0;32m--> 177\u001B[0m     w_star_cv \u001B[38;5;241m=\u001B[39m \u001B[43mcontext_vectors\u001B[49m\u001B[43m[\u001B[49m\u001B[43mw_star\u001B[49m\u001B[43m,\u001B[49m\u001B[43m \u001B[49m\u001B[43mtopic_words\u001B[49m\u001B[43m]\u001B[49m\n\u001B[1;32m    178\u001B[0m     segment_sims[i] \u001B[38;5;241m=\u001B[39m _cossim(w_prime_cv, w_star_cv)\n\u001B[1;32m    180\u001B[0m topic_coherences\u001B[38;5;241m.\u001B[39mappend(aggregate_segment_sims(segment_sims, with_std, with_support))\n",
      "File \u001B[0;32m~/Documents/eon/venv/lib/python3.11/site-packages/gensim/topic_coherence/indirect_confirmation_measure.py:248\u001B[0m, in \u001B[0;36mContextVectorComputer.__getitem__\u001B[0;34m(self, idx)\u001B[0m\n\u001B[1;32m    247\u001B[0m \u001B[38;5;28;01mdef\u001B[39;00m \u001B[38;5;21m__getitem__\u001B[39m(\u001B[38;5;28mself\u001B[39m, idx):\n\u001B[0;32m--> 248\u001B[0m     \u001B[38;5;28;01mreturn\u001B[39;00m \u001B[38;5;28;43mself\u001B[39;49m\u001B[38;5;241;43m.\u001B[39;49m\u001B[43mcompute_context_vector\u001B[49m\u001B[43m(\u001B[49m\u001B[38;5;241;43m*\u001B[39;49m\u001B[43midx\u001B[49m\u001B[43m)\u001B[49m\n",
      "File \u001B[0;32m~/Documents/eon/venv/lib/python3.11/site-packages/gensim/topic_coherence/indirect_confirmation_measure.py:269\u001B[0m, in \u001B[0;36mContextVectorComputer.compute_context_vector\u001B[0;34m(self, segment_word_ids, topic_word_ids)\u001B[0m\n\u001B[1;32m    267\u001B[0m context_vector \u001B[38;5;241m=\u001B[39m \u001B[38;5;28mself\u001B[39m\u001B[38;5;241m.\u001B[39mcontext_vector_cache\u001B[38;5;241m.\u001B[39mget(key, \u001B[38;5;28;01mNone\u001B[39;00m)\n\u001B[1;32m    268\u001B[0m \u001B[38;5;28;01mif\u001B[39;00m context_vector \u001B[38;5;129;01mis\u001B[39;00m \u001B[38;5;28;01mNone\u001B[39;00m:\n\u001B[0;32m--> 269\u001B[0m     context_vector \u001B[38;5;241m=\u001B[39m \u001B[38;5;28;43mself\u001B[39;49m\u001B[38;5;241;43m.\u001B[39;49m\u001B[43m_make_seg\u001B[49m\u001B[43m(\u001B[49m\u001B[43msegment_word_ids\u001B[49m\u001B[43m,\u001B[49m\u001B[43m \u001B[49m\u001B[43mtopic_word_ids\u001B[49m\u001B[43m)\u001B[49m\n\u001B[1;32m    270\u001B[0m     \u001B[38;5;28mself\u001B[39m\u001B[38;5;241m.\u001B[39mcontext_vector_cache[key] \u001B[38;5;241m=\u001B[39m context_vector\n\u001B[1;32m    271\u001B[0m \u001B[38;5;28;01mreturn\u001B[39;00m context_vector\n",
      "File \u001B[0;32m~/Documents/eon/venv/lib/python3.11/site-packages/gensim/topic_coherence/indirect_confirmation_measure.py:300\u001B[0m, in \u001B[0;36mContextVectorComputer._make_seg\u001B[0;34m(self, segment_word_ids, topic_word_ids)\u001B[0m\n\u001B[1;32m    296\u001B[0m             \u001B[38;5;28mself\u001B[39m\u001B[38;5;241m.\u001B[39msim_cache[pair] \u001B[38;5;241m=\u001B[39m \u001B[38;5;28mself\u001B[39m\u001B[38;5;241m.\u001B[39msimilarity(pair, \u001B[38;5;28mself\u001B[39m\u001B[38;5;241m.\u001B[39maccumulator)\n\u001B[1;32m    298\u001B[0m         context_vector[idx] \u001B[38;5;241m+\u001B[39m\u001B[38;5;241m=\u001B[39m \u001B[38;5;28mself\u001B[39m\u001B[38;5;241m.\u001B[39msim_cache[pair] \u001B[38;5;241m*\u001B[39m\u001B[38;5;241m*\u001B[39m \u001B[38;5;28mself\u001B[39m\u001B[38;5;241m.\u001B[39mgamma\n\u001B[0;32m--> 300\u001B[0m \u001B[38;5;28;01mreturn\u001B[39;00m \u001B[43mcontext_vector\u001B[49m\u001B[38;5;241;43m.\u001B[39;49m\u001B[43mtocsr\u001B[49m\u001B[43m(\u001B[49m\u001B[43m)\u001B[49m\n",
      "File \u001B[0;32m~/Documents/eon/venv/lib/python3.11/site-packages/scipy/sparse/_lil.py:479\u001B[0m, in \u001B[0;36m_lil_base.tocsr\u001B[0;34m(self, copy)\u001B[0m\n\u001B[1;32m    476\u001B[0m _csparsetools\u001B[38;5;241m.\u001B[39mlil_flatten_to_array(\u001B[38;5;28mself\u001B[39m\u001B[38;5;241m.\u001B[39mdata, data)\n\u001B[1;32m    478\u001B[0m \u001B[38;5;66;03m# init csr matrix\u001B[39;00m\n\u001B[0;32m--> 479\u001B[0m \u001B[38;5;28;01mreturn\u001B[39;00m \u001B[38;5;28;43mself\u001B[39;49m\u001B[38;5;241;43m.\u001B[39;49m\u001B[43m_csr_container\u001B[49m((data, indices, indptr), shape\u001B[38;5;241m=\u001B[39m\u001B[38;5;28mself\u001B[39m\u001B[38;5;241m.\u001B[39mshape)\n",
      "File \u001B[0;32m~/Documents/eon/venv/lib/python3.11/site-packages/scipy/sparse/_matrix.py:28\u001B[0m, in \u001B[0;36mspmatrix._csr_container\u001B[0;34m(self)\u001B[0m\n\u001B[1;32m     26\u001B[0m \u001B[38;5;129m@property\u001B[39m\n\u001B[1;32m     27\u001B[0m \u001B[38;5;28;01mdef\u001B[39;00m \u001B[38;5;21m_csr_container\u001B[39m(\u001B[38;5;28mself\u001B[39m):\n\u001B[0;32m---> 28\u001B[0m     \u001B[38;5;28;01mfrom\u001B[39;00m \u001B[38;5;21;01m.\u001B[39;00m\u001B[38;5;21;01m_csr\u001B[39;00m \u001B[38;5;28;01mimport\u001B[39;00m csr_matrix\n\u001B[1;32m     29\u001B[0m     \u001B[38;5;28;01mreturn\u001B[39;00m csr_matrix\n",
      "File \u001B[0;32m<frozen importlib._bootstrap>:405\u001B[0m, in \u001B[0;36mparent\u001B[0;34m(self)\u001B[0m\n",
      "\u001B[0;31mKeyboardInterrupt\u001B[0m: "
     ]
    }
   ],
   "source": [
    "def compute_coherence_values(dictionary, corpus, texts, limit, start, step):\n",
    "    coherence_values = []\n",
    "    model_list = []\n",
    "    for num_topics in range(start, limit, step):\n",
    "        model = LdaModel(corpus=corpus, num_topics=num_topics, id2word=dictionary)\n",
    "        model_list.append(model)\n",
    "        coherencemodel = CoherenceModel(model=model, texts=texts, dictionary=dictionary, coherence='c_v')\n",
    "        coherence_values.append(coherencemodel.get_coherence())\n",
    "        print(\"one down \" + str(coherencemodel.get_coherence()))\n",
    "\n",
    "    return model_list, coherence_values\n",
    "\n",
    "limit = 100\n",
    "start = 6\n",
    "step = 1\n",
    "model_list, coherence_values = compute_coherence_values(dictionary=dictionary, corpus=corpus, texts=tokenized_docs, start=start, limit=limit, step=step)\n",
    "\n",
    "\"\"\" one down 0.642589970020583\n",
    "one down 0.6502093985636616\n",
    "one down 0.6510404178804576\n",
    "one down 0.6660971370188418\n",
    "one down 0.6458128396803969\n",
    "one down 0.6132130304007789\n",
    "one down 0.6628177038804354\n",
    "one down 0.6113108646887729\n",
    "one down 0.6296642810987029\n",
    "one down 0.63816981544017\n",
    "one down 0.6087262026271116\n",
    "one down 0.6076305554180648\n",
    "one down 0.630488733617124\n",
    "one down 0.6015620371461161\n",
    "one down 0.5868751652017856\n",
    "one down 0.6096635838127193\n",
    "one down 0.5909888093667274\n",
    "one down 0.5791382156202213\n",
    "one down 0.5840097174412971\n",
    "one down 0.5773682550453793\n",
    "one down 0.563563410486932\n",
    "one down 0.571377349271367\n",
    "one down 0.5864471166759112\n",
    "one down 0.5621831752863081\n",
    "one down 0.5583385557577716\n",
    "one down 0.5496057495516775\n",
    "one down 0.5292327572478748\n",
    "one down 0.562755471154976\n",
    "\"\"\""
   ],
   "metadata": {
    "collapsed": false,
    "ExecuteTime": {
     "end_time": "2024-02-05T12:39:21.871522Z",
     "start_time": "2024-02-05T12:26:19.940743Z"
    }
   }
  },
  {
   "cell_type": "code",
   "execution_count": 89,
   "outputs": [
    {
     "ename": "NameError",
     "evalue": "name 'coherence_values' is not defined",
     "output_type": "error",
     "traceback": [
      "\u001B[0;31m---------------------------------------------------------------------------\u001B[0m",
      "\u001B[0;31mNameError\u001B[0m                                 Traceback (most recent call last)",
      "Cell \u001B[0;32mIn[89], line 1\u001B[0m\n\u001B[0;32m----> 1\u001B[0m \u001B[38;5;28mprint\u001B[39m(\u001B[43mcoherence_values\u001B[49m)\n",
      "\u001B[0;31mNameError\u001B[0m: name 'coherence_values' is not defined"
     ]
    }
   ],
   "source": [
    "print(coherence_values)"
   ],
   "metadata": {
    "collapsed": false,
    "ExecuteTime": {
     "end_time": "2024-02-05T12:43:10.865578Z",
     "start_time": "2024-02-05T12:43:10.811455Z"
    }
   }
  },
  {
   "cell_type": "code",
   "execution_count": null,
   "outputs": [],
   "source": [
    "max(coherence_values)"
   ],
   "metadata": {
    "collapsed": false
   }
  },
  {
   "cell_type": "code",
   "execution_count": 90,
   "outputs": [
    {
     "data": {
      "text/plain": "[(0,\n  '0.039*\"work\" + 0.029*\"possible\" + 0.027*\"change\" + 0.027*\"website\" + 0.026*\"account\" + 0.025*\"online\" + 0.024*\"problems\" + 0.023*\"portal\" + 0.020*\"data\" + 0.020*\"doesnt\"'),\n (1,\n  '0.071*\"meter\" + 0.051*\"information\" + 0.046*\"invoice\" + 0.033*\"receive\" + 0.032*\"reading\" + 0.030*\"payment\" + 0.028*\"invoices\" + 0.019*\"innogy\" + 0.017*\"date\" + 0.017*\"despite\"'),\n (2,\n  '0.068*\"electricity\" + 0.053*\"price\" + 0.039*\"pay\" + 0.031*\"bill\" + 0.031*\"prices\" + 0.028*\"gas\" + 0.026*\"consumption\" + 0.024*\"high\" + 0.023*\"expensive\" + 0.023*\"month\"'),\n (3,\n  '0.104*\"time\" + 0.082*\"service\" + 0.064*\"long\" + 0.042*\"bad\" + 0.034*\"waiting\" + 0.027*\"took\" + 0.027*\"better\" + 0.021*\"communication\" + 0.019*\"lot\" + 0.018*\"connection\"'),\n (4,\n  '0.081*\"energy\" + 0.066*\"recommend\" + 0.058*\"company\" + 0.050*\"never\" + 0.041*\"supplier\" + 0.031*\"anyone\" + 0.025*\"cheaper\" + 0.022*\"i\" + 0.020*\"reason\" + 0.019*\"talk\"'),\n (5,\n  '0.058*\"get\" + 0.043*\"phone\" + 0.041*\"cant\" + 0.040*\"contact\" + 0.032*\"call\" + 0.027*\"times\" + 0.022*\"called\" + 0.021*\"difficult\" + 0.020*\"back\" + 0.019*\"employee\"'),\n (6,\n  '0.091*\"answer\" + 0.067*\"question\" + 0.057*\"nothing\" + 0.031*\"clear\" + 0.027*\"questions\" + 0.022*\"ask\" + 0.021*\"answered\" + 0.017*\"opinion\" + 0.015*\"advice\" + 0.014*\"answers\"'),\n (7,\n  '0.059*\"customer\" + 0.049*\"dont\" + 0.033*\"essent\" + 0.028*\"know\" + 0.024*\"see\" + 0.020*\"im\" + 0.017*\"customers\" + 0.017*\"like\" + 0.016*\"good\" + 0.016*\"years\"'),\n (8,\n  '0.045*\"contract\" + 0.032*\"eon\" + 0.022*\"would\" + 0.018*\"one\" + 0.018*\"new\" + 0.018*\"still\" + 0.017*\"email\" + 0.016*\"received\" + 0.016*\"didnt\" + 0.016*\"months\"')]"
     },
     "execution_count": 90,
     "metadata": {},
     "output_type": "execute_result"
    }
   ],
   "source": [
    "lda_model.print_topics()"
   ],
   "metadata": {
    "collapsed": false,
    "ExecuteTime": {
     "end_time": "2024-02-05T12:43:14.688333Z",
     "start_time": "2024-02-05T12:43:14.679826Z"
    }
   }
  },
  {
   "cell_type": "code",
   "execution_count": 51,
   "outputs": [
    {
     "data": {
      "text/plain": "7066"
     },
     "execution_count": 51,
     "metadata": {},
     "output_type": "execute_result"
    }
   ],
   "source": [
    "len(dictionary)"
   ],
   "metadata": {
    "collapsed": false,
    "ExecuteTime": {
     "end_time": "2024-02-04T18:56:25.549354Z",
     "start_time": "2024-02-04T18:56:25.547616Z"
    }
   }
  },
  {
   "cell_type": "code",
   "execution_count": 83,
   "outputs": [
    {
     "name": "stdout",
     "output_type": "stream",
     "text": [
      "[1.0266428  0.78861666 0.55877835 0.90464956 0.5539185  1.2918285\n",
      " 0.5030147  1.2567945  0.8071133  0.511982   0.9265341  0.5816102\n",
      " 0.5410908  0.48195133 0.6177211  0.5481538  1.2797472  0.516306\n",
      " 0.54690194 0.7790932  1.1622723  0.9158395  1.0866107  0.45116982\n",
      " 0.50072736 0.6487464  0.8637664  0.5093255  0.7529178  0.8991492\n",
      " 0.9021323  0.4988445  0.6242504  0.5288439  0.56202847 0.45858353\n",
      " 0.78469324 0.5288013  0.9339758  1.6888546 ]\n",
      "[0.02285878 0.02225907 0.02284269 ... 0.02225907 0.02225907 0.02225907]\n"
     ]
    }
   ],
   "source": [
    "print(lda_model.alpha)\n",
    "print(lda_model.eta)"
   ],
   "metadata": {
    "collapsed": false,
    "ExecuteTime": {
     "end_time": "2024-02-05T12:19:02.564586Z",
     "start_time": "2024-02-05T12:19:02.561211Z"
    }
   }
  },
  {
   "cell_type": "code",
   "execution_count": 91,
   "outputs": [
    {
     "name": "stdout",
     "output_type": "stream",
     "text": [
      "0.6555456036113928\n"
     ]
    }
   ],
   "source": [
    "coherence_model = CoherenceModel(model=lda_model, texts=tokenized_docs, dictionary=dictionary)\n",
    "coherence_lda = coherence_model.get_coherence()\n",
    "print(coherence_lda)"
   ],
   "metadata": {
    "collapsed": false,
    "ExecuteTime": {
     "end_time": "2024-02-05T12:43:31.327968Z",
     "start_time": "2024-02-05T12:43:24.460145Z"
    }
   }
  },
  {
   "cell_type": "code",
   "execution_count": 92,
   "outputs": [
    {
     "data": {
      "text/plain": "0"
     },
     "execution_count": 92,
     "metadata": {},
     "output_type": "execute_result"
    }
   ],
   "source": [
    "# Visualization\n",
    "# Save the LDA visualization as an HTML file\n",
    "vis = gensimvis.prepare(lda_model, corpus, dictionary)\n",
    "pyLDAvis.save_html(vis, 'lda_visualization.html')\n",
    "\n",
    "# Optionally, automatically open the HTML file in the default web browser\n",
    "os.system('open lda_visualization.html')  # For MacOS"
   ],
   "metadata": {
    "collapsed": false,
    "ExecuteTime": {
     "end_time": "2024-02-05T12:48:33.503220Z",
     "start_time": "2024-02-05T12:48:29.381680Z"
    }
   }
  },
  {
   "cell_type": "code",
   "execution_count": 74,
   "outputs": [],
   "source": [
    "import bitermplus as btm\n",
    "\n",
    "# PREPROCESSING\n",
    "docs = dataset['translated_comment_preprocessed'].str.strip().tolist()\n",
    "# Obtaining terms frequency in a sparse matrix and corpus vocabulary\n",
    "X, vocabulary, vocab_dict = btm.get_words_freqs(docs)\n",
    "tf = np.array(X.sum(axis=0)).ravel()\n",
    "# Vectorizing documents\n",
    "docs_vec = btm.get_vectorized_docs(docs, vocabulary)\n",
    "docs_lens = list(map(len, docs_vec))\n",
    "# Generating biterms\n",
    "biterms = btm.get_biterms(docs_vec)"
   ],
   "metadata": {
    "collapsed": false,
    "ExecuteTime": {
     "end_time": "2024-02-04T21:13:28.557874Z",
     "start_time": "2024-02-04T21:13:18.066238Z"
    }
   }
  },
  {
   "cell_type": "code",
   "execution_count": 78,
   "outputs": [
    {
     "name": "stderr",
     "output_type": "stream",
     "text": [
      "100%|██████████| 20/20 [00:24<00:00,  1.24s/it]\n",
      "100%|██████████| 109961/109961 [00:00<00:00, 150667.82it/s]\n"
     ]
    },
    {
     "data": {
      "text/plain": "array([ 4, 11,  8, ..., 19, 17,  8])"
     },
     "execution_count": 78,
     "metadata": {},
     "output_type": "execute_result"
    }
   ],
   "source": [
    "# INITIALIZING AND RUNNING MODEL\n",
    "model = btm.BTM(X, vocabulary, seed=12321, T=20, M=20, alpha=50/8, beta=0.01)\n",
    "model.fit(biterms, iterations=20)\n",
    "p_zd = model.transform(docs_vec)\n",
    "\n",
    "# METRICS\n",
    "perplexity = btm.perplexity(model.matrix_topics_words_, p_zd, X, 8)\n",
    "coherence = btm.coherence(model.matrix_topics_words_, X, M=20)\n",
    "\n",
    "model.labels_"
   ],
   "metadata": {
    "collapsed": false,
    "ExecuteTime": {
     "end_time": "2024-02-04T21:17:37.029518Z",
     "start_time": "2024-02-04T21:17:00.867257Z"
    }
   }
  },
  {
   "cell_type": "code",
   "execution_count": null,
   "outputs": [],
   "source": [],
   "metadata": {
    "collapsed": false
   }
  },
  {
   "cell_type": "code",
   "execution_count": 79,
   "outputs": [
    {
     "name": "stderr",
     "output_type": "stream",
     "text": [
      "/Users/pati/Documents/eon/venv/lib/python3.11/site-packages/tmplot/_helpers.py:39: UserWarning: Please install \"tomotopy\" package to analyze its models.\n",
      "Run `pip install tomotopy` in the console.\n",
      "  warn(\n",
      "/Users/pati/Documents/eon/venv/lib/python3.11/site-packages/tmplot/_helpers.py:39: UserWarning: Please install \"tomotopy\" package to analyze its models.\n",
      "Run `pip install tomotopy` in the console.\n",
      "  warn(\n",
      "/Users/pati/Documents/eon/venv/lib/python3.11/site-packages/tmplot/_helpers.py:39: UserWarning: Please install \"tomotopy\" package to analyze its models.\n",
      "Run `pip install tomotopy` in the console.\n",
      "  warn(\n",
      "/Users/pati/Documents/eon/venv/lib/python3.11/site-packages/tmplot/_helpers.py:39: UserWarning: Please install \"tomotopy\" package to analyze its models.\n",
      "Run `pip install tomotopy` in the console.\n",
      "  warn(\n"
     ]
    },
    {
     "data": {
      "text/plain": "VBox(children=(VBox(children=(HBox(children=(HTML(value='<b>Select a topic</b>:'), Dropdown(options=((0, 0), (…",
      "application/vnd.jupyter.widget-view+json": {
       "version_major": 2,
       "version_minor": 0,
       "model_id": "f1edf511a4714ad0a33829b634d1d58f"
      }
     },
     "execution_count": 79,
     "metadata": {},
     "output_type": "execute_result"
    }
   ],
   "source": [
    "import tmplot as tmp\n",
    "tmp.report(model=model, docs=docs)"
   ],
   "metadata": {
    "collapsed": false,
    "ExecuteTime": {
     "end_time": "2024-02-04T21:17:38.030918Z",
     "start_time": "2024-02-04T21:17:37.020777Z"
    }
   }
  },
  {
   "cell_type": "code",
   "execution_count": 80,
   "outputs": [
    {
     "name": "stdout",
     "output_type": "stream",
     "text": [
      "65.3240512545357\n"
     ]
    }
   ],
   "source": [
    "print(dataset['comment_length'].mean())"
   ],
   "metadata": {
    "collapsed": false,
    "ExecuteTime": {
     "end_time": "2024-02-05T11:47:48.779834Z",
     "start_time": "2024-02-05T11:47:48.771495Z"
    }
   }
  },
  {
   "cell_type": "code",
   "execution_count": 95,
   "outputs": [
    {
     "name": "stdout",
     "output_type": "stream",
     "text": [
      "<Basic Info>\n",
      "| LDAModel (current version: 0.12.7)\n",
      "| 109961 docs, 1018575 words\n",
      "| Total Vocabs: 25936, Used Vocabs: 25936\n",
      "| Entropy of words: 7.35992\n",
      "| Entropy of term-weighted words: 7.35992\n",
      "| Removed Vocabs: <NA>\n",
      "|\n",
      "<Training Info>\n",
      "| Iterations: 1000, Burn-in steps: 0\n",
      "| Optimization Interval: 10\n",
      "| Log-likelihood per word: -7.75408\n",
      "|\n",
      "<Initial Parameters>\n",
      "| tw: TermWeight.ONE\n",
      "| min_cf: 0 (minimum collection frequency of words)\n",
      "| min_df: 1 (minimum document frequency of words)\n",
      "| rm_top: 0 (the number of top words to be removed)\n",
      "| k: 9 (the number of topics between 1 ~ 32767)\n",
      "| alpha: [0.1] (hyperparameter of Dirichlet distribution for document-topic, given as a single `float` in case of symmetric prior and as a list with length `k` of `float` in case of asymmetric prior.)\n",
      "| eta: 0.01 (hyperparameter of Dirichlet distribution for topic-word)\n",
      "| seed: 4062820885 (random seed)\n",
      "| trained in version 0.12.7\n",
      "|\n",
      "<Parameters>\n",
      "| alpha (Dirichlet prior on the per-document topic distributions)\n",
      "|  [0.15423714 0.04163896 0.09000625 0.142676   0.09586792 0.08947576\n",
      "|   0.08275937 0.1403278  0.08049504]\n",
      "| eta (Dirichlet prior on the per-topic word distribution)\n",
      "|  0.01\n",
      "|\n",
      "<Topics>\n",
      "| #0 (120973) : dont know recommend see im\n",
      "| #1 (66285) : power outage solar electricity would\n",
      "| #2 (140873) : contract meter eon email reading\n",
      "| #3 (120075) : service customer bad information communication\n",
      "| #4 (120429) : time long contract took months\n",
      "| #5 (130250) : contract essent customer customers years\n",
      "| #6 (105343) : invoice pay bill payment consumption\n",
      "| #7 (156143) : get answer phone question contact\n",
      "| #8 (58204) : price prices electricity lower high\n",
      "|\n",
      "\n"
     ]
    }
   ],
   "source": [
    "import tomotopy\n",
    "\n",
    "corpus = tokenized_docs\n",
    "model_tom = tomotopy.LDAModel(k=9, min_df=1)\n",
    "for token_list in corpus: model_tom.add_doc(token_list)\n",
    "for i in range (0, 1000, 100): model_tom.train(100)\n",
    "model_tom.summary()"
   ],
   "metadata": {
    "collapsed": false,
    "ExecuteTime": {
     "end_time": "2024-02-05T12:58:03.906119Z",
     "start_time": "2024-02-05T12:57:31.039033Z"
    }
   }
  },
  {
   "cell_type": "code",
   "execution_count": 98,
   "outputs": [
    {
     "data": {
      "text/plain": "0"
     },
     "execution_count": 98,
     "metadata": {},
     "output_type": "execute_result"
    }
   ],
   "source": [
    "import numpy as np\n",
    "\n",
    "topic_term_dists = np.stack([model_tom.get_topic_word_dist(k) for k in range(model_tom.k)])\n",
    "doc_topic_dists = np.stack([doc.get_topic_dist() for doc in model_tom.docs])\n",
    "doc_topic_dists /= doc_topic_dists.sum(axis=1, keepdims=True)\n",
    "doc_lengths = np.array([len(doc.words) for doc in model_tom.docs])\n",
    "vocab = list(model_tom.used_vocabs)\n",
    "term_frequency = model_tom.used_vocab_freq\n",
    "\n",
    "prepared_data = pyLDAvis.prepare(\n",
    "    topic_term_dists,\n",
    "    doc_topic_dists,\n",
    "    doc_lengths,\n",
    "    vocab,\n",
    "    term_frequency,\n",
    "    start_index=0, # tomotopy starts topic ids with 0, pyLDAvis with 1\n",
    "    sort_topics=False # IMPORTANT: otherwise the topic_ids between pyLDAvis and tomotopy are not matching!\n",
    ")\n",
    "\n",
    "pyLDAvis.save_html(prepared_data, 'tomo_lda_visualization.html')\n",
    "\n",
    "# Optionally, automatically open the HTML file in the default web browser\n",
    "os.system('open tomo_lda_visualization.html')"
   ],
   "metadata": {
    "collapsed": false,
    "ExecuteTime": {
     "end_time": "2024-02-05T13:28:22.854855Z",
     "start_time": "2024-02-05T13:28:21.155235Z"
    }
   }
  },
  {
   "cell_type": "code",
   "execution_count": 96,
   "outputs": [
    {
     "name": "stdout",
     "output_type": "stream",
     "text": [
      "<Basic Info>\n",
      "| DTModel (current version: 0.12.7)\n",
      "| 109961 docs, 1018575 words\n",
      "| Total Vocabs: 25936, Used Vocabs: 25936\n",
      "| Entropy of words: 7.35992\n",
      "| Entropy of term-weighted words: 7.35992\n",
      "| Removed Vocabs: <NA>\n",
      "|\n",
      "<Training Info>\n",
      "| Iterations: 1000, Burn-in steps: 0\n",
      "| Optimization Interval: 10\n",
      "| Log-likelihood per word: -8.38749\n",
      "|\n",
      "<Initial Parameters>\n",
      "| tw: TermWeight.ONE\n",
      "| min_cf: 0 (minimum collection frequency of words)\n",
      "| min_df: 0 (minimum document frequency of words)\n",
      "| rm_top: 0 (the number of top words to be removed)\n",
      "| k: 9 (the number of topics between 1 ~ 32767)\n",
      "| t: 1 (the number of timpoints)\n",
      "| alpha_var: 0.1 (transition variance of alpha (per-document topic distribution))\n",
      "| eta_var: 0.1 (variance of eta (topic distribution of each document) from its alpha )\n",
      "| phi_var: 0.1 (transition variance of phi (word distribution of each topic))\n",
      "| lr_a: 0.01 (shape parameter `a` greater than zero, for SGLD step size calculated as `e_i = a * (b + i) ^ (-c)`)\n",
      "| lr_b: 0.1 (shape parameter `b` greater than or equal to zero, for SGLD step size calculated as `e_i = a * (b + i) ^ (-c)`)\n",
      "| lr_c: 0.55 (shape parameter `c` with range (0.5, 1], for SGLD step size calculated as `e_i = a * (b + i) ^ (-c)`)\n",
      "| seed: 965852900 (random seed)\n",
      "| trained in version 0.12.7\n",
      "|\n",
      "<Parameters>\n",
      "| alpha (Dirichlet prior on the per-document topic distributions for each timepoint)\n",
      "|  [[-1.3234708e-03  5.3077162e-04 -1.6569681e-04 -8.3655422e-04\n",
      "|     5.1455275e-04  4.3793462e-04  5.8844955e-05 -5.3955878e-06\n",
      "|    -5.2749034e-04]]\n",
      "| phi (Dirichlet prior on the per-time&topic word distribution)\n",
      "|  ...\n",
      "|\n",
      "<Topics>\n",
      "| #0 (109652)\n",
      "|  t=0 (109652) : customer service electricity bad prices\n",
      "| #1 (107788)\n",
      "|  t=0 (107788) : price meter new still im\n",
      "| #2 (153515)\n",
      "|  t=0 (153515) : get answer one know pay\n",
      "| #3 (112237)\n",
      "|  t=0 (112237) : essent cant contact email call\n",
      "| #4 (113373)\n",
      "|  t=0 (113373) : contract eon would like years\n",
      "| #5 (87004)\n",
      "|  t=0 (87004) : everything change account without difficult\n",
      "| #6 (100167)\n",
      "|  t=0 (100167) : dont energy good reading number\n",
      "| #7 (94695)\n",
      "|  t=0 (94695) : time long nothing 2 make\n",
      "| #8 (140144)\n",
      "|  t=0 (140144) : days consumption year employee receive\n",
      "|\n",
      "\n"
     ]
    }
   ],
   "source": [
    "# If we're interested in time slices https://github.com/bab2min/tomotopy/blob/main/examples/dtm.py\n",
    "model_dtm = tomotopy.DTModel(k=9)\n",
    "for token_list in corpus: model_dtm.add_doc(token_list)\n",
    "for i in range (0, 1000, 100): model_dtm.train(100)\n",
    "model_dtm.summary()\n"
   ],
   "metadata": {
    "collapsed": false,
    "ExecuteTime": {
     "end_time": "2024-02-05T13:19:35.096792Z",
     "start_time": "2024-02-05T13:18:26.157944Z"
    }
   }
  },
  {
   "cell_type": "code",
   "execution_count": 276,
   "outputs": [
    {
     "name": "stderr",
     "output_type": "stream",
     "text": [
      "huggingface/tokenizers: The current process just got forked, after parallelism has already been used. Disabling parallelism to avoid deadlocks...\n",
      "To disable this warning, you can either:\n",
      "\t- Avoid using `tokenizers` before the fork if possible\n",
      "\t- Explicitly set the environment variable TOKENIZERS_PARALLELISM=(true | false)\n",
      "huggingface/tokenizers: The current process just got forked, after parallelism has already been used. Disabling parallelism to avoid deadlocks...\n",
      "To disable this warning, you can either:\n",
      "\t- Avoid using `tokenizers` before the fork if possible\n",
      "\t- Explicitly set the environment variable TOKENIZERS_PARALLELISM=(true | false)\n",
      "huggingface/tokenizers: The current process just got forked, after parallelism has already been used. Disabling parallelism to avoid deadlocks...\n",
      "To disable this warning, you can either:\n",
      "\t- Avoid using `tokenizers` before the fork if possible\n",
      "\t- Explicitly set the environment variable TOKENIZERS_PARALLELISM=(true | false)\n",
      "huggingface/tokenizers: The current process just got forked, after parallelism has already been used. Disabling parallelism to avoid deadlocks...\n",
      "To disable this warning, you can either:\n",
      "\t- Avoid using `tokenizers` before the fork if possible\n",
      "\t- Explicitly set the environment variable TOKENIZERS_PARALLELISM=(true | false)\n"
     ]
    },
    {
     "name": "stdout",
     "output_type": "stream",
     "text": [
      "Topic -1: -1_customer_answer_price_don\n",
      "Topic 0: 0_eon_contract_customer_electricity\n",
      "Topic 1: 1_essent_years_customer_customers\n",
      "Topic 2: 2_invoice_invoices_receive_payment\n",
      "Topic 3: 3_contract_agreement_new_contracts\n"
     ]
    },
    {
     "data": {
      "application/vnd.plotly.v1+json": {
       "data": [
        {
         "customdata": [
          [
           0,
           "eon | contract | customer | electricity | new",
           5051
          ],
          [
           1,
           "essent | years | customer | customers | energy",
           4246
          ],
          [
           2,
           "invoice | invoices | receive | payment | issued",
           2846
          ],
          [
           3,
           "contract | agreement | new | contracts | extend",
           2823
          ],
          [
           4,
           "phone | minutes | service | hold | waiting",
           2701
          ],
          [
           5,
           "price | prices | suppliers | supplier | expensive",
           2659
          ],
          [
           6,
           "long | process | took | time | administration",
           2656
          ],
          [
           7,
           "meter | reading | readings | enter | smart",
           2266
          ],
          [
           8,
           "payment | installment | euros | payments | pay",
           1942
          ],
          [
           9,
           "bills | billing | high | pay | arrived",
           1621
          ],
          [
           10,
           "recommend | recommendations | recommending | advice | make",
           1538
          ],
          [
           11,
           "energy | supplier | recommend | companies | electricity",
           1476
          ],
          [
           12,
           "chat | chatbot | robot | bot | question",
           1441
          ],
          [
           13,
           "power | outage | announced | day | outages",
           1390
          ],
          [
           14,
           "website | site | page | slow | working",
           1330
          ],
          [
           15,
           "customers | customer | regular | existing | discount",
           1287
          ],
          [
           16,
           "accessible | reduce | poorly | dissatisfaction | price",
           1261
          ],
          [
           17,
           "communication | conversation | bad | impersonal | treated",
           1109
          ],
          [
           18,
           "connection | email | notification | connect | mail",
           1043
          ],
          [
           19,
           "gas | electricity | contract | energiedirect | energy",
           1032
          ],
          [
           20,
           "choice | decide | choose | make | choices",
           970
          ],
          [
           21,
           "password | log | login | logging | reset",
           944
          ],
          [
           22,
           "electricity | energy | price | high | prices",
           943
          ],
          [
           23,
           "question | answer | questions | answered | answers",
           942
          ],
          [
           24,
           "service | customer | bad | poor | employees",
           860
          ],
          [
           25,
           "request | response | requests | resolved | long",
           848
          ],
          [
           26,
           "information | confusing | unclear | clear | incorrect",
           714
          ],
          [
           27,
           "contact | phone | touch | reach | telephone",
           688
          ],
          [
           28,
           "look | amateurish |  |  | ",
           596
          ],
          [
           29,
           "rating | influenced | score | rate | fact",
           561
          ],
          [
           30,
           "consumption | manager | app | insight | daily",
           557
          ],
          [
           31,
           "electricity | lower | grid | prices | cheaper",
           554
          ],
          [
           32,
           "innogy | client | polska | recommend | company",
           547
          ],
          [
           33,
           "contracts | contract | add | account | new",
           529
          ],
          [
           34,
           "satisfied | happy | good | dissatisfied | average",
           524
          ],
          [
           35,
           "employee | lady | question | friendly | conversation",
           521
          ],
          [
           36,
           "solved | problem | solution | solve | resolved",
           519
          ],
          [
           37,
           "providers | provider | company | service | services",
           498
          ],
          [
           38,
           "solar | panels | cells | panel | installation",
           496
          ],
          [
           39,
           "boiler | water | thermostat | installed | technician",
           471
          ],
          [
           40,
           "know | cheaper | accessibility | comment | displeased",
           444
          ],
          [
           41,
           "talk | friends | don | bother | things",
           437
          ],
          [
           42,
           "portal | online | confusing | work | internet",
           412
          ],
          [
           43,
           "wrote | described | note | stated | previous",
           404
          ],
          [
           44,
           "cena | know | champion | uså | ug",
           403
          ],
          [
           45,
           "installation | installers | mechanic | installed | installer",
           398
          ],
          [
           46,
           "se | ºã | hatrid | viz | na",
           387
          ],
          [
           47,
           "helped | help | noded | haven | helpful",
           368
          ],
          [
           48,
           "tariff | tariffs | change | offer | changing",
           349
          ],
          [
           49,
           "annual | statement | accounts | statements | financial",
           341
          ],
          [
           50,
           "cubic | consumption | gas | kw | kwh",
           323
          ],
          [
           51,
           "ifo | colsenter | just | yes | answered",
           321
          ],
          [
           52,
           "transcription | transcript | took | transcribed | long",
           320
          ],
          [
           53,
           "nee | know | ne | net | reachable",
           305
          ],
          [
           54,
           "transfer | cancellation | fee | refund | account",
           289
          ],
          [
           55,
           "reduce | price | expensive | unreachable | cheated",
           277
          ],
          [
           56,
           "nope | guessing | purely | sorry | absolutely",
           276
          ],
          [
           57,
           "know | doubt | moment | yes | desire",
           263
          ],
          [
           58,
           "promises | faster | promise | promised | kept",
           262
          ],
          [
           59,
           "rates | rate | increase | better | current",
           262
          ],
          [
           60,
           "app | work | working | doesn | works",
           251
          ],
          [
           61,
           "accessibility | poor | accessible | poorly | bad",
           244
          ],
          [
           62,
           "survey | surveys | questionnaire | polls | poll",
           243
          ],
          [
           63,
           "know | don |  |  | ",
           237
          ],
          [
           64,
           "electricity | connection | electrician | connect | took",
           228
          ],
          [
           65,
           "malfunction | error | malfunctions | functions | messages",
           216
          ],
          [
           66,
           "works | work | doesn | spoke | does",
           207
          ],
          [
           67,
           "complaint | contract | contracts | submitted | response",
           203
          ]
         ],
         "hovertemplate": "<b>Topic %{customdata[0]}</b><br>%{customdata[1]}<br>Size: %{customdata[2]}",
         "legendgroup": "",
         "marker": {
          "color": "#B0BEC5",
          "size": [
           5051,
           4246,
           2846,
           2823,
           2701,
           2659,
           2656,
           2266,
           1942,
           1621,
           1538,
           1476,
           1441,
           1390,
           1330,
           1287,
           1261,
           1109,
           1043,
           1032,
           970,
           944,
           943,
           942,
           860,
           848,
           714,
           688,
           596,
           561,
           557,
           554,
           547,
           529,
           524,
           521,
           519,
           498,
           496,
           471,
           444,
           437,
           412,
           404,
           403,
           398,
           387,
           368,
           349,
           341,
           323,
           321,
           320,
           305,
           289,
           277,
           276,
           263,
           262,
           262,
           251,
           244,
           243,
           237,
           228,
           216,
           207,
           203
          ],
          "sizemode": "area",
          "sizeref": 3.156875,
          "symbol": "circle",
          "line": {
           "color": "DarkSlateGrey",
           "width": 2
          }
         },
         "mode": "markers",
         "name": "",
         "orientation": "v",
         "showlegend": false,
         "x": [
          -11.978259086608887,
          -11.91808795928955,
          -0.18454571068286896,
          0.9030230045318604,
          2.3808796405792236,
          5.043603897094727,
          -0.43448588252067566,
          -11.985881805419922,
          -0.15821482241153717,
          0.12694139778614044,
          10.25981616973877,
          -9.27442455291748,
          2.768962860107422,
          -11.925310134887695,
          6.721126079559326,
          2.087794542312622,
          8.125080108642578,
          9.783477783203125,
          -0.0163996871560812,
          -12.077743530273438,
          8.675191879272461,
          6.593355178833008,
          -9.189604759216309,
          -0.12394961714744568,
          2.03595232963562,
          -0.14761678874492645,
          9.762541770935059,
          2.612172842025757,
          14.480148315429688,
          4.827290058135986,
          -8.93301773071289,
          -9.037940979003906,
          1.3593584299087524,
          0.814396321773529,
          8.159455299377441,
          9.84028148651123,
          3.6020569801330566,
          4.861649513244629,
          -11.963550567626953,
          -12.326431274414062,
          8.611823081970215,
          10.012053489685059,
          6.639784812927246,
          14.47983169555664,
          8.354924201965332,
          -12.2745943069458,
          7.6698198318481445,
          3.5418825149536133,
          5.162073612213135,
          -0.033143945038318634,
          -9.026775360107422,
          13.537496566772461,
          -0.5504550337791443,
          7.613673210144043,
          -0.39997056126594543,
          8.375014305114746,
          13.533288955688477,
          8.18786907196045,
          9.695919036865234,
          5.075170040130615,
          6.870441913604736,
          4.06508731842041,
          2.038931369781494,
          8.246477127075195,
          -12.053537368774414,
          3.9448623657226562,
          3.9013988971710205,
          1.3292365074157715
         ],
         "xaxis": "x",
         "y": [
          4.981286525726318,
          4.815255165100098,
          9.55501937866211,
          2.5037589073181152,
          2.295708656311035,
          6.247744560241699,
          -0.8928022384643555,
          5.415687561035156,
          9.528671264648438,
          9.242883682250977,
          3.185098648071289,
          16.509963989257812,
          1.9389982223510742,
          5.870390892028809,
          -10.503395080566406,
          2.5510144233703613,
          11.262725830078125,
          3.6623098850250244,
          -1.3893810510635376,
          5.37761926651001,
          11.429887771606445,
          -10.375569343566895,
          16.425241470336914,
          -1.2875474691390991,
          2.4987688064575195,
          -1.3401036262512207,
          3.682255744934082,
          2.093423366546631,
          11.873255729675293,
          6.032238483428955,
          16.16848373413086,
          16.27346420288086,
          2.6494314670562744,
          2.4634547233581543,
          11.175018310546875,
          3.6054677963256836,
          -7.8136677742004395,
          6.065301418304443,
          6.0096893310546875,
          6.324454307556152,
          11.392688751220703,
          3.433414936065674,
          -10.421964645385742,
          11.873139381408691,
          12.110721588134766,
          6.276915550231934,
          10.819927215576172,
          -7.7532124519348145,
          6.367260456085205,
          9.403298377990723,
          16.262304306030273,
          7.853562831878662,
          -0.746364414691925,
          10.760205268859863,
          9.769976615905762,
          11.001399993896484,
          7.850658416748047,
          11.672534942626953,
          3.7499592304229736,
          6.279845237731934,
          -10.652758598327637,
          -8.277228355407715,
          2.6139755249023438,
          11.962995529174805,
          5.811319351196289,
          -8.157267570495605,
          -8.113626480102539,
          2.582498073577881
         ],
         "yaxis": "y",
         "type": "scatter"
        }
       ],
       "layout": {
        "template": {
         "data": {
          "barpolar": [
           {
            "marker": {
             "line": {
              "color": "white",
              "width": 0.5
             },
             "pattern": {
              "fillmode": "overlay",
              "size": 10,
              "solidity": 0.2
             }
            },
            "type": "barpolar"
           }
          ],
          "bar": [
           {
            "error_x": {
             "color": "rgb(36,36,36)"
            },
            "error_y": {
             "color": "rgb(36,36,36)"
            },
            "marker": {
             "line": {
              "color": "white",
              "width": 0.5
             },
             "pattern": {
              "fillmode": "overlay",
              "size": 10,
              "solidity": 0.2
             }
            },
            "type": "bar"
           }
          ],
          "carpet": [
           {
            "aaxis": {
             "endlinecolor": "rgb(36,36,36)",
             "gridcolor": "white",
             "linecolor": "white",
             "minorgridcolor": "white",
             "startlinecolor": "rgb(36,36,36)"
            },
            "baxis": {
             "endlinecolor": "rgb(36,36,36)",
             "gridcolor": "white",
             "linecolor": "white",
             "minorgridcolor": "white",
             "startlinecolor": "rgb(36,36,36)"
            },
            "type": "carpet"
           }
          ],
          "choropleth": [
           {
            "colorbar": {
             "outlinewidth": 1,
             "tickcolor": "rgb(36,36,36)",
             "ticks": "outside"
            },
            "type": "choropleth"
           }
          ],
          "contourcarpet": [
           {
            "colorbar": {
             "outlinewidth": 1,
             "tickcolor": "rgb(36,36,36)",
             "ticks": "outside"
            },
            "type": "contourcarpet"
           }
          ],
          "contour": [
           {
            "colorbar": {
             "outlinewidth": 1,
             "tickcolor": "rgb(36,36,36)",
             "ticks": "outside"
            },
            "colorscale": [
             [
              0.0,
              "#440154"
             ],
             [
              0.1111111111111111,
              "#482878"
             ],
             [
              0.2222222222222222,
              "#3e4989"
             ],
             [
              0.3333333333333333,
              "#31688e"
             ],
             [
              0.4444444444444444,
              "#26828e"
             ],
             [
              0.5555555555555556,
              "#1f9e89"
             ],
             [
              0.6666666666666666,
              "#35b779"
             ],
             [
              0.7777777777777778,
              "#6ece58"
             ],
             [
              0.8888888888888888,
              "#b5de2b"
             ],
             [
              1.0,
              "#fde725"
             ]
            ],
            "type": "contour"
           }
          ],
          "heatmapgl": [
           {
            "colorbar": {
             "outlinewidth": 1,
             "tickcolor": "rgb(36,36,36)",
             "ticks": "outside"
            },
            "colorscale": [
             [
              0.0,
              "#440154"
             ],
             [
              0.1111111111111111,
              "#482878"
             ],
             [
              0.2222222222222222,
              "#3e4989"
             ],
             [
              0.3333333333333333,
              "#31688e"
             ],
             [
              0.4444444444444444,
              "#26828e"
             ],
             [
              0.5555555555555556,
              "#1f9e89"
             ],
             [
              0.6666666666666666,
              "#35b779"
             ],
             [
              0.7777777777777778,
              "#6ece58"
             ],
             [
              0.8888888888888888,
              "#b5de2b"
             ],
             [
              1.0,
              "#fde725"
             ]
            ],
            "type": "heatmapgl"
           }
          ],
          "heatmap": [
           {
            "colorbar": {
             "outlinewidth": 1,
             "tickcolor": "rgb(36,36,36)",
             "ticks": "outside"
            },
            "colorscale": [
             [
              0.0,
              "#440154"
             ],
             [
              0.1111111111111111,
              "#482878"
             ],
             [
              0.2222222222222222,
              "#3e4989"
             ],
             [
              0.3333333333333333,
              "#31688e"
             ],
             [
              0.4444444444444444,
              "#26828e"
             ],
             [
              0.5555555555555556,
              "#1f9e89"
             ],
             [
              0.6666666666666666,
              "#35b779"
             ],
             [
              0.7777777777777778,
              "#6ece58"
             ],
             [
              0.8888888888888888,
              "#b5de2b"
             ],
             [
              1.0,
              "#fde725"
             ]
            ],
            "type": "heatmap"
           }
          ],
          "histogram2dcontour": [
           {
            "colorbar": {
             "outlinewidth": 1,
             "tickcolor": "rgb(36,36,36)",
             "ticks": "outside"
            },
            "colorscale": [
             [
              0.0,
              "#440154"
             ],
             [
              0.1111111111111111,
              "#482878"
             ],
             [
              0.2222222222222222,
              "#3e4989"
             ],
             [
              0.3333333333333333,
              "#31688e"
             ],
             [
              0.4444444444444444,
              "#26828e"
             ],
             [
              0.5555555555555556,
              "#1f9e89"
             ],
             [
              0.6666666666666666,
              "#35b779"
             ],
             [
              0.7777777777777778,
              "#6ece58"
             ],
             [
              0.8888888888888888,
              "#b5de2b"
             ],
             [
              1.0,
              "#fde725"
             ]
            ],
            "type": "histogram2dcontour"
           }
          ],
          "histogram2d": [
           {
            "colorbar": {
             "outlinewidth": 1,
             "tickcolor": "rgb(36,36,36)",
             "ticks": "outside"
            },
            "colorscale": [
             [
              0.0,
              "#440154"
             ],
             [
              0.1111111111111111,
              "#482878"
             ],
             [
              0.2222222222222222,
              "#3e4989"
             ],
             [
              0.3333333333333333,
              "#31688e"
             ],
             [
              0.4444444444444444,
              "#26828e"
             ],
             [
              0.5555555555555556,
              "#1f9e89"
             ],
             [
              0.6666666666666666,
              "#35b779"
             ],
             [
              0.7777777777777778,
              "#6ece58"
             ],
             [
              0.8888888888888888,
              "#b5de2b"
             ],
             [
              1.0,
              "#fde725"
             ]
            ],
            "type": "histogram2d"
           }
          ],
          "histogram": [
           {
            "marker": {
             "line": {
              "color": "white",
              "width": 0.6
             }
            },
            "type": "histogram"
           }
          ],
          "mesh3d": [
           {
            "colorbar": {
             "outlinewidth": 1,
             "tickcolor": "rgb(36,36,36)",
             "ticks": "outside"
            },
            "type": "mesh3d"
           }
          ],
          "parcoords": [
           {
            "line": {
             "colorbar": {
              "outlinewidth": 1,
              "tickcolor": "rgb(36,36,36)",
              "ticks": "outside"
             }
            },
            "type": "parcoords"
           }
          ],
          "pie": [
           {
            "automargin": true,
            "type": "pie"
           }
          ],
          "scatter3d": [
           {
            "line": {
             "colorbar": {
              "outlinewidth": 1,
              "tickcolor": "rgb(36,36,36)",
              "ticks": "outside"
             }
            },
            "marker": {
             "colorbar": {
              "outlinewidth": 1,
              "tickcolor": "rgb(36,36,36)",
              "ticks": "outside"
             }
            },
            "type": "scatter3d"
           }
          ],
          "scattercarpet": [
           {
            "marker": {
             "colorbar": {
              "outlinewidth": 1,
              "tickcolor": "rgb(36,36,36)",
              "ticks": "outside"
             }
            },
            "type": "scattercarpet"
           }
          ],
          "scattergeo": [
           {
            "marker": {
             "colorbar": {
              "outlinewidth": 1,
              "tickcolor": "rgb(36,36,36)",
              "ticks": "outside"
             }
            },
            "type": "scattergeo"
           }
          ],
          "scattergl": [
           {
            "marker": {
             "colorbar": {
              "outlinewidth": 1,
              "tickcolor": "rgb(36,36,36)",
              "ticks": "outside"
             }
            },
            "type": "scattergl"
           }
          ],
          "scattermapbox": [
           {
            "marker": {
             "colorbar": {
              "outlinewidth": 1,
              "tickcolor": "rgb(36,36,36)",
              "ticks": "outside"
             }
            },
            "type": "scattermapbox"
           }
          ],
          "scatterpolargl": [
           {
            "marker": {
             "colorbar": {
              "outlinewidth": 1,
              "tickcolor": "rgb(36,36,36)",
              "ticks": "outside"
             }
            },
            "type": "scatterpolargl"
           }
          ],
          "scatterpolar": [
           {
            "marker": {
             "colorbar": {
              "outlinewidth": 1,
              "tickcolor": "rgb(36,36,36)",
              "ticks": "outside"
             }
            },
            "type": "scatterpolar"
           }
          ],
          "scatter": [
           {
            "fillpattern": {
             "fillmode": "overlay",
             "size": 10,
             "solidity": 0.2
            },
            "type": "scatter"
           }
          ],
          "scatterternary": [
           {
            "marker": {
             "colorbar": {
              "outlinewidth": 1,
              "tickcolor": "rgb(36,36,36)",
              "ticks": "outside"
             }
            },
            "type": "scatterternary"
           }
          ],
          "surface": [
           {
            "colorbar": {
             "outlinewidth": 1,
             "tickcolor": "rgb(36,36,36)",
             "ticks": "outside"
            },
            "colorscale": [
             [
              0.0,
              "#440154"
             ],
             [
              0.1111111111111111,
              "#482878"
             ],
             [
              0.2222222222222222,
              "#3e4989"
             ],
             [
              0.3333333333333333,
              "#31688e"
             ],
             [
              0.4444444444444444,
              "#26828e"
             ],
             [
              0.5555555555555556,
              "#1f9e89"
             ],
             [
              0.6666666666666666,
              "#35b779"
             ],
             [
              0.7777777777777778,
              "#6ece58"
             ],
             [
              0.8888888888888888,
              "#b5de2b"
             ],
             [
              1.0,
              "#fde725"
             ]
            ],
            "type": "surface"
           }
          ],
          "table": [
           {
            "cells": {
             "fill": {
              "color": "rgb(237,237,237)"
             },
             "line": {
              "color": "white"
             }
            },
            "header": {
             "fill": {
              "color": "rgb(217,217,217)"
             },
             "line": {
              "color": "white"
             }
            },
            "type": "table"
           }
          ]
         },
         "layout": {
          "annotationdefaults": {
           "arrowhead": 0,
           "arrowwidth": 1
          },
          "autotypenumbers": "strict",
          "coloraxis": {
           "colorbar": {
            "outlinewidth": 1,
            "tickcolor": "rgb(36,36,36)",
            "ticks": "outside"
           }
          },
          "colorscale": {
           "diverging": [
            [
             0.0,
             "rgb(103,0,31)"
            ],
            [
             0.1,
             "rgb(178,24,43)"
            ],
            [
             0.2,
             "rgb(214,96,77)"
            ],
            [
             0.3,
             "rgb(244,165,130)"
            ],
            [
             0.4,
             "rgb(253,219,199)"
            ],
            [
             0.5,
             "rgb(247,247,247)"
            ],
            [
             0.6,
             "rgb(209,229,240)"
            ],
            [
             0.7,
             "rgb(146,197,222)"
            ],
            [
             0.8,
             "rgb(67,147,195)"
            ],
            [
             0.9,
             "rgb(33,102,172)"
            ],
            [
             1.0,
             "rgb(5,48,97)"
            ]
           ],
           "sequential": [
            [
             0.0,
             "#440154"
            ],
            [
             0.1111111111111111,
             "#482878"
            ],
            [
             0.2222222222222222,
             "#3e4989"
            ],
            [
             0.3333333333333333,
             "#31688e"
            ],
            [
             0.4444444444444444,
             "#26828e"
            ],
            [
             0.5555555555555556,
             "#1f9e89"
            ],
            [
             0.6666666666666666,
             "#35b779"
            ],
            [
             0.7777777777777778,
             "#6ece58"
            ],
            [
             0.8888888888888888,
             "#b5de2b"
            ],
            [
             1.0,
             "#fde725"
            ]
           ],
           "sequentialminus": [
            [
             0.0,
             "#440154"
            ],
            [
             0.1111111111111111,
             "#482878"
            ],
            [
             0.2222222222222222,
             "#3e4989"
            ],
            [
             0.3333333333333333,
             "#31688e"
            ],
            [
             0.4444444444444444,
             "#26828e"
            ],
            [
             0.5555555555555556,
             "#1f9e89"
            ],
            [
             0.6666666666666666,
             "#35b779"
            ],
            [
             0.7777777777777778,
             "#6ece58"
            ],
            [
             0.8888888888888888,
             "#b5de2b"
            ],
            [
             1.0,
             "#fde725"
            ]
           ]
          },
          "colorway": [
           "#1F77B4",
           "#FF7F0E",
           "#2CA02C",
           "#D62728",
           "#9467BD",
           "#8C564B",
           "#E377C2",
           "#7F7F7F",
           "#BCBD22",
           "#17BECF"
          ],
          "font": {
           "color": "rgb(36,36,36)"
          },
          "geo": {
           "bgcolor": "white",
           "lakecolor": "white",
           "landcolor": "white",
           "showlakes": true,
           "showland": true,
           "subunitcolor": "white"
          },
          "hoverlabel": {
           "align": "left"
          },
          "hovermode": "closest",
          "mapbox": {
           "style": "light"
          },
          "paper_bgcolor": "white",
          "plot_bgcolor": "white",
          "polar": {
           "angularaxis": {
            "gridcolor": "rgb(232,232,232)",
            "linecolor": "rgb(36,36,36)",
            "showgrid": false,
            "showline": true,
            "ticks": "outside"
           },
           "bgcolor": "white",
           "radialaxis": {
            "gridcolor": "rgb(232,232,232)",
            "linecolor": "rgb(36,36,36)",
            "showgrid": false,
            "showline": true,
            "ticks": "outside"
           }
          },
          "scene": {
           "xaxis": {
            "backgroundcolor": "white",
            "gridcolor": "rgb(232,232,232)",
            "gridwidth": 2,
            "linecolor": "rgb(36,36,36)",
            "showbackground": true,
            "showgrid": false,
            "showline": true,
            "ticks": "outside",
            "zeroline": false,
            "zerolinecolor": "rgb(36,36,36)"
           },
           "yaxis": {
            "backgroundcolor": "white",
            "gridcolor": "rgb(232,232,232)",
            "gridwidth": 2,
            "linecolor": "rgb(36,36,36)",
            "showbackground": true,
            "showgrid": false,
            "showline": true,
            "ticks": "outside",
            "zeroline": false,
            "zerolinecolor": "rgb(36,36,36)"
           },
           "zaxis": {
            "backgroundcolor": "white",
            "gridcolor": "rgb(232,232,232)",
            "gridwidth": 2,
            "linecolor": "rgb(36,36,36)",
            "showbackground": true,
            "showgrid": false,
            "showline": true,
            "ticks": "outside",
            "zeroline": false,
            "zerolinecolor": "rgb(36,36,36)"
           }
          },
          "shapedefaults": {
           "fillcolor": "black",
           "line": {
            "width": 0
           },
           "opacity": 0.3
          },
          "ternary": {
           "aaxis": {
            "gridcolor": "rgb(232,232,232)",
            "linecolor": "rgb(36,36,36)",
            "showgrid": false,
            "showline": true,
            "ticks": "outside"
           },
           "baxis": {
            "gridcolor": "rgb(232,232,232)",
            "linecolor": "rgb(36,36,36)",
            "showgrid": false,
            "showline": true,
            "ticks": "outside"
           },
           "bgcolor": "white",
           "caxis": {
            "gridcolor": "rgb(232,232,232)",
            "linecolor": "rgb(36,36,36)",
            "showgrid": false,
            "showline": true,
            "ticks": "outside"
           }
          },
          "title": {
           "x": 0.05
          },
          "xaxis": {
           "automargin": true,
           "gridcolor": "rgb(232,232,232)",
           "linecolor": "rgb(36,36,36)",
           "showgrid": false,
           "showline": true,
           "ticks": "outside",
           "title": {
            "standoff": 15
           },
           "zeroline": false,
           "zerolinecolor": "rgb(36,36,36)"
          },
          "yaxis": {
           "automargin": true,
           "gridcolor": "rgb(232,232,232)",
           "linecolor": "rgb(36,36,36)",
           "showgrid": false,
           "showline": true,
           "ticks": "outside",
           "title": {
            "standoff": 15
           },
           "zeroline": false,
           "zerolinecolor": "rgb(36,36,36)"
          }
         }
        },
        "xaxis": {
         "anchor": "y",
         "domain": [
          0.0,
          1.0
         ],
         "title": {
          "text": ""
         },
         "visible": false,
         "range": [
          -14.175395965576172,
          16.65217056274414
         ]
        },
        "yaxis": {
         "anchor": "x",
         "domain": [
          0.0,
          1.0
         ],
         "title": {
          "text": ""
         },
         "visible": false,
         "range": [
          -12.250672388076783,
          18.986458587646485
         ]
        },
        "legend": {
         "tracegroupgap": 0,
         "itemsizing": "constant"
        },
        "margin": {
         "t": 60
        },
        "title": {
         "font": {
          "size": 22,
          "color": "Black"
         },
         "text": "<b>Intertopic Distance Map</b>",
         "y": 0.95,
         "x": 0.5,
         "xanchor": "center",
         "yanchor": "top"
        },
        "hoverlabel": {
         "font": {
          "size": 16,
          "family": "Rockwell"
         },
         "bgcolor": "white"
        },
        "width": 650,
        "height": 650,
        "sliders": [
         {
          "active": 0,
          "pad": {
           "t": 50
          },
          "steps": [
           {
            "args": [
             {
              "marker.color": [
               [
                "red",
                "#B0BEC5",
                "#B0BEC5",
                "#B0BEC5",
                "#B0BEC5",
                "#B0BEC5",
                "#B0BEC5",
                "#B0BEC5",
                "#B0BEC5",
                "#B0BEC5",
                "#B0BEC5",
                "#B0BEC5",
                "#B0BEC5",
                "#B0BEC5",
                "#B0BEC5",
                "#B0BEC5",
                "#B0BEC5",
                "#B0BEC5",
                "#B0BEC5",
                "#B0BEC5",
                "#B0BEC5",
                "#B0BEC5",
                "#B0BEC5",
                "#B0BEC5",
                "#B0BEC5",
                "#B0BEC5",
                "#B0BEC5",
                "#B0BEC5",
                "#B0BEC5",
                "#B0BEC5",
                "#B0BEC5",
                "#B0BEC5",
                "#B0BEC5",
                "#B0BEC5",
                "#B0BEC5",
                "#B0BEC5",
                "#B0BEC5",
                "#B0BEC5",
                "#B0BEC5",
                "#B0BEC5",
                "#B0BEC5",
                "#B0BEC5",
                "#B0BEC5",
                "#B0BEC5",
                "#B0BEC5",
                "#B0BEC5",
                "#B0BEC5",
                "#B0BEC5",
                "#B0BEC5",
                "#B0BEC5",
                "#B0BEC5",
                "#B0BEC5",
                "#B0BEC5",
                "#B0BEC5",
                "#B0BEC5",
                "#B0BEC5",
                "#B0BEC5",
                "#B0BEC5",
                "#B0BEC5",
                "#B0BEC5",
                "#B0BEC5",
                "#B0BEC5",
                "#B0BEC5",
                "#B0BEC5",
                "#B0BEC5",
                "#B0BEC5",
                "#B0BEC5",
                "#B0BEC5"
               ]
              ]
             }
            ],
            "label": "Topic 0",
            "method": "update"
           },
           {
            "args": [
             {
              "marker.color": [
               [
                "#B0BEC5",
                "red",
                "#B0BEC5",
                "#B0BEC5",
                "#B0BEC5",
                "#B0BEC5",
                "#B0BEC5",
                "#B0BEC5",
                "#B0BEC5",
                "#B0BEC5",
                "#B0BEC5",
                "#B0BEC5",
                "#B0BEC5",
                "#B0BEC5",
                "#B0BEC5",
                "#B0BEC5",
                "#B0BEC5",
                "#B0BEC5",
                "#B0BEC5",
                "#B0BEC5",
                "#B0BEC5",
                "#B0BEC5",
                "#B0BEC5",
                "#B0BEC5",
                "#B0BEC5",
                "#B0BEC5",
                "#B0BEC5",
                "#B0BEC5",
                "#B0BEC5",
                "#B0BEC5",
                "#B0BEC5",
                "#B0BEC5",
                "#B0BEC5",
                "#B0BEC5",
                "#B0BEC5",
                "#B0BEC5",
                "#B0BEC5",
                "#B0BEC5",
                "#B0BEC5",
                "#B0BEC5",
                "#B0BEC5",
                "#B0BEC5",
                "#B0BEC5",
                "#B0BEC5",
                "#B0BEC5",
                "#B0BEC5",
                "#B0BEC5",
                "#B0BEC5",
                "#B0BEC5",
                "#B0BEC5",
                "#B0BEC5",
                "#B0BEC5",
                "#B0BEC5",
                "#B0BEC5",
                "#B0BEC5",
                "#B0BEC5",
                "#B0BEC5",
                "#B0BEC5",
                "#B0BEC5",
                "#B0BEC5",
                "#B0BEC5",
                "#B0BEC5",
                "#B0BEC5",
                "#B0BEC5",
                "#B0BEC5",
                "#B0BEC5",
                "#B0BEC5",
                "#B0BEC5"
               ]
              ]
             }
            ],
            "label": "Topic 1",
            "method": "update"
           },
           {
            "args": [
             {
              "marker.color": [
               [
                "#B0BEC5",
                "#B0BEC5",
                "red",
                "#B0BEC5",
                "#B0BEC5",
                "#B0BEC5",
                "#B0BEC5",
                "#B0BEC5",
                "#B0BEC5",
                "#B0BEC5",
                "#B0BEC5",
                "#B0BEC5",
                "#B0BEC5",
                "#B0BEC5",
                "#B0BEC5",
                "#B0BEC5",
                "#B0BEC5",
                "#B0BEC5",
                "#B0BEC5",
                "#B0BEC5",
                "#B0BEC5",
                "#B0BEC5",
                "#B0BEC5",
                "#B0BEC5",
                "#B0BEC5",
                "#B0BEC5",
                "#B0BEC5",
                "#B0BEC5",
                "#B0BEC5",
                "#B0BEC5",
                "#B0BEC5",
                "#B0BEC5",
                "#B0BEC5",
                "#B0BEC5",
                "#B0BEC5",
                "#B0BEC5",
                "#B0BEC5",
                "#B0BEC5",
                "#B0BEC5",
                "#B0BEC5",
                "#B0BEC5",
                "#B0BEC5",
                "#B0BEC5",
                "#B0BEC5",
                "#B0BEC5",
                "#B0BEC5",
                "#B0BEC5",
                "#B0BEC5",
                "#B0BEC5",
                "#B0BEC5",
                "#B0BEC5",
                "#B0BEC5",
                "#B0BEC5",
                "#B0BEC5",
                "#B0BEC5",
                "#B0BEC5",
                "#B0BEC5",
                "#B0BEC5",
                "#B0BEC5",
                "#B0BEC5",
                "#B0BEC5",
                "#B0BEC5",
                "#B0BEC5",
                "#B0BEC5",
                "#B0BEC5",
                "#B0BEC5",
                "#B0BEC5",
                "#B0BEC5"
               ]
              ]
             }
            ],
            "label": "Topic 2",
            "method": "update"
           },
           {
            "args": [
             {
              "marker.color": [
               [
                "#B0BEC5",
                "#B0BEC5",
                "#B0BEC5",
                "red",
                "#B0BEC5",
                "#B0BEC5",
                "#B0BEC5",
                "#B0BEC5",
                "#B0BEC5",
                "#B0BEC5",
                "#B0BEC5",
                "#B0BEC5",
                "#B0BEC5",
                "#B0BEC5",
                "#B0BEC5",
                "#B0BEC5",
                "#B0BEC5",
                "#B0BEC5",
                "#B0BEC5",
                "#B0BEC5",
                "#B0BEC5",
                "#B0BEC5",
                "#B0BEC5",
                "#B0BEC5",
                "#B0BEC5",
                "#B0BEC5",
                "#B0BEC5",
                "#B0BEC5",
                "#B0BEC5",
                "#B0BEC5",
                "#B0BEC5",
                "#B0BEC5",
                "#B0BEC5",
                "#B0BEC5",
                "#B0BEC5",
                "#B0BEC5",
                "#B0BEC5",
                "#B0BEC5",
                "#B0BEC5",
                "#B0BEC5",
                "#B0BEC5",
                "#B0BEC5",
                "#B0BEC5",
                "#B0BEC5",
                "#B0BEC5",
                "#B0BEC5",
                "#B0BEC5",
                "#B0BEC5",
                "#B0BEC5",
                "#B0BEC5",
                "#B0BEC5",
                "#B0BEC5",
                "#B0BEC5",
                "#B0BEC5",
                "#B0BEC5",
                "#B0BEC5",
                "#B0BEC5",
                "#B0BEC5",
                "#B0BEC5",
                "#B0BEC5",
                "#B0BEC5",
                "#B0BEC5",
                "#B0BEC5",
                "#B0BEC5",
                "#B0BEC5",
                "#B0BEC5",
                "#B0BEC5",
                "#B0BEC5"
               ]
              ]
             }
            ],
            "label": "Topic 3",
            "method": "update"
           },
           {
            "args": [
             {
              "marker.color": [
               [
                "#B0BEC5",
                "#B0BEC5",
                "#B0BEC5",
                "#B0BEC5",
                "red",
                "#B0BEC5",
                "#B0BEC5",
                "#B0BEC5",
                "#B0BEC5",
                "#B0BEC5",
                "#B0BEC5",
                "#B0BEC5",
                "#B0BEC5",
                "#B0BEC5",
                "#B0BEC5",
                "#B0BEC5",
                "#B0BEC5",
                "#B0BEC5",
                "#B0BEC5",
                "#B0BEC5",
                "#B0BEC5",
                "#B0BEC5",
                "#B0BEC5",
                "#B0BEC5",
                "#B0BEC5",
                "#B0BEC5",
                "#B0BEC5",
                "#B0BEC5",
                "#B0BEC5",
                "#B0BEC5",
                "#B0BEC5",
                "#B0BEC5",
                "#B0BEC5",
                "#B0BEC5",
                "#B0BEC5",
                "#B0BEC5",
                "#B0BEC5",
                "#B0BEC5",
                "#B0BEC5",
                "#B0BEC5",
                "#B0BEC5",
                "#B0BEC5",
                "#B0BEC5",
                "#B0BEC5",
                "#B0BEC5",
                "#B0BEC5",
                "#B0BEC5",
                "#B0BEC5",
                "#B0BEC5",
                "#B0BEC5",
                "#B0BEC5",
                "#B0BEC5",
                "#B0BEC5",
                "#B0BEC5",
                "#B0BEC5",
                "#B0BEC5",
                "#B0BEC5",
                "#B0BEC5",
                "#B0BEC5",
                "#B0BEC5",
                "#B0BEC5",
                "#B0BEC5",
                "#B0BEC5",
                "#B0BEC5",
                "#B0BEC5",
                "#B0BEC5",
                "#B0BEC5",
                "#B0BEC5"
               ]
              ]
             }
            ],
            "label": "Topic 4",
            "method": "update"
           },
           {
            "args": [
             {
              "marker.color": [
               [
                "#B0BEC5",
                "#B0BEC5",
                "#B0BEC5",
                "#B0BEC5",
                "#B0BEC5",
                "red",
                "#B0BEC5",
                "#B0BEC5",
                "#B0BEC5",
                "#B0BEC5",
                "#B0BEC5",
                "#B0BEC5",
                "#B0BEC5",
                "#B0BEC5",
                "#B0BEC5",
                "#B0BEC5",
                "#B0BEC5",
                "#B0BEC5",
                "#B0BEC5",
                "#B0BEC5",
                "#B0BEC5",
                "#B0BEC5",
                "#B0BEC5",
                "#B0BEC5",
                "#B0BEC5",
                "#B0BEC5",
                "#B0BEC5",
                "#B0BEC5",
                "#B0BEC5",
                "#B0BEC5",
                "#B0BEC5",
                "#B0BEC5",
                "#B0BEC5",
                "#B0BEC5",
                "#B0BEC5",
                "#B0BEC5",
                "#B0BEC5",
                "#B0BEC5",
                "#B0BEC5",
                "#B0BEC5",
                "#B0BEC5",
                "#B0BEC5",
                "#B0BEC5",
                "#B0BEC5",
                "#B0BEC5",
                "#B0BEC5",
                "#B0BEC5",
                "#B0BEC5",
                "#B0BEC5",
                "#B0BEC5",
                "#B0BEC5",
                "#B0BEC5",
                "#B0BEC5",
                "#B0BEC5",
                "#B0BEC5",
                "#B0BEC5",
                "#B0BEC5",
                "#B0BEC5",
                "#B0BEC5",
                "#B0BEC5",
                "#B0BEC5",
                "#B0BEC5",
                "#B0BEC5",
                "#B0BEC5",
                "#B0BEC5",
                "#B0BEC5",
                "#B0BEC5",
                "#B0BEC5"
               ]
              ]
             }
            ],
            "label": "Topic 5",
            "method": "update"
           },
           {
            "args": [
             {
              "marker.color": [
               [
                "#B0BEC5",
                "#B0BEC5",
                "#B0BEC5",
                "#B0BEC5",
                "#B0BEC5",
                "#B0BEC5",
                "red",
                "#B0BEC5",
                "#B0BEC5",
                "#B0BEC5",
                "#B0BEC5",
                "#B0BEC5",
                "#B0BEC5",
                "#B0BEC5",
                "#B0BEC5",
                "#B0BEC5",
                "#B0BEC5",
                "#B0BEC5",
                "#B0BEC5",
                "#B0BEC5",
                "#B0BEC5",
                "#B0BEC5",
                "#B0BEC5",
                "#B0BEC5",
                "#B0BEC5",
                "#B0BEC5",
                "#B0BEC5",
                "#B0BEC5",
                "#B0BEC5",
                "#B0BEC5",
                "#B0BEC5",
                "#B0BEC5",
                "#B0BEC5",
                "#B0BEC5",
                "#B0BEC5",
                "#B0BEC5",
                "#B0BEC5",
                "#B0BEC5",
                "#B0BEC5",
                "#B0BEC5",
                "#B0BEC5",
                "#B0BEC5",
                "#B0BEC5",
                "#B0BEC5",
                "#B0BEC5",
                "#B0BEC5",
                "#B0BEC5",
                "#B0BEC5",
                "#B0BEC5",
                "#B0BEC5",
                "#B0BEC5",
                "#B0BEC5",
                "#B0BEC5",
                "#B0BEC5",
                "#B0BEC5",
                "#B0BEC5",
                "#B0BEC5",
                "#B0BEC5",
                "#B0BEC5",
                "#B0BEC5",
                "#B0BEC5",
                "#B0BEC5",
                "#B0BEC5",
                "#B0BEC5",
                "#B0BEC5",
                "#B0BEC5",
                "#B0BEC5",
                "#B0BEC5"
               ]
              ]
             }
            ],
            "label": "Topic 6",
            "method": "update"
           },
           {
            "args": [
             {
              "marker.color": [
               [
                "#B0BEC5",
                "#B0BEC5",
                "#B0BEC5",
                "#B0BEC5",
                "#B0BEC5",
                "#B0BEC5",
                "#B0BEC5",
                "red",
                "#B0BEC5",
                "#B0BEC5",
                "#B0BEC5",
                "#B0BEC5",
                "#B0BEC5",
                "#B0BEC5",
                "#B0BEC5",
                "#B0BEC5",
                "#B0BEC5",
                "#B0BEC5",
                "#B0BEC5",
                "#B0BEC5",
                "#B0BEC5",
                "#B0BEC5",
                "#B0BEC5",
                "#B0BEC5",
                "#B0BEC5",
                "#B0BEC5",
                "#B0BEC5",
                "#B0BEC5",
                "#B0BEC5",
                "#B0BEC5",
                "#B0BEC5",
                "#B0BEC5",
                "#B0BEC5",
                "#B0BEC5",
                "#B0BEC5",
                "#B0BEC5",
                "#B0BEC5",
                "#B0BEC5",
                "#B0BEC5",
                "#B0BEC5",
                "#B0BEC5",
                "#B0BEC5",
                "#B0BEC5",
                "#B0BEC5",
                "#B0BEC5",
                "#B0BEC5",
                "#B0BEC5",
                "#B0BEC5",
                "#B0BEC5",
                "#B0BEC5",
                "#B0BEC5",
                "#B0BEC5",
                "#B0BEC5",
                "#B0BEC5",
                "#B0BEC5",
                "#B0BEC5",
                "#B0BEC5",
                "#B0BEC5",
                "#B0BEC5",
                "#B0BEC5",
                "#B0BEC5",
                "#B0BEC5",
                "#B0BEC5",
                "#B0BEC5",
                "#B0BEC5",
                "#B0BEC5",
                "#B0BEC5",
                "#B0BEC5"
               ]
              ]
             }
            ],
            "label": "Topic 7",
            "method": "update"
           },
           {
            "args": [
             {
              "marker.color": [
               [
                "#B0BEC5",
                "#B0BEC5",
                "#B0BEC5",
                "#B0BEC5",
                "#B0BEC5",
                "#B0BEC5",
                "#B0BEC5",
                "#B0BEC5",
                "red",
                "#B0BEC5",
                "#B0BEC5",
                "#B0BEC5",
                "#B0BEC5",
                "#B0BEC5",
                "#B0BEC5",
                "#B0BEC5",
                "#B0BEC5",
                "#B0BEC5",
                "#B0BEC5",
                "#B0BEC5",
                "#B0BEC5",
                "#B0BEC5",
                "#B0BEC5",
                "#B0BEC5",
                "#B0BEC5",
                "#B0BEC5",
                "#B0BEC5",
                "#B0BEC5",
                "#B0BEC5",
                "#B0BEC5",
                "#B0BEC5",
                "#B0BEC5",
                "#B0BEC5",
                "#B0BEC5",
                "#B0BEC5",
                "#B0BEC5",
                "#B0BEC5",
                "#B0BEC5",
                "#B0BEC5",
                "#B0BEC5",
                "#B0BEC5",
                "#B0BEC5",
                "#B0BEC5",
                "#B0BEC5",
                "#B0BEC5",
                "#B0BEC5",
                "#B0BEC5",
                "#B0BEC5",
                "#B0BEC5",
                "#B0BEC5",
                "#B0BEC5",
                "#B0BEC5",
                "#B0BEC5",
                "#B0BEC5",
                "#B0BEC5",
                "#B0BEC5",
                "#B0BEC5",
                "#B0BEC5",
                "#B0BEC5",
                "#B0BEC5",
                "#B0BEC5",
                "#B0BEC5",
                "#B0BEC5",
                "#B0BEC5",
                "#B0BEC5",
                "#B0BEC5",
                "#B0BEC5",
                "#B0BEC5"
               ]
              ]
             }
            ],
            "label": "Topic 8",
            "method": "update"
           },
           {
            "args": [
             {
              "marker.color": [
               [
                "#B0BEC5",
                "#B0BEC5",
                "#B0BEC5",
                "#B0BEC5",
                "#B0BEC5",
                "#B0BEC5",
                "#B0BEC5",
                "#B0BEC5",
                "#B0BEC5",
                "red",
                "#B0BEC5",
                "#B0BEC5",
                "#B0BEC5",
                "#B0BEC5",
                "#B0BEC5",
                "#B0BEC5",
                "#B0BEC5",
                "#B0BEC5",
                "#B0BEC5",
                "#B0BEC5",
                "#B0BEC5",
                "#B0BEC5",
                "#B0BEC5",
                "#B0BEC5",
                "#B0BEC5",
                "#B0BEC5",
                "#B0BEC5",
                "#B0BEC5",
                "#B0BEC5",
                "#B0BEC5",
                "#B0BEC5",
                "#B0BEC5",
                "#B0BEC5",
                "#B0BEC5",
                "#B0BEC5",
                "#B0BEC5",
                "#B0BEC5",
                "#B0BEC5",
                "#B0BEC5",
                "#B0BEC5",
                "#B0BEC5",
                "#B0BEC5",
                "#B0BEC5",
                "#B0BEC5",
                "#B0BEC5",
                "#B0BEC5",
                "#B0BEC5",
                "#B0BEC5",
                "#B0BEC5",
                "#B0BEC5",
                "#B0BEC5",
                "#B0BEC5",
                "#B0BEC5",
                "#B0BEC5",
                "#B0BEC5",
                "#B0BEC5",
                "#B0BEC5",
                "#B0BEC5",
                "#B0BEC5",
                "#B0BEC5",
                "#B0BEC5",
                "#B0BEC5",
                "#B0BEC5",
                "#B0BEC5",
                "#B0BEC5",
                "#B0BEC5",
                "#B0BEC5",
                "#B0BEC5"
               ]
              ]
             }
            ],
            "label": "Topic 9",
            "method": "update"
           },
           {
            "args": [
             {
              "marker.color": [
               [
                "#B0BEC5",
                "#B0BEC5",
                "#B0BEC5",
                "#B0BEC5",
                "#B0BEC5",
                "#B0BEC5",
                "#B0BEC5",
                "#B0BEC5",
                "#B0BEC5",
                "#B0BEC5",
                "red",
                "#B0BEC5",
                "#B0BEC5",
                "#B0BEC5",
                "#B0BEC5",
                "#B0BEC5",
                "#B0BEC5",
                "#B0BEC5",
                "#B0BEC5",
                "#B0BEC5",
                "#B0BEC5",
                "#B0BEC5",
                "#B0BEC5",
                "#B0BEC5",
                "#B0BEC5",
                "#B0BEC5",
                "#B0BEC5",
                "#B0BEC5",
                "#B0BEC5",
                "#B0BEC5",
                "#B0BEC5",
                "#B0BEC5",
                "#B0BEC5",
                "#B0BEC5",
                "#B0BEC5",
                "#B0BEC5",
                "#B0BEC5",
                "#B0BEC5",
                "#B0BEC5",
                "#B0BEC5",
                "#B0BEC5",
                "#B0BEC5",
                "#B0BEC5",
                "#B0BEC5",
                "#B0BEC5",
                "#B0BEC5",
                "#B0BEC5",
                "#B0BEC5",
                "#B0BEC5",
                "#B0BEC5",
                "#B0BEC5",
                "#B0BEC5",
                "#B0BEC5",
                "#B0BEC5",
                "#B0BEC5",
                "#B0BEC5",
                "#B0BEC5",
                "#B0BEC5",
                "#B0BEC5",
                "#B0BEC5",
                "#B0BEC5",
                "#B0BEC5",
                "#B0BEC5",
                "#B0BEC5",
                "#B0BEC5",
                "#B0BEC5",
                "#B0BEC5",
                "#B0BEC5"
               ]
              ]
             }
            ],
            "label": "Topic 10",
            "method": "update"
           },
           {
            "args": [
             {
              "marker.color": [
               [
                "#B0BEC5",
                "#B0BEC5",
                "#B0BEC5",
                "#B0BEC5",
                "#B0BEC5",
                "#B0BEC5",
                "#B0BEC5",
                "#B0BEC5",
                "#B0BEC5",
                "#B0BEC5",
                "#B0BEC5",
                "red",
                "#B0BEC5",
                "#B0BEC5",
                "#B0BEC5",
                "#B0BEC5",
                "#B0BEC5",
                "#B0BEC5",
                "#B0BEC5",
                "#B0BEC5",
                "#B0BEC5",
                "#B0BEC5",
                "#B0BEC5",
                "#B0BEC5",
                "#B0BEC5",
                "#B0BEC5",
                "#B0BEC5",
                "#B0BEC5",
                "#B0BEC5",
                "#B0BEC5",
                "#B0BEC5",
                "#B0BEC5",
                "#B0BEC5",
                "#B0BEC5",
                "#B0BEC5",
                "#B0BEC5",
                "#B0BEC5",
                "#B0BEC5",
                "#B0BEC5",
                "#B0BEC5",
                "#B0BEC5",
                "#B0BEC5",
                "#B0BEC5",
                "#B0BEC5",
                "#B0BEC5",
                "#B0BEC5",
                "#B0BEC5",
                "#B0BEC5",
                "#B0BEC5",
                "#B0BEC5",
                "#B0BEC5",
                "#B0BEC5",
                "#B0BEC5",
                "#B0BEC5",
                "#B0BEC5",
                "#B0BEC5",
                "#B0BEC5",
                "#B0BEC5",
                "#B0BEC5",
                "#B0BEC5",
                "#B0BEC5",
                "#B0BEC5",
                "#B0BEC5",
                "#B0BEC5",
                "#B0BEC5",
                "#B0BEC5",
                "#B0BEC5",
                "#B0BEC5"
               ]
              ]
             }
            ],
            "label": "Topic 11",
            "method": "update"
           },
           {
            "args": [
             {
              "marker.color": [
               [
                "#B0BEC5",
                "#B0BEC5",
                "#B0BEC5",
                "#B0BEC5",
                "#B0BEC5",
                "#B0BEC5",
                "#B0BEC5",
                "#B0BEC5",
                "#B0BEC5",
                "#B0BEC5",
                "#B0BEC5",
                "#B0BEC5",
                "red",
                "#B0BEC5",
                "#B0BEC5",
                "#B0BEC5",
                "#B0BEC5",
                "#B0BEC5",
                "#B0BEC5",
                "#B0BEC5",
                "#B0BEC5",
                "#B0BEC5",
                "#B0BEC5",
                "#B0BEC5",
                "#B0BEC5",
                "#B0BEC5",
                "#B0BEC5",
                "#B0BEC5",
                "#B0BEC5",
                "#B0BEC5",
                "#B0BEC5",
                "#B0BEC5",
                "#B0BEC5",
                "#B0BEC5",
                "#B0BEC5",
                "#B0BEC5",
                "#B0BEC5",
                "#B0BEC5",
                "#B0BEC5",
                "#B0BEC5",
                "#B0BEC5",
                "#B0BEC5",
                "#B0BEC5",
                "#B0BEC5",
                "#B0BEC5",
                "#B0BEC5",
                "#B0BEC5",
                "#B0BEC5",
                "#B0BEC5",
                "#B0BEC5",
                "#B0BEC5",
                "#B0BEC5",
                "#B0BEC5",
                "#B0BEC5",
                "#B0BEC5",
                "#B0BEC5",
                "#B0BEC5",
                "#B0BEC5",
                "#B0BEC5",
                "#B0BEC5",
                "#B0BEC5",
                "#B0BEC5",
                "#B0BEC5",
                "#B0BEC5",
                "#B0BEC5",
                "#B0BEC5",
                "#B0BEC5",
                "#B0BEC5"
               ]
              ]
             }
            ],
            "label": "Topic 12",
            "method": "update"
           },
           {
            "args": [
             {
              "marker.color": [
               [
                "#B0BEC5",
                "#B0BEC5",
                "#B0BEC5",
                "#B0BEC5",
                "#B0BEC5",
                "#B0BEC5",
                "#B0BEC5",
                "#B0BEC5",
                "#B0BEC5",
                "#B0BEC5",
                "#B0BEC5",
                "#B0BEC5",
                "#B0BEC5",
                "red",
                "#B0BEC5",
                "#B0BEC5",
                "#B0BEC5",
                "#B0BEC5",
                "#B0BEC5",
                "#B0BEC5",
                "#B0BEC5",
                "#B0BEC5",
                "#B0BEC5",
                "#B0BEC5",
                "#B0BEC5",
                "#B0BEC5",
                "#B0BEC5",
                "#B0BEC5",
                "#B0BEC5",
                "#B0BEC5",
                "#B0BEC5",
                "#B0BEC5",
                "#B0BEC5",
                "#B0BEC5",
                "#B0BEC5",
                "#B0BEC5",
                "#B0BEC5",
                "#B0BEC5",
                "#B0BEC5",
                "#B0BEC5",
                "#B0BEC5",
                "#B0BEC5",
                "#B0BEC5",
                "#B0BEC5",
                "#B0BEC5",
                "#B0BEC5",
                "#B0BEC5",
                "#B0BEC5",
                "#B0BEC5",
                "#B0BEC5",
                "#B0BEC5",
                "#B0BEC5",
                "#B0BEC5",
                "#B0BEC5",
                "#B0BEC5",
                "#B0BEC5",
                "#B0BEC5",
                "#B0BEC5",
                "#B0BEC5",
                "#B0BEC5",
                "#B0BEC5",
                "#B0BEC5",
                "#B0BEC5",
                "#B0BEC5",
                "#B0BEC5",
                "#B0BEC5",
                "#B0BEC5",
                "#B0BEC5"
               ]
              ]
             }
            ],
            "label": "Topic 13",
            "method": "update"
           },
           {
            "args": [
             {
              "marker.color": [
               [
                "#B0BEC5",
                "#B0BEC5",
                "#B0BEC5",
                "#B0BEC5",
                "#B0BEC5",
                "#B0BEC5",
                "#B0BEC5",
                "#B0BEC5",
                "#B0BEC5",
                "#B0BEC5",
                "#B0BEC5",
                "#B0BEC5",
                "#B0BEC5",
                "#B0BEC5",
                "red",
                "#B0BEC5",
                "#B0BEC5",
                "#B0BEC5",
                "#B0BEC5",
                "#B0BEC5",
                "#B0BEC5",
                "#B0BEC5",
                "#B0BEC5",
                "#B0BEC5",
                "#B0BEC5",
                "#B0BEC5",
                "#B0BEC5",
                "#B0BEC5",
                "#B0BEC5",
                "#B0BEC5",
                "#B0BEC5",
                "#B0BEC5",
                "#B0BEC5",
                "#B0BEC5",
                "#B0BEC5",
                "#B0BEC5",
                "#B0BEC5",
                "#B0BEC5",
                "#B0BEC5",
                "#B0BEC5",
                "#B0BEC5",
                "#B0BEC5",
                "#B0BEC5",
                "#B0BEC5",
                "#B0BEC5",
                "#B0BEC5",
                "#B0BEC5",
                "#B0BEC5",
                "#B0BEC5",
                "#B0BEC5",
                "#B0BEC5",
                "#B0BEC5",
                "#B0BEC5",
                "#B0BEC5",
                "#B0BEC5",
                "#B0BEC5",
                "#B0BEC5",
                "#B0BEC5",
                "#B0BEC5",
                "#B0BEC5",
                "#B0BEC5",
                "#B0BEC5",
                "#B0BEC5",
                "#B0BEC5",
                "#B0BEC5",
                "#B0BEC5",
                "#B0BEC5",
                "#B0BEC5"
               ]
              ]
             }
            ],
            "label": "Topic 14",
            "method": "update"
           },
           {
            "args": [
             {
              "marker.color": [
               [
                "#B0BEC5",
                "#B0BEC5",
                "#B0BEC5",
                "#B0BEC5",
                "#B0BEC5",
                "#B0BEC5",
                "#B0BEC5",
                "#B0BEC5",
                "#B0BEC5",
                "#B0BEC5",
                "#B0BEC5",
                "#B0BEC5",
                "#B0BEC5",
                "#B0BEC5",
                "#B0BEC5",
                "red",
                "#B0BEC5",
                "#B0BEC5",
                "#B0BEC5",
                "#B0BEC5",
                "#B0BEC5",
                "#B0BEC5",
                "#B0BEC5",
                "#B0BEC5",
                "#B0BEC5",
                "#B0BEC5",
                "#B0BEC5",
                "#B0BEC5",
                "#B0BEC5",
                "#B0BEC5",
                "#B0BEC5",
                "#B0BEC5",
                "#B0BEC5",
                "#B0BEC5",
                "#B0BEC5",
                "#B0BEC5",
                "#B0BEC5",
                "#B0BEC5",
                "#B0BEC5",
                "#B0BEC5",
                "#B0BEC5",
                "#B0BEC5",
                "#B0BEC5",
                "#B0BEC5",
                "#B0BEC5",
                "#B0BEC5",
                "#B0BEC5",
                "#B0BEC5",
                "#B0BEC5",
                "#B0BEC5",
                "#B0BEC5",
                "#B0BEC5",
                "#B0BEC5",
                "#B0BEC5",
                "#B0BEC5",
                "#B0BEC5",
                "#B0BEC5",
                "#B0BEC5",
                "#B0BEC5",
                "#B0BEC5",
                "#B0BEC5",
                "#B0BEC5",
                "#B0BEC5",
                "#B0BEC5",
                "#B0BEC5",
                "#B0BEC5",
                "#B0BEC5",
                "#B0BEC5"
               ]
              ]
             }
            ],
            "label": "Topic 15",
            "method": "update"
           },
           {
            "args": [
             {
              "marker.color": [
               [
                "#B0BEC5",
                "#B0BEC5",
                "#B0BEC5",
                "#B0BEC5",
                "#B0BEC5",
                "#B0BEC5",
                "#B0BEC5",
                "#B0BEC5",
                "#B0BEC5",
                "#B0BEC5",
                "#B0BEC5",
                "#B0BEC5",
                "#B0BEC5",
                "#B0BEC5",
                "#B0BEC5",
                "#B0BEC5",
                "red",
                "#B0BEC5",
                "#B0BEC5",
                "#B0BEC5",
                "#B0BEC5",
                "#B0BEC5",
                "#B0BEC5",
                "#B0BEC5",
                "#B0BEC5",
                "#B0BEC5",
                "#B0BEC5",
                "#B0BEC5",
                "#B0BEC5",
                "#B0BEC5",
                "#B0BEC5",
                "#B0BEC5",
                "#B0BEC5",
                "#B0BEC5",
                "#B0BEC5",
                "#B0BEC5",
                "#B0BEC5",
                "#B0BEC5",
                "#B0BEC5",
                "#B0BEC5",
                "#B0BEC5",
                "#B0BEC5",
                "#B0BEC5",
                "#B0BEC5",
                "#B0BEC5",
                "#B0BEC5",
                "#B0BEC5",
                "#B0BEC5",
                "#B0BEC5",
                "#B0BEC5",
                "#B0BEC5",
                "#B0BEC5",
                "#B0BEC5",
                "#B0BEC5",
                "#B0BEC5",
                "#B0BEC5",
                "#B0BEC5",
                "#B0BEC5",
                "#B0BEC5",
                "#B0BEC5",
                "#B0BEC5",
                "#B0BEC5",
                "#B0BEC5",
                "#B0BEC5",
                "#B0BEC5",
                "#B0BEC5",
                "#B0BEC5",
                "#B0BEC5"
               ]
              ]
             }
            ],
            "label": "Topic 16",
            "method": "update"
           },
           {
            "args": [
             {
              "marker.color": [
               [
                "#B0BEC5",
                "#B0BEC5",
                "#B0BEC5",
                "#B0BEC5",
                "#B0BEC5",
                "#B0BEC5",
                "#B0BEC5",
                "#B0BEC5",
                "#B0BEC5",
                "#B0BEC5",
                "#B0BEC5",
                "#B0BEC5",
                "#B0BEC5",
                "#B0BEC5",
                "#B0BEC5",
                "#B0BEC5",
                "#B0BEC5",
                "red",
                "#B0BEC5",
                "#B0BEC5",
                "#B0BEC5",
                "#B0BEC5",
                "#B0BEC5",
                "#B0BEC5",
                "#B0BEC5",
                "#B0BEC5",
                "#B0BEC5",
                "#B0BEC5",
                "#B0BEC5",
                "#B0BEC5",
                "#B0BEC5",
                "#B0BEC5",
                "#B0BEC5",
                "#B0BEC5",
                "#B0BEC5",
                "#B0BEC5",
                "#B0BEC5",
                "#B0BEC5",
                "#B0BEC5",
                "#B0BEC5",
                "#B0BEC5",
                "#B0BEC5",
                "#B0BEC5",
                "#B0BEC5",
                "#B0BEC5",
                "#B0BEC5",
                "#B0BEC5",
                "#B0BEC5",
                "#B0BEC5",
                "#B0BEC5",
                "#B0BEC5",
                "#B0BEC5",
                "#B0BEC5",
                "#B0BEC5",
                "#B0BEC5",
                "#B0BEC5",
                "#B0BEC5",
                "#B0BEC5",
                "#B0BEC5",
                "#B0BEC5",
                "#B0BEC5",
                "#B0BEC5",
                "#B0BEC5",
                "#B0BEC5",
                "#B0BEC5",
                "#B0BEC5",
                "#B0BEC5",
                "#B0BEC5"
               ]
              ]
             }
            ],
            "label": "Topic 17",
            "method": "update"
           },
           {
            "args": [
             {
              "marker.color": [
               [
                "#B0BEC5",
                "#B0BEC5",
                "#B0BEC5",
                "#B0BEC5",
                "#B0BEC5",
                "#B0BEC5",
                "#B0BEC5",
                "#B0BEC5",
                "#B0BEC5",
                "#B0BEC5",
                "#B0BEC5",
                "#B0BEC5",
                "#B0BEC5",
                "#B0BEC5",
                "#B0BEC5",
                "#B0BEC5",
                "#B0BEC5",
                "#B0BEC5",
                "red",
                "#B0BEC5",
                "#B0BEC5",
                "#B0BEC5",
                "#B0BEC5",
                "#B0BEC5",
                "#B0BEC5",
                "#B0BEC5",
                "#B0BEC5",
                "#B0BEC5",
                "#B0BEC5",
                "#B0BEC5",
                "#B0BEC5",
                "#B0BEC5",
                "#B0BEC5",
                "#B0BEC5",
                "#B0BEC5",
                "#B0BEC5",
                "#B0BEC5",
                "#B0BEC5",
                "#B0BEC5",
                "#B0BEC5",
                "#B0BEC5",
                "#B0BEC5",
                "#B0BEC5",
                "#B0BEC5",
                "#B0BEC5",
                "#B0BEC5",
                "#B0BEC5",
                "#B0BEC5",
                "#B0BEC5",
                "#B0BEC5",
                "#B0BEC5",
                "#B0BEC5",
                "#B0BEC5",
                "#B0BEC5",
                "#B0BEC5",
                "#B0BEC5",
                "#B0BEC5",
                "#B0BEC5",
                "#B0BEC5",
                "#B0BEC5",
                "#B0BEC5",
                "#B0BEC5",
                "#B0BEC5",
                "#B0BEC5",
                "#B0BEC5",
                "#B0BEC5",
                "#B0BEC5",
                "#B0BEC5"
               ]
              ]
             }
            ],
            "label": "Topic 18",
            "method": "update"
           },
           {
            "args": [
             {
              "marker.color": [
               [
                "#B0BEC5",
                "#B0BEC5",
                "#B0BEC5",
                "#B0BEC5",
                "#B0BEC5",
                "#B0BEC5",
                "#B0BEC5",
                "#B0BEC5",
                "#B0BEC5",
                "#B0BEC5",
                "#B0BEC5",
                "#B0BEC5",
                "#B0BEC5",
                "#B0BEC5",
                "#B0BEC5",
                "#B0BEC5",
                "#B0BEC5",
                "#B0BEC5",
                "#B0BEC5",
                "red",
                "#B0BEC5",
                "#B0BEC5",
                "#B0BEC5",
                "#B0BEC5",
                "#B0BEC5",
                "#B0BEC5",
                "#B0BEC5",
                "#B0BEC5",
                "#B0BEC5",
                "#B0BEC5",
                "#B0BEC5",
                "#B0BEC5",
                "#B0BEC5",
                "#B0BEC5",
                "#B0BEC5",
                "#B0BEC5",
                "#B0BEC5",
                "#B0BEC5",
                "#B0BEC5",
                "#B0BEC5",
                "#B0BEC5",
                "#B0BEC5",
                "#B0BEC5",
                "#B0BEC5",
                "#B0BEC5",
                "#B0BEC5",
                "#B0BEC5",
                "#B0BEC5",
                "#B0BEC5",
                "#B0BEC5",
                "#B0BEC5",
                "#B0BEC5",
                "#B0BEC5",
                "#B0BEC5",
                "#B0BEC5",
                "#B0BEC5",
                "#B0BEC5",
                "#B0BEC5",
                "#B0BEC5",
                "#B0BEC5",
                "#B0BEC5",
                "#B0BEC5",
                "#B0BEC5",
                "#B0BEC5",
                "#B0BEC5",
                "#B0BEC5",
                "#B0BEC5",
                "#B0BEC5"
               ]
              ]
             }
            ],
            "label": "Topic 19",
            "method": "update"
           },
           {
            "args": [
             {
              "marker.color": [
               [
                "#B0BEC5",
                "#B0BEC5",
                "#B0BEC5",
                "#B0BEC5",
                "#B0BEC5",
                "#B0BEC5",
                "#B0BEC5",
                "#B0BEC5",
                "#B0BEC5",
                "#B0BEC5",
                "#B0BEC5",
                "#B0BEC5",
                "#B0BEC5",
                "#B0BEC5",
                "#B0BEC5",
                "#B0BEC5",
                "#B0BEC5",
                "#B0BEC5",
                "#B0BEC5",
                "#B0BEC5",
                "red",
                "#B0BEC5",
                "#B0BEC5",
                "#B0BEC5",
                "#B0BEC5",
                "#B0BEC5",
                "#B0BEC5",
                "#B0BEC5",
                "#B0BEC5",
                "#B0BEC5",
                "#B0BEC5",
                "#B0BEC5",
                "#B0BEC5",
                "#B0BEC5",
                "#B0BEC5",
                "#B0BEC5",
                "#B0BEC5",
                "#B0BEC5",
                "#B0BEC5",
                "#B0BEC5",
                "#B0BEC5",
                "#B0BEC5",
                "#B0BEC5",
                "#B0BEC5",
                "#B0BEC5",
                "#B0BEC5",
                "#B0BEC5",
                "#B0BEC5",
                "#B0BEC5",
                "#B0BEC5",
                "#B0BEC5",
                "#B0BEC5",
                "#B0BEC5",
                "#B0BEC5",
                "#B0BEC5",
                "#B0BEC5",
                "#B0BEC5",
                "#B0BEC5",
                "#B0BEC5",
                "#B0BEC5",
                "#B0BEC5",
                "#B0BEC5",
                "#B0BEC5",
                "#B0BEC5",
                "#B0BEC5",
                "#B0BEC5",
                "#B0BEC5",
                "#B0BEC5"
               ]
              ]
             }
            ],
            "label": "Topic 20",
            "method": "update"
           },
           {
            "args": [
             {
              "marker.color": [
               [
                "#B0BEC5",
                "#B0BEC5",
                "#B0BEC5",
                "#B0BEC5",
                "#B0BEC5",
                "#B0BEC5",
                "#B0BEC5",
                "#B0BEC5",
                "#B0BEC5",
                "#B0BEC5",
                "#B0BEC5",
                "#B0BEC5",
                "#B0BEC5",
                "#B0BEC5",
                "#B0BEC5",
                "#B0BEC5",
                "#B0BEC5",
                "#B0BEC5",
                "#B0BEC5",
                "#B0BEC5",
                "#B0BEC5",
                "red",
                "#B0BEC5",
                "#B0BEC5",
                "#B0BEC5",
                "#B0BEC5",
                "#B0BEC5",
                "#B0BEC5",
                "#B0BEC5",
                "#B0BEC5",
                "#B0BEC5",
                "#B0BEC5",
                "#B0BEC5",
                "#B0BEC5",
                "#B0BEC5",
                "#B0BEC5",
                "#B0BEC5",
                "#B0BEC5",
                "#B0BEC5",
                "#B0BEC5",
                "#B0BEC5",
                "#B0BEC5",
                "#B0BEC5",
                "#B0BEC5",
                "#B0BEC5",
                "#B0BEC5",
                "#B0BEC5",
                "#B0BEC5",
                "#B0BEC5",
                "#B0BEC5",
                "#B0BEC5",
                "#B0BEC5",
                "#B0BEC5",
                "#B0BEC5",
                "#B0BEC5",
                "#B0BEC5",
                "#B0BEC5",
                "#B0BEC5",
                "#B0BEC5",
                "#B0BEC5",
                "#B0BEC5",
                "#B0BEC5",
                "#B0BEC5",
                "#B0BEC5",
                "#B0BEC5",
                "#B0BEC5",
                "#B0BEC5",
                "#B0BEC5"
               ]
              ]
             }
            ],
            "label": "Topic 21",
            "method": "update"
           },
           {
            "args": [
             {
              "marker.color": [
               [
                "#B0BEC5",
                "#B0BEC5",
                "#B0BEC5",
                "#B0BEC5",
                "#B0BEC5",
                "#B0BEC5",
                "#B0BEC5",
                "#B0BEC5",
                "#B0BEC5",
                "#B0BEC5",
                "#B0BEC5",
                "#B0BEC5",
                "#B0BEC5",
                "#B0BEC5",
                "#B0BEC5",
                "#B0BEC5",
                "#B0BEC5",
                "#B0BEC5",
                "#B0BEC5",
                "#B0BEC5",
                "#B0BEC5",
                "#B0BEC5",
                "red",
                "#B0BEC5",
                "#B0BEC5",
                "#B0BEC5",
                "#B0BEC5",
                "#B0BEC5",
                "#B0BEC5",
                "#B0BEC5",
                "#B0BEC5",
                "#B0BEC5",
                "#B0BEC5",
                "#B0BEC5",
                "#B0BEC5",
                "#B0BEC5",
                "#B0BEC5",
                "#B0BEC5",
                "#B0BEC5",
                "#B0BEC5",
                "#B0BEC5",
                "#B0BEC5",
                "#B0BEC5",
                "#B0BEC5",
                "#B0BEC5",
                "#B0BEC5",
                "#B0BEC5",
                "#B0BEC5",
                "#B0BEC5",
                "#B0BEC5",
                "#B0BEC5",
                "#B0BEC5",
                "#B0BEC5",
                "#B0BEC5",
                "#B0BEC5",
                "#B0BEC5",
                "#B0BEC5",
                "#B0BEC5",
                "#B0BEC5",
                "#B0BEC5",
                "#B0BEC5",
                "#B0BEC5",
                "#B0BEC5",
                "#B0BEC5",
                "#B0BEC5",
                "#B0BEC5",
                "#B0BEC5",
                "#B0BEC5"
               ]
              ]
             }
            ],
            "label": "Topic 22",
            "method": "update"
           },
           {
            "args": [
             {
              "marker.color": [
               [
                "#B0BEC5",
                "#B0BEC5",
                "#B0BEC5",
                "#B0BEC5",
                "#B0BEC5",
                "#B0BEC5",
                "#B0BEC5",
                "#B0BEC5",
                "#B0BEC5",
                "#B0BEC5",
                "#B0BEC5",
                "#B0BEC5",
                "#B0BEC5",
                "#B0BEC5",
                "#B0BEC5",
                "#B0BEC5",
                "#B0BEC5",
                "#B0BEC5",
                "#B0BEC5",
                "#B0BEC5",
                "#B0BEC5",
                "#B0BEC5",
                "#B0BEC5",
                "red",
                "#B0BEC5",
                "#B0BEC5",
                "#B0BEC5",
                "#B0BEC5",
                "#B0BEC5",
                "#B0BEC5",
                "#B0BEC5",
                "#B0BEC5",
                "#B0BEC5",
                "#B0BEC5",
                "#B0BEC5",
                "#B0BEC5",
                "#B0BEC5",
                "#B0BEC5",
                "#B0BEC5",
                "#B0BEC5",
                "#B0BEC5",
                "#B0BEC5",
                "#B0BEC5",
                "#B0BEC5",
                "#B0BEC5",
                "#B0BEC5",
                "#B0BEC5",
                "#B0BEC5",
                "#B0BEC5",
                "#B0BEC5",
                "#B0BEC5",
                "#B0BEC5",
                "#B0BEC5",
                "#B0BEC5",
                "#B0BEC5",
                "#B0BEC5",
                "#B0BEC5",
                "#B0BEC5",
                "#B0BEC5",
                "#B0BEC5",
                "#B0BEC5",
                "#B0BEC5",
                "#B0BEC5",
                "#B0BEC5",
                "#B0BEC5",
                "#B0BEC5",
                "#B0BEC5",
                "#B0BEC5"
               ]
              ]
             }
            ],
            "label": "Topic 23",
            "method": "update"
           },
           {
            "args": [
             {
              "marker.color": [
               [
                "#B0BEC5",
                "#B0BEC5",
                "#B0BEC5",
                "#B0BEC5",
                "#B0BEC5",
                "#B0BEC5",
                "#B0BEC5",
                "#B0BEC5",
                "#B0BEC5",
                "#B0BEC5",
                "#B0BEC5",
                "#B0BEC5",
                "#B0BEC5",
                "#B0BEC5",
                "#B0BEC5",
                "#B0BEC5",
                "#B0BEC5",
                "#B0BEC5",
                "#B0BEC5",
                "#B0BEC5",
                "#B0BEC5",
                "#B0BEC5",
                "#B0BEC5",
                "#B0BEC5",
                "red",
                "#B0BEC5",
                "#B0BEC5",
                "#B0BEC5",
                "#B0BEC5",
                "#B0BEC5",
                "#B0BEC5",
                "#B0BEC5",
                "#B0BEC5",
                "#B0BEC5",
                "#B0BEC5",
                "#B0BEC5",
                "#B0BEC5",
                "#B0BEC5",
                "#B0BEC5",
                "#B0BEC5",
                "#B0BEC5",
                "#B0BEC5",
                "#B0BEC5",
                "#B0BEC5",
                "#B0BEC5",
                "#B0BEC5",
                "#B0BEC5",
                "#B0BEC5",
                "#B0BEC5",
                "#B0BEC5",
                "#B0BEC5",
                "#B0BEC5",
                "#B0BEC5",
                "#B0BEC5",
                "#B0BEC5",
                "#B0BEC5",
                "#B0BEC5",
                "#B0BEC5",
                "#B0BEC5",
                "#B0BEC5",
                "#B0BEC5",
                "#B0BEC5",
                "#B0BEC5",
                "#B0BEC5",
                "#B0BEC5",
                "#B0BEC5",
                "#B0BEC5",
                "#B0BEC5"
               ]
              ]
             }
            ],
            "label": "Topic 24",
            "method": "update"
           },
           {
            "args": [
             {
              "marker.color": [
               [
                "#B0BEC5",
                "#B0BEC5",
                "#B0BEC5",
                "#B0BEC5",
                "#B0BEC5",
                "#B0BEC5",
                "#B0BEC5",
                "#B0BEC5",
                "#B0BEC5",
                "#B0BEC5",
                "#B0BEC5",
                "#B0BEC5",
                "#B0BEC5",
                "#B0BEC5",
                "#B0BEC5",
                "#B0BEC5",
                "#B0BEC5",
                "#B0BEC5",
                "#B0BEC5",
                "#B0BEC5",
                "#B0BEC5",
                "#B0BEC5",
                "#B0BEC5",
                "#B0BEC5",
                "#B0BEC5",
                "red",
                "#B0BEC5",
                "#B0BEC5",
                "#B0BEC5",
                "#B0BEC5",
                "#B0BEC5",
                "#B0BEC5",
                "#B0BEC5",
                "#B0BEC5",
                "#B0BEC5",
                "#B0BEC5",
                "#B0BEC5",
                "#B0BEC5",
                "#B0BEC5",
                "#B0BEC5",
                "#B0BEC5",
                "#B0BEC5",
                "#B0BEC5",
                "#B0BEC5",
                "#B0BEC5",
                "#B0BEC5",
                "#B0BEC5",
                "#B0BEC5",
                "#B0BEC5",
                "#B0BEC5",
                "#B0BEC5",
                "#B0BEC5",
                "#B0BEC5",
                "#B0BEC5",
                "#B0BEC5",
                "#B0BEC5",
                "#B0BEC5",
                "#B0BEC5",
                "#B0BEC5",
                "#B0BEC5",
                "#B0BEC5",
                "#B0BEC5",
                "#B0BEC5",
                "#B0BEC5",
                "#B0BEC5",
                "#B0BEC5",
                "#B0BEC5",
                "#B0BEC5"
               ]
              ]
             }
            ],
            "label": "Topic 25",
            "method": "update"
           },
           {
            "args": [
             {
              "marker.color": [
               [
                "#B0BEC5",
                "#B0BEC5",
                "#B0BEC5",
                "#B0BEC5",
                "#B0BEC5",
                "#B0BEC5",
                "#B0BEC5",
                "#B0BEC5",
                "#B0BEC5",
                "#B0BEC5",
                "#B0BEC5",
                "#B0BEC5",
                "#B0BEC5",
                "#B0BEC5",
                "#B0BEC5",
                "#B0BEC5",
                "#B0BEC5",
                "#B0BEC5",
                "#B0BEC5",
                "#B0BEC5",
                "#B0BEC5",
                "#B0BEC5",
                "#B0BEC5",
                "#B0BEC5",
                "#B0BEC5",
                "#B0BEC5",
                "red",
                "#B0BEC5",
                "#B0BEC5",
                "#B0BEC5",
                "#B0BEC5",
                "#B0BEC5",
                "#B0BEC5",
                "#B0BEC5",
                "#B0BEC5",
                "#B0BEC5",
                "#B0BEC5",
                "#B0BEC5",
                "#B0BEC5",
                "#B0BEC5",
                "#B0BEC5",
                "#B0BEC5",
                "#B0BEC5",
                "#B0BEC5",
                "#B0BEC5",
                "#B0BEC5",
                "#B0BEC5",
                "#B0BEC5",
                "#B0BEC5",
                "#B0BEC5",
                "#B0BEC5",
                "#B0BEC5",
                "#B0BEC5",
                "#B0BEC5",
                "#B0BEC5",
                "#B0BEC5",
                "#B0BEC5",
                "#B0BEC5",
                "#B0BEC5",
                "#B0BEC5",
                "#B0BEC5",
                "#B0BEC5",
                "#B0BEC5",
                "#B0BEC5",
                "#B0BEC5",
                "#B0BEC5",
                "#B0BEC5",
                "#B0BEC5"
               ]
              ]
             }
            ],
            "label": "Topic 26",
            "method": "update"
           },
           {
            "args": [
             {
              "marker.color": [
               [
                "#B0BEC5",
                "#B0BEC5",
                "#B0BEC5",
                "#B0BEC5",
                "#B0BEC5",
                "#B0BEC5",
                "#B0BEC5",
                "#B0BEC5",
                "#B0BEC5",
                "#B0BEC5",
                "#B0BEC5",
                "#B0BEC5",
                "#B0BEC5",
                "#B0BEC5",
                "#B0BEC5",
                "#B0BEC5",
                "#B0BEC5",
                "#B0BEC5",
                "#B0BEC5",
                "#B0BEC5",
                "#B0BEC5",
                "#B0BEC5",
                "#B0BEC5",
                "#B0BEC5",
                "#B0BEC5",
                "#B0BEC5",
                "#B0BEC5",
                "red",
                "#B0BEC5",
                "#B0BEC5",
                "#B0BEC5",
                "#B0BEC5",
                "#B0BEC5",
                "#B0BEC5",
                "#B0BEC5",
                "#B0BEC5",
                "#B0BEC5",
                "#B0BEC5",
                "#B0BEC5",
                "#B0BEC5",
                "#B0BEC5",
                "#B0BEC5",
                "#B0BEC5",
                "#B0BEC5",
                "#B0BEC5",
                "#B0BEC5",
                "#B0BEC5",
                "#B0BEC5",
                "#B0BEC5",
                "#B0BEC5",
                "#B0BEC5",
                "#B0BEC5",
                "#B0BEC5",
                "#B0BEC5",
                "#B0BEC5",
                "#B0BEC5",
                "#B0BEC5",
                "#B0BEC5",
                "#B0BEC5",
                "#B0BEC5",
                "#B0BEC5",
                "#B0BEC5",
                "#B0BEC5",
                "#B0BEC5",
                "#B0BEC5",
                "#B0BEC5",
                "#B0BEC5",
                "#B0BEC5"
               ]
              ]
             }
            ],
            "label": "Topic 27",
            "method": "update"
           },
           {
            "args": [
             {
              "marker.color": [
               [
                "#B0BEC5",
                "#B0BEC5",
                "#B0BEC5",
                "#B0BEC5",
                "#B0BEC5",
                "#B0BEC5",
                "#B0BEC5",
                "#B0BEC5",
                "#B0BEC5",
                "#B0BEC5",
                "#B0BEC5",
                "#B0BEC5",
                "#B0BEC5",
                "#B0BEC5",
                "#B0BEC5",
                "#B0BEC5",
                "#B0BEC5",
                "#B0BEC5",
                "#B0BEC5",
                "#B0BEC5",
                "#B0BEC5",
                "#B0BEC5",
                "#B0BEC5",
                "#B0BEC5",
                "#B0BEC5",
                "#B0BEC5",
                "#B0BEC5",
                "#B0BEC5",
                "red",
                "#B0BEC5",
                "#B0BEC5",
                "#B0BEC5",
                "#B0BEC5",
                "#B0BEC5",
                "#B0BEC5",
                "#B0BEC5",
                "#B0BEC5",
                "#B0BEC5",
                "#B0BEC5",
                "#B0BEC5",
                "#B0BEC5",
                "#B0BEC5",
                "#B0BEC5",
                "#B0BEC5",
                "#B0BEC5",
                "#B0BEC5",
                "#B0BEC5",
                "#B0BEC5",
                "#B0BEC5",
                "#B0BEC5",
                "#B0BEC5",
                "#B0BEC5",
                "#B0BEC5",
                "#B0BEC5",
                "#B0BEC5",
                "#B0BEC5",
                "#B0BEC5",
                "#B0BEC5",
                "#B0BEC5",
                "#B0BEC5",
                "#B0BEC5",
                "#B0BEC5",
                "#B0BEC5",
                "#B0BEC5",
                "#B0BEC5",
                "#B0BEC5",
                "#B0BEC5",
                "#B0BEC5"
               ]
              ]
             }
            ],
            "label": "Topic 28",
            "method": "update"
           },
           {
            "args": [
             {
              "marker.color": [
               [
                "#B0BEC5",
                "#B0BEC5",
                "#B0BEC5",
                "#B0BEC5",
                "#B0BEC5",
                "#B0BEC5",
                "#B0BEC5",
                "#B0BEC5",
                "#B0BEC5",
                "#B0BEC5",
                "#B0BEC5",
                "#B0BEC5",
                "#B0BEC5",
                "#B0BEC5",
                "#B0BEC5",
                "#B0BEC5",
                "#B0BEC5",
                "#B0BEC5",
                "#B0BEC5",
                "#B0BEC5",
                "#B0BEC5",
                "#B0BEC5",
                "#B0BEC5",
                "#B0BEC5",
                "#B0BEC5",
                "#B0BEC5",
                "#B0BEC5",
                "#B0BEC5",
                "#B0BEC5",
                "red",
                "#B0BEC5",
                "#B0BEC5",
                "#B0BEC5",
                "#B0BEC5",
                "#B0BEC5",
                "#B0BEC5",
                "#B0BEC5",
                "#B0BEC5",
                "#B0BEC5",
                "#B0BEC5",
                "#B0BEC5",
                "#B0BEC5",
                "#B0BEC5",
                "#B0BEC5",
                "#B0BEC5",
                "#B0BEC5",
                "#B0BEC5",
                "#B0BEC5",
                "#B0BEC5",
                "#B0BEC5",
                "#B0BEC5",
                "#B0BEC5",
                "#B0BEC5",
                "#B0BEC5",
                "#B0BEC5",
                "#B0BEC5",
                "#B0BEC5",
                "#B0BEC5",
                "#B0BEC5",
                "#B0BEC5",
                "#B0BEC5",
                "#B0BEC5",
                "#B0BEC5",
                "#B0BEC5",
                "#B0BEC5",
                "#B0BEC5",
                "#B0BEC5",
                "#B0BEC5"
               ]
              ]
             }
            ],
            "label": "Topic 29",
            "method": "update"
           },
           {
            "args": [
             {
              "marker.color": [
               [
                "#B0BEC5",
                "#B0BEC5",
                "#B0BEC5",
                "#B0BEC5",
                "#B0BEC5",
                "#B0BEC5",
                "#B0BEC5",
                "#B0BEC5",
                "#B0BEC5",
                "#B0BEC5",
                "#B0BEC5",
                "#B0BEC5",
                "#B0BEC5",
                "#B0BEC5",
                "#B0BEC5",
                "#B0BEC5",
                "#B0BEC5",
                "#B0BEC5",
                "#B0BEC5",
                "#B0BEC5",
                "#B0BEC5",
                "#B0BEC5",
                "#B0BEC5",
                "#B0BEC5",
                "#B0BEC5",
                "#B0BEC5",
                "#B0BEC5",
                "#B0BEC5",
                "#B0BEC5",
                "#B0BEC5",
                "red",
                "#B0BEC5",
                "#B0BEC5",
                "#B0BEC5",
                "#B0BEC5",
                "#B0BEC5",
                "#B0BEC5",
                "#B0BEC5",
                "#B0BEC5",
                "#B0BEC5",
                "#B0BEC5",
                "#B0BEC5",
                "#B0BEC5",
                "#B0BEC5",
                "#B0BEC5",
                "#B0BEC5",
                "#B0BEC5",
                "#B0BEC5",
                "#B0BEC5",
                "#B0BEC5",
                "#B0BEC5",
                "#B0BEC5",
                "#B0BEC5",
                "#B0BEC5",
                "#B0BEC5",
                "#B0BEC5",
                "#B0BEC5",
                "#B0BEC5",
                "#B0BEC5",
                "#B0BEC5",
                "#B0BEC5",
                "#B0BEC5",
                "#B0BEC5",
                "#B0BEC5",
                "#B0BEC5",
                "#B0BEC5",
                "#B0BEC5",
                "#B0BEC5"
               ]
              ]
             }
            ],
            "label": "Topic 30",
            "method": "update"
           },
           {
            "args": [
             {
              "marker.color": [
               [
                "#B0BEC5",
                "#B0BEC5",
                "#B0BEC5",
                "#B0BEC5",
                "#B0BEC5",
                "#B0BEC5",
                "#B0BEC5",
                "#B0BEC5",
                "#B0BEC5",
                "#B0BEC5",
                "#B0BEC5",
                "#B0BEC5",
                "#B0BEC5",
                "#B0BEC5",
                "#B0BEC5",
                "#B0BEC5",
                "#B0BEC5",
                "#B0BEC5",
                "#B0BEC5",
                "#B0BEC5",
                "#B0BEC5",
                "#B0BEC5",
                "#B0BEC5",
                "#B0BEC5",
                "#B0BEC5",
                "#B0BEC5",
                "#B0BEC5",
                "#B0BEC5",
                "#B0BEC5",
                "#B0BEC5",
                "#B0BEC5",
                "red",
                "#B0BEC5",
                "#B0BEC5",
                "#B0BEC5",
                "#B0BEC5",
                "#B0BEC5",
                "#B0BEC5",
                "#B0BEC5",
                "#B0BEC5",
                "#B0BEC5",
                "#B0BEC5",
                "#B0BEC5",
                "#B0BEC5",
                "#B0BEC5",
                "#B0BEC5",
                "#B0BEC5",
                "#B0BEC5",
                "#B0BEC5",
                "#B0BEC5",
                "#B0BEC5",
                "#B0BEC5",
                "#B0BEC5",
                "#B0BEC5",
                "#B0BEC5",
                "#B0BEC5",
                "#B0BEC5",
                "#B0BEC5",
                "#B0BEC5",
                "#B0BEC5",
                "#B0BEC5",
                "#B0BEC5",
                "#B0BEC5",
                "#B0BEC5",
                "#B0BEC5",
                "#B0BEC5",
                "#B0BEC5",
                "#B0BEC5"
               ]
              ]
             }
            ],
            "label": "Topic 31",
            "method": "update"
           },
           {
            "args": [
             {
              "marker.color": [
               [
                "#B0BEC5",
                "#B0BEC5",
                "#B0BEC5",
                "#B0BEC5",
                "#B0BEC5",
                "#B0BEC5",
                "#B0BEC5",
                "#B0BEC5",
                "#B0BEC5",
                "#B0BEC5",
                "#B0BEC5",
                "#B0BEC5",
                "#B0BEC5",
                "#B0BEC5",
                "#B0BEC5",
                "#B0BEC5",
                "#B0BEC5",
                "#B0BEC5",
                "#B0BEC5",
                "#B0BEC5",
                "#B0BEC5",
                "#B0BEC5",
                "#B0BEC5",
                "#B0BEC5",
                "#B0BEC5",
                "#B0BEC5",
                "#B0BEC5",
                "#B0BEC5",
                "#B0BEC5",
                "#B0BEC5",
                "#B0BEC5",
                "#B0BEC5",
                "red",
                "#B0BEC5",
                "#B0BEC5",
                "#B0BEC5",
                "#B0BEC5",
                "#B0BEC5",
                "#B0BEC5",
                "#B0BEC5",
                "#B0BEC5",
                "#B0BEC5",
                "#B0BEC5",
                "#B0BEC5",
                "#B0BEC5",
                "#B0BEC5",
                "#B0BEC5",
                "#B0BEC5",
                "#B0BEC5",
                "#B0BEC5",
                "#B0BEC5",
                "#B0BEC5",
                "#B0BEC5",
                "#B0BEC5",
                "#B0BEC5",
                "#B0BEC5",
                "#B0BEC5",
                "#B0BEC5",
                "#B0BEC5",
                "#B0BEC5",
                "#B0BEC5",
                "#B0BEC5",
                "#B0BEC5",
                "#B0BEC5",
                "#B0BEC5",
                "#B0BEC5",
                "#B0BEC5",
                "#B0BEC5"
               ]
              ]
             }
            ],
            "label": "Topic 32",
            "method": "update"
           },
           {
            "args": [
             {
              "marker.color": [
               [
                "#B0BEC5",
                "#B0BEC5",
                "#B0BEC5",
                "#B0BEC5",
                "#B0BEC5",
                "#B0BEC5",
                "#B0BEC5",
                "#B0BEC5",
                "#B0BEC5",
                "#B0BEC5",
                "#B0BEC5",
                "#B0BEC5",
                "#B0BEC5",
                "#B0BEC5",
                "#B0BEC5",
                "#B0BEC5",
                "#B0BEC5",
                "#B0BEC5",
                "#B0BEC5",
                "#B0BEC5",
                "#B0BEC5",
                "#B0BEC5",
                "#B0BEC5",
                "#B0BEC5",
                "#B0BEC5",
                "#B0BEC5",
                "#B0BEC5",
                "#B0BEC5",
                "#B0BEC5",
                "#B0BEC5",
                "#B0BEC5",
                "#B0BEC5",
                "#B0BEC5",
                "red",
                "#B0BEC5",
                "#B0BEC5",
                "#B0BEC5",
                "#B0BEC5",
                "#B0BEC5",
                "#B0BEC5",
                "#B0BEC5",
                "#B0BEC5",
                "#B0BEC5",
                "#B0BEC5",
                "#B0BEC5",
                "#B0BEC5",
                "#B0BEC5",
                "#B0BEC5",
                "#B0BEC5",
                "#B0BEC5",
                "#B0BEC5",
                "#B0BEC5",
                "#B0BEC5",
                "#B0BEC5",
                "#B0BEC5",
                "#B0BEC5",
                "#B0BEC5",
                "#B0BEC5",
                "#B0BEC5",
                "#B0BEC5",
                "#B0BEC5",
                "#B0BEC5",
                "#B0BEC5",
                "#B0BEC5",
                "#B0BEC5",
                "#B0BEC5",
                "#B0BEC5",
                "#B0BEC5"
               ]
              ]
             }
            ],
            "label": "Topic 33",
            "method": "update"
           },
           {
            "args": [
             {
              "marker.color": [
               [
                "#B0BEC5",
                "#B0BEC5",
                "#B0BEC5",
                "#B0BEC5",
                "#B0BEC5",
                "#B0BEC5",
                "#B0BEC5",
                "#B0BEC5",
                "#B0BEC5",
                "#B0BEC5",
                "#B0BEC5",
                "#B0BEC5",
                "#B0BEC5",
                "#B0BEC5",
                "#B0BEC5",
                "#B0BEC5",
                "#B0BEC5",
                "#B0BEC5",
                "#B0BEC5",
                "#B0BEC5",
                "#B0BEC5",
                "#B0BEC5",
                "#B0BEC5",
                "#B0BEC5",
                "#B0BEC5",
                "#B0BEC5",
                "#B0BEC5",
                "#B0BEC5",
                "#B0BEC5",
                "#B0BEC5",
                "#B0BEC5",
                "#B0BEC5",
                "#B0BEC5",
                "#B0BEC5",
                "red",
                "#B0BEC5",
                "#B0BEC5",
                "#B0BEC5",
                "#B0BEC5",
                "#B0BEC5",
                "#B0BEC5",
                "#B0BEC5",
                "#B0BEC5",
                "#B0BEC5",
                "#B0BEC5",
                "#B0BEC5",
                "#B0BEC5",
                "#B0BEC5",
                "#B0BEC5",
                "#B0BEC5",
                "#B0BEC5",
                "#B0BEC5",
                "#B0BEC5",
                "#B0BEC5",
                "#B0BEC5",
                "#B0BEC5",
                "#B0BEC5",
                "#B0BEC5",
                "#B0BEC5",
                "#B0BEC5",
                "#B0BEC5",
                "#B0BEC5",
                "#B0BEC5",
                "#B0BEC5",
                "#B0BEC5",
                "#B0BEC5",
                "#B0BEC5",
                "#B0BEC5"
               ]
              ]
             }
            ],
            "label": "Topic 34",
            "method": "update"
           },
           {
            "args": [
             {
              "marker.color": [
               [
                "#B0BEC5",
                "#B0BEC5",
                "#B0BEC5",
                "#B0BEC5",
                "#B0BEC5",
                "#B0BEC5",
                "#B0BEC5",
                "#B0BEC5",
                "#B0BEC5",
                "#B0BEC5",
                "#B0BEC5",
                "#B0BEC5",
                "#B0BEC5",
                "#B0BEC5",
                "#B0BEC5",
                "#B0BEC5",
                "#B0BEC5",
                "#B0BEC5",
                "#B0BEC5",
                "#B0BEC5",
                "#B0BEC5",
                "#B0BEC5",
                "#B0BEC5",
                "#B0BEC5",
                "#B0BEC5",
                "#B0BEC5",
                "#B0BEC5",
                "#B0BEC5",
                "#B0BEC5",
                "#B0BEC5",
                "#B0BEC5",
                "#B0BEC5",
                "#B0BEC5",
                "#B0BEC5",
                "#B0BEC5",
                "red",
                "#B0BEC5",
                "#B0BEC5",
                "#B0BEC5",
                "#B0BEC5",
                "#B0BEC5",
                "#B0BEC5",
                "#B0BEC5",
                "#B0BEC5",
                "#B0BEC5",
                "#B0BEC5",
                "#B0BEC5",
                "#B0BEC5",
                "#B0BEC5",
                "#B0BEC5",
                "#B0BEC5",
                "#B0BEC5",
                "#B0BEC5",
                "#B0BEC5",
                "#B0BEC5",
                "#B0BEC5",
                "#B0BEC5",
                "#B0BEC5",
                "#B0BEC5",
                "#B0BEC5",
                "#B0BEC5",
                "#B0BEC5",
                "#B0BEC5",
                "#B0BEC5",
                "#B0BEC5",
                "#B0BEC5",
                "#B0BEC5",
                "#B0BEC5"
               ]
              ]
             }
            ],
            "label": "Topic 35",
            "method": "update"
           },
           {
            "args": [
             {
              "marker.color": [
               [
                "#B0BEC5",
                "#B0BEC5",
                "#B0BEC5",
                "#B0BEC5",
                "#B0BEC5",
                "#B0BEC5",
                "#B0BEC5",
                "#B0BEC5",
                "#B0BEC5",
                "#B0BEC5",
                "#B0BEC5",
                "#B0BEC5",
                "#B0BEC5",
                "#B0BEC5",
                "#B0BEC5",
                "#B0BEC5",
                "#B0BEC5",
                "#B0BEC5",
                "#B0BEC5",
                "#B0BEC5",
                "#B0BEC5",
                "#B0BEC5",
                "#B0BEC5",
                "#B0BEC5",
                "#B0BEC5",
                "#B0BEC5",
                "#B0BEC5",
                "#B0BEC5",
                "#B0BEC5",
                "#B0BEC5",
                "#B0BEC5",
                "#B0BEC5",
                "#B0BEC5",
                "#B0BEC5",
                "#B0BEC5",
                "#B0BEC5",
                "red",
                "#B0BEC5",
                "#B0BEC5",
                "#B0BEC5",
                "#B0BEC5",
                "#B0BEC5",
                "#B0BEC5",
                "#B0BEC5",
                "#B0BEC5",
                "#B0BEC5",
                "#B0BEC5",
                "#B0BEC5",
                "#B0BEC5",
                "#B0BEC5",
                "#B0BEC5",
                "#B0BEC5",
                "#B0BEC5",
                "#B0BEC5",
                "#B0BEC5",
                "#B0BEC5",
                "#B0BEC5",
                "#B0BEC5",
                "#B0BEC5",
                "#B0BEC5",
                "#B0BEC5",
                "#B0BEC5",
                "#B0BEC5",
                "#B0BEC5",
                "#B0BEC5",
                "#B0BEC5",
                "#B0BEC5",
                "#B0BEC5"
               ]
              ]
             }
            ],
            "label": "Topic 36",
            "method": "update"
           },
           {
            "args": [
             {
              "marker.color": [
               [
                "#B0BEC5",
                "#B0BEC5",
                "#B0BEC5",
                "#B0BEC5",
                "#B0BEC5",
                "#B0BEC5",
                "#B0BEC5",
                "#B0BEC5",
                "#B0BEC5",
                "#B0BEC5",
                "#B0BEC5",
                "#B0BEC5",
                "#B0BEC5",
                "#B0BEC5",
                "#B0BEC5",
                "#B0BEC5",
                "#B0BEC5",
                "#B0BEC5",
                "#B0BEC5",
                "#B0BEC5",
                "#B0BEC5",
                "#B0BEC5",
                "#B0BEC5",
                "#B0BEC5",
                "#B0BEC5",
                "#B0BEC5",
                "#B0BEC5",
                "#B0BEC5",
                "#B0BEC5",
                "#B0BEC5",
                "#B0BEC5",
                "#B0BEC5",
                "#B0BEC5",
                "#B0BEC5",
                "#B0BEC5",
                "#B0BEC5",
                "#B0BEC5",
                "red",
                "#B0BEC5",
                "#B0BEC5",
                "#B0BEC5",
                "#B0BEC5",
                "#B0BEC5",
                "#B0BEC5",
                "#B0BEC5",
                "#B0BEC5",
                "#B0BEC5",
                "#B0BEC5",
                "#B0BEC5",
                "#B0BEC5",
                "#B0BEC5",
                "#B0BEC5",
                "#B0BEC5",
                "#B0BEC5",
                "#B0BEC5",
                "#B0BEC5",
                "#B0BEC5",
                "#B0BEC5",
                "#B0BEC5",
                "#B0BEC5",
                "#B0BEC5",
                "#B0BEC5",
                "#B0BEC5",
                "#B0BEC5",
                "#B0BEC5",
                "#B0BEC5",
                "#B0BEC5",
                "#B0BEC5"
               ]
              ]
             }
            ],
            "label": "Topic 37",
            "method": "update"
           },
           {
            "args": [
             {
              "marker.color": [
               [
                "#B0BEC5",
                "#B0BEC5",
                "#B0BEC5",
                "#B0BEC5",
                "#B0BEC5",
                "#B0BEC5",
                "#B0BEC5",
                "#B0BEC5",
                "#B0BEC5",
                "#B0BEC5",
                "#B0BEC5",
                "#B0BEC5",
                "#B0BEC5",
                "#B0BEC5",
                "#B0BEC5",
                "#B0BEC5",
                "#B0BEC5",
                "#B0BEC5",
                "#B0BEC5",
                "#B0BEC5",
                "#B0BEC5",
                "#B0BEC5",
                "#B0BEC5",
                "#B0BEC5",
                "#B0BEC5",
                "#B0BEC5",
                "#B0BEC5",
                "#B0BEC5",
                "#B0BEC5",
                "#B0BEC5",
                "#B0BEC5",
                "#B0BEC5",
                "#B0BEC5",
                "#B0BEC5",
                "#B0BEC5",
                "#B0BEC5",
                "#B0BEC5",
                "#B0BEC5",
                "red",
                "#B0BEC5",
                "#B0BEC5",
                "#B0BEC5",
                "#B0BEC5",
                "#B0BEC5",
                "#B0BEC5",
                "#B0BEC5",
                "#B0BEC5",
                "#B0BEC5",
                "#B0BEC5",
                "#B0BEC5",
                "#B0BEC5",
                "#B0BEC5",
                "#B0BEC5",
                "#B0BEC5",
                "#B0BEC5",
                "#B0BEC5",
                "#B0BEC5",
                "#B0BEC5",
                "#B0BEC5",
                "#B0BEC5",
                "#B0BEC5",
                "#B0BEC5",
                "#B0BEC5",
                "#B0BEC5",
                "#B0BEC5",
                "#B0BEC5",
                "#B0BEC5",
                "#B0BEC5"
               ]
              ]
             }
            ],
            "label": "Topic 38",
            "method": "update"
           },
           {
            "args": [
             {
              "marker.color": [
               [
                "#B0BEC5",
                "#B0BEC5",
                "#B0BEC5",
                "#B0BEC5",
                "#B0BEC5",
                "#B0BEC5",
                "#B0BEC5",
                "#B0BEC5",
                "#B0BEC5",
                "#B0BEC5",
                "#B0BEC5",
                "#B0BEC5",
                "#B0BEC5",
                "#B0BEC5",
                "#B0BEC5",
                "#B0BEC5",
                "#B0BEC5",
                "#B0BEC5",
                "#B0BEC5",
                "#B0BEC5",
                "#B0BEC5",
                "#B0BEC5",
                "#B0BEC5",
                "#B0BEC5",
                "#B0BEC5",
                "#B0BEC5",
                "#B0BEC5",
                "#B0BEC5",
                "#B0BEC5",
                "#B0BEC5",
                "#B0BEC5",
                "#B0BEC5",
                "#B0BEC5",
                "#B0BEC5",
                "#B0BEC5",
                "#B0BEC5",
                "#B0BEC5",
                "#B0BEC5",
                "#B0BEC5",
                "red",
                "#B0BEC5",
                "#B0BEC5",
                "#B0BEC5",
                "#B0BEC5",
                "#B0BEC5",
                "#B0BEC5",
                "#B0BEC5",
                "#B0BEC5",
                "#B0BEC5",
                "#B0BEC5",
                "#B0BEC5",
                "#B0BEC5",
                "#B0BEC5",
                "#B0BEC5",
                "#B0BEC5",
                "#B0BEC5",
                "#B0BEC5",
                "#B0BEC5",
                "#B0BEC5",
                "#B0BEC5",
                "#B0BEC5",
                "#B0BEC5",
                "#B0BEC5",
                "#B0BEC5",
                "#B0BEC5",
                "#B0BEC5",
                "#B0BEC5",
                "#B0BEC5"
               ]
              ]
             }
            ],
            "label": "Topic 39",
            "method": "update"
           },
           {
            "args": [
             {
              "marker.color": [
               [
                "#B0BEC5",
                "#B0BEC5",
                "#B0BEC5",
                "#B0BEC5",
                "#B0BEC5",
                "#B0BEC5",
                "#B0BEC5",
                "#B0BEC5",
                "#B0BEC5",
                "#B0BEC5",
                "#B0BEC5",
                "#B0BEC5",
                "#B0BEC5",
                "#B0BEC5",
                "#B0BEC5",
                "#B0BEC5",
                "#B0BEC5",
                "#B0BEC5",
                "#B0BEC5",
                "#B0BEC5",
                "#B0BEC5",
                "#B0BEC5",
                "#B0BEC5",
                "#B0BEC5",
                "#B0BEC5",
                "#B0BEC5",
                "#B0BEC5",
                "#B0BEC5",
                "#B0BEC5",
                "#B0BEC5",
                "#B0BEC5",
                "#B0BEC5",
                "#B0BEC5",
                "#B0BEC5",
                "#B0BEC5",
                "#B0BEC5",
                "#B0BEC5",
                "#B0BEC5",
                "#B0BEC5",
                "#B0BEC5",
                "red",
                "#B0BEC5",
                "#B0BEC5",
                "#B0BEC5",
                "#B0BEC5",
                "#B0BEC5",
                "#B0BEC5",
                "#B0BEC5",
                "#B0BEC5",
                "#B0BEC5",
                "#B0BEC5",
                "#B0BEC5",
                "#B0BEC5",
                "#B0BEC5",
                "#B0BEC5",
                "#B0BEC5",
                "#B0BEC5",
                "#B0BEC5",
                "#B0BEC5",
                "#B0BEC5",
                "#B0BEC5",
                "#B0BEC5",
                "#B0BEC5",
                "#B0BEC5",
                "#B0BEC5",
                "#B0BEC5",
                "#B0BEC5",
                "#B0BEC5"
               ]
              ]
             }
            ],
            "label": "Topic 40",
            "method": "update"
           },
           {
            "args": [
             {
              "marker.color": [
               [
                "#B0BEC5",
                "#B0BEC5",
                "#B0BEC5",
                "#B0BEC5",
                "#B0BEC5",
                "#B0BEC5",
                "#B0BEC5",
                "#B0BEC5",
                "#B0BEC5",
                "#B0BEC5",
                "#B0BEC5",
                "#B0BEC5",
                "#B0BEC5",
                "#B0BEC5",
                "#B0BEC5",
                "#B0BEC5",
                "#B0BEC5",
                "#B0BEC5",
                "#B0BEC5",
                "#B0BEC5",
                "#B0BEC5",
                "#B0BEC5",
                "#B0BEC5",
                "#B0BEC5",
                "#B0BEC5",
                "#B0BEC5",
                "#B0BEC5",
                "#B0BEC5",
                "#B0BEC5",
                "#B0BEC5",
                "#B0BEC5",
                "#B0BEC5",
                "#B0BEC5",
                "#B0BEC5",
                "#B0BEC5",
                "#B0BEC5",
                "#B0BEC5",
                "#B0BEC5",
                "#B0BEC5",
                "#B0BEC5",
                "#B0BEC5",
                "red",
                "#B0BEC5",
                "#B0BEC5",
                "#B0BEC5",
                "#B0BEC5",
                "#B0BEC5",
                "#B0BEC5",
                "#B0BEC5",
                "#B0BEC5",
                "#B0BEC5",
                "#B0BEC5",
                "#B0BEC5",
                "#B0BEC5",
                "#B0BEC5",
                "#B0BEC5",
                "#B0BEC5",
                "#B0BEC5",
                "#B0BEC5",
                "#B0BEC5",
                "#B0BEC5",
                "#B0BEC5",
                "#B0BEC5",
                "#B0BEC5",
                "#B0BEC5",
                "#B0BEC5",
                "#B0BEC5",
                "#B0BEC5"
               ]
              ]
             }
            ],
            "label": "Topic 41",
            "method": "update"
           },
           {
            "args": [
             {
              "marker.color": [
               [
                "#B0BEC5",
                "#B0BEC5",
                "#B0BEC5",
                "#B0BEC5",
                "#B0BEC5",
                "#B0BEC5",
                "#B0BEC5",
                "#B0BEC5",
                "#B0BEC5",
                "#B0BEC5",
                "#B0BEC5",
                "#B0BEC5",
                "#B0BEC5",
                "#B0BEC5",
                "#B0BEC5",
                "#B0BEC5",
                "#B0BEC5",
                "#B0BEC5",
                "#B0BEC5",
                "#B0BEC5",
                "#B0BEC5",
                "#B0BEC5",
                "#B0BEC5",
                "#B0BEC5",
                "#B0BEC5",
                "#B0BEC5",
                "#B0BEC5",
                "#B0BEC5",
                "#B0BEC5",
                "#B0BEC5",
                "#B0BEC5",
                "#B0BEC5",
                "#B0BEC5",
                "#B0BEC5",
                "#B0BEC5",
                "#B0BEC5",
                "#B0BEC5",
                "#B0BEC5",
                "#B0BEC5",
                "#B0BEC5",
                "#B0BEC5",
                "#B0BEC5",
                "red",
                "#B0BEC5",
                "#B0BEC5",
                "#B0BEC5",
                "#B0BEC5",
                "#B0BEC5",
                "#B0BEC5",
                "#B0BEC5",
                "#B0BEC5",
                "#B0BEC5",
                "#B0BEC5",
                "#B0BEC5",
                "#B0BEC5",
                "#B0BEC5",
                "#B0BEC5",
                "#B0BEC5",
                "#B0BEC5",
                "#B0BEC5",
                "#B0BEC5",
                "#B0BEC5",
                "#B0BEC5",
                "#B0BEC5",
                "#B0BEC5",
                "#B0BEC5",
                "#B0BEC5",
                "#B0BEC5"
               ]
              ]
             }
            ],
            "label": "Topic 42",
            "method": "update"
           },
           {
            "args": [
             {
              "marker.color": [
               [
                "#B0BEC5",
                "#B0BEC5",
                "#B0BEC5",
                "#B0BEC5",
                "#B0BEC5",
                "#B0BEC5",
                "#B0BEC5",
                "#B0BEC5",
                "#B0BEC5",
                "#B0BEC5",
                "#B0BEC5",
                "#B0BEC5",
                "#B0BEC5",
                "#B0BEC5",
                "#B0BEC5",
                "#B0BEC5",
                "#B0BEC5",
                "#B0BEC5",
                "#B0BEC5",
                "#B0BEC5",
                "#B0BEC5",
                "#B0BEC5",
                "#B0BEC5",
                "#B0BEC5",
                "#B0BEC5",
                "#B0BEC5",
                "#B0BEC5",
                "#B0BEC5",
                "#B0BEC5",
                "#B0BEC5",
                "#B0BEC5",
                "#B0BEC5",
                "#B0BEC5",
                "#B0BEC5",
                "#B0BEC5",
                "#B0BEC5",
                "#B0BEC5",
                "#B0BEC5",
                "#B0BEC5",
                "#B0BEC5",
                "#B0BEC5",
                "#B0BEC5",
                "#B0BEC5",
                "red",
                "#B0BEC5",
                "#B0BEC5",
                "#B0BEC5",
                "#B0BEC5",
                "#B0BEC5",
                "#B0BEC5",
                "#B0BEC5",
                "#B0BEC5",
                "#B0BEC5",
                "#B0BEC5",
                "#B0BEC5",
                "#B0BEC5",
                "#B0BEC5",
                "#B0BEC5",
                "#B0BEC5",
                "#B0BEC5",
                "#B0BEC5",
                "#B0BEC5",
                "#B0BEC5",
                "#B0BEC5",
                "#B0BEC5",
                "#B0BEC5",
                "#B0BEC5",
                "#B0BEC5"
               ]
              ]
             }
            ],
            "label": "Topic 43",
            "method": "update"
           },
           {
            "args": [
             {
              "marker.color": [
               [
                "#B0BEC5",
                "#B0BEC5",
                "#B0BEC5",
                "#B0BEC5",
                "#B0BEC5",
                "#B0BEC5",
                "#B0BEC5",
                "#B0BEC5",
                "#B0BEC5",
                "#B0BEC5",
                "#B0BEC5",
                "#B0BEC5",
                "#B0BEC5",
                "#B0BEC5",
                "#B0BEC5",
                "#B0BEC5",
                "#B0BEC5",
                "#B0BEC5",
                "#B0BEC5",
                "#B0BEC5",
                "#B0BEC5",
                "#B0BEC5",
                "#B0BEC5",
                "#B0BEC5",
                "#B0BEC5",
                "#B0BEC5",
                "#B0BEC5",
                "#B0BEC5",
                "#B0BEC5",
                "#B0BEC5",
                "#B0BEC5",
                "#B0BEC5",
                "#B0BEC5",
                "#B0BEC5",
                "#B0BEC5",
                "#B0BEC5",
                "#B0BEC5",
                "#B0BEC5",
                "#B0BEC5",
                "#B0BEC5",
                "#B0BEC5",
                "#B0BEC5",
                "#B0BEC5",
                "#B0BEC5",
                "red",
                "#B0BEC5",
                "#B0BEC5",
                "#B0BEC5",
                "#B0BEC5",
                "#B0BEC5",
                "#B0BEC5",
                "#B0BEC5",
                "#B0BEC5",
                "#B0BEC5",
                "#B0BEC5",
                "#B0BEC5",
                "#B0BEC5",
                "#B0BEC5",
                "#B0BEC5",
                "#B0BEC5",
                "#B0BEC5",
                "#B0BEC5",
                "#B0BEC5",
                "#B0BEC5",
                "#B0BEC5",
                "#B0BEC5",
                "#B0BEC5",
                "#B0BEC5"
               ]
              ]
             }
            ],
            "label": "Topic 44",
            "method": "update"
           },
           {
            "args": [
             {
              "marker.color": [
               [
                "#B0BEC5",
                "#B0BEC5",
                "#B0BEC5",
                "#B0BEC5",
                "#B0BEC5",
                "#B0BEC5",
                "#B0BEC5",
                "#B0BEC5",
                "#B0BEC5",
                "#B0BEC5",
                "#B0BEC5",
                "#B0BEC5",
                "#B0BEC5",
                "#B0BEC5",
                "#B0BEC5",
                "#B0BEC5",
                "#B0BEC5",
                "#B0BEC5",
                "#B0BEC5",
                "#B0BEC5",
                "#B0BEC5",
                "#B0BEC5",
                "#B0BEC5",
                "#B0BEC5",
                "#B0BEC5",
                "#B0BEC5",
                "#B0BEC5",
                "#B0BEC5",
                "#B0BEC5",
                "#B0BEC5",
                "#B0BEC5",
                "#B0BEC5",
                "#B0BEC5",
                "#B0BEC5",
                "#B0BEC5",
                "#B0BEC5",
                "#B0BEC5",
                "#B0BEC5",
                "#B0BEC5",
                "#B0BEC5",
                "#B0BEC5",
                "#B0BEC5",
                "#B0BEC5",
                "#B0BEC5",
                "#B0BEC5",
                "red",
                "#B0BEC5",
                "#B0BEC5",
                "#B0BEC5",
                "#B0BEC5",
                "#B0BEC5",
                "#B0BEC5",
                "#B0BEC5",
                "#B0BEC5",
                "#B0BEC5",
                "#B0BEC5",
                "#B0BEC5",
                "#B0BEC5",
                "#B0BEC5",
                "#B0BEC5",
                "#B0BEC5",
                "#B0BEC5",
                "#B0BEC5",
                "#B0BEC5",
                "#B0BEC5",
                "#B0BEC5",
                "#B0BEC5",
                "#B0BEC5"
               ]
              ]
             }
            ],
            "label": "Topic 45",
            "method": "update"
           },
           {
            "args": [
             {
              "marker.color": [
               [
                "#B0BEC5",
                "#B0BEC5",
                "#B0BEC5",
                "#B0BEC5",
                "#B0BEC5",
                "#B0BEC5",
                "#B0BEC5",
                "#B0BEC5",
                "#B0BEC5",
                "#B0BEC5",
                "#B0BEC5",
                "#B0BEC5",
                "#B0BEC5",
                "#B0BEC5",
                "#B0BEC5",
                "#B0BEC5",
                "#B0BEC5",
                "#B0BEC5",
                "#B0BEC5",
                "#B0BEC5",
                "#B0BEC5",
                "#B0BEC5",
                "#B0BEC5",
                "#B0BEC5",
                "#B0BEC5",
                "#B0BEC5",
                "#B0BEC5",
                "#B0BEC5",
                "#B0BEC5",
                "#B0BEC5",
                "#B0BEC5",
                "#B0BEC5",
                "#B0BEC5",
                "#B0BEC5",
                "#B0BEC5",
                "#B0BEC5",
                "#B0BEC5",
                "#B0BEC5",
                "#B0BEC5",
                "#B0BEC5",
                "#B0BEC5",
                "#B0BEC5",
                "#B0BEC5",
                "#B0BEC5",
                "#B0BEC5",
                "#B0BEC5",
                "red",
                "#B0BEC5",
                "#B0BEC5",
                "#B0BEC5",
                "#B0BEC5",
                "#B0BEC5",
                "#B0BEC5",
                "#B0BEC5",
                "#B0BEC5",
                "#B0BEC5",
                "#B0BEC5",
                "#B0BEC5",
                "#B0BEC5",
                "#B0BEC5",
                "#B0BEC5",
                "#B0BEC5",
                "#B0BEC5",
                "#B0BEC5",
                "#B0BEC5",
                "#B0BEC5",
                "#B0BEC5",
                "#B0BEC5"
               ]
              ]
             }
            ],
            "label": "Topic 46",
            "method": "update"
           },
           {
            "args": [
             {
              "marker.color": [
               [
                "#B0BEC5",
                "#B0BEC5",
                "#B0BEC5",
                "#B0BEC5",
                "#B0BEC5",
                "#B0BEC5",
                "#B0BEC5",
                "#B0BEC5",
                "#B0BEC5",
                "#B0BEC5",
                "#B0BEC5",
                "#B0BEC5",
                "#B0BEC5",
                "#B0BEC5",
                "#B0BEC5",
                "#B0BEC5",
                "#B0BEC5",
                "#B0BEC5",
                "#B0BEC5",
                "#B0BEC5",
                "#B0BEC5",
                "#B0BEC5",
                "#B0BEC5",
                "#B0BEC5",
                "#B0BEC5",
                "#B0BEC5",
                "#B0BEC5",
                "#B0BEC5",
                "#B0BEC5",
                "#B0BEC5",
                "#B0BEC5",
                "#B0BEC5",
                "#B0BEC5",
                "#B0BEC5",
                "#B0BEC5",
                "#B0BEC5",
                "#B0BEC5",
                "#B0BEC5",
                "#B0BEC5",
                "#B0BEC5",
                "#B0BEC5",
                "#B0BEC5",
                "#B0BEC5",
                "#B0BEC5",
                "#B0BEC5",
                "#B0BEC5",
                "#B0BEC5",
                "red",
                "#B0BEC5",
                "#B0BEC5",
                "#B0BEC5",
                "#B0BEC5",
                "#B0BEC5",
                "#B0BEC5",
                "#B0BEC5",
                "#B0BEC5",
                "#B0BEC5",
                "#B0BEC5",
                "#B0BEC5",
                "#B0BEC5",
                "#B0BEC5",
                "#B0BEC5",
                "#B0BEC5",
                "#B0BEC5",
                "#B0BEC5",
                "#B0BEC5",
                "#B0BEC5",
                "#B0BEC5"
               ]
              ]
             }
            ],
            "label": "Topic 47",
            "method": "update"
           },
           {
            "args": [
             {
              "marker.color": [
               [
                "#B0BEC5",
                "#B0BEC5",
                "#B0BEC5",
                "#B0BEC5",
                "#B0BEC5",
                "#B0BEC5",
                "#B0BEC5",
                "#B0BEC5",
                "#B0BEC5",
                "#B0BEC5",
                "#B0BEC5",
                "#B0BEC5",
                "#B0BEC5",
                "#B0BEC5",
                "#B0BEC5",
                "#B0BEC5",
                "#B0BEC5",
                "#B0BEC5",
                "#B0BEC5",
                "#B0BEC5",
                "#B0BEC5",
                "#B0BEC5",
                "#B0BEC5",
                "#B0BEC5",
                "#B0BEC5",
                "#B0BEC5",
                "#B0BEC5",
                "#B0BEC5",
                "#B0BEC5",
                "#B0BEC5",
                "#B0BEC5",
                "#B0BEC5",
                "#B0BEC5",
                "#B0BEC5",
                "#B0BEC5",
                "#B0BEC5",
                "#B0BEC5",
                "#B0BEC5",
                "#B0BEC5",
                "#B0BEC5",
                "#B0BEC5",
                "#B0BEC5",
                "#B0BEC5",
                "#B0BEC5",
                "#B0BEC5",
                "#B0BEC5",
                "#B0BEC5",
                "#B0BEC5",
                "red",
                "#B0BEC5",
                "#B0BEC5",
                "#B0BEC5",
                "#B0BEC5",
                "#B0BEC5",
                "#B0BEC5",
                "#B0BEC5",
                "#B0BEC5",
                "#B0BEC5",
                "#B0BEC5",
                "#B0BEC5",
                "#B0BEC5",
                "#B0BEC5",
                "#B0BEC5",
                "#B0BEC5",
                "#B0BEC5",
                "#B0BEC5",
                "#B0BEC5",
                "#B0BEC5"
               ]
              ]
             }
            ],
            "label": "Topic 48",
            "method": "update"
           },
           {
            "args": [
             {
              "marker.color": [
               [
                "#B0BEC5",
                "#B0BEC5",
                "#B0BEC5",
                "#B0BEC5",
                "#B0BEC5",
                "#B0BEC5",
                "#B0BEC5",
                "#B0BEC5",
                "#B0BEC5",
                "#B0BEC5",
                "#B0BEC5",
                "#B0BEC5",
                "#B0BEC5",
                "#B0BEC5",
                "#B0BEC5",
                "#B0BEC5",
                "#B0BEC5",
                "#B0BEC5",
                "#B0BEC5",
                "#B0BEC5",
                "#B0BEC5",
                "#B0BEC5",
                "#B0BEC5",
                "#B0BEC5",
                "#B0BEC5",
                "#B0BEC5",
                "#B0BEC5",
                "#B0BEC5",
                "#B0BEC5",
                "#B0BEC5",
                "#B0BEC5",
                "#B0BEC5",
                "#B0BEC5",
                "#B0BEC5",
                "#B0BEC5",
                "#B0BEC5",
                "#B0BEC5",
                "#B0BEC5",
                "#B0BEC5",
                "#B0BEC5",
                "#B0BEC5",
                "#B0BEC5",
                "#B0BEC5",
                "#B0BEC5",
                "#B0BEC5",
                "#B0BEC5",
                "#B0BEC5",
                "#B0BEC5",
                "#B0BEC5",
                "red",
                "#B0BEC5",
                "#B0BEC5",
                "#B0BEC5",
                "#B0BEC5",
                "#B0BEC5",
                "#B0BEC5",
                "#B0BEC5",
                "#B0BEC5",
                "#B0BEC5",
                "#B0BEC5",
                "#B0BEC5",
                "#B0BEC5",
                "#B0BEC5",
                "#B0BEC5",
                "#B0BEC5",
                "#B0BEC5",
                "#B0BEC5",
                "#B0BEC5"
               ]
              ]
             }
            ],
            "label": "Topic 49",
            "method": "update"
           },
           {
            "args": [
             {
              "marker.color": [
               [
                "#B0BEC5",
                "#B0BEC5",
                "#B0BEC5",
                "#B0BEC5",
                "#B0BEC5",
                "#B0BEC5",
                "#B0BEC5",
                "#B0BEC5",
                "#B0BEC5",
                "#B0BEC5",
                "#B0BEC5",
                "#B0BEC5",
                "#B0BEC5",
                "#B0BEC5",
                "#B0BEC5",
                "#B0BEC5",
                "#B0BEC5",
                "#B0BEC5",
                "#B0BEC5",
                "#B0BEC5",
                "#B0BEC5",
                "#B0BEC5",
                "#B0BEC5",
                "#B0BEC5",
                "#B0BEC5",
                "#B0BEC5",
                "#B0BEC5",
                "#B0BEC5",
                "#B0BEC5",
                "#B0BEC5",
                "#B0BEC5",
                "#B0BEC5",
                "#B0BEC5",
                "#B0BEC5",
                "#B0BEC5",
                "#B0BEC5",
                "#B0BEC5",
                "#B0BEC5",
                "#B0BEC5",
                "#B0BEC5",
                "#B0BEC5",
                "#B0BEC5",
                "#B0BEC5",
                "#B0BEC5",
                "#B0BEC5",
                "#B0BEC5",
                "#B0BEC5",
                "#B0BEC5",
                "#B0BEC5",
                "#B0BEC5",
                "red",
                "#B0BEC5",
                "#B0BEC5",
                "#B0BEC5",
                "#B0BEC5",
                "#B0BEC5",
                "#B0BEC5",
                "#B0BEC5",
                "#B0BEC5",
                "#B0BEC5",
                "#B0BEC5",
                "#B0BEC5",
                "#B0BEC5",
                "#B0BEC5",
                "#B0BEC5",
                "#B0BEC5",
                "#B0BEC5",
                "#B0BEC5"
               ]
              ]
             }
            ],
            "label": "Topic 50",
            "method": "update"
           },
           {
            "args": [
             {
              "marker.color": [
               [
                "#B0BEC5",
                "#B0BEC5",
                "#B0BEC5",
                "#B0BEC5",
                "#B0BEC5",
                "#B0BEC5",
                "#B0BEC5",
                "#B0BEC5",
                "#B0BEC5",
                "#B0BEC5",
                "#B0BEC5",
                "#B0BEC5",
                "#B0BEC5",
                "#B0BEC5",
                "#B0BEC5",
                "#B0BEC5",
                "#B0BEC5",
                "#B0BEC5",
                "#B0BEC5",
                "#B0BEC5",
                "#B0BEC5",
                "#B0BEC5",
                "#B0BEC5",
                "#B0BEC5",
                "#B0BEC5",
                "#B0BEC5",
                "#B0BEC5",
                "#B0BEC5",
                "#B0BEC5",
                "#B0BEC5",
                "#B0BEC5",
                "#B0BEC5",
                "#B0BEC5",
                "#B0BEC5",
                "#B0BEC5",
                "#B0BEC5",
                "#B0BEC5",
                "#B0BEC5",
                "#B0BEC5",
                "#B0BEC5",
                "#B0BEC5",
                "#B0BEC5",
                "#B0BEC5",
                "#B0BEC5",
                "#B0BEC5",
                "#B0BEC5",
                "#B0BEC5",
                "#B0BEC5",
                "#B0BEC5",
                "#B0BEC5",
                "#B0BEC5",
                "red",
                "#B0BEC5",
                "#B0BEC5",
                "#B0BEC5",
                "#B0BEC5",
                "#B0BEC5",
                "#B0BEC5",
                "#B0BEC5",
                "#B0BEC5",
                "#B0BEC5",
                "#B0BEC5",
                "#B0BEC5",
                "#B0BEC5",
                "#B0BEC5",
                "#B0BEC5",
                "#B0BEC5",
                "#B0BEC5"
               ]
              ]
             }
            ],
            "label": "Topic 51",
            "method": "update"
           },
           {
            "args": [
             {
              "marker.color": [
               [
                "#B0BEC5",
                "#B0BEC5",
                "#B0BEC5",
                "#B0BEC5",
                "#B0BEC5",
                "#B0BEC5",
                "#B0BEC5",
                "#B0BEC5",
                "#B0BEC5",
                "#B0BEC5",
                "#B0BEC5",
                "#B0BEC5",
                "#B0BEC5",
                "#B0BEC5",
                "#B0BEC5",
                "#B0BEC5",
                "#B0BEC5",
                "#B0BEC5",
                "#B0BEC5",
                "#B0BEC5",
                "#B0BEC5",
                "#B0BEC5",
                "#B0BEC5",
                "#B0BEC5",
                "#B0BEC5",
                "#B0BEC5",
                "#B0BEC5",
                "#B0BEC5",
                "#B0BEC5",
                "#B0BEC5",
                "#B0BEC5",
                "#B0BEC5",
                "#B0BEC5",
                "#B0BEC5",
                "#B0BEC5",
                "#B0BEC5",
                "#B0BEC5",
                "#B0BEC5",
                "#B0BEC5",
                "#B0BEC5",
                "#B0BEC5",
                "#B0BEC5",
                "#B0BEC5",
                "#B0BEC5",
                "#B0BEC5",
                "#B0BEC5",
                "#B0BEC5",
                "#B0BEC5",
                "#B0BEC5",
                "#B0BEC5",
                "#B0BEC5",
                "#B0BEC5",
                "red",
                "#B0BEC5",
                "#B0BEC5",
                "#B0BEC5",
                "#B0BEC5",
                "#B0BEC5",
                "#B0BEC5",
                "#B0BEC5",
                "#B0BEC5",
                "#B0BEC5",
                "#B0BEC5",
                "#B0BEC5",
                "#B0BEC5",
                "#B0BEC5",
                "#B0BEC5",
                "#B0BEC5"
               ]
              ]
             }
            ],
            "label": "Topic 52",
            "method": "update"
           },
           {
            "args": [
             {
              "marker.color": [
               [
                "#B0BEC5",
                "#B0BEC5",
                "#B0BEC5",
                "#B0BEC5",
                "#B0BEC5",
                "#B0BEC5",
                "#B0BEC5",
                "#B0BEC5",
                "#B0BEC5",
                "#B0BEC5",
                "#B0BEC5",
                "#B0BEC5",
                "#B0BEC5",
                "#B0BEC5",
                "#B0BEC5",
                "#B0BEC5",
                "#B0BEC5",
                "#B0BEC5",
                "#B0BEC5",
                "#B0BEC5",
                "#B0BEC5",
                "#B0BEC5",
                "#B0BEC5",
                "#B0BEC5",
                "#B0BEC5",
                "#B0BEC5",
                "#B0BEC5",
                "#B0BEC5",
                "#B0BEC5",
                "#B0BEC5",
                "#B0BEC5",
                "#B0BEC5",
                "#B0BEC5",
                "#B0BEC5",
                "#B0BEC5",
                "#B0BEC5",
                "#B0BEC5",
                "#B0BEC5",
                "#B0BEC5",
                "#B0BEC5",
                "#B0BEC5",
                "#B0BEC5",
                "#B0BEC5",
                "#B0BEC5",
                "#B0BEC5",
                "#B0BEC5",
                "#B0BEC5",
                "#B0BEC5",
                "#B0BEC5",
                "#B0BEC5",
                "#B0BEC5",
                "#B0BEC5",
                "#B0BEC5",
                "red",
                "#B0BEC5",
                "#B0BEC5",
                "#B0BEC5",
                "#B0BEC5",
                "#B0BEC5",
                "#B0BEC5",
                "#B0BEC5",
                "#B0BEC5",
                "#B0BEC5",
                "#B0BEC5",
                "#B0BEC5",
                "#B0BEC5",
                "#B0BEC5",
                "#B0BEC5"
               ]
              ]
             }
            ],
            "label": "Topic 53",
            "method": "update"
           },
           {
            "args": [
             {
              "marker.color": [
               [
                "#B0BEC5",
                "#B0BEC5",
                "#B0BEC5",
                "#B0BEC5",
                "#B0BEC5",
                "#B0BEC5",
                "#B0BEC5",
                "#B0BEC5",
                "#B0BEC5",
                "#B0BEC5",
                "#B0BEC5",
                "#B0BEC5",
                "#B0BEC5",
                "#B0BEC5",
                "#B0BEC5",
                "#B0BEC5",
                "#B0BEC5",
                "#B0BEC5",
                "#B0BEC5",
                "#B0BEC5",
                "#B0BEC5",
                "#B0BEC5",
                "#B0BEC5",
                "#B0BEC5",
                "#B0BEC5",
                "#B0BEC5",
                "#B0BEC5",
                "#B0BEC5",
                "#B0BEC5",
                "#B0BEC5",
                "#B0BEC5",
                "#B0BEC5",
                "#B0BEC5",
                "#B0BEC5",
                "#B0BEC5",
                "#B0BEC5",
                "#B0BEC5",
                "#B0BEC5",
                "#B0BEC5",
                "#B0BEC5",
                "#B0BEC5",
                "#B0BEC5",
                "#B0BEC5",
                "#B0BEC5",
                "#B0BEC5",
                "#B0BEC5",
                "#B0BEC5",
                "#B0BEC5",
                "#B0BEC5",
                "#B0BEC5",
                "#B0BEC5",
                "#B0BEC5",
                "#B0BEC5",
                "#B0BEC5",
                "red",
                "#B0BEC5",
                "#B0BEC5",
                "#B0BEC5",
                "#B0BEC5",
                "#B0BEC5",
                "#B0BEC5",
                "#B0BEC5",
                "#B0BEC5",
                "#B0BEC5",
                "#B0BEC5",
                "#B0BEC5",
                "#B0BEC5",
                "#B0BEC5"
               ]
              ]
             }
            ],
            "label": "Topic 54",
            "method": "update"
           },
           {
            "args": [
             {
              "marker.color": [
               [
                "#B0BEC5",
                "#B0BEC5",
                "#B0BEC5",
                "#B0BEC5",
                "#B0BEC5",
                "#B0BEC5",
                "#B0BEC5",
                "#B0BEC5",
                "#B0BEC5",
                "#B0BEC5",
                "#B0BEC5",
                "#B0BEC5",
                "#B0BEC5",
                "#B0BEC5",
                "#B0BEC5",
                "#B0BEC5",
                "#B0BEC5",
                "#B0BEC5",
                "#B0BEC5",
                "#B0BEC5",
                "#B0BEC5",
                "#B0BEC5",
                "#B0BEC5",
                "#B0BEC5",
                "#B0BEC5",
                "#B0BEC5",
                "#B0BEC5",
                "#B0BEC5",
                "#B0BEC5",
                "#B0BEC5",
                "#B0BEC5",
                "#B0BEC5",
                "#B0BEC5",
                "#B0BEC5",
                "#B0BEC5",
                "#B0BEC5",
                "#B0BEC5",
                "#B0BEC5",
                "#B0BEC5",
                "#B0BEC5",
                "#B0BEC5",
                "#B0BEC5",
                "#B0BEC5",
                "#B0BEC5",
                "#B0BEC5",
                "#B0BEC5",
                "#B0BEC5",
                "#B0BEC5",
                "#B0BEC5",
                "#B0BEC5",
                "#B0BEC5",
                "#B0BEC5",
                "#B0BEC5",
                "#B0BEC5",
                "#B0BEC5",
                "red",
                "#B0BEC5",
                "#B0BEC5",
                "#B0BEC5",
                "#B0BEC5",
                "#B0BEC5",
                "#B0BEC5",
                "#B0BEC5",
                "#B0BEC5",
                "#B0BEC5",
                "#B0BEC5",
                "#B0BEC5",
                "#B0BEC5"
               ]
              ]
             }
            ],
            "label": "Topic 55",
            "method": "update"
           },
           {
            "args": [
             {
              "marker.color": [
               [
                "#B0BEC5",
                "#B0BEC5",
                "#B0BEC5",
                "#B0BEC5",
                "#B0BEC5",
                "#B0BEC5",
                "#B0BEC5",
                "#B0BEC5",
                "#B0BEC5",
                "#B0BEC5",
                "#B0BEC5",
                "#B0BEC5",
                "#B0BEC5",
                "#B0BEC5",
                "#B0BEC5",
                "#B0BEC5",
                "#B0BEC5",
                "#B0BEC5",
                "#B0BEC5",
                "#B0BEC5",
                "#B0BEC5",
                "#B0BEC5",
                "#B0BEC5",
                "#B0BEC5",
                "#B0BEC5",
                "#B0BEC5",
                "#B0BEC5",
                "#B0BEC5",
                "#B0BEC5",
                "#B0BEC5",
                "#B0BEC5",
                "#B0BEC5",
                "#B0BEC5",
                "#B0BEC5",
                "#B0BEC5",
                "#B0BEC5",
                "#B0BEC5",
                "#B0BEC5",
                "#B0BEC5",
                "#B0BEC5",
                "#B0BEC5",
                "#B0BEC5",
                "#B0BEC5",
                "#B0BEC5",
                "#B0BEC5",
                "#B0BEC5",
                "#B0BEC5",
                "#B0BEC5",
                "#B0BEC5",
                "#B0BEC5",
                "#B0BEC5",
                "#B0BEC5",
                "#B0BEC5",
                "#B0BEC5",
                "#B0BEC5",
                "#B0BEC5",
                "red",
                "#B0BEC5",
                "#B0BEC5",
                "#B0BEC5",
                "#B0BEC5",
                "#B0BEC5",
                "#B0BEC5",
                "#B0BEC5",
                "#B0BEC5",
                "#B0BEC5",
                "#B0BEC5",
                "#B0BEC5"
               ]
              ]
             }
            ],
            "label": "Topic 56",
            "method": "update"
           },
           {
            "args": [
             {
              "marker.color": [
               [
                "#B0BEC5",
                "#B0BEC5",
                "#B0BEC5",
                "#B0BEC5",
                "#B0BEC5",
                "#B0BEC5",
                "#B0BEC5",
                "#B0BEC5",
                "#B0BEC5",
                "#B0BEC5",
                "#B0BEC5",
                "#B0BEC5",
                "#B0BEC5",
                "#B0BEC5",
                "#B0BEC5",
                "#B0BEC5",
                "#B0BEC5",
                "#B0BEC5",
                "#B0BEC5",
                "#B0BEC5",
                "#B0BEC5",
                "#B0BEC5",
                "#B0BEC5",
                "#B0BEC5",
                "#B0BEC5",
                "#B0BEC5",
                "#B0BEC5",
                "#B0BEC5",
                "#B0BEC5",
                "#B0BEC5",
                "#B0BEC5",
                "#B0BEC5",
                "#B0BEC5",
                "#B0BEC5",
                "#B0BEC5",
                "#B0BEC5",
                "#B0BEC5",
                "#B0BEC5",
                "#B0BEC5",
                "#B0BEC5",
                "#B0BEC5",
                "#B0BEC5",
                "#B0BEC5",
                "#B0BEC5",
                "#B0BEC5",
                "#B0BEC5",
                "#B0BEC5",
                "#B0BEC5",
                "#B0BEC5",
                "#B0BEC5",
                "#B0BEC5",
                "#B0BEC5",
                "#B0BEC5",
                "#B0BEC5",
                "#B0BEC5",
                "#B0BEC5",
                "#B0BEC5",
                "red",
                "#B0BEC5",
                "#B0BEC5",
                "#B0BEC5",
                "#B0BEC5",
                "#B0BEC5",
                "#B0BEC5",
                "#B0BEC5",
                "#B0BEC5",
                "#B0BEC5",
                "#B0BEC5"
               ]
              ]
             }
            ],
            "label": "Topic 57",
            "method": "update"
           },
           {
            "args": [
             {
              "marker.color": [
               [
                "#B0BEC5",
                "#B0BEC5",
                "#B0BEC5",
                "#B0BEC5",
                "#B0BEC5",
                "#B0BEC5",
                "#B0BEC5",
                "#B0BEC5",
                "#B0BEC5",
                "#B0BEC5",
                "#B0BEC5",
                "#B0BEC5",
                "#B0BEC5",
                "#B0BEC5",
                "#B0BEC5",
                "#B0BEC5",
                "#B0BEC5",
                "#B0BEC5",
                "#B0BEC5",
                "#B0BEC5",
                "#B0BEC5",
                "#B0BEC5",
                "#B0BEC5",
                "#B0BEC5",
                "#B0BEC5",
                "#B0BEC5",
                "#B0BEC5",
                "#B0BEC5",
                "#B0BEC5",
                "#B0BEC5",
                "#B0BEC5",
                "#B0BEC5",
                "#B0BEC5",
                "#B0BEC5",
                "#B0BEC5",
                "#B0BEC5",
                "#B0BEC5",
                "#B0BEC5",
                "#B0BEC5",
                "#B0BEC5",
                "#B0BEC5",
                "#B0BEC5",
                "#B0BEC5",
                "#B0BEC5",
                "#B0BEC5",
                "#B0BEC5",
                "#B0BEC5",
                "#B0BEC5",
                "#B0BEC5",
                "#B0BEC5",
                "#B0BEC5",
                "#B0BEC5",
                "#B0BEC5",
                "#B0BEC5",
                "#B0BEC5",
                "#B0BEC5",
                "#B0BEC5",
                "#B0BEC5",
                "red",
                "#B0BEC5",
                "#B0BEC5",
                "#B0BEC5",
                "#B0BEC5",
                "#B0BEC5",
                "#B0BEC5",
                "#B0BEC5",
                "#B0BEC5",
                "#B0BEC5"
               ]
              ]
             }
            ],
            "label": "Topic 58",
            "method": "update"
           },
           {
            "args": [
             {
              "marker.color": [
               [
                "#B0BEC5",
                "#B0BEC5",
                "#B0BEC5",
                "#B0BEC5",
                "#B0BEC5",
                "#B0BEC5",
                "#B0BEC5",
                "#B0BEC5",
                "#B0BEC5",
                "#B0BEC5",
                "#B0BEC5",
                "#B0BEC5",
                "#B0BEC5",
                "#B0BEC5",
                "#B0BEC5",
                "#B0BEC5",
                "#B0BEC5",
                "#B0BEC5",
                "#B0BEC5",
                "#B0BEC5",
                "#B0BEC5",
                "#B0BEC5",
                "#B0BEC5",
                "#B0BEC5",
                "#B0BEC5",
                "#B0BEC5",
                "#B0BEC5",
                "#B0BEC5",
                "#B0BEC5",
                "#B0BEC5",
                "#B0BEC5",
                "#B0BEC5",
                "#B0BEC5",
                "#B0BEC5",
                "#B0BEC5",
                "#B0BEC5",
                "#B0BEC5",
                "#B0BEC5",
                "#B0BEC5",
                "#B0BEC5",
                "#B0BEC5",
                "#B0BEC5",
                "#B0BEC5",
                "#B0BEC5",
                "#B0BEC5",
                "#B0BEC5",
                "#B0BEC5",
                "#B0BEC5",
                "#B0BEC5",
                "#B0BEC5",
                "#B0BEC5",
                "#B0BEC5",
                "#B0BEC5",
                "#B0BEC5",
                "#B0BEC5",
                "#B0BEC5",
                "#B0BEC5",
                "#B0BEC5",
                "#B0BEC5",
                "red",
                "#B0BEC5",
                "#B0BEC5",
                "#B0BEC5",
                "#B0BEC5",
                "#B0BEC5",
                "#B0BEC5",
                "#B0BEC5",
                "#B0BEC5"
               ]
              ]
             }
            ],
            "label": "Topic 59",
            "method": "update"
           },
           {
            "args": [
             {
              "marker.color": [
               [
                "#B0BEC5",
                "#B0BEC5",
                "#B0BEC5",
                "#B0BEC5",
                "#B0BEC5",
                "#B0BEC5",
                "#B0BEC5",
                "#B0BEC5",
                "#B0BEC5",
                "#B0BEC5",
                "#B0BEC5",
                "#B0BEC5",
                "#B0BEC5",
                "#B0BEC5",
                "#B0BEC5",
                "#B0BEC5",
                "#B0BEC5",
                "#B0BEC5",
                "#B0BEC5",
                "#B0BEC5",
                "#B0BEC5",
                "#B0BEC5",
                "#B0BEC5",
                "#B0BEC5",
                "#B0BEC5",
                "#B0BEC5",
                "#B0BEC5",
                "#B0BEC5",
                "#B0BEC5",
                "#B0BEC5",
                "#B0BEC5",
                "#B0BEC5",
                "#B0BEC5",
                "#B0BEC5",
                "#B0BEC5",
                "#B0BEC5",
                "#B0BEC5",
                "#B0BEC5",
                "#B0BEC5",
                "#B0BEC5",
                "#B0BEC5",
                "#B0BEC5",
                "#B0BEC5",
                "#B0BEC5",
                "#B0BEC5",
                "#B0BEC5",
                "#B0BEC5",
                "#B0BEC5",
                "#B0BEC5",
                "#B0BEC5",
                "#B0BEC5",
                "#B0BEC5",
                "#B0BEC5",
                "#B0BEC5",
                "#B0BEC5",
                "#B0BEC5",
                "#B0BEC5",
                "#B0BEC5",
                "#B0BEC5",
                "#B0BEC5",
                "red",
                "#B0BEC5",
                "#B0BEC5",
                "#B0BEC5",
                "#B0BEC5",
                "#B0BEC5",
                "#B0BEC5",
                "#B0BEC5"
               ]
              ]
             }
            ],
            "label": "Topic 60",
            "method": "update"
           },
           {
            "args": [
             {
              "marker.color": [
               [
                "#B0BEC5",
                "#B0BEC5",
                "#B0BEC5",
                "#B0BEC5",
                "#B0BEC5",
                "#B0BEC5",
                "#B0BEC5",
                "#B0BEC5",
                "#B0BEC5",
                "#B0BEC5",
                "#B0BEC5",
                "#B0BEC5",
                "#B0BEC5",
                "#B0BEC5",
                "#B0BEC5",
                "#B0BEC5",
                "#B0BEC5",
                "#B0BEC5",
                "#B0BEC5",
                "#B0BEC5",
                "#B0BEC5",
                "#B0BEC5",
                "#B0BEC5",
                "#B0BEC5",
                "#B0BEC5",
                "#B0BEC5",
                "#B0BEC5",
                "#B0BEC5",
                "#B0BEC5",
                "#B0BEC5",
                "#B0BEC5",
                "#B0BEC5",
                "#B0BEC5",
                "#B0BEC5",
                "#B0BEC5",
                "#B0BEC5",
                "#B0BEC5",
                "#B0BEC5",
                "#B0BEC5",
                "#B0BEC5",
                "#B0BEC5",
                "#B0BEC5",
                "#B0BEC5",
                "#B0BEC5",
                "#B0BEC5",
                "#B0BEC5",
                "#B0BEC5",
                "#B0BEC5",
                "#B0BEC5",
                "#B0BEC5",
                "#B0BEC5",
                "#B0BEC5",
                "#B0BEC5",
                "#B0BEC5",
                "#B0BEC5",
                "#B0BEC5",
                "#B0BEC5",
                "#B0BEC5",
                "#B0BEC5",
                "#B0BEC5",
                "#B0BEC5",
                "red",
                "#B0BEC5",
                "#B0BEC5",
                "#B0BEC5",
                "#B0BEC5",
                "#B0BEC5",
                "#B0BEC5"
               ]
              ]
             }
            ],
            "label": "Topic 61",
            "method": "update"
           },
           {
            "args": [
             {
              "marker.color": [
               [
                "#B0BEC5",
                "#B0BEC5",
                "#B0BEC5",
                "#B0BEC5",
                "#B0BEC5",
                "#B0BEC5",
                "#B0BEC5",
                "#B0BEC5",
                "#B0BEC5",
                "#B0BEC5",
                "#B0BEC5",
                "#B0BEC5",
                "#B0BEC5",
                "#B0BEC5",
                "#B0BEC5",
                "#B0BEC5",
                "#B0BEC5",
                "#B0BEC5",
                "#B0BEC5",
                "#B0BEC5",
                "#B0BEC5",
                "#B0BEC5",
                "#B0BEC5",
                "#B0BEC5",
                "#B0BEC5",
                "#B0BEC5",
                "#B0BEC5",
                "#B0BEC5",
                "#B0BEC5",
                "#B0BEC5",
                "#B0BEC5",
                "#B0BEC5",
                "#B0BEC5",
                "#B0BEC5",
                "#B0BEC5",
                "#B0BEC5",
                "#B0BEC5",
                "#B0BEC5",
                "#B0BEC5",
                "#B0BEC5",
                "#B0BEC5",
                "#B0BEC5",
                "#B0BEC5",
                "#B0BEC5",
                "#B0BEC5",
                "#B0BEC5",
                "#B0BEC5",
                "#B0BEC5",
                "#B0BEC5",
                "#B0BEC5",
                "#B0BEC5",
                "#B0BEC5",
                "#B0BEC5",
                "#B0BEC5",
                "#B0BEC5",
                "#B0BEC5",
                "#B0BEC5",
                "#B0BEC5",
                "#B0BEC5",
                "#B0BEC5",
                "#B0BEC5",
                "#B0BEC5",
                "red",
                "#B0BEC5",
                "#B0BEC5",
                "#B0BEC5",
                "#B0BEC5",
                "#B0BEC5"
               ]
              ]
             }
            ],
            "label": "Topic 62",
            "method": "update"
           },
           {
            "args": [
             {
              "marker.color": [
               [
                "#B0BEC5",
                "#B0BEC5",
                "#B0BEC5",
                "#B0BEC5",
                "#B0BEC5",
                "#B0BEC5",
                "#B0BEC5",
                "#B0BEC5",
                "#B0BEC5",
                "#B0BEC5",
                "#B0BEC5",
                "#B0BEC5",
                "#B0BEC5",
                "#B0BEC5",
                "#B0BEC5",
                "#B0BEC5",
                "#B0BEC5",
                "#B0BEC5",
                "#B0BEC5",
                "#B0BEC5",
                "#B0BEC5",
                "#B0BEC5",
                "#B0BEC5",
                "#B0BEC5",
                "#B0BEC5",
                "#B0BEC5",
                "#B0BEC5",
                "#B0BEC5",
                "#B0BEC5",
                "#B0BEC5",
                "#B0BEC5",
                "#B0BEC5",
                "#B0BEC5",
                "#B0BEC5",
                "#B0BEC5",
                "#B0BEC5",
                "#B0BEC5",
                "#B0BEC5",
                "#B0BEC5",
                "#B0BEC5",
                "#B0BEC5",
                "#B0BEC5",
                "#B0BEC5",
                "#B0BEC5",
                "#B0BEC5",
                "#B0BEC5",
                "#B0BEC5",
                "#B0BEC5",
                "#B0BEC5",
                "#B0BEC5",
                "#B0BEC5",
                "#B0BEC5",
                "#B0BEC5",
                "#B0BEC5",
                "#B0BEC5",
                "#B0BEC5",
                "#B0BEC5",
                "#B0BEC5",
                "#B0BEC5",
                "#B0BEC5",
                "#B0BEC5",
                "#B0BEC5",
                "#B0BEC5",
                "red",
                "#B0BEC5",
                "#B0BEC5",
                "#B0BEC5",
                "#B0BEC5"
               ]
              ]
             }
            ],
            "label": "Topic 63",
            "method": "update"
           },
           {
            "args": [
             {
              "marker.color": [
               [
                "#B0BEC5",
                "#B0BEC5",
                "#B0BEC5",
                "#B0BEC5",
                "#B0BEC5",
                "#B0BEC5",
                "#B0BEC5",
                "#B0BEC5",
                "#B0BEC5",
                "#B0BEC5",
                "#B0BEC5",
                "#B0BEC5",
                "#B0BEC5",
                "#B0BEC5",
                "#B0BEC5",
                "#B0BEC5",
                "#B0BEC5",
                "#B0BEC5",
                "#B0BEC5",
                "#B0BEC5",
                "#B0BEC5",
                "#B0BEC5",
                "#B0BEC5",
                "#B0BEC5",
                "#B0BEC5",
                "#B0BEC5",
                "#B0BEC5",
                "#B0BEC5",
                "#B0BEC5",
                "#B0BEC5",
                "#B0BEC5",
                "#B0BEC5",
                "#B0BEC5",
                "#B0BEC5",
                "#B0BEC5",
                "#B0BEC5",
                "#B0BEC5",
                "#B0BEC5",
                "#B0BEC5",
                "#B0BEC5",
                "#B0BEC5",
                "#B0BEC5",
                "#B0BEC5",
                "#B0BEC5",
                "#B0BEC5",
                "#B0BEC5",
                "#B0BEC5",
                "#B0BEC5",
                "#B0BEC5",
                "#B0BEC5",
                "#B0BEC5",
                "#B0BEC5",
                "#B0BEC5",
                "#B0BEC5",
                "#B0BEC5",
                "#B0BEC5",
                "#B0BEC5",
                "#B0BEC5",
                "#B0BEC5",
                "#B0BEC5",
                "#B0BEC5",
                "#B0BEC5",
                "#B0BEC5",
                "#B0BEC5",
                "red",
                "#B0BEC5",
                "#B0BEC5",
                "#B0BEC5"
               ]
              ]
             }
            ],
            "label": "Topic 64",
            "method": "update"
           },
           {
            "args": [
             {
              "marker.color": [
               [
                "#B0BEC5",
                "#B0BEC5",
                "#B0BEC5",
                "#B0BEC5",
                "#B0BEC5",
                "#B0BEC5",
                "#B0BEC5",
                "#B0BEC5",
                "#B0BEC5",
                "#B0BEC5",
                "#B0BEC5",
                "#B0BEC5",
                "#B0BEC5",
                "#B0BEC5",
                "#B0BEC5",
                "#B0BEC5",
                "#B0BEC5",
                "#B0BEC5",
                "#B0BEC5",
                "#B0BEC5",
                "#B0BEC5",
                "#B0BEC5",
                "#B0BEC5",
                "#B0BEC5",
                "#B0BEC5",
                "#B0BEC5",
                "#B0BEC5",
                "#B0BEC5",
                "#B0BEC5",
                "#B0BEC5",
                "#B0BEC5",
                "#B0BEC5",
                "#B0BEC5",
                "#B0BEC5",
                "#B0BEC5",
                "#B0BEC5",
                "#B0BEC5",
                "#B0BEC5",
                "#B0BEC5",
                "#B0BEC5",
                "#B0BEC5",
                "#B0BEC5",
                "#B0BEC5",
                "#B0BEC5",
                "#B0BEC5",
                "#B0BEC5",
                "#B0BEC5",
                "#B0BEC5",
                "#B0BEC5",
                "#B0BEC5",
                "#B0BEC5",
                "#B0BEC5",
                "#B0BEC5",
                "#B0BEC5",
                "#B0BEC5",
                "#B0BEC5",
                "#B0BEC5",
                "#B0BEC5",
                "#B0BEC5",
                "#B0BEC5",
                "#B0BEC5",
                "#B0BEC5",
                "#B0BEC5",
                "#B0BEC5",
                "#B0BEC5",
                "red",
                "#B0BEC5",
                "#B0BEC5"
               ]
              ]
             }
            ],
            "label": "Topic 65",
            "method": "update"
           },
           {
            "args": [
             {
              "marker.color": [
               [
                "#B0BEC5",
                "#B0BEC5",
                "#B0BEC5",
                "#B0BEC5",
                "#B0BEC5",
                "#B0BEC5",
                "#B0BEC5",
                "#B0BEC5",
                "#B0BEC5",
                "#B0BEC5",
                "#B0BEC5",
                "#B0BEC5",
                "#B0BEC5",
                "#B0BEC5",
                "#B0BEC5",
                "#B0BEC5",
                "#B0BEC5",
                "#B0BEC5",
                "#B0BEC5",
                "#B0BEC5",
                "#B0BEC5",
                "#B0BEC5",
                "#B0BEC5",
                "#B0BEC5",
                "#B0BEC5",
                "#B0BEC5",
                "#B0BEC5",
                "#B0BEC5",
                "#B0BEC5",
                "#B0BEC5",
                "#B0BEC5",
                "#B0BEC5",
                "#B0BEC5",
                "#B0BEC5",
                "#B0BEC5",
                "#B0BEC5",
                "#B0BEC5",
                "#B0BEC5",
                "#B0BEC5",
                "#B0BEC5",
                "#B0BEC5",
                "#B0BEC5",
                "#B0BEC5",
                "#B0BEC5",
                "#B0BEC5",
                "#B0BEC5",
                "#B0BEC5",
                "#B0BEC5",
                "#B0BEC5",
                "#B0BEC5",
                "#B0BEC5",
                "#B0BEC5",
                "#B0BEC5",
                "#B0BEC5",
                "#B0BEC5",
                "#B0BEC5",
                "#B0BEC5",
                "#B0BEC5",
                "#B0BEC5",
                "#B0BEC5",
                "#B0BEC5",
                "#B0BEC5",
                "#B0BEC5",
                "#B0BEC5",
                "#B0BEC5",
                "#B0BEC5",
                "red",
                "#B0BEC5"
               ]
              ]
             }
            ],
            "label": "Topic 66",
            "method": "update"
           },
           {
            "args": [
             {
              "marker.color": [
               [
                "#B0BEC5",
                "#B0BEC5",
                "#B0BEC5",
                "#B0BEC5",
                "#B0BEC5",
                "#B0BEC5",
                "#B0BEC5",
                "#B0BEC5",
                "#B0BEC5",
                "#B0BEC5",
                "#B0BEC5",
                "#B0BEC5",
                "#B0BEC5",
                "#B0BEC5",
                "#B0BEC5",
                "#B0BEC5",
                "#B0BEC5",
                "#B0BEC5",
                "#B0BEC5",
                "#B0BEC5",
                "#B0BEC5",
                "#B0BEC5",
                "#B0BEC5",
                "#B0BEC5",
                "#B0BEC5",
                "#B0BEC5",
                "#B0BEC5",
                "#B0BEC5",
                "#B0BEC5",
                "#B0BEC5",
                "#B0BEC5",
                "#B0BEC5",
                "#B0BEC5",
                "#B0BEC5",
                "#B0BEC5",
                "#B0BEC5",
                "#B0BEC5",
                "#B0BEC5",
                "#B0BEC5",
                "#B0BEC5",
                "#B0BEC5",
                "#B0BEC5",
                "#B0BEC5",
                "#B0BEC5",
                "#B0BEC5",
                "#B0BEC5",
                "#B0BEC5",
                "#B0BEC5",
                "#B0BEC5",
                "#B0BEC5",
                "#B0BEC5",
                "#B0BEC5",
                "#B0BEC5",
                "#B0BEC5",
                "#B0BEC5",
                "#B0BEC5",
                "#B0BEC5",
                "#B0BEC5",
                "#B0BEC5",
                "#B0BEC5",
                "#B0BEC5",
                "#B0BEC5",
                "#B0BEC5",
                "#B0BEC5",
                "#B0BEC5",
                "#B0BEC5",
                "#B0BEC5",
                "red"
               ]
              ]
             }
            ],
            "label": "Topic 67",
            "method": "update"
           }
          ]
         }
        ],
        "shapes": [
         {
          "line": {
           "color": "#CFD8DC",
           "width": 2
          },
          "type": "line",
          "x0": 1.2383872985839837,
          "x1": 1.2383872985839837,
          "y0": -12.250672388076783,
          "y1": 18.986458587646485
         },
         {
          "line": {
           "color": "#9E9E9E",
           "width": 2
          },
          "type": "line",
          "x0": -14.175395965576172,
          "x1": 16.65217056274414,
          "y0": 3.367893099784851,
          "y1": 3.367893099784851
         }
        ],
        "annotations": [
         {
          "showarrow": false,
          "text": "D1",
          "x": -14.175395965576172,
          "y": 3.367893099784851,
          "yshift": 10
         },
         {
          "showarrow": false,
          "text": "D2",
          "x": 1.2383872985839837,
          "xshift": 10,
          "y": 18.986458587646485
         }
        ]
       },
       "config": {
        "plotlyServerURL": "https://plot.ly"
       }
      },
      "text/html": "<div>                            <div id=\"6bda6cc1-53fe-4d02-a07a-e672cbd91c76\" class=\"plotly-graph-div\" style=\"height:650px; width:650px;\"></div>            <script type=\"text/javascript\">                require([\"plotly\"], function(Plotly) {                    window.PLOTLYENV=window.PLOTLYENV || {};                                    if (document.getElementById(\"6bda6cc1-53fe-4d02-a07a-e672cbd91c76\")) {                    Plotly.newPlot(                        \"6bda6cc1-53fe-4d02-a07a-e672cbd91c76\",                        [{\"customdata\":[[0,\"eon | contract | customer | electricity | new\",5051],[1,\"essent | years | customer | customers | energy\",4246],[2,\"invoice | invoices | receive | payment | issued\",2846],[3,\"contract | agreement | new | contracts | extend\",2823],[4,\"phone | minutes | service | hold | waiting\",2701],[5,\"price | prices | suppliers | supplier | expensive\",2659],[6,\"long | process | took | time | administration\",2656],[7,\"meter | reading | readings | enter | smart\",2266],[8,\"payment | installment | euros | payments | pay\",1942],[9,\"bills | billing | high | pay | arrived\",1621],[10,\"recommend | recommendations | recommending | advice | make\",1538],[11,\"energy | supplier | recommend | companies | electricity\",1476],[12,\"chat | chatbot | robot | bot | question\",1441],[13,\"power | outage | announced | day | outages\",1390],[14,\"website | site | page | slow | working\",1330],[15,\"customers | customer | regular | existing | discount\",1287],[16,\"accessible | reduce | poorly | dissatisfaction | price\",1261],[17,\"communication | conversation | bad | impersonal | treated\",1109],[18,\"connection | email | notification | connect | mail\",1043],[19,\"gas | electricity | contract | energiedirect | energy\",1032],[20,\"choice | decide | choose | make | choices\",970],[21,\"password | log | login | logging | reset\",944],[22,\"electricity | energy | price | high | prices\",943],[23,\"question | answer | questions | answered | answers\",942],[24,\"service | customer | bad | poor | employees\",860],[25,\"request | response | requests | resolved | long\",848],[26,\"information | confusing | unclear | clear | incorrect\",714],[27,\"contact | phone | touch | reach | telephone\",688],[28,\"look | amateurish |  |  | \",596],[29,\"rating | influenced | score | rate | fact\",561],[30,\"consumption | manager | app | insight | daily\",557],[31,\"electricity | lower | grid | prices | cheaper\",554],[32,\"innogy | client | polska | recommend | company\",547],[33,\"contracts | contract | add | account | new\",529],[34,\"satisfied | happy | good | dissatisfied | average\",524],[35,\"employee | lady | question | friendly | conversation\",521],[36,\"solved | problem | solution | solve | resolved\",519],[37,\"providers | provider | company | service | services\",498],[38,\"solar | panels | cells | panel | installation\",496],[39,\"boiler | water | thermostat | installed | technician\",471],[40,\"know | cheaper | accessibility | comment | displeased\",444],[41,\"talk | friends | don | bother | things\",437],[42,\"portal | online | confusing | work | internet\",412],[43,\"wrote | described | note | stated | previous\",404],[44,\"cena | know | champion | us\\u00e5 | ug\",403],[45,\"installation | installers | mechanic | installed | installer\",398],[46,\"se | \\u00ba\\u00e3 | hatrid | viz | na\",387],[47,\"helped | help | noded | haven | helpful\",368],[48,\"tariff | tariffs | change | offer | changing\",349],[49,\"annual | statement | accounts | statements | financial\",341],[50,\"cubic | consumption | gas | kw | kwh\",323],[51,\"ifo | colsenter | just | yes | answered\",321],[52,\"transcription | transcript | took | transcribed | long\",320],[53,\"nee | know | ne | net | reachable\",305],[54,\"transfer | cancellation | fee | refund | account\",289],[55,\"reduce | price | expensive | unreachable | cheated\",277],[56,\"nope | guessing | purely | sorry | absolutely\",276],[57,\"know | doubt | moment | yes | desire\",263],[58,\"promises | faster | promise | promised | kept\",262],[59,\"rates | rate | increase | better | current\",262],[60,\"app | work | working | doesn | works\",251],[61,\"accessibility | poor | accessible | poorly | bad\",244],[62,\"survey | surveys | questionnaire | polls | poll\",243],[63,\"know | don |  |  | \",237],[64,\"electricity | connection | electrician | connect | took\",228],[65,\"malfunction | error | malfunctions | functions | messages\",216],[66,\"works | work | doesn | spoke | does\",207],[67,\"complaint | contract | contracts | submitted | response\",203]],\"hovertemplate\":\"\\u003cb\\u003eTopic %{customdata[0]}\\u003c\\u002fb\\u003e\\u003cbr\\u003e%{customdata[1]}\\u003cbr\\u003eSize: %{customdata[2]}\",\"legendgroup\":\"\",\"marker\":{\"color\":\"#B0BEC5\",\"size\":[5051,4246,2846,2823,2701,2659,2656,2266,1942,1621,1538,1476,1441,1390,1330,1287,1261,1109,1043,1032,970,944,943,942,860,848,714,688,596,561,557,554,547,529,524,521,519,498,496,471,444,437,412,404,403,398,387,368,349,341,323,321,320,305,289,277,276,263,262,262,251,244,243,237,228,216,207,203],\"sizemode\":\"area\",\"sizeref\":3.156875,\"symbol\":\"circle\",\"line\":{\"color\":\"DarkSlateGrey\",\"width\":2}},\"mode\":\"markers\",\"name\":\"\",\"orientation\":\"v\",\"showlegend\":false,\"x\":[-11.978259086608887,-11.91808795928955,-0.18454571068286896,0.9030230045318604,2.3808796405792236,5.043603897094727,-0.43448588252067566,-11.985881805419922,-0.15821482241153717,0.12694139778614044,10.25981616973877,-9.27442455291748,2.768962860107422,-11.925310134887695,6.721126079559326,2.087794542312622,8.125080108642578,9.783477783203125,-0.0163996871560812,-12.077743530273438,8.675191879272461,6.593355178833008,-9.189604759216309,-0.12394961714744568,2.03595232963562,-0.14761678874492645,9.762541770935059,2.612172842025757,14.480148315429688,4.827290058135986,-8.93301773071289,-9.037940979003906,1.3593584299087524,0.814396321773529,8.159455299377441,9.84028148651123,3.6020569801330566,4.861649513244629,-11.963550567626953,-12.326431274414062,8.611823081970215,10.012053489685059,6.639784812927246,14.47983169555664,8.354924201965332,-12.2745943069458,7.6698198318481445,3.5418825149536133,5.162073612213135,-0.033143945038318634,-9.026775360107422,13.537496566772461,-0.5504550337791443,7.613673210144043,-0.39997056126594543,8.375014305114746,13.533288955688477,8.18786907196045,9.695919036865234,5.075170040130615,6.870441913604736,4.06508731842041,2.038931369781494,8.246477127075195,-12.053537368774414,3.9448623657226562,3.9013988971710205,1.3292365074157715],\"xaxis\":\"x\",\"y\":[4.981286525726318,4.815255165100098,9.55501937866211,2.5037589073181152,2.295708656311035,6.247744560241699,-0.8928022384643555,5.415687561035156,9.528671264648438,9.242883682250977,3.185098648071289,16.509963989257812,1.9389982223510742,5.870390892028809,-10.503395080566406,2.5510144233703613,11.262725830078125,3.6623098850250244,-1.3893810510635376,5.37761926651001,11.429887771606445,-10.375569343566895,16.425241470336914,-1.2875474691390991,2.4987688064575195,-1.3401036262512207,3.682255744934082,2.093423366546631,11.873255729675293,6.032238483428955,16.16848373413086,16.27346420288086,2.6494314670562744,2.4634547233581543,11.175018310546875,3.6054677963256836,-7.8136677742004395,6.065301418304443,6.0096893310546875,6.324454307556152,11.392688751220703,3.433414936065674,-10.421964645385742,11.873139381408691,12.110721588134766,6.276915550231934,10.819927215576172,-7.7532124519348145,6.367260456085205,9.403298377990723,16.262304306030273,7.853562831878662,-0.746364414691925,10.760205268859863,9.769976615905762,11.001399993896484,7.850658416748047,11.672534942626953,3.7499592304229736,6.279845237731934,-10.652758598327637,-8.277228355407715,2.6139755249023438,11.962995529174805,5.811319351196289,-8.157267570495605,-8.113626480102539,2.582498073577881],\"yaxis\":\"y\",\"type\":\"scatter\"}],                        {\"template\":{\"data\":{\"barpolar\":[{\"marker\":{\"line\":{\"color\":\"white\",\"width\":0.5},\"pattern\":{\"fillmode\":\"overlay\",\"size\":10,\"solidity\":0.2}},\"type\":\"barpolar\"}],\"bar\":[{\"error_x\":{\"color\":\"rgb(36,36,36)\"},\"error_y\":{\"color\":\"rgb(36,36,36)\"},\"marker\":{\"line\":{\"color\":\"white\",\"width\":0.5},\"pattern\":{\"fillmode\":\"overlay\",\"size\":10,\"solidity\":0.2}},\"type\":\"bar\"}],\"carpet\":[{\"aaxis\":{\"endlinecolor\":\"rgb(36,36,36)\",\"gridcolor\":\"white\",\"linecolor\":\"white\",\"minorgridcolor\":\"white\",\"startlinecolor\":\"rgb(36,36,36)\"},\"baxis\":{\"endlinecolor\":\"rgb(36,36,36)\",\"gridcolor\":\"white\",\"linecolor\":\"white\",\"minorgridcolor\":\"white\",\"startlinecolor\":\"rgb(36,36,36)\"},\"type\":\"carpet\"}],\"choropleth\":[{\"colorbar\":{\"outlinewidth\":1,\"tickcolor\":\"rgb(36,36,36)\",\"ticks\":\"outside\"},\"type\":\"choropleth\"}],\"contourcarpet\":[{\"colorbar\":{\"outlinewidth\":1,\"tickcolor\":\"rgb(36,36,36)\",\"ticks\":\"outside\"},\"type\":\"contourcarpet\"}],\"contour\":[{\"colorbar\":{\"outlinewidth\":1,\"tickcolor\":\"rgb(36,36,36)\",\"ticks\":\"outside\"},\"colorscale\":[[0.0,\"#440154\"],[0.1111111111111111,\"#482878\"],[0.2222222222222222,\"#3e4989\"],[0.3333333333333333,\"#31688e\"],[0.4444444444444444,\"#26828e\"],[0.5555555555555556,\"#1f9e89\"],[0.6666666666666666,\"#35b779\"],[0.7777777777777778,\"#6ece58\"],[0.8888888888888888,\"#b5de2b\"],[1.0,\"#fde725\"]],\"type\":\"contour\"}],\"heatmapgl\":[{\"colorbar\":{\"outlinewidth\":1,\"tickcolor\":\"rgb(36,36,36)\",\"ticks\":\"outside\"},\"colorscale\":[[0.0,\"#440154\"],[0.1111111111111111,\"#482878\"],[0.2222222222222222,\"#3e4989\"],[0.3333333333333333,\"#31688e\"],[0.4444444444444444,\"#26828e\"],[0.5555555555555556,\"#1f9e89\"],[0.6666666666666666,\"#35b779\"],[0.7777777777777778,\"#6ece58\"],[0.8888888888888888,\"#b5de2b\"],[1.0,\"#fde725\"]],\"type\":\"heatmapgl\"}],\"heatmap\":[{\"colorbar\":{\"outlinewidth\":1,\"tickcolor\":\"rgb(36,36,36)\",\"ticks\":\"outside\"},\"colorscale\":[[0.0,\"#440154\"],[0.1111111111111111,\"#482878\"],[0.2222222222222222,\"#3e4989\"],[0.3333333333333333,\"#31688e\"],[0.4444444444444444,\"#26828e\"],[0.5555555555555556,\"#1f9e89\"],[0.6666666666666666,\"#35b779\"],[0.7777777777777778,\"#6ece58\"],[0.8888888888888888,\"#b5de2b\"],[1.0,\"#fde725\"]],\"type\":\"heatmap\"}],\"histogram2dcontour\":[{\"colorbar\":{\"outlinewidth\":1,\"tickcolor\":\"rgb(36,36,36)\",\"ticks\":\"outside\"},\"colorscale\":[[0.0,\"#440154\"],[0.1111111111111111,\"#482878\"],[0.2222222222222222,\"#3e4989\"],[0.3333333333333333,\"#31688e\"],[0.4444444444444444,\"#26828e\"],[0.5555555555555556,\"#1f9e89\"],[0.6666666666666666,\"#35b779\"],[0.7777777777777778,\"#6ece58\"],[0.8888888888888888,\"#b5de2b\"],[1.0,\"#fde725\"]],\"type\":\"histogram2dcontour\"}],\"histogram2d\":[{\"colorbar\":{\"outlinewidth\":1,\"tickcolor\":\"rgb(36,36,36)\",\"ticks\":\"outside\"},\"colorscale\":[[0.0,\"#440154\"],[0.1111111111111111,\"#482878\"],[0.2222222222222222,\"#3e4989\"],[0.3333333333333333,\"#31688e\"],[0.4444444444444444,\"#26828e\"],[0.5555555555555556,\"#1f9e89\"],[0.6666666666666666,\"#35b779\"],[0.7777777777777778,\"#6ece58\"],[0.8888888888888888,\"#b5de2b\"],[1.0,\"#fde725\"]],\"type\":\"histogram2d\"}],\"histogram\":[{\"marker\":{\"line\":{\"color\":\"white\",\"width\":0.6}},\"type\":\"histogram\"}],\"mesh3d\":[{\"colorbar\":{\"outlinewidth\":1,\"tickcolor\":\"rgb(36,36,36)\",\"ticks\":\"outside\"},\"type\":\"mesh3d\"}],\"parcoords\":[{\"line\":{\"colorbar\":{\"outlinewidth\":1,\"tickcolor\":\"rgb(36,36,36)\",\"ticks\":\"outside\"}},\"type\":\"parcoords\"}],\"pie\":[{\"automargin\":true,\"type\":\"pie\"}],\"scatter3d\":[{\"line\":{\"colorbar\":{\"outlinewidth\":1,\"tickcolor\":\"rgb(36,36,36)\",\"ticks\":\"outside\"}},\"marker\":{\"colorbar\":{\"outlinewidth\":1,\"tickcolor\":\"rgb(36,36,36)\",\"ticks\":\"outside\"}},\"type\":\"scatter3d\"}],\"scattercarpet\":[{\"marker\":{\"colorbar\":{\"outlinewidth\":1,\"tickcolor\":\"rgb(36,36,36)\",\"ticks\":\"outside\"}},\"type\":\"scattercarpet\"}],\"scattergeo\":[{\"marker\":{\"colorbar\":{\"outlinewidth\":1,\"tickcolor\":\"rgb(36,36,36)\",\"ticks\":\"outside\"}},\"type\":\"scattergeo\"}],\"scattergl\":[{\"marker\":{\"colorbar\":{\"outlinewidth\":1,\"tickcolor\":\"rgb(36,36,36)\",\"ticks\":\"outside\"}},\"type\":\"scattergl\"}],\"scattermapbox\":[{\"marker\":{\"colorbar\":{\"outlinewidth\":1,\"tickcolor\":\"rgb(36,36,36)\",\"ticks\":\"outside\"}},\"type\":\"scattermapbox\"}],\"scatterpolargl\":[{\"marker\":{\"colorbar\":{\"outlinewidth\":1,\"tickcolor\":\"rgb(36,36,36)\",\"ticks\":\"outside\"}},\"type\":\"scatterpolargl\"}],\"scatterpolar\":[{\"marker\":{\"colorbar\":{\"outlinewidth\":1,\"tickcolor\":\"rgb(36,36,36)\",\"ticks\":\"outside\"}},\"type\":\"scatterpolar\"}],\"scatter\":[{\"fillpattern\":{\"fillmode\":\"overlay\",\"size\":10,\"solidity\":0.2},\"type\":\"scatter\"}],\"scatterternary\":[{\"marker\":{\"colorbar\":{\"outlinewidth\":1,\"tickcolor\":\"rgb(36,36,36)\",\"ticks\":\"outside\"}},\"type\":\"scatterternary\"}],\"surface\":[{\"colorbar\":{\"outlinewidth\":1,\"tickcolor\":\"rgb(36,36,36)\",\"ticks\":\"outside\"},\"colorscale\":[[0.0,\"#440154\"],[0.1111111111111111,\"#482878\"],[0.2222222222222222,\"#3e4989\"],[0.3333333333333333,\"#31688e\"],[0.4444444444444444,\"#26828e\"],[0.5555555555555556,\"#1f9e89\"],[0.6666666666666666,\"#35b779\"],[0.7777777777777778,\"#6ece58\"],[0.8888888888888888,\"#b5de2b\"],[1.0,\"#fde725\"]],\"type\":\"surface\"}],\"table\":[{\"cells\":{\"fill\":{\"color\":\"rgb(237,237,237)\"},\"line\":{\"color\":\"white\"}},\"header\":{\"fill\":{\"color\":\"rgb(217,217,217)\"},\"line\":{\"color\":\"white\"}},\"type\":\"table\"}]},\"layout\":{\"annotationdefaults\":{\"arrowhead\":0,\"arrowwidth\":1},\"autotypenumbers\":\"strict\",\"coloraxis\":{\"colorbar\":{\"outlinewidth\":1,\"tickcolor\":\"rgb(36,36,36)\",\"ticks\":\"outside\"}},\"colorscale\":{\"diverging\":[[0.0,\"rgb(103,0,31)\"],[0.1,\"rgb(178,24,43)\"],[0.2,\"rgb(214,96,77)\"],[0.3,\"rgb(244,165,130)\"],[0.4,\"rgb(253,219,199)\"],[0.5,\"rgb(247,247,247)\"],[0.6,\"rgb(209,229,240)\"],[0.7,\"rgb(146,197,222)\"],[0.8,\"rgb(67,147,195)\"],[0.9,\"rgb(33,102,172)\"],[1.0,\"rgb(5,48,97)\"]],\"sequential\":[[0.0,\"#440154\"],[0.1111111111111111,\"#482878\"],[0.2222222222222222,\"#3e4989\"],[0.3333333333333333,\"#31688e\"],[0.4444444444444444,\"#26828e\"],[0.5555555555555556,\"#1f9e89\"],[0.6666666666666666,\"#35b779\"],[0.7777777777777778,\"#6ece58\"],[0.8888888888888888,\"#b5de2b\"],[1.0,\"#fde725\"]],\"sequentialminus\":[[0.0,\"#440154\"],[0.1111111111111111,\"#482878\"],[0.2222222222222222,\"#3e4989\"],[0.3333333333333333,\"#31688e\"],[0.4444444444444444,\"#26828e\"],[0.5555555555555556,\"#1f9e89\"],[0.6666666666666666,\"#35b779\"],[0.7777777777777778,\"#6ece58\"],[0.8888888888888888,\"#b5de2b\"],[1.0,\"#fde725\"]]},\"colorway\":[\"#1F77B4\",\"#FF7F0E\",\"#2CA02C\",\"#D62728\",\"#9467BD\",\"#8C564B\",\"#E377C2\",\"#7F7F7F\",\"#BCBD22\",\"#17BECF\"],\"font\":{\"color\":\"rgb(36,36,36)\"},\"geo\":{\"bgcolor\":\"white\",\"lakecolor\":\"white\",\"landcolor\":\"white\",\"showlakes\":true,\"showland\":true,\"subunitcolor\":\"white\"},\"hoverlabel\":{\"align\":\"left\"},\"hovermode\":\"closest\",\"mapbox\":{\"style\":\"light\"},\"paper_bgcolor\":\"white\",\"plot_bgcolor\":\"white\",\"polar\":{\"angularaxis\":{\"gridcolor\":\"rgb(232,232,232)\",\"linecolor\":\"rgb(36,36,36)\",\"showgrid\":false,\"showline\":true,\"ticks\":\"outside\"},\"bgcolor\":\"white\",\"radialaxis\":{\"gridcolor\":\"rgb(232,232,232)\",\"linecolor\":\"rgb(36,36,36)\",\"showgrid\":false,\"showline\":true,\"ticks\":\"outside\"}},\"scene\":{\"xaxis\":{\"backgroundcolor\":\"white\",\"gridcolor\":\"rgb(232,232,232)\",\"gridwidth\":2,\"linecolor\":\"rgb(36,36,36)\",\"showbackground\":true,\"showgrid\":false,\"showline\":true,\"ticks\":\"outside\",\"zeroline\":false,\"zerolinecolor\":\"rgb(36,36,36)\"},\"yaxis\":{\"backgroundcolor\":\"white\",\"gridcolor\":\"rgb(232,232,232)\",\"gridwidth\":2,\"linecolor\":\"rgb(36,36,36)\",\"showbackground\":true,\"showgrid\":false,\"showline\":true,\"ticks\":\"outside\",\"zeroline\":false,\"zerolinecolor\":\"rgb(36,36,36)\"},\"zaxis\":{\"backgroundcolor\":\"white\",\"gridcolor\":\"rgb(232,232,232)\",\"gridwidth\":2,\"linecolor\":\"rgb(36,36,36)\",\"showbackground\":true,\"showgrid\":false,\"showline\":true,\"ticks\":\"outside\",\"zeroline\":false,\"zerolinecolor\":\"rgb(36,36,36)\"}},\"shapedefaults\":{\"fillcolor\":\"black\",\"line\":{\"width\":0},\"opacity\":0.3},\"ternary\":{\"aaxis\":{\"gridcolor\":\"rgb(232,232,232)\",\"linecolor\":\"rgb(36,36,36)\",\"showgrid\":false,\"showline\":true,\"ticks\":\"outside\"},\"baxis\":{\"gridcolor\":\"rgb(232,232,232)\",\"linecolor\":\"rgb(36,36,36)\",\"showgrid\":false,\"showline\":true,\"ticks\":\"outside\"},\"bgcolor\":\"white\",\"caxis\":{\"gridcolor\":\"rgb(232,232,232)\",\"linecolor\":\"rgb(36,36,36)\",\"showgrid\":false,\"showline\":true,\"ticks\":\"outside\"}},\"title\":{\"x\":0.05},\"xaxis\":{\"automargin\":true,\"gridcolor\":\"rgb(232,232,232)\",\"linecolor\":\"rgb(36,36,36)\",\"showgrid\":false,\"showline\":true,\"ticks\":\"outside\",\"title\":{\"standoff\":15},\"zeroline\":false,\"zerolinecolor\":\"rgb(36,36,36)\"},\"yaxis\":{\"automargin\":true,\"gridcolor\":\"rgb(232,232,232)\",\"linecolor\":\"rgb(36,36,36)\",\"showgrid\":false,\"showline\":true,\"ticks\":\"outside\",\"title\":{\"standoff\":15},\"zeroline\":false,\"zerolinecolor\":\"rgb(36,36,36)\"}}},\"xaxis\":{\"anchor\":\"y\",\"domain\":[0.0,1.0],\"title\":{\"text\":\"\"},\"visible\":false,\"range\":[-14.175395965576172,16.65217056274414]},\"yaxis\":{\"anchor\":\"x\",\"domain\":[0.0,1.0],\"title\":{\"text\":\"\"},\"visible\":false,\"range\":[-12.250672388076783,18.986458587646485]},\"legend\":{\"tracegroupgap\":0,\"itemsizing\":\"constant\"},\"margin\":{\"t\":60},\"title\":{\"font\":{\"size\":22,\"color\":\"Black\"},\"text\":\"\\u003cb\\u003eIntertopic Distance Map\\u003c\\u002fb\\u003e\",\"y\":0.95,\"x\":0.5,\"xanchor\":\"center\",\"yanchor\":\"top\"},\"hoverlabel\":{\"font\":{\"size\":16,\"family\":\"Rockwell\"},\"bgcolor\":\"white\"},\"width\":650,\"height\":650,\"sliders\":[{\"active\":0,\"pad\":{\"t\":50},\"steps\":[{\"args\":[{\"marker.color\":[[\"red\",\"#B0BEC5\",\"#B0BEC5\",\"#B0BEC5\",\"#B0BEC5\",\"#B0BEC5\",\"#B0BEC5\",\"#B0BEC5\",\"#B0BEC5\",\"#B0BEC5\",\"#B0BEC5\",\"#B0BEC5\",\"#B0BEC5\",\"#B0BEC5\",\"#B0BEC5\",\"#B0BEC5\",\"#B0BEC5\",\"#B0BEC5\",\"#B0BEC5\",\"#B0BEC5\",\"#B0BEC5\",\"#B0BEC5\",\"#B0BEC5\",\"#B0BEC5\",\"#B0BEC5\",\"#B0BEC5\",\"#B0BEC5\",\"#B0BEC5\",\"#B0BEC5\",\"#B0BEC5\",\"#B0BEC5\",\"#B0BEC5\",\"#B0BEC5\",\"#B0BEC5\",\"#B0BEC5\",\"#B0BEC5\",\"#B0BEC5\",\"#B0BEC5\",\"#B0BEC5\",\"#B0BEC5\",\"#B0BEC5\",\"#B0BEC5\",\"#B0BEC5\",\"#B0BEC5\",\"#B0BEC5\",\"#B0BEC5\",\"#B0BEC5\",\"#B0BEC5\",\"#B0BEC5\",\"#B0BEC5\",\"#B0BEC5\",\"#B0BEC5\",\"#B0BEC5\",\"#B0BEC5\",\"#B0BEC5\",\"#B0BEC5\",\"#B0BEC5\",\"#B0BEC5\",\"#B0BEC5\",\"#B0BEC5\",\"#B0BEC5\",\"#B0BEC5\",\"#B0BEC5\",\"#B0BEC5\",\"#B0BEC5\",\"#B0BEC5\",\"#B0BEC5\",\"#B0BEC5\"]]}],\"label\":\"Topic 0\",\"method\":\"update\"},{\"args\":[{\"marker.color\":[[\"#B0BEC5\",\"red\",\"#B0BEC5\",\"#B0BEC5\",\"#B0BEC5\",\"#B0BEC5\",\"#B0BEC5\",\"#B0BEC5\",\"#B0BEC5\",\"#B0BEC5\",\"#B0BEC5\",\"#B0BEC5\",\"#B0BEC5\",\"#B0BEC5\",\"#B0BEC5\",\"#B0BEC5\",\"#B0BEC5\",\"#B0BEC5\",\"#B0BEC5\",\"#B0BEC5\",\"#B0BEC5\",\"#B0BEC5\",\"#B0BEC5\",\"#B0BEC5\",\"#B0BEC5\",\"#B0BEC5\",\"#B0BEC5\",\"#B0BEC5\",\"#B0BEC5\",\"#B0BEC5\",\"#B0BEC5\",\"#B0BEC5\",\"#B0BEC5\",\"#B0BEC5\",\"#B0BEC5\",\"#B0BEC5\",\"#B0BEC5\",\"#B0BEC5\",\"#B0BEC5\",\"#B0BEC5\",\"#B0BEC5\",\"#B0BEC5\",\"#B0BEC5\",\"#B0BEC5\",\"#B0BEC5\",\"#B0BEC5\",\"#B0BEC5\",\"#B0BEC5\",\"#B0BEC5\",\"#B0BEC5\",\"#B0BEC5\",\"#B0BEC5\",\"#B0BEC5\",\"#B0BEC5\",\"#B0BEC5\",\"#B0BEC5\",\"#B0BEC5\",\"#B0BEC5\",\"#B0BEC5\",\"#B0BEC5\",\"#B0BEC5\",\"#B0BEC5\",\"#B0BEC5\",\"#B0BEC5\",\"#B0BEC5\",\"#B0BEC5\",\"#B0BEC5\",\"#B0BEC5\"]]}],\"label\":\"Topic 1\",\"method\":\"update\"},{\"args\":[{\"marker.color\":[[\"#B0BEC5\",\"#B0BEC5\",\"red\",\"#B0BEC5\",\"#B0BEC5\",\"#B0BEC5\",\"#B0BEC5\",\"#B0BEC5\",\"#B0BEC5\",\"#B0BEC5\",\"#B0BEC5\",\"#B0BEC5\",\"#B0BEC5\",\"#B0BEC5\",\"#B0BEC5\",\"#B0BEC5\",\"#B0BEC5\",\"#B0BEC5\",\"#B0BEC5\",\"#B0BEC5\",\"#B0BEC5\",\"#B0BEC5\",\"#B0BEC5\",\"#B0BEC5\",\"#B0BEC5\",\"#B0BEC5\",\"#B0BEC5\",\"#B0BEC5\",\"#B0BEC5\",\"#B0BEC5\",\"#B0BEC5\",\"#B0BEC5\",\"#B0BEC5\",\"#B0BEC5\",\"#B0BEC5\",\"#B0BEC5\",\"#B0BEC5\",\"#B0BEC5\",\"#B0BEC5\",\"#B0BEC5\",\"#B0BEC5\",\"#B0BEC5\",\"#B0BEC5\",\"#B0BEC5\",\"#B0BEC5\",\"#B0BEC5\",\"#B0BEC5\",\"#B0BEC5\",\"#B0BEC5\",\"#B0BEC5\",\"#B0BEC5\",\"#B0BEC5\",\"#B0BEC5\",\"#B0BEC5\",\"#B0BEC5\",\"#B0BEC5\",\"#B0BEC5\",\"#B0BEC5\",\"#B0BEC5\",\"#B0BEC5\",\"#B0BEC5\",\"#B0BEC5\",\"#B0BEC5\",\"#B0BEC5\",\"#B0BEC5\",\"#B0BEC5\",\"#B0BEC5\",\"#B0BEC5\"]]}],\"label\":\"Topic 2\",\"method\":\"update\"},{\"args\":[{\"marker.color\":[[\"#B0BEC5\",\"#B0BEC5\",\"#B0BEC5\",\"red\",\"#B0BEC5\",\"#B0BEC5\",\"#B0BEC5\",\"#B0BEC5\",\"#B0BEC5\",\"#B0BEC5\",\"#B0BEC5\",\"#B0BEC5\",\"#B0BEC5\",\"#B0BEC5\",\"#B0BEC5\",\"#B0BEC5\",\"#B0BEC5\",\"#B0BEC5\",\"#B0BEC5\",\"#B0BEC5\",\"#B0BEC5\",\"#B0BEC5\",\"#B0BEC5\",\"#B0BEC5\",\"#B0BEC5\",\"#B0BEC5\",\"#B0BEC5\",\"#B0BEC5\",\"#B0BEC5\",\"#B0BEC5\",\"#B0BEC5\",\"#B0BEC5\",\"#B0BEC5\",\"#B0BEC5\",\"#B0BEC5\",\"#B0BEC5\",\"#B0BEC5\",\"#B0BEC5\",\"#B0BEC5\",\"#B0BEC5\",\"#B0BEC5\",\"#B0BEC5\",\"#B0BEC5\",\"#B0BEC5\",\"#B0BEC5\",\"#B0BEC5\",\"#B0BEC5\",\"#B0BEC5\",\"#B0BEC5\",\"#B0BEC5\",\"#B0BEC5\",\"#B0BEC5\",\"#B0BEC5\",\"#B0BEC5\",\"#B0BEC5\",\"#B0BEC5\",\"#B0BEC5\",\"#B0BEC5\",\"#B0BEC5\",\"#B0BEC5\",\"#B0BEC5\",\"#B0BEC5\",\"#B0BEC5\",\"#B0BEC5\",\"#B0BEC5\",\"#B0BEC5\",\"#B0BEC5\",\"#B0BEC5\"]]}],\"label\":\"Topic 3\",\"method\":\"update\"},{\"args\":[{\"marker.color\":[[\"#B0BEC5\",\"#B0BEC5\",\"#B0BEC5\",\"#B0BEC5\",\"red\",\"#B0BEC5\",\"#B0BEC5\",\"#B0BEC5\",\"#B0BEC5\",\"#B0BEC5\",\"#B0BEC5\",\"#B0BEC5\",\"#B0BEC5\",\"#B0BEC5\",\"#B0BEC5\",\"#B0BEC5\",\"#B0BEC5\",\"#B0BEC5\",\"#B0BEC5\",\"#B0BEC5\",\"#B0BEC5\",\"#B0BEC5\",\"#B0BEC5\",\"#B0BEC5\",\"#B0BEC5\",\"#B0BEC5\",\"#B0BEC5\",\"#B0BEC5\",\"#B0BEC5\",\"#B0BEC5\",\"#B0BEC5\",\"#B0BEC5\",\"#B0BEC5\",\"#B0BEC5\",\"#B0BEC5\",\"#B0BEC5\",\"#B0BEC5\",\"#B0BEC5\",\"#B0BEC5\",\"#B0BEC5\",\"#B0BEC5\",\"#B0BEC5\",\"#B0BEC5\",\"#B0BEC5\",\"#B0BEC5\",\"#B0BEC5\",\"#B0BEC5\",\"#B0BEC5\",\"#B0BEC5\",\"#B0BEC5\",\"#B0BEC5\",\"#B0BEC5\",\"#B0BEC5\",\"#B0BEC5\",\"#B0BEC5\",\"#B0BEC5\",\"#B0BEC5\",\"#B0BEC5\",\"#B0BEC5\",\"#B0BEC5\",\"#B0BEC5\",\"#B0BEC5\",\"#B0BEC5\",\"#B0BEC5\",\"#B0BEC5\",\"#B0BEC5\",\"#B0BEC5\",\"#B0BEC5\"]]}],\"label\":\"Topic 4\",\"method\":\"update\"},{\"args\":[{\"marker.color\":[[\"#B0BEC5\",\"#B0BEC5\",\"#B0BEC5\",\"#B0BEC5\",\"#B0BEC5\",\"red\",\"#B0BEC5\",\"#B0BEC5\",\"#B0BEC5\",\"#B0BEC5\",\"#B0BEC5\",\"#B0BEC5\",\"#B0BEC5\",\"#B0BEC5\",\"#B0BEC5\",\"#B0BEC5\",\"#B0BEC5\",\"#B0BEC5\",\"#B0BEC5\",\"#B0BEC5\",\"#B0BEC5\",\"#B0BEC5\",\"#B0BEC5\",\"#B0BEC5\",\"#B0BEC5\",\"#B0BEC5\",\"#B0BEC5\",\"#B0BEC5\",\"#B0BEC5\",\"#B0BEC5\",\"#B0BEC5\",\"#B0BEC5\",\"#B0BEC5\",\"#B0BEC5\",\"#B0BEC5\",\"#B0BEC5\",\"#B0BEC5\",\"#B0BEC5\",\"#B0BEC5\",\"#B0BEC5\",\"#B0BEC5\",\"#B0BEC5\",\"#B0BEC5\",\"#B0BEC5\",\"#B0BEC5\",\"#B0BEC5\",\"#B0BEC5\",\"#B0BEC5\",\"#B0BEC5\",\"#B0BEC5\",\"#B0BEC5\",\"#B0BEC5\",\"#B0BEC5\",\"#B0BEC5\",\"#B0BEC5\",\"#B0BEC5\",\"#B0BEC5\",\"#B0BEC5\",\"#B0BEC5\",\"#B0BEC5\",\"#B0BEC5\",\"#B0BEC5\",\"#B0BEC5\",\"#B0BEC5\",\"#B0BEC5\",\"#B0BEC5\",\"#B0BEC5\",\"#B0BEC5\"]]}],\"label\":\"Topic 5\",\"method\":\"update\"},{\"args\":[{\"marker.color\":[[\"#B0BEC5\",\"#B0BEC5\",\"#B0BEC5\",\"#B0BEC5\",\"#B0BEC5\",\"#B0BEC5\",\"red\",\"#B0BEC5\",\"#B0BEC5\",\"#B0BEC5\",\"#B0BEC5\",\"#B0BEC5\",\"#B0BEC5\",\"#B0BEC5\",\"#B0BEC5\",\"#B0BEC5\",\"#B0BEC5\",\"#B0BEC5\",\"#B0BEC5\",\"#B0BEC5\",\"#B0BEC5\",\"#B0BEC5\",\"#B0BEC5\",\"#B0BEC5\",\"#B0BEC5\",\"#B0BEC5\",\"#B0BEC5\",\"#B0BEC5\",\"#B0BEC5\",\"#B0BEC5\",\"#B0BEC5\",\"#B0BEC5\",\"#B0BEC5\",\"#B0BEC5\",\"#B0BEC5\",\"#B0BEC5\",\"#B0BEC5\",\"#B0BEC5\",\"#B0BEC5\",\"#B0BEC5\",\"#B0BEC5\",\"#B0BEC5\",\"#B0BEC5\",\"#B0BEC5\",\"#B0BEC5\",\"#B0BEC5\",\"#B0BEC5\",\"#B0BEC5\",\"#B0BEC5\",\"#B0BEC5\",\"#B0BEC5\",\"#B0BEC5\",\"#B0BEC5\",\"#B0BEC5\",\"#B0BEC5\",\"#B0BEC5\",\"#B0BEC5\",\"#B0BEC5\",\"#B0BEC5\",\"#B0BEC5\",\"#B0BEC5\",\"#B0BEC5\",\"#B0BEC5\",\"#B0BEC5\",\"#B0BEC5\",\"#B0BEC5\",\"#B0BEC5\",\"#B0BEC5\"]]}],\"label\":\"Topic 6\",\"method\":\"update\"},{\"args\":[{\"marker.color\":[[\"#B0BEC5\",\"#B0BEC5\",\"#B0BEC5\",\"#B0BEC5\",\"#B0BEC5\",\"#B0BEC5\",\"#B0BEC5\",\"red\",\"#B0BEC5\",\"#B0BEC5\",\"#B0BEC5\",\"#B0BEC5\",\"#B0BEC5\",\"#B0BEC5\",\"#B0BEC5\",\"#B0BEC5\",\"#B0BEC5\",\"#B0BEC5\",\"#B0BEC5\",\"#B0BEC5\",\"#B0BEC5\",\"#B0BEC5\",\"#B0BEC5\",\"#B0BEC5\",\"#B0BEC5\",\"#B0BEC5\",\"#B0BEC5\",\"#B0BEC5\",\"#B0BEC5\",\"#B0BEC5\",\"#B0BEC5\",\"#B0BEC5\",\"#B0BEC5\",\"#B0BEC5\",\"#B0BEC5\",\"#B0BEC5\",\"#B0BEC5\",\"#B0BEC5\",\"#B0BEC5\",\"#B0BEC5\",\"#B0BEC5\",\"#B0BEC5\",\"#B0BEC5\",\"#B0BEC5\",\"#B0BEC5\",\"#B0BEC5\",\"#B0BEC5\",\"#B0BEC5\",\"#B0BEC5\",\"#B0BEC5\",\"#B0BEC5\",\"#B0BEC5\",\"#B0BEC5\",\"#B0BEC5\",\"#B0BEC5\",\"#B0BEC5\",\"#B0BEC5\",\"#B0BEC5\",\"#B0BEC5\",\"#B0BEC5\",\"#B0BEC5\",\"#B0BEC5\",\"#B0BEC5\",\"#B0BEC5\",\"#B0BEC5\",\"#B0BEC5\",\"#B0BEC5\",\"#B0BEC5\"]]}],\"label\":\"Topic 7\",\"method\":\"update\"},{\"args\":[{\"marker.color\":[[\"#B0BEC5\",\"#B0BEC5\",\"#B0BEC5\",\"#B0BEC5\",\"#B0BEC5\",\"#B0BEC5\",\"#B0BEC5\",\"#B0BEC5\",\"red\",\"#B0BEC5\",\"#B0BEC5\",\"#B0BEC5\",\"#B0BEC5\",\"#B0BEC5\",\"#B0BEC5\",\"#B0BEC5\",\"#B0BEC5\",\"#B0BEC5\",\"#B0BEC5\",\"#B0BEC5\",\"#B0BEC5\",\"#B0BEC5\",\"#B0BEC5\",\"#B0BEC5\",\"#B0BEC5\",\"#B0BEC5\",\"#B0BEC5\",\"#B0BEC5\",\"#B0BEC5\",\"#B0BEC5\",\"#B0BEC5\",\"#B0BEC5\",\"#B0BEC5\",\"#B0BEC5\",\"#B0BEC5\",\"#B0BEC5\",\"#B0BEC5\",\"#B0BEC5\",\"#B0BEC5\",\"#B0BEC5\",\"#B0BEC5\",\"#B0BEC5\",\"#B0BEC5\",\"#B0BEC5\",\"#B0BEC5\",\"#B0BEC5\",\"#B0BEC5\",\"#B0BEC5\",\"#B0BEC5\",\"#B0BEC5\",\"#B0BEC5\",\"#B0BEC5\",\"#B0BEC5\",\"#B0BEC5\",\"#B0BEC5\",\"#B0BEC5\",\"#B0BEC5\",\"#B0BEC5\",\"#B0BEC5\",\"#B0BEC5\",\"#B0BEC5\",\"#B0BEC5\",\"#B0BEC5\",\"#B0BEC5\",\"#B0BEC5\",\"#B0BEC5\",\"#B0BEC5\",\"#B0BEC5\"]]}],\"label\":\"Topic 8\",\"method\":\"update\"},{\"args\":[{\"marker.color\":[[\"#B0BEC5\",\"#B0BEC5\",\"#B0BEC5\",\"#B0BEC5\",\"#B0BEC5\",\"#B0BEC5\",\"#B0BEC5\",\"#B0BEC5\",\"#B0BEC5\",\"red\",\"#B0BEC5\",\"#B0BEC5\",\"#B0BEC5\",\"#B0BEC5\",\"#B0BEC5\",\"#B0BEC5\",\"#B0BEC5\",\"#B0BEC5\",\"#B0BEC5\",\"#B0BEC5\",\"#B0BEC5\",\"#B0BEC5\",\"#B0BEC5\",\"#B0BEC5\",\"#B0BEC5\",\"#B0BEC5\",\"#B0BEC5\",\"#B0BEC5\",\"#B0BEC5\",\"#B0BEC5\",\"#B0BEC5\",\"#B0BEC5\",\"#B0BEC5\",\"#B0BEC5\",\"#B0BEC5\",\"#B0BEC5\",\"#B0BEC5\",\"#B0BEC5\",\"#B0BEC5\",\"#B0BEC5\",\"#B0BEC5\",\"#B0BEC5\",\"#B0BEC5\",\"#B0BEC5\",\"#B0BEC5\",\"#B0BEC5\",\"#B0BEC5\",\"#B0BEC5\",\"#B0BEC5\",\"#B0BEC5\",\"#B0BEC5\",\"#B0BEC5\",\"#B0BEC5\",\"#B0BEC5\",\"#B0BEC5\",\"#B0BEC5\",\"#B0BEC5\",\"#B0BEC5\",\"#B0BEC5\",\"#B0BEC5\",\"#B0BEC5\",\"#B0BEC5\",\"#B0BEC5\",\"#B0BEC5\",\"#B0BEC5\",\"#B0BEC5\",\"#B0BEC5\",\"#B0BEC5\"]]}],\"label\":\"Topic 9\",\"method\":\"update\"},{\"args\":[{\"marker.color\":[[\"#B0BEC5\",\"#B0BEC5\",\"#B0BEC5\",\"#B0BEC5\",\"#B0BEC5\",\"#B0BEC5\",\"#B0BEC5\",\"#B0BEC5\",\"#B0BEC5\",\"#B0BEC5\",\"red\",\"#B0BEC5\",\"#B0BEC5\",\"#B0BEC5\",\"#B0BEC5\",\"#B0BEC5\",\"#B0BEC5\",\"#B0BEC5\",\"#B0BEC5\",\"#B0BEC5\",\"#B0BEC5\",\"#B0BEC5\",\"#B0BEC5\",\"#B0BEC5\",\"#B0BEC5\",\"#B0BEC5\",\"#B0BEC5\",\"#B0BEC5\",\"#B0BEC5\",\"#B0BEC5\",\"#B0BEC5\",\"#B0BEC5\",\"#B0BEC5\",\"#B0BEC5\",\"#B0BEC5\",\"#B0BEC5\",\"#B0BEC5\",\"#B0BEC5\",\"#B0BEC5\",\"#B0BEC5\",\"#B0BEC5\",\"#B0BEC5\",\"#B0BEC5\",\"#B0BEC5\",\"#B0BEC5\",\"#B0BEC5\",\"#B0BEC5\",\"#B0BEC5\",\"#B0BEC5\",\"#B0BEC5\",\"#B0BEC5\",\"#B0BEC5\",\"#B0BEC5\",\"#B0BEC5\",\"#B0BEC5\",\"#B0BEC5\",\"#B0BEC5\",\"#B0BEC5\",\"#B0BEC5\",\"#B0BEC5\",\"#B0BEC5\",\"#B0BEC5\",\"#B0BEC5\",\"#B0BEC5\",\"#B0BEC5\",\"#B0BEC5\",\"#B0BEC5\",\"#B0BEC5\"]]}],\"label\":\"Topic 10\",\"method\":\"update\"},{\"args\":[{\"marker.color\":[[\"#B0BEC5\",\"#B0BEC5\",\"#B0BEC5\",\"#B0BEC5\",\"#B0BEC5\",\"#B0BEC5\",\"#B0BEC5\",\"#B0BEC5\",\"#B0BEC5\",\"#B0BEC5\",\"#B0BEC5\",\"red\",\"#B0BEC5\",\"#B0BEC5\",\"#B0BEC5\",\"#B0BEC5\",\"#B0BEC5\",\"#B0BEC5\",\"#B0BEC5\",\"#B0BEC5\",\"#B0BEC5\",\"#B0BEC5\",\"#B0BEC5\",\"#B0BEC5\",\"#B0BEC5\",\"#B0BEC5\",\"#B0BEC5\",\"#B0BEC5\",\"#B0BEC5\",\"#B0BEC5\",\"#B0BEC5\",\"#B0BEC5\",\"#B0BEC5\",\"#B0BEC5\",\"#B0BEC5\",\"#B0BEC5\",\"#B0BEC5\",\"#B0BEC5\",\"#B0BEC5\",\"#B0BEC5\",\"#B0BEC5\",\"#B0BEC5\",\"#B0BEC5\",\"#B0BEC5\",\"#B0BEC5\",\"#B0BEC5\",\"#B0BEC5\",\"#B0BEC5\",\"#B0BEC5\",\"#B0BEC5\",\"#B0BEC5\",\"#B0BEC5\",\"#B0BEC5\",\"#B0BEC5\",\"#B0BEC5\",\"#B0BEC5\",\"#B0BEC5\",\"#B0BEC5\",\"#B0BEC5\",\"#B0BEC5\",\"#B0BEC5\",\"#B0BEC5\",\"#B0BEC5\",\"#B0BEC5\",\"#B0BEC5\",\"#B0BEC5\",\"#B0BEC5\",\"#B0BEC5\"]]}],\"label\":\"Topic 11\",\"method\":\"update\"},{\"args\":[{\"marker.color\":[[\"#B0BEC5\",\"#B0BEC5\",\"#B0BEC5\",\"#B0BEC5\",\"#B0BEC5\",\"#B0BEC5\",\"#B0BEC5\",\"#B0BEC5\",\"#B0BEC5\",\"#B0BEC5\",\"#B0BEC5\",\"#B0BEC5\",\"red\",\"#B0BEC5\",\"#B0BEC5\",\"#B0BEC5\",\"#B0BEC5\",\"#B0BEC5\",\"#B0BEC5\",\"#B0BEC5\",\"#B0BEC5\",\"#B0BEC5\",\"#B0BEC5\",\"#B0BEC5\",\"#B0BEC5\",\"#B0BEC5\",\"#B0BEC5\",\"#B0BEC5\",\"#B0BEC5\",\"#B0BEC5\",\"#B0BEC5\",\"#B0BEC5\",\"#B0BEC5\",\"#B0BEC5\",\"#B0BEC5\",\"#B0BEC5\",\"#B0BEC5\",\"#B0BEC5\",\"#B0BEC5\",\"#B0BEC5\",\"#B0BEC5\",\"#B0BEC5\",\"#B0BEC5\",\"#B0BEC5\",\"#B0BEC5\",\"#B0BEC5\",\"#B0BEC5\",\"#B0BEC5\",\"#B0BEC5\",\"#B0BEC5\",\"#B0BEC5\",\"#B0BEC5\",\"#B0BEC5\",\"#B0BEC5\",\"#B0BEC5\",\"#B0BEC5\",\"#B0BEC5\",\"#B0BEC5\",\"#B0BEC5\",\"#B0BEC5\",\"#B0BEC5\",\"#B0BEC5\",\"#B0BEC5\",\"#B0BEC5\",\"#B0BEC5\",\"#B0BEC5\",\"#B0BEC5\",\"#B0BEC5\"]]}],\"label\":\"Topic 12\",\"method\":\"update\"},{\"args\":[{\"marker.color\":[[\"#B0BEC5\",\"#B0BEC5\",\"#B0BEC5\",\"#B0BEC5\",\"#B0BEC5\",\"#B0BEC5\",\"#B0BEC5\",\"#B0BEC5\",\"#B0BEC5\",\"#B0BEC5\",\"#B0BEC5\",\"#B0BEC5\",\"#B0BEC5\",\"red\",\"#B0BEC5\",\"#B0BEC5\",\"#B0BEC5\",\"#B0BEC5\",\"#B0BEC5\",\"#B0BEC5\",\"#B0BEC5\",\"#B0BEC5\",\"#B0BEC5\",\"#B0BEC5\",\"#B0BEC5\",\"#B0BEC5\",\"#B0BEC5\",\"#B0BEC5\",\"#B0BEC5\",\"#B0BEC5\",\"#B0BEC5\",\"#B0BEC5\",\"#B0BEC5\",\"#B0BEC5\",\"#B0BEC5\",\"#B0BEC5\",\"#B0BEC5\",\"#B0BEC5\",\"#B0BEC5\",\"#B0BEC5\",\"#B0BEC5\",\"#B0BEC5\",\"#B0BEC5\",\"#B0BEC5\",\"#B0BEC5\",\"#B0BEC5\",\"#B0BEC5\",\"#B0BEC5\",\"#B0BEC5\",\"#B0BEC5\",\"#B0BEC5\",\"#B0BEC5\",\"#B0BEC5\",\"#B0BEC5\",\"#B0BEC5\",\"#B0BEC5\",\"#B0BEC5\",\"#B0BEC5\",\"#B0BEC5\",\"#B0BEC5\",\"#B0BEC5\",\"#B0BEC5\",\"#B0BEC5\",\"#B0BEC5\",\"#B0BEC5\",\"#B0BEC5\",\"#B0BEC5\",\"#B0BEC5\"]]}],\"label\":\"Topic 13\",\"method\":\"update\"},{\"args\":[{\"marker.color\":[[\"#B0BEC5\",\"#B0BEC5\",\"#B0BEC5\",\"#B0BEC5\",\"#B0BEC5\",\"#B0BEC5\",\"#B0BEC5\",\"#B0BEC5\",\"#B0BEC5\",\"#B0BEC5\",\"#B0BEC5\",\"#B0BEC5\",\"#B0BEC5\",\"#B0BEC5\",\"red\",\"#B0BEC5\",\"#B0BEC5\",\"#B0BEC5\",\"#B0BEC5\",\"#B0BEC5\",\"#B0BEC5\",\"#B0BEC5\",\"#B0BEC5\",\"#B0BEC5\",\"#B0BEC5\",\"#B0BEC5\",\"#B0BEC5\",\"#B0BEC5\",\"#B0BEC5\",\"#B0BEC5\",\"#B0BEC5\",\"#B0BEC5\",\"#B0BEC5\",\"#B0BEC5\",\"#B0BEC5\",\"#B0BEC5\",\"#B0BEC5\",\"#B0BEC5\",\"#B0BEC5\",\"#B0BEC5\",\"#B0BEC5\",\"#B0BEC5\",\"#B0BEC5\",\"#B0BEC5\",\"#B0BEC5\",\"#B0BEC5\",\"#B0BEC5\",\"#B0BEC5\",\"#B0BEC5\",\"#B0BEC5\",\"#B0BEC5\",\"#B0BEC5\",\"#B0BEC5\",\"#B0BEC5\",\"#B0BEC5\",\"#B0BEC5\",\"#B0BEC5\",\"#B0BEC5\",\"#B0BEC5\",\"#B0BEC5\",\"#B0BEC5\",\"#B0BEC5\",\"#B0BEC5\",\"#B0BEC5\",\"#B0BEC5\",\"#B0BEC5\",\"#B0BEC5\",\"#B0BEC5\"]]}],\"label\":\"Topic 14\",\"method\":\"update\"},{\"args\":[{\"marker.color\":[[\"#B0BEC5\",\"#B0BEC5\",\"#B0BEC5\",\"#B0BEC5\",\"#B0BEC5\",\"#B0BEC5\",\"#B0BEC5\",\"#B0BEC5\",\"#B0BEC5\",\"#B0BEC5\",\"#B0BEC5\",\"#B0BEC5\",\"#B0BEC5\",\"#B0BEC5\",\"#B0BEC5\",\"red\",\"#B0BEC5\",\"#B0BEC5\",\"#B0BEC5\",\"#B0BEC5\",\"#B0BEC5\",\"#B0BEC5\",\"#B0BEC5\",\"#B0BEC5\",\"#B0BEC5\",\"#B0BEC5\",\"#B0BEC5\",\"#B0BEC5\",\"#B0BEC5\",\"#B0BEC5\",\"#B0BEC5\",\"#B0BEC5\",\"#B0BEC5\",\"#B0BEC5\",\"#B0BEC5\",\"#B0BEC5\",\"#B0BEC5\",\"#B0BEC5\",\"#B0BEC5\",\"#B0BEC5\",\"#B0BEC5\",\"#B0BEC5\",\"#B0BEC5\",\"#B0BEC5\",\"#B0BEC5\",\"#B0BEC5\",\"#B0BEC5\",\"#B0BEC5\",\"#B0BEC5\",\"#B0BEC5\",\"#B0BEC5\",\"#B0BEC5\",\"#B0BEC5\",\"#B0BEC5\",\"#B0BEC5\",\"#B0BEC5\",\"#B0BEC5\",\"#B0BEC5\",\"#B0BEC5\",\"#B0BEC5\",\"#B0BEC5\",\"#B0BEC5\",\"#B0BEC5\",\"#B0BEC5\",\"#B0BEC5\",\"#B0BEC5\",\"#B0BEC5\",\"#B0BEC5\"]]}],\"label\":\"Topic 15\",\"method\":\"update\"},{\"args\":[{\"marker.color\":[[\"#B0BEC5\",\"#B0BEC5\",\"#B0BEC5\",\"#B0BEC5\",\"#B0BEC5\",\"#B0BEC5\",\"#B0BEC5\",\"#B0BEC5\",\"#B0BEC5\",\"#B0BEC5\",\"#B0BEC5\",\"#B0BEC5\",\"#B0BEC5\",\"#B0BEC5\",\"#B0BEC5\",\"#B0BEC5\",\"red\",\"#B0BEC5\",\"#B0BEC5\",\"#B0BEC5\",\"#B0BEC5\",\"#B0BEC5\",\"#B0BEC5\",\"#B0BEC5\",\"#B0BEC5\",\"#B0BEC5\",\"#B0BEC5\",\"#B0BEC5\",\"#B0BEC5\",\"#B0BEC5\",\"#B0BEC5\",\"#B0BEC5\",\"#B0BEC5\",\"#B0BEC5\",\"#B0BEC5\",\"#B0BEC5\",\"#B0BEC5\",\"#B0BEC5\",\"#B0BEC5\",\"#B0BEC5\",\"#B0BEC5\",\"#B0BEC5\",\"#B0BEC5\",\"#B0BEC5\",\"#B0BEC5\",\"#B0BEC5\",\"#B0BEC5\",\"#B0BEC5\",\"#B0BEC5\",\"#B0BEC5\",\"#B0BEC5\",\"#B0BEC5\",\"#B0BEC5\",\"#B0BEC5\",\"#B0BEC5\",\"#B0BEC5\",\"#B0BEC5\",\"#B0BEC5\",\"#B0BEC5\",\"#B0BEC5\",\"#B0BEC5\",\"#B0BEC5\",\"#B0BEC5\",\"#B0BEC5\",\"#B0BEC5\",\"#B0BEC5\",\"#B0BEC5\",\"#B0BEC5\"]]}],\"label\":\"Topic 16\",\"method\":\"update\"},{\"args\":[{\"marker.color\":[[\"#B0BEC5\",\"#B0BEC5\",\"#B0BEC5\",\"#B0BEC5\",\"#B0BEC5\",\"#B0BEC5\",\"#B0BEC5\",\"#B0BEC5\",\"#B0BEC5\",\"#B0BEC5\",\"#B0BEC5\",\"#B0BEC5\",\"#B0BEC5\",\"#B0BEC5\",\"#B0BEC5\",\"#B0BEC5\",\"#B0BEC5\",\"red\",\"#B0BEC5\",\"#B0BEC5\",\"#B0BEC5\",\"#B0BEC5\",\"#B0BEC5\",\"#B0BEC5\",\"#B0BEC5\",\"#B0BEC5\",\"#B0BEC5\",\"#B0BEC5\",\"#B0BEC5\",\"#B0BEC5\",\"#B0BEC5\",\"#B0BEC5\",\"#B0BEC5\",\"#B0BEC5\",\"#B0BEC5\",\"#B0BEC5\",\"#B0BEC5\",\"#B0BEC5\",\"#B0BEC5\",\"#B0BEC5\",\"#B0BEC5\",\"#B0BEC5\",\"#B0BEC5\",\"#B0BEC5\",\"#B0BEC5\",\"#B0BEC5\",\"#B0BEC5\",\"#B0BEC5\",\"#B0BEC5\",\"#B0BEC5\",\"#B0BEC5\",\"#B0BEC5\",\"#B0BEC5\",\"#B0BEC5\",\"#B0BEC5\",\"#B0BEC5\",\"#B0BEC5\",\"#B0BEC5\",\"#B0BEC5\",\"#B0BEC5\",\"#B0BEC5\",\"#B0BEC5\",\"#B0BEC5\",\"#B0BEC5\",\"#B0BEC5\",\"#B0BEC5\",\"#B0BEC5\",\"#B0BEC5\"]]}],\"label\":\"Topic 17\",\"method\":\"update\"},{\"args\":[{\"marker.color\":[[\"#B0BEC5\",\"#B0BEC5\",\"#B0BEC5\",\"#B0BEC5\",\"#B0BEC5\",\"#B0BEC5\",\"#B0BEC5\",\"#B0BEC5\",\"#B0BEC5\",\"#B0BEC5\",\"#B0BEC5\",\"#B0BEC5\",\"#B0BEC5\",\"#B0BEC5\",\"#B0BEC5\",\"#B0BEC5\",\"#B0BEC5\",\"#B0BEC5\",\"red\",\"#B0BEC5\",\"#B0BEC5\",\"#B0BEC5\",\"#B0BEC5\",\"#B0BEC5\",\"#B0BEC5\",\"#B0BEC5\",\"#B0BEC5\",\"#B0BEC5\",\"#B0BEC5\",\"#B0BEC5\",\"#B0BEC5\",\"#B0BEC5\",\"#B0BEC5\",\"#B0BEC5\",\"#B0BEC5\",\"#B0BEC5\",\"#B0BEC5\",\"#B0BEC5\",\"#B0BEC5\",\"#B0BEC5\",\"#B0BEC5\",\"#B0BEC5\",\"#B0BEC5\",\"#B0BEC5\",\"#B0BEC5\",\"#B0BEC5\",\"#B0BEC5\",\"#B0BEC5\",\"#B0BEC5\",\"#B0BEC5\",\"#B0BEC5\",\"#B0BEC5\",\"#B0BEC5\",\"#B0BEC5\",\"#B0BEC5\",\"#B0BEC5\",\"#B0BEC5\",\"#B0BEC5\",\"#B0BEC5\",\"#B0BEC5\",\"#B0BEC5\",\"#B0BEC5\",\"#B0BEC5\",\"#B0BEC5\",\"#B0BEC5\",\"#B0BEC5\",\"#B0BEC5\",\"#B0BEC5\"]]}],\"label\":\"Topic 18\",\"method\":\"update\"},{\"args\":[{\"marker.color\":[[\"#B0BEC5\",\"#B0BEC5\",\"#B0BEC5\",\"#B0BEC5\",\"#B0BEC5\",\"#B0BEC5\",\"#B0BEC5\",\"#B0BEC5\",\"#B0BEC5\",\"#B0BEC5\",\"#B0BEC5\",\"#B0BEC5\",\"#B0BEC5\",\"#B0BEC5\",\"#B0BEC5\",\"#B0BEC5\",\"#B0BEC5\",\"#B0BEC5\",\"#B0BEC5\",\"red\",\"#B0BEC5\",\"#B0BEC5\",\"#B0BEC5\",\"#B0BEC5\",\"#B0BEC5\",\"#B0BEC5\",\"#B0BEC5\",\"#B0BEC5\",\"#B0BEC5\",\"#B0BEC5\",\"#B0BEC5\",\"#B0BEC5\",\"#B0BEC5\",\"#B0BEC5\",\"#B0BEC5\",\"#B0BEC5\",\"#B0BEC5\",\"#B0BEC5\",\"#B0BEC5\",\"#B0BEC5\",\"#B0BEC5\",\"#B0BEC5\",\"#B0BEC5\",\"#B0BEC5\",\"#B0BEC5\",\"#B0BEC5\",\"#B0BEC5\",\"#B0BEC5\",\"#B0BEC5\",\"#B0BEC5\",\"#B0BEC5\",\"#B0BEC5\",\"#B0BEC5\",\"#B0BEC5\",\"#B0BEC5\",\"#B0BEC5\",\"#B0BEC5\",\"#B0BEC5\",\"#B0BEC5\",\"#B0BEC5\",\"#B0BEC5\",\"#B0BEC5\",\"#B0BEC5\",\"#B0BEC5\",\"#B0BEC5\",\"#B0BEC5\",\"#B0BEC5\",\"#B0BEC5\"]]}],\"label\":\"Topic 19\",\"method\":\"update\"},{\"args\":[{\"marker.color\":[[\"#B0BEC5\",\"#B0BEC5\",\"#B0BEC5\",\"#B0BEC5\",\"#B0BEC5\",\"#B0BEC5\",\"#B0BEC5\",\"#B0BEC5\",\"#B0BEC5\",\"#B0BEC5\",\"#B0BEC5\",\"#B0BEC5\",\"#B0BEC5\",\"#B0BEC5\",\"#B0BEC5\",\"#B0BEC5\",\"#B0BEC5\",\"#B0BEC5\",\"#B0BEC5\",\"#B0BEC5\",\"red\",\"#B0BEC5\",\"#B0BEC5\",\"#B0BEC5\",\"#B0BEC5\",\"#B0BEC5\",\"#B0BEC5\",\"#B0BEC5\",\"#B0BEC5\",\"#B0BEC5\",\"#B0BEC5\",\"#B0BEC5\",\"#B0BEC5\",\"#B0BEC5\",\"#B0BEC5\",\"#B0BEC5\",\"#B0BEC5\",\"#B0BEC5\",\"#B0BEC5\",\"#B0BEC5\",\"#B0BEC5\",\"#B0BEC5\",\"#B0BEC5\",\"#B0BEC5\",\"#B0BEC5\",\"#B0BEC5\",\"#B0BEC5\",\"#B0BEC5\",\"#B0BEC5\",\"#B0BEC5\",\"#B0BEC5\",\"#B0BEC5\",\"#B0BEC5\",\"#B0BEC5\",\"#B0BEC5\",\"#B0BEC5\",\"#B0BEC5\",\"#B0BEC5\",\"#B0BEC5\",\"#B0BEC5\",\"#B0BEC5\",\"#B0BEC5\",\"#B0BEC5\",\"#B0BEC5\",\"#B0BEC5\",\"#B0BEC5\",\"#B0BEC5\",\"#B0BEC5\"]]}],\"label\":\"Topic 20\",\"method\":\"update\"},{\"args\":[{\"marker.color\":[[\"#B0BEC5\",\"#B0BEC5\",\"#B0BEC5\",\"#B0BEC5\",\"#B0BEC5\",\"#B0BEC5\",\"#B0BEC5\",\"#B0BEC5\",\"#B0BEC5\",\"#B0BEC5\",\"#B0BEC5\",\"#B0BEC5\",\"#B0BEC5\",\"#B0BEC5\",\"#B0BEC5\",\"#B0BEC5\",\"#B0BEC5\",\"#B0BEC5\",\"#B0BEC5\",\"#B0BEC5\",\"#B0BEC5\",\"red\",\"#B0BEC5\",\"#B0BEC5\",\"#B0BEC5\",\"#B0BEC5\",\"#B0BEC5\",\"#B0BEC5\",\"#B0BEC5\",\"#B0BEC5\",\"#B0BEC5\",\"#B0BEC5\",\"#B0BEC5\",\"#B0BEC5\",\"#B0BEC5\",\"#B0BEC5\",\"#B0BEC5\",\"#B0BEC5\",\"#B0BEC5\",\"#B0BEC5\",\"#B0BEC5\",\"#B0BEC5\",\"#B0BEC5\",\"#B0BEC5\",\"#B0BEC5\",\"#B0BEC5\",\"#B0BEC5\",\"#B0BEC5\",\"#B0BEC5\",\"#B0BEC5\",\"#B0BEC5\",\"#B0BEC5\",\"#B0BEC5\",\"#B0BEC5\",\"#B0BEC5\",\"#B0BEC5\",\"#B0BEC5\",\"#B0BEC5\",\"#B0BEC5\",\"#B0BEC5\",\"#B0BEC5\",\"#B0BEC5\",\"#B0BEC5\",\"#B0BEC5\",\"#B0BEC5\",\"#B0BEC5\",\"#B0BEC5\",\"#B0BEC5\"]]}],\"label\":\"Topic 21\",\"method\":\"update\"},{\"args\":[{\"marker.color\":[[\"#B0BEC5\",\"#B0BEC5\",\"#B0BEC5\",\"#B0BEC5\",\"#B0BEC5\",\"#B0BEC5\",\"#B0BEC5\",\"#B0BEC5\",\"#B0BEC5\",\"#B0BEC5\",\"#B0BEC5\",\"#B0BEC5\",\"#B0BEC5\",\"#B0BEC5\",\"#B0BEC5\",\"#B0BEC5\",\"#B0BEC5\",\"#B0BEC5\",\"#B0BEC5\",\"#B0BEC5\",\"#B0BEC5\",\"#B0BEC5\",\"red\",\"#B0BEC5\",\"#B0BEC5\",\"#B0BEC5\",\"#B0BEC5\",\"#B0BEC5\",\"#B0BEC5\",\"#B0BEC5\",\"#B0BEC5\",\"#B0BEC5\",\"#B0BEC5\",\"#B0BEC5\",\"#B0BEC5\",\"#B0BEC5\",\"#B0BEC5\",\"#B0BEC5\",\"#B0BEC5\",\"#B0BEC5\",\"#B0BEC5\",\"#B0BEC5\",\"#B0BEC5\",\"#B0BEC5\",\"#B0BEC5\",\"#B0BEC5\",\"#B0BEC5\",\"#B0BEC5\",\"#B0BEC5\",\"#B0BEC5\",\"#B0BEC5\",\"#B0BEC5\",\"#B0BEC5\",\"#B0BEC5\",\"#B0BEC5\",\"#B0BEC5\",\"#B0BEC5\",\"#B0BEC5\",\"#B0BEC5\",\"#B0BEC5\",\"#B0BEC5\",\"#B0BEC5\",\"#B0BEC5\",\"#B0BEC5\",\"#B0BEC5\",\"#B0BEC5\",\"#B0BEC5\",\"#B0BEC5\"]]}],\"label\":\"Topic 22\",\"method\":\"update\"},{\"args\":[{\"marker.color\":[[\"#B0BEC5\",\"#B0BEC5\",\"#B0BEC5\",\"#B0BEC5\",\"#B0BEC5\",\"#B0BEC5\",\"#B0BEC5\",\"#B0BEC5\",\"#B0BEC5\",\"#B0BEC5\",\"#B0BEC5\",\"#B0BEC5\",\"#B0BEC5\",\"#B0BEC5\",\"#B0BEC5\",\"#B0BEC5\",\"#B0BEC5\",\"#B0BEC5\",\"#B0BEC5\",\"#B0BEC5\",\"#B0BEC5\",\"#B0BEC5\",\"#B0BEC5\",\"red\",\"#B0BEC5\",\"#B0BEC5\",\"#B0BEC5\",\"#B0BEC5\",\"#B0BEC5\",\"#B0BEC5\",\"#B0BEC5\",\"#B0BEC5\",\"#B0BEC5\",\"#B0BEC5\",\"#B0BEC5\",\"#B0BEC5\",\"#B0BEC5\",\"#B0BEC5\",\"#B0BEC5\",\"#B0BEC5\",\"#B0BEC5\",\"#B0BEC5\",\"#B0BEC5\",\"#B0BEC5\",\"#B0BEC5\",\"#B0BEC5\",\"#B0BEC5\",\"#B0BEC5\",\"#B0BEC5\",\"#B0BEC5\",\"#B0BEC5\",\"#B0BEC5\",\"#B0BEC5\",\"#B0BEC5\",\"#B0BEC5\",\"#B0BEC5\",\"#B0BEC5\",\"#B0BEC5\",\"#B0BEC5\",\"#B0BEC5\",\"#B0BEC5\",\"#B0BEC5\",\"#B0BEC5\",\"#B0BEC5\",\"#B0BEC5\",\"#B0BEC5\",\"#B0BEC5\",\"#B0BEC5\"]]}],\"label\":\"Topic 23\",\"method\":\"update\"},{\"args\":[{\"marker.color\":[[\"#B0BEC5\",\"#B0BEC5\",\"#B0BEC5\",\"#B0BEC5\",\"#B0BEC5\",\"#B0BEC5\",\"#B0BEC5\",\"#B0BEC5\",\"#B0BEC5\",\"#B0BEC5\",\"#B0BEC5\",\"#B0BEC5\",\"#B0BEC5\",\"#B0BEC5\",\"#B0BEC5\",\"#B0BEC5\",\"#B0BEC5\",\"#B0BEC5\",\"#B0BEC5\",\"#B0BEC5\",\"#B0BEC5\",\"#B0BEC5\",\"#B0BEC5\",\"#B0BEC5\",\"red\",\"#B0BEC5\",\"#B0BEC5\",\"#B0BEC5\",\"#B0BEC5\",\"#B0BEC5\",\"#B0BEC5\",\"#B0BEC5\",\"#B0BEC5\",\"#B0BEC5\",\"#B0BEC5\",\"#B0BEC5\",\"#B0BEC5\",\"#B0BEC5\",\"#B0BEC5\",\"#B0BEC5\",\"#B0BEC5\",\"#B0BEC5\",\"#B0BEC5\",\"#B0BEC5\",\"#B0BEC5\",\"#B0BEC5\",\"#B0BEC5\",\"#B0BEC5\",\"#B0BEC5\",\"#B0BEC5\",\"#B0BEC5\",\"#B0BEC5\",\"#B0BEC5\",\"#B0BEC5\",\"#B0BEC5\",\"#B0BEC5\",\"#B0BEC5\",\"#B0BEC5\",\"#B0BEC5\",\"#B0BEC5\",\"#B0BEC5\",\"#B0BEC5\",\"#B0BEC5\",\"#B0BEC5\",\"#B0BEC5\",\"#B0BEC5\",\"#B0BEC5\",\"#B0BEC5\"]]}],\"label\":\"Topic 24\",\"method\":\"update\"},{\"args\":[{\"marker.color\":[[\"#B0BEC5\",\"#B0BEC5\",\"#B0BEC5\",\"#B0BEC5\",\"#B0BEC5\",\"#B0BEC5\",\"#B0BEC5\",\"#B0BEC5\",\"#B0BEC5\",\"#B0BEC5\",\"#B0BEC5\",\"#B0BEC5\",\"#B0BEC5\",\"#B0BEC5\",\"#B0BEC5\",\"#B0BEC5\",\"#B0BEC5\",\"#B0BEC5\",\"#B0BEC5\",\"#B0BEC5\",\"#B0BEC5\",\"#B0BEC5\",\"#B0BEC5\",\"#B0BEC5\",\"#B0BEC5\",\"red\",\"#B0BEC5\",\"#B0BEC5\",\"#B0BEC5\",\"#B0BEC5\",\"#B0BEC5\",\"#B0BEC5\",\"#B0BEC5\",\"#B0BEC5\",\"#B0BEC5\",\"#B0BEC5\",\"#B0BEC5\",\"#B0BEC5\",\"#B0BEC5\",\"#B0BEC5\",\"#B0BEC5\",\"#B0BEC5\",\"#B0BEC5\",\"#B0BEC5\",\"#B0BEC5\",\"#B0BEC5\",\"#B0BEC5\",\"#B0BEC5\",\"#B0BEC5\",\"#B0BEC5\",\"#B0BEC5\",\"#B0BEC5\",\"#B0BEC5\",\"#B0BEC5\",\"#B0BEC5\",\"#B0BEC5\",\"#B0BEC5\",\"#B0BEC5\",\"#B0BEC5\",\"#B0BEC5\",\"#B0BEC5\",\"#B0BEC5\",\"#B0BEC5\",\"#B0BEC5\",\"#B0BEC5\",\"#B0BEC5\",\"#B0BEC5\",\"#B0BEC5\"]]}],\"label\":\"Topic 25\",\"method\":\"update\"},{\"args\":[{\"marker.color\":[[\"#B0BEC5\",\"#B0BEC5\",\"#B0BEC5\",\"#B0BEC5\",\"#B0BEC5\",\"#B0BEC5\",\"#B0BEC5\",\"#B0BEC5\",\"#B0BEC5\",\"#B0BEC5\",\"#B0BEC5\",\"#B0BEC5\",\"#B0BEC5\",\"#B0BEC5\",\"#B0BEC5\",\"#B0BEC5\",\"#B0BEC5\",\"#B0BEC5\",\"#B0BEC5\",\"#B0BEC5\",\"#B0BEC5\",\"#B0BEC5\",\"#B0BEC5\",\"#B0BEC5\",\"#B0BEC5\",\"#B0BEC5\",\"red\",\"#B0BEC5\",\"#B0BEC5\",\"#B0BEC5\",\"#B0BEC5\",\"#B0BEC5\",\"#B0BEC5\",\"#B0BEC5\",\"#B0BEC5\",\"#B0BEC5\",\"#B0BEC5\",\"#B0BEC5\",\"#B0BEC5\",\"#B0BEC5\",\"#B0BEC5\",\"#B0BEC5\",\"#B0BEC5\",\"#B0BEC5\",\"#B0BEC5\",\"#B0BEC5\",\"#B0BEC5\",\"#B0BEC5\",\"#B0BEC5\",\"#B0BEC5\",\"#B0BEC5\",\"#B0BEC5\",\"#B0BEC5\",\"#B0BEC5\",\"#B0BEC5\",\"#B0BEC5\",\"#B0BEC5\",\"#B0BEC5\",\"#B0BEC5\",\"#B0BEC5\",\"#B0BEC5\",\"#B0BEC5\",\"#B0BEC5\",\"#B0BEC5\",\"#B0BEC5\",\"#B0BEC5\",\"#B0BEC5\",\"#B0BEC5\"]]}],\"label\":\"Topic 26\",\"method\":\"update\"},{\"args\":[{\"marker.color\":[[\"#B0BEC5\",\"#B0BEC5\",\"#B0BEC5\",\"#B0BEC5\",\"#B0BEC5\",\"#B0BEC5\",\"#B0BEC5\",\"#B0BEC5\",\"#B0BEC5\",\"#B0BEC5\",\"#B0BEC5\",\"#B0BEC5\",\"#B0BEC5\",\"#B0BEC5\",\"#B0BEC5\",\"#B0BEC5\",\"#B0BEC5\",\"#B0BEC5\",\"#B0BEC5\",\"#B0BEC5\",\"#B0BEC5\",\"#B0BEC5\",\"#B0BEC5\",\"#B0BEC5\",\"#B0BEC5\",\"#B0BEC5\",\"#B0BEC5\",\"red\",\"#B0BEC5\",\"#B0BEC5\",\"#B0BEC5\",\"#B0BEC5\",\"#B0BEC5\",\"#B0BEC5\",\"#B0BEC5\",\"#B0BEC5\",\"#B0BEC5\",\"#B0BEC5\",\"#B0BEC5\",\"#B0BEC5\",\"#B0BEC5\",\"#B0BEC5\",\"#B0BEC5\",\"#B0BEC5\",\"#B0BEC5\",\"#B0BEC5\",\"#B0BEC5\",\"#B0BEC5\",\"#B0BEC5\",\"#B0BEC5\",\"#B0BEC5\",\"#B0BEC5\",\"#B0BEC5\",\"#B0BEC5\",\"#B0BEC5\",\"#B0BEC5\",\"#B0BEC5\",\"#B0BEC5\",\"#B0BEC5\",\"#B0BEC5\",\"#B0BEC5\",\"#B0BEC5\",\"#B0BEC5\",\"#B0BEC5\",\"#B0BEC5\",\"#B0BEC5\",\"#B0BEC5\",\"#B0BEC5\"]]}],\"label\":\"Topic 27\",\"method\":\"update\"},{\"args\":[{\"marker.color\":[[\"#B0BEC5\",\"#B0BEC5\",\"#B0BEC5\",\"#B0BEC5\",\"#B0BEC5\",\"#B0BEC5\",\"#B0BEC5\",\"#B0BEC5\",\"#B0BEC5\",\"#B0BEC5\",\"#B0BEC5\",\"#B0BEC5\",\"#B0BEC5\",\"#B0BEC5\",\"#B0BEC5\",\"#B0BEC5\",\"#B0BEC5\",\"#B0BEC5\",\"#B0BEC5\",\"#B0BEC5\",\"#B0BEC5\",\"#B0BEC5\",\"#B0BEC5\",\"#B0BEC5\",\"#B0BEC5\",\"#B0BEC5\",\"#B0BEC5\",\"#B0BEC5\",\"red\",\"#B0BEC5\",\"#B0BEC5\",\"#B0BEC5\",\"#B0BEC5\",\"#B0BEC5\",\"#B0BEC5\",\"#B0BEC5\",\"#B0BEC5\",\"#B0BEC5\",\"#B0BEC5\",\"#B0BEC5\",\"#B0BEC5\",\"#B0BEC5\",\"#B0BEC5\",\"#B0BEC5\",\"#B0BEC5\",\"#B0BEC5\",\"#B0BEC5\",\"#B0BEC5\",\"#B0BEC5\",\"#B0BEC5\",\"#B0BEC5\",\"#B0BEC5\",\"#B0BEC5\",\"#B0BEC5\",\"#B0BEC5\",\"#B0BEC5\",\"#B0BEC5\",\"#B0BEC5\",\"#B0BEC5\",\"#B0BEC5\",\"#B0BEC5\",\"#B0BEC5\",\"#B0BEC5\",\"#B0BEC5\",\"#B0BEC5\",\"#B0BEC5\",\"#B0BEC5\",\"#B0BEC5\"]]}],\"label\":\"Topic 28\",\"method\":\"update\"},{\"args\":[{\"marker.color\":[[\"#B0BEC5\",\"#B0BEC5\",\"#B0BEC5\",\"#B0BEC5\",\"#B0BEC5\",\"#B0BEC5\",\"#B0BEC5\",\"#B0BEC5\",\"#B0BEC5\",\"#B0BEC5\",\"#B0BEC5\",\"#B0BEC5\",\"#B0BEC5\",\"#B0BEC5\",\"#B0BEC5\",\"#B0BEC5\",\"#B0BEC5\",\"#B0BEC5\",\"#B0BEC5\",\"#B0BEC5\",\"#B0BEC5\",\"#B0BEC5\",\"#B0BEC5\",\"#B0BEC5\",\"#B0BEC5\",\"#B0BEC5\",\"#B0BEC5\",\"#B0BEC5\",\"#B0BEC5\",\"red\",\"#B0BEC5\",\"#B0BEC5\",\"#B0BEC5\",\"#B0BEC5\",\"#B0BEC5\",\"#B0BEC5\",\"#B0BEC5\",\"#B0BEC5\",\"#B0BEC5\",\"#B0BEC5\",\"#B0BEC5\",\"#B0BEC5\",\"#B0BEC5\",\"#B0BEC5\",\"#B0BEC5\",\"#B0BEC5\",\"#B0BEC5\",\"#B0BEC5\",\"#B0BEC5\",\"#B0BEC5\",\"#B0BEC5\",\"#B0BEC5\",\"#B0BEC5\",\"#B0BEC5\",\"#B0BEC5\",\"#B0BEC5\",\"#B0BEC5\",\"#B0BEC5\",\"#B0BEC5\",\"#B0BEC5\",\"#B0BEC5\",\"#B0BEC5\",\"#B0BEC5\",\"#B0BEC5\",\"#B0BEC5\",\"#B0BEC5\",\"#B0BEC5\",\"#B0BEC5\"]]}],\"label\":\"Topic 29\",\"method\":\"update\"},{\"args\":[{\"marker.color\":[[\"#B0BEC5\",\"#B0BEC5\",\"#B0BEC5\",\"#B0BEC5\",\"#B0BEC5\",\"#B0BEC5\",\"#B0BEC5\",\"#B0BEC5\",\"#B0BEC5\",\"#B0BEC5\",\"#B0BEC5\",\"#B0BEC5\",\"#B0BEC5\",\"#B0BEC5\",\"#B0BEC5\",\"#B0BEC5\",\"#B0BEC5\",\"#B0BEC5\",\"#B0BEC5\",\"#B0BEC5\",\"#B0BEC5\",\"#B0BEC5\",\"#B0BEC5\",\"#B0BEC5\",\"#B0BEC5\",\"#B0BEC5\",\"#B0BEC5\",\"#B0BEC5\",\"#B0BEC5\",\"#B0BEC5\",\"red\",\"#B0BEC5\",\"#B0BEC5\",\"#B0BEC5\",\"#B0BEC5\",\"#B0BEC5\",\"#B0BEC5\",\"#B0BEC5\",\"#B0BEC5\",\"#B0BEC5\",\"#B0BEC5\",\"#B0BEC5\",\"#B0BEC5\",\"#B0BEC5\",\"#B0BEC5\",\"#B0BEC5\",\"#B0BEC5\",\"#B0BEC5\",\"#B0BEC5\",\"#B0BEC5\",\"#B0BEC5\",\"#B0BEC5\",\"#B0BEC5\",\"#B0BEC5\",\"#B0BEC5\",\"#B0BEC5\",\"#B0BEC5\",\"#B0BEC5\",\"#B0BEC5\",\"#B0BEC5\",\"#B0BEC5\",\"#B0BEC5\",\"#B0BEC5\",\"#B0BEC5\",\"#B0BEC5\",\"#B0BEC5\",\"#B0BEC5\",\"#B0BEC5\"]]}],\"label\":\"Topic 30\",\"method\":\"update\"},{\"args\":[{\"marker.color\":[[\"#B0BEC5\",\"#B0BEC5\",\"#B0BEC5\",\"#B0BEC5\",\"#B0BEC5\",\"#B0BEC5\",\"#B0BEC5\",\"#B0BEC5\",\"#B0BEC5\",\"#B0BEC5\",\"#B0BEC5\",\"#B0BEC5\",\"#B0BEC5\",\"#B0BEC5\",\"#B0BEC5\",\"#B0BEC5\",\"#B0BEC5\",\"#B0BEC5\",\"#B0BEC5\",\"#B0BEC5\",\"#B0BEC5\",\"#B0BEC5\",\"#B0BEC5\",\"#B0BEC5\",\"#B0BEC5\",\"#B0BEC5\",\"#B0BEC5\",\"#B0BEC5\",\"#B0BEC5\",\"#B0BEC5\",\"#B0BEC5\",\"red\",\"#B0BEC5\",\"#B0BEC5\",\"#B0BEC5\",\"#B0BEC5\",\"#B0BEC5\",\"#B0BEC5\",\"#B0BEC5\",\"#B0BEC5\",\"#B0BEC5\",\"#B0BEC5\",\"#B0BEC5\",\"#B0BEC5\",\"#B0BEC5\",\"#B0BEC5\",\"#B0BEC5\",\"#B0BEC5\",\"#B0BEC5\",\"#B0BEC5\",\"#B0BEC5\",\"#B0BEC5\",\"#B0BEC5\",\"#B0BEC5\",\"#B0BEC5\",\"#B0BEC5\",\"#B0BEC5\",\"#B0BEC5\",\"#B0BEC5\",\"#B0BEC5\",\"#B0BEC5\",\"#B0BEC5\",\"#B0BEC5\",\"#B0BEC5\",\"#B0BEC5\",\"#B0BEC5\",\"#B0BEC5\",\"#B0BEC5\"]]}],\"label\":\"Topic 31\",\"method\":\"update\"},{\"args\":[{\"marker.color\":[[\"#B0BEC5\",\"#B0BEC5\",\"#B0BEC5\",\"#B0BEC5\",\"#B0BEC5\",\"#B0BEC5\",\"#B0BEC5\",\"#B0BEC5\",\"#B0BEC5\",\"#B0BEC5\",\"#B0BEC5\",\"#B0BEC5\",\"#B0BEC5\",\"#B0BEC5\",\"#B0BEC5\",\"#B0BEC5\",\"#B0BEC5\",\"#B0BEC5\",\"#B0BEC5\",\"#B0BEC5\",\"#B0BEC5\",\"#B0BEC5\",\"#B0BEC5\",\"#B0BEC5\",\"#B0BEC5\",\"#B0BEC5\",\"#B0BEC5\",\"#B0BEC5\",\"#B0BEC5\",\"#B0BEC5\",\"#B0BEC5\",\"#B0BEC5\",\"red\",\"#B0BEC5\",\"#B0BEC5\",\"#B0BEC5\",\"#B0BEC5\",\"#B0BEC5\",\"#B0BEC5\",\"#B0BEC5\",\"#B0BEC5\",\"#B0BEC5\",\"#B0BEC5\",\"#B0BEC5\",\"#B0BEC5\",\"#B0BEC5\",\"#B0BEC5\",\"#B0BEC5\",\"#B0BEC5\",\"#B0BEC5\",\"#B0BEC5\",\"#B0BEC5\",\"#B0BEC5\",\"#B0BEC5\",\"#B0BEC5\",\"#B0BEC5\",\"#B0BEC5\",\"#B0BEC5\",\"#B0BEC5\",\"#B0BEC5\",\"#B0BEC5\",\"#B0BEC5\",\"#B0BEC5\",\"#B0BEC5\",\"#B0BEC5\",\"#B0BEC5\",\"#B0BEC5\",\"#B0BEC5\"]]}],\"label\":\"Topic 32\",\"method\":\"update\"},{\"args\":[{\"marker.color\":[[\"#B0BEC5\",\"#B0BEC5\",\"#B0BEC5\",\"#B0BEC5\",\"#B0BEC5\",\"#B0BEC5\",\"#B0BEC5\",\"#B0BEC5\",\"#B0BEC5\",\"#B0BEC5\",\"#B0BEC5\",\"#B0BEC5\",\"#B0BEC5\",\"#B0BEC5\",\"#B0BEC5\",\"#B0BEC5\",\"#B0BEC5\",\"#B0BEC5\",\"#B0BEC5\",\"#B0BEC5\",\"#B0BEC5\",\"#B0BEC5\",\"#B0BEC5\",\"#B0BEC5\",\"#B0BEC5\",\"#B0BEC5\",\"#B0BEC5\",\"#B0BEC5\",\"#B0BEC5\",\"#B0BEC5\",\"#B0BEC5\",\"#B0BEC5\",\"#B0BEC5\",\"red\",\"#B0BEC5\",\"#B0BEC5\",\"#B0BEC5\",\"#B0BEC5\",\"#B0BEC5\",\"#B0BEC5\",\"#B0BEC5\",\"#B0BEC5\",\"#B0BEC5\",\"#B0BEC5\",\"#B0BEC5\",\"#B0BEC5\",\"#B0BEC5\",\"#B0BEC5\",\"#B0BEC5\",\"#B0BEC5\",\"#B0BEC5\",\"#B0BEC5\",\"#B0BEC5\",\"#B0BEC5\",\"#B0BEC5\",\"#B0BEC5\",\"#B0BEC5\",\"#B0BEC5\",\"#B0BEC5\",\"#B0BEC5\",\"#B0BEC5\",\"#B0BEC5\",\"#B0BEC5\",\"#B0BEC5\",\"#B0BEC5\",\"#B0BEC5\",\"#B0BEC5\",\"#B0BEC5\"]]}],\"label\":\"Topic 33\",\"method\":\"update\"},{\"args\":[{\"marker.color\":[[\"#B0BEC5\",\"#B0BEC5\",\"#B0BEC5\",\"#B0BEC5\",\"#B0BEC5\",\"#B0BEC5\",\"#B0BEC5\",\"#B0BEC5\",\"#B0BEC5\",\"#B0BEC5\",\"#B0BEC5\",\"#B0BEC5\",\"#B0BEC5\",\"#B0BEC5\",\"#B0BEC5\",\"#B0BEC5\",\"#B0BEC5\",\"#B0BEC5\",\"#B0BEC5\",\"#B0BEC5\",\"#B0BEC5\",\"#B0BEC5\",\"#B0BEC5\",\"#B0BEC5\",\"#B0BEC5\",\"#B0BEC5\",\"#B0BEC5\",\"#B0BEC5\",\"#B0BEC5\",\"#B0BEC5\",\"#B0BEC5\",\"#B0BEC5\",\"#B0BEC5\",\"#B0BEC5\",\"red\",\"#B0BEC5\",\"#B0BEC5\",\"#B0BEC5\",\"#B0BEC5\",\"#B0BEC5\",\"#B0BEC5\",\"#B0BEC5\",\"#B0BEC5\",\"#B0BEC5\",\"#B0BEC5\",\"#B0BEC5\",\"#B0BEC5\",\"#B0BEC5\",\"#B0BEC5\",\"#B0BEC5\",\"#B0BEC5\",\"#B0BEC5\",\"#B0BEC5\",\"#B0BEC5\",\"#B0BEC5\",\"#B0BEC5\",\"#B0BEC5\",\"#B0BEC5\",\"#B0BEC5\",\"#B0BEC5\",\"#B0BEC5\",\"#B0BEC5\",\"#B0BEC5\",\"#B0BEC5\",\"#B0BEC5\",\"#B0BEC5\",\"#B0BEC5\",\"#B0BEC5\"]]}],\"label\":\"Topic 34\",\"method\":\"update\"},{\"args\":[{\"marker.color\":[[\"#B0BEC5\",\"#B0BEC5\",\"#B0BEC5\",\"#B0BEC5\",\"#B0BEC5\",\"#B0BEC5\",\"#B0BEC5\",\"#B0BEC5\",\"#B0BEC5\",\"#B0BEC5\",\"#B0BEC5\",\"#B0BEC5\",\"#B0BEC5\",\"#B0BEC5\",\"#B0BEC5\",\"#B0BEC5\",\"#B0BEC5\",\"#B0BEC5\",\"#B0BEC5\",\"#B0BEC5\",\"#B0BEC5\",\"#B0BEC5\",\"#B0BEC5\",\"#B0BEC5\",\"#B0BEC5\",\"#B0BEC5\",\"#B0BEC5\",\"#B0BEC5\",\"#B0BEC5\",\"#B0BEC5\",\"#B0BEC5\",\"#B0BEC5\",\"#B0BEC5\",\"#B0BEC5\",\"#B0BEC5\",\"red\",\"#B0BEC5\",\"#B0BEC5\",\"#B0BEC5\",\"#B0BEC5\",\"#B0BEC5\",\"#B0BEC5\",\"#B0BEC5\",\"#B0BEC5\",\"#B0BEC5\",\"#B0BEC5\",\"#B0BEC5\",\"#B0BEC5\",\"#B0BEC5\",\"#B0BEC5\",\"#B0BEC5\",\"#B0BEC5\",\"#B0BEC5\",\"#B0BEC5\",\"#B0BEC5\",\"#B0BEC5\",\"#B0BEC5\",\"#B0BEC5\",\"#B0BEC5\",\"#B0BEC5\",\"#B0BEC5\",\"#B0BEC5\",\"#B0BEC5\",\"#B0BEC5\",\"#B0BEC5\",\"#B0BEC5\",\"#B0BEC5\",\"#B0BEC5\"]]}],\"label\":\"Topic 35\",\"method\":\"update\"},{\"args\":[{\"marker.color\":[[\"#B0BEC5\",\"#B0BEC5\",\"#B0BEC5\",\"#B0BEC5\",\"#B0BEC5\",\"#B0BEC5\",\"#B0BEC5\",\"#B0BEC5\",\"#B0BEC5\",\"#B0BEC5\",\"#B0BEC5\",\"#B0BEC5\",\"#B0BEC5\",\"#B0BEC5\",\"#B0BEC5\",\"#B0BEC5\",\"#B0BEC5\",\"#B0BEC5\",\"#B0BEC5\",\"#B0BEC5\",\"#B0BEC5\",\"#B0BEC5\",\"#B0BEC5\",\"#B0BEC5\",\"#B0BEC5\",\"#B0BEC5\",\"#B0BEC5\",\"#B0BEC5\",\"#B0BEC5\",\"#B0BEC5\",\"#B0BEC5\",\"#B0BEC5\",\"#B0BEC5\",\"#B0BEC5\",\"#B0BEC5\",\"#B0BEC5\",\"red\",\"#B0BEC5\",\"#B0BEC5\",\"#B0BEC5\",\"#B0BEC5\",\"#B0BEC5\",\"#B0BEC5\",\"#B0BEC5\",\"#B0BEC5\",\"#B0BEC5\",\"#B0BEC5\",\"#B0BEC5\",\"#B0BEC5\",\"#B0BEC5\",\"#B0BEC5\",\"#B0BEC5\",\"#B0BEC5\",\"#B0BEC5\",\"#B0BEC5\",\"#B0BEC5\",\"#B0BEC5\",\"#B0BEC5\",\"#B0BEC5\",\"#B0BEC5\",\"#B0BEC5\",\"#B0BEC5\",\"#B0BEC5\",\"#B0BEC5\",\"#B0BEC5\",\"#B0BEC5\",\"#B0BEC5\",\"#B0BEC5\"]]}],\"label\":\"Topic 36\",\"method\":\"update\"},{\"args\":[{\"marker.color\":[[\"#B0BEC5\",\"#B0BEC5\",\"#B0BEC5\",\"#B0BEC5\",\"#B0BEC5\",\"#B0BEC5\",\"#B0BEC5\",\"#B0BEC5\",\"#B0BEC5\",\"#B0BEC5\",\"#B0BEC5\",\"#B0BEC5\",\"#B0BEC5\",\"#B0BEC5\",\"#B0BEC5\",\"#B0BEC5\",\"#B0BEC5\",\"#B0BEC5\",\"#B0BEC5\",\"#B0BEC5\",\"#B0BEC5\",\"#B0BEC5\",\"#B0BEC5\",\"#B0BEC5\",\"#B0BEC5\",\"#B0BEC5\",\"#B0BEC5\",\"#B0BEC5\",\"#B0BEC5\",\"#B0BEC5\",\"#B0BEC5\",\"#B0BEC5\",\"#B0BEC5\",\"#B0BEC5\",\"#B0BEC5\",\"#B0BEC5\",\"#B0BEC5\",\"red\",\"#B0BEC5\",\"#B0BEC5\",\"#B0BEC5\",\"#B0BEC5\",\"#B0BEC5\",\"#B0BEC5\",\"#B0BEC5\",\"#B0BEC5\",\"#B0BEC5\",\"#B0BEC5\",\"#B0BEC5\",\"#B0BEC5\",\"#B0BEC5\",\"#B0BEC5\",\"#B0BEC5\",\"#B0BEC5\",\"#B0BEC5\",\"#B0BEC5\",\"#B0BEC5\",\"#B0BEC5\",\"#B0BEC5\",\"#B0BEC5\",\"#B0BEC5\",\"#B0BEC5\",\"#B0BEC5\",\"#B0BEC5\",\"#B0BEC5\",\"#B0BEC5\",\"#B0BEC5\",\"#B0BEC5\"]]}],\"label\":\"Topic 37\",\"method\":\"update\"},{\"args\":[{\"marker.color\":[[\"#B0BEC5\",\"#B0BEC5\",\"#B0BEC5\",\"#B0BEC5\",\"#B0BEC5\",\"#B0BEC5\",\"#B0BEC5\",\"#B0BEC5\",\"#B0BEC5\",\"#B0BEC5\",\"#B0BEC5\",\"#B0BEC5\",\"#B0BEC5\",\"#B0BEC5\",\"#B0BEC5\",\"#B0BEC5\",\"#B0BEC5\",\"#B0BEC5\",\"#B0BEC5\",\"#B0BEC5\",\"#B0BEC5\",\"#B0BEC5\",\"#B0BEC5\",\"#B0BEC5\",\"#B0BEC5\",\"#B0BEC5\",\"#B0BEC5\",\"#B0BEC5\",\"#B0BEC5\",\"#B0BEC5\",\"#B0BEC5\",\"#B0BEC5\",\"#B0BEC5\",\"#B0BEC5\",\"#B0BEC5\",\"#B0BEC5\",\"#B0BEC5\",\"#B0BEC5\",\"red\",\"#B0BEC5\",\"#B0BEC5\",\"#B0BEC5\",\"#B0BEC5\",\"#B0BEC5\",\"#B0BEC5\",\"#B0BEC5\",\"#B0BEC5\",\"#B0BEC5\",\"#B0BEC5\",\"#B0BEC5\",\"#B0BEC5\",\"#B0BEC5\",\"#B0BEC5\",\"#B0BEC5\",\"#B0BEC5\",\"#B0BEC5\",\"#B0BEC5\",\"#B0BEC5\",\"#B0BEC5\",\"#B0BEC5\",\"#B0BEC5\",\"#B0BEC5\",\"#B0BEC5\",\"#B0BEC5\",\"#B0BEC5\",\"#B0BEC5\",\"#B0BEC5\",\"#B0BEC5\"]]}],\"label\":\"Topic 38\",\"method\":\"update\"},{\"args\":[{\"marker.color\":[[\"#B0BEC5\",\"#B0BEC5\",\"#B0BEC5\",\"#B0BEC5\",\"#B0BEC5\",\"#B0BEC5\",\"#B0BEC5\",\"#B0BEC5\",\"#B0BEC5\",\"#B0BEC5\",\"#B0BEC5\",\"#B0BEC5\",\"#B0BEC5\",\"#B0BEC5\",\"#B0BEC5\",\"#B0BEC5\",\"#B0BEC5\",\"#B0BEC5\",\"#B0BEC5\",\"#B0BEC5\",\"#B0BEC5\",\"#B0BEC5\",\"#B0BEC5\",\"#B0BEC5\",\"#B0BEC5\",\"#B0BEC5\",\"#B0BEC5\",\"#B0BEC5\",\"#B0BEC5\",\"#B0BEC5\",\"#B0BEC5\",\"#B0BEC5\",\"#B0BEC5\",\"#B0BEC5\",\"#B0BEC5\",\"#B0BEC5\",\"#B0BEC5\",\"#B0BEC5\",\"#B0BEC5\",\"red\",\"#B0BEC5\",\"#B0BEC5\",\"#B0BEC5\",\"#B0BEC5\",\"#B0BEC5\",\"#B0BEC5\",\"#B0BEC5\",\"#B0BEC5\",\"#B0BEC5\",\"#B0BEC5\",\"#B0BEC5\",\"#B0BEC5\",\"#B0BEC5\",\"#B0BEC5\",\"#B0BEC5\",\"#B0BEC5\",\"#B0BEC5\",\"#B0BEC5\",\"#B0BEC5\",\"#B0BEC5\",\"#B0BEC5\",\"#B0BEC5\",\"#B0BEC5\",\"#B0BEC5\",\"#B0BEC5\",\"#B0BEC5\",\"#B0BEC5\",\"#B0BEC5\"]]}],\"label\":\"Topic 39\",\"method\":\"update\"},{\"args\":[{\"marker.color\":[[\"#B0BEC5\",\"#B0BEC5\",\"#B0BEC5\",\"#B0BEC5\",\"#B0BEC5\",\"#B0BEC5\",\"#B0BEC5\",\"#B0BEC5\",\"#B0BEC5\",\"#B0BEC5\",\"#B0BEC5\",\"#B0BEC5\",\"#B0BEC5\",\"#B0BEC5\",\"#B0BEC5\",\"#B0BEC5\",\"#B0BEC5\",\"#B0BEC5\",\"#B0BEC5\",\"#B0BEC5\",\"#B0BEC5\",\"#B0BEC5\",\"#B0BEC5\",\"#B0BEC5\",\"#B0BEC5\",\"#B0BEC5\",\"#B0BEC5\",\"#B0BEC5\",\"#B0BEC5\",\"#B0BEC5\",\"#B0BEC5\",\"#B0BEC5\",\"#B0BEC5\",\"#B0BEC5\",\"#B0BEC5\",\"#B0BEC5\",\"#B0BEC5\",\"#B0BEC5\",\"#B0BEC5\",\"#B0BEC5\",\"red\",\"#B0BEC5\",\"#B0BEC5\",\"#B0BEC5\",\"#B0BEC5\",\"#B0BEC5\",\"#B0BEC5\",\"#B0BEC5\",\"#B0BEC5\",\"#B0BEC5\",\"#B0BEC5\",\"#B0BEC5\",\"#B0BEC5\",\"#B0BEC5\",\"#B0BEC5\",\"#B0BEC5\",\"#B0BEC5\",\"#B0BEC5\",\"#B0BEC5\",\"#B0BEC5\",\"#B0BEC5\",\"#B0BEC5\",\"#B0BEC5\",\"#B0BEC5\",\"#B0BEC5\",\"#B0BEC5\",\"#B0BEC5\",\"#B0BEC5\"]]}],\"label\":\"Topic 40\",\"method\":\"update\"},{\"args\":[{\"marker.color\":[[\"#B0BEC5\",\"#B0BEC5\",\"#B0BEC5\",\"#B0BEC5\",\"#B0BEC5\",\"#B0BEC5\",\"#B0BEC5\",\"#B0BEC5\",\"#B0BEC5\",\"#B0BEC5\",\"#B0BEC5\",\"#B0BEC5\",\"#B0BEC5\",\"#B0BEC5\",\"#B0BEC5\",\"#B0BEC5\",\"#B0BEC5\",\"#B0BEC5\",\"#B0BEC5\",\"#B0BEC5\",\"#B0BEC5\",\"#B0BEC5\",\"#B0BEC5\",\"#B0BEC5\",\"#B0BEC5\",\"#B0BEC5\",\"#B0BEC5\",\"#B0BEC5\",\"#B0BEC5\",\"#B0BEC5\",\"#B0BEC5\",\"#B0BEC5\",\"#B0BEC5\",\"#B0BEC5\",\"#B0BEC5\",\"#B0BEC5\",\"#B0BEC5\",\"#B0BEC5\",\"#B0BEC5\",\"#B0BEC5\",\"#B0BEC5\",\"red\",\"#B0BEC5\",\"#B0BEC5\",\"#B0BEC5\",\"#B0BEC5\",\"#B0BEC5\",\"#B0BEC5\",\"#B0BEC5\",\"#B0BEC5\",\"#B0BEC5\",\"#B0BEC5\",\"#B0BEC5\",\"#B0BEC5\",\"#B0BEC5\",\"#B0BEC5\",\"#B0BEC5\",\"#B0BEC5\",\"#B0BEC5\",\"#B0BEC5\",\"#B0BEC5\",\"#B0BEC5\",\"#B0BEC5\",\"#B0BEC5\",\"#B0BEC5\",\"#B0BEC5\",\"#B0BEC5\",\"#B0BEC5\"]]}],\"label\":\"Topic 41\",\"method\":\"update\"},{\"args\":[{\"marker.color\":[[\"#B0BEC5\",\"#B0BEC5\",\"#B0BEC5\",\"#B0BEC5\",\"#B0BEC5\",\"#B0BEC5\",\"#B0BEC5\",\"#B0BEC5\",\"#B0BEC5\",\"#B0BEC5\",\"#B0BEC5\",\"#B0BEC5\",\"#B0BEC5\",\"#B0BEC5\",\"#B0BEC5\",\"#B0BEC5\",\"#B0BEC5\",\"#B0BEC5\",\"#B0BEC5\",\"#B0BEC5\",\"#B0BEC5\",\"#B0BEC5\",\"#B0BEC5\",\"#B0BEC5\",\"#B0BEC5\",\"#B0BEC5\",\"#B0BEC5\",\"#B0BEC5\",\"#B0BEC5\",\"#B0BEC5\",\"#B0BEC5\",\"#B0BEC5\",\"#B0BEC5\",\"#B0BEC5\",\"#B0BEC5\",\"#B0BEC5\",\"#B0BEC5\",\"#B0BEC5\",\"#B0BEC5\",\"#B0BEC5\",\"#B0BEC5\",\"#B0BEC5\",\"red\",\"#B0BEC5\",\"#B0BEC5\",\"#B0BEC5\",\"#B0BEC5\",\"#B0BEC5\",\"#B0BEC5\",\"#B0BEC5\",\"#B0BEC5\",\"#B0BEC5\",\"#B0BEC5\",\"#B0BEC5\",\"#B0BEC5\",\"#B0BEC5\",\"#B0BEC5\",\"#B0BEC5\",\"#B0BEC5\",\"#B0BEC5\",\"#B0BEC5\",\"#B0BEC5\",\"#B0BEC5\",\"#B0BEC5\",\"#B0BEC5\",\"#B0BEC5\",\"#B0BEC5\",\"#B0BEC5\"]]}],\"label\":\"Topic 42\",\"method\":\"update\"},{\"args\":[{\"marker.color\":[[\"#B0BEC5\",\"#B0BEC5\",\"#B0BEC5\",\"#B0BEC5\",\"#B0BEC5\",\"#B0BEC5\",\"#B0BEC5\",\"#B0BEC5\",\"#B0BEC5\",\"#B0BEC5\",\"#B0BEC5\",\"#B0BEC5\",\"#B0BEC5\",\"#B0BEC5\",\"#B0BEC5\",\"#B0BEC5\",\"#B0BEC5\",\"#B0BEC5\",\"#B0BEC5\",\"#B0BEC5\",\"#B0BEC5\",\"#B0BEC5\",\"#B0BEC5\",\"#B0BEC5\",\"#B0BEC5\",\"#B0BEC5\",\"#B0BEC5\",\"#B0BEC5\",\"#B0BEC5\",\"#B0BEC5\",\"#B0BEC5\",\"#B0BEC5\",\"#B0BEC5\",\"#B0BEC5\",\"#B0BEC5\",\"#B0BEC5\",\"#B0BEC5\",\"#B0BEC5\",\"#B0BEC5\",\"#B0BEC5\",\"#B0BEC5\",\"#B0BEC5\",\"#B0BEC5\",\"red\",\"#B0BEC5\",\"#B0BEC5\",\"#B0BEC5\",\"#B0BEC5\",\"#B0BEC5\",\"#B0BEC5\",\"#B0BEC5\",\"#B0BEC5\",\"#B0BEC5\",\"#B0BEC5\",\"#B0BEC5\",\"#B0BEC5\",\"#B0BEC5\",\"#B0BEC5\",\"#B0BEC5\",\"#B0BEC5\",\"#B0BEC5\",\"#B0BEC5\",\"#B0BEC5\",\"#B0BEC5\",\"#B0BEC5\",\"#B0BEC5\",\"#B0BEC5\",\"#B0BEC5\"]]}],\"label\":\"Topic 43\",\"method\":\"update\"},{\"args\":[{\"marker.color\":[[\"#B0BEC5\",\"#B0BEC5\",\"#B0BEC5\",\"#B0BEC5\",\"#B0BEC5\",\"#B0BEC5\",\"#B0BEC5\",\"#B0BEC5\",\"#B0BEC5\",\"#B0BEC5\",\"#B0BEC5\",\"#B0BEC5\",\"#B0BEC5\",\"#B0BEC5\",\"#B0BEC5\",\"#B0BEC5\",\"#B0BEC5\",\"#B0BEC5\",\"#B0BEC5\",\"#B0BEC5\",\"#B0BEC5\",\"#B0BEC5\",\"#B0BEC5\",\"#B0BEC5\",\"#B0BEC5\",\"#B0BEC5\",\"#B0BEC5\",\"#B0BEC5\",\"#B0BEC5\",\"#B0BEC5\",\"#B0BEC5\",\"#B0BEC5\",\"#B0BEC5\",\"#B0BEC5\",\"#B0BEC5\",\"#B0BEC5\",\"#B0BEC5\",\"#B0BEC5\",\"#B0BEC5\",\"#B0BEC5\",\"#B0BEC5\",\"#B0BEC5\",\"#B0BEC5\",\"#B0BEC5\",\"red\",\"#B0BEC5\",\"#B0BEC5\",\"#B0BEC5\",\"#B0BEC5\",\"#B0BEC5\",\"#B0BEC5\",\"#B0BEC5\",\"#B0BEC5\",\"#B0BEC5\",\"#B0BEC5\",\"#B0BEC5\",\"#B0BEC5\",\"#B0BEC5\",\"#B0BEC5\",\"#B0BEC5\",\"#B0BEC5\",\"#B0BEC5\",\"#B0BEC5\",\"#B0BEC5\",\"#B0BEC5\",\"#B0BEC5\",\"#B0BEC5\",\"#B0BEC5\"]]}],\"label\":\"Topic 44\",\"method\":\"update\"},{\"args\":[{\"marker.color\":[[\"#B0BEC5\",\"#B0BEC5\",\"#B0BEC5\",\"#B0BEC5\",\"#B0BEC5\",\"#B0BEC5\",\"#B0BEC5\",\"#B0BEC5\",\"#B0BEC5\",\"#B0BEC5\",\"#B0BEC5\",\"#B0BEC5\",\"#B0BEC5\",\"#B0BEC5\",\"#B0BEC5\",\"#B0BEC5\",\"#B0BEC5\",\"#B0BEC5\",\"#B0BEC5\",\"#B0BEC5\",\"#B0BEC5\",\"#B0BEC5\",\"#B0BEC5\",\"#B0BEC5\",\"#B0BEC5\",\"#B0BEC5\",\"#B0BEC5\",\"#B0BEC5\",\"#B0BEC5\",\"#B0BEC5\",\"#B0BEC5\",\"#B0BEC5\",\"#B0BEC5\",\"#B0BEC5\",\"#B0BEC5\",\"#B0BEC5\",\"#B0BEC5\",\"#B0BEC5\",\"#B0BEC5\",\"#B0BEC5\",\"#B0BEC5\",\"#B0BEC5\",\"#B0BEC5\",\"#B0BEC5\",\"#B0BEC5\",\"red\",\"#B0BEC5\",\"#B0BEC5\",\"#B0BEC5\",\"#B0BEC5\",\"#B0BEC5\",\"#B0BEC5\",\"#B0BEC5\",\"#B0BEC5\",\"#B0BEC5\",\"#B0BEC5\",\"#B0BEC5\",\"#B0BEC5\",\"#B0BEC5\",\"#B0BEC5\",\"#B0BEC5\",\"#B0BEC5\",\"#B0BEC5\",\"#B0BEC5\",\"#B0BEC5\",\"#B0BEC5\",\"#B0BEC5\",\"#B0BEC5\"]]}],\"label\":\"Topic 45\",\"method\":\"update\"},{\"args\":[{\"marker.color\":[[\"#B0BEC5\",\"#B0BEC5\",\"#B0BEC5\",\"#B0BEC5\",\"#B0BEC5\",\"#B0BEC5\",\"#B0BEC5\",\"#B0BEC5\",\"#B0BEC5\",\"#B0BEC5\",\"#B0BEC5\",\"#B0BEC5\",\"#B0BEC5\",\"#B0BEC5\",\"#B0BEC5\",\"#B0BEC5\",\"#B0BEC5\",\"#B0BEC5\",\"#B0BEC5\",\"#B0BEC5\",\"#B0BEC5\",\"#B0BEC5\",\"#B0BEC5\",\"#B0BEC5\",\"#B0BEC5\",\"#B0BEC5\",\"#B0BEC5\",\"#B0BEC5\",\"#B0BEC5\",\"#B0BEC5\",\"#B0BEC5\",\"#B0BEC5\",\"#B0BEC5\",\"#B0BEC5\",\"#B0BEC5\",\"#B0BEC5\",\"#B0BEC5\",\"#B0BEC5\",\"#B0BEC5\",\"#B0BEC5\",\"#B0BEC5\",\"#B0BEC5\",\"#B0BEC5\",\"#B0BEC5\",\"#B0BEC5\",\"#B0BEC5\",\"red\",\"#B0BEC5\",\"#B0BEC5\",\"#B0BEC5\",\"#B0BEC5\",\"#B0BEC5\",\"#B0BEC5\",\"#B0BEC5\",\"#B0BEC5\",\"#B0BEC5\",\"#B0BEC5\",\"#B0BEC5\",\"#B0BEC5\",\"#B0BEC5\",\"#B0BEC5\",\"#B0BEC5\",\"#B0BEC5\",\"#B0BEC5\",\"#B0BEC5\",\"#B0BEC5\",\"#B0BEC5\",\"#B0BEC5\"]]}],\"label\":\"Topic 46\",\"method\":\"update\"},{\"args\":[{\"marker.color\":[[\"#B0BEC5\",\"#B0BEC5\",\"#B0BEC5\",\"#B0BEC5\",\"#B0BEC5\",\"#B0BEC5\",\"#B0BEC5\",\"#B0BEC5\",\"#B0BEC5\",\"#B0BEC5\",\"#B0BEC5\",\"#B0BEC5\",\"#B0BEC5\",\"#B0BEC5\",\"#B0BEC5\",\"#B0BEC5\",\"#B0BEC5\",\"#B0BEC5\",\"#B0BEC5\",\"#B0BEC5\",\"#B0BEC5\",\"#B0BEC5\",\"#B0BEC5\",\"#B0BEC5\",\"#B0BEC5\",\"#B0BEC5\",\"#B0BEC5\",\"#B0BEC5\",\"#B0BEC5\",\"#B0BEC5\",\"#B0BEC5\",\"#B0BEC5\",\"#B0BEC5\",\"#B0BEC5\",\"#B0BEC5\",\"#B0BEC5\",\"#B0BEC5\",\"#B0BEC5\",\"#B0BEC5\",\"#B0BEC5\",\"#B0BEC5\",\"#B0BEC5\",\"#B0BEC5\",\"#B0BEC5\",\"#B0BEC5\",\"#B0BEC5\",\"#B0BEC5\",\"red\",\"#B0BEC5\",\"#B0BEC5\",\"#B0BEC5\",\"#B0BEC5\",\"#B0BEC5\",\"#B0BEC5\",\"#B0BEC5\",\"#B0BEC5\",\"#B0BEC5\",\"#B0BEC5\",\"#B0BEC5\",\"#B0BEC5\",\"#B0BEC5\",\"#B0BEC5\",\"#B0BEC5\",\"#B0BEC5\",\"#B0BEC5\",\"#B0BEC5\",\"#B0BEC5\",\"#B0BEC5\"]]}],\"label\":\"Topic 47\",\"method\":\"update\"},{\"args\":[{\"marker.color\":[[\"#B0BEC5\",\"#B0BEC5\",\"#B0BEC5\",\"#B0BEC5\",\"#B0BEC5\",\"#B0BEC5\",\"#B0BEC5\",\"#B0BEC5\",\"#B0BEC5\",\"#B0BEC5\",\"#B0BEC5\",\"#B0BEC5\",\"#B0BEC5\",\"#B0BEC5\",\"#B0BEC5\",\"#B0BEC5\",\"#B0BEC5\",\"#B0BEC5\",\"#B0BEC5\",\"#B0BEC5\",\"#B0BEC5\",\"#B0BEC5\",\"#B0BEC5\",\"#B0BEC5\",\"#B0BEC5\",\"#B0BEC5\",\"#B0BEC5\",\"#B0BEC5\",\"#B0BEC5\",\"#B0BEC5\",\"#B0BEC5\",\"#B0BEC5\",\"#B0BEC5\",\"#B0BEC5\",\"#B0BEC5\",\"#B0BEC5\",\"#B0BEC5\",\"#B0BEC5\",\"#B0BEC5\",\"#B0BEC5\",\"#B0BEC5\",\"#B0BEC5\",\"#B0BEC5\",\"#B0BEC5\",\"#B0BEC5\",\"#B0BEC5\",\"#B0BEC5\",\"#B0BEC5\",\"red\",\"#B0BEC5\",\"#B0BEC5\",\"#B0BEC5\",\"#B0BEC5\",\"#B0BEC5\",\"#B0BEC5\",\"#B0BEC5\",\"#B0BEC5\",\"#B0BEC5\",\"#B0BEC5\",\"#B0BEC5\",\"#B0BEC5\",\"#B0BEC5\",\"#B0BEC5\",\"#B0BEC5\",\"#B0BEC5\",\"#B0BEC5\",\"#B0BEC5\",\"#B0BEC5\"]]}],\"label\":\"Topic 48\",\"method\":\"update\"},{\"args\":[{\"marker.color\":[[\"#B0BEC5\",\"#B0BEC5\",\"#B0BEC5\",\"#B0BEC5\",\"#B0BEC5\",\"#B0BEC5\",\"#B0BEC5\",\"#B0BEC5\",\"#B0BEC5\",\"#B0BEC5\",\"#B0BEC5\",\"#B0BEC5\",\"#B0BEC5\",\"#B0BEC5\",\"#B0BEC5\",\"#B0BEC5\",\"#B0BEC5\",\"#B0BEC5\",\"#B0BEC5\",\"#B0BEC5\",\"#B0BEC5\",\"#B0BEC5\",\"#B0BEC5\",\"#B0BEC5\",\"#B0BEC5\",\"#B0BEC5\",\"#B0BEC5\",\"#B0BEC5\",\"#B0BEC5\",\"#B0BEC5\",\"#B0BEC5\",\"#B0BEC5\",\"#B0BEC5\",\"#B0BEC5\",\"#B0BEC5\",\"#B0BEC5\",\"#B0BEC5\",\"#B0BEC5\",\"#B0BEC5\",\"#B0BEC5\",\"#B0BEC5\",\"#B0BEC5\",\"#B0BEC5\",\"#B0BEC5\",\"#B0BEC5\",\"#B0BEC5\",\"#B0BEC5\",\"#B0BEC5\",\"#B0BEC5\",\"red\",\"#B0BEC5\",\"#B0BEC5\",\"#B0BEC5\",\"#B0BEC5\",\"#B0BEC5\",\"#B0BEC5\",\"#B0BEC5\",\"#B0BEC5\",\"#B0BEC5\",\"#B0BEC5\",\"#B0BEC5\",\"#B0BEC5\",\"#B0BEC5\",\"#B0BEC5\",\"#B0BEC5\",\"#B0BEC5\",\"#B0BEC5\",\"#B0BEC5\"]]}],\"label\":\"Topic 49\",\"method\":\"update\"},{\"args\":[{\"marker.color\":[[\"#B0BEC5\",\"#B0BEC5\",\"#B0BEC5\",\"#B0BEC5\",\"#B0BEC5\",\"#B0BEC5\",\"#B0BEC5\",\"#B0BEC5\",\"#B0BEC5\",\"#B0BEC5\",\"#B0BEC5\",\"#B0BEC5\",\"#B0BEC5\",\"#B0BEC5\",\"#B0BEC5\",\"#B0BEC5\",\"#B0BEC5\",\"#B0BEC5\",\"#B0BEC5\",\"#B0BEC5\",\"#B0BEC5\",\"#B0BEC5\",\"#B0BEC5\",\"#B0BEC5\",\"#B0BEC5\",\"#B0BEC5\",\"#B0BEC5\",\"#B0BEC5\",\"#B0BEC5\",\"#B0BEC5\",\"#B0BEC5\",\"#B0BEC5\",\"#B0BEC5\",\"#B0BEC5\",\"#B0BEC5\",\"#B0BEC5\",\"#B0BEC5\",\"#B0BEC5\",\"#B0BEC5\",\"#B0BEC5\",\"#B0BEC5\",\"#B0BEC5\",\"#B0BEC5\",\"#B0BEC5\",\"#B0BEC5\",\"#B0BEC5\",\"#B0BEC5\",\"#B0BEC5\",\"#B0BEC5\",\"#B0BEC5\",\"red\",\"#B0BEC5\",\"#B0BEC5\",\"#B0BEC5\",\"#B0BEC5\",\"#B0BEC5\",\"#B0BEC5\",\"#B0BEC5\",\"#B0BEC5\",\"#B0BEC5\",\"#B0BEC5\",\"#B0BEC5\",\"#B0BEC5\",\"#B0BEC5\",\"#B0BEC5\",\"#B0BEC5\",\"#B0BEC5\",\"#B0BEC5\"]]}],\"label\":\"Topic 50\",\"method\":\"update\"},{\"args\":[{\"marker.color\":[[\"#B0BEC5\",\"#B0BEC5\",\"#B0BEC5\",\"#B0BEC5\",\"#B0BEC5\",\"#B0BEC5\",\"#B0BEC5\",\"#B0BEC5\",\"#B0BEC5\",\"#B0BEC5\",\"#B0BEC5\",\"#B0BEC5\",\"#B0BEC5\",\"#B0BEC5\",\"#B0BEC5\",\"#B0BEC5\",\"#B0BEC5\",\"#B0BEC5\",\"#B0BEC5\",\"#B0BEC5\",\"#B0BEC5\",\"#B0BEC5\",\"#B0BEC5\",\"#B0BEC5\",\"#B0BEC5\",\"#B0BEC5\",\"#B0BEC5\",\"#B0BEC5\",\"#B0BEC5\",\"#B0BEC5\",\"#B0BEC5\",\"#B0BEC5\",\"#B0BEC5\",\"#B0BEC5\",\"#B0BEC5\",\"#B0BEC5\",\"#B0BEC5\",\"#B0BEC5\",\"#B0BEC5\",\"#B0BEC5\",\"#B0BEC5\",\"#B0BEC5\",\"#B0BEC5\",\"#B0BEC5\",\"#B0BEC5\",\"#B0BEC5\",\"#B0BEC5\",\"#B0BEC5\",\"#B0BEC5\",\"#B0BEC5\",\"#B0BEC5\",\"red\",\"#B0BEC5\",\"#B0BEC5\",\"#B0BEC5\",\"#B0BEC5\",\"#B0BEC5\",\"#B0BEC5\",\"#B0BEC5\",\"#B0BEC5\",\"#B0BEC5\",\"#B0BEC5\",\"#B0BEC5\",\"#B0BEC5\",\"#B0BEC5\",\"#B0BEC5\",\"#B0BEC5\",\"#B0BEC5\"]]}],\"label\":\"Topic 51\",\"method\":\"update\"},{\"args\":[{\"marker.color\":[[\"#B0BEC5\",\"#B0BEC5\",\"#B0BEC5\",\"#B0BEC5\",\"#B0BEC5\",\"#B0BEC5\",\"#B0BEC5\",\"#B0BEC5\",\"#B0BEC5\",\"#B0BEC5\",\"#B0BEC5\",\"#B0BEC5\",\"#B0BEC5\",\"#B0BEC5\",\"#B0BEC5\",\"#B0BEC5\",\"#B0BEC5\",\"#B0BEC5\",\"#B0BEC5\",\"#B0BEC5\",\"#B0BEC5\",\"#B0BEC5\",\"#B0BEC5\",\"#B0BEC5\",\"#B0BEC5\",\"#B0BEC5\",\"#B0BEC5\",\"#B0BEC5\",\"#B0BEC5\",\"#B0BEC5\",\"#B0BEC5\",\"#B0BEC5\",\"#B0BEC5\",\"#B0BEC5\",\"#B0BEC5\",\"#B0BEC5\",\"#B0BEC5\",\"#B0BEC5\",\"#B0BEC5\",\"#B0BEC5\",\"#B0BEC5\",\"#B0BEC5\",\"#B0BEC5\",\"#B0BEC5\",\"#B0BEC5\",\"#B0BEC5\",\"#B0BEC5\",\"#B0BEC5\",\"#B0BEC5\",\"#B0BEC5\",\"#B0BEC5\",\"#B0BEC5\",\"red\",\"#B0BEC5\",\"#B0BEC5\",\"#B0BEC5\",\"#B0BEC5\",\"#B0BEC5\",\"#B0BEC5\",\"#B0BEC5\",\"#B0BEC5\",\"#B0BEC5\",\"#B0BEC5\",\"#B0BEC5\",\"#B0BEC5\",\"#B0BEC5\",\"#B0BEC5\",\"#B0BEC5\"]]}],\"label\":\"Topic 52\",\"method\":\"update\"},{\"args\":[{\"marker.color\":[[\"#B0BEC5\",\"#B0BEC5\",\"#B0BEC5\",\"#B0BEC5\",\"#B0BEC5\",\"#B0BEC5\",\"#B0BEC5\",\"#B0BEC5\",\"#B0BEC5\",\"#B0BEC5\",\"#B0BEC5\",\"#B0BEC5\",\"#B0BEC5\",\"#B0BEC5\",\"#B0BEC5\",\"#B0BEC5\",\"#B0BEC5\",\"#B0BEC5\",\"#B0BEC5\",\"#B0BEC5\",\"#B0BEC5\",\"#B0BEC5\",\"#B0BEC5\",\"#B0BEC5\",\"#B0BEC5\",\"#B0BEC5\",\"#B0BEC5\",\"#B0BEC5\",\"#B0BEC5\",\"#B0BEC5\",\"#B0BEC5\",\"#B0BEC5\",\"#B0BEC5\",\"#B0BEC5\",\"#B0BEC5\",\"#B0BEC5\",\"#B0BEC5\",\"#B0BEC5\",\"#B0BEC5\",\"#B0BEC5\",\"#B0BEC5\",\"#B0BEC5\",\"#B0BEC5\",\"#B0BEC5\",\"#B0BEC5\",\"#B0BEC5\",\"#B0BEC5\",\"#B0BEC5\",\"#B0BEC5\",\"#B0BEC5\",\"#B0BEC5\",\"#B0BEC5\",\"#B0BEC5\",\"red\",\"#B0BEC5\",\"#B0BEC5\",\"#B0BEC5\",\"#B0BEC5\",\"#B0BEC5\",\"#B0BEC5\",\"#B0BEC5\",\"#B0BEC5\",\"#B0BEC5\",\"#B0BEC5\",\"#B0BEC5\",\"#B0BEC5\",\"#B0BEC5\",\"#B0BEC5\"]]}],\"label\":\"Topic 53\",\"method\":\"update\"},{\"args\":[{\"marker.color\":[[\"#B0BEC5\",\"#B0BEC5\",\"#B0BEC5\",\"#B0BEC5\",\"#B0BEC5\",\"#B0BEC5\",\"#B0BEC5\",\"#B0BEC5\",\"#B0BEC5\",\"#B0BEC5\",\"#B0BEC5\",\"#B0BEC5\",\"#B0BEC5\",\"#B0BEC5\",\"#B0BEC5\",\"#B0BEC5\",\"#B0BEC5\",\"#B0BEC5\",\"#B0BEC5\",\"#B0BEC5\",\"#B0BEC5\",\"#B0BEC5\",\"#B0BEC5\",\"#B0BEC5\",\"#B0BEC5\",\"#B0BEC5\",\"#B0BEC5\",\"#B0BEC5\",\"#B0BEC5\",\"#B0BEC5\",\"#B0BEC5\",\"#B0BEC5\",\"#B0BEC5\",\"#B0BEC5\",\"#B0BEC5\",\"#B0BEC5\",\"#B0BEC5\",\"#B0BEC5\",\"#B0BEC5\",\"#B0BEC5\",\"#B0BEC5\",\"#B0BEC5\",\"#B0BEC5\",\"#B0BEC5\",\"#B0BEC5\",\"#B0BEC5\",\"#B0BEC5\",\"#B0BEC5\",\"#B0BEC5\",\"#B0BEC5\",\"#B0BEC5\",\"#B0BEC5\",\"#B0BEC5\",\"#B0BEC5\",\"red\",\"#B0BEC5\",\"#B0BEC5\",\"#B0BEC5\",\"#B0BEC5\",\"#B0BEC5\",\"#B0BEC5\",\"#B0BEC5\",\"#B0BEC5\",\"#B0BEC5\",\"#B0BEC5\",\"#B0BEC5\",\"#B0BEC5\",\"#B0BEC5\"]]}],\"label\":\"Topic 54\",\"method\":\"update\"},{\"args\":[{\"marker.color\":[[\"#B0BEC5\",\"#B0BEC5\",\"#B0BEC5\",\"#B0BEC5\",\"#B0BEC5\",\"#B0BEC5\",\"#B0BEC5\",\"#B0BEC5\",\"#B0BEC5\",\"#B0BEC5\",\"#B0BEC5\",\"#B0BEC5\",\"#B0BEC5\",\"#B0BEC5\",\"#B0BEC5\",\"#B0BEC5\",\"#B0BEC5\",\"#B0BEC5\",\"#B0BEC5\",\"#B0BEC5\",\"#B0BEC5\",\"#B0BEC5\",\"#B0BEC5\",\"#B0BEC5\",\"#B0BEC5\",\"#B0BEC5\",\"#B0BEC5\",\"#B0BEC5\",\"#B0BEC5\",\"#B0BEC5\",\"#B0BEC5\",\"#B0BEC5\",\"#B0BEC5\",\"#B0BEC5\",\"#B0BEC5\",\"#B0BEC5\",\"#B0BEC5\",\"#B0BEC5\",\"#B0BEC5\",\"#B0BEC5\",\"#B0BEC5\",\"#B0BEC5\",\"#B0BEC5\",\"#B0BEC5\",\"#B0BEC5\",\"#B0BEC5\",\"#B0BEC5\",\"#B0BEC5\",\"#B0BEC5\",\"#B0BEC5\",\"#B0BEC5\",\"#B0BEC5\",\"#B0BEC5\",\"#B0BEC5\",\"#B0BEC5\",\"red\",\"#B0BEC5\",\"#B0BEC5\",\"#B0BEC5\",\"#B0BEC5\",\"#B0BEC5\",\"#B0BEC5\",\"#B0BEC5\",\"#B0BEC5\",\"#B0BEC5\",\"#B0BEC5\",\"#B0BEC5\",\"#B0BEC5\"]]}],\"label\":\"Topic 55\",\"method\":\"update\"},{\"args\":[{\"marker.color\":[[\"#B0BEC5\",\"#B0BEC5\",\"#B0BEC5\",\"#B0BEC5\",\"#B0BEC5\",\"#B0BEC5\",\"#B0BEC5\",\"#B0BEC5\",\"#B0BEC5\",\"#B0BEC5\",\"#B0BEC5\",\"#B0BEC5\",\"#B0BEC5\",\"#B0BEC5\",\"#B0BEC5\",\"#B0BEC5\",\"#B0BEC5\",\"#B0BEC5\",\"#B0BEC5\",\"#B0BEC5\",\"#B0BEC5\",\"#B0BEC5\",\"#B0BEC5\",\"#B0BEC5\",\"#B0BEC5\",\"#B0BEC5\",\"#B0BEC5\",\"#B0BEC5\",\"#B0BEC5\",\"#B0BEC5\",\"#B0BEC5\",\"#B0BEC5\",\"#B0BEC5\",\"#B0BEC5\",\"#B0BEC5\",\"#B0BEC5\",\"#B0BEC5\",\"#B0BEC5\",\"#B0BEC5\",\"#B0BEC5\",\"#B0BEC5\",\"#B0BEC5\",\"#B0BEC5\",\"#B0BEC5\",\"#B0BEC5\",\"#B0BEC5\",\"#B0BEC5\",\"#B0BEC5\",\"#B0BEC5\",\"#B0BEC5\",\"#B0BEC5\",\"#B0BEC5\",\"#B0BEC5\",\"#B0BEC5\",\"#B0BEC5\",\"#B0BEC5\",\"red\",\"#B0BEC5\",\"#B0BEC5\",\"#B0BEC5\",\"#B0BEC5\",\"#B0BEC5\",\"#B0BEC5\",\"#B0BEC5\",\"#B0BEC5\",\"#B0BEC5\",\"#B0BEC5\",\"#B0BEC5\"]]}],\"label\":\"Topic 56\",\"method\":\"update\"},{\"args\":[{\"marker.color\":[[\"#B0BEC5\",\"#B0BEC5\",\"#B0BEC5\",\"#B0BEC5\",\"#B0BEC5\",\"#B0BEC5\",\"#B0BEC5\",\"#B0BEC5\",\"#B0BEC5\",\"#B0BEC5\",\"#B0BEC5\",\"#B0BEC5\",\"#B0BEC5\",\"#B0BEC5\",\"#B0BEC5\",\"#B0BEC5\",\"#B0BEC5\",\"#B0BEC5\",\"#B0BEC5\",\"#B0BEC5\",\"#B0BEC5\",\"#B0BEC5\",\"#B0BEC5\",\"#B0BEC5\",\"#B0BEC5\",\"#B0BEC5\",\"#B0BEC5\",\"#B0BEC5\",\"#B0BEC5\",\"#B0BEC5\",\"#B0BEC5\",\"#B0BEC5\",\"#B0BEC5\",\"#B0BEC5\",\"#B0BEC5\",\"#B0BEC5\",\"#B0BEC5\",\"#B0BEC5\",\"#B0BEC5\",\"#B0BEC5\",\"#B0BEC5\",\"#B0BEC5\",\"#B0BEC5\",\"#B0BEC5\",\"#B0BEC5\",\"#B0BEC5\",\"#B0BEC5\",\"#B0BEC5\",\"#B0BEC5\",\"#B0BEC5\",\"#B0BEC5\",\"#B0BEC5\",\"#B0BEC5\",\"#B0BEC5\",\"#B0BEC5\",\"#B0BEC5\",\"#B0BEC5\",\"red\",\"#B0BEC5\",\"#B0BEC5\",\"#B0BEC5\",\"#B0BEC5\",\"#B0BEC5\",\"#B0BEC5\",\"#B0BEC5\",\"#B0BEC5\",\"#B0BEC5\",\"#B0BEC5\"]]}],\"label\":\"Topic 57\",\"method\":\"update\"},{\"args\":[{\"marker.color\":[[\"#B0BEC5\",\"#B0BEC5\",\"#B0BEC5\",\"#B0BEC5\",\"#B0BEC5\",\"#B0BEC5\",\"#B0BEC5\",\"#B0BEC5\",\"#B0BEC5\",\"#B0BEC5\",\"#B0BEC5\",\"#B0BEC5\",\"#B0BEC5\",\"#B0BEC5\",\"#B0BEC5\",\"#B0BEC5\",\"#B0BEC5\",\"#B0BEC5\",\"#B0BEC5\",\"#B0BEC5\",\"#B0BEC5\",\"#B0BEC5\",\"#B0BEC5\",\"#B0BEC5\",\"#B0BEC5\",\"#B0BEC5\",\"#B0BEC5\",\"#B0BEC5\",\"#B0BEC5\",\"#B0BEC5\",\"#B0BEC5\",\"#B0BEC5\",\"#B0BEC5\",\"#B0BEC5\",\"#B0BEC5\",\"#B0BEC5\",\"#B0BEC5\",\"#B0BEC5\",\"#B0BEC5\",\"#B0BEC5\",\"#B0BEC5\",\"#B0BEC5\",\"#B0BEC5\",\"#B0BEC5\",\"#B0BEC5\",\"#B0BEC5\",\"#B0BEC5\",\"#B0BEC5\",\"#B0BEC5\",\"#B0BEC5\",\"#B0BEC5\",\"#B0BEC5\",\"#B0BEC5\",\"#B0BEC5\",\"#B0BEC5\",\"#B0BEC5\",\"#B0BEC5\",\"#B0BEC5\",\"red\",\"#B0BEC5\",\"#B0BEC5\",\"#B0BEC5\",\"#B0BEC5\",\"#B0BEC5\",\"#B0BEC5\",\"#B0BEC5\",\"#B0BEC5\",\"#B0BEC5\"]]}],\"label\":\"Topic 58\",\"method\":\"update\"},{\"args\":[{\"marker.color\":[[\"#B0BEC5\",\"#B0BEC5\",\"#B0BEC5\",\"#B0BEC5\",\"#B0BEC5\",\"#B0BEC5\",\"#B0BEC5\",\"#B0BEC5\",\"#B0BEC5\",\"#B0BEC5\",\"#B0BEC5\",\"#B0BEC5\",\"#B0BEC5\",\"#B0BEC5\",\"#B0BEC5\",\"#B0BEC5\",\"#B0BEC5\",\"#B0BEC5\",\"#B0BEC5\",\"#B0BEC5\",\"#B0BEC5\",\"#B0BEC5\",\"#B0BEC5\",\"#B0BEC5\",\"#B0BEC5\",\"#B0BEC5\",\"#B0BEC5\",\"#B0BEC5\",\"#B0BEC5\",\"#B0BEC5\",\"#B0BEC5\",\"#B0BEC5\",\"#B0BEC5\",\"#B0BEC5\",\"#B0BEC5\",\"#B0BEC5\",\"#B0BEC5\",\"#B0BEC5\",\"#B0BEC5\",\"#B0BEC5\",\"#B0BEC5\",\"#B0BEC5\",\"#B0BEC5\",\"#B0BEC5\",\"#B0BEC5\",\"#B0BEC5\",\"#B0BEC5\",\"#B0BEC5\",\"#B0BEC5\",\"#B0BEC5\",\"#B0BEC5\",\"#B0BEC5\",\"#B0BEC5\",\"#B0BEC5\",\"#B0BEC5\",\"#B0BEC5\",\"#B0BEC5\",\"#B0BEC5\",\"#B0BEC5\",\"red\",\"#B0BEC5\",\"#B0BEC5\",\"#B0BEC5\",\"#B0BEC5\",\"#B0BEC5\",\"#B0BEC5\",\"#B0BEC5\",\"#B0BEC5\"]]}],\"label\":\"Topic 59\",\"method\":\"update\"},{\"args\":[{\"marker.color\":[[\"#B0BEC5\",\"#B0BEC5\",\"#B0BEC5\",\"#B0BEC5\",\"#B0BEC5\",\"#B0BEC5\",\"#B0BEC5\",\"#B0BEC5\",\"#B0BEC5\",\"#B0BEC5\",\"#B0BEC5\",\"#B0BEC5\",\"#B0BEC5\",\"#B0BEC5\",\"#B0BEC5\",\"#B0BEC5\",\"#B0BEC5\",\"#B0BEC5\",\"#B0BEC5\",\"#B0BEC5\",\"#B0BEC5\",\"#B0BEC5\",\"#B0BEC5\",\"#B0BEC5\",\"#B0BEC5\",\"#B0BEC5\",\"#B0BEC5\",\"#B0BEC5\",\"#B0BEC5\",\"#B0BEC5\",\"#B0BEC5\",\"#B0BEC5\",\"#B0BEC5\",\"#B0BEC5\",\"#B0BEC5\",\"#B0BEC5\",\"#B0BEC5\",\"#B0BEC5\",\"#B0BEC5\",\"#B0BEC5\",\"#B0BEC5\",\"#B0BEC5\",\"#B0BEC5\",\"#B0BEC5\",\"#B0BEC5\",\"#B0BEC5\",\"#B0BEC5\",\"#B0BEC5\",\"#B0BEC5\",\"#B0BEC5\",\"#B0BEC5\",\"#B0BEC5\",\"#B0BEC5\",\"#B0BEC5\",\"#B0BEC5\",\"#B0BEC5\",\"#B0BEC5\",\"#B0BEC5\",\"#B0BEC5\",\"#B0BEC5\",\"red\",\"#B0BEC5\",\"#B0BEC5\",\"#B0BEC5\",\"#B0BEC5\",\"#B0BEC5\",\"#B0BEC5\",\"#B0BEC5\"]]}],\"label\":\"Topic 60\",\"method\":\"update\"},{\"args\":[{\"marker.color\":[[\"#B0BEC5\",\"#B0BEC5\",\"#B0BEC5\",\"#B0BEC5\",\"#B0BEC5\",\"#B0BEC5\",\"#B0BEC5\",\"#B0BEC5\",\"#B0BEC5\",\"#B0BEC5\",\"#B0BEC5\",\"#B0BEC5\",\"#B0BEC5\",\"#B0BEC5\",\"#B0BEC5\",\"#B0BEC5\",\"#B0BEC5\",\"#B0BEC5\",\"#B0BEC5\",\"#B0BEC5\",\"#B0BEC5\",\"#B0BEC5\",\"#B0BEC5\",\"#B0BEC5\",\"#B0BEC5\",\"#B0BEC5\",\"#B0BEC5\",\"#B0BEC5\",\"#B0BEC5\",\"#B0BEC5\",\"#B0BEC5\",\"#B0BEC5\",\"#B0BEC5\",\"#B0BEC5\",\"#B0BEC5\",\"#B0BEC5\",\"#B0BEC5\",\"#B0BEC5\",\"#B0BEC5\",\"#B0BEC5\",\"#B0BEC5\",\"#B0BEC5\",\"#B0BEC5\",\"#B0BEC5\",\"#B0BEC5\",\"#B0BEC5\",\"#B0BEC5\",\"#B0BEC5\",\"#B0BEC5\",\"#B0BEC5\",\"#B0BEC5\",\"#B0BEC5\",\"#B0BEC5\",\"#B0BEC5\",\"#B0BEC5\",\"#B0BEC5\",\"#B0BEC5\",\"#B0BEC5\",\"#B0BEC5\",\"#B0BEC5\",\"#B0BEC5\",\"red\",\"#B0BEC5\",\"#B0BEC5\",\"#B0BEC5\",\"#B0BEC5\",\"#B0BEC5\",\"#B0BEC5\"]]}],\"label\":\"Topic 61\",\"method\":\"update\"},{\"args\":[{\"marker.color\":[[\"#B0BEC5\",\"#B0BEC5\",\"#B0BEC5\",\"#B0BEC5\",\"#B0BEC5\",\"#B0BEC5\",\"#B0BEC5\",\"#B0BEC5\",\"#B0BEC5\",\"#B0BEC5\",\"#B0BEC5\",\"#B0BEC5\",\"#B0BEC5\",\"#B0BEC5\",\"#B0BEC5\",\"#B0BEC5\",\"#B0BEC5\",\"#B0BEC5\",\"#B0BEC5\",\"#B0BEC5\",\"#B0BEC5\",\"#B0BEC5\",\"#B0BEC5\",\"#B0BEC5\",\"#B0BEC5\",\"#B0BEC5\",\"#B0BEC5\",\"#B0BEC5\",\"#B0BEC5\",\"#B0BEC5\",\"#B0BEC5\",\"#B0BEC5\",\"#B0BEC5\",\"#B0BEC5\",\"#B0BEC5\",\"#B0BEC5\",\"#B0BEC5\",\"#B0BEC5\",\"#B0BEC5\",\"#B0BEC5\",\"#B0BEC5\",\"#B0BEC5\",\"#B0BEC5\",\"#B0BEC5\",\"#B0BEC5\",\"#B0BEC5\",\"#B0BEC5\",\"#B0BEC5\",\"#B0BEC5\",\"#B0BEC5\",\"#B0BEC5\",\"#B0BEC5\",\"#B0BEC5\",\"#B0BEC5\",\"#B0BEC5\",\"#B0BEC5\",\"#B0BEC5\",\"#B0BEC5\",\"#B0BEC5\",\"#B0BEC5\",\"#B0BEC5\",\"#B0BEC5\",\"red\",\"#B0BEC5\",\"#B0BEC5\",\"#B0BEC5\",\"#B0BEC5\",\"#B0BEC5\"]]}],\"label\":\"Topic 62\",\"method\":\"update\"},{\"args\":[{\"marker.color\":[[\"#B0BEC5\",\"#B0BEC5\",\"#B0BEC5\",\"#B0BEC5\",\"#B0BEC5\",\"#B0BEC5\",\"#B0BEC5\",\"#B0BEC5\",\"#B0BEC5\",\"#B0BEC5\",\"#B0BEC5\",\"#B0BEC5\",\"#B0BEC5\",\"#B0BEC5\",\"#B0BEC5\",\"#B0BEC5\",\"#B0BEC5\",\"#B0BEC5\",\"#B0BEC5\",\"#B0BEC5\",\"#B0BEC5\",\"#B0BEC5\",\"#B0BEC5\",\"#B0BEC5\",\"#B0BEC5\",\"#B0BEC5\",\"#B0BEC5\",\"#B0BEC5\",\"#B0BEC5\",\"#B0BEC5\",\"#B0BEC5\",\"#B0BEC5\",\"#B0BEC5\",\"#B0BEC5\",\"#B0BEC5\",\"#B0BEC5\",\"#B0BEC5\",\"#B0BEC5\",\"#B0BEC5\",\"#B0BEC5\",\"#B0BEC5\",\"#B0BEC5\",\"#B0BEC5\",\"#B0BEC5\",\"#B0BEC5\",\"#B0BEC5\",\"#B0BEC5\",\"#B0BEC5\",\"#B0BEC5\",\"#B0BEC5\",\"#B0BEC5\",\"#B0BEC5\",\"#B0BEC5\",\"#B0BEC5\",\"#B0BEC5\",\"#B0BEC5\",\"#B0BEC5\",\"#B0BEC5\",\"#B0BEC5\",\"#B0BEC5\",\"#B0BEC5\",\"#B0BEC5\",\"#B0BEC5\",\"red\",\"#B0BEC5\",\"#B0BEC5\",\"#B0BEC5\",\"#B0BEC5\"]]}],\"label\":\"Topic 63\",\"method\":\"update\"},{\"args\":[{\"marker.color\":[[\"#B0BEC5\",\"#B0BEC5\",\"#B0BEC5\",\"#B0BEC5\",\"#B0BEC5\",\"#B0BEC5\",\"#B0BEC5\",\"#B0BEC5\",\"#B0BEC5\",\"#B0BEC5\",\"#B0BEC5\",\"#B0BEC5\",\"#B0BEC5\",\"#B0BEC5\",\"#B0BEC5\",\"#B0BEC5\",\"#B0BEC5\",\"#B0BEC5\",\"#B0BEC5\",\"#B0BEC5\",\"#B0BEC5\",\"#B0BEC5\",\"#B0BEC5\",\"#B0BEC5\",\"#B0BEC5\",\"#B0BEC5\",\"#B0BEC5\",\"#B0BEC5\",\"#B0BEC5\",\"#B0BEC5\",\"#B0BEC5\",\"#B0BEC5\",\"#B0BEC5\",\"#B0BEC5\",\"#B0BEC5\",\"#B0BEC5\",\"#B0BEC5\",\"#B0BEC5\",\"#B0BEC5\",\"#B0BEC5\",\"#B0BEC5\",\"#B0BEC5\",\"#B0BEC5\",\"#B0BEC5\",\"#B0BEC5\",\"#B0BEC5\",\"#B0BEC5\",\"#B0BEC5\",\"#B0BEC5\",\"#B0BEC5\",\"#B0BEC5\",\"#B0BEC5\",\"#B0BEC5\",\"#B0BEC5\",\"#B0BEC5\",\"#B0BEC5\",\"#B0BEC5\",\"#B0BEC5\",\"#B0BEC5\",\"#B0BEC5\",\"#B0BEC5\",\"#B0BEC5\",\"#B0BEC5\",\"#B0BEC5\",\"red\",\"#B0BEC5\",\"#B0BEC5\",\"#B0BEC5\"]]}],\"label\":\"Topic 64\",\"method\":\"update\"},{\"args\":[{\"marker.color\":[[\"#B0BEC5\",\"#B0BEC5\",\"#B0BEC5\",\"#B0BEC5\",\"#B0BEC5\",\"#B0BEC5\",\"#B0BEC5\",\"#B0BEC5\",\"#B0BEC5\",\"#B0BEC5\",\"#B0BEC5\",\"#B0BEC5\",\"#B0BEC5\",\"#B0BEC5\",\"#B0BEC5\",\"#B0BEC5\",\"#B0BEC5\",\"#B0BEC5\",\"#B0BEC5\",\"#B0BEC5\",\"#B0BEC5\",\"#B0BEC5\",\"#B0BEC5\",\"#B0BEC5\",\"#B0BEC5\",\"#B0BEC5\",\"#B0BEC5\",\"#B0BEC5\",\"#B0BEC5\",\"#B0BEC5\",\"#B0BEC5\",\"#B0BEC5\",\"#B0BEC5\",\"#B0BEC5\",\"#B0BEC5\",\"#B0BEC5\",\"#B0BEC5\",\"#B0BEC5\",\"#B0BEC5\",\"#B0BEC5\",\"#B0BEC5\",\"#B0BEC5\",\"#B0BEC5\",\"#B0BEC5\",\"#B0BEC5\",\"#B0BEC5\",\"#B0BEC5\",\"#B0BEC5\",\"#B0BEC5\",\"#B0BEC5\",\"#B0BEC5\",\"#B0BEC5\",\"#B0BEC5\",\"#B0BEC5\",\"#B0BEC5\",\"#B0BEC5\",\"#B0BEC5\",\"#B0BEC5\",\"#B0BEC5\",\"#B0BEC5\",\"#B0BEC5\",\"#B0BEC5\",\"#B0BEC5\",\"#B0BEC5\",\"#B0BEC5\",\"red\",\"#B0BEC5\",\"#B0BEC5\"]]}],\"label\":\"Topic 65\",\"method\":\"update\"},{\"args\":[{\"marker.color\":[[\"#B0BEC5\",\"#B0BEC5\",\"#B0BEC5\",\"#B0BEC5\",\"#B0BEC5\",\"#B0BEC5\",\"#B0BEC5\",\"#B0BEC5\",\"#B0BEC5\",\"#B0BEC5\",\"#B0BEC5\",\"#B0BEC5\",\"#B0BEC5\",\"#B0BEC5\",\"#B0BEC5\",\"#B0BEC5\",\"#B0BEC5\",\"#B0BEC5\",\"#B0BEC5\",\"#B0BEC5\",\"#B0BEC5\",\"#B0BEC5\",\"#B0BEC5\",\"#B0BEC5\",\"#B0BEC5\",\"#B0BEC5\",\"#B0BEC5\",\"#B0BEC5\",\"#B0BEC5\",\"#B0BEC5\",\"#B0BEC5\",\"#B0BEC5\",\"#B0BEC5\",\"#B0BEC5\",\"#B0BEC5\",\"#B0BEC5\",\"#B0BEC5\",\"#B0BEC5\",\"#B0BEC5\",\"#B0BEC5\",\"#B0BEC5\",\"#B0BEC5\",\"#B0BEC5\",\"#B0BEC5\",\"#B0BEC5\",\"#B0BEC5\",\"#B0BEC5\",\"#B0BEC5\",\"#B0BEC5\",\"#B0BEC5\",\"#B0BEC5\",\"#B0BEC5\",\"#B0BEC5\",\"#B0BEC5\",\"#B0BEC5\",\"#B0BEC5\",\"#B0BEC5\",\"#B0BEC5\",\"#B0BEC5\",\"#B0BEC5\",\"#B0BEC5\",\"#B0BEC5\",\"#B0BEC5\",\"#B0BEC5\",\"#B0BEC5\",\"#B0BEC5\",\"red\",\"#B0BEC5\"]]}],\"label\":\"Topic 66\",\"method\":\"update\"},{\"args\":[{\"marker.color\":[[\"#B0BEC5\",\"#B0BEC5\",\"#B0BEC5\",\"#B0BEC5\",\"#B0BEC5\",\"#B0BEC5\",\"#B0BEC5\",\"#B0BEC5\",\"#B0BEC5\",\"#B0BEC5\",\"#B0BEC5\",\"#B0BEC5\",\"#B0BEC5\",\"#B0BEC5\",\"#B0BEC5\",\"#B0BEC5\",\"#B0BEC5\",\"#B0BEC5\",\"#B0BEC5\",\"#B0BEC5\",\"#B0BEC5\",\"#B0BEC5\",\"#B0BEC5\",\"#B0BEC5\",\"#B0BEC5\",\"#B0BEC5\",\"#B0BEC5\",\"#B0BEC5\",\"#B0BEC5\",\"#B0BEC5\",\"#B0BEC5\",\"#B0BEC5\",\"#B0BEC5\",\"#B0BEC5\",\"#B0BEC5\",\"#B0BEC5\",\"#B0BEC5\",\"#B0BEC5\",\"#B0BEC5\",\"#B0BEC5\",\"#B0BEC5\",\"#B0BEC5\",\"#B0BEC5\",\"#B0BEC5\",\"#B0BEC5\",\"#B0BEC5\",\"#B0BEC5\",\"#B0BEC5\",\"#B0BEC5\",\"#B0BEC5\",\"#B0BEC5\",\"#B0BEC5\",\"#B0BEC5\",\"#B0BEC5\",\"#B0BEC5\",\"#B0BEC5\",\"#B0BEC5\",\"#B0BEC5\",\"#B0BEC5\",\"#B0BEC5\",\"#B0BEC5\",\"#B0BEC5\",\"#B0BEC5\",\"#B0BEC5\",\"#B0BEC5\",\"#B0BEC5\",\"#B0BEC5\",\"red\"]]}],\"label\":\"Topic 67\",\"method\":\"update\"}]}],\"shapes\":[{\"line\":{\"color\":\"#CFD8DC\",\"width\":2},\"type\":\"line\",\"x0\":1.2383872985839837,\"x1\":1.2383872985839837,\"y0\":-12.250672388076783,\"y1\":18.986458587646485},{\"line\":{\"color\":\"#9E9E9E\",\"width\":2},\"type\":\"line\",\"x0\":-14.175395965576172,\"x1\":16.65217056274414,\"y0\":3.367893099784851,\"y1\":3.367893099784851}],\"annotations\":[{\"showarrow\":false,\"text\":\"D1\",\"x\":-14.175395965576172,\"y\":3.367893099784851,\"yshift\":10},{\"showarrow\":false,\"text\":\"D2\",\"x\":1.2383872985839837,\"xshift\":10,\"y\":18.986458587646485}]},                        {\"responsive\": true}                    ).then(function(){\n                            \nvar gd = document.getElementById('6bda6cc1-53fe-4d02-a07a-e672cbd91c76');\nvar x = new MutationObserver(function (mutations, observer) {{\n        var display = window.getComputedStyle(gd).display;\n        if (!display || display === 'none') {{\n            console.log([gd, 'removed!']);\n            Plotly.purge(gd);\n            observer.disconnect();\n        }}\n}});\n\n// Listen for the removal of the full notebook cells\nvar notebookContainer = gd.closest('#notebook-container');\nif (notebookContainer) {{\n    x.observe(notebookContainer, {childList: true});\n}}\n\n// Listen for the clearing of the current output cell\nvar outputEl = gd.closest('.output');\nif (outputEl) {{\n    x.observe(outputEl, {childList: true});\n}}\n\n                        })                };                });            </script>        </div>"
     },
     "metadata": {},
     "output_type": "display_data"
    }
   ],
   "source": [
    "from sklearn.feature_extraction.text import CountVectorizer\n",
    "from umap import UMAP\n",
    "from sentence_transformers import SentenceTransformer\n",
    "from bertopic import BERTopic\n",
    "from hdbscan import HDBSCAN\n",
    "\n",
    "dataset_bert = pd.read_csv('cleaned_dataset (1).csv')\n",
    "dataset_bert = dataset_bert[dataset_bert[\"NPS\"] <= 6]\n",
    "#sentence_model = SentenceTransformer(\"all-MiniLM-L6-v2\")\n",
    "sentence_model = SentenceTransformer('all-mpnet-base-v2')\n",
    "# Create a BERTopic instance\n",
    "hdbscan_model = HDBSCAN(min_cluster_size=200)\n",
    "umap_model = UMAP(random_state=1)\n",
    "model_bert = BERTopic(language=\"english\", n_gram_range=(1, 3), embedding_model=sentence_model, hdbscan_model=hdbscan_model, umap_model=umap_model, vectorizer_model=CountVectorizer(stop_words='english'))\n",
    "\n",
    "\n",
    "# Fit the model on your documents\n",
    "topics, probabilities = model_bert.fit_transform(dataset_bert[\"translated_comment\"])\n",
    "\n",
    "# Explore the topics\n",
    "for topic in model_bert.get_topic_info().head(5).itertuples():\n",
    "    print(f\"Topic {topic.Topic}: {topic.Name}\")\n",
    "\n",
    "# To visualize topics\n",
    "model_bert.visualize_topics()"
   ],
   "metadata": {
    "collapsed": false,
    "ExecuteTime": {
     "end_time": "2024-02-08T19:10:18.719567Z",
     "start_time": "2024-02-08T19:02:28.479633Z"
    }
   }
  },
  {
   "cell_type": "code",
   "execution_count": 277,
   "outputs": [],
   "source": [
    "model_bert.get_topic_info()\n",
    "df_BERTopic = pd.DataFrame(model_bert.get_topic_info())\n",
    "df_BERTopic.to_csv('df_BERTopic_mpnet.csv')"
   ],
   "metadata": {
    "collapsed": false,
    "ExecuteTime": {
     "end_time": "2024-02-08T19:10:18.737695Z",
     "start_time": "2024-02-08T19:10:18.729068Z"
    }
   }
  },
  {
   "cell_type": "code",
   "execution_count": 278,
   "outputs": [
    {
     "data": {
      "text/plain": "['-1_customer_answer_price',\n '0_eon_contract_customer',\n '1_essent_years_customer',\n '2_invoice_invoices_receive',\n '3_contract_agreement_new',\n '4_phone_minutes_service',\n '5_price_prices_suppliers',\n '6_long_process_took',\n '7_meter_reading_readings',\n '8_payment_installment_euros',\n '9_bills_billing_high',\n '10_recommend_recommendations_recommending',\n '11_energy_supplier_recommend',\n '12_chat_chatbot_robot',\n '13_power_outage_announced',\n '14_website_site_page',\n '15_customers_customer_regular',\n '16_accessible_reduce_poorly',\n '17_communication_conversation_bad',\n '18_connection_email_notification',\n '19_gas_electricity_contract',\n '20_choice_decide_choose',\n '21_password_log_login',\n '22_electricity_energy_price',\n '23_question_answer_questions',\n '24_service_customer_bad',\n '25_request_response_requests',\n '26_information_confusing_unclear',\n '27_contact_phone_touch',\n '28_look_amateurish_',\n '29_rating_influenced_score',\n '30_consumption_manager_app',\n '31_electricity_lower_grid',\n '32_innogy_client_polska',\n '33_contracts_contract_add',\n '34_satisfied_happy_good',\n '35_employee_lady_question',\n '36_solved_problem_solution',\n '37_providers_provider_company',\n '38_solar_panels_cells',\n '39_boiler_water_thermostat',\n '40_know_cheaper_accessibility',\n '41_talk_friends_don',\n '42_portal_online_confusing',\n '43_wrote_described_note',\n '44_cena_know_champion',\n '45_installation_installers_mechanic',\n '46_se_ºã_hatrid',\n '47_helped_help_noded',\n '48_tariff_tariffs_change',\n '49_annual_statement_accounts',\n '50_cubic_consumption_gas',\n '51_ifo_colsenter_just',\n '52_transcription_transcript_took',\n '53_nee_know_ne',\n '54_transfer_cancellation_fee',\n '55_reduce_price_expensive',\n '56_nope_guessing_purely',\n '57_know_doubt_moment',\n '58_promises_faster_promise',\n '59_rates_rate_increase',\n '60_app_work_working',\n '61_accessibility_poor_accessible',\n '62_survey_surveys_questionnaire',\n '63_know_don_',\n '64_electricity_connection_electrician',\n '65_malfunction_error_malfunctions',\n '66_works_work_doesn',\n '67_complaint_contract_contracts']"
     },
     "execution_count": 278,
     "metadata": {},
     "output_type": "execute_result"
    }
   ],
   "source": [
    "model_bert.generate_topic_labels()"
   ],
   "metadata": {
    "collapsed": false,
    "ExecuteTime": {
     "end_time": "2024-02-08T19:10:18.790449Z",
     "start_time": "2024-02-08T19:10:18.736972Z"
    }
   }
  },
  {
   "cell_type": "code",
   "execution_count": 279,
   "outputs": [
    {
     "data": {
      "text/plain": "['Poorly accessible', 'poorly accessible.', 'poorly accessible']"
     },
     "execution_count": 279,
     "metadata": {},
     "output_type": "execute_result"
    }
   ],
   "source": [
    "model_bert.get_representative_docs(16)"
   ],
   "metadata": {
    "collapsed": false,
    "ExecuteTime": {
     "end_time": "2024-02-08T19:10:18.790884Z",
     "start_time": "2024-02-08T19:10:18.753194Z"
    }
   }
  },
  {
   "cell_type": "code",
   "execution_count": 280,
   "outputs": [
    {
     "data": {
      "application/vnd.plotly.v1+json": {
       "data": [
        {
         "marker": {
          "color": "#D55E00"
         },
         "orientation": "h",
         "x": [
          0.009074282696778164,
          0.009766549370207458,
          0.01138633464690117,
          0.012875217179232635,
          0.06821379794480599
         ],
         "y": [
          "new  ",
          "electricity  ",
          "customer  ",
          "contract  ",
          "eon  "
         ],
         "type": "bar",
         "xaxis": "x",
         "yaxis": "y"
        },
        {
         "marker": {
          "color": "#0072B2"
         },
         "orientation": "h",
         "x": [
          0.011297765944069183,
          0.012962397092100555,
          0.013985007220333284,
          0.014770265333550888,
          0.08879415990454761
         ],
         "y": [
          "energy  ",
          "customers  ",
          "customer  ",
          "years  ",
          "essent  "
         ],
         "type": "bar",
         "xaxis": "x2",
         "yaxis": "y2"
        },
        {
         "marker": {
          "color": "#CC79A7"
         },
         "orientation": "h",
         "x": [
          0.019941318757901928,
          0.022764560702670057,
          0.02321527549699623,
          0.09179552303915366,
          0.11721935632416608
         ],
         "y": [
          "issued  ",
          "payment  ",
          "receive  ",
          "invoices  ",
          "invoice  "
         ],
         "type": "bar",
         "xaxis": "x3",
         "yaxis": "y3"
        },
        {
         "marker": {
          "color": "#E69F00"
         },
         "orientation": "h",
         "x": [
          0.0152217925186886,
          0.01678874152630711,
          0.017716640065851514,
          0.019040613993183342,
          0.0737884167714801
         ],
         "y": [
          "extend  ",
          "contracts  ",
          "new  ",
          "agreement  ",
          "contract  "
         ],
         "type": "bar",
         "xaxis": "x4",
         "yaxis": "y4"
        },
        {
         "marker": {
          "color": "#56B4E9"
         },
         "orientation": "h",
         "x": [
          0.026474833713631164,
          0.026661395515072323,
          0.028101013402034303,
          0.034207590051323365,
          0.03645996081860372
         ],
         "y": [
          "waiting  ",
          "hold  ",
          "service  ",
          "minutes  ",
          "phone  "
         ],
         "type": "bar",
         "xaxis": "x5",
         "yaxis": "y5"
        },
        {
         "marker": {
          "color": "#009E73"
         },
         "orientation": "h",
         "x": [
          0.0498727429028988,
          0.05614457612427784,
          0.057325594323971406,
          0.07265854720025185,
          0.07645771219241779
         ],
         "y": [
          "expensive  ",
          "supplier  ",
          "suppliers  ",
          "prices  ",
          "price  "
         ],
         "type": "bar",
         "xaxis": "x6",
         "yaxis": "y6"
        },
        {
         "marker": {
          "color": "#F0E442"
         },
         "orientation": "h",
         "x": [
          0.036564831597768535,
          0.04987510894872874,
          0.06032703646716969,
          0.06152166347293294,
          0.07229652328545064
         ],
         "y": [
          "administration  ",
          "time  ",
          "took  ",
          "process  ",
          "long  "
         ],
         "type": "bar",
         "xaxis": "x7",
         "yaxis": "y7"
        },
        {
         "marker": {
          "color": "#D55E00"
         },
         "orientation": "h",
         "x": [
          0.02099907677063214,
          0.022107535794857462,
          0.04495817735079886,
          0.06664909042965422,
          0.10280588805746876
         ],
         "y": [
          "smart  ",
          "enter  ",
          "readings  ",
          "reading  ",
          "meter  "
         ],
         "type": "bar",
         "xaxis": "x8",
         "yaxis": "y8"
        },
        {
         "marker": {
          "color": "#0072B2"
         },
         "orientation": "h",
         "x": [
          0.02722628957045127,
          0.029002843060175868,
          0.039883441368035066,
          0.04150960096074571,
          0.05777381319188168
         ],
         "y": [
          "pay  ",
          "payments  ",
          "euros  ",
          "installment  ",
          "payment  "
         ],
         "type": "bar",
         "xaxis": "x9",
         "yaxis": "y9"
        },
        {
         "marker": {
          "color": "#CC79A7"
         },
         "orientation": "h",
         "x": [
          0.02461231900742721,
          0.03316686394423154,
          0.03947805651623858,
          0.04420103718479725,
          0.11426227863467894
         ],
         "y": [
          "arrived  ",
          "pay  ",
          "high  ",
          "billing  ",
          "bills  "
         ],
         "type": "bar",
         "xaxis": "x10",
         "yaxis": "y10"
        },
        {
         "marker": {
          "color": "#E69F00"
         },
         "orientation": "h",
         "x": [
          0.05793335348650512,
          0.0731747410421935,
          0.0903653648519442,
          0.1405398042463479,
          0.24809661936975277
         ],
         "y": [
          "make  ",
          "advice  ",
          "recommending  ",
          "recommendations  ",
          "recommend  "
         ],
         "type": "bar",
         "xaxis": "x11",
         "yaxis": "y11"
        },
        {
         "marker": {
          "color": "#56B4E9"
         },
         "orientation": "h",
         "x": [
          0.05138663491299424,
          0.05273841727819662,
          0.05978459899796842,
          0.06951039173761596,
          0.11707714601997318
         ],
         "y": [
          "electricity  ",
          "companies  ",
          "recommend  ",
          "supplier  ",
          "energy  "
         ],
         "type": "bar",
         "xaxis": "x12",
         "yaxis": "y12"
        },
        {
         "marker": {
          "color": "#009E73"
         },
         "orientation": "h",
         "x": [
          0.032247691600692574,
          0.043230097589488224,
          0.06255374364850581,
          0.12088603128933958,
          0.15153365588808063
         ],
         "y": [
          "question  ",
          "bot  ",
          "robot  ",
          "chatbot  ",
          "chat  "
         ],
         "type": "bar",
         "xaxis": "x13",
         "yaxis": "y13"
        },
        {
         "marker": {
          "color": "#F0E442"
         },
         "orientation": "h",
         "x": [
          0.032789212824599116,
          0.03725690995577783,
          0.04790379775951499,
          0.10609183066394846,
          0.11274948422251427
         ],
         "y": [
          "outages  ",
          "day  ",
          "announced  ",
          "outage  ",
          "power  "
         ],
         "type": "bar",
         "xaxis": "x14",
         "yaxis": "y14"
        },
        {
         "marker": {
          "color": "#D55E00"
         },
         "orientation": "h",
         "x": [
          0.027761121166220138,
          0.03394838959272921,
          0.03874834246408076,
          0.13332405717231763,
          0.18190486461760066
         ],
         "y": [
          "working  ",
          "slow  ",
          "page  ",
          "site  ",
          "website  "
         ],
         "type": "bar",
         "xaxis": "x15",
         "yaxis": "y15"
        },
        {
         "marker": {
          "color": "#0072B2"
         },
         "orientation": "h",
         "x": [
          0.03608464636654003,
          0.03920072307917061,
          0.04307242672987933,
          0.05934343697602299,
          0.11533084623645186
         ],
         "y": [
          "discount  ",
          "existing  ",
          "regular  ",
          "customer  ",
          "customers  "
         ],
         "type": "bar",
         "xaxis": "x16",
         "yaxis": "y16"
        },
        {
         "marker": {
          "color": "#CC79A7"
         },
         "orientation": "h",
         "x": [
          0.14769296668696322,
          0.16854904194683762,
          0.17882687681434123,
          0.18775226518565347,
          0.20773517362186267
         ],
         "y": [
          "price  ",
          "dissatisfaction  ",
          "poorly  ",
          "reduce  ",
          "accessible  "
         ],
         "type": "bar",
         "xaxis": "x17",
         "yaxis": "y17"
        },
        {
         "marker": {
          "color": "#E69F00"
         },
         "orientation": "h",
         "x": [
          0.029916785941071847,
          0.04342008941120173,
          0.04361888263052806,
          0.11246839810262985,
          0.18633651244126795
         ],
         "y": [
          "treated  ",
          "impersonal  ",
          "bad  ",
          "conversation  ",
          "communication  "
         ],
         "type": "bar",
         "xaxis": "x18",
         "yaxis": "y18"
        },
        {
         "marker": {
          "color": "#56B4E9"
         },
         "orientation": "h",
         "x": [
          0.03390873682537188,
          0.034470476197632154,
          0.045166241310416466,
          0.05930425214150304,
          0.09131534642448716
         ],
         "y": [
          "mail  ",
          "connect  ",
          "notification  ",
          "email  ",
          "connection  "
         ],
         "type": "bar",
         "xaxis": "x19",
         "yaxis": "y19"
        },
        {
         "marker": {
          "color": "#009E73"
         },
         "orientation": "h",
         "x": [
          0.01772564537805878,
          0.018175996444640463,
          0.02111193927787997,
          0.02515874554062573,
          0.04979737857847082
         ],
         "y": [
          "energy  ",
          "energiedirect  ",
          "contract  ",
          "electricity  ",
          "gas  "
         ],
         "type": "bar",
         "xaxis": "x20",
         "yaxis": "y20"
        }
       ],
       "layout": {
        "template": {
         "data": {
          "barpolar": [
           {
            "marker": {
             "line": {
              "color": "white",
              "width": 0.5
             },
             "pattern": {
              "fillmode": "overlay",
              "size": 10,
              "solidity": 0.2
             }
            },
            "type": "barpolar"
           }
          ],
          "bar": [
           {
            "error_x": {
             "color": "#2a3f5f"
            },
            "error_y": {
             "color": "#2a3f5f"
            },
            "marker": {
             "line": {
              "color": "white",
              "width": 0.5
             },
             "pattern": {
              "fillmode": "overlay",
              "size": 10,
              "solidity": 0.2
             }
            },
            "type": "bar"
           }
          ],
          "carpet": [
           {
            "aaxis": {
             "endlinecolor": "#2a3f5f",
             "gridcolor": "#C8D4E3",
             "linecolor": "#C8D4E3",
             "minorgridcolor": "#C8D4E3",
             "startlinecolor": "#2a3f5f"
            },
            "baxis": {
             "endlinecolor": "#2a3f5f",
             "gridcolor": "#C8D4E3",
             "linecolor": "#C8D4E3",
             "minorgridcolor": "#C8D4E3",
             "startlinecolor": "#2a3f5f"
            },
            "type": "carpet"
           }
          ],
          "choropleth": [
           {
            "colorbar": {
             "outlinewidth": 0,
             "ticks": ""
            },
            "type": "choropleth"
           }
          ],
          "contourcarpet": [
           {
            "colorbar": {
             "outlinewidth": 0,
             "ticks": ""
            },
            "type": "contourcarpet"
           }
          ],
          "contour": [
           {
            "colorbar": {
             "outlinewidth": 0,
             "ticks": ""
            },
            "colorscale": [
             [
              0.0,
              "#0d0887"
             ],
             [
              0.1111111111111111,
              "#46039f"
             ],
             [
              0.2222222222222222,
              "#7201a8"
             ],
             [
              0.3333333333333333,
              "#9c179e"
             ],
             [
              0.4444444444444444,
              "#bd3786"
             ],
             [
              0.5555555555555556,
              "#d8576b"
             ],
             [
              0.6666666666666666,
              "#ed7953"
             ],
             [
              0.7777777777777778,
              "#fb9f3a"
             ],
             [
              0.8888888888888888,
              "#fdca26"
             ],
             [
              1.0,
              "#f0f921"
             ]
            ],
            "type": "contour"
           }
          ],
          "heatmapgl": [
           {
            "colorbar": {
             "outlinewidth": 0,
             "ticks": ""
            },
            "colorscale": [
             [
              0.0,
              "#0d0887"
             ],
             [
              0.1111111111111111,
              "#46039f"
             ],
             [
              0.2222222222222222,
              "#7201a8"
             ],
             [
              0.3333333333333333,
              "#9c179e"
             ],
             [
              0.4444444444444444,
              "#bd3786"
             ],
             [
              0.5555555555555556,
              "#d8576b"
             ],
             [
              0.6666666666666666,
              "#ed7953"
             ],
             [
              0.7777777777777778,
              "#fb9f3a"
             ],
             [
              0.8888888888888888,
              "#fdca26"
             ],
             [
              1.0,
              "#f0f921"
             ]
            ],
            "type": "heatmapgl"
           }
          ],
          "heatmap": [
           {
            "colorbar": {
             "outlinewidth": 0,
             "ticks": ""
            },
            "colorscale": [
             [
              0.0,
              "#0d0887"
             ],
             [
              0.1111111111111111,
              "#46039f"
             ],
             [
              0.2222222222222222,
              "#7201a8"
             ],
             [
              0.3333333333333333,
              "#9c179e"
             ],
             [
              0.4444444444444444,
              "#bd3786"
             ],
             [
              0.5555555555555556,
              "#d8576b"
             ],
             [
              0.6666666666666666,
              "#ed7953"
             ],
             [
              0.7777777777777778,
              "#fb9f3a"
             ],
             [
              0.8888888888888888,
              "#fdca26"
             ],
             [
              1.0,
              "#f0f921"
             ]
            ],
            "type": "heatmap"
           }
          ],
          "histogram2dcontour": [
           {
            "colorbar": {
             "outlinewidth": 0,
             "ticks": ""
            },
            "colorscale": [
             [
              0.0,
              "#0d0887"
             ],
             [
              0.1111111111111111,
              "#46039f"
             ],
             [
              0.2222222222222222,
              "#7201a8"
             ],
             [
              0.3333333333333333,
              "#9c179e"
             ],
             [
              0.4444444444444444,
              "#bd3786"
             ],
             [
              0.5555555555555556,
              "#d8576b"
             ],
             [
              0.6666666666666666,
              "#ed7953"
             ],
             [
              0.7777777777777778,
              "#fb9f3a"
             ],
             [
              0.8888888888888888,
              "#fdca26"
             ],
             [
              1.0,
              "#f0f921"
             ]
            ],
            "type": "histogram2dcontour"
           }
          ],
          "histogram2d": [
           {
            "colorbar": {
             "outlinewidth": 0,
             "ticks": ""
            },
            "colorscale": [
             [
              0.0,
              "#0d0887"
             ],
             [
              0.1111111111111111,
              "#46039f"
             ],
             [
              0.2222222222222222,
              "#7201a8"
             ],
             [
              0.3333333333333333,
              "#9c179e"
             ],
             [
              0.4444444444444444,
              "#bd3786"
             ],
             [
              0.5555555555555556,
              "#d8576b"
             ],
             [
              0.6666666666666666,
              "#ed7953"
             ],
             [
              0.7777777777777778,
              "#fb9f3a"
             ],
             [
              0.8888888888888888,
              "#fdca26"
             ],
             [
              1.0,
              "#f0f921"
             ]
            ],
            "type": "histogram2d"
           }
          ],
          "histogram": [
           {
            "marker": {
             "pattern": {
              "fillmode": "overlay",
              "size": 10,
              "solidity": 0.2
             }
            },
            "type": "histogram"
           }
          ],
          "mesh3d": [
           {
            "colorbar": {
             "outlinewidth": 0,
             "ticks": ""
            },
            "type": "mesh3d"
           }
          ],
          "parcoords": [
           {
            "line": {
             "colorbar": {
              "outlinewidth": 0,
              "ticks": ""
             }
            },
            "type": "parcoords"
           }
          ],
          "pie": [
           {
            "automargin": true,
            "type": "pie"
           }
          ],
          "scatter3d": [
           {
            "line": {
             "colorbar": {
              "outlinewidth": 0,
              "ticks": ""
             }
            },
            "marker": {
             "colorbar": {
              "outlinewidth": 0,
              "ticks": ""
             }
            },
            "type": "scatter3d"
           }
          ],
          "scattercarpet": [
           {
            "marker": {
             "colorbar": {
              "outlinewidth": 0,
              "ticks": ""
             }
            },
            "type": "scattercarpet"
           }
          ],
          "scattergeo": [
           {
            "marker": {
             "colorbar": {
              "outlinewidth": 0,
              "ticks": ""
             }
            },
            "type": "scattergeo"
           }
          ],
          "scattergl": [
           {
            "marker": {
             "colorbar": {
              "outlinewidth": 0,
              "ticks": ""
             }
            },
            "type": "scattergl"
           }
          ],
          "scattermapbox": [
           {
            "marker": {
             "colorbar": {
              "outlinewidth": 0,
              "ticks": ""
             }
            },
            "type": "scattermapbox"
           }
          ],
          "scatterpolargl": [
           {
            "marker": {
             "colorbar": {
              "outlinewidth": 0,
              "ticks": ""
             }
            },
            "type": "scatterpolargl"
           }
          ],
          "scatterpolar": [
           {
            "marker": {
             "colorbar": {
              "outlinewidth": 0,
              "ticks": ""
             }
            },
            "type": "scatterpolar"
           }
          ],
          "scatter": [
           {
            "fillpattern": {
             "fillmode": "overlay",
             "size": 10,
             "solidity": 0.2
            },
            "type": "scatter"
           }
          ],
          "scatterternary": [
           {
            "marker": {
             "colorbar": {
              "outlinewidth": 0,
              "ticks": ""
             }
            },
            "type": "scatterternary"
           }
          ],
          "surface": [
           {
            "colorbar": {
             "outlinewidth": 0,
             "ticks": ""
            },
            "colorscale": [
             [
              0.0,
              "#0d0887"
             ],
             [
              0.1111111111111111,
              "#46039f"
             ],
             [
              0.2222222222222222,
              "#7201a8"
             ],
             [
              0.3333333333333333,
              "#9c179e"
             ],
             [
              0.4444444444444444,
              "#bd3786"
             ],
             [
              0.5555555555555556,
              "#d8576b"
             ],
             [
              0.6666666666666666,
              "#ed7953"
             ],
             [
              0.7777777777777778,
              "#fb9f3a"
             ],
             [
              0.8888888888888888,
              "#fdca26"
             ],
             [
              1.0,
              "#f0f921"
             ]
            ],
            "type": "surface"
           }
          ],
          "table": [
           {
            "cells": {
             "fill": {
              "color": "#EBF0F8"
             },
             "line": {
              "color": "white"
             }
            },
            "header": {
             "fill": {
              "color": "#C8D4E3"
             },
             "line": {
              "color": "white"
             }
            },
            "type": "table"
           }
          ]
         },
         "layout": {
          "annotationdefaults": {
           "arrowcolor": "#2a3f5f",
           "arrowhead": 0,
           "arrowwidth": 1
          },
          "autotypenumbers": "strict",
          "coloraxis": {
           "colorbar": {
            "outlinewidth": 0,
            "ticks": ""
           }
          },
          "colorscale": {
           "diverging": [
            [
             0,
             "#8e0152"
            ],
            [
             0.1,
             "#c51b7d"
            ],
            [
             0.2,
             "#de77ae"
            ],
            [
             0.3,
             "#f1b6da"
            ],
            [
             0.4,
             "#fde0ef"
            ],
            [
             0.5,
             "#f7f7f7"
            ],
            [
             0.6,
             "#e6f5d0"
            ],
            [
             0.7,
             "#b8e186"
            ],
            [
             0.8,
             "#7fbc41"
            ],
            [
             0.9,
             "#4d9221"
            ],
            [
             1,
             "#276419"
            ]
           ],
           "sequential": [
            [
             0.0,
             "#0d0887"
            ],
            [
             0.1111111111111111,
             "#46039f"
            ],
            [
             0.2222222222222222,
             "#7201a8"
            ],
            [
             0.3333333333333333,
             "#9c179e"
            ],
            [
             0.4444444444444444,
             "#bd3786"
            ],
            [
             0.5555555555555556,
             "#d8576b"
            ],
            [
             0.6666666666666666,
             "#ed7953"
            ],
            [
             0.7777777777777778,
             "#fb9f3a"
            ],
            [
             0.8888888888888888,
             "#fdca26"
            ],
            [
             1.0,
             "#f0f921"
            ]
           ],
           "sequentialminus": [
            [
             0.0,
             "#0d0887"
            ],
            [
             0.1111111111111111,
             "#46039f"
            ],
            [
             0.2222222222222222,
             "#7201a8"
            ],
            [
             0.3333333333333333,
             "#9c179e"
            ],
            [
             0.4444444444444444,
             "#bd3786"
            ],
            [
             0.5555555555555556,
             "#d8576b"
            ],
            [
             0.6666666666666666,
             "#ed7953"
            ],
            [
             0.7777777777777778,
             "#fb9f3a"
            ],
            [
             0.8888888888888888,
             "#fdca26"
            ],
            [
             1.0,
             "#f0f921"
            ]
           ]
          },
          "colorway": [
           "#636efa",
           "#EF553B",
           "#00cc96",
           "#ab63fa",
           "#FFA15A",
           "#19d3f3",
           "#FF6692",
           "#B6E880",
           "#FF97FF",
           "#FECB52"
          ],
          "font": {
           "color": "#2a3f5f"
          },
          "geo": {
           "bgcolor": "white",
           "lakecolor": "white",
           "landcolor": "white",
           "showlakes": true,
           "showland": true,
           "subunitcolor": "#C8D4E3"
          },
          "hoverlabel": {
           "align": "left"
          },
          "hovermode": "closest",
          "mapbox": {
           "style": "light"
          },
          "paper_bgcolor": "white",
          "plot_bgcolor": "white",
          "polar": {
           "angularaxis": {
            "gridcolor": "#EBF0F8",
            "linecolor": "#EBF0F8",
            "ticks": ""
           },
           "bgcolor": "white",
           "radialaxis": {
            "gridcolor": "#EBF0F8",
            "linecolor": "#EBF0F8",
            "ticks": ""
           }
          },
          "scene": {
           "xaxis": {
            "backgroundcolor": "white",
            "gridcolor": "#DFE8F3",
            "gridwidth": 2,
            "linecolor": "#EBF0F8",
            "showbackground": true,
            "ticks": "",
            "zerolinecolor": "#EBF0F8"
           },
           "yaxis": {
            "backgroundcolor": "white",
            "gridcolor": "#DFE8F3",
            "gridwidth": 2,
            "linecolor": "#EBF0F8",
            "showbackground": true,
            "ticks": "",
            "zerolinecolor": "#EBF0F8"
           },
           "zaxis": {
            "backgroundcolor": "white",
            "gridcolor": "#DFE8F3",
            "gridwidth": 2,
            "linecolor": "#EBF0F8",
            "showbackground": true,
            "ticks": "",
            "zerolinecolor": "#EBF0F8"
           }
          },
          "shapedefaults": {
           "line": {
            "color": "#2a3f5f"
           }
          },
          "ternary": {
           "aaxis": {
            "gridcolor": "#DFE8F3",
            "linecolor": "#A2B1C6",
            "ticks": ""
           },
           "baxis": {
            "gridcolor": "#DFE8F3",
            "linecolor": "#A2B1C6",
            "ticks": ""
           },
           "bgcolor": "white",
           "caxis": {
            "gridcolor": "#DFE8F3",
            "linecolor": "#A2B1C6",
            "ticks": ""
           }
          },
          "title": {
           "x": 0.05
          },
          "xaxis": {
           "automargin": true,
           "gridcolor": "#EBF0F8",
           "linecolor": "#EBF0F8",
           "ticks": "",
           "title": {
            "standoff": 15
           },
           "zerolinecolor": "#EBF0F8",
           "zerolinewidth": 2
          },
          "yaxis": {
           "automargin": true,
           "gridcolor": "#EBF0F8",
           "linecolor": "#EBF0F8",
           "ticks": "",
           "title": {
            "standoff": 15
           },
           "zerolinecolor": "#EBF0F8",
           "zerolinewidth": 2
          }
         }
        },
        "xaxis": {
         "anchor": "y",
         "domain": [
          0.0,
          0.175
         ],
         "showgrid": true
        },
        "yaxis": {
         "anchor": "x",
         "domain": [
          0.8639999999999999,
          0.9999999999999999
         ],
         "showgrid": true
        },
        "xaxis2": {
         "anchor": "y2",
         "domain": [
          0.275,
          0.45
         ],
         "showgrid": true
        },
        "yaxis2": {
         "anchor": "x2",
         "domain": [
          0.8639999999999999,
          0.9999999999999999
         ],
         "showgrid": true
        },
        "xaxis3": {
         "anchor": "y3",
         "domain": [
          0.55,
          0.7250000000000001
         ],
         "showgrid": true
        },
        "yaxis3": {
         "anchor": "x3",
         "domain": [
          0.8639999999999999,
          0.9999999999999999
         ],
         "showgrid": true
        },
        "xaxis4": {
         "anchor": "y4",
         "domain": [
          0.825,
          1.0
         ],
         "showgrid": true
        },
        "yaxis4": {
         "anchor": "x4",
         "domain": [
          0.8639999999999999,
          0.9999999999999999
         ],
         "showgrid": true
        },
        "xaxis5": {
         "anchor": "y5",
         "domain": [
          0.0,
          0.175
         ],
         "showgrid": true
        },
        "yaxis5": {
         "anchor": "x5",
         "domain": [
          0.6479999999999999,
          0.7839999999999999
         ],
         "showgrid": true
        },
        "xaxis6": {
         "anchor": "y6",
         "domain": [
          0.275,
          0.45
         ],
         "showgrid": true
        },
        "yaxis6": {
         "anchor": "x6",
         "domain": [
          0.6479999999999999,
          0.7839999999999999
         ],
         "showgrid": true
        },
        "xaxis7": {
         "anchor": "y7",
         "domain": [
          0.55,
          0.7250000000000001
         ],
         "showgrid": true
        },
        "yaxis7": {
         "anchor": "x7",
         "domain": [
          0.6479999999999999,
          0.7839999999999999
         ],
         "showgrid": true
        },
        "xaxis8": {
         "anchor": "y8",
         "domain": [
          0.825,
          1.0
         ],
         "showgrid": true
        },
        "yaxis8": {
         "anchor": "x8",
         "domain": [
          0.6479999999999999,
          0.7839999999999999
         ],
         "showgrid": true
        },
        "xaxis9": {
         "anchor": "y9",
         "domain": [
          0.0,
          0.175
         ],
         "showgrid": true
        },
        "yaxis9": {
         "anchor": "x9",
         "domain": [
          0.43199999999999994,
          0.568
         ],
         "showgrid": true
        },
        "xaxis10": {
         "anchor": "y10",
         "domain": [
          0.275,
          0.45
         ],
         "showgrid": true
        },
        "yaxis10": {
         "anchor": "x10",
         "domain": [
          0.43199999999999994,
          0.568
         ],
         "showgrid": true
        },
        "xaxis11": {
         "anchor": "y11",
         "domain": [
          0.55,
          0.7250000000000001
         ],
         "showgrid": true
        },
        "yaxis11": {
         "anchor": "x11",
         "domain": [
          0.43199999999999994,
          0.568
         ],
         "showgrid": true
        },
        "xaxis12": {
         "anchor": "y12",
         "domain": [
          0.825,
          1.0
         ],
         "showgrid": true
        },
        "yaxis12": {
         "anchor": "x12",
         "domain": [
          0.43199999999999994,
          0.568
         ],
         "showgrid": true
        },
        "xaxis13": {
         "anchor": "y13",
         "domain": [
          0.0,
          0.175
         ],
         "showgrid": true
        },
        "yaxis13": {
         "anchor": "x13",
         "domain": [
          0.21599999999999997,
          0.352
         ],
         "showgrid": true
        },
        "xaxis14": {
         "anchor": "y14",
         "domain": [
          0.275,
          0.45
         ],
         "showgrid": true
        },
        "yaxis14": {
         "anchor": "x14",
         "domain": [
          0.21599999999999997,
          0.352
         ],
         "showgrid": true
        },
        "xaxis15": {
         "anchor": "y15",
         "domain": [
          0.55,
          0.7250000000000001
         ],
         "showgrid": true
        },
        "yaxis15": {
         "anchor": "x15",
         "domain": [
          0.21599999999999997,
          0.352
         ],
         "showgrid": true
        },
        "xaxis16": {
         "anchor": "y16",
         "domain": [
          0.825,
          1.0
         ],
         "showgrid": true
        },
        "yaxis16": {
         "anchor": "x16",
         "domain": [
          0.21599999999999997,
          0.352
         ],
         "showgrid": true
        },
        "xaxis17": {
         "anchor": "y17",
         "domain": [
          0.0,
          0.175
         ],
         "showgrid": true
        },
        "yaxis17": {
         "anchor": "x17",
         "domain": [
          0.0,
          0.13599999999999998
         ],
         "showgrid": true
        },
        "xaxis18": {
         "anchor": "y18",
         "domain": [
          0.275,
          0.45
         ],
         "showgrid": true
        },
        "yaxis18": {
         "anchor": "x18",
         "domain": [
          0.0,
          0.13599999999999998
         ],
         "showgrid": true
        },
        "xaxis19": {
         "anchor": "y19",
         "domain": [
          0.55,
          0.7250000000000001
         ],
         "showgrid": true
        },
        "yaxis19": {
         "anchor": "x19",
         "domain": [
          0.0,
          0.13599999999999998
         ],
         "showgrid": true
        },
        "xaxis20": {
         "anchor": "y20",
         "domain": [
          0.825,
          1.0
         ],
         "showgrid": true
        },
        "yaxis20": {
         "anchor": "x20",
         "domain": [
          0.0,
          0.13599999999999998
         ],
         "showgrid": true
        },
        "annotations": [
         {
          "font": {
           "size": 16
          },
          "showarrow": false,
          "text": "Topic 0",
          "x": 0.0875,
          "xanchor": "center",
          "xref": "paper",
          "y": 0.9999999999999999,
          "yanchor": "bottom",
          "yref": "paper"
         },
         {
          "font": {
           "size": 16
          },
          "showarrow": false,
          "text": "Topic 1",
          "x": 0.36250000000000004,
          "xanchor": "center",
          "xref": "paper",
          "y": 0.9999999999999999,
          "yanchor": "bottom",
          "yref": "paper"
         },
         {
          "font": {
           "size": 16
          },
          "showarrow": false,
          "text": "Topic 2",
          "x": 0.6375000000000001,
          "xanchor": "center",
          "xref": "paper",
          "y": 0.9999999999999999,
          "yanchor": "bottom",
          "yref": "paper"
         },
         {
          "font": {
           "size": 16
          },
          "showarrow": false,
          "text": "Topic 3",
          "x": 0.9125,
          "xanchor": "center",
          "xref": "paper",
          "y": 0.9999999999999999,
          "yanchor": "bottom",
          "yref": "paper"
         },
         {
          "font": {
           "size": 16
          },
          "showarrow": false,
          "text": "Topic 4",
          "x": 0.0875,
          "xanchor": "center",
          "xref": "paper",
          "y": 0.7839999999999999,
          "yanchor": "bottom",
          "yref": "paper"
         },
         {
          "font": {
           "size": 16
          },
          "showarrow": false,
          "text": "Topic 5",
          "x": 0.36250000000000004,
          "xanchor": "center",
          "xref": "paper",
          "y": 0.7839999999999999,
          "yanchor": "bottom",
          "yref": "paper"
         },
         {
          "font": {
           "size": 16
          },
          "showarrow": false,
          "text": "Topic 6",
          "x": 0.6375000000000001,
          "xanchor": "center",
          "xref": "paper",
          "y": 0.7839999999999999,
          "yanchor": "bottom",
          "yref": "paper"
         },
         {
          "font": {
           "size": 16
          },
          "showarrow": false,
          "text": "Topic 7",
          "x": 0.9125,
          "xanchor": "center",
          "xref": "paper",
          "y": 0.7839999999999999,
          "yanchor": "bottom",
          "yref": "paper"
         },
         {
          "font": {
           "size": 16
          },
          "showarrow": false,
          "text": "Topic 8",
          "x": 0.0875,
          "xanchor": "center",
          "xref": "paper",
          "y": 0.568,
          "yanchor": "bottom",
          "yref": "paper"
         },
         {
          "font": {
           "size": 16
          },
          "showarrow": false,
          "text": "Topic 9",
          "x": 0.36250000000000004,
          "xanchor": "center",
          "xref": "paper",
          "y": 0.568,
          "yanchor": "bottom",
          "yref": "paper"
         },
         {
          "font": {
           "size": 16
          },
          "showarrow": false,
          "text": "Topic 10",
          "x": 0.6375000000000001,
          "xanchor": "center",
          "xref": "paper",
          "y": 0.568,
          "yanchor": "bottom",
          "yref": "paper"
         },
         {
          "font": {
           "size": 16
          },
          "showarrow": false,
          "text": "Topic 11",
          "x": 0.9125,
          "xanchor": "center",
          "xref": "paper",
          "y": 0.568,
          "yanchor": "bottom",
          "yref": "paper"
         },
         {
          "font": {
           "size": 16
          },
          "showarrow": false,
          "text": "Topic 12",
          "x": 0.0875,
          "xanchor": "center",
          "xref": "paper",
          "y": 0.352,
          "yanchor": "bottom",
          "yref": "paper"
         },
         {
          "font": {
           "size": 16
          },
          "showarrow": false,
          "text": "Topic 13",
          "x": 0.36250000000000004,
          "xanchor": "center",
          "xref": "paper",
          "y": 0.352,
          "yanchor": "bottom",
          "yref": "paper"
         },
         {
          "font": {
           "size": 16
          },
          "showarrow": false,
          "text": "Topic 14",
          "x": 0.6375000000000001,
          "xanchor": "center",
          "xref": "paper",
          "y": 0.352,
          "yanchor": "bottom",
          "yref": "paper"
         },
         {
          "font": {
           "size": 16
          },
          "showarrow": false,
          "text": "Topic 15",
          "x": 0.9125,
          "xanchor": "center",
          "xref": "paper",
          "y": 0.352,
          "yanchor": "bottom",
          "yref": "paper"
         },
         {
          "font": {
           "size": 16
          },
          "showarrow": false,
          "text": "Topic 16",
          "x": 0.0875,
          "xanchor": "center",
          "xref": "paper",
          "y": 0.13599999999999998,
          "yanchor": "bottom",
          "yref": "paper"
         },
         {
          "font": {
           "size": 16
          },
          "showarrow": false,
          "text": "Topic 17",
          "x": 0.36250000000000004,
          "xanchor": "center",
          "xref": "paper",
          "y": 0.13599999999999998,
          "yanchor": "bottom",
          "yref": "paper"
         },
         {
          "font": {
           "size": 16
          },
          "showarrow": false,
          "text": "Topic 18",
          "x": 0.6375000000000001,
          "xanchor": "center",
          "xref": "paper",
          "y": 0.13599999999999998,
          "yanchor": "bottom",
          "yref": "paper"
         },
         {
          "font": {
           "size": 16
          },
          "showarrow": false,
          "text": "Topic 19",
          "x": 0.9125,
          "xanchor": "center",
          "xref": "paper",
          "y": 0.13599999999999998,
          "yanchor": "bottom",
          "yref": "paper"
         }
        ],
        "title": {
         "font": {
          "size": 22,
          "color": "Black"
         },
         "text": "Topic Word Scores",
         "x": 0.5,
         "xanchor": "center",
         "yanchor": "top"
        },
        "hoverlabel": {
         "font": {
          "size": 16,
          "family": "Rockwell"
         },
         "bgcolor": "white"
        },
        "showlegend": false,
        "width": 1120,
        "height": 1650
       },
       "config": {
        "plotlyServerURL": "https://plot.ly"
       }
      },
      "text/html": "<div>                            <div id=\"f8ae317e-9831-4d56-b34e-575044cf41b1\" class=\"plotly-graph-div\" style=\"height:1650px; width:1120px;\"></div>            <script type=\"text/javascript\">                require([\"plotly\"], function(Plotly) {                    window.PLOTLYENV=window.PLOTLYENV || {};                                    if (document.getElementById(\"f8ae317e-9831-4d56-b34e-575044cf41b1\")) {                    Plotly.newPlot(                        \"f8ae317e-9831-4d56-b34e-575044cf41b1\",                        [{\"marker\":{\"color\":\"#D55E00\"},\"orientation\":\"h\",\"x\":[0.009074282696778164,0.009766549370207458,0.01138633464690117,0.012875217179232635,0.06821379794480599],\"y\":[\"new  \",\"electricity  \",\"customer  \",\"contract  \",\"eon  \"],\"type\":\"bar\",\"xaxis\":\"x\",\"yaxis\":\"y\"},{\"marker\":{\"color\":\"#0072B2\"},\"orientation\":\"h\",\"x\":[0.011297765944069183,0.012962397092100555,0.013985007220333284,0.014770265333550888,0.08879415990454761],\"y\":[\"energy  \",\"customers  \",\"customer  \",\"years  \",\"essent  \"],\"type\":\"bar\",\"xaxis\":\"x2\",\"yaxis\":\"y2\"},{\"marker\":{\"color\":\"#CC79A7\"},\"orientation\":\"h\",\"x\":[0.019941318757901928,0.022764560702670057,0.02321527549699623,0.09179552303915366,0.11721935632416608],\"y\":[\"issued  \",\"payment  \",\"receive  \",\"invoices  \",\"invoice  \"],\"type\":\"bar\",\"xaxis\":\"x3\",\"yaxis\":\"y3\"},{\"marker\":{\"color\":\"#E69F00\"},\"orientation\":\"h\",\"x\":[0.0152217925186886,0.01678874152630711,0.017716640065851514,0.019040613993183342,0.0737884167714801],\"y\":[\"extend  \",\"contracts  \",\"new  \",\"agreement  \",\"contract  \"],\"type\":\"bar\",\"xaxis\":\"x4\",\"yaxis\":\"y4\"},{\"marker\":{\"color\":\"#56B4E9\"},\"orientation\":\"h\",\"x\":[0.026474833713631164,0.026661395515072323,0.028101013402034303,0.034207590051323365,0.03645996081860372],\"y\":[\"waiting  \",\"hold  \",\"service  \",\"minutes  \",\"phone  \"],\"type\":\"bar\",\"xaxis\":\"x5\",\"yaxis\":\"y5\"},{\"marker\":{\"color\":\"#009E73\"},\"orientation\":\"h\",\"x\":[0.0498727429028988,0.05614457612427784,0.057325594323971406,0.07265854720025185,0.07645771219241779],\"y\":[\"expensive  \",\"supplier  \",\"suppliers  \",\"prices  \",\"price  \"],\"type\":\"bar\",\"xaxis\":\"x6\",\"yaxis\":\"y6\"},{\"marker\":{\"color\":\"#F0E442\"},\"orientation\":\"h\",\"x\":[0.036564831597768535,0.04987510894872874,0.06032703646716969,0.06152166347293294,0.07229652328545064],\"y\":[\"administration  \",\"time  \",\"took  \",\"process  \",\"long  \"],\"type\":\"bar\",\"xaxis\":\"x7\",\"yaxis\":\"y7\"},{\"marker\":{\"color\":\"#D55E00\"},\"orientation\":\"h\",\"x\":[0.02099907677063214,0.022107535794857462,0.04495817735079886,0.06664909042965422,0.10280588805746876],\"y\":[\"smart  \",\"enter  \",\"readings  \",\"reading  \",\"meter  \"],\"type\":\"bar\",\"xaxis\":\"x8\",\"yaxis\":\"y8\"},{\"marker\":{\"color\":\"#0072B2\"},\"orientation\":\"h\",\"x\":[0.02722628957045127,0.029002843060175868,0.039883441368035066,0.04150960096074571,0.05777381319188168],\"y\":[\"pay  \",\"payments  \",\"euros  \",\"installment  \",\"payment  \"],\"type\":\"bar\",\"xaxis\":\"x9\",\"yaxis\":\"y9\"},{\"marker\":{\"color\":\"#CC79A7\"},\"orientation\":\"h\",\"x\":[0.02461231900742721,0.03316686394423154,0.03947805651623858,0.04420103718479725,0.11426227863467894],\"y\":[\"arrived  \",\"pay  \",\"high  \",\"billing  \",\"bills  \"],\"type\":\"bar\",\"xaxis\":\"x10\",\"yaxis\":\"y10\"},{\"marker\":{\"color\":\"#E69F00\"},\"orientation\":\"h\",\"x\":[0.05793335348650512,0.0731747410421935,0.0903653648519442,0.1405398042463479,0.24809661936975277],\"y\":[\"make  \",\"advice  \",\"recommending  \",\"recommendations  \",\"recommend  \"],\"type\":\"bar\",\"xaxis\":\"x11\",\"yaxis\":\"y11\"},{\"marker\":{\"color\":\"#56B4E9\"},\"orientation\":\"h\",\"x\":[0.05138663491299424,0.05273841727819662,0.05978459899796842,0.06951039173761596,0.11707714601997318],\"y\":[\"electricity  \",\"companies  \",\"recommend  \",\"supplier  \",\"energy  \"],\"type\":\"bar\",\"xaxis\":\"x12\",\"yaxis\":\"y12\"},{\"marker\":{\"color\":\"#009E73\"},\"orientation\":\"h\",\"x\":[0.032247691600692574,0.043230097589488224,0.06255374364850581,0.12088603128933958,0.15153365588808063],\"y\":[\"question  \",\"bot  \",\"robot  \",\"chatbot  \",\"chat  \"],\"type\":\"bar\",\"xaxis\":\"x13\",\"yaxis\":\"y13\"},{\"marker\":{\"color\":\"#F0E442\"},\"orientation\":\"h\",\"x\":[0.032789212824599116,0.03725690995577783,0.04790379775951499,0.10609183066394846,0.11274948422251427],\"y\":[\"outages  \",\"day  \",\"announced  \",\"outage  \",\"power  \"],\"type\":\"bar\",\"xaxis\":\"x14\",\"yaxis\":\"y14\"},{\"marker\":{\"color\":\"#D55E00\"},\"orientation\":\"h\",\"x\":[0.027761121166220138,0.03394838959272921,0.03874834246408076,0.13332405717231763,0.18190486461760066],\"y\":[\"working  \",\"slow  \",\"page  \",\"site  \",\"website  \"],\"type\":\"bar\",\"xaxis\":\"x15\",\"yaxis\":\"y15\"},{\"marker\":{\"color\":\"#0072B2\"},\"orientation\":\"h\",\"x\":[0.03608464636654003,0.03920072307917061,0.04307242672987933,0.05934343697602299,0.11533084623645186],\"y\":[\"discount  \",\"existing  \",\"regular  \",\"customer  \",\"customers  \"],\"type\":\"bar\",\"xaxis\":\"x16\",\"yaxis\":\"y16\"},{\"marker\":{\"color\":\"#CC79A7\"},\"orientation\":\"h\",\"x\":[0.14769296668696322,0.16854904194683762,0.17882687681434123,0.18775226518565347,0.20773517362186267],\"y\":[\"price  \",\"dissatisfaction  \",\"poorly  \",\"reduce  \",\"accessible  \"],\"type\":\"bar\",\"xaxis\":\"x17\",\"yaxis\":\"y17\"},{\"marker\":{\"color\":\"#E69F00\"},\"orientation\":\"h\",\"x\":[0.029916785941071847,0.04342008941120173,0.04361888263052806,0.11246839810262985,0.18633651244126795],\"y\":[\"treated  \",\"impersonal  \",\"bad  \",\"conversation  \",\"communication  \"],\"type\":\"bar\",\"xaxis\":\"x18\",\"yaxis\":\"y18\"},{\"marker\":{\"color\":\"#56B4E9\"},\"orientation\":\"h\",\"x\":[0.03390873682537188,0.034470476197632154,0.045166241310416466,0.05930425214150304,0.09131534642448716],\"y\":[\"mail  \",\"connect  \",\"notification  \",\"email  \",\"connection  \"],\"type\":\"bar\",\"xaxis\":\"x19\",\"yaxis\":\"y19\"},{\"marker\":{\"color\":\"#009E73\"},\"orientation\":\"h\",\"x\":[0.01772564537805878,0.018175996444640463,0.02111193927787997,0.02515874554062573,0.04979737857847082],\"y\":[\"energy  \",\"energiedirect  \",\"contract  \",\"electricity  \",\"gas  \"],\"type\":\"bar\",\"xaxis\":\"x20\",\"yaxis\":\"y20\"}],                        {\"template\":{\"data\":{\"barpolar\":[{\"marker\":{\"line\":{\"color\":\"white\",\"width\":0.5},\"pattern\":{\"fillmode\":\"overlay\",\"size\":10,\"solidity\":0.2}},\"type\":\"barpolar\"}],\"bar\":[{\"error_x\":{\"color\":\"#2a3f5f\"},\"error_y\":{\"color\":\"#2a3f5f\"},\"marker\":{\"line\":{\"color\":\"white\",\"width\":0.5},\"pattern\":{\"fillmode\":\"overlay\",\"size\":10,\"solidity\":0.2}},\"type\":\"bar\"}],\"carpet\":[{\"aaxis\":{\"endlinecolor\":\"#2a3f5f\",\"gridcolor\":\"#C8D4E3\",\"linecolor\":\"#C8D4E3\",\"minorgridcolor\":\"#C8D4E3\",\"startlinecolor\":\"#2a3f5f\"},\"baxis\":{\"endlinecolor\":\"#2a3f5f\",\"gridcolor\":\"#C8D4E3\",\"linecolor\":\"#C8D4E3\",\"minorgridcolor\":\"#C8D4E3\",\"startlinecolor\":\"#2a3f5f\"},\"type\":\"carpet\"}],\"choropleth\":[{\"colorbar\":{\"outlinewidth\":0,\"ticks\":\"\"},\"type\":\"choropleth\"}],\"contourcarpet\":[{\"colorbar\":{\"outlinewidth\":0,\"ticks\":\"\"},\"type\":\"contourcarpet\"}],\"contour\":[{\"colorbar\":{\"outlinewidth\":0,\"ticks\":\"\"},\"colorscale\":[[0.0,\"#0d0887\"],[0.1111111111111111,\"#46039f\"],[0.2222222222222222,\"#7201a8\"],[0.3333333333333333,\"#9c179e\"],[0.4444444444444444,\"#bd3786\"],[0.5555555555555556,\"#d8576b\"],[0.6666666666666666,\"#ed7953\"],[0.7777777777777778,\"#fb9f3a\"],[0.8888888888888888,\"#fdca26\"],[1.0,\"#f0f921\"]],\"type\":\"contour\"}],\"heatmapgl\":[{\"colorbar\":{\"outlinewidth\":0,\"ticks\":\"\"},\"colorscale\":[[0.0,\"#0d0887\"],[0.1111111111111111,\"#46039f\"],[0.2222222222222222,\"#7201a8\"],[0.3333333333333333,\"#9c179e\"],[0.4444444444444444,\"#bd3786\"],[0.5555555555555556,\"#d8576b\"],[0.6666666666666666,\"#ed7953\"],[0.7777777777777778,\"#fb9f3a\"],[0.8888888888888888,\"#fdca26\"],[1.0,\"#f0f921\"]],\"type\":\"heatmapgl\"}],\"heatmap\":[{\"colorbar\":{\"outlinewidth\":0,\"ticks\":\"\"},\"colorscale\":[[0.0,\"#0d0887\"],[0.1111111111111111,\"#46039f\"],[0.2222222222222222,\"#7201a8\"],[0.3333333333333333,\"#9c179e\"],[0.4444444444444444,\"#bd3786\"],[0.5555555555555556,\"#d8576b\"],[0.6666666666666666,\"#ed7953\"],[0.7777777777777778,\"#fb9f3a\"],[0.8888888888888888,\"#fdca26\"],[1.0,\"#f0f921\"]],\"type\":\"heatmap\"}],\"histogram2dcontour\":[{\"colorbar\":{\"outlinewidth\":0,\"ticks\":\"\"},\"colorscale\":[[0.0,\"#0d0887\"],[0.1111111111111111,\"#46039f\"],[0.2222222222222222,\"#7201a8\"],[0.3333333333333333,\"#9c179e\"],[0.4444444444444444,\"#bd3786\"],[0.5555555555555556,\"#d8576b\"],[0.6666666666666666,\"#ed7953\"],[0.7777777777777778,\"#fb9f3a\"],[0.8888888888888888,\"#fdca26\"],[1.0,\"#f0f921\"]],\"type\":\"histogram2dcontour\"}],\"histogram2d\":[{\"colorbar\":{\"outlinewidth\":0,\"ticks\":\"\"},\"colorscale\":[[0.0,\"#0d0887\"],[0.1111111111111111,\"#46039f\"],[0.2222222222222222,\"#7201a8\"],[0.3333333333333333,\"#9c179e\"],[0.4444444444444444,\"#bd3786\"],[0.5555555555555556,\"#d8576b\"],[0.6666666666666666,\"#ed7953\"],[0.7777777777777778,\"#fb9f3a\"],[0.8888888888888888,\"#fdca26\"],[1.0,\"#f0f921\"]],\"type\":\"histogram2d\"}],\"histogram\":[{\"marker\":{\"pattern\":{\"fillmode\":\"overlay\",\"size\":10,\"solidity\":0.2}},\"type\":\"histogram\"}],\"mesh3d\":[{\"colorbar\":{\"outlinewidth\":0,\"ticks\":\"\"},\"type\":\"mesh3d\"}],\"parcoords\":[{\"line\":{\"colorbar\":{\"outlinewidth\":0,\"ticks\":\"\"}},\"type\":\"parcoords\"}],\"pie\":[{\"automargin\":true,\"type\":\"pie\"}],\"scatter3d\":[{\"line\":{\"colorbar\":{\"outlinewidth\":0,\"ticks\":\"\"}},\"marker\":{\"colorbar\":{\"outlinewidth\":0,\"ticks\":\"\"}},\"type\":\"scatter3d\"}],\"scattercarpet\":[{\"marker\":{\"colorbar\":{\"outlinewidth\":0,\"ticks\":\"\"}},\"type\":\"scattercarpet\"}],\"scattergeo\":[{\"marker\":{\"colorbar\":{\"outlinewidth\":0,\"ticks\":\"\"}},\"type\":\"scattergeo\"}],\"scattergl\":[{\"marker\":{\"colorbar\":{\"outlinewidth\":0,\"ticks\":\"\"}},\"type\":\"scattergl\"}],\"scattermapbox\":[{\"marker\":{\"colorbar\":{\"outlinewidth\":0,\"ticks\":\"\"}},\"type\":\"scattermapbox\"}],\"scatterpolargl\":[{\"marker\":{\"colorbar\":{\"outlinewidth\":0,\"ticks\":\"\"}},\"type\":\"scatterpolargl\"}],\"scatterpolar\":[{\"marker\":{\"colorbar\":{\"outlinewidth\":0,\"ticks\":\"\"}},\"type\":\"scatterpolar\"}],\"scatter\":[{\"fillpattern\":{\"fillmode\":\"overlay\",\"size\":10,\"solidity\":0.2},\"type\":\"scatter\"}],\"scatterternary\":[{\"marker\":{\"colorbar\":{\"outlinewidth\":0,\"ticks\":\"\"}},\"type\":\"scatterternary\"}],\"surface\":[{\"colorbar\":{\"outlinewidth\":0,\"ticks\":\"\"},\"colorscale\":[[0.0,\"#0d0887\"],[0.1111111111111111,\"#46039f\"],[0.2222222222222222,\"#7201a8\"],[0.3333333333333333,\"#9c179e\"],[0.4444444444444444,\"#bd3786\"],[0.5555555555555556,\"#d8576b\"],[0.6666666666666666,\"#ed7953\"],[0.7777777777777778,\"#fb9f3a\"],[0.8888888888888888,\"#fdca26\"],[1.0,\"#f0f921\"]],\"type\":\"surface\"}],\"table\":[{\"cells\":{\"fill\":{\"color\":\"#EBF0F8\"},\"line\":{\"color\":\"white\"}},\"header\":{\"fill\":{\"color\":\"#C8D4E3\"},\"line\":{\"color\":\"white\"}},\"type\":\"table\"}]},\"layout\":{\"annotationdefaults\":{\"arrowcolor\":\"#2a3f5f\",\"arrowhead\":0,\"arrowwidth\":1},\"autotypenumbers\":\"strict\",\"coloraxis\":{\"colorbar\":{\"outlinewidth\":0,\"ticks\":\"\"}},\"colorscale\":{\"diverging\":[[0,\"#8e0152\"],[0.1,\"#c51b7d\"],[0.2,\"#de77ae\"],[0.3,\"#f1b6da\"],[0.4,\"#fde0ef\"],[0.5,\"#f7f7f7\"],[0.6,\"#e6f5d0\"],[0.7,\"#b8e186\"],[0.8,\"#7fbc41\"],[0.9,\"#4d9221\"],[1,\"#276419\"]],\"sequential\":[[0.0,\"#0d0887\"],[0.1111111111111111,\"#46039f\"],[0.2222222222222222,\"#7201a8\"],[0.3333333333333333,\"#9c179e\"],[0.4444444444444444,\"#bd3786\"],[0.5555555555555556,\"#d8576b\"],[0.6666666666666666,\"#ed7953\"],[0.7777777777777778,\"#fb9f3a\"],[0.8888888888888888,\"#fdca26\"],[1.0,\"#f0f921\"]],\"sequentialminus\":[[0.0,\"#0d0887\"],[0.1111111111111111,\"#46039f\"],[0.2222222222222222,\"#7201a8\"],[0.3333333333333333,\"#9c179e\"],[0.4444444444444444,\"#bd3786\"],[0.5555555555555556,\"#d8576b\"],[0.6666666666666666,\"#ed7953\"],[0.7777777777777778,\"#fb9f3a\"],[0.8888888888888888,\"#fdca26\"],[1.0,\"#f0f921\"]]},\"colorway\":[\"#636efa\",\"#EF553B\",\"#00cc96\",\"#ab63fa\",\"#FFA15A\",\"#19d3f3\",\"#FF6692\",\"#B6E880\",\"#FF97FF\",\"#FECB52\"],\"font\":{\"color\":\"#2a3f5f\"},\"geo\":{\"bgcolor\":\"white\",\"lakecolor\":\"white\",\"landcolor\":\"white\",\"showlakes\":true,\"showland\":true,\"subunitcolor\":\"#C8D4E3\"},\"hoverlabel\":{\"align\":\"left\"},\"hovermode\":\"closest\",\"mapbox\":{\"style\":\"light\"},\"paper_bgcolor\":\"white\",\"plot_bgcolor\":\"white\",\"polar\":{\"angularaxis\":{\"gridcolor\":\"#EBF0F8\",\"linecolor\":\"#EBF0F8\",\"ticks\":\"\"},\"bgcolor\":\"white\",\"radialaxis\":{\"gridcolor\":\"#EBF0F8\",\"linecolor\":\"#EBF0F8\",\"ticks\":\"\"}},\"scene\":{\"xaxis\":{\"backgroundcolor\":\"white\",\"gridcolor\":\"#DFE8F3\",\"gridwidth\":2,\"linecolor\":\"#EBF0F8\",\"showbackground\":true,\"ticks\":\"\",\"zerolinecolor\":\"#EBF0F8\"},\"yaxis\":{\"backgroundcolor\":\"white\",\"gridcolor\":\"#DFE8F3\",\"gridwidth\":2,\"linecolor\":\"#EBF0F8\",\"showbackground\":true,\"ticks\":\"\",\"zerolinecolor\":\"#EBF0F8\"},\"zaxis\":{\"backgroundcolor\":\"white\",\"gridcolor\":\"#DFE8F3\",\"gridwidth\":2,\"linecolor\":\"#EBF0F8\",\"showbackground\":true,\"ticks\":\"\",\"zerolinecolor\":\"#EBF0F8\"}},\"shapedefaults\":{\"line\":{\"color\":\"#2a3f5f\"}},\"ternary\":{\"aaxis\":{\"gridcolor\":\"#DFE8F3\",\"linecolor\":\"#A2B1C6\",\"ticks\":\"\"},\"baxis\":{\"gridcolor\":\"#DFE8F3\",\"linecolor\":\"#A2B1C6\",\"ticks\":\"\"},\"bgcolor\":\"white\",\"caxis\":{\"gridcolor\":\"#DFE8F3\",\"linecolor\":\"#A2B1C6\",\"ticks\":\"\"}},\"title\":{\"x\":0.05},\"xaxis\":{\"automargin\":true,\"gridcolor\":\"#EBF0F8\",\"linecolor\":\"#EBF0F8\",\"ticks\":\"\",\"title\":{\"standoff\":15},\"zerolinecolor\":\"#EBF0F8\",\"zerolinewidth\":2},\"yaxis\":{\"automargin\":true,\"gridcolor\":\"#EBF0F8\",\"linecolor\":\"#EBF0F8\",\"ticks\":\"\",\"title\":{\"standoff\":15},\"zerolinecolor\":\"#EBF0F8\",\"zerolinewidth\":2}}},\"xaxis\":{\"anchor\":\"y\",\"domain\":[0.0,0.175],\"showgrid\":true},\"yaxis\":{\"anchor\":\"x\",\"domain\":[0.8639999999999999,0.9999999999999999],\"showgrid\":true},\"xaxis2\":{\"anchor\":\"y2\",\"domain\":[0.275,0.45],\"showgrid\":true},\"yaxis2\":{\"anchor\":\"x2\",\"domain\":[0.8639999999999999,0.9999999999999999],\"showgrid\":true},\"xaxis3\":{\"anchor\":\"y3\",\"domain\":[0.55,0.7250000000000001],\"showgrid\":true},\"yaxis3\":{\"anchor\":\"x3\",\"domain\":[0.8639999999999999,0.9999999999999999],\"showgrid\":true},\"xaxis4\":{\"anchor\":\"y4\",\"domain\":[0.825,1.0],\"showgrid\":true},\"yaxis4\":{\"anchor\":\"x4\",\"domain\":[0.8639999999999999,0.9999999999999999],\"showgrid\":true},\"xaxis5\":{\"anchor\":\"y5\",\"domain\":[0.0,0.175],\"showgrid\":true},\"yaxis5\":{\"anchor\":\"x5\",\"domain\":[0.6479999999999999,0.7839999999999999],\"showgrid\":true},\"xaxis6\":{\"anchor\":\"y6\",\"domain\":[0.275,0.45],\"showgrid\":true},\"yaxis6\":{\"anchor\":\"x6\",\"domain\":[0.6479999999999999,0.7839999999999999],\"showgrid\":true},\"xaxis7\":{\"anchor\":\"y7\",\"domain\":[0.55,0.7250000000000001],\"showgrid\":true},\"yaxis7\":{\"anchor\":\"x7\",\"domain\":[0.6479999999999999,0.7839999999999999],\"showgrid\":true},\"xaxis8\":{\"anchor\":\"y8\",\"domain\":[0.825,1.0],\"showgrid\":true},\"yaxis8\":{\"anchor\":\"x8\",\"domain\":[0.6479999999999999,0.7839999999999999],\"showgrid\":true},\"xaxis9\":{\"anchor\":\"y9\",\"domain\":[0.0,0.175],\"showgrid\":true},\"yaxis9\":{\"anchor\":\"x9\",\"domain\":[0.43199999999999994,0.568],\"showgrid\":true},\"xaxis10\":{\"anchor\":\"y10\",\"domain\":[0.275,0.45],\"showgrid\":true},\"yaxis10\":{\"anchor\":\"x10\",\"domain\":[0.43199999999999994,0.568],\"showgrid\":true},\"xaxis11\":{\"anchor\":\"y11\",\"domain\":[0.55,0.7250000000000001],\"showgrid\":true},\"yaxis11\":{\"anchor\":\"x11\",\"domain\":[0.43199999999999994,0.568],\"showgrid\":true},\"xaxis12\":{\"anchor\":\"y12\",\"domain\":[0.825,1.0],\"showgrid\":true},\"yaxis12\":{\"anchor\":\"x12\",\"domain\":[0.43199999999999994,0.568],\"showgrid\":true},\"xaxis13\":{\"anchor\":\"y13\",\"domain\":[0.0,0.175],\"showgrid\":true},\"yaxis13\":{\"anchor\":\"x13\",\"domain\":[0.21599999999999997,0.352],\"showgrid\":true},\"xaxis14\":{\"anchor\":\"y14\",\"domain\":[0.275,0.45],\"showgrid\":true},\"yaxis14\":{\"anchor\":\"x14\",\"domain\":[0.21599999999999997,0.352],\"showgrid\":true},\"xaxis15\":{\"anchor\":\"y15\",\"domain\":[0.55,0.7250000000000001],\"showgrid\":true},\"yaxis15\":{\"anchor\":\"x15\",\"domain\":[0.21599999999999997,0.352],\"showgrid\":true},\"xaxis16\":{\"anchor\":\"y16\",\"domain\":[0.825,1.0],\"showgrid\":true},\"yaxis16\":{\"anchor\":\"x16\",\"domain\":[0.21599999999999997,0.352],\"showgrid\":true},\"xaxis17\":{\"anchor\":\"y17\",\"domain\":[0.0,0.175],\"showgrid\":true},\"yaxis17\":{\"anchor\":\"x17\",\"domain\":[0.0,0.13599999999999998],\"showgrid\":true},\"xaxis18\":{\"anchor\":\"y18\",\"domain\":[0.275,0.45],\"showgrid\":true},\"yaxis18\":{\"anchor\":\"x18\",\"domain\":[0.0,0.13599999999999998],\"showgrid\":true},\"xaxis19\":{\"anchor\":\"y19\",\"domain\":[0.55,0.7250000000000001],\"showgrid\":true},\"yaxis19\":{\"anchor\":\"x19\",\"domain\":[0.0,0.13599999999999998],\"showgrid\":true},\"xaxis20\":{\"anchor\":\"y20\",\"domain\":[0.825,1.0],\"showgrid\":true},\"yaxis20\":{\"anchor\":\"x20\",\"domain\":[0.0,0.13599999999999998],\"showgrid\":true},\"annotations\":[{\"font\":{\"size\":16},\"showarrow\":false,\"text\":\"Topic 0\",\"x\":0.0875,\"xanchor\":\"center\",\"xref\":\"paper\",\"y\":0.9999999999999999,\"yanchor\":\"bottom\",\"yref\":\"paper\"},{\"font\":{\"size\":16},\"showarrow\":false,\"text\":\"Topic 1\",\"x\":0.36250000000000004,\"xanchor\":\"center\",\"xref\":\"paper\",\"y\":0.9999999999999999,\"yanchor\":\"bottom\",\"yref\":\"paper\"},{\"font\":{\"size\":16},\"showarrow\":false,\"text\":\"Topic 2\",\"x\":0.6375000000000001,\"xanchor\":\"center\",\"xref\":\"paper\",\"y\":0.9999999999999999,\"yanchor\":\"bottom\",\"yref\":\"paper\"},{\"font\":{\"size\":16},\"showarrow\":false,\"text\":\"Topic 3\",\"x\":0.9125,\"xanchor\":\"center\",\"xref\":\"paper\",\"y\":0.9999999999999999,\"yanchor\":\"bottom\",\"yref\":\"paper\"},{\"font\":{\"size\":16},\"showarrow\":false,\"text\":\"Topic 4\",\"x\":0.0875,\"xanchor\":\"center\",\"xref\":\"paper\",\"y\":0.7839999999999999,\"yanchor\":\"bottom\",\"yref\":\"paper\"},{\"font\":{\"size\":16},\"showarrow\":false,\"text\":\"Topic 5\",\"x\":0.36250000000000004,\"xanchor\":\"center\",\"xref\":\"paper\",\"y\":0.7839999999999999,\"yanchor\":\"bottom\",\"yref\":\"paper\"},{\"font\":{\"size\":16},\"showarrow\":false,\"text\":\"Topic 6\",\"x\":0.6375000000000001,\"xanchor\":\"center\",\"xref\":\"paper\",\"y\":0.7839999999999999,\"yanchor\":\"bottom\",\"yref\":\"paper\"},{\"font\":{\"size\":16},\"showarrow\":false,\"text\":\"Topic 7\",\"x\":0.9125,\"xanchor\":\"center\",\"xref\":\"paper\",\"y\":0.7839999999999999,\"yanchor\":\"bottom\",\"yref\":\"paper\"},{\"font\":{\"size\":16},\"showarrow\":false,\"text\":\"Topic 8\",\"x\":0.0875,\"xanchor\":\"center\",\"xref\":\"paper\",\"y\":0.568,\"yanchor\":\"bottom\",\"yref\":\"paper\"},{\"font\":{\"size\":16},\"showarrow\":false,\"text\":\"Topic 9\",\"x\":0.36250000000000004,\"xanchor\":\"center\",\"xref\":\"paper\",\"y\":0.568,\"yanchor\":\"bottom\",\"yref\":\"paper\"},{\"font\":{\"size\":16},\"showarrow\":false,\"text\":\"Topic 10\",\"x\":0.6375000000000001,\"xanchor\":\"center\",\"xref\":\"paper\",\"y\":0.568,\"yanchor\":\"bottom\",\"yref\":\"paper\"},{\"font\":{\"size\":16},\"showarrow\":false,\"text\":\"Topic 11\",\"x\":0.9125,\"xanchor\":\"center\",\"xref\":\"paper\",\"y\":0.568,\"yanchor\":\"bottom\",\"yref\":\"paper\"},{\"font\":{\"size\":16},\"showarrow\":false,\"text\":\"Topic 12\",\"x\":0.0875,\"xanchor\":\"center\",\"xref\":\"paper\",\"y\":0.352,\"yanchor\":\"bottom\",\"yref\":\"paper\"},{\"font\":{\"size\":16},\"showarrow\":false,\"text\":\"Topic 13\",\"x\":0.36250000000000004,\"xanchor\":\"center\",\"xref\":\"paper\",\"y\":0.352,\"yanchor\":\"bottom\",\"yref\":\"paper\"},{\"font\":{\"size\":16},\"showarrow\":false,\"text\":\"Topic 14\",\"x\":0.6375000000000001,\"xanchor\":\"center\",\"xref\":\"paper\",\"y\":0.352,\"yanchor\":\"bottom\",\"yref\":\"paper\"},{\"font\":{\"size\":16},\"showarrow\":false,\"text\":\"Topic 15\",\"x\":0.9125,\"xanchor\":\"center\",\"xref\":\"paper\",\"y\":0.352,\"yanchor\":\"bottom\",\"yref\":\"paper\"},{\"font\":{\"size\":16},\"showarrow\":false,\"text\":\"Topic 16\",\"x\":0.0875,\"xanchor\":\"center\",\"xref\":\"paper\",\"y\":0.13599999999999998,\"yanchor\":\"bottom\",\"yref\":\"paper\"},{\"font\":{\"size\":16},\"showarrow\":false,\"text\":\"Topic 17\",\"x\":0.36250000000000004,\"xanchor\":\"center\",\"xref\":\"paper\",\"y\":0.13599999999999998,\"yanchor\":\"bottom\",\"yref\":\"paper\"},{\"font\":{\"size\":16},\"showarrow\":false,\"text\":\"Topic 18\",\"x\":0.6375000000000001,\"xanchor\":\"center\",\"xref\":\"paper\",\"y\":0.13599999999999998,\"yanchor\":\"bottom\",\"yref\":\"paper\"},{\"font\":{\"size\":16},\"showarrow\":false,\"text\":\"Topic 19\",\"x\":0.9125,\"xanchor\":\"center\",\"xref\":\"paper\",\"y\":0.13599999999999998,\"yanchor\":\"bottom\",\"yref\":\"paper\"}],\"title\":{\"font\":{\"size\":22,\"color\":\"Black\"},\"text\":\"Topic Word Scores\",\"x\":0.5,\"xanchor\":\"center\",\"yanchor\":\"top\"},\"hoverlabel\":{\"font\":{\"size\":16,\"family\":\"Rockwell\"},\"bgcolor\":\"white\"},\"showlegend\":false,\"width\":1120,\"height\":1650},                        {\"responsive\": true}                    ).then(function(){\n                            \nvar gd = document.getElementById('f8ae317e-9831-4d56-b34e-575044cf41b1');\nvar x = new MutationObserver(function (mutations, observer) {{\n        var display = window.getComputedStyle(gd).display;\n        if (!display || display === 'none') {{\n            console.log([gd, 'removed!']);\n            Plotly.purge(gd);\n            observer.disconnect();\n        }}\n}});\n\n// Listen for the removal of the full notebook cells\nvar notebookContainer = gd.closest('#notebook-container');\nif (notebookContainer) {{\n    x.observe(notebookContainer, {childList: true});\n}}\n\n// Listen for the clearing of the current output cell\nvar outputEl = gd.closest('.output');\nif (outputEl) {{\n    x.observe(outputEl, {childList: true});\n}}\n\n                        })                };                });            </script>        </div>"
     },
     "metadata": {},
     "output_type": "display_data"
    }
   ],
   "source": [
    "barchart_bert = model_bert.visualize_barchart(width=280, height=330, top_n_topics=20, n_words=5)\n",
    "barchart_bert"
   ],
   "metadata": {
    "collapsed": false,
    "ExecuteTime": {
     "end_time": "2024-02-08T19:10:18.843094Z",
     "start_time": "2024-02-08T19:10:18.783203Z"
    }
   }
  },
  {
   "cell_type": "code",
   "execution_count": 281,
   "outputs": [],
   "source": [
    "barchart_bert.write_html('barchart_bertopic.html')"
   ],
   "metadata": {
    "collapsed": false,
    "ExecuteTime": {
     "end_time": "2024-02-08T19:10:18.863508Z",
     "start_time": "2024-02-08T19:10:18.844415Z"
    }
   }
  },
  {
   "cell_type": "code",
   "execution_count": 289,
   "outputs": [
    {
     "data": {
      "application/vnd.plotly.v1+json": {
       "data": [
        {
         "marker": {
          "color": "#D55E00"
         },
         "orientation": "h",
         "x": [
          0.009074282696778164,
          0.009766549370207458,
          0.01138633464690117,
          0.012875217179232635,
          0.06821379794480599
         ],
         "y": [
          "new  ",
          "electricity  ",
          "customer  ",
          "contract  ",
          "eon  "
         ],
         "type": "bar",
         "xaxis": "x",
         "yaxis": "y"
        },
        {
         "marker": {
          "color": "#0072B2"
         },
         "orientation": "h",
         "x": [
          0.011297765944069183,
          0.012962397092100555,
          0.013985007220333284,
          0.014770265333550888,
          0.08879415990454761
         ],
         "y": [
          "energy  ",
          "customers  ",
          "customer  ",
          "years  ",
          "essent  "
         ],
         "type": "bar",
         "xaxis": "x2",
         "yaxis": "y2"
        },
        {
         "marker": {
          "color": "#CC79A7"
         },
         "orientation": "h",
         "x": [
          0.019941318757901928,
          0.022764560702670057,
          0.02321527549699623,
          0.09179552303915366,
          0.11721935632416608
         ],
         "y": [
          "issued  ",
          "payment  ",
          "receive  ",
          "invoices  ",
          "invoice  "
         ],
         "type": "bar",
         "xaxis": "x3",
         "yaxis": "y3"
        },
        {
         "marker": {
          "color": "#E69F00"
         },
         "orientation": "h",
         "x": [
          0.0152217925186886,
          0.01678874152630711,
          0.017716640065851514,
          0.019040613993183342,
          0.0737884167714801
         ],
         "y": [
          "extend  ",
          "contracts  ",
          "new  ",
          "agreement  ",
          "contract  "
         ],
         "type": "bar",
         "xaxis": "x4",
         "yaxis": "y4"
        },
        {
         "marker": {
          "color": "#56B4E9"
         },
         "orientation": "h",
         "x": [
          0.026474833713631164,
          0.026661395515072323,
          0.028101013402034303,
          0.034207590051323365,
          0.03645996081860372
         ],
         "y": [
          "waiting  ",
          "hold  ",
          "service  ",
          "minutes  ",
          "phone  "
         ],
         "type": "bar",
         "xaxis": "x5",
         "yaxis": "y5"
        },
        {
         "marker": {
          "color": "#009E73"
         },
         "orientation": "h",
         "x": [
          0.0498727429028988,
          0.05614457612427784,
          0.057325594323971406,
          0.07265854720025185,
          0.07645771219241779
         ],
         "y": [
          "expensive  ",
          "supplier  ",
          "suppliers  ",
          "prices  ",
          "price  "
         ],
         "type": "bar",
         "xaxis": "x6",
         "yaxis": "y6"
        },
        {
         "marker": {
          "color": "#F0E442"
         },
         "orientation": "h",
         "x": [
          0.036564831597768535,
          0.04987510894872874,
          0.06032703646716969,
          0.06152166347293294,
          0.07229652328545064
         ],
         "y": [
          "administration  ",
          "time  ",
          "took  ",
          "process  ",
          "long  "
         ],
         "type": "bar",
         "xaxis": "x7",
         "yaxis": "y7"
        },
        {
         "marker": {
          "color": "#D55E00"
         },
         "orientation": "h",
         "x": [
          0.02099907677063214,
          0.022107535794857462,
          0.04495817735079886,
          0.06664909042965422,
          0.10280588805746876
         ],
         "y": [
          "smart  ",
          "enter  ",
          "readings  ",
          "reading  ",
          "meter  "
         ],
         "type": "bar",
         "xaxis": "x8",
         "yaxis": "y8"
        },
        {
         "marker": {
          "color": "#0072B2"
         },
         "orientation": "h",
         "x": [
          0.02722628957045127,
          0.029002843060175868,
          0.039883441368035066,
          0.04150960096074571,
          0.05777381319188168
         ],
         "y": [
          "pay  ",
          "payments  ",
          "euros  ",
          "installment  ",
          "payment  "
         ],
         "type": "bar",
         "xaxis": "x9",
         "yaxis": "y9"
        },
        {
         "marker": {
          "color": "#CC79A7"
         },
         "orientation": "h",
         "x": [
          0.02461231900742721,
          0.03316686394423154,
          0.03947805651623858,
          0.04420103718479725,
          0.11426227863467894
         ],
         "y": [
          "arrived  ",
          "pay  ",
          "high  ",
          "billing  ",
          "bills  "
         ],
         "type": "bar",
         "xaxis": "x10",
         "yaxis": "y10"
        },
        {
         "marker": {
          "color": "#E69F00"
         },
         "orientation": "h",
         "x": [
          0.05793335348650512,
          0.0731747410421935,
          0.0903653648519442,
          0.1405398042463479,
          0.24809661936975277
         ],
         "y": [
          "make  ",
          "advice  ",
          "recommending  ",
          "recommendations  ",
          "recommend  "
         ],
         "type": "bar",
         "xaxis": "x11",
         "yaxis": "y11"
        },
        {
         "marker": {
          "color": "#56B4E9"
         },
         "orientation": "h",
         "x": [
          0.05138663491299424,
          0.05273841727819662,
          0.05978459899796842,
          0.06951039173761596,
          0.11707714601997318
         ],
         "y": [
          "electricity  ",
          "companies  ",
          "recommend  ",
          "supplier  ",
          "energy  "
         ],
         "type": "bar",
         "xaxis": "x12",
         "yaxis": "y12"
        },
        {
         "marker": {
          "color": "#009E73"
         },
         "orientation": "h",
         "x": [
          0.032247691600692574,
          0.043230097589488224,
          0.06255374364850581,
          0.12088603128933958,
          0.15153365588808063
         ],
         "y": [
          "question  ",
          "bot  ",
          "robot  ",
          "chatbot  ",
          "chat  "
         ],
         "type": "bar",
         "xaxis": "x13",
         "yaxis": "y13"
        },
        {
         "marker": {
          "color": "#F0E442"
         },
         "orientation": "h",
         "x": [
          0.032789212824599116,
          0.03725690995577783,
          0.04790379775951499,
          0.10609183066394846,
          0.11274948422251427
         ],
         "y": [
          "outages  ",
          "day  ",
          "announced  ",
          "outage  ",
          "power  "
         ],
         "type": "bar",
         "xaxis": "x14",
         "yaxis": "y14"
        },
        {
         "marker": {
          "color": "#D55E00"
         },
         "orientation": "h",
         "x": [
          0.027761121166220138,
          0.03394838959272921,
          0.03874834246408076,
          0.13332405717231763,
          0.18190486461760066
         ],
         "y": [
          "working  ",
          "slow  ",
          "page  ",
          "site  ",
          "website  "
         ],
         "type": "bar",
         "xaxis": "x15",
         "yaxis": "y15"
        },
        {
         "marker": {
          "color": "#0072B2"
         },
         "orientation": "h",
         "x": [
          0.03608464636654003,
          0.03920072307917061,
          0.04307242672987933,
          0.05934343697602299,
          0.11533084623645186
         ],
         "y": [
          "discount  ",
          "existing  ",
          "regular  ",
          "customer  ",
          "customers  "
         ],
         "type": "bar",
         "xaxis": "x16",
         "yaxis": "y16"
        },
        {
         "marker": {
          "color": "#CC79A7"
         },
         "orientation": "h",
         "x": [
          0.14769296668696322,
          0.16854904194683762,
          0.17882687681434123,
          0.18775226518565347,
          0.20773517362186267
         ],
         "y": [
          "price  ",
          "dissatisfaction  ",
          "poorly  ",
          "reduce  ",
          "accessible  "
         ],
         "type": "bar",
         "xaxis": "x17",
         "yaxis": "y17"
        },
        {
         "marker": {
          "color": "#E69F00"
         },
         "orientation": "h",
         "x": [
          0.029916785941071847,
          0.04342008941120173,
          0.04361888263052806,
          0.11246839810262985,
          0.18633651244126795
         ],
         "y": [
          "treated  ",
          "impersonal  ",
          "bad  ",
          "conversation  ",
          "communication  "
         ],
         "type": "bar",
         "xaxis": "x18",
         "yaxis": "y18"
        },
        {
         "marker": {
          "color": "#56B4E9"
         },
         "orientation": "h",
         "x": [
          0.03390873682537188,
          0.034470476197632154,
          0.045166241310416466,
          0.05930425214150304,
          0.09131534642448716
         ],
         "y": [
          "mail  ",
          "connect  ",
          "notification  ",
          "email  ",
          "connection  "
         ],
         "type": "bar",
         "xaxis": "x19",
         "yaxis": "y19"
        },
        {
         "marker": {
          "color": "#009E73"
         },
         "orientation": "h",
         "x": [
          0.01772564537805878,
          0.018175996444640463,
          0.02111193927787997,
          0.02515874554062573,
          0.04979737857847082
         ],
         "y": [
          "energy  ",
          "energiedirect  ",
          "contract  ",
          "electricity  ",
          "gas  "
         ],
         "type": "bar",
         "xaxis": "x20",
         "yaxis": "y20"
        }
       ],
       "layout": {
        "template": {
         "data": {
          "barpolar": [
           {
            "marker": {
             "line": {
              "color": "white",
              "width": 0.5
             },
             "pattern": {
              "fillmode": "overlay",
              "size": 10,
              "solidity": 0.2
             }
            },
            "type": "barpolar"
           }
          ],
          "bar": [
           {
            "error_x": {
             "color": "#2a3f5f"
            },
            "error_y": {
             "color": "#2a3f5f"
            },
            "marker": {
             "line": {
              "color": "white",
              "width": 0.5
             },
             "pattern": {
              "fillmode": "overlay",
              "size": 10,
              "solidity": 0.2
             }
            },
            "type": "bar"
           }
          ],
          "carpet": [
           {
            "aaxis": {
             "endlinecolor": "#2a3f5f",
             "gridcolor": "#C8D4E3",
             "linecolor": "#C8D4E3",
             "minorgridcolor": "#C8D4E3",
             "startlinecolor": "#2a3f5f"
            },
            "baxis": {
             "endlinecolor": "#2a3f5f",
             "gridcolor": "#C8D4E3",
             "linecolor": "#C8D4E3",
             "minorgridcolor": "#C8D4E3",
             "startlinecolor": "#2a3f5f"
            },
            "type": "carpet"
           }
          ],
          "choropleth": [
           {
            "colorbar": {
             "outlinewidth": 0,
             "ticks": ""
            },
            "type": "choropleth"
           }
          ],
          "contourcarpet": [
           {
            "colorbar": {
             "outlinewidth": 0,
             "ticks": ""
            },
            "type": "contourcarpet"
           }
          ],
          "contour": [
           {
            "colorbar": {
             "outlinewidth": 0,
             "ticks": ""
            },
            "colorscale": [
             [
              0.0,
              "#0d0887"
             ],
             [
              0.1111111111111111,
              "#46039f"
             ],
             [
              0.2222222222222222,
              "#7201a8"
             ],
             [
              0.3333333333333333,
              "#9c179e"
             ],
             [
              0.4444444444444444,
              "#bd3786"
             ],
             [
              0.5555555555555556,
              "#d8576b"
             ],
             [
              0.6666666666666666,
              "#ed7953"
             ],
             [
              0.7777777777777778,
              "#fb9f3a"
             ],
             [
              0.8888888888888888,
              "#fdca26"
             ],
             [
              1.0,
              "#f0f921"
             ]
            ],
            "type": "contour"
           }
          ],
          "heatmapgl": [
           {
            "colorbar": {
             "outlinewidth": 0,
             "ticks": ""
            },
            "colorscale": [
             [
              0.0,
              "#0d0887"
             ],
             [
              0.1111111111111111,
              "#46039f"
             ],
             [
              0.2222222222222222,
              "#7201a8"
             ],
             [
              0.3333333333333333,
              "#9c179e"
             ],
             [
              0.4444444444444444,
              "#bd3786"
             ],
             [
              0.5555555555555556,
              "#d8576b"
             ],
             [
              0.6666666666666666,
              "#ed7953"
             ],
             [
              0.7777777777777778,
              "#fb9f3a"
             ],
             [
              0.8888888888888888,
              "#fdca26"
             ],
             [
              1.0,
              "#f0f921"
             ]
            ],
            "type": "heatmapgl"
           }
          ],
          "heatmap": [
           {
            "colorbar": {
             "outlinewidth": 0,
             "ticks": ""
            },
            "colorscale": [
             [
              0.0,
              "#0d0887"
             ],
             [
              0.1111111111111111,
              "#46039f"
             ],
             [
              0.2222222222222222,
              "#7201a8"
             ],
             [
              0.3333333333333333,
              "#9c179e"
             ],
             [
              0.4444444444444444,
              "#bd3786"
             ],
             [
              0.5555555555555556,
              "#d8576b"
             ],
             [
              0.6666666666666666,
              "#ed7953"
             ],
             [
              0.7777777777777778,
              "#fb9f3a"
             ],
             [
              0.8888888888888888,
              "#fdca26"
             ],
             [
              1.0,
              "#f0f921"
             ]
            ],
            "type": "heatmap"
           }
          ],
          "histogram2dcontour": [
           {
            "colorbar": {
             "outlinewidth": 0,
             "ticks": ""
            },
            "colorscale": [
             [
              0.0,
              "#0d0887"
             ],
             [
              0.1111111111111111,
              "#46039f"
             ],
             [
              0.2222222222222222,
              "#7201a8"
             ],
             [
              0.3333333333333333,
              "#9c179e"
             ],
             [
              0.4444444444444444,
              "#bd3786"
             ],
             [
              0.5555555555555556,
              "#d8576b"
             ],
             [
              0.6666666666666666,
              "#ed7953"
             ],
             [
              0.7777777777777778,
              "#fb9f3a"
             ],
             [
              0.8888888888888888,
              "#fdca26"
             ],
             [
              1.0,
              "#f0f921"
             ]
            ],
            "type": "histogram2dcontour"
           }
          ],
          "histogram2d": [
           {
            "colorbar": {
             "outlinewidth": 0,
             "ticks": ""
            },
            "colorscale": [
             [
              0.0,
              "#0d0887"
             ],
             [
              0.1111111111111111,
              "#46039f"
             ],
             [
              0.2222222222222222,
              "#7201a8"
             ],
             [
              0.3333333333333333,
              "#9c179e"
             ],
             [
              0.4444444444444444,
              "#bd3786"
             ],
             [
              0.5555555555555556,
              "#d8576b"
             ],
             [
              0.6666666666666666,
              "#ed7953"
             ],
             [
              0.7777777777777778,
              "#fb9f3a"
             ],
             [
              0.8888888888888888,
              "#fdca26"
             ],
             [
              1.0,
              "#f0f921"
             ]
            ],
            "type": "histogram2d"
           }
          ],
          "histogram": [
           {
            "marker": {
             "pattern": {
              "fillmode": "overlay",
              "size": 10,
              "solidity": 0.2
             }
            },
            "type": "histogram"
           }
          ],
          "mesh3d": [
           {
            "colorbar": {
             "outlinewidth": 0,
             "ticks": ""
            },
            "type": "mesh3d"
           }
          ],
          "parcoords": [
           {
            "line": {
             "colorbar": {
              "outlinewidth": 0,
              "ticks": ""
             }
            },
            "type": "parcoords"
           }
          ],
          "pie": [
           {
            "automargin": true,
            "type": "pie"
           }
          ],
          "scatter3d": [
           {
            "line": {
             "colorbar": {
              "outlinewidth": 0,
              "ticks": ""
             }
            },
            "marker": {
             "colorbar": {
              "outlinewidth": 0,
              "ticks": ""
             }
            },
            "type": "scatter3d"
           }
          ],
          "scattercarpet": [
           {
            "marker": {
             "colorbar": {
              "outlinewidth": 0,
              "ticks": ""
             }
            },
            "type": "scattercarpet"
           }
          ],
          "scattergeo": [
           {
            "marker": {
             "colorbar": {
              "outlinewidth": 0,
              "ticks": ""
             }
            },
            "type": "scattergeo"
           }
          ],
          "scattergl": [
           {
            "marker": {
             "colorbar": {
              "outlinewidth": 0,
              "ticks": ""
             }
            },
            "type": "scattergl"
           }
          ],
          "scattermapbox": [
           {
            "marker": {
             "colorbar": {
              "outlinewidth": 0,
              "ticks": ""
             }
            },
            "type": "scattermapbox"
           }
          ],
          "scatterpolargl": [
           {
            "marker": {
             "colorbar": {
              "outlinewidth": 0,
              "ticks": ""
             }
            },
            "type": "scatterpolargl"
           }
          ],
          "scatterpolar": [
           {
            "marker": {
             "colorbar": {
              "outlinewidth": 0,
              "ticks": ""
             }
            },
            "type": "scatterpolar"
           }
          ],
          "scatter": [
           {
            "fillpattern": {
             "fillmode": "overlay",
             "size": 10,
             "solidity": 0.2
            },
            "type": "scatter"
           }
          ],
          "scatterternary": [
           {
            "marker": {
             "colorbar": {
              "outlinewidth": 0,
              "ticks": ""
             }
            },
            "type": "scatterternary"
           }
          ],
          "surface": [
           {
            "colorbar": {
             "outlinewidth": 0,
             "ticks": ""
            },
            "colorscale": [
             [
              0.0,
              "#0d0887"
             ],
             [
              0.1111111111111111,
              "#46039f"
             ],
             [
              0.2222222222222222,
              "#7201a8"
             ],
             [
              0.3333333333333333,
              "#9c179e"
             ],
             [
              0.4444444444444444,
              "#bd3786"
             ],
             [
              0.5555555555555556,
              "#d8576b"
             ],
             [
              0.6666666666666666,
              "#ed7953"
             ],
             [
              0.7777777777777778,
              "#fb9f3a"
             ],
             [
              0.8888888888888888,
              "#fdca26"
             ],
             [
              1.0,
              "#f0f921"
             ]
            ],
            "type": "surface"
           }
          ],
          "table": [
           {
            "cells": {
             "fill": {
              "color": "#EBF0F8"
             },
             "line": {
              "color": "white"
             }
            },
            "header": {
             "fill": {
              "color": "#C8D4E3"
             },
             "line": {
              "color": "white"
             }
            },
            "type": "table"
           }
          ]
         },
         "layout": {
          "annotationdefaults": {
           "arrowcolor": "#2a3f5f",
           "arrowhead": 0,
           "arrowwidth": 1
          },
          "autotypenumbers": "strict",
          "coloraxis": {
           "colorbar": {
            "outlinewidth": 0,
            "ticks": ""
           }
          },
          "colorscale": {
           "diverging": [
            [
             0,
             "#8e0152"
            ],
            [
             0.1,
             "#c51b7d"
            ],
            [
             0.2,
             "#de77ae"
            ],
            [
             0.3,
             "#f1b6da"
            ],
            [
             0.4,
             "#fde0ef"
            ],
            [
             0.5,
             "#f7f7f7"
            ],
            [
             0.6,
             "#e6f5d0"
            ],
            [
             0.7,
             "#b8e186"
            ],
            [
             0.8,
             "#7fbc41"
            ],
            [
             0.9,
             "#4d9221"
            ],
            [
             1,
             "#276419"
            ]
           ],
           "sequential": [
            [
             0.0,
             "#0d0887"
            ],
            [
             0.1111111111111111,
             "#46039f"
            ],
            [
             0.2222222222222222,
             "#7201a8"
            ],
            [
             0.3333333333333333,
             "#9c179e"
            ],
            [
             0.4444444444444444,
             "#bd3786"
            ],
            [
             0.5555555555555556,
             "#d8576b"
            ],
            [
             0.6666666666666666,
             "#ed7953"
            ],
            [
             0.7777777777777778,
             "#fb9f3a"
            ],
            [
             0.8888888888888888,
             "#fdca26"
            ],
            [
             1.0,
             "#f0f921"
            ]
           ],
           "sequentialminus": [
            [
             0.0,
             "#0d0887"
            ],
            [
             0.1111111111111111,
             "#46039f"
            ],
            [
             0.2222222222222222,
             "#7201a8"
            ],
            [
             0.3333333333333333,
             "#9c179e"
            ],
            [
             0.4444444444444444,
             "#bd3786"
            ],
            [
             0.5555555555555556,
             "#d8576b"
            ],
            [
             0.6666666666666666,
             "#ed7953"
            ],
            [
             0.7777777777777778,
             "#fb9f3a"
            ],
            [
             0.8888888888888888,
             "#fdca26"
            ],
            [
             1.0,
             "#f0f921"
            ]
           ]
          },
          "colorway": [
           "#636efa",
           "#EF553B",
           "#00cc96",
           "#ab63fa",
           "#FFA15A",
           "#19d3f3",
           "#FF6692",
           "#B6E880",
           "#FF97FF",
           "#FECB52"
          ],
          "font": {
           "color": "#2a3f5f"
          },
          "geo": {
           "bgcolor": "white",
           "lakecolor": "white",
           "landcolor": "white",
           "showlakes": true,
           "showland": true,
           "subunitcolor": "#C8D4E3"
          },
          "hoverlabel": {
           "align": "left"
          },
          "hovermode": "closest",
          "mapbox": {
           "style": "light"
          },
          "paper_bgcolor": "white",
          "plot_bgcolor": "white",
          "polar": {
           "angularaxis": {
            "gridcolor": "#EBF0F8",
            "linecolor": "#EBF0F8",
            "ticks": ""
           },
           "bgcolor": "white",
           "radialaxis": {
            "gridcolor": "#EBF0F8",
            "linecolor": "#EBF0F8",
            "ticks": ""
           }
          },
          "scene": {
           "xaxis": {
            "backgroundcolor": "white",
            "gridcolor": "#DFE8F3",
            "gridwidth": 2,
            "linecolor": "#EBF0F8",
            "showbackground": true,
            "ticks": "",
            "zerolinecolor": "#EBF0F8"
           },
           "yaxis": {
            "backgroundcolor": "white",
            "gridcolor": "#DFE8F3",
            "gridwidth": 2,
            "linecolor": "#EBF0F8",
            "showbackground": true,
            "ticks": "",
            "zerolinecolor": "#EBF0F8"
           },
           "zaxis": {
            "backgroundcolor": "white",
            "gridcolor": "#DFE8F3",
            "gridwidth": 2,
            "linecolor": "#EBF0F8",
            "showbackground": true,
            "ticks": "",
            "zerolinecolor": "#EBF0F8"
           }
          },
          "shapedefaults": {
           "line": {
            "color": "#2a3f5f"
           }
          },
          "ternary": {
           "aaxis": {
            "gridcolor": "#DFE8F3",
            "linecolor": "#A2B1C6",
            "ticks": ""
           },
           "baxis": {
            "gridcolor": "#DFE8F3",
            "linecolor": "#A2B1C6",
            "ticks": ""
           },
           "bgcolor": "white",
           "caxis": {
            "gridcolor": "#DFE8F3",
            "linecolor": "#A2B1C6",
            "ticks": ""
           }
          },
          "title": {
           "x": 0.05
          },
          "xaxis": {
           "automargin": true,
           "gridcolor": "#EBF0F8",
           "linecolor": "#EBF0F8",
           "ticks": "",
           "title": {
            "standoff": 15
           },
           "zerolinecolor": "#EBF0F8",
           "zerolinewidth": 2
          },
          "yaxis": {
           "automargin": true,
           "gridcolor": "#EBF0F8",
           "linecolor": "#EBF0F8",
           "ticks": "",
           "title": {
            "standoff": 15
           },
           "zerolinecolor": "#EBF0F8",
           "zerolinewidth": 2
          }
         }
        },
        "xaxis": {
         "anchor": "y",
         "domain": [
          0.0,
          0.175
         ],
         "showgrid": true
        },
        "yaxis": {
         "anchor": "x",
         "domain": [
          0.8639999999999999,
          0.9999999999999999
         ],
         "showgrid": true
        },
        "xaxis2": {
         "anchor": "y2",
         "domain": [
          0.275,
          0.45
         ],
         "showgrid": true
        },
        "yaxis2": {
         "anchor": "x2",
         "domain": [
          0.8639999999999999,
          0.9999999999999999
         ],
         "showgrid": true
        },
        "xaxis3": {
         "anchor": "y3",
         "domain": [
          0.55,
          0.7250000000000001
         ],
         "showgrid": true
        },
        "yaxis3": {
         "anchor": "x3",
         "domain": [
          0.8639999999999999,
          0.9999999999999999
         ],
         "showgrid": true
        },
        "xaxis4": {
         "anchor": "y4",
         "domain": [
          0.825,
          1.0
         ],
         "showgrid": true
        },
        "yaxis4": {
         "anchor": "x4",
         "domain": [
          0.8639999999999999,
          0.9999999999999999
         ],
         "showgrid": true
        },
        "xaxis5": {
         "anchor": "y5",
         "domain": [
          0.0,
          0.175
         ],
         "showgrid": true
        },
        "yaxis5": {
         "anchor": "x5",
         "domain": [
          0.6479999999999999,
          0.7839999999999999
         ],
         "showgrid": true
        },
        "xaxis6": {
         "anchor": "y6",
         "domain": [
          0.275,
          0.45
         ],
         "showgrid": true
        },
        "yaxis6": {
         "anchor": "x6",
         "domain": [
          0.6479999999999999,
          0.7839999999999999
         ],
         "showgrid": true
        },
        "xaxis7": {
         "anchor": "y7",
         "domain": [
          0.55,
          0.7250000000000001
         ],
         "showgrid": true
        },
        "yaxis7": {
         "anchor": "x7",
         "domain": [
          0.6479999999999999,
          0.7839999999999999
         ],
         "showgrid": true
        },
        "xaxis8": {
         "anchor": "y8",
         "domain": [
          0.825,
          1.0
         ],
         "showgrid": true
        },
        "yaxis8": {
         "anchor": "x8",
         "domain": [
          0.6479999999999999,
          0.7839999999999999
         ],
         "showgrid": true
        },
        "xaxis9": {
         "anchor": "y9",
         "domain": [
          0.0,
          0.175
         ],
         "showgrid": true
        },
        "yaxis9": {
         "anchor": "x9",
         "domain": [
          0.43199999999999994,
          0.568
         ],
         "showgrid": true
        },
        "xaxis10": {
         "anchor": "y10",
         "domain": [
          0.275,
          0.45
         ],
         "showgrid": true
        },
        "yaxis10": {
         "anchor": "x10",
         "domain": [
          0.43199999999999994,
          0.568
         ],
         "showgrid": true
        },
        "xaxis11": {
         "anchor": "y11",
         "domain": [
          0.55,
          0.7250000000000001
         ],
         "showgrid": true
        },
        "yaxis11": {
         "anchor": "x11",
         "domain": [
          0.43199999999999994,
          0.568
         ],
         "showgrid": true
        },
        "xaxis12": {
         "anchor": "y12",
         "domain": [
          0.825,
          1.0
         ],
         "showgrid": true
        },
        "yaxis12": {
         "anchor": "x12",
         "domain": [
          0.43199999999999994,
          0.568
         ],
         "showgrid": true
        },
        "xaxis13": {
         "anchor": "y13",
         "domain": [
          0.0,
          0.175
         ],
         "showgrid": true
        },
        "yaxis13": {
         "anchor": "x13",
         "domain": [
          0.21599999999999997,
          0.352
         ],
         "showgrid": true
        },
        "xaxis14": {
         "anchor": "y14",
         "domain": [
          0.275,
          0.45
         ],
         "showgrid": true
        },
        "yaxis14": {
         "anchor": "x14",
         "domain": [
          0.21599999999999997,
          0.352
         ],
         "showgrid": true
        },
        "xaxis15": {
         "anchor": "y15",
         "domain": [
          0.55,
          0.7250000000000001
         ],
         "showgrid": true
        },
        "yaxis15": {
         "anchor": "x15",
         "domain": [
          0.21599999999999997,
          0.352
         ],
         "showgrid": true
        },
        "xaxis16": {
         "anchor": "y16",
         "domain": [
          0.825,
          1.0
         ],
         "showgrid": true
        },
        "yaxis16": {
         "anchor": "x16",
         "domain": [
          0.21599999999999997,
          0.352
         ],
         "showgrid": true
        },
        "xaxis17": {
         "anchor": "y17",
         "domain": [
          0.0,
          0.175
         ],
         "showgrid": true
        },
        "yaxis17": {
         "anchor": "x17",
         "domain": [
          0.0,
          0.13599999999999998
         ],
         "showgrid": true
        },
        "xaxis18": {
         "anchor": "y18",
         "domain": [
          0.275,
          0.45
         ],
         "showgrid": true
        },
        "yaxis18": {
         "anchor": "x18",
         "domain": [
          0.0,
          0.13599999999999998
         ],
         "showgrid": true
        },
        "xaxis19": {
         "anchor": "y19",
         "domain": [
          0.55,
          0.7250000000000001
         ],
         "showgrid": true
        },
        "yaxis19": {
         "anchor": "x19",
         "domain": [
          0.0,
          0.13599999999999998
         ],
         "showgrid": true
        },
        "xaxis20": {
         "anchor": "y20",
         "domain": [
          0.825,
          1.0
         ],
         "showgrid": true
        },
        "yaxis20": {
         "anchor": "x20",
         "domain": [
          0.0,
          0.13599999999999998
         ],
         "showgrid": true
        },
        "annotations": [
         {
          "font": {
           "size": 16
          },
          "showarrow": false,
          "text": "Topic 0",
          "x": 0.0875,
          "xanchor": "center",
          "xref": "paper",
          "y": 0.9999999999999999,
          "yanchor": "bottom",
          "yref": "paper"
         },
         {
          "font": {
           "size": 16
          },
          "showarrow": false,
          "text": "Topic 1",
          "x": 0.36250000000000004,
          "xanchor": "center",
          "xref": "paper",
          "y": 0.9999999999999999,
          "yanchor": "bottom",
          "yref": "paper"
         },
         {
          "font": {
           "size": 16
          },
          "showarrow": false,
          "text": "Topic 2",
          "x": 0.6375000000000001,
          "xanchor": "center",
          "xref": "paper",
          "y": 0.9999999999999999,
          "yanchor": "bottom",
          "yref": "paper"
         },
         {
          "font": {
           "size": 16
          },
          "showarrow": false,
          "text": "Topic 3",
          "x": 0.9125,
          "xanchor": "center",
          "xref": "paper",
          "y": 0.9999999999999999,
          "yanchor": "bottom",
          "yref": "paper"
         },
         {
          "font": {
           "size": 16
          },
          "showarrow": false,
          "text": "Topic 4",
          "x": 0.0875,
          "xanchor": "center",
          "xref": "paper",
          "y": 0.7839999999999999,
          "yanchor": "bottom",
          "yref": "paper"
         },
         {
          "font": {
           "size": 16
          },
          "showarrow": false,
          "text": "Topic 5",
          "x": 0.36250000000000004,
          "xanchor": "center",
          "xref": "paper",
          "y": 0.7839999999999999,
          "yanchor": "bottom",
          "yref": "paper"
         },
         {
          "font": {
           "size": 16
          },
          "showarrow": false,
          "text": "Topic 6",
          "x": 0.6375000000000001,
          "xanchor": "center",
          "xref": "paper",
          "y": 0.7839999999999999,
          "yanchor": "bottom",
          "yref": "paper"
         },
         {
          "font": {
           "size": 16
          },
          "showarrow": false,
          "text": "Topic 7",
          "x": 0.9125,
          "xanchor": "center",
          "xref": "paper",
          "y": 0.7839999999999999,
          "yanchor": "bottom",
          "yref": "paper"
         },
         {
          "font": {
           "size": 16
          },
          "showarrow": false,
          "text": "Topic 8",
          "x": 0.0875,
          "xanchor": "center",
          "xref": "paper",
          "y": 0.568,
          "yanchor": "bottom",
          "yref": "paper"
         },
         {
          "font": {
           "size": 16
          },
          "showarrow": false,
          "text": "Topic 9",
          "x": 0.36250000000000004,
          "xanchor": "center",
          "xref": "paper",
          "y": 0.568,
          "yanchor": "bottom",
          "yref": "paper"
         },
         {
          "font": {
           "size": 16
          },
          "showarrow": false,
          "text": "Topic 10",
          "x": 0.6375000000000001,
          "xanchor": "center",
          "xref": "paper",
          "y": 0.568,
          "yanchor": "bottom",
          "yref": "paper"
         },
         {
          "font": {
           "size": 16
          },
          "showarrow": false,
          "text": "Topic 11",
          "x": 0.9125,
          "xanchor": "center",
          "xref": "paper",
          "y": 0.568,
          "yanchor": "bottom",
          "yref": "paper"
         },
         {
          "font": {
           "size": 16
          },
          "showarrow": false,
          "text": "Topic 12",
          "x": 0.0875,
          "xanchor": "center",
          "xref": "paper",
          "y": 0.352,
          "yanchor": "bottom",
          "yref": "paper"
         },
         {
          "font": {
           "size": 16
          },
          "showarrow": false,
          "text": "Topic 13",
          "x": 0.36250000000000004,
          "xanchor": "center",
          "xref": "paper",
          "y": 0.352,
          "yanchor": "bottom",
          "yref": "paper"
         },
         {
          "font": {
           "size": 16
          },
          "showarrow": false,
          "text": "Topic 14",
          "x": 0.6375000000000001,
          "xanchor": "center",
          "xref": "paper",
          "y": 0.352,
          "yanchor": "bottom",
          "yref": "paper"
         },
         {
          "font": {
           "size": 16
          },
          "showarrow": false,
          "text": "Topic 15",
          "x": 0.9125,
          "xanchor": "center",
          "xref": "paper",
          "y": 0.352,
          "yanchor": "bottom",
          "yref": "paper"
         },
         {
          "font": {
           "size": 16
          },
          "showarrow": false,
          "text": "Topic 16",
          "x": 0.0875,
          "xanchor": "center",
          "xref": "paper",
          "y": 0.13599999999999998,
          "yanchor": "bottom",
          "yref": "paper"
         },
         {
          "font": {
           "size": 16
          },
          "showarrow": false,
          "text": "Topic 17",
          "x": 0.36250000000000004,
          "xanchor": "center",
          "xref": "paper",
          "y": 0.13599999999999998,
          "yanchor": "bottom",
          "yref": "paper"
         },
         {
          "font": {
           "size": 16
          },
          "showarrow": false,
          "text": "Topic 18",
          "x": 0.6375000000000001,
          "xanchor": "center",
          "xref": "paper",
          "y": 0.13599999999999998,
          "yanchor": "bottom",
          "yref": "paper"
         },
         {
          "font": {
           "size": 16
          },
          "showarrow": false,
          "text": "Topic 19",
          "x": 0.9125,
          "xanchor": "center",
          "xref": "paper",
          "y": 0.13599999999999998,
          "yanchor": "bottom",
          "yref": "paper"
         }
        ],
        "title": {
         "font": {
          "size": 22,
          "color": "Black"
         },
         "text": "Topic Word Scores",
         "x": 0.5,
         "xanchor": "center",
         "yanchor": "top"
        },
        "hoverlabel": {
         "font": {
          "size": 16,
          "family": "Rockwell"
         },
         "bgcolor": "white"
        },
        "showlegend": false,
        "width": 1120,
        "height": 1650
       },
       "config": {
        "plotlyServerURL": "https://plot.ly"
       }
      },
      "text/html": "<div>                            <div id=\"66694abd-5678-41d3-bbd5-3722e622c604\" class=\"plotly-graph-div\" style=\"height:1650px; width:1120px;\"></div>            <script type=\"text/javascript\">                require([\"plotly\"], function(Plotly) {                    window.PLOTLYENV=window.PLOTLYENV || {};                                    if (document.getElementById(\"66694abd-5678-41d3-bbd5-3722e622c604\")) {                    Plotly.newPlot(                        \"66694abd-5678-41d3-bbd5-3722e622c604\",                        [{\"marker\":{\"color\":\"#D55E00\"},\"orientation\":\"h\",\"x\":[0.009074282696778164,0.009766549370207458,0.01138633464690117,0.012875217179232635,0.06821379794480599],\"y\":[\"new  \",\"electricity  \",\"customer  \",\"contract  \",\"eon  \"],\"type\":\"bar\",\"xaxis\":\"x\",\"yaxis\":\"y\"},{\"marker\":{\"color\":\"#0072B2\"},\"orientation\":\"h\",\"x\":[0.011297765944069183,0.012962397092100555,0.013985007220333284,0.014770265333550888,0.08879415990454761],\"y\":[\"energy  \",\"customers  \",\"customer  \",\"years  \",\"essent  \"],\"type\":\"bar\",\"xaxis\":\"x2\",\"yaxis\":\"y2\"},{\"marker\":{\"color\":\"#CC79A7\"},\"orientation\":\"h\",\"x\":[0.019941318757901928,0.022764560702670057,0.02321527549699623,0.09179552303915366,0.11721935632416608],\"y\":[\"issued  \",\"payment  \",\"receive  \",\"invoices  \",\"invoice  \"],\"type\":\"bar\",\"xaxis\":\"x3\",\"yaxis\":\"y3\"},{\"marker\":{\"color\":\"#E69F00\"},\"orientation\":\"h\",\"x\":[0.0152217925186886,0.01678874152630711,0.017716640065851514,0.019040613993183342,0.0737884167714801],\"y\":[\"extend  \",\"contracts  \",\"new  \",\"agreement  \",\"contract  \"],\"type\":\"bar\",\"xaxis\":\"x4\",\"yaxis\":\"y4\"},{\"marker\":{\"color\":\"#56B4E9\"},\"orientation\":\"h\",\"x\":[0.026474833713631164,0.026661395515072323,0.028101013402034303,0.034207590051323365,0.03645996081860372],\"y\":[\"waiting  \",\"hold  \",\"service  \",\"minutes  \",\"phone  \"],\"type\":\"bar\",\"xaxis\":\"x5\",\"yaxis\":\"y5\"},{\"marker\":{\"color\":\"#009E73\"},\"orientation\":\"h\",\"x\":[0.0498727429028988,0.05614457612427784,0.057325594323971406,0.07265854720025185,0.07645771219241779],\"y\":[\"expensive  \",\"supplier  \",\"suppliers  \",\"prices  \",\"price  \"],\"type\":\"bar\",\"xaxis\":\"x6\",\"yaxis\":\"y6\"},{\"marker\":{\"color\":\"#F0E442\"},\"orientation\":\"h\",\"x\":[0.036564831597768535,0.04987510894872874,0.06032703646716969,0.06152166347293294,0.07229652328545064],\"y\":[\"administration  \",\"time  \",\"took  \",\"process  \",\"long  \"],\"type\":\"bar\",\"xaxis\":\"x7\",\"yaxis\":\"y7\"},{\"marker\":{\"color\":\"#D55E00\"},\"orientation\":\"h\",\"x\":[0.02099907677063214,0.022107535794857462,0.04495817735079886,0.06664909042965422,0.10280588805746876],\"y\":[\"smart  \",\"enter  \",\"readings  \",\"reading  \",\"meter  \"],\"type\":\"bar\",\"xaxis\":\"x8\",\"yaxis\":\"y8\"},{\"marker\":{\"color\":\"#0072B2\"},\"orientation\":\"h\",\"x\":[0.02722628957045127,0.029002843060175868,0.039883441368035066,0.04150960096074571,0.05777381319188168],\"y\":[\"pay  \",\"payments  \",\"euros  \",\"installment  \",\"payment  \"],\"type\":\"bar\",\"xaxis\":\"x9\",\"yaxis\":\"y9\"},{\"marker\":{\"color\":\"#CC79A7\"},\"orientation\":\"h\",\"x\":[0.02461231900742721,0.03316686394423154,0.03947805651623858,0.04420103718479725,0.11426227863467894],\"y\":[\"arrived  \",\"pay  \",\"high  \",\"billing  \",\"bills  \"],\"type\":\"bar\",\"xaxis\":\"x10\",\"yaxis\":\"y10\"},{\"marker\":{\"color\":\"#E69F00\"},\"orientation\":\"h\",\"x\":[0.05793335348650512,0.0731747410421935,0.0903653648519442,0.1405398042463479,0.24809661936975277],\"y\":[\"make  \",\"advice  \",\"recommending  \",\"recommendations  \",\"recommend  \"],\"type\":\"bar\",\"xaxis\":\"x11\",\"yaxis\":\"y11\"},{\"marker\":{\"color\":\"#56B4E9\"},\"orientation\":\"h\",\"x\":[0.05138663491299424,0.05273841727819662,0.05978459899796842,0.06951039173761596,0.11707714601997318],\"y\":[\"electricity  \",\"companies  \",\"recommend  \",\"supplier  \",\"energy  \"],\"type\":\"bar\",\"xaxis\":\"x12\",\"yaxis\":\"y12\"},{\"marker\":{\"color\":\"#009E73\"},\"orientation\":\"h\",\"x\":[0.032247691600692574,0.043230097589488224,0.06255374364850581,0.12088603128933958,0.15153365588808063],\"y\":[\"question  \",\"bot  \",\"robot  \",\"chatbot  \",\"chat  \"],\"type\":\"bar\",\"xaxis\":\"x13\",\"yaxis\":\"y13\"},{\"marker\":{\"color\":\"#F0E442\"},\"orientation\":\"h\",\"x\":[0.032789212824599116,0.03725690995577783,0.04790379775951499,0.10609183066394846,0.11274948422251427],\"y\":[\"outages  \",\"day  \",\"announced  \",\"outage  \",\"power  \"],\"type\":\"bar\",\"xaxis\":\"x14\",\"yaxis\":\"y14\"},{\"marker\":{\"color\":\"#D55E00\"},\"orientation\":\"h\",\"x\":[0.027761121166220138,0.03394838959272921,0.03874834246408076,0.13332405717231763,0.18190486461760066],\"y\":[\"working  \",\"slow  \",\"page  \",\"site  \",\"website  \"],\"type\":\"bar\",\"xaxis\":\"x15\",\"yaxis\":\"y15\"},{\"marker\":{\"color\":\"#0072B2\"},\"orientation\":\"h\",\"x\":[0.03608464636654003,0.03920072307917061,0.04307242672987933,0.05934343697602299,0.11533084623645186],\"y\":[\"discount  \",\"existing  \",\"regular  \",\"customer  \",\"customers  \"],\"type\":\"bar\",\"xaxis\":\"x16\",\"yaxis\":\"y16\"},{\"marker\":{\"color\":\"#CC79A7\"},\"orientation\":\"h\",\"x\":[0.14769296668696322,0.16854904194683762,0.17882687681434123,0.18775226518565347,0.20773517362186267],\"y\":[\"price  \",\"dissatisfaction  \",\"poorly  \",\"reduce  \",\"accessible  \"],\"type\":\"bar\",\"xaxis\":\"x17\",\"yaxis\":\"y17\"},{\"marker\":{\"color\":\"#E69F00\"},\"orientation\":\"h\",\"x\":[0.029916785941071847,0.04342008941120173,0.04361888263052806,0.11246839810262985,0.18633651244126795],\"y\":[\"treated  \",\"impersonal  \",\"bad  \",\"conversation  \",\"communication  \"],\"type\":\"bar\",\"xaxis\":\"x18\",\"yaxis\":\"y18\"},{\"marker\":{\"color\":\"#56B4E9\"},\"orientation\":\"h\",\"x\":[0.03390873682537188,0.034470476197632154,0.045166241310416466,0.05930425214150304,0.09131534642448716],\"y\":[\"mail  \",\"connect  \",\"notification  \",\"email  \",\"connection  \"],\"type\":\"bar\",\"xaxis\":\"x19\",\"yaxis\":\"y19\"},{\"marker\":{\"color\":\"#009E73\"},\"orientation\":\"h\",\"x\":[0.01772564537805878,0.018175996444640463,0.02111193927787997,0.02515874554062573,0.04979737857847082],\"y\":[\"energy  \",\"energiedirect  \",\"contract  \",\"electricity  \",\"gas  \"],\"type\":\"bar\",\"xaxis\":\"x20\",\"yaxis\":\"y20\"}],                        {\"template\":{\"data\":{\"barpolar\":[{\"marker\":{\"line\":{\"color\":\"white\",\"width\":0.5},\"pattern\":{\"fillmode\":\"overlay\",\"size\":10,\"solidity\":0.2}},\"type\":\"barpolar\"}],\"bar\":[{\"error_x\":{\"color\":\"#2a3f5f\"},\"error_y\":{\"color\":\"#2a3f5f\"},\"marker\":{\"line\":{\"color\":\"white\",\"width\":0.5},\"pattern\":{\"fillmode\":\"overlay\",\"size\":10,\"solidity\":0.2}},\"type\":\"bar\"}],\"carpet\":[{\"aaxis\":{\"endlinecolor\":\"#2a3f5f\",\"gridcolor\":\"#C8D4E3\",\"linecolor\":\"#C8D4E3\",\"minorgridcolor\":\"#C8D4E3\",\"startlinecolor\":\"#2a3f5f\"},\"baxis\":{\"endlinecolor\":\"#2a3f5f\",\"gridcolor\":\"#C8D4E3\",\"linecolor\":\"#C8D4E3\",\"minorgridcolor\":\"#C8D4E3\",\"startlinecolor\":\"#2a3f5f\"},\"type\":\"carpet\"}],\"choropleth\":[{\"colorbar\":{\"outlinewidth\":0,\"ticks\":\"\"},\"type\":\"choropleth\"}],\"contourcarpet\":[{\"colorbar\":{\"outlinewidth\":0,\"ticks\":\"\"},\"type\":\"contourcarpet\"}],\"contour\":[{\"colorbar\":{\"outlinewidth\":0,\"ticks\":\"\"},\"colorscale\":[[0.0,\"#0d0887\"],[0.1111111111111111,\"#46039f\"],[0.2222222222222222,\"#7201a8\"],[0.3333333333333333,\"#9c179e\"],[0.4444444444444444,\"#bd3786\"],[0.5555555555555556,\"#d8576b\"],[0.6666666666666666,\"#ed7953\"],[0.7777777777777778,\"#fb9f3a\"],[0.8888888888888888,\"#fdca26\"],[1.0,\"#f0f921\"]],\"type\":\"contour\"}],\"heatmapgl\":[{\"colorbar\":{\"outlinewidth\":0,\"ticks\":\"\"},\"colorscale\":[[0.0,\"#0d0887\"],[0.1111111111111111,\"#46039f\"],[0.2222222222222222,\"#7201a8\"],[0.3333333333333333,\"#9c179e\"],[0.4444444444444444,\"#bd3786\"],[0.5555555555555556,\"#d8576b\"],[0.6666666666666666,\"#ed7953\"],[0.7777777777777778,\"#fb9f3a\"],[0.8888888888888888,\"#fdca26\"],[1.0,\"#f0f921\"]],\"type\":\"heatmapgl\"}],\"heatmap\":[{\"colorbar\":{\"outlinewidth\":0,\"ticks\":\"\"},\"colorscale\":[[0.0,\"#0d0887\"],[0.1111111111111111,\"#46039f\"],[0.2222222222222222,\"#7201a8\"],[0.3333333333333333,\"#9c179e\"],[0.4444444444444444,\"#bd3786\"],[0.5555555555555556,\"#d8576b\"],[0.6666666666666666,\"#ed7953\"],[0.7777777777777778,\"#fb9f3a\"],[0.8888888888888888,\"#fdca26\"],[1.0,\"#f0f921\"]],\"type\":\"heatmap\"}],\"histogram2dcontour\":[{\"colorbar\":{\"outlinewidth\":0,\"ticks\":\"\"},\"colorscale\":[[0.0,\"#0d0887\"],[0.1111111111111111,\"#46039f\"],[0.2222222222222222,\"#7201a8\"],[0.3333333333333333,\"#9c179e\"],[0.4444444444444444,\"#bd3786\"],[0.5555555555555556,\"#d8576b\"],[0.6666666666666666,\"#ed7953\"],[0.7777777777777778,\"#fb9f3a\"],[0.8888888888888888,\"#fdca26\"],[1.0,\"#f0f921\"]],\"type\":\"histogram2dcontour\"}],\"histogram2d\":[{\"colorbar\":{\"outlinewidth\":0,\"ticks\":\"\"},\"colorscale\":[[0.0,\"#0d0887\"],[0.1111111111111111,\"#46039f\"],[0.2222222222222222,\"#7201a8\"],[0.3333333333333333,\"#9c179e\"],[0.4444444444444444,\"#bd3786\"],[0.5555555555555556,\"#d8576b\"],[0.6666666666666666,\"#ed7953\"],[0.7777777777777778,\"#fb9f3a\"],[0.8888888888888888,\"#fdca26\"],[1.0,\"#f0f921\"]],\"type\":\"histogram2d\"}],\"histogram\":[{\"marker\":{\"pattern\":{\"fillmode\":\"overlay\",\"size\":10,\"solidity\":0.2}},\"type\":\"histogram\"}],\"mesh3d\":[{\"colorbar\":{\"outlinewidth\":0,\"ticks\":\"\"},\"type\":\"mesh3d\"}],\"parcoords\":[{\"line\":{\"colorbar\":{\"outlinewidth\":0,\"ticks\":\"\"}},\"type\":\"parcoords\"}],\"pie\":[{\"automargin\":true,\"type\":\"pie\"}],\"scatter3d\":[{\"line\":{\"colorbar\":{\"outlinewidth\":0,\"ticks\":\"\"}},\"marker\":{\"colorbar\":{\"outlinewidth\":0,\"ticks\":\"\"}},\"type\":\"scatter3d\"}],\"scattercarpet\":[{\"marker\":{\"colorbar\":{\"outlinewidth\":0,\"ticks\":\"\"}},\"type\":\"scattercarpet\"}],\"scattergeo\":[{\"marker\":{\"colorbar\":{\"outlinewidth\":0,\"ticks\":\"\"}},\"type\":\"scattergeo\"}],\"scattergl\":[{\"marker\":{\"colorbar\":{\"outlinewidth\":0,\"ticks\":\"\"}},\"type\":\"scattergl\"}],\"scattermapbox\":[{\"marker\":{\"colorbar\":{\"outlinewidth\":0,\"ticks\":\"\"}},\"type\":\"scattermapbox\"}],\"scatterpolargl\":[{\"marker\":{\"colorbar\":{\"outlinewidth\":0,\"ticks\":\"\"}},\"type\":\"scatterpolargl\"}],\"scatterpolar\":[{\"marker\":{\"colorbar\":{\"outlinewidth\":0,\"ticks\":\"\"}},\"type\":\"scatterpolar\"}],\"scatter\":[{\"fillpattern\":{\"fillmode\":\"overlay\",\"size\":10,\"solidity\":0.2},\"type\":\"scatter\"}],\"scatterternary\":[{\"marker\":{\"colorbar\":{\"outlinewidth\":0,\"ticks\":\"\"}},\"type\":\"scatterternary\"}],\"surface\":[{\"colorbar\":{\"outlinewidth\":0,\"ticks\":\"\"},\"colorscale\":[[0.0,\"#0d0887\"],[0.1111111111111111,\"#46039f\"],[0.2222222222222222,\"#7201a8\"],[0.3333333333333333,\"#9c179e\"],[0.4444444444444444,\"#bd3786\"],[0.5555555555555556,\"#d8576b\"],[0.6666666666666666,\"#ed7953\"],[0.7777777777777778,\"#fb9f3a\"],[0.8888888888888888,\"#fdca26\"],[1.0,\"#f0f921\"]],\"type\":\"surface\"}],\"table\":[{\"cells\":{\"fill\":{\"color\":\"#EBF0F8\"},\"line\":{\"color\":\"white\"}},\"header\":{\"fill\":{\"color\":\"#C8D4E3\"},\"line\":{\"color\":\"white\"}},\"type\":\"table\"}]},\"layout\":{\"annotationdefaults\":{\"arrowcolor\":\"#2a3f5f\",\"arrowhead\":0,\"arrowwidth\":1},\"autotypenumbers\":\"strict\",\"coloraxis\":{\"colorbar\":{\"outlinewidth\":0,\"ticks\":\"\"}},\"colorscale\":{\"diverging\":[[0,\"#8e0152\"],[0.1,\"#c51b7d\"],[0.2,\"#de77ae\"],[0.3,\"#f1b6da\"],[0.4,\"#fde0ef\"],[0.5,\"#f7f7f7\"],[0.6,\"#e6f5d0\"],[0.7,\"#b8e186\"],[0.8,\"#7fbc41\"],[0.9,\"#4d9221\"],[1,\"#276419\"]],\"sequential\":[[0.0,\"#0d0887\"],[0.1111111111111111,\"#46039f\"],[0.2222222222222222,\"#7201a8\"],[0.3333333333333333,\"#9c179e\"],[0.4444444444444444,\"#bd3786\"],[0.5555555555555556,\"#d8576b\"],[0.6666666666666666,\"#ed7953\"],[0.7777777777777778,\"#fb9f3a\"],[0.8888888888888888,\"#fdca26\"],[1.0,\"#f0f921\"]],\"sequentialminus\":[[0.0,\"#0d0887\"],[0.1111111111111111,\"#46039f\"],[0.2222222222222222,\"#7201a8\"],[0.3333333333333333,\"#9c179e\"],[0.4444444444444444,\"#bd3786\"],[0.5555555555555556,\"#d8576b\"],[0.6666666666666666,\"#ed7953\"],[0.7777777777777778,\"#fb9f3a\"],[0.8888888888888888,\"#fdca26\"],[1.0,\"#f0f921\"]]},\"colorway\":[\"#636efa\",\"#EF553B\",\"#00cc96\",\"#ab63fa\",\"#FFA15A\",\"#19d3f3\",\"#FF6692\",\"#B6E880\",\"#FF97FF\",\"#FECB52\"],\"font\":{\"color\":\"#2a3f5f\"},\"geo\":{\"bgcolor\":\"white\",\"lakecolor\":\"white\",\"landcolor\":\"white\",\"showlakes\":true,\"showland\":true,\"subunitcolor\":\"#C8D4E3\"},\"hoverlabel\":{\"align\":\"left\"},\"hovermode\":\"closest\",\"mapbox\":{\"style\":\"light\"},\"paper_bgcolor\":\"white\",\"plot_bgcolor\":\"white\",\"polar\":{\"angularaxis\":{\"gridcolor\":\"#EBF0F8\",\"linecolor\":\"#EBF0F8\",\"ticks\":\"\"},\"bgcolor\":\"white\",\"radialaxis\":{\"gridcolor\":\"#EBF0F8\",\"linecolor\":\"#EBF0F8\",\"ticks\":\"\"}},\"scene\":{\"xaxis\":{\"backgroundcolor\":\"white\",\"gridcolor\":\"#DFE8F3\",\"gridwidth\":2,\"linecolor\":\"#EBF0F8\",\"showbackground\":true,\"ticks\":\"\",\"zerolinecolor\":\"#EBF0F8\"},\"yaxis\":{\"backgroundcolor\":\"white\",\"gridcolor\":\"#DFE8F3\",\"gridwidth\":2,\"linecolor\":\"#EBF0F8\",\"showbackground\":true,\"ticks\":\"\",\"zerolinecolor\":\"#EBF0F8\"},\"zaxis\":{\"backgroundcolor\":\"white\",\"gridcolor\":\"#DFE8F3\",\"gridwidth\":2,\"linecolor\":\"#EBF0F8\",\"showbackground\":true,\"ticks\":\"\",\"zerolinecolor\":\"#EBF0F8\"}},\"shapedefaults\":{\"line\":{\"color\":\"#2a3f5f\"}},\"ternary\":{\"aaxis\":{\"gridcolor\":\"#DFE8F3\",\"linecolor\":\"#A2B1C6\",\"ticks\":\"\"},\"baxis\":{\"gridcolor\":\"#DFE8F3\",\"linecolor\":\"#A2B1C6\",\"ticks\":\"\"},\"bgcolor\":\"white\",\"caxis\":{\"gridcolor\":\"#DFE8F3\",\"linecolor\":\"#A2B1C6\",\"ticks\":\"\"}},\"title\":{\"x\":0.05},\"xaxis\":{\"automargin\":true,\"gridcolor\":\"#EBF0F8\",\"linecolor\":\"#EBF0F8\",\"ticks\":\"\",\"title\":{\"standoff\":15},\"zerolinecolor\":\"#EBF0F8\",\"zerolinewidth\":2},\"yaxis\":{\"automargin\":true,\"gridcolor\":\"#EBF0F8\",\"linecolor\":\"#EBF0F8\",\"ticks\":\"\",\"title\":{\"standoff\":15},\"zerolinecolor\":\"#EBF0F8\",\"zerolinewidth\":2}}},\"xaxis\":{\"anchor\":\"y\",\"domain\":[0.0,0.175],\"showgrid\":true},\"yaxis\":{\"anchor\":\"x\",\"domain\":[0.8639999999999999,0.9999999999999999],\"showgrid\":true},\"xaxis2\":{\"anchor\":\"y2\",\"domain\":[0.275,0.45],\"showgrid\":true},\"yaxis2\":{\"anchor\":\"x2\",\"domain\":[0.8639999999999999,0.9999999999999999],\"showgrid\":true},\"xaxis3\":{\"anchor\":\"y3\",\"domain\":[0.55,0.7250000000000001],\"showgrid\":true},\"yaxis3\":{\"anchor\":\"x3\",\"domain\":[0.8639999999999999,0.9999999999999999],\"showgrid\":true},\"xaxis4\":{\"anchor\":\"y4\",\"domain\":[0.825,1.0],\"showgrid\":true},\"yaxis4\":{\"anchor\":\"x4\",\"domain\":[0.8639999999999999,0.9999999999999999],\"showgrid\":true},\"xaxis5\":{\"anchor\":\"y5\",\"domain\":[0.0,0.175],\"showgrid\":true},\"yaxis5\":{\"anchor\":\"x5\",\"domain\":[0.6479999999999999,0.7839999999999999],\"showgrid\":true},\"xaxis6\":{\"anchor\":\"y6\",\"domain\":[0.275,0.45],\"showgrid\":true},\"yaxis6\":{\"anchor\":\"x6\",\"domain\":[0.6479999999999999,0.7839999999999999],\"showgrid\":true},\"xaxis7\":{\"anchor\":\"y7\",\"domain\":[0.55,0.7250000000000001],\"showgrid\":true},\"yaxis7\":{\"anchor\":\"x7\",\"domain\":[0.6479999999999999,0.7839999999999999],\"showgrid\":true},\"xaxis8\":{\"anchor\":\"y8\",\"domain\":[0.825,1.0],\"showgrid\":true},\"yaxis8\":{\"anchor\":\"x8\",\"domain\":[0.6479999999999999,0.7839999999999999],\"showgrid\":true},\"xaxis9\":{\"anchor\":\"y9\",\"domain\":[0.0,0.175],\"showgrid\":true},\"yaxis9\":{\"anchor\":\"x9\",\"domain\":[0.43199999999999994,0.568],\"showgrid\":true},\"xaxis10\":{\"anchor\":\"y10\",\"domain\":[0.275,0.45],\"showgrid\":true},\"yaxis10\":{\"anchor\":\"x10\",\"domain\":[0.43199999999999994,0.568],\"showgrid\":true},\"xaxis11\":{\"anchor\":\"y11\",\"domain\":[0.55,0.7250000000000001],\"showgrid\":true},\"yaxis11\":{\"anchor\":\"x11\",\"domain\":[0.43199999999999994,0.568],\"showgrid\":true},\"xaxis12\":{\"anchor\":\"y12\",\"domain\":[0.825,1.0],\"showgrid\":true},\"yaxis12\":{\"anchor\":\"x12\",\"domain\":[0.43199999999999994,0.568],\"showgrid\":true},\"xaxis13\":{\"anchor\":\"y13\",\"domain\":[0.0,0.175],\"showgrid\":true},\"yaxis13\":{\"anchor\":\"x13\",\"domain\":[0.21599999999999997,0.352],\"showgrid\":true},\"xaxis14\":{\"anchor\":\"y14\",\"domain\":[0.275,0.45],\"showgrid\":true},\"yaxis14\":{\"anchor\":\"x14\",\"domain\":[0.21599999999999997,0.352],\"showgrid\":true},\"xaxis15\":{\"anchor\":\"y15\",\"domain\":[0.55,0.7250000000000001],\"showgrid\":true},\"yaxis15\":{\"anchor\":\"x15\",\"domain\":[0.21599999999999997,0.352],\"showgrid\":true},\"xaxis16\":{\"anchor\":\"y16\",\"domain\":[0.825,1.0],\"showgrid\":true},\"yaxis16\":{\"anchor\":\"x16\",\"domain\":[0.21599999999999997,0.352],\"showgrid\":true},\"xaxis17\":{\"anchor\":\"y17\",\"domain\":[0.0,0.175],\"showgrid\":true},\"yaxis17\":{\"anchor\":\"x17\",\"domain\":[0.0,0.13599999999999998],\"showgrid\":true},\"xaxis18\":{\"anchor\":\"y18\",\"domain\":[0.275,0.45],\"showgrid\":true},\"yaxis18\":{\"anchor\":\"x18\",\"domain\":[0.0,0.13599999999999998],\"showgrid\":true},\"xaxis19\":{\"anchor\":\"y19\",\"domain\":[0.55,0.7250000000000001],\"showgrid\":true},\"yaxis19\":{\"anchor\":\"x19\",\"domain\":[0.0,0.13599999999999998],\"showgrid\":true},\"xaxis20\":{\"anchor\":\"y20\",\"domain\":[0.825,1.0],\"showgrid\":true},\"yaxis20\":{\"anchor\":\"x20\",\"domain\":[0.0,0.13599999999999998],\"showgrid\":true},\"annotations\":[{\"font\":{\"size\":16},\"showarrow\":false,\"text\":\"Topic 0\",\"x\":0.0875,\"xanchor\":\"center\",\"xref\":\"paper\",\"y\":0.9999999999999999,\"yanchor\":\"bottom\",\"yref\":\"paper\"},{\"font\":{\"size\":16},\"showarrow\":false,\"text\":\"Topic 1\",\"x\":0.36250000000000004,\"xanchor\":\"center\",\"xref\":\"paper\",\"y\":0.9999999999999999,\"yanchor\":\"bottom\",\"yref\":\"paper\"},{\"font\":{\"size\":16},\"showarrow\":false,\"text\":\"Topic 2\",\"x\":0.6375000000000001,\"xanchor\":\"center\",\"xref\":\"paper\",\"y\":0.9999999999999999,\"yanchor\":\"bottom\",\"yref\":\"paper\"},{\"font\":{\"size\":16},\"showarrow\":false,\"text\":\"Topic 3\",\"x\":0.9125,\"xanchor\":\"center\",\"xref\":\"paper\",\"y\":0.9999999999999999,\"yanchor\":\"bottom\",\"yref\":\"paper\"},{\"font\":{\"size\":16},\"showarrow\":false,\"text\":\"Topic 4\",\"x\":0.0875,\"xanchor\":\"center\",\"xref\":\"paper\",\"y\":0.7839999999999999,\"yanchor\":\"bottom\",\"yref\":\"paper\"},{\"font\":{\"size\":16},\"showarrow\":false,\"text\":\"Topic 5\",\"x\":0.36250000000000004,\"xanchor\":\"center\",\"xref\":\"paper\",\"y\":0.7839999999999999,\"yanchor\":\"bottom\",\"yref\":\"paper\"},{\"font\":{\"size\":16},\"showarrow\":false,\"text\":\"Topic 6\",\"x\":0.6375000000000001,\"xanchor\":\"center\",\"xref\":\"paper\",\"y\":0.7839999999999999,\"yanchor\":\"bottom\",\"yref\":\"paper\"},{\"font\":{\"size\":16},\"showarrow\":false,\"text\":\"Topic 7\",\"x\":0.9125,\"xanchor\":\"center\",\"xref\":\"paper\",\"y\":0.7839999999999999,\"yanchor\":\"bottom\",\"yref\":\"paper\"},{\"font\":{\"size\":16},\"showarrow\":false,\"text\":\"Topic 8\",\"x\":0.0875,\"xanchor\":\"center\",\"xref\":\"paper\",\"y\":0.568,\"yanchor\":\"bottom\",\"yref\":\"paper\"},{\"font\":{\"size\":16},\"showarrow\":false,\"text\":\"Topic 9\",\"x\":0.36250000000000004,\"xanchor\":\"center\",\"xref\":\"paper\",\"y\":0.568,\"yanchor\":\"bottom\",\"yref\":\"paper\"},{\"font\":{\"size\":16},\"showarrow\":false,\"text\":\"Topic 10\",\"x\":0.6375000000000001,\"xanchor\":\"center\",\"xref\":\"paper\",\"y\":0.568,\"yanchor\":\"bottom\",\"yref\":\"paper\"},{\"font\":{\"size\":16},\"showarrow\":false,\"text\":\"Topic 11\",\"x\":0.9125,\"xanchor\":\"center\",\"xref\":\"paper\",\"y\":0.568,\"yanchor\":\"bottom\",\"yref\":\"paper\"},{\"font\":{\"size\":16},\"showarrow\":false,\"text\":\"Topic 12\",\"x\":0.0875,\"xanchor\":\"center\",\"xref\":\"paper\",\"y\":0.352,\"yanchor\":\"bottom\",\"yref\":\"paper\"},{\"font\":{\"size\":16},\"showarrow\":false,\"text\":\"Topic 13\",\"x\":0.36250000000000004,\"xanchor\":\"center\",\"xref\":\"paper\",\"y\":0.352,\"yanchor\":\"bottom\",\"yref\":\"paper\"},{\"font\":{\"size\":16},\"showarrow\":false,\"text\":\"Topic 14\",\"x\":0.6375000000000001,\"xanchor\":\"center\",\"xref\":\"paper\",\"y\":0.352,\"yanchor\":\"bottom\",\"yref\":\"paper\"},{\"font\":{\"size\":16},\"showarrow\":false,\"text\":\"Topic 15\",\"x\":0.9125,\"xanchor\":\"center\",\"xref\":\"paper\",\"y\":0.352,\"yanchor\":\"bottom\",\"yref\":\"paper\"},{\"font\":{\"size\":16},\"showarrow\":false,\"text\":\"Topic 16\",\"x\":0.0875,\"xanchor\":\"center\",\"xref\":\"paper\",\"y\":0.13599999999999998,\"yanchor\":\"bottom\",\"yref\":\"paper\"},{\"font\":{\"size\":16},\"showarrow\":false,\"text\":\"Topic 17\",\"x\":0.36250000000000004,\"xanchor\":\"center\",\"xref\":\"paper\",\"y\":0.13599999999999998,\"yanchor\":\"bottom\",\"yref\":\"paper\"},{\"font\":{\"size\":16},\"showarrow\":false,\"text\":\"Topic 18\",\"x\":0.6375000000000001,\"xanchor\":\"center\",\"xref\":\"paper\",\"y\":0.13599999999999998,\"yanchor\":\"bottom\",\"yref\":\"paper\"},{\"font\":{\"size\":16},\"showarrow\":false,\"text\":\"Topic 19\",\"x\":0.9125,\"xanchor\":\"center\",\"xref\":\"paper\",\"y\":0.13599999999999998,\"yanchor\":\"bottom\",\"yref\":\"paper\"}],\"title\":{\"font\":{\"size\":22,\"color\":\"Black\"},\"text\":\"Topic Word Scores\",\"x\":0.5,\"xanchor\":\"center\",\"yanchor\":\"top\"},\"hoverlabel\":{\"font\":{\"size\":16,\"family\":\"Rockwell\"},\"bgcolor\":\"white\"},\"showlegend\":false,\"width\":1120,\"height\":1650},                        {\"responsive\": true}                    ).then(function(){\n                            \nvar gd = document.getElementById('66694abd-5678-41d3-bbd5-3722e622c604');\nvar x = new MutationObserver(function (mutations, observer) {{\n        var display = window.getComputedStyle(gd).display;\n        if (!display || display === 'none') {{\n            console.log([gd, 'removed!']);\n            Plotly.purge(gd);\n            observer.disconnect();\n        }}\n}});\n\n// Listen for the removal of the full notebook cells\nvar notebookContainer = gd.closest('#notebook-container');\nif (notebookContainer) {{\n    x.observe(notebookContainer, {childList: true});\n}}\n\n// Listen for the clearing of the current output cell\nvar outputEl = gd.closest('.output');\nif (outputEl) {{\n    x.observe(outputEl, {childList: true});\n}}\n\n                        })                };                });            </script>        </div>"
     },
     "metadata": {},
     "output_type": "display_data"
    }
   ],
   "source": [
    "barchart_bert"
   ],
   "metadata": {
    "collapsed": false,
    "ExecuteTime": {
     "end_time": "2024-02-08T19:16:46.164603Z",
     "start_time": "2024-02-08T19:16:46.141640Z"
    }
   }
  },
  {
   "cell_type": "code",
   "execution_count": 282,
   "outputs": [
    {
     "data": {
      "application/vnd.plotly.v1+json": {
       "data": [
        {
         "coloraxis": "coloraxis",
         "name": "0",
         "x": [
          "0_eon_contract_customer",
          "1_essent_years_customer",
          "2_invoice_invoices_receive",
          "3_contract_agreement_new",
          "4_phone_minutes_service",
          "5_price_prices_suppliers",
          "6_long_process_took",
          "7_meter_reading_readings",
          "8_payment_installment_euros",
          "9_bills_billing_high",
          "10_recommend_recommendation...",
          "11_energy_supplier_recommend",
          "12_chat_chatbot_robot",
          "13_power_outage_announced",
          "14_website_site_page",
          "15_customers_customer_regular",
          "16_accessible_reduce_poorly",
          "17_communication_conversati...",
          "18_connection_email_notific...",
          "19_gas_electricity_contract",
          "20_choice_decide_choose",
          "21_password_log_login",
          "22_electricity_energy_price",
          "23_question_answer_questions",
          "24_service_customer_bad",
          "25_request_response_requests",
          "26_information_confusing_un...",
          "27_contact_phone_touch",
          "28_look_amateurish_",
          "29_rating_influenced_score",
          "30_consumption_manager_app",
          "31_electricity_lower_grid",
          "32_innogy_client_polska",
          "33_contracts_contract_add",
          "34_satisfied_happy_good",
          "35_employee_lady_question",
          "36_solved_problem_solution",
          "37_providers_provider_company",
          "38_solar_panels_cells",
          "39_boiler_water_thermostat",
          "40_know_cheaper_accessibility",
          "41_talk_friends_don",
          "42_portal_online_confusing",
          "43_wrote_described_note",
          "44_cena_know_champion",
          "45_installation_installers_...",
          "46_se_ºã_hatrid",
          "47_helped_help_noded",
          "48_tariff_tariffs_change",
          "49_annual_statement_accounts",
          "50_cubic_consumption_gas",
          "51_ifo_colsenter_just",
          "52_transcription_transcript...",
          "53_nee_know_ne",
          "54_transfer_cancellation_fee",
          "55_reduce_price_expensive",
          "56_nope_guessing_purely",
          "57_know_doubt_moment",
          "58_promises_faster_promise",
          "59_rates_rate_increase",
          "60_app_work_working",
          "61_accessibility_poor_acces...",
          "62_survey_surveys_questionn...",
          "63_know_don_",
          "64_electricity_connection_e...",
          "65_malfunction_error_malfun...",
          "66_works_work_doesn",
          "67_complaint_contract_contr..."
         ],
         "y": [
          "0_eon_contract_customer",
          "1_essent_years_customer",
          "2_invoice_invoices_receive",
          "3_contract_agreement_new",
          "4_phone_minutes_service",
          "5_price_prices_suppliers",
          "6_long_process_took",
          "7_meter_reading_readings",
          "8_payment_installment_euros",
          "9_bills_billing_high",
          "10_recommend_recommendation...",
          "11_energy_supplier_recommend",
          "12_chat_chatbot_robot",
          "13_power_outage_announced",
          "14_website_site_page",
          "15_customers_customer_regular",
          "16_accessible_reduce_poorly",
          "17_communication_conversati...",
          "18_connection_email_notific...",
          "19_gas_electricity_contract",
          "20_choice_decide_choose",
          "21_password_log_login",
          "22_electricity_energy_price",
          "23_question_answer_questions",
          "24_service_customer_bad",
          "25_request_response_requests",
          "26_information_confusing_un...",
          "27_contact_phone_touch",
          "28_look_amateurish_",
          "29_rating_influenced_score",
          "30_consumption_manager_app",
          "31_electricity_lower_grid",
          "32_innogy_client_polska",
          "33_contracts_contract_add",
          "34_satisfied_happy_good",
          "35_employee_lady_question",
          "36_solved_problem_solution",
          "37_providers_provider_company",
          "38_solar_panels_cells",
          "39_boiler_water_thermostat",
          "40_know_cheaper_accessibility",
          "41_talk_friends_don",
          "42_portal_online_confusing",
          "43_wrote_described_note",
          "44_cena_know_champion",
          "45_installation_installers_...",
          "46_se_ºã_hatrid",
          "47_helped_help_noded",
          "48_tariff_tariffs_change",
          "49_annual_statement_accounts",
          "50_cubic_consumption_gas",
          "51_ifo_colsenter_just",
          "52_transcription_transcript...",
          "53_nee_know_ne",
          "54_transfer_cancellation_fee",
          "55_reduce_price_expensive",
          "56_nope_guessing_purely",
          "57_know_doubt_moment",
          "58_promises_faster_promise",
          "59_rates_rate_increase",
          "60_app_work_working",
          "61_accessibility_poor_acces...",
          "62_survey_surveys_questionn...",
          "63_know_don_",
          "64_electricity_connection_e...",
          "65_malfunction_error_malfun...",
          "66_works_work_doesn",
          "67_complaint_contract_contr..."
         ],
         "z": [
          [
           0.9999999403953552,
           0.6262217164039612,
           0.4645747244358063,
           0.5927590727806091,
           0.5603529214859009,
           0.4271277189254761,
           0.42686256766319275,
           0.4830588698387146,
           0.5770176649093628,
           0.4971194863319397,
           0.22477667033672333,
           0.4635327458381653,
           0.33300864696502686,
           0.40247616171836853,
           0.3756859302520752,
           0.5512391328811646,
           0.3687630891799927,
           0.3396311402320862,
           0.5300878286361694,
           0.661831259727478,
           0.10354921966791153,
           0.3140648305416107,
           0.44391465187072754,
           0.3097658157348633,
           0.603900671005249,
           0.40239208936691284,
           0.3157247006893158,
           0.4009957015514374,
           0.20042496919631958,
           0.40284663438796997,
           0.3611961305141449,
           0.3583471179008484,
           0.5051142573356628,
           0.524384081363678,
           0.27908921241760254,
           0.3933006525039673,
           0.3415963351726532,
           0.575262725353241,
           0.4922822415828705,
           0.4046141505241394,
           0.21960550546646118,
           0.17850801348686218,
           0.43529075384140015,
           0.21511168777942657,
           0.14895829558372498,
           0.4699747860431671,
           0.15675199031829834,
           0.276283860206604,
           0.5032028555870056,
           0.39411836862564087,
           0.42511075735092163,
           0.12672430276870728,
           0.4511150121688843,
           0.2039770483970642,
           0.5791597962379456,
           0.21378850936889648,
           0.12841728329658508,
           0.2969731092453003,
           0.33002161979675293,
           0.5007497072219849,
           0.34398582577705383,
           0.20460420846939087,
           0.38844552636146545,
           0.20496971905231476,
           0.5873410105705261,
           0.3630259931087494,
           0.2708852291107178,
           0.6167587637901306
          ],
          [
           0.6262217164039612,
           0.9999997615814209,
           0.3714523911476135,
           0.48552316427230835,
           0.49440181255340576,
           0.4512730836868286,
           0.35975632071495056,
           0.41628196835517883,
           0.44143393635749817,
           0.3985162675380707,
           0.28024494647979736,
           0.46859294176101685,
           0.24140304327011108,
           0.3502383828163147,
           0.2716341018676758,
           0.5043867826461792,
           0.3192935287952423,
           0.2947430908679962,
           0.39615780115127563,
           0.5858249664306641,
           0.08297865092754364,
           0.20617035031318665,
           0.4036886692047119,
           0.2825202941894531,
           0.5279935002326965,
           0.3233054578304291,
           0.27243393659591675,
           0.33983558416366577,
           0.20472748577594757,
           0.35840290784835815,
           0.36498355865478516,
           0.3249928653240204,
           0.48526081442832947,
           0.3663991093635559,
           0.2768597900867462,
           0.3925226926803589,
           0.276957631111145,
           0.534680962562561,
           0.42046234011650085,
           0.43204447627067566,
           0.2306540310382843,
           0.14789992570877075,
           0.33269912004470825,
           0.1613759696483612,
           0.08231392502784729,
           0.4377719461917877,
           0.162002295255661,
           0.3063661456108093,
           0.4289851784706116,
           0.3214586675167084,
           0.39061862230300903,
           0.08591790497303009,
           0.3318674564361572,
           0.20273014903068542,
           0.46126410365104675,
           0.22431820631027222,
           0.08711402118206024,
           0.2369977831840515,
           0.2526746690273285,
           0.38777920603752136,
           0.2874245345592499,
           0.1802704632282257,
           0.3678625226020813,
           0.19391998648643494,
           0.49851810932159424,
           0.29664039611816406,
           0.22717759013175964,
           0.5320436954498291
          ],
          [
           0.4645747244358063,
           0.3714523911476135,
           1.0000001192092896,
           0.6155476570129395,
           0.511144757270813,
           0.3563220798969269,
           0.45183709263801575,
           0.4159604012966156,
           0.7352744340896606,
           0.6596734523773193,
           0.09825994819402695,
           0.22543169558048248,
           0.22509554028511047,
           0.30358633399009705,
           0.2897428274154663,
           0.5081073045730591,
           0.3120732307434082,
           0.3134038746356964,
           0.5078060030937195,
           0.5733746886253357,
           -0.019097108393907547,
           0.21506106853485107,
           0.2939382791519165,
           0.31665778160095215,
           0.5505523681640625,
           0.4508284032344818,
           0.33222371339797974,
           0.3634622097015381,
           0.1905781775712967,
           0.28063398599624634,
           0.30831795930862427,
           0.16883718967437744,
           0.5830186009407043,
           0.5416911244392395,
           0.24960997700691223,
           0.45057785511016846,
           0.3182343542575836,
           0.3891151547431946,
           0.34875962138175964,
           0.3560137450695038,
           0.1554725170135498,
           0.11011892557144165,
           0.30705273151397705,
           0.27111750841140747,
           0.07393759489059448,
           0.43067991733551025,
           0.15881897509098053,
           0.27339601516723633,
           0.3988316059112549,
           0.5281646847724915,
           0.3805461525917053,
           0.04234311357140541,
           0.4968598484992981,
           0.10848362743854523,
           0.582676112651825,
           0.20819051563739777,
           0.04167857766151428,
           0.21789565682411194,
           0.3372909128665924,
           0.4245048463344574,
           0.2586454153060913,
           0.18658095598220825,
           0.36930039525032043,
           0.1375902146100998,
           0.4471108317375183,
           0.3164089322090149,
           0.19045493006706238,
           0.6425069570541382
          ],
          [
           0.5927590727806091,
           0.48552316427230835,
           0.6155476570129395,
           0.9999997019767761,
           0.6013584136962891,
           0.47624528408050537,
           0.5412757992744446,
           0.45117202401161194,
           0.689507007598877,
           0.5552109479904175,
           0.18535786867141724,
           0.37733355164527893,
           0.33352094888687134,
           0.349101722240448,
           0.3116818368434906,
           0.6218430399894714,
           0.3932906985282898,
           0.4378511309623718,
           0.5628113150596619,
           0.7055002450942993,
           0.12192695587873459,
           0.2668095827102661,
           0.4103925824165344,
           0.34054434299468994,
           0.6294406652450562,
           0.4634545147418976,
           0.3557708263397217,
           0.4412824511528015,
           0.18759602308273315,
           0.35935693979263306,
           0.28101250529289246,
           0.26234370470046997,
           0.5480750203132629,
           0.7885144948959351,
           0.3313021659851074,
           0.4759673476219177,
           0.37344735860824585,
           0.552471935749054,
           0.4727920889854431,
           0.4449925422668457,
           0.20488135516643524,
           0.18390768766403198,
           0.3331095278263092,
           0.27866068482398987,
           0.09854808449745178,
           0.5343738198280334,
           0.19285526871681213,
           0.2901371717453003,
           0.5585217475891113,
           0.4639674425125122,
           0.39098647236824036,
           0.08357458561658859,
           0.49464040994644165,
           0.16302648186683655,
           0.7069078087806702,
           0.2337612807750702,
           0.08464314788579941,
           0.3415530323982239,
           0.48269879817962646,
           0.5461470484733582,
           0.30679935216903687,
           0.18869882822036743,
           0.4209630489349365,
           0.16427025198936462,
           0.5558454990386963,
           0.3026389479637146,
           0.23818400502204895,
           0.7924924492835999
          ],
          [
           0.5603529214859009,
           0.49440181255340576,
           0.511144757270813,
           0.6013584136962891,
           0.9999997615814209,
           0.352408230304718,
           0.603182852268219,
           0.5136630535125732,
           0.5879018306732178,
           0.5169559717178345,
           0.25282013416290283,
           0.28732168674468994,
           0.6170677542686462,
           0.42392459511756897,
           0.46187689900398254,
           0.6193049550056458,
           0.4050719141960144,
           0.5135815143585205,
           0.7053219079971313,
           0.6516391038894653,
           0.08698612451553345,
           0.4536929726600647,
           0.27655088901519775,
           0.4818587899208069,
           0.8639402389526367,
           0.6200034022331238,
           0.41107916831970215,
           0.7987988591194153,
           0.22590799629688263,
           0.37853264808654785,
           0.28184616565704346,
           0.18131740391254425,
           0.5228695273399353,
           0.4998016953468323,
           0.30846959352493286,
           0.6430596709251404,
           0.47840309143066406,
           0.5738979578018188,
           0.39996373653411865,
           0.4487728178501129,
           0.2355107218027115,
           0.21552035212516785,
           0.5341671705245972,
           0.20574651658535004,
           0.08640976995229721,
           0.5629866123199463,
           0.1836913526058197,
           0.5256290435791016,
           0.4349941611289978,
           0.39307674765586853,
           0.31497788429260254,
           0.08180297166109085,
           0.5446652173995972,
           0.2027430236339569,
           0.6520705819129944,
           0.21966330707073212,
           0.08299712836742401,
           0.3038679361343384,
           0.41117382049560547,
           0.4695754051208496,
           0.5242677330970764,
           0.3848576843738556,
           0.5000854134559631,
           0.19767670333385468,
           0.5909609794616699,
           0.5149288177490234,
           0.40617871284484863,
           0.8019988536834717
          ],
          [
           0.4271277189254761,
           0.4512730836868286,
           0.3563220798969269,
           0.47624528408050537,
           0.352408230304718,
           1.000000238418579,
           0.34182703495025635,
           0.275099515914917,
           0.41831862926483154,
           0.49519041180610657,
           0.37911826372146606,
           0.5245798826217651,
           0.21038159728050232,
           0.22015108168125153,
           0.30319035053253174,
           0.629580020904541,
           0.6190627813339233,
           0.3137631118297577,
           0.2806349992752075,
           0.4460280239582062,
           0.29057157039642334,
           0.0767306387424469,
           0.6390701532363892,
           0.31581422686576843,
           0.4847721755504608,
           0.2983686923980713,
           0.35404935479164124,
           0.21346405148506165,
           0.2907244861125946,
           0.40869688987731934,
           0.3898477852344513,
           0.5160969495773315,
           0.4218597710132599,
           0.2765374779701233,
           0.2836799621582031,
           0.267738401889801,
           0.2696482837200165,
           0.699734091758728,
           0.38981345295906067,
           0.34281209111213684,
           0.419986367225647,
           0.21596720814704895,
           0.2575162649154663,
           0.27539685368537903,
           0.10116036236286163,
           0.3587101995944977,
           0.25619661808013916,
           0.20848432183265686,
           0.5944733023643494,
           0.27158239483833313,
           0.4313339591026306,
           0.1655922830104828,
           0.22523799538612366,
           0.18825611472129822,
           0.38944780826568604,
           0.6596240997314453,
           0.16554293036460876,
           0.3367782533168793,
           0.3599427342414856,
           0.6647561192512512,
           0.20281708240509033,
           0.23097820580005646,
           0.32929810881614685,
           0.22923853993415833,
           0.32455310225486755,
           0.26152241230010986,
           0.2384358048439026,
           0.41722482442855835
          ],
          [
           0.42686256766319275,
           0.35975632071495056,
           0.45183709263801575,
           0.5412757992744446,
           0.603182852268219,
           0.34182703495025635,
           0.9999996423721313,
           0.3672771155834198,
           0.4828503727912903,
           0.4059332609176636,
           0.1415325105190277,
           0.16440674662590027,
           0.34201499819755554,
           0.3845566511154175,
           0.3731060028076172,
           0.4411010444164276,
           0.4202326536178589,
           0.5038475394248962,
           0.6362175345420837,
           0.46891093254089355,
           0.16847054660320282,
           0.2945604622364044,
           0.25970470905303955,
           0.43097683787345886,
           0.5852586627006531,
           0.6417337656021118,
           0.4858807325363159,
           0.4101424217224121,
           0.1948964148759842,
           0.34457480907440186,
           0.2555283010005951,
           0.16953152418136597,
           0.4241317808628082,
           0.37586134672164917,
           0.3683108687400818,
           0.48768436908721924,
           0.4952777922153473,
           0.3438493609428406,
           0.38326936960220337,
           0.41882288455963135,
           0.26845771074295044,
           0.22232308983802795,
           0.43634864687919617,
           0.2731746435165405,
           0.08843043446540833,
           0.6313796043395996,
           0.2161502242088318,
           0.4192686676979065,
           0.404665470123291,
           0.397601455450058,
           0.2579765319824219,
           0.07841971516609192,
           0.5933594703674316,
           0.20618683099746704,
           0.5599341988563538,
           0.23905867338180542,
           0.07975660264492035,
           0.35757723450660706,
           0.5269973874092102,
           0.425376832485199,
           0.34780895709991455,
           0.345719575881958,
           0.4135425388813019,
           0.18138015270233154,
           0.5760231614112854,
           0.40893858671188354,
           0.3109172284603119,
           0.6208107471466064
          ],
          [
           0.4830588698387146,
           0.41628196835517883,
           0.4159604012966156,
           0.45117202401161194,
           0.5136630535125732,
           0.275099515914917,
           0.3672771155834198,
           0.9999998807907104,
           0.49367189407348633,
           0.503848671913147,
           0.08342757076025009,
           0.432158499956131,
           0.3058331310749054,
           0.4903412461280823,
           0.32646748423576355,
           0.397812157869339,
           0.2620818614959717,
           0.2812664806842804,
           0.4802164137363434,
           0.7050057649612427,
           0.004117580596357584,
           0.3083903193473816,
           0.45343586802482605,
           0.3047237694263458,
           0.500683069229126,
           0.39869970083236694,
           0.3789334297180176,
           0.39594122767448425,
           0.13428421318531036,
           0.42110395431518555,
           0.49279773235321045,
           0.3430336117744446,
           0.4808562397956848,
           0.44597771763801575,
           0.2019217610359192,
           0.3760669529438019,
           0.3335491418838501,
           0.39112910628318787,
           0.530764102935791,
           0.4890124201774597,
           0.20198288559913635,
           0.11400178074836731,
           0.4097127318382263,
           0.19041065871715546,
           0.05593941733241081,
           0.4808780550956726,
           0.12566423416137695,
           0.2569192051887512,
           0.4382728338241577,
           0.3795161843299866,
           0.6213594079017639,
           0.05214861035346985,
           0.3691079616546631,
           0.13684605062007904,
           0.42218220233917236,
           0.12807497382164001,
           0.05328148603439331,
           0.19473731517791748,
           0.26339417695999146,
           0.4219309389591217,
           0.40343961119651794,
           0.2697567343711853,
           0.45449161529541016,
           0.15169872343540192,
           0.6779659986495972,
           0.43863338232040405,
           0.2835468053817749,
           0.519174337387085
          ],
          [
           0.5770176649093628,
           0.44143393635749817,
           0.7352744340896606,
           0.689507007598877,
           0.5879018306732178,
           0.41831862926483154,
           0.4828503727912903,
           0.49367189407348633,
           0.9999998807907104,
           0.7852751016616821,
           0.14340199530124664,
           0.3126603960990906,
           0.33136314153671265,
           0.35007068514823914,
           0.38423463702201843,
           0.5468911528587341,
           0.37511777877807617,
           0.3558415472507477,
           0.5758218765258789,
           0.6754384636878967,
           0.022253070026636124,
           0.348987340927124,
           0.4090608060359955,
           0.36179301142692566,
           0.5975922346115112,
           0.48052021861076355,
           0.3548215329647064,
           0.4286192059516907,
           0.20120875537395477,
           0.38060081005096436,
           0.4162214398384094,
           0.24055886268615723,
           0.5519623160362244,
           0.5681352019309998,
           0.2722432613372803,
           0.4323992431163788,
           0.3780805468559265,
           0.47787487506866455,
           0.44480642676353455,
           0.38370317220687866,
           0.18339380621910095,
           0.17795102298259735,
           0.3804693818092346,
           0.2537628412246704,
           0.11118962615728378,
           0.4686260223388672,
           0.1866234838962555,
           0.32775411009788513,
           0.5137194991111755,
           0.6135901212692261,
           0.4556463956832886,
           0.09425660967826843,
           0.49271756410598755,
           0.15694011747837067,
           0.7974809408187866,
           0.2463185042142868,
           0.09500844031572342,
           0.2793181240558624,
           0.3764716684818268,
           0.597088634967804,
           0.34295928478240967,
           0.2251434624195099,
           0.3949205279350281,
           0.1936596930027008,
           0.5208094120025635,
           0.3520807921886444,
           0.27273353934288025,
           0.7059345245361328
          ],
          [
           0.4971194863319397,
           0.3985162675380707,
           0.6596734523773193,
           0.5552109479904175,
           0.5169559717178345,
           0.49519041180610657,
           0.4059332609176636,
           0.503848671913147,
           0.7852751016616821,
           1.0000003576278687,
           0.14619438350200653,
           0.43685054779052734,
           0.2071426510810852,
           0.3803858458995819,
           0.27213698625564575,
           0.5295071005821228,
           0.3932366371154785,
           0.2879813015460968,
           0.3964039981365204,
           0.6741118431091309,
           0.09061840176582336,
           0.2240518480539322,
           0.5917940139770508,
           0.2879159152507782,
           0.5464304685592651,
           0.3566593825817108,
           0.3085576891899109,
           0.3060612380504608,
           0.19832530617713928,
           0.370249480009079,
           0.4948877990245819,
           0.41709133982658386,
           0.44473621249198914,
           0.42883849143981934,
           0.25990399718284607,
           0.35538917779922485,
           0.2820788323879242,
           0.5288515090942383,
           0.4218520224094391,
           0.35339632630348206,
           0.2816258668899536,
           0.21217039227485657,
           0.3044934868812561,
           0.21244379878044128,
           0.09736651182174683,
           0.4153962731361389,
           0.10887634009122849,
           0.28188055753707886,
           0.5191922783851624,
           0.5240748524665833,
           0.5989779233932495,
           0.11288334429264069,
           0.38901400566101074,
           0.09544602036476135,
           0.5701466798782349,
           0.28720220923423767,
           0.11377004534006119,
           0.23798488080501556,
           0.3429449200630188,
           0.6012968420982361,
           0.26285383105278015,
           0.22889003157615662,
           0.35192012786865234,
           0.11823804676532745,
           0.5408843755722046,
           0.28728675842285156,
           0.16555644571781158,
           0.5779828429222107
          ],
          [
           0.22477667033672333,
           0.28024494647979736,
           0.09825994819402695,
           0.18535786867141724,
           0.25282013416290283,
           0.37911826372146606,
           0.1415325105190277,
           0.08342757076025009,
           0.14340199530124664,
           0.14619438350200653,
           1.0,
           0.3507596254348755,
           0.2190251648426056,
           0.05954635888338089,
           0.2453504502773285,
           0.34213897585868835,
           0.40493425726890564,
           0.2625735402107239,
           0.1885143220424652,
           0.14154884219169617,
           0.43167632818222046,
           0.08053275942802429,
           0.14018726348876953,
           0.2363235205411911,
           0.3271419405937195,
           0.1880658119916916,
           0.23387542366981506,
           0.2075265794992447,
           0.21843186020851135,
           0.40003129839897156,
           0.2070924937725067,
           0.15724143385887146,
           0.30474063754081726,
           0.060036905109882355,
           0.2875644564628601,
           0.24580539762973785,
           0.1975308656692505,
           0.42480313777923584,
           0.17449899017810822,
           0.18288983404636383,
           0.394564151763916,
           0.459469735622406,
           0.1898195445537567,
           0.22141557931900024,
           0.06386292725801468,
           0.22173744440078735,
           0.2415955811738968,
           0.320687860250473,
           0.15407872200012207,
           0.12473151832818985,
           0.07501900941133499,
           0.2129725217819214,
           0.09900467842817307,
           0.169525608420372,
           0.1879475712776184,
           0.2341281622648239,
           0.21226102113723755,
           0.30434295535087585,
           0.27790358662605286,
           0.22453492879867554,
           0.26169607043266296,
           0.1721498966217041,
           0.36090877652168274,
           0.1699422001838684,
           0.14643698930740356,
           0.1859980821609497,
           0.2767223119735718,
           0.2230301946401596
          ],
          [
           0.4635327458381653,
           0.46859294176101685,
           0.22543169558048248,
           0.37733355164527893,
           0.28732168674468994,
           0.5245798826217651,
           0.16440674662590027,
           0.432158499956131,
           0.3126603960990906,
           0.43685054779052734,
           0.3507596254348755,
           0.9999999403953552,
           0.0923721194267273,
           0.4772605299949646,
           0.18082469701766968,
           0.44472166895866394,
           0.26752719283103943,
           0.17804990708827972,
           0.20034724473953247,
           0.7056626081466675,
           0.2328089475631714,
           0.04676683619618416,
           0.8159053325653076,
           0.20464938879013062,
           0.3989821672439575,
           0.16091586649417877,
           0.19997349381446838,
           0.16168692708015442,
           0.14247256517410278,
           0.3686814606189728,
           0.4165646433830261,
           0.7594550251960754,
           0.40179142355918884,
           0.23283305764198303,
           0.14412376284599304,
           0.23015522956848145,
           0.17576614022254944,
           0.5924649238586426,
           0.6403346061706543,
           0.42560699582099915,
           0.3644025921821594,
           0.19318035244941711,
           0.16384577751159668,
           0.14005985856056213,
           0.0683225467801094,
           0.3203624486923218,
           0.10247498750686646,
           0.1714109480381012,
           0.47334104776382446,
           0.21405357122421265,
           0.6678598523139954,
           0.12433318793773651,
           0.10269616544246674,
           0.1479400396347046,
           0.291917622089386,
           0.21586894989013672,
           0.12596064805984497,
           0.16941332817077637,
           0.2175064980983734,
           0.4117497205734253,
           0.12132816761732101,
           0.10980509221553802,
           0.3213246166706085,
           0.1485098898410797,
           0.6203330755233765,
           0.14993774890899658,
           0.11020452529191971,
           0.3800049126148224
          ],
          [
           0.33300864696502686,
           0.24140304327011108,
           0.22509554028511047,
           0.33352094888687134,
           0.6170677542686462,
           0.21038159728050232,
           0.34201499819755554,
           0.3058331310749054,
           0.33136314153671265,
           0.2071426510810852,
           0.2190251648426056,
           0.0923721194267273,
           1.000000238418579,
           0.21456380188465118,
           0.43047964572906494,
           0.32902050018310547,
           0.37462955713272095,
           0.5329577922821045,
           0.5725232362747192,
           0.3550417423248291,
           0.12127242982387543,
           0.46084147691726685,
           0.10401488840579987,
           0.4773922264575958,
           0.48198041319847107,
           0.5382356643676758,
           0.33220502734184265,
           0.6667699813842773,
           0.22803360223770142,
           0.21679258346557617,
           0.18929482996463776,
           0.038117848336696625,
           0.3300711512565613,
           0.3363303542137146,
           0.3339044153690338,
           0.4654527008533478,
           0.4574028551578522,
           0.26287397742271423,
           0.22155392169952393,
           0.3524916470050812,
           0.2355966717004776,
           0.3084036409854889,
           0.44405677914619446,
           0.2450416386127472,
           0.11583130061626434,
           0.3171343505382538,
           0.271700382232666,
           0.5020872354507446,
           0.2470071017742157,
           0.18106910586357117,
           0.16910627484321594,
           0.12809959053993225,
           0.3451789617538452,
           0.1411035656929016,
           0.37518876791000366,
           0.1962754726409912,
           0.12761950492858887,
           0.3609599173069,
           0.29538142681121826,
           0.28698575496673584,
           0.47351381182670593,
           0.3351052701473236,
           0.3867962062358856,
           0.17826944589614868,
           0.30735018849372864,
           0.48716819286346436,
           0.47491729259490967,
           0.44914358854293823
          ],
          [
           0.40247616171836853,
           0.3502383828163147,
           0.30358633399009705,
           0.349101722240448,
           0.42392459511756897,
           0.22015108168125153,
           0.3845566511154175,
           0.4903412461280823,
           0.35007068514823914,
           0.3803858458995819,
           0.05954635888338089,
           0.4772605299949646,
           0.21456380188465118,
           1.0,
           0.2343650609254837,
           0.31487756967544556,
           0.25877636671066284,
           0.2980431318283081,
           0.43004465103149414,
           0.6117428541183472,
           0.04816921427845955,
           0.23308788239955902,
           0.524510383605957,
           0.2889987528324127,
           0.42871615290641785,
           0.3232993483543396,
           0.2995963990688324,
           0.32696861028671265,
           0.10188715159893036,
           0.28898343443870544,
           0.31824344396591187,
           0.4505086839199066,
           0.33737072348594666,
           0.2036367654800415,
           0.1839316487312317,
           0.34368419647216797,
           0.3139704167842865,
           0.2785772979259491,
           0.46597355604171753,
           0.47977033257484436,
           0.25318050384521484,
           0.15828588604927063,
           0.2559795379638672,
           0.14748023450374603,
           0.09676891565322876,
           0.44799870252609253,
           0.123420350253582,
           0.2688235342502594,
           0.3310549855232239,
           0.24336141347885132,
           0.49664872884750366,
           0.07282665371894836,
           0.24938908219337463,
           0.12533295154571533,
           0.32156699895858765,
           0.09318287670612335,
           0.07453566044569016,
           0.21292981505393982,
           0.237053781747818,
           0.2863219976425171,
           0.24164262413978577,
           0.22394050657749176,
           0.3065946698188782,
           0.13658040761947632,
           0.7341142296791077,
           0.38825657963752747,
           0.23998884856700897,
           0.42065685987472534
          ],
          [
           0.3756859302520752,
           0.2716341018676758,
           0.2897428274154663,
           0.3116818368434906,
           0.46187689900398254,
           0.30319035053253174,
           0.3731060028076172,
           0.32646748423576355,
           0.38423463702201843,
           0.27213698625564575,
           0.2453504502773285,
           0.18082469701766968,
           0.43047964572906494,
           0.2343650609254837,
           1.000000238418579,
           0.36747846007347107,
           0.41176658868789673,
           0.27613502740859985,
           0.49789953231811523,
           0.3523796498775482,
           0.08350235223770142,
           0.49478304386138916,
           0.17507943511009216,
           0.3558189868927002,
           0.5120508670806885,
           0.5260494947433472,
           0.44142937660217285,
           0.422171413898468,
           0.19205425679683685,
           0.34171807765960693,
           0.27705833315849304,
           0.12925538420677185,
           0.41546398401260376,
           0.41970548033714294,
           0.31831681728363037,
           0.2585265040397644,
           0.3710412085056305,
           0.3984842598438263,
           0.2594574987888336,
           0.2769172787666321,
           0.2770126163959503,
           0.1335442066192627,
           0.6905557513237,
           0.20753425359725952,
           0.09652826189994812,
           0.36139142513275146,
           0.24084247648715973,
           0.36599215865135193,
           0.290202260017395,
           0.33813756704330444,
           0.196030393242836,
           0.09306464344263077,
           0.2743661105632782,
           0.16204944252967834,
           0.3880285322666168,
           0.2449653297662735,
           0.0932595282793045,
           0.3001176118850708,
           0.2540668845176697,
           0.34450605511665344,
           0.5866366624832153,
           0.4877011179924011,
           0.4034193456172943,
           0.2150706946849823,
           0.3259953260421753,
           0.5058445334434509,
           0.45370393991470337,
           0.43258270621299744
          ],
          [
           0.5512391328811646,
           0.5043867826461792,
           0.5081073045730591,
           0.6218430399894714,
           0.6193049550056458,
           0.629580020904541,
           0.4411010444164276,
           0.397812157869339,
           0.5468911528587341,
           0.5295071005821228,
           0.34213897585868835,
           0.44472166895866394,
           0.32902050018310547,
           0.31487756967544556,
           0.36747846007347107,
           1.0000001192092896,
           0.5269575715065002,
           0.49072590470314026,
           0.4350554049015045,
           0.5799334645271301,
           0.23620674014091492,
           0.24003268778324127,
           0.4561946392059326,
           0.3840287923812866,
           0.7977226972579956,
           0.41697388887405396,
           0.3960777521133423,
           0.361466646194458,
           0.23116149008274078,
           0.4336579740047455,
           0.3747601807117462,
           0.41904929280281067,
           0.513226330280304,
           0.44110405445098877,
           0.358531653881073,
           0.5587785243988037,
           0.36411118507385254,
           0.6778576970100403,
           0.390845388174057,
           0.3918348252773285,
           0.32414403557777405,
           0.2566685378551483,
           0.4141165614128113,
           0.27812111377716064,
           0.135359987616539,
           0.47900390625,
           0.211222305893898,
           0.3215698003768921,
           0.5246962904930115,
           0.4190906882286072,
           0.37486526370048523,
           0.09480287879705429,
           0.3192020654678345,
           0.16825135052204132,
           0.5269142985343933,
           0.41421380639076233,
           0.09647630155086517,
           0.2943134605884552,
           0.5247515439987183,
           0.6154841780662537,
           0.30478596687316895,
           0.2734755277633667,
           0.5268268585205078,
           0.20076678693294525,
           0.4588809311389923,
           0.3137783706188202,
           0.2407471239566803,
           0.6825549602508545
          ],
          [
           0.3687630891799927,
           0.3192935287952423,
           0.3120732307434082,
           0.3932906985282898,
           0.4050719141960144,
           0.6190627813339233,
           0.4202326536178589,
           0.2620818614959717,
           0.37511777877807617,
           0.3932366371154785,
           0.40493425726890564,
           0.26752719283103943,
           0.37462955713272095,
           0.25877636671066284,
           0.41176658868789673,
           0.5269575715065002,
           1.0,
           0.6074564456939697,
           0.42205214500427246,
           0.36261823773384094,
           0.32034018635749817,
           0.23077870905399323,
           0.42473044991493225,
           0.48258650302886963,
           0.508942186832428,
           0.47497910261154175,
           0.5216338634490967,
           0.35332414507865906,
           0.48262935876846313,
           0.413669228553772,
           0.3224929869174957,
           0.39526626467704773,
           0.3550587296485901,
           0.24526488780975342,
           0.6056649088859558,
           0.4234001636505127,
           0.5215277075767517,
           0.4554750919342041,
           0.2892623841762543,
           0.33293354511260986,
           0.6829462051391602,
           0.5013325810432434,
           0.34160375595092773,
           0.5111494064331055,
           0.34012290835380554,
           0.3740675449371338,
           0.5682058334350586,
           0.4509751796722412,
           0.40105724334716797,
           0.2464601844549179,
           0.2877708673477173,
           0.33075690269470215,
           0.2532021701335907,
           0.3363904654979706,
           0.3650527000427246,
           0.6658183932304382,
           0.33041834831237793,
           0.6103792190551758,
           0.6015636324882507,
           0.446003794670105,
           0.3632633686065674,
           0.4556565582752228,
           0.45064985752105713,
           0.3616992235183716,
           0.3376568555831909,
           0.49370062351226807,
           0.5352436304092407,
           0.42747071385383606
          ],
          [
           0.3396311402320862,
           0.2947430908679962,
           0.3134038746356964,
           0.4378511309623718,
           0.5135815143585205,
           0.3137631118297577,
           0.5038475394248962,
           0.2812664806842804,
           0.3558415472507477,
           0.2879813015460968,
           0.2625735402107239,
           0.17804990708827972,
           0.5329577922821045,
           0.2980431318283081,
           0.27613502740859985,
           0.49072590470314026,
           0.6074564456939697,
           1.0000001192092896,
           0.4999854564666748,
           0.34947705268859863,
           0.3376905918121338,
           0.20206312835216522,
           0.24935832619667053,
           0.5419912934303284,
           0.5466750264167786,
           0.5021123290061951,
           0.6259070038795471,
           0.516733705997467,
           0.2681107819080353,
           0.34650206565856934,
           0.21532322466373444,
           0.15354816615581512,
           0.36203476786613464,
           0.2385272979736328,
           0.584518551826477,
           0.6961320638656616,
           0.5750923156738281,
           0.3072323501110077,
           0.22469495236873627,
           0.3088507652282715,
           0.4809361696243286,
           0.5420190691947937,
           0.2909509539604187,
           0.48028361797332764,
           0.17643246054649353,
           0.36167752742767334,
           0.4204031229019165,
           0.48939049243927,
           0.33110785484313965,
           0.23218604922294617,
           0.20802050828933716,
           0.16255562007427216,
           0.38823625445365906,
           0.22916455566883087,
           0.37994661927223206,
           0.2209177166223526,
           0.16403844952583313,
           0.4957180619239807,
           0.6555996537208557,
           0.3297617733478546,
           0.2921615540981293,
           0.41014713048934937,
           0.4465269446372986,
           0.2083774358034134,
           0.345181405544281,
           0.47797295451164246,
           0.36643898487091064,
           0.5299425721168518
          ],
          [
           0.5300878286361694,
           0.39615780115127563,
           0.5078060030937195,
           0.5628113150596619,
           0.7053219079971313,
           0.2806349992752075,
           0.6362175345420837,
           0.4802164137363434,
           0.5758218765258789,
           0.3964039981365204,
           0.1885143220424652,
           0.20034724473953247,
           0.5725232362747192,
           0.43004465103149414,
           0.49789953231811523,
           0.4350554049015045,
           0.42205214500427246,
           0.4999854564666748,
           1.000000238418579,
           0.5735443830490112,
           0.06316153705120087,
           0.5277961492538452,
           0.21171388030052185,
           0.5664018392562866,
           0.5984856486320496,
           0.7604353427886963,
           0.4205550253391266,
           0.6965246796607971,
           0.2705891728401184,
           0.31494593620300293,
           0.3033100962638855,
           0.11674445122480392,
           0.4387371838092804,
           0.5301775932312012,
           0.37709760665893555,
           0.4786785840988159,
           0.5225189924240112,
           0.41293126344680786,
           0.367431104183197,
           0.37227267026901245,
           0.24850749969482422,
           0.27228230237960815,
           0.5171336531639099,
           0.30759090185165405,
           0.13234883546829224,
           0.5095267295837402,
           0.24905791878700256,
           0.46192970871925354,
           0.3958789110183716,
           0.4166952669620514,
           0.2918042838573456,
           0.13185058534145355,
           0.45868122577667236,
           0.2127528041601181,
           0.6150695085525513,
           0.1785028725862503,
           0.13154707849025726,
           0.429261714220047,
           0.41403263807296753,
           0.4381900727748871,
           0.5088547468185425,
           0.32204920053482056,
           0.49639126658439636,
           0.2380673885345459,
           0.5699365139007568,
           0.4787983298301697,
           0.45352232456207275,
           0.6704484224319458
          ],
          [
           0.661831259727478,
           0.5858249664306641,
           0.5733746886253357,
           0.7055002450942993,
           0.6516391038894653,
           0.4460280239582062,
           0.46891093254089355,
           0.7050057649612427,
           0.6754384636878967,
           0.6741118431091309,
           0.14154884219169617,
           0.7056626081466675,
           0.3550417423248291,
           0.6117428541183472,
           0.3523796498775482,
           0.5799334645271301,
           0.36261823773384094,
           0.34947705268859863,
           0.5735443830490112,
           1.0000004768371582,
           0.01751604862511158,
           0.33916255831718445,
           0.710686206817627,
           0.35492441058158875,
           0.6637904047966003,
           0.46677136421203613,
           0.3466816246509552,
           0.4847206473350525,
           0.18969133496284485,
           0.4009811580181122,
           0.5296052694320679,
           0.5599775910377502,
           0.568997323513031,
           0.6023670434951782,
           0.2574537992477417,
           0.4625876545906067,
           0.37935173511505127,
           0.5445271730422974,
           0.6666872501373291,
           0.6416966319084167,
           0.2629714906215668,
           0.1629224419593811,
           0.4269649088382721,
           0.20527726411819458,
           0.09333229809999466,
           0.591839075088501,
           0.16208337247371674,
           0.3512018322944641,
           0.5994225740432739,
           0.4668291211128235,
           0.7736935615539551,
           0.10145242512226105,
           0.4163564145565033,
           0.1695258915424347,
           0.6410498023033142,
           0.23528505861759186,
           0.10241006314754486,
           0.2568497955799103,
           0.3622193932533264,
           0.5332344770431519,
           0.33270829916000366,
           0.23711246252059937,
           0.4533141851425171,
           0.19797298312187195,
           0.8172704577445984,
           0.41030043363571167,
           0.28291720151901245,
           0.7440131902694702
          ],
          [
           0.10354921966791153,
           0.08297865092754364,
           -0.019097108393907547,
           0.12192695587873459,
           0.08698612451553345,
           0.29057157039642334,
           0.16847054660320282,
           0.004117580596357584,
           0.022253070026636124,
           0.09061840176582336,
           0.43167632818222046,
           0.2328089475631714,
           0.12127242982387543,
           0.04816921427845955,
           0.08350235223770142,
           0.23620674014091492,
           0.32034018635749817,
           0.3376905918121338,
           0.06316153705120087,
           0.01751604862511158,
           1.0,
           -0.009671194478869438,
           0.1337067037820816,
           0.28456830978393555,
           0.12054848670959473,
           0.14504395425319672,
           0.2655414342880249,
           0.05536988005042076,
           0.1690562665462494,
           0.2269573211669922,
           0.10490911453962326,
           0.1297702193260193,
           0.13133618235588074,
           -0.013835511170327663,
           0.36630186438560486,
           0.16661755740642548,
           0.2207798957824707,
           0.2510738968849182,
           0.08039579540491104,
           0.05165257677435875,
           0.5323357582092285,
           0.44468963146209717,
           0.03829630836844444,
           0.2517443895339966,
           0.10487419366836548,
           0.10594974458217621,
           0.22063057124614716,
           0.1777067482471466,
           0.13602466881275177,
           0.031730953603982925,
           0.03129706531763077,
           0.21881097555160522,
           0.012053301557898521,
           0.14728379249572754,
           0.07248281687498093,
           0.12835952639579773,
           0.22022110223770142,
           0.39173173904418945,
           0.3430653214454651,
           0.14654362201690674,
           0.08780709654092789,
           0.1489597111940384,
           0.34227126836776733,
           0.07681144028902054,
           0.04457871615886688,
           0.05501118674874306,
           0.1365157663822174,
           0.09468051791191101
          ],
          [
           0.3140648305416107,
           0.20617035031318665,
           0.21506106853485107,
           0.2668095827102661,
           0.4536929726600647,
           0.0767306387424469,
           0.2945604622364044,
           0.3083903193473816,
           0.348987340927124,
           0.2240518480539322,
           0.08053275942802429,
           0.04676683619618416,
           0.46084147691726685,
           0.23308788239955902,
           0.49478304386138916,
           0.24003268778324127,
           0.23077870905399323,
           0.20206312835216522,
           0.5277961492538452,
           0.33916255831718445,
           -0.009671194478869438,
           1.0000003576278687,
           0.05723292753100395,
           0.3069370687007904,
           0.40016162395477295,
           0.4350750148296356,
           0.1907147765159607,
           0.42248210310935974,
           0.09958922863006592,
           0.15715011954307556,
           0.18948101997375488,
           -0.008646368980407715,
           0.2744602560997009,
           0.4250805974006653,
           0.15605312585830688,
           0.2378961741924286,
           0.40512487292289734,
           0.18224915862083435,
           0.11264115571975708,
           0.22451895475387573,
           0.10265275835990906,
           0.12578245997428894,
           0.5518347024917603,
           0.11630135029554367,
           0.12848563492298126,
           0.2802122235298157,
           0.16667816042900085,
           0.3614591062068939,
           0.15302783250808716,
           0.2851189970970154,
           0.11783286929130554,
           0.051486894488334656,
           0.18285000324249268,
           0.10080500692129135,
           0.3511918783187866,
           0.09006009995937347,
           0.05184626206755638,
           0.18531617522239685,
           0.14520025253295898,
           0.17298956215381622,
           0.4561777710914612,
           0.27764448523521423,
           0.2581995725631714,
           0.1411890685558319,
           0.3054618835449219,
           0.4567182958126068,
           0.4596238136291504,
           0.3877555727958679
          ],
          [
           0.44391465187072754,
           0.4036886692047119,
           0.2939382791519165,
           0.4103925824165344,
           0.27655088901519775,
           0.6390701532363892,
           0.25970470905303955,
           0.45343586802482605,
           0.4090608060359955,
           0.5917940139770508,
           0.14018726348876953,
           0.8159053325653076,
           0.10401488840579987,
           0.524510383605957,
           0.17507943511009216,
           0.4561946392059326,
           0.42473044991493225,
           0.24935832619667053,
           0.21171388030052185,
           0.710686206817627,
           0.1337067037820816,
           0.05723292753100395,
           0.9999999403953552,
           0.2242588996887207,
           0.39790940284729004,
           0.21545933187007904,
           0.25946879386901855,
           0.14223292469978333,
           0.1731591820716858,
           0.33321115374565125,
           0.4984815716743469,
           0.8774163722991943,
           0.3715175688266754,
           0.22368943691253662,
           0.15521767735481262,
           0.23358280956745148,
           0.2593385875225067,
           0.4858526885509491,
           0.6219260096549988,
           0.43863558769226074,
           0.3861701786518097,
           0.13614684343338013,
           0.1494394689798355,
           0.1858426034450531,
           0.08086758852005005,
           0.32950395345687866,
           0.15259325504302979,
           0.15689028799533844,
           0.5942973494529724,
           0.2271750271320343,
           0.7738733887672424,
           0.10133165121078491,
           0.15304192900657654,
           0.11106106638908386,
           0.32301223278045654,
           0.4101550579071045,
           0.10266788303852081,
           0.17388656735420227,
           0.27024218440055847,
           0.5529491901397705,
           0.11588715016841888,
           0.20227685570716858,
           0.2765938937664032,
           0.12363487482070923,
           0.6336204409599304,
           0.24889855086803436,
           0.15248733758926392,
           0.39490777254104614
          ],
          [
           0.3097658157348633,
           0.2825202941894531,
           0.31665778160095215,
           0.34054434299468994,
           0.4818587899208069,
           0.31581422686576843,
           0.43097683787345886,
           0.3047237694263458,
           0.36179301142692566,
           0.2879159152507782,
           0.2363235205411911,
           0.20464938879013062,
           0.4773922264575958,
           0.2889987528324127,
           0.3558189868927002,
           0.3840287923812866,
           0.48258650302886963,
           0.5419912934303284,
           0.5664018392562866,
           0.35492441058158875,
           0.28456830978393555,
           0.3069370687007904,
           0.2242588996887207,
           1.000000238418579,
           0.46708688139915466,
           0.6630572080612183,
           0.6087483167648315,
           0.45934200286865234,
           0.3564191460609436,
           0.33560121059417725,
           0.25384825468063354,
           0.16524988412857056,
           0.31157779693603516,
           0.23136533796787262,
           0.44476455450057983,
           0.49929821491241455,
           0.6432873606681824,
           0.30927637219429016,
           0.29904183745384216,
           0.2903403043746948,
           0.4945029318332672,
           0.37446463108062744,
           0.3296690583229065,
           0.45142263174057007,
           0.23662880063056946,
           0.34855952858924866,
           0.3251168131828308,
           0.597973108291626,
           0.2711067497730255,
           0.2927176356315613,
           0.2645021378993988,
           0.3036956787109375,
           0.2502673268318176,
           0.2296631932258606,
           0.32019874453544617,
           0.22914963960647583,
           0.30295759439468384,
           0.5454294681549072,
           0.42390936613082886,
           0.3328557014465332,
           0.3274315595626831,
           0.34604114294052124,
           0.5371424555778503,
           0.34742477536201477,
           0.3467438817024231,
           0.42882901430130005,
           0.402332067489624,
           0.47766047716140747
          ],
          [
           0.603900671005249,
           0.5279935002326965,
           0.5505523681640625,
           0.6294406652450562,
           0.8639402389526367,
           0.4847721755504608,
           0.5852586627006531,
           0.500683069229126,
           0.5975922346115112,
           0.5464304685592651,
           0.3271419405937195,
           0.3989821672439575,
           0.48198041319847107,
           0.42871615290641785,
           0.5120508670806885,
           0.7977226972579956,
           0.508942186832428,
           0.5466750264167786,
           0.5984856486320496,
           0.6637904047966003,
           0.12054848670959473,
           0.40016162395477295,
           0.39790940284729004,
           0.46708688139915466,
           0.9999998807907104,
           0.551186203956604,
           0.45382505655288696,
           0.5870986580848694,
           0.22099465131759644,
           0.4749332368373871,
           0.3104121685028076,
           0.30154454708099365,
           0.6059799790382385,
           0.4772622585296631,
           0.36302751302719116,
           0.6561492681503296,
           0.4593172073364258,
           0.6952925324440002,
           0.44121819734573364,
           0.5012144446372986,
           0.31831252574920654,
           0.2235732078552246,
           0.5661357641220093,
           0.21545648574829102,
           0.09926913678646088,
           0.6158275604248047,
           0.2147616446018219,
           0.44772833585739136,
           0.4795689582824707,
           0.43953263759613037,
           0.35032063722610474,
           0.08154983818531036,
           0.48575645685195923,
           0.190525084733963,
           0.6217114925384521,
           0.27353447675704956,
           0.08256129175424576,
           0.26500850915908813,
           0.4552850127220154,
           0.5270711183547974,
           0.48676323890686035,
           0.45000630617141724,
           0.5385093688964844,
           0.1990782767534256,
           0.5917556285858154,
           0.5301253795623779,
           0.3219011425971985,
           0.868736207485199
          ],
          [
           0.40239208936691284,
           0.3233054578304291,
           0.4508284032344818,
           0.4634545147418976,
           0.6200034022331238,
           0.2983686923980713,
           0.6417337656021118,
           0.39869970083236694,
           0.48052021861076355,
           0.3566593825817108,
           0.1880658119916916,
           0.16091586649417877,
           0.5382356643676758,
           0.3232993483543396,
           0.5260494947433472,
           0.41697388887405396,
           0.47497910261154175,
           0.5021123290061951,
           0.7604353427886963,
           0.46677136421203613,
           0.14504395425319672,
           0.4350750148296356,
           0.21545933187007904,
           0.6630572080612183,
           0.551186203956604,
           1.0,
           0.4509602189064026,
           0.5552074909210205,
           0.2612933814525604,
           0.3333362936973572,
           0.2729473412036896,
           0.12814512848854065,
           0.40044286847114563,
           0.4033954441547394,
           0.42204204201698303,
           0.4664260745048523,
           0.5970803499221802,
           0.3311382830142975,
           0.3213876187801361,
           0.355030357837677,
           0.28377604484558105,
           0.2286389321088791,
           0.4969175457954407,
           0.3793846368789673,
           0.13160958886146545,
           0.45149752497673035,
           0.32343995571136475,
           0.4909040927886963,
           0.33729490637779236,
           0.34057819843292236,
           0.25573480129241943,
           0.13071154057979584,
           0.4251701235771179,
           0.21511045098304749,
           0.4712635576725006,
           0.25220394134521484,
           0.13020586967468262,
           0.45769593119621277,
           0.44475555419921875,
           0.4028332233428955,
           0.4595904052257538,
           0.3558093309402466,
           0.5218812227249146,
           0.18939056992530823,
           0.48559337854385376,
           0.525079071521759,
           0.42144161462783813,
           0.5914582014083862
          ],
          [
           0.3157247006893158,
           0.27243393659591675,
           0.33222371339797974,
           0.3557708263397217,
           0.41107916831970215,
           0.35404935479164124,
           0.4858807325363159,
           0.3789334297180176,
           0.3548215329647064,
           0.3085576891899109,
           0.23387542366981506,
           0.19997349381446838,
           0.33220502734184265,
           0.2995963990688324,
           0.44142937660217285,
           0.3960777521133423,
           0.5216338634490967,
           0.6259070038795471,
           0.4205550253391266,
           0.3466816246509552,
           0.2655414342880249,
           0.1907147765159607,
           0.25946879386901855,
           0.6087483167648315,
           0.45382505655288696,
           0.4509602189064026,
           1.000000238418579,
           0.3681427240371704,
           0.3180252015590668,
           0.38737231492996216,
           0.38796043395996094,
           0.16847367584705353,
           0.3789907693862915,
           0.2903784513473511,
           0.43114641308784485,
           0.49657031893730164,
           0.5274384021759033,
           0.3046996295452118,
           0.306363582611084,
           0.3198870122432709,
           0.5311456322669983,
           0.34347280859947205,
           0.3661689758300781,
           0.5313831567764282,
           0.1463647484779358,
           0.38738813996315,
           0.35047292709350586,
           0.5017977952957153,
           0.34182536602020264,
           0.347145676612854,
           0.3609267473220825,
           0.12819154560565948,
           0.36096101999282837,
           0.22100648283958435,
           0.3337629735469818,
           0.23278842866420746,
           0.12864172458648682,
           0.4480717182159424,
           0.475759357213974,
           0.3831315338611603,
           0.33958613872528076,
           0.45232200622558594,
           0.42971909046173096,
           0.2433614283800125,
           0.32385483384132385,
           0.5152878761291504,
           0.3475790023803711,
           0.42641681432724
          ],
          [
           0.4009957015514374,
           0.33983558416366577,
           0.3634622097015381,
           0.4412824511528015,
           0.7987988591194153,
           0.21346405148506165,
           0.4101424217224121,
           0.39594122767448425,
           0.4286192059516907,
           0.3060612380504608,
           0.2075265794992447,
           0.16168692708015442,
           0.6667699813842773,
           0.32696861028671265,
           0.422171413898468,
           0.361466646194458,
           0.35332414507865906,
           0.516733705997467,
           0.6965246796607971,
           0.4847206473350525,
           0.05536988005042076,
           0.42248210310935974,
           0.14223292469978333,
           0.45934200286865234,
           0.5870986580848694,
           0.5552074909210205,
           0.3681427240371704,
           1.0,
           0.23566366732120514,
           0.20325492322444916,
           0.20028015971183777,
           0.06889890134334564,
           0.361458957195282,
           0.45303183794021606,
           0.2756539285182953,
           0.4961472153663635,
           0.45410382747650146,
           0.35754820704460144,
           0.26245754957199097,
           0.32138529419898987,
           0.2260810136795044,
           0.2502135634422302,
           0.46536287665367126,
           0.19357486069202423,
           0.09614954143762589,
           0.3483934700489044,
           0.23820868134498596,
           0.49746236205101013,
           0.2585284113883972,
           0.2837011218070984,
           0.19276383519172668,
           0.05795958638191223,
           0.3781217336654663,
           0.22714415192604065,
           0.5032780766487122,
           0.20173469185829163,
           0.05759553983807564,
           0.3259735703468323,
           0.323615163564682,
           0.26832467317581177,
           0.48300909996032715,
           0.3795508146286011,
           0.3995303809642792,
           0.23106084764003754,
           0.42055660486221313,
           0.4800920784473419,
           0.4130498170852661,
           0.5909301042556763
          ],
          [
           0.20042496919631958,
           0.20472748577594757,
           0.1905781775712967,
           0.18759602308273315,
           0.22590799629688263,
           0.2907244861125946,
           0.1948964148759842,
           0.13428421318531036,
           0.20120875537395477,
           0.19832530617713928,
           0.21843186020851135,
           0.14247256517410278,
           0.22803360223770142,
           0.10188715159893036,
           0.19205425679683685,
           0.23116149008274078,
           0.48262935876846313,
           0.2681107819080353,
           0.2705891728401184,
           0.18969133496284485,
           0.1690562665462494,
           0.09958922863006592,
           0.1731591820716858,
           0.3564191460609436,
           0.22099465131759644,
           0.2612933814525604,
           0.3180252015590668,
           0.23566366732120514,
           0.9999997615814209,
           0.1906568706035614,
           0.20024576783180237,
           0.16310617327690125,
           0.19377382099628448,
           0.1527951955795288,
           0.2961454391479492,
           0.17961882054805756,
           0.23751325905323029,
           0.22268468141555786,
           0.15694190561771393,
           0.17435720562934875,
           0.45896589756011963,
           0.31711894273757935,
           0.11778589338064194,
           0.5386505722999573,
           0.2144118994474411,
           0.20849066972732544,
           0.26380062103271484,
           0.3255537152290344,
           0.19131338596343994,
           0.14314493536949158,
           0.16177445650100708,
           0.20720887184143066,
           0.12469634413719177,
           0.19029372930526733,
           0.1812860369682312,
           0.2956998348236084,
           0.2073787897825241,
           0.4372156858444214,
           0.2540211081504822,
           0.21420550346374512,
           0.1980050504207611,
           0.17404215037822723,
           0.22834594547748566,
           0.3416438698768616,
           0.156134694814682,
           0.20504151284694672,
           0.2927129566669464,
           0.23166760802268982
          ],
          [
           0.40284663438796997,
           0.35840290784835815,
           0.28063398599624634,
           0.35935693979263306,
           0.37853264808654785,
           0.40869688987731934,
           0.34457480907440186,
           0.42110395431518555,
           0.38060081005096436,
           0.370249480009079,
           0.40003129839897156,
           0.3686814606189728,
           0.21679258346557617,
           0.28898343443870544,
           0.34171807765960693,
           0.4336579740047455,
           0.413669228553772,
           0.34650206565856934,
           0.31494593620300293,
           0.4009811580181122,
           0.2269573211669922,
           0.15715011954307556,
           0.33321115374565125,
           0.33560121059417725,
           0.4749332368373871,
           0.3333362936973572,
           0.38737231492996216,
           0.20325492322444916,
           0.1906568706035614,
           1.000000238418579,
           0.31555041670799255,
           0.22848540544509888,
           0.4218078851699829,
           0.2343125343322754,
           0.42123016715049744,
           0.33291754126548767,
           0.25340479612350464,
           0.47612208127975464,
           0.33190983533859253,
           0.3214045464992523,
           0.3612941801548004,
           0.2441122680902481,
           0.27557480335235596,
           0.24375346302986145,
           0.13255032896995544,
           0.38471686840057373,
           0.24941492080688477,
           0.2241354137659073,
           0.34975698590278625,
           0.2947564721107483,
           0.3772522807121277,
           0.1995040774345398,
           0.30819612741470337,
           0.1480148583650589,
           0.36367267370224,
           0.18695153295993805,
           0.1986294835805893,
           0.31167924404144287,
           0.24973180890083313,
           0.4970332384109497,
           0.32363104820251465,
           0.234287828207016,
           0.46517616510391235,
           0.2056404948234558,
           0.3884987533092499,
           0.2836880683898926,
           0.2205076515674591,
           0.40717047452926636
          ],
          [
           0.3611961305141449,
           0.36498355865478516,
           0.30831795930862427,
           0.28101250529289246,
           0.28184616565704346,
           0.3898477852344513,
           0.2555283010005951,
           0.49279773235321045,
           0.4162214398384094,
           0.4948877990245819,
           0.2070924937725067,
           0.4165646433830261,
           0.18929482996463776,
           0.31824344396591187,
           0.27705833315849304,
           0.3747601807117462,
           0.3224929869174957,
           0.21532322466373444,
           0.3033100962638855,
           0.5296052694320679,
           0.10490911453962326,
           0.18948101997375488,
           0.4984815716743469,
           0.25384825468063354,
           0.3104121685028076,
           0.2729473412036896,
           0.38796043395996094,
           0.20028015971183777,
           0.20024576783180237,
           0.31555041670799255,
           1.000000238418579,
           0.38685092329978943,
           0.30073392391204834,
           0.2953914999961853,
           0.24803391098976135,
           0.212173193693161,
           0.256797194480896,
           0.33568358421325684,
           0.3868873119354248,
           0.3670662045478821,
           0.3189408779144287,
           0.20050378143787384,
           0.25918734073638916,
           0.21367081999778748,
           0.04260949790477753,
           0.24333272874355316,
           0.14380958676338196,
           0.227447509765625,
           0.4364926815032959,
           0.4667537808418274,
           0.7481827139854431,
           0.09435761719942093,
           0.17888149619102478,
           0.12004084885120392,
           0.29061025381088257,
           0.22958244383335114,
           0.09516817331314087,
           0.20022720098495483,
           0.19507759809494019,
           0.4357142746448517,
           0.35212528705596924,
           0.23832717537879944,
           0.37589094042778015,
           0.11501072347164154,
           0.35860419273376465,
           0.28719884157180786,
           0.20137512683868408,
           0.31269335746765137
          ],
          [
           0.3583471179008484,
           0.3249928653240204,
           0.16883718967437744,
           0.26234370470046997,
           0.18131740391254425,
           0.5160969495773315,
           0.16953152418136597,
           0.3430336117744446,
           0.24055886268615723,
           0.41709133982658386,
           0.15724143385887146,
           0.7594550251960754,
           0.038117848336696625,
           0.4505086839199066,
           0.12925538420677185,
           0.41904929280281067,
           0.39526626467704773,
           0.15354816615581512,
           0.11674445122480392,
           0.5599775910377502,
           0.1297702193260193,
           -0.008646368980407715,
           0.8774163722991943,
           0.16524988412857056,
           0.30154454708099365,
           0.12814512848854065,
           0.16847367584705353,
           0.06889890134334564,
           0.16310617327690125,
           0.22848540544509888,
           0.38685092329978943,
           0.9999997615814209,
           0.2840896546840668,
           0.10076064616441727,
           0.10952084511518478,
           0.13249845802783966,
           0.22146838903427124,
           0.4066181182861328,
           0.5725128650665283,
           0.33777397871017456,
           0.3892705738544464,
           0.09527018666267395,
           0.10043838620185852,
           0.1394137442111969,
           0.08178644627332687,
           0.2389039695262909,
           0.12025951594114304,
           0.1400749534368515,
           0.4964401423931122,
           0.11653922498226166,
           0.6259304285049438,
           0.07351318001747131,
           0.04026033729314804,
           0.09436368942260742,
           0.20117032527923584,
           0.49089622497558594,
           0.07599279284477234,
           0.11401695758104324,
           0.28716379404067993,
           0.43214792013168335,
           0.06085730344057083,
           0.1586715579032898,
           0.23241400718688965,
           0.13001275062561035,
           0.545181393623352,
           0.16406914591789246,
           0.16608397662639618,
           0.26146823167800903
          ],
          [
           0.5051142573356628,
           0.48526081442832947,
           0.5830186009407043,
           0.5480750203132629,
           0.5228695273399353,
           0.4218597710132599,
           0.4241317808628082,
           0.4808562397956848,
           0.5519623160362244,
           0.44473621249198914,
           0.30474063754081726,
           0.40179142355918884,
           0.3300711512565613,
           0.33737072348594666,
           0.41546398401260376,
           0.513226330280304,
           0.3550587296485901,
           0.36203476786613464,
           0.4387371838092804,
           0.568997323513031,
           0.13133618235588074,
           0.2744602560997009,
           0.3715175688266754,
           0.31157779693603516,
           0.6059799790382385,
           0.40044286847114563,
           0.3789907693862915,
           0.361458957195282,
           0.19377382099628448,
           0.4218078851699829,
           0.30073392391204834,
           0.2840896546840668,
           1.000000238418579,
           0.4480333924293518,
           0.27191174030303955,
           0.4182738959789276,
           0.3466123640537262,
           0.5440645217895508,
           0.41401416063308716,
           0.4619885981082916,
           0.24501562118530273,
           0.1749379187822342,
           0.4201206564903259,
           0.22411619126796722,
           0.0907425731420517,
           0.4985811114311218,
           0.26424741744995117,
           0.28884461522102356,
           0.43110597133636475,
           0.41949376463890076,
           0.37223464250564575,
           0.09416163712739944,
           0.4087495505809784,
           0.2358558475971222,
           0.5409190654754639,
           0.20523479580879211,
           0.09369681775569916,
           0.2667420506477356,
           0.30439430475234985,
           0.46511179208755493,
           0.38025814294815063,
           0.2820630669593811,
           0.40337565541267395,
           0.18661637604236603,
           0.49153321981430054,
           0.3507109582424164,
           0.23085233569145203,
           0.6219121217727661
          ],
          [
           0.524384081363678,
           0.3663991093635559,
           0.5416911244392395,
           0.7885144948959351,
           0.4998016953468323,
           0.2765374779701233,
           0.37586134672164917,
           0.44597771763801575,
           0.5681352019309998,
           0.42883849143981934,
           0.060036905109882355,
           0.23283305764198303,
           0.3363303542137146,
           0.2036367654800415,
           0.41970548033714294,
           0.44110405445098877,
           0.24526488780975342,
           0.2385272979736328,
           0.5301775932312012,
           0.6023670434951782,
           -0.013835511170327663,
           0.4250805974006653,
           0.22368943691253662,
           0.23136533796787262,
           0.4772622585296631,
           0.4033954441547394,
           0.2903784513473511,
           0.45303183794021606,
           0.1527951955795288,
           0.2343125343322754,
           0.2953914999961853,
           0.10076064616441727,
           0.4480333924293518,
           0.9999997615814209,
           0.19224613904953003,
           0.27388501167297363,
           0.32083648443222046,
           0.39624571800231934,
           0.3571746051311493,
           0.35768669843673706,
           0.10234023630619049,
           0.09436546266078949,
           0.47802048921585083,
           0.22452080249786377,
           0.05809451639652252,
           0.39469534158706665,
           0.1185503602027893,
           0.2372506856918335,
           0.40219390392303467,
           0.4690393805503845,
           0.29784610867500305,
           6.946097128093243E-4,
           0.38932132720947266,
           0.10879051685333252,
           0.5799517631530762,
           0.12791283428668976,
           0.0011859629303216934,
           0.23799240589141846,
           0.2751488983631134,
           0.3866646885871887,
           0.3951878547668457,
           0.22059282660484314,
           0.32543492317199707,
           0.12024462223052979,
           0.42019733786582947,
           0.3343249559402466,
           0.2983141243457794,
           0.6203109622001648
          ],
          [
           0.27908921241760254,
           0.2768597900867462,
           0.24960997700691223,
           0.3313021659851074,
           0.30846959352493286,
           0.2836799621582031,
           0.3683108687400818,
           0.2019217610359192,
           0.2722432613372803,
           0.25990399718284607,
           0.2875644564628601,
           0.14412376284599304,
           0.3339044153690338,
           0.1839316487312317,
           0.31831681728363037,
           0.358531653881073,
           0.6056649088859558,
           0.584518551826477,
           0.37709760665893555,
           0.2574537992477417,
           0.36630186438560486,
           0.15605312585830688,
           0.15521767735481262,
           0.44476455450057983,
           0.36302751302719116,
           0.42204204201698303,
           0.43114641308784485,
           0.2756539285182953,
           0.2961454391479492,
           0.42123016715049744,
           0.24803391098976135,
           0.10952084511518478,
           0.27191174030303955,
           0.19224613904953003,
           1.000000238418579,
           0.386596143245697,
           0.5024375915527344,
           0.275640606880188,
           0.20092496275901794,
           0.2744617760181427,
           0.50396728515625,
           0.45148611068725586,
           0.25388380885124207,
           0.44018837809562683,
           0.225493386387825,
           0.33485135436058044,
           0.4221210479736328,
           0.4217619001865387,
           0.20122864842414856,
           0.2218330204486847,
           0.16899758577346802,
           0.24310235679149628,
           0.23261210322380066,
           0.24838393926620483,
           0.28130072355270386,
           0.19567346572875977,
           0.24293020367622375,
           0.5688617825508118,
           0.5342358350753784,
           0.2336406111717224,
           0.28639116883277893,
           0.24976614117622375,
           0.4256626069545746,
           0.1915377378463745,
           0.2673449218273163,
           0.3695865571498871,
           0.3413819968700409,
           0.3369133472442627
          ],
          [
           0.3933006525039673,
           0.3925226926803589,
           0.45057785511016846,
           0.4759673476219177,
           0.6430596709251404,
           0.267738401889801,
           0.48768436908721924,
           0.3760669529438019,
           0.4323992431163788,
           0.35538917779922485,
           0.24580539762973785,
           0.23015522956848145,
           0.4654527008533478,
           0.34368419647216797,
           0.2585265040397644,
           0.5587785243988037,
           0.4234001636505127,
           0.6961320638656616,
           0.4786785840988159,
           0.4625876545906067,
           0.16661755740642548,
           0.2378961741924286,
           0.23358280956745148,
           0.49929821491241455,
           0.6561492681503296,
           0.4664260745048523,
           0.49657031893730164,
           0.4961472153663635,
           0.17961882054805756,
           0.33291754126548767,
           0.212173193693161,
           0.13249845802783966,
           0.4182738959789276,
           0.27388501167297363,
           0.386596143245697,
           0.9999997615814209,
           0.46088945865631104,
           0.3551007807254791,
           0.30047088861465454,
           0.4135860800743103,
           0.29440534114837646,
           0.3243897557258606,
           0.32106032967567444,
           0.32442688941955566,
           0.11887939274311066,
           0.4681541919708252,
           0.24980539083480835,
           0.4744289517402649,
           0.31619584560394287,
           0.3198794424533844,
           0.27321377396583557,
           0.118750661611557,
           0.45933055877685547,
           0.23189100623130798,
           0.43880921602249146,
           0.15189695358276367,
           0.12101120501756668,
           0.3203747272491455,
           0.4566959738731384,
           0.326388418674469,
           0.2686328589916229,
           0.3445001244544983,
           0.481940358877182,
           0.20016580820083618,
           0.44175559282302856,
           0.4118037819862366,
           0.2719859778881073,
           0.6305332183837891
          ],
          [
           0.3415963351726532,
           0.276957631111145,
           0.3182343542575836,
           0.37344735860824585,
           0.47840309143066406,
           0.2696482837200165,
           0.4952777922153473,
           0.3335491418838501,
           0.3780805468559265,
           0.2820788323879242,
           0.1975308656692505,
           0.17576614022254944,
           0.4574028551578522,
           0.3139704167842865,
           0.3710412085056305,
           0.36411118507385254,
           0.5215277075767517,
           0.5750923156738281,
           0.5225189924240112,
           0.37935173511505127,
           0.2207798957824707,
           0.40512487292289734,
           0.2593385875225067,
           0.6432873606681824,
           0.4593172073364258,
           0.5970803499221802,
           0.5274384021759033,
           0.45410382747650146,
           0.23751325905323029,
           0.25340479612350464,
           0.256797194480896,
           0.22146838903427124,
           0.3466123640537262,
           0.32083648443222046,
           0.5024375915527344,
           0.46088945865631104,
           1.000000238418579,
           0.2499983161687851,
           0.29254019260406494,
           0.35593312978744507,
           0.35497599840164185,
           0.3463704586029053,
           0.40533411502838135,
           0.42851197719573975,
           0.1992521584033966,
           0.43691486120224,
           0.3525448143482208,
           0.6105622053146362,
           0.2838045358657837,
           0.2815781831741333,
           0.23494142293930054,
           0.1289190649986267,
           0.258294939994812,
           0.2416514754295349,
           0.3660598695278168,
           0.3179018497467041,
           0.1296371966600418,
           0.4690174460411072,
           0.4615026116371155,
           0.2627332806587219,
           0.38687020540237427,
           0.34749582409858704,
           0.41535836458206177,
           0.1878276765346527,
           0.4239465296268463,
           0.6624294519424438,
           0.5770710706710815,
           0.48361101746559143
          ],
          [
           0.575262725353241,
           0.534680962562561,
           0.3891151547431946,
           0.552471935749054,
           0.5738979578018188,
           0.699734091758728,
           0.3438493609428406,
           0.39112910628318787,
           0.47787487506866455,
           0.5288515090942383,
           0.42480313777923584,
           0.5924649238586426,
           0.26287397742271423,
           0.2785772979259491,
           0.3984842598438263,
           0.6778576970100403,
           0.4554750919342041,
           0.3072323501110077,
           0.41293126344680786,
           0.5445271730422974,
           0.2510738968849182,
           0.18224915862083435,
           0.4858526885509491,
           0.30927637219429016,
           0.6952925324440002,
           0.3311382830142975,
           0.3046996295452118,
           0.35754820704460144,
           0.22268468141555786,
           0.47612208127975464,
           0.33568358421325684,
           0.4066181182861328,
           0.5440645217895508,
           0.39624571800231934,
           0.275640606880188,
           0.3551007807254791,
           0.2499983161687851,
           0.9999997615814209,
           0.4082877039909363,
           0.31622692942619324,
           0.3460477888584137,
           0.17762377858161926,
           0.42265981435775757,
           0.2153460681438446,
           0.09308922290802002,
           0.41535136103630066,
           0.21274486184120178,
           0.24823331832885742,
           0.5308469533920288,
           0.36068081855773926,
           0.3793143928050995,
           0.13466821610927582,
           0.3321263790130615,
           0.229038268327713,
           0.4925493597984314,
           0.3390927016735077,
           0.13586467504501343,
           0.28121277689933777,
           0.3162277638912201,
           0.6138076782226562,
           0.412226140499115,
           0.27854713797569275,
           0.43161946535110474,
           0.21574878692626953,
           0.42683762311935425,
           0.2789348363876343,
           0.20921047031879425,
           0.5751356482505798
          ],
          [
           0.4922822415828705,
           0.42046234011650085,
           0.34875962138175964,
           0.4727920889854431,
           0.39996373653411865,
           0.38981345295906067,
           0.38326936960220337,
           0.530764102935791,
           0.44480642676353455,
           0.4218520224094391,
           0.17449899017810822,
           0.6403346061706543,
           0.22155392169952393,
           0.46597355604171753,
           0.2594574987888336,
           0.390845388174057,
           0.2892623841762543,
           0.22469495236873627,
           0.367431104183197,
           0.6666872501373291,
           0.08039579540491104,
           0.11264115571975708,
           0.6219260096549988,
           0.29904183745384216,
           0.44121819734573364,
           0.3213876187801361,
           0.306363582611084,
           0.26245754957199097,
           0.15694190561771393,
           0.33190983533859253,
           0.3868873119354248,
           0.5725128650665283,
           0.41401416063308716,
           0.3571746051311493,
           0.20092496275901794,
           0.30047088861465454,
           0.29254019260406494,
           0.4082877039909363,
           1.000000238418579,
           0.4280586242675781,
           0.2672620117664337,
           0.12082728743553162,
           0.29453879594802856,
           0.2020573616027832,
           0.022384434938430786,
           0.540963888168335,
           0.1233115866780281,
           0.24720199406147003,
           0.46795111894607544,
           0.30578503012657166,
           0.5919731855392456,
           0.07937013357877731,
           0.27874842286109924,
           0.16267023980617523,
           0.39849138259887695,
           0.2077276110649109,
           0.08031889796257019,
           0.21309617161750793,
           0.2899029552936554,
           0.3936918377876282,
           0.24222803115844727,
           0.1915728747844696,
           0.3313296437263489,
           0.164054274559021,
           0.6764711141586304,
           0.314753919839859,
           0.2008054405450821,
           0.4819914996623993
          ],
          [
           0.4046141505241394,
           0.43204447627067566,
           0.3560137450695038,
           0.4449925422668457,
           0.4487728178501129,
           0.34281209111213684,
           0.41882288455963135,
           0.4890124201774597,
           0.38370317220687866,
           0.35339632630348206,
           0.18288983404636383,
           0.42560699582099915,
           0.3524916470050812,
           0.47977033257484436,
           0.2769172787666321,
           0.3918348252773285,
           0.33293354511260986,
           0.3088507652282715,
           0.37227267026901245,
           0.6416966319084167,
           0.05165257677435875,
           0.22451895475387573,
           0.43863558769226074,
           0.2903403043746948,
           0.5012144446372986,
           0.355030357837677,
           0.3198870122432709,
           0.32138529419898987,
           0.17435720562934875,
           0.3214045464992523,
           0.3670662045478821,
           0.33777397871017456,
           0.4619885981082916,
           0.35768669843673706,
           0.2744617760181427,
           0.4135860800743103,
           0.35593312978744507,
           0.31622692942619324,
           0.4280586242675781,
           1.0,
           0.21240347623825073,
           0.15184713900089264,
           0.3646164536476135,
           0.186905175447464,
           0.06612618267536163,
           0.6528422832489014,
           0.13099528849124908,
           0.3185722231864929,
           0.33191022276878357,
           0.33956819772720337,
           0.5172351002693176,
           0.08035849779844284,
           0.3442345857620239,
           0.1123599112033844,
           0.4031728506088257,
           0.18803004920482635,
           0.08027658611536026,
           0.19534346461296082,
           0.26869723200798035,
           0.3197174072265625,
           0.23927587270736694,
           0.229984849691391,
           0.3256375193595886,
           0.17304769158363342,
           0.5809996128082275,
           0.45169466733932495,
           0.2872775197029114,
           0.5283030271530151
          ],
          [
           0.21960550546646118,
           0.2306540310382843,
           0.1554725170135498,
           0.20488135516643524,
           0.2355107218027115,
           0.419986367225647,
           0.26845771074295044,
           0.20198288559913635,
           0.18339380621910095,
           0.2816258668899536,
           0.394564151763916,
           0.3644025921821594,
           0.2355966717004776,
           0.25318050384521484,
           0.2770126163959503,
           0.32414403557777405,
           0.6829462051391602,
           0.4809361696243286,
           0.24850749969482422,
           0.2629714906215668,
           0.5323357582092285,
           0.10265275835990906,
           0.3861701786518097,
           0.4945029318332672,
           0.31831252574920654,
           0.28377604484558105,
           0.5311456322669983,
           0.2260810136795044,
           0.45896589756011963,
           0.3612941801548004,
           0.3189408779144287,
           0.3892705738544464,
           0.24501562118530273,
           0.10234023630619049,
           0.50396728515625,
           0.29440534114837646,
           0.35497599840164185,
           0.3460477888584137,
           0.2672620117664337,
           0.21240347623825073,
           1.0000001192092896,
           0.5386137962341309,
           0.17325443029403687,
           0.426142156124115,
           0.3351891040802002,
           0.23414549231529236,
           0.4718151092529297,
           0.3957388997077942,
           0.26263540983200073,
           0.16753627359867096,
           0.30841800570487976,
           0.3693622350692749,
           0.12373688817024231,
           0.342969685792923,
           0.15058770775794983,
           0.35190549492836,
           0.36954548954963684,
           0.5754368901252747,
           0.41954460740089417,
           0.29295778274536133,
           0.25314468145370483,
           0.4658063054084778,
           0.42655444145202637,
           0.45433399081230164,
           0.2655227780342102,
           0.2890302538871765,
           0.3712615966796875,
           0.25618353486061096
          ],
          [
           0.17850801348686218,
           0.14789992570877075,
           0.11011892557144165,
           0.18390768766403198,
           0.21552035212516785,
           0.21596720814704895,
           0.22232308983802795,
           0.11400178074836731,
           0.17795102298259735,
           0.21217039227485657,
           0.459469735622406,
           0.19318035244941711,
           0.3084036409854889,
           0.15828588604927063,
           0.1335442066192627,
           0.2566685378551483,
           0.5013325810432434,
           0.5420190691947937,
           0.27228230237960815,
           0.1629224419593811,
           0.44468963146209717,
           0.12578245997428894,
           0.13614684343338013,
           0.37446463108062744,
           0.2235732078552246,
           0.2286389321088791,
           0.34347280859947205,
           0.2502135634422302,
           0.31711894273757935,
           0.2441122680902481,
           0.20050378143787384,
           0.09527018666267395,
           0.1749379187822342,
           0.09436546266078949,
           0.45148611068725586,
           0.3243897557258606,
           0.3463704586029053,
           0.17762377858161926,
           0.12082728743553162,
           0.15184713900089264,
           0.5386137962341309,
           1.0000001192092896,
           0.10811860859394073,
           0.3698360025882721,
           0.20529291033744812,
           0.1547592431306839,
           0.3089277744293213,
           0.3811928629875183,
           0.1268923282623291,
           0.18773192167282104,
           0.13228601217269897,
           0.318791002035141,
           0.08808004856109619,
           0.19122380018234253,
           0.17978191375732422,
           0.20563361048698425,
           0.3195260465145111,
           0.5143668055534363,
           0.4217883050441742,
           0.17933908104896545,
           0.18975909054279327,
           0.1759873926639557,
           0.39310118556022644,
           0.26587551832199097,
           0.14024436473846436,
           0.21402141451835632,
           0.28294214606285095,
           0.22481276094913483
          ],
          [
           0.43529075384140015,
           0.33269912004470825,
           0.30705273151397705,
           0.3331095278263092,
           0.5341671705245972,
           0.2575162649154663,
           0.43634864687919617,
           0.4097127318382263,
           0.3804693818092346,
           0.3044934868812561,
           0.1898195445537567,
           0.16384577751159668,
           0.44405677914619446,
           0.2559795379638672,
           0.6905557513237,
           0.4141165614128113,
           0.34160375595092773,
           0.2909509539604187,
           0.5171336531639099,
           0.4269649088382721,
           0.03829630836844444,
           0.5518347024917603,
           0.1494394689798355,
           0.3296690583229065,
           0.5661357641220093,
           0.4969175457954407,
           0.3661689758300781,
           0.46536287665367126,
           0.11778589338064194,
           0.27557480335235596,
           0.25918734073638916,
           0.10043838620185852,
           0.4201206564903259,
           0.47802048921585083,
           0.25388380885124207,
           0.32106032967567444,
           0.40533411502838135,
           0.42265981435775757,
           0.29453879594802856,
           0.3646164536476135,
           0.17325443029403687,
           0.10811860859394073,
           0.9999998807907104,
           0.17376968264579773,
           0.05176166817545891,
           0.4069391191005707,
           0.19580179452896118,
           0.3315313756465912,
           0.3031444549560547,
           0.3657969832420349,
           0.20132942497730255,
           0.03737005591392517,
           0.319895476102829,
           0.23133648931980133,
           0.40539664030075073,
           0.17992454767227173,
           0.03824961930513382,
           0.2419731169939041,
           0.28083986043930054,
           0.30293071269989014,
           0.5433621406555176,
           0.46132373809814453,
           0.3723694086074829,
           0.1637033224105835,
           0.3773548901081085,
           0.5110993385314941,
           0.38692328333854675,
           0.4839204251766205
          ],
          [
           0.21511168777942657,
           0.1613759696483612,
           0.27111750841140747,
           0.27866068482398987,
           0.20574651658535004,
           0.27539685368537903,
           0.2731746435165405,
           0.19041065871715546,
           0.2537628412246704,
           0.21244379878044128,
           0.22141557931900024,
           0.14005985856056213,
           0.2450416386127472,
           0.14748023450374603,
           0.20753425359725952,
           0.27812111377716064,
           0.5111494064331055,
           0.48028361797332764,
           0.30759090185165405,
           0.20527726411819458,
           0.2517443895339966,
           0.11630135029554367,
           0.1858426034450531,
           0.45142263174057007,
           0.21545648574829102,
           0.3793846368789673,
           0.5313831567764282,
           0.19357486069202423,
           0.5386505722999573,
           0.24375346302986145,
           0.21367081999778748,
           0.1394137442111969,
           0.22411619126796722,
           0.22452080249786377,
           0.44018837809562683,
           0.32442688941955566,
           0.42851197719573975,
           0.2153460681438446,
           0.2020573616027832,
           0.186905175447464,
           0.426142156124115,
           0.3698360025882721,
           0.17376968264579773,
           0.9999998807907104,
           0.23235177993774414,
           0.2324591428041458,
           0.4113912880420685,
           0.34104838967323303,
           0.2269313484430313,
           0.22747454047203064,
           0.2064402997493744,
           0.13174252212047577,
           0.2728290259838104,
           0.21028365194797516,
           0.1879357099533081,
           0.226863294839859,
           0.13368426263332367,
           0.5082773566246033,
           0.3883824944496155,
           0.21118885278701782,
           0.1833951771259308,
           0.24787545204162598,
           0.32188403606414795,
           0.24119865894317627,
           0.18526504933834076,
           0.31243234872817993,
           0.29384371638298035,
           0.2519386410713196
          ],
          [
           0.14895829558372498,
           0.08231392502784729,
           0.07393759489059448,
           0.09854808449745178,
           0.08640976995229721,
           0.10116036236286163,
           0.08843043446540833,
           0.05593941733241081,
           0.11118962615728378,
           0.09736651182174683,
           0.06386292725801468,
           0.0683225467801094,
           0.11583130061626434,
           0.09676891565322876,
           0.09652826189994812,
           0.135359987616539,
           0.34012290835380554,
           0.17643246054649353,
           0.13234883546829224,
           0.09333229809999466,
           0.10487419366836548,
           0.12848563492298126,
           0.08086758852005005,
           0.23662880063056946,
           0.09926913678646088,
           0.13160958886146545,
           0.1463647484779358,
           0.09614954143762589,
           0.2144118994474411,
           0.13255032896995544,
           0.04260949790477753,
           0.08178644627332687,
           0.0907425731420517,
           0.05809451639652252,
           0.225493386387825,
           0.11887939274311066,
           0.1992521584033966,
           0.09308922290802002,
           0.022384434938430786,
           0.06612618267536163,
           0.3351891040802002,
           0.20529291033744812,
           0.05176166817545891,
           0.23235177993774414,
           0.9999998807907104,
           0.07085476070642471,
           0.3971787393093109,
           0.14547781646251678,
           0.04394801706075668,
           0.08495937287807465,
           0.02195485681295395,
           0.20698681473731995,
           0.05816662311553955,
           0.31417667865753174,
           0.08708206564188004,
           0.18656805157661438,
           0.20643380284309387,
           0.3573123812675476,
           0.21843422949314117,
           0.07772702723741531,
           0.03598276898264885,
           0.04804491996765137,
           0.21520209312438965,
           0.4646044373512268,
           0.10965052247047424,
           0.10824670642614365,
           0.2032594531774521,
           0.10724391788244247
          ],
          [
           0.4699747860431671,
           0.4377719461917877,
           0.43067991733551025,
           0.5343738198280334,
           0.5629866123199463,
           0.3587101995944977,
           0.6313796043395996,
           0.4808780550956726,
           0.4686260223388672,
           0.4153962731361389,
           0.22173744440078735,
           0.3203624486923218,
           0.3171343505382538,
           0.44799870252609253,
           0.36139142513275146,
           0.47900390625,
           0.3740675449371338,
           0.36167752742767334,
           0.5095267295837402,
           0.591839075088501,
           0.10594974458217621,
           0.2802122235298157,
           0.32950395345687866,
           0.34855952858924866,
           0.6158275604248047,
           0.45149752497673035,
           0.38738813996315,
           0.3483934700489044,
           0.20849066972732544,
           0.38471686840057373,
           0.24333272874355316,
           0.2389039695262909,
           0.4985811114311218,
           0.39469534158706665,
           0.33485135436058044,
           0.4681541919708252,
           0.43691486120224,
           0.41535136103630066,
           0.540963888168335,
           0.6528422832489014,
           0.23414549231529236,
           0.1547592431306839,
           0.4069391191005707,
           0.2324591428041458,
           0.07085476070642471,
           1.000000238418579,
           0.16539937257766724,
           0.37302160263061523,
           0.3694000244140625,
           0.3281439244747162,
           0.3611122965812683,
           0.08426728844642639,
           0.46278005838394165,
           0.1412365734577179,
           0.5180873274803162,
           0.21052707731723785,
           0.0840529203414917,
           0.2701820135116577,
           0.35973766446113586,
           0.35925453901290894,
           0.3513363003730774,
           0.3279954195022583,
           0.37994879484176636,
           0.20050740242004395,
           0.6889870166778564,
           0.505121111869812,
           0.34968245029449463,
           0.6110793948173523
          ],
          [
           0.15675199031829834,
           0.162002295255661,
           0.15881897509098053,
           0.19285526871681213,
           0.1836913526058197,
           0.25619661808013916,
           0.2161502242088318,
           0.12566423416137695,
           0.1866234838962555,
           0.10887634009122849,
           0.2415955811738968,
           0.10247498750686646,
           0.271700382232666,
           0.123420350253582,
           0.24084247648715973,
           0.211222305893898,
           0.5682058334350586,
           0.4204031229019165,
           0.24905791878700256,
           0.16208337247371674,
           0.22063057124614716,
           0.16667816042900085,
           0.15259325504302979,
           0.3251168131828308,
           0.2147616446018219,
           0.32343995571136475,
           0.35047292709350586,
           0.23820868134498596,
           0.26380062103271484,
           0.24941492080688477,
           0.14380958676338196,
           0.12025951594114304,
           0.26424741744995117,
           0.1185503602027893,
           0.4221210479736328,
           0.24980539083480835,
           0.3525448143482208,
           0.21274486184120178,
           0.1233115866780281,
           0.13099528849124908,
           0.4718151092529297,
           0.3089277744293213,
           0.19580179452896118,
           0.4113912880420685,
           0.3971787393093109,
           0.16539937257766724,
           0.9999998211860657,
           0.27999114990234375,
           0.20135104656219482,
           0.12123291194438934,
           0.11660271137952805,
           0.29681265354156494,
           0.20644623041152954,
           0.4718324542045593,
           0.1856018304824829,
           0.2988187074661255,
           0.2948716878890991,
           0.45900365710258484,
           0.34134402871131897,
           0.15864813327789307,
           0.1788988709449768,
           0.2639100253582001,
           0.35386866331100464,
           0.3010041117668152,
           0.15029223263263702,
           0.29214173555374146,
           0.3231549859046936,
           0.178872212767601
          ],
          [
           0.276283860206604,
           0.3063661456108093,
           0.27339601516723633,
           0.2901371717453003,
           0.5256290435791016,
           0.20848432183265686,
           0.4192686676979065,
           0.2569192051887512,
           0.32775411009788513,
           0.28188055753707886,
           0.320687860250473,
           0.1714109480381012,
           0.5020872354507446,
           0.2688235342502594,
           0.36599215865135193,
           0.3215698003768921,
           0.4509751796722412,
           0.48939049243927,
           0.46192970871925354,
           0.3512018322944641,
           0.1777067482471466,
           0.3614591062068939,
           0.15689028799533844,
           0.597973108291626,
           0.44772833585739136,
           0.4909040927886963,
           0.5017977952957153,
           0.49746236205101013,
           0.3255537152290344,
           0.2241354137659073,
           0.227447509765625,
           0.1400749534368515,
           0.28884461522102356,
           0.2372506856918335,
           0.4217619001865387,
           0.4744289517402649,
           0.6105622053146362,
           0.24823331832885742,
           0.24720199406147003,
           0.3185722231864929,
           0.3957388997077942,
           0.3811928629875183,
           0.3315313756465912,
           0.34104838967323303,
           0.14547781646251678,
           0.37302160263061523,
           0.27999114990234375,
           1.0,
           0.217300146818161,
           0.18522587418556213,
           0.2011551856994629,
           0.22007572650909424,
           0.2840794324874878,
           0.21235546469688416,
           0.32699888944625854,
           0.20375898480415344,
           0.22090297937393188,
           0.4316437840461731,
           0.3997436761856079,
           0.24298274517059326,
           0.34499961137771606,
           0.3778758645057678,
           0.36289501190185547,
           0.21435752511024475,
           0.3643428683280945,
           0.47314637899398804,
           0.47784051299095154,
           0.4310789704322815
          ],
          [
           0.5032028555870056,
           0.4289851784706116,
           0.3988316059112549,
           0.5585217475891113,
           0.4349941611289978,
           0.5944733023643494,
           0.404665470123291,
           0.4382728338241577,
           0.5137194991111755,
           0.5191922783851624,
           0.15407872200012207,
           0.47334104776382446,
           0.2470071017742157,
           0.3310549855232239,
           0.290202260017395,
           0.5246962904930115,
           0.40105724334716797,
           0.33110785484313965,
           0.3958789110183716,
           0.5994225740432739,
           0.13602466881275177,
           0.15302783250808716,
           0.5942973494529724,
           0.2711067497730255,
           0.4795689582824707,
           0.33729490637779236,
           0.34182536602020264,
           0.2585284113883972,
           0.19131338596343994,
           0.34975698590278625,
           0.4364926815032959,
           0.4964401423931122,
           0.43110597133636475,
           0.40219390392303467,
           0.20122864842414856,
           0.31619584560394287,
           0.2838045358657837,
           0.5308469533920288,
           0.46795111894607544,
           0.33191022276878357,
           0.26263540983200073,
           0.1268923282623291,
           0.3031444549560547,
           0.2269313484430313,
           0.04394801706075668,
           0.3694000244140625,
           0.20135104656219482,
           0.217300146818161,
           0.9999998807907104,
           0.3286231756210327,
           0.4958990812301636,
           0.05973184108734131,
           0.36551526188850403,
           0.16329646110534668,
           0.5190106630325317,
           0.35589417815208435,
           0.06139972805976868,
           0.26402562856674194,
           0.3132968842983246,
           0.6575424075126648,
           0.21213579177856445,
           0.2085694670677185,
           0.3183664381504059,
           0.16823112964630127,
           0.4640365242958069,
           0.23322740197181702,
           0.22499726712703705,
           0.5282360911369324
          ],
          [
           0.39411836862564087,
           0.3214586675167084,
           0.5281646847724915,
           0.4639674425125122,
           0.39307674765586853,
           0.27158239483833313,
           0.397601455450058,
           0.3795161843299866,
           0.6135901212692261,
           0.5240748524665833,
           0.12473151832818985,
           0.21405357122421265,
           0.18106910586357117,
           0.24336141347885132,
           0.33813756704330444,
           0.4190906882286072,
           0.2464601844549179,
           0.23218604922294617,
           0.4166952669620514,
           0.4668291211128235,
           0.031730953603982925,
           0.2851189970970154,
           0.2271750271320343,
           0.2927176356315613,
           0.43953263759613037,
           0.34057819843292236,
           0.347145676612854,
           0.2837011218070984,
           0.14314493536949158,
           0.2947564721107483,
           0.4667537808418274,
           0.11653922498226166,
           0.41949376463890076,
           0.4690393805503845,
           0.2218330204486847,
           0.3198794424533844,
           0.2815781831741333,
           0.36068081855773926,
           0.30578503012657166,
           0.33956819772720337,
           0.16753627359867096,
           0.18773192167282104,
           0.3657969832420349,
           0.22747454047203064,
           0.08495937287807465,
           0.3281439244747162,
           0.12123291194438934,
           0.18522587418556213,
           0.3286231756210327,
           0.9999997615814209,
           0.3891097605228424,
           0.05500291287899017,
           0.40010225772857666,
           0.1203136146068573,
           0.5002769827842712,
           0.09988708794116974,
           0.05494513362646103,
           0.22282977402210236,
           0.24803376197814941,
           0.42158737778663635,
           0.2958846390247345,
           0.21015037596225739,
           0.4036005139350891,
           0.15255598723888397,
           0.31765419244766235,
           0.278323233127594,
           0.14143942296504974,
           0.5142621994018555
          ],
          [
           0.42511075735092163,
           0.39061862230300903,
           0.3805461525917053,
           0.39098647236824036,
           0.31497788429260254,
           0.4313339591026306,
           0.2579765319824219,
           0.6213594079017639,
           0.4556463956832886,
           0.5989779233932495,
           0.07501900941133499,
           0.6678598523139954,
           0.16910627484321594,
           0.49664872884750366,
           0.196030393242836,
           0.37486526370048523,
           0.2877708673477173,
           0.20802050828933716,
           0.2918042838573456,
           0.7736935615539551,
           0.03129706531763077,
           0.11783286929130554,
           0.7738733887672424,
           0.2645021378993988,
           0.35032063722610474,
           0.25573480129241943,
           0.3609267473220825,
           0.19276383519172668,
           0.16177445650100708,
           0.3772522807121277,
           0.7481827139854431,
           0.6259304285049438,
           0.37223464250564575,
           0.29784610867500305,
           0.16899758577346802,
           0.27321377396583557,
           0.23494142293930054,
           0.3793143928050995,
           0.5919731855392456,
           0.5172351002693176,
           0.30841800570487976,
           0.13228601217269897,
           0.20132942497730255,
           0.2064402997493744,
           0.02195485681295395,
           0.3611122965812683,
           0.11660271137952805,
           0.2011551856994629,
           0.4958990812301636,
           0.3891097605228424,
           0.9999999403953552,
           0.11206962913274765,
           0.23282285034656525,
           0.09663840383291245,
           0.3433898091316223,
           0.23779010772705078,
           0.11279664933681488,
           0.15788888931274414,
           0.20313569903373718,
           0.4944568872451782,
           0.20036688446998596,
           0.18391641974449158,
           0.3330806493759155,
           0.1150425598025322,
           0.5894772410392761,
           0.262198269367218,
           0.1385505199432373,
           0.38923171162605286
          ],
          [
           0.12672430276870728,
           0.08591790497303009,
           0.04234311357140541,
           0.08357458561658859,
           0.08180297166109085,
           0.1655922830104828,
           0.07841971516609192,
           0.05214861035346985,
           0.09425660967826843,
           0.11288334429264069,
           0.2129725217819214,
           0.12433318793773651,
           0.12809959053993225,
           0.07282665371894836,
           0.09306464344263077,
           0.09480287879705429,
           0.33075690269470215,
           0.16255562007427216,
           0.13185058534145355,
           0.10145242512226105,
           0.21881097555160522,
           0.051486894488334656,
           0.10133165121078491,
           0.3036956787109375,
           0.08154983818531036,
           0.13071154057979584,
           0.12819154560565948,
           0.05795958638191223,
           0.20720887184143066,
           0.1995040774345398,
           0.09435761719942093,
           0.07351318001747131,
           0.09416163712739944,
           6.946097128093243E-4,
           0.24310235679149628,
           0.118750661611557,
           0.1289190649986267,
           0.13466821610927582,
           0.07937013357877731,
           0.08035849779844284,
           0.3693622350692749,
           0.318791002035141,
           0.03737005591392517,
           0.13174252212047577,
           0.20698681473731995,
           0.08426728844642639,
           0.29681265354156494,
           0.22007572650909424,
           0.05973184108734131,
           0.05500291287899017,
           0.11206962913274765,
           1.0,
           0.018355943262577057,
           0.21859237551689148,
           0.0666034147143364,
           0.17294754087924957,
           0.9996793866157532,
           0.5393195152282715,
           0.18167051672935486,
           0.12566807866096497,
           0.1285480409860611,
           0.051991213113069534,
           0.23056963086128235,
           0.2870827317237854,
           0.07232189178466797,
           0.05464498698711395,
           0.1785363405942917,
           0.0738464742898941
          ],
          [
           0.4511150121688843,
           0.3318674564361572,
           0.4968598484992981,
           0.49464040994644165,
           0.5446652173995972,
           0.22523799538612366,
           0.5933594703674316,
           0.3691079616546631,
           0.49271756410598755,
           0.38901400566101074,
           0.09900467842817307,
           0.10269616544246674,
           0.3451789617538452,
           0.24938908219337463,
           0.2743661105632782,
           0.3192020654678345,
           0.2532021701335907,
           0.38823625445365906,
           0.45868122577667236,
           0.4163564145565033,
           0.012053301557898521,
           0.18285000324249268,
           0.15304192900657654,
           0.2502673268318176,
           0.48575645685195923,
           0.4251701235771179,
           0.36096101999282837,
           0.3781217336654663,
           0.12469634413719177,
           0.30819612741470337,
           0.17888149619102478,
           0.04026033729314804,
           0.4087495505809784,
           0.38932132720947266,
           0.23261210322380066,
           0.45933055877685547,
           0.258294939994812,
           0.3321263790130615,
           0.27874842286109924,
           0.3442345857620239,
           0.12373688817024231,
           0.08808004856109619,
           0.319895476102829,
           0.2728290259838104,
           0.05816662311553955,
           0.46278005838394165,
           0.20644623041152954,
           0.2840794324874878,
           0.36551526188850403,
           0.40010225772857666,
           0.23282285034656525,
           0.018355943262577057,
           0.9999998807907104,
           0.10661512613296509,
           0.5660590529441833,
           0.10401398688554764,
           0.019391929730772972,
           0.22302620112895966,
           0.28687816858291626,
           0.3866889476776123,
           0.2748402953147888,
           0.30830806493759155,
           0.31445491313934326,
           0.12714409828186035,
           0.40898799896240234,
           0.30044659972190857,
           0.21844980120658875,
           0.524325966835022
          ],
          [
           0.2039770483970642,
           0.20273014903068542,
           0.10848362743854523,
           0.16302648186683655,
           0.2027430236339569,
           0.18825611472129822,
           0.20618683099746704,
           0.13684605062007904,
           0.15694011747837067,
           0.09544602036476135,
           0.169525608420372,
           0.1479400396347046,
           0.1411035656929016,
           0.12533295154571533,
           0.16204944252967834,
           0.16825135052204132,
           0.3363904654979706,
           0.22916455566883087,
           0.2127528041601181,
           0.1695258915424347,
           0.14728379249572754,
           0.10080500692129135,
           0.11106106638908386,
           0.2296631932258606,
           0.190525084733963,
           0.21511045098304749,
           0.22100648283958435,
           0.22714415192604065,
           0.19029372930526733,
           0.1480148583650589,
           0.12004084885120392,
           0.09436368942260742,
           0.2358558475971222,
           0.10879051685333252,
           0.24838393926620483,
           0.23189100623130798,
           0.2416514754295349,
           0.229038268327713,
           0.16267023980617523,
           0.1123599112033844,
           0.342969685792923,
           0.19122380018234253,
           0.23133648931980133,
           0.21028365194797516,
           0.31417667865753174,
           0.1412365734577179,
           0.4718324542045593,
           0.21235546469688416,
           0.16329646110534668,
           0.1203136146068573,
           0.09663840383291245,
           0.21859237551689148,
           0.10661512613296509,
           0.9999999403953552,
           0.18069827556610107,
           0.18063907325267792,
           0.22069866955280304,
           0.3567330241203308,
           0.2112547755241394,
           0.12089469283819199,
           0.1581624448299408,
           0.1518196165561676,
           0.2326829731464386,
           0.38635241985321045,
           0.15216338634490967,
           0.1722063422203064,
           0.20134729146957397,
           0.18028602004051208
          ],
          [
           0.5791597962379456,
           0.46126410365104675,
           0.582676112651825,
           0.7069078087806702,
           0.6520705819129944,
           0.38944780826568604,
           0.5599341988563538,
           0.42218220233917236,
           0.7974809408187866,
           0.5701466798782349,
           0.1879475712776184,
           0.291917622089386,
           0.37518876791000366,
           0.32156699895858765,
           0.3880285322666168,
           0.5269142985343933,
           0.3650527000427246,
           0.37994661927223206,
           0.6150695085525513,
           0.6410498023033142,
           0.07248281687498093,
           0.3511918783187866,
           0.32301223278045654,
           0.32019874453544617,
           0.6217114925384521,
           0.4712635576725006,
           0.3337629735469818,
           0.5032780766487122,
           0.1812860369682312,
           0.36367267370224,
           0.29061025381088257,
           0.20117032527923584,
           0.5409190654754639,
           0.5799517631530762,
           0.28130072355270386,
           0.43880921602249146,
           0.3660598695278168,
           0.4925493597984314,
           0.39849138259887695,
           0.4031728506088257,
           0.15058770775794983,
           0.17978191375732422,
           0.40539664030075073,
           0.1879357099533081,
           0.08708206564188004,
           0.5180873274803162,
           0.1856018304824829,
           0.32699888944625854,
           0.5190106630325317,
           0.5002769827842712,
           0.3433898091316223,
           0.0666034147143364,
           0.5660590529441833,
           0.18069827556610107,
           0.9999998211860657,
           0.25924238562583923,
           0.06798775494098663,
           0.2895479202270508,
           0.37345391511917114,
           0.5672423839569092,
           0.33895963430404663,
           0.21091386675834656,
           0.36017847061157227,
           0.20155487954616547,
           0.5196565985679626,
           0.34104132652282715,
           0.3041327893733978,
           0.7128382921218872
          ],
          [
           0.21378850936889648,
           0.22431820631027222,
           0.20819051563739777,
           0.2337612807750702,
           0.21966330707073212,
           0.6596240997314453,
           0.23905867338180542,
           0.12807497382164001,
           0.2463185042142868,
           0.28720220923423767,
           0.2341281622648239,
           0.21586894989013672,
           0.1962754726409912,
           0.09318287670612335,
           0.2449653297662735,
           0.41421380639076233,
           0.6658183932304382,
           0.2209177166223526,
           0.1785028725862503,
           0.23528505861759186,
           0.12835952639579773,
           0.09006009995937347,
           0.4101550579071045,
           0.22914963960647583,
           0.27353447675704956,
           0.25220394134521484,
           0.23278842866420746,
           0.20173469185829163,
           0.2956998348236084,
           0.18695153295993805,
           0.22958244383335114,
           0.49089622497558594,
           0.20523479580879211,
           0.12791283428668976,
           0.19567346572875977,
           0.15189695358276367,
           0.3179018497467041,
           0.3390927016735077,
           0.2077276110649109,
           0.18803004920482635,
           0.35190549492836,
           0.20563361048698425,
           0.17992454767227173,
           0.226863294839859,
           0.18656805157661438,
           0.21052707731723785,
           0.2988187074661255,
           0.20375898480415344,
           0.35589417815208435,
           0.09988708794116974,
           0.23779010772705078,
           0.17294754087924957,
           0.10401398688554764,
           0.18063907325267792,
           0.25924238562583923,
           1.000000238418579,
           0.17220540344715118,
           0.2750329077243805,
           0.34261274337768555,
           0.37797561287879944,
           0.18253572285175323,
           0.22878514230251312,
           0.21535459160804749,
           0.23253029584884644,
           0.17959564924240112,
           0.26787590980529785,
           0.36015772819519043,
           0.20117060840129852
          ],
          [
           0.12841728329658508,
           0.08711402118206024,
           0.04167857766151428,
           0.08464314788579941,
           0.08299712836742401,
           0.16554293036460876,
           0.07975660264492035,
           0.05328148603439331,
           0.09500844031572342,
           0.11377004534006119,
           0.21226102113723755,
           0.12596064805984497,
           0.12761950492858887,
           0.07453566044569016,
           0.0932595282793045,
           0.09647630155086517,
           0.33041834831237793,
           0.16403844952583313,
           0.13154707849025726,
           0.10241006314754486,
           0.22022110223770142,
           0.05184626206755638,
           0.10266788303852081,
           0.30295759439468384,
           0.08256129175424576,
           0.13020586967468262,
           0.12864172458648682,
           0.05759553983807564,
           0.2073787897825241,
           0.1986294835805893,
           0.09516817331314087,
           0.07599279284477234,
           0.09369681775569916,
           0.0011859629303216934,
           0.24293020367622375,
           0.12101120501756668,
           0.1296371966600418,
           0.13586467504501343,
           0.08031889796257019,
           0.08027658611536026,
           0.36954548954963684,
           0.3195260465145111,
           0.03824961930513382,
           0.13368426263332367,
           0.20643380284309387,
           0.0840529203414917,
           0.2948716878890991,
           0.22090297937393188,
           0.06139972805976868,
           0.05494513362646103,
           0.11279664933681488,
           0.9996793866157532,
           0.019391929730772972,
           0.22069866955280304,
           0.06798775494098663,
           0.17220540344715118,
           0.9999997615814209,
           0.5405228137969971,
           0.184114471077919,
           0.12702704966068268,
           0.1271769255399704,
           0.051128704100847244,
           0.23038488626480103,
           0.2874763309955597,
           0.07296567410230637,
           0.053680963814258575,
           0.1776179075241089,
           0.07537490129470825
          ],
          [
           0.2969731092453003,
           0.2369977831840515,
           0.21789565682411194,
           0.3415530323982239,
           0.3038679361343384,
           0.3367782533168793,
           0.35757723450660706,
           0.19473731517791748,
           0.2793181240558624,
           0.23798488080501556,
           0.30434295535087585,
           0.16941332817077637,
           0.3609599173069,
           0.21292981505393982,
           0.3001176118850708,
           0.2943134605884552,
           0.6103792190551758,
           0.4957180619239807,
           0.429261714220047,
           0.2568497955799103,
           0.39173173904418945,
           0.18531617522239685,
           0.17388656735420227,
           0.5454294681549072,
           0.26500850915908813,
           0.45769593119621277,
           0.4480717182159424,
           0.3259735703468323,
           0.4372156858444214,
           0.31167924404144287,
           0.20022720098495483,
           0.11401695758104324,
           0.2667420506477356,
           0.23799240589141846,
           0.5688617825508118,
           0.3203747272491455,
           0.4690174460411072,
           0.28121277689933777,
           0.21309617161750793,
           0.19534346461296082,
           0.5754368901252747,
           0.5143668055534363,
           0.2419731169939041,
           0.5082773566246033,
           0.3573123812675476,
           0.2701820135116577,
           0.45900365710258484,
           0.4316437840461731,
           0.26402562856674194,
           0.22282977402210236,
           0.15788888931274414,
           0.5393195152282715,
           0.22302620112895966,
           0.3567330241203308,
           0.2895479202270508,
           0.2750329077243805,
           0.5405228137969971,
           1.0,
           0.5260582566261292,
           0.2953389286994934,
           0.31542038917541504,
           0.19160684943199158,
           0.4460199475288391,
           0.4880474805831909,
           0.2574194669723511,
           0.297715425491333,
           0.40926074981689453,
           0.28146111965179443
          ],
          [
           0.33002161979675293,
           0.2526746690273285,
           0.3372909128665924,
           0.48269879817962646,
           0.41117382049560547,
           0.3599427342414856,
           0.5269973874092102,
           0.26339417695999146,
           0.3764716684818268,
           0.3429449200630188,
           0.27790358662605286,
           0.2175064980983734,
           0.29538142681121826,
           0.237053781747818,
           0.2540668845176697,
           0.5247515439987183,
           0.6015636324882507,
           0.6555996537208557,
           0.41403263807296753,
           0.3622193932533264,
           0.3430653214454651,
           0.14520025253295898,
           0.27024218440055847,
           0.42390936613082886,
           0.4552850127220154,
           0.44475555419921875,
           0.475759357213974,
           0.323615163564682,
           0.2540211081504822,
           0.24973180890083313,
           0.19507759809494019,
           0.28716379404067993,
           0.30439430475234985,
           0.2751488983631134,
           0.5342358350753784,
           0.4566959738731384,
           0.4615026116371155,
           0.3162277638912201,
           0.2899029552936554,
           0.26869723200798035,
           0.41954460740089417,
           0.4217883050441742,
           0.28083986043930054,
           0.3883824944496155,
           0.21843422949314117,
           0.35973766446113586,
           0.34134402871131897,
           0.3997436761856079,
           0.3132968842983246,
           0.24803376197814941,
           0.20313569903373718,
           0.18167051672935486,
           0.28687816858291626,
           0.2112547755241394,
           0.37345391511917114,
           0.34261274337768555,
           0.184114471077919,
           0.5260582566261292,
           1.0000001192092896,
           0.38097280263900757,
           0.24424904584884644,
           0.23683255910873413,
           0.4063960015773773,
           0.19564662873744965,
           0.36010557413101196,
           0.32417190074920654,
           0.3568493127822876,
           0.4724259674549103
          ],
          [
           0.5007497072219849,
           0.38777920603752136,
           0.4245048463344574,
           0.5461470484733582,
           0.4695754051208496,
           0.6647561192512512,
           0.425376832485199,
           0.4219309389591217,
           0.597088634967804,
           0.6012968420982361,
           0.22453492879867554,
           0.4117497205734253,
           0.28698575496673584,
           0.2863219976425171,
           0.34450605511665344,
           0.6154841780662537,
           0.446003794670105,
           0.3297617733478546,
           0.4381900727748871,
           0.5332344770431519,
           0.14654362201690674,
           0.17298956215381622,
           0.5529491901397705,
           0.3328557014465332,
           0.5270711183547974,
           0.4028332233428955,
           0.3831315338611603,
           0.26832467317581177,
           0.21420550346374512,
           0.4970332384109497,
           0.4357142746448517,
           0.43214792013168335,
           0.46511179208755493,
           0.3866646885871887,
           0.2336406111717224,
           0.326388418674469,
           0.2627332806587219,
           0.6138076782226562,
           0.3936918377876282,
           0.3197174072265625,
           0.29295778274536133,
           0.17933908104896545,
           0.30293071269989014,
           0.21118885278701782,
           0.07772702723741531,
           0.35925453901290894,
           0.15864813327789307,
           0.24298274517059326,
           0.6575424075126648,
           0.42158737778663635,
           0.4944568872451782,
           0.12566807866096497,
           0.3866889476776123,
           0.12089469283819199,
           0.5672423839569092,
           0.37797561287879944,
           0.12702704966068268,
           0.2953389286994934,
           0.38097280263900757,
           1.0000001192092896,
           0.2656577229499817,
           0.22965437173843384,
           0.3880211114883423,
           0.1984160840511322,
           0.40769585967063904,
           0.2297310084104538,
           0.21712064743041992,
           0.509994387626648
          ],
          [
           0.34398582577705383,
           0.2874245345592499,
           0.2586454153060913,
           0.30679935216903687,
           0.5242677330970764,
           0.20281708240509033,
           0.34780895709991455,
           0.40343961119651794,
           0.34295928478240967,
           0.26285383105278015,
           0.26169607043266296,
           0.12132816761732101,
           0.47351381182670593,
           0.24164262413978577,
           0.5866366624832153,
           0.30478596687316895,
           0.3632633686065674,
           0.2921615540981293,
           0.5088547468185425,
           0.33270829916000366,
           0.08780709654092789,
           0.4561777710914612,
           0.11588715016841888,
           0.3274315595626831,
           0.48676323890686035,
           0.4595904052257538,
           0.33958613872528076,
           0.48300909996032715,
           0.1980050504207611,
           0.32363104820251465,
           0.35212528705596924,
           0.06085730344057083,
           0.38025814294815063,
           0.3951878547668457,
           0.28639116883277893,
           0.2686328589916229,
           0.38687020540237427,
           0.412226140499115,
           0.24222803115844727,
           0.23927587270736694,
           0.25314468145370483,
           0.18975909054279327,
           0.5433621406555176,
           0.1833951771259308,
           0.03598276898264885,
           0.3513363003730774,
           0.1788988709449768,
           0.34499961137771606,
           0.21213579177856445,
           0.2958846390247345,
           0.20036688446998596,
           0.1285480409860611,
           0.2748402953147888,
           0.1581624448299408,
           0.33895963430404663,
           0.18253572285175323,
           0.1271769255399704,
           0.31542038917541504,
           0.24424904584884644,
           0.2656577229499817,
           1.0000001192092896,
           0.4402398467063904,
           0.39765098690986633,
           0.18711647391319275,
           0.32717037200927734,
           0.5327794551849365,
           0.517248272895813,
           0.41851937770843506
          ],
          [
           0.20460420846939087,
           0.1802704632282257,
           0.18658095598220825,
           0.18869882822036743,
           0.3848576843738556,
           0.23097820580005646,
           0.345719575881958,
           0.2697567343711853,
           0.2251434624195099,
           0.22889003157615662,
           0.1721498966217041,
           0.10980509221553802,
           0.3351052701473236,
           0.22394050657749176,
           0.4877011179924011,
           0.2734755277633667,
           0.4556565582752228,
           0.41014713048934937,
           0.32204920053482056,
           0.23711246252059937,
           0.1489597111940384,
           0.27764448523521423,
           0.20227685570716858,
           0.34604114294052124,
           0.45000630617141724,
           0.3558093309402466,
           0.45232200622558594,
           0.3795508146286011,
           0.17404215037822723,
           0.234287828207016,
           0.23832717537879944,
           0.1586715579032898,
           0.2820630669593811,
           0.22059282660484314,
           0.24976614117622375,
           0.3445001244544983,
           0.34749582409858704,
           0.27854713797569275,
           0.1915728747844696,
           0.229984849691391,
           0.4658063054084778,
           0.1759873926639557,
           0.46132373809814453,
           0.24787545204162598,
           0.04804491996765137,
           0.3279954195022583,
           0.2639100253582001,
           0.3778758645057678,
           0.2085694670677185,
           0.21015037596225739,
           0.18391641974449158,
           0.051991213113069534,
           0.30830806493759155,
           0.1518196165561676,
           0.21091386675834656,
           0.22878514230251312,
           0.051128704100847244,
           0.19160684943199158,
           0.23683255910873413,
           0.22965437173843384,
           0.4402398467063904,
           1.0000001192092896,
           0.2787891924381256,
           0.14562653005123138,
           0.2916921377182007,
           0.4965004622936249,
           0.3181321918964386,
           0.3372361958026886
          ],
          [
           0.38844552636146545,
           0.3678625226020813,
           0.36930039525032043,
           0.4209630489349365,
           0.5000854134559631,
           0.32929810881614685,
           0.4135425388813019,
           0.45449161529541016,
           0.3949205279350281,
           0.35192012786865234,
           0.36090877652168274,
           0.3213246166706085,
           0.3867962062358856,
           0.3065946698188782,
           0.4034193456172943,
           0.5268268585205078,
           0.45064985752105713,
           0.4465269446372986,
           0.49639126658439636,
           0.4533141851425171,
           0.34227126836776733,
           0.2581995725631714,
           0.2765938937664032,
           0.5371424555778503,
           0.5385093688964844,
           0.5218812227249146,
           0.42971909046173096,
           0.3995303809642792,
           0.22834594547748566,
           0.46517616510391235,
           0.37589094042778015,
           0.23241400718688965,
           0.40337565541267395,
           0.32543492317199707,
           0.4256626069545746,
           0.481940358877182,
           0.41535836458206177,
           0.43161946535110474,
           0.3313296437263489,
           0.3256375193595886,
           0.42655444145202637,
           0.39310118556022644,
           0.3723694086074829,
           0.32188403606414795,
           0.21520209312438965,
           0.37994879484176636,
           0.35386866331100464,
           0.36289501190185547,
           0.3183664381504059,
           0.4036005139350891,
           0.3330806493759155,
           0.23056963086128235,
           0.31445491313934326,
           0.2326829731464386,
           0.36017847061157227,
           0.21535459160804749,
           0.23038488626480103,
           0.4460199475288391,
           0.4063960015773773,
           0.3880211114883423,
           0.39765098690986633,
           0.2787891924381256,
           0.9999999403953552,
           0.2331913262605667,
           0.3859193027019501,
           0.34655317664146423,
           0.3307543992996216,
           0.5097315311431885
          ],
          [
           0.20496971905231476,
           0.19391998648643494,
           0.1375902146100998,
           0.16427025198936462,
           0.19767670333385468,
           0.22923853993415833,
           0.18138015270233154,
           0.15169872343540192,
           0.1936596930027008,
           0.11823804676532745,
           0.1699422001838684,
           0.1485098898410797,
           0.17826944589614868,
           0.13658040761947632,
           0.2150706946849823,
           0.20076678693294525,
           0.3616992235183716,
           0.2083774358034134,
           0.2380673885345459,
           0.19797298312187195,
           0.07681144028902054,
           0.1411890685558319,
           0.12363487482070923,
           0.34742477536201477,
           0.1990782767534256,
           0.18939056992530823,
           0.2433614283800125,
           0.23106084764003754,
           0.3416438698768616,
           0.2056404948234558,
           0.11501072347164154,
           0.13001275062561035,
           0.18661637604236603,
           0.12024462223052979,
           0.1915377378463745,
           0.20016580820083618,
           0.1878276765346527,
           0.21574878692626953,
           0.164054274559021,
           0.17304769158363342,
           0.45433399081230164,
           0.26587551832199097,
           0.1637033224105835,
           0.24119865894317627,
           0.4646044373512268,
           0.20050740242004395,
           0.3010041117668152,
           0.21435752511024475,
           0.16823112964630127,
           0.15255598723888397,
           0.1150425598025322,
           0.2870827317237854,
           0.12714409828186035,
           0.38635241985321045,
           0.20155487954616547,
           0.23253029584884644,
           0.2874763309955597,
           0.4880474805831909,
           0.19564662873744965,
           0.1984160840511322,
           0.18711647391319275,
           0.14562653005123138,
           0.2331913262605667,
           1.000000238418579,
           0.18375608325004578,
           0.16676589846611023,
           0.2691502273082733,
           0.2023589164018631
          ],
          [
           0.5873410105705261,
           0.49851810932159424,
           0.4471108317375183,
           0.5558454990386963,
           0.5909609794616699,
           0.32455310225486755,
           0.5760231614112854,
           0.6779659986495972,
           0.5208094120025635,
           0.5408843755722046,
           0.14643698930740356,
           0.6203330755233765,
           0.30735018849372864,
           0.7341142296791077,
           0.3259953260421753,
           0.4588809311389923,
           0.3376568555831909,
           0.345181405544281,
           0.5699365139007568,
           0.8172704577445984,
           0.04457871615886688,
           0.3054618835449219,
           0.6336204409599304,
           0.3467438817024231,
           0.5917556285858154,
           0.48559337854385376,
           0.32385483384132385,
           0.42055660486221313,
           0.156134694814682,
           0.3884987533092499,
           0.35860419273376465,
           0.545181393623352,
           0.49153321981430054,
           0.42019733786582947,
           0.2673449218273163,
           0.44175559282302856,
           0.4239465296268463,
           0.42683762311935425,
           0.6764711141586304,
           0.5809996128082275,
           0.2655227780342102,
           0.14024436473846436,
           0.3773548901081085,
           0.18526504933834076,
           0.10965052247047424,
           0.6889870166778564,
           0.15029223263263702,
           0.3643428683280945,
           0.4640365242958069,
           0.31765419244766235,
           0.5894772410392761,
           0.07232189178466797,
           0.40898799896240234,
           0.15216338634490967,
           0.5196565985679626,
           0.17959564924240112,
           0.07296567410230637,
           0.2574194669723511,
           0.36010557413101196,
           0.40769585967063904,
           0.32717037200927734,
           0.2916921377182007,
           0.3859193027019501,
           0.18375608325004578,
           1.0000001192092896,
           0.46027565002441406,
           0.3206596374511719,
           0.6194417476654053
          ],
          [
           0.3630259931087494,
           0.29664039611816406,
           0.3164089322090149,
           0.3026389479637146,
           0.5149288177490234,
           0.26152241230010986,
           0.40893858671188354,
           0.43863338232040405,
           0.3520807921886444,
           0.28728675842285156,
           0.1859980821609497,
           0.14993774890899658,
           0.48716819286346436,
           0.38825657963752747,
           0.5058445334434509,
           0.3137783706188202,
           0.49370062351226807,
           0.47797295451164246,
           0.4787983298301697,
           0.41030043363571167,
           0.05501118674874306,
           0.4567182958126068,
           0.24889855086803436,
           0.42882901430130005,
           0.5301253795623779,
           0.525079071521759,
           0.5152878761291504,
           0.4800920784473419,
           0.20504151284694672,
           0.2836880683898926,
           0.28719884157180786,
           0.16406914591789246,
           0.3507109582424164,
           0.3343249559402466,
           0.3695865571498871,
           0.4118037819862366,
           0.6624294519424438,
           0.2789348363876343,
           0.314753919839859,
           0.45169466733932495,
           0.2890302538871765,
           0.21402141451835632,
           0.5110993385314941,
           0.31243234872817993,
           0.10824670642614365,
           0.505121111869812,
           0.29214173555374146,
           0.47314637899398804,
           0.23322740197181702,
           0.278323233127594,
           0.262198269367218,
           0.05464498698711395,
           0.30044659972190857,
           0.1722063422203064,
           0.34104132652282715,
           0.26787590980529785,
           0.053680963814258575,
           0.297715425491333,
           0.32417190074920654,
           0.2297310084104538,
           0.5327794551849365,
           0.4965004622936249,
           0.34655317664146423,
           0.16676589846611023,
           0.46027565002441406,
           1.000000238418579,
           0.6375777721405029,
           0.4640398919582367
          ],
          [
           0.2708852291107178,
           0.22717759013175964,
           0.19045493006706238,
           0.23818400502204895,
           0.40617871284484863,
           0.2384358048439026,
           0.3109172284603119,
           0.2835468053817749,
           0.27273353934288025,
           0.16555644571781158,
           0.2767223119735718,
           0.11020452529191971,
           0.47491729259490967,
           0.23998884856700897,
           0.45370393991470337,
           0.2407471239566803,
           0.5352436304092407,
           0.36643898487091064,
           0.45352232456207275,
           0.28291720151901245,
           0.1365157663822174,
           0.4596238136291504,
           0.15248733758926392,
           0.402332067489624,
           0.3219011425971985,
           0.42144161462783813,
           0.3475790023803711,
           0.4130498170852661,
           0.2927129566669464,
           0.2205076515674591,
           0.20137512683868408,
           0.16608397662639618,
           0.23085233569145203,
           0.2983141243457794,
           0.3413819968700409,
           0.2719859778881073,
           0.5770710706710815,
           0.20921047031879425,
           0.2008054405450821,
           0.2872775197029114,
           0.3712615966796875,
           0.28294214606285095,
           0.38692328333854675,
           0.29384371638298035,
           0.2032594531774521,
           0.34968245029449463,
           0.3231549859046936,
           0.47784051299095154,
           0.22499726712703705,
           0.14143942296504974,
           0.1385505199432373,
           0.1785363405942917,
           0.21844980120658875,
           0.20134729146957397,
           0.3041327893733978,
           0.36015772819519043,
           0.1776179075241089,
           0.40926074981689453,
           0.3568493127822876,
           0.21712064743041992,
           0.517248272895813,
           0.3181321918964386,
           0.3307543992996216,
           0.2691502273082733,
           0.3206596374511719,
           0.6375777721405029,
           0.9999997615814209,
           0.29228949546813965
          ],
          [
           0.6167587637901306,
           0.5320436954498291,
           0.6425069570541382,
           0.7924924492835999,
           0.8019988536834717,
           0.41722482442855835,
           0.6208107471466064,
           0.519174337387085,
           0.7059345245361328,
           0.5779828429222107,
           0.2230301946401596,
           0.3800049126148224,
           0.44914358854293823,
           0.42065685987472534,
           0.43258270621299744,
           0.6825549602508545,
           0.42747071385383606,
           0.5299425721168518,
           0.6704484224319458,
           0.7440131902694702,
           0.09468051791191101,
           0.3877555727958679,
           0.39490777254104614,
           0.47766047716140747,
           0.868736207485199,
           0.5914582014083862,
           0.42641681432724,
           0.5909301042556763,
           0.23166760802268982,
           0.40717047452926636,
           0.31269335746765137,
           0.26146823167800903,
           0.6219121217727661,
           0.6203109622001648,
           0.3369133472442627,
           0.6305332183837891,
           0.48361101746559143,
           0.5751356482505798,
           0.4819914996623993,
           0.5283030271530151,
           0.25618353486061096,
           0.22481276094913483,
           0.4839204251766205,
           0.2519386410713196,
           0.10724391788244247,
           0.6110793948173523,
           0.178872212767601,
           0.4310789704322815,
           0.5282360911369324,
           0.5142621994018555,
           0.38923171162605286,
           0.0738464742898941,
           0.524325966835022,
           0.18028602004051208,
           0.7128382921218872,
           0.20117060840129852,
           0.07537490129470825,
           0.28146111965179443,
           0.4724259674549103,
           0.509994387626648,
           0.41851937770843506,
           0.3372361958026886,
           0.5097315311431885,
           0.2023589164018631,
           0.6194417476654053,
           0.4640398919582367,
           0.29228949546813965,
           1.0
          ]
         ],
         "type": "heatmap",
         "xaxis": "x",
         "yaxis": "y",
         "hovertemplate": "x: %{x}<br>y: %{y}<br>Similarity Score: %{z}<extra></extra>"
        }
       ],
       "layout": {
        "template": {
         "data": {
          "histogram2dcontour": [
           {
            "type": "histogram2dcontour",
            "colorbar": {
             "outlinewidth": 0,
             "ticks": ""
            },
            "colorscale": [
             [
              0.0,
              "#0d0887"
             ],
             [
              0.1111111111111111,
              "#46039f"
             ],
             [
              0.2222222222222222,
              "#7201a8"
             ],
             [
              0.3333333333333333,
              "#9c179e"
             ],
             [
              0.4444444444444444,
              "#bd3786"
             ],
             [
              0.5555555555555556,
              "#d8576b"
             ],
             [
              0.6666666666666666,
              "#ed7953"
             ],
             [
              0.7777777777777778,
              "#fb9f3a"
             ],
             [
              0.8888888888888888,
              "#fdca26"
             ],
             [
              1.0,
              "#f0f921"
             ]
            ]
           }
          ],
          "choropleth": [
           {
            "type": "choropleth",
            "colorbar": {
             "outlinewidth": 0,
             "ticks": ""
            }
           }
          ],
          "histogram2d": [
           {
            "type": "histogram2d",
            "colorbar": {
             "outlinewidth": 0,
             "ticks": ""
            },
            "colorscale": [
             [
              0.0,
              "#0d0887"
             ],
             [
              0.1111111111111111,
              "#46039f"
             ],
             [
              0.2222222222222222,
              "#7201a8"
             ],
             [
              0.3333333333333333,
              "#9c179e"
             ],
             [
              0.4444444444444444,
              "#bd3786"
             ],
             [
              0.5555555555555556,
              "#d8576b"
             ],
             [
              0.6666666666666666,
              "#ed7953"
             ],
             [
              0.7777777777777778,
              "#fb9f3a"
             ],
             [
              0.8888888888888888,
              "#fdca26"
             ],
             [
              1.0,
              "#f0f921"
             ]
            ]
           }
          ],
          "heatmap": [
           {
            "type": "heatmap",
            "colorbar": {
             "outlinewidth": 0,
             "ticks": ""
            },
            "colorscale": [
             [
              0.0,
              "#0d0887"
             ],
             [
              0.1111111111111111,
              "#46039f"
             ],
             [
              0.2222222222222222,
              "#7201a8"
             ],
             [
              0.3333333333333333,
              "#9c179e"
             ],
             [
              0.4444444444444444,
              "#bd3786"
             ],
             [
              0.5555555555555556,
              "#d8576b"
             ],
             [
              0.6666666666666666,
              "#ed7953"
             ],
             [
              0.7777777777777778,
              "#fb9f3a"
             ],
             [
              0.8888888888888888,
              "#fdca26"
             ],
             [
              1.0,
              "#f0f921"
             ]
            ]
           }
          ],
          "heatmapgl": [
           {
            "type": "heatmapgl",
            "colorbar": {
             "outlinewidth": 0,
             "ticks": ""
            },
            "colorscale": [
             [
              0.0,
              "#0d0887"
             ],
             [
              0.1111111111111111,
              "#46039f"
             ],
             [
              0.2222222222222222,
              "#7201a8"
             ],
             [
              0.3333333333333333,
              "#9c179e"
             ],
             [
              0.4444444444444444,
              "#bd3786"
             ],
             [
              0.5555555555555556,
              "#d8576b"
             ],
             [
              0.6666666666666666,
              "#ed7953"
             ],
             [
              0.7777777777777778,
              "#fb9f3a"
             ],
             [
              0.8888888888888888,
              "#fdca26"
             ],
             [
              1.0,
              "#f0f921"
             ]
            ]
           }
          ],
          "contourcarpet": [
           {
            "type": "contourcarpet",
            "colorbar": {
             "outlinewidth": 0,
             "ticks": ""
            }
           }
          ],
          "contour": [
           {
            "type": "contour",
            "colorbar": {
             "outlinewidth": 0,
             "ticks": ""
            },
            "colorscale": [
             [
              0.0,
              "#0d0887"
             ],
             [
              0.1111111111111111,
              "#46039f"
             ],
             [
              0.2222222222222222,
              "#7201a8"
             ],
             [
              0.3333333333333333,
              "#9c179e"
             ],
             [
              0.4444444444444444,
              "#bd3786"
             ],
             [
              0.5555555555555556,
              "#d8576b"
             ],
             [
              0.6666666666666666,
              "#ed7953"
             ],
             [
              0.7777777777777778,
              "#fb9f3a"
             ],
             [
              0.8888888888888888,
              "#fdca26"
             ],
             [
              1.0,
              "#f0f921"
             ]
            ]
           }
          ],
          "surface": [
           {
            "type": "surface",
            "colorbar": {
             "outlinewidth": 0,
             "ticks": ""
            },
            "colorscale": [
             [
              0.0,
              "#0d0887"
             ],
             [
              0.1111111111111111,
              "#46039f"
             ],
             [
              0.2222222222222222,
              "#7201a8"
             ],
             [
              0.3333333333333333,
              "#9c179e"
             ],
             [
              0.4444444444444444,
              "#bd3786"
             ],
             [
              0.5555555555555556,
              "#d8576b"
             ],
             [
              0.6666666666666666,
              "#ed7953"
             ],
             [
              0.7777777777777778,
              "#fb9f3a"
             ],
             [
              0.8888888888888888,
              "#fdca26"
             ],
             [
              1.0,
              "#f0f921"
             ]
            ]
           }
          ],
          "mesh3d": [
           {
            "type": "mesh3d",
            "colorbar": {
             "outlinewidth": 0,
             "ticks": ""
            }
           }
          ],
          "scatter": [
           {
            "fillpattern": {
             "fillmode": "overlay",
             "size": 10,
             "solidity": 0.2
            },
            "type": "scatter"
           }
          ],
          "parcoords": [
           {
            "type": "parcoords",
            "line": {
             "colorbar": {
              "outlinewidth": 0,
              "ticks": ""
             }
            }
           }
          ],
          "scatterpolargl": [
           {
            "type": "scatterpolargl",
            "marker": {
             "colorbar": {
              "outlinewidth": 0,
              "ticks": ""
             }
            }
           }
          ],
          "bar": [
           {
            "error_x": {
             "color": "#2a3f5f"
            },
            "error_y": {
             "color": "#2a3f5f"
            },
            "marker": {
             "line": {
              "color": "#E5ECF6",
              "width": 0.5
             },
             "pattern": {
              "fillmode": "overlay",
              "size": 10,
              "solidity": 0.2
             }
            },
            "type": "bar"
           }
          ],
          "scattergeo": [
           {
            "type": "scattergeo",
            "marker": {
             "colorbar": {
              "outlinewidth": 0,
              "ticks": ""
             }
            }
           }
          ],
          "scatterpolar": [
           {
            "type": "scatterpolar",
            "marker": {
             "colorbar": {
              "outlinewidth": 0,
              "ticks": ""
             }
            }
           }
          ],
          "histogram": [
           {
            "marker": {
             "pattern": {
              "fillmode": "overlay",
              "size": 10,
              "solidity": 0.2
             }
            },
            "type": "histogram"
           }
          ],
          "scattergl": [
           {
            "type": "scattergl",
            "marker": {
             "colorbar": {
              "outlinewidth": 0,
              "ticks": ""
             }
            }
           }
          ],
          "scatter3d": [
           {
            "type": "scatter3d",
            "line": {
             "colorbar": {
              "outlinewidth": 0,
              "ticks": ""
             }
            },
            "marker": {
             "colorbar": {
              "outlinewidth": 0,
              "ticks": ""
             }
            }
           }
          ],
          "scattermapbox": [
           {
            "type": "scattermapbox",
            "marker": {
             "colorbar": {
              "outlinewidth": 0,
              "ticks": ""
             }
            }
           }
          ],
          "scatterternary": [
           {
            "type": "scatterternary",
            "marker": {
             "colorbar": {
              "outlinewidth": 0,
              "ticks": ""
             }
            }
           }
          ],
          "scattercarpet": [
           {
            "type": "scattercarpet",
            "marker": {
             "colorbar": {
              "outlinewidth": 0,
              "ticks": ""
             }
            }
           }
          ],
          "carpet": [
           {
            "aaxis": {
             "endlinecolor": "#2a3f5f",
             "gridcolor": "white",
             "linecolor": "white",
             "minorgridcolor": "white",
             "startlinecolor": "#2a3f5f"
            },
            "baxis": {
             "endlinecolor": "#2a3f5f",
             "gridcolor": "white",
             "linecolor": "white",
             "minorgridcolor": "white",
             "startlinecolor": "#2a3f5f"
            },
            "type": "carpet"
           }
          ],
          "table": [
           {
            "cells": {
             "fill": {
              "color": "#EBF0F8"
             },
             "line": {
              "color": "white"
             }
            },
            "header": {
             "fill": {
              "color": "#C8D4E3"
             },
             "line": {
              "color": "white"
             }
            },
            "type": "table"
           }
          ],
          "barpolar": [
           {
            "marker": {
             "line": {
              "color": "#E5ECF6",
              "width": 0.5
             },
             "pattern": {
              "fillmode": "overlay",
              "size": 10,
              "solidity": 0.2
             }
            },
            "type": "barpolar"
           }
          ],
          "pie": [
           {
            "automargin": true,
            "type": "pie"
           }
          ]
         },
         "layout": {
          "autotypenumbers": "strict",
          "colorway": [
           "#636efa",
           "#EF553B",
           "#00cc96",
           "#ab63fa",
           "#FFA15A",
           "#19d3f3",
           "#FF6692",
           "#B6E880",
           "#FF97FF",
           "#FECB52"
          ],
          "font": {
           "color": "#2a3f5f"
          },
          "hovermode": "closest",
          "hoverlabel": {
           "align": "left"
          },
          "paper_bgcolor": "white",
          "plot_bgcolor": "#E5ECF6",
          "polar": {
           "bgcolor": "#E5ECF6",
           "angularaxis": {
            "gridcolor": "white",
            "linecolor": "white",
            "ticks": ""
           },
           "radialaxis": {
            "gridcolor": "white",
            "linecolor": "white",
            "ticks": ""
           }
          },
          "ternary": {
           "bgcolor": "#E5ECF6",
           "aaxis": {
            "gridcolor": "white",
            "linecolor": "white",
            "ticks": ""
           },
           "baxis": {
            "gridcolor": "white",
            "linecolor": "white",
            "ticks": ""
           },
           "caxis": {
            "gridcolor": "white",
            "linecolor": "white",
            "ticks": ""
           }
          },
          "coloraxis": {
           "colorbar": {
            "outlinewidth": 0,
            "ticks": ""
           }
          },
          "colorscale": {
           "sequential": [
            [
             0.0,
             "#0d0887"
            ],
            [
             0.1111111111111111,
             "#46039f"
            ],
            [
             0.2222222222222222,
             "#7201a8"
            ],
            [
             0.3333333333333333,
             "#9c179e"
            ],
            [
             0.4444444444444444,
             "#bd3786"
            ],
            [
             0.5555555555555556,
             "#d8576b"
            ],
            [
             0.6666666666666666,
             "#ed7953"
            ],
            [
             0.7777777777777778,
             "#fb9f3a"
            ],
            [
             0.8888888888888888,
             "#fdca26"
            ],
            [
             1.0,
             "#f0f921"
            ]
           ],
           "sequentialminus": [
            [
             0.0,
             "#0d0887"
            ],
            [
             0.1111111111111111,
             "#46039f"
            ],
            [
             0.2222222222222222,
             "#7201a8"
            ],
            [
             0.3333333333333333,
             "#9c179e"
            ],
            [
             0.4444444444444444,
             "#bd3786"
            ],
            [
             0.5555555555555556,
             "#d8576b"
            ],
            [
             0.6666666666666666,
             "#ed7953"
            ],
            [
             0.7777777777777778,
             "#fb9f3a"
            ],
            [
             0.8888888888888888,
             "#fdca26"
            ],
            [
             1.0,
             "#f0f921"
            ]
           ],
           "diverging": [
            [
             0,
             "#8e0152"
            ],
            [
             0.1,
             "#c51b7d"
            ],
            [
             0.2,
             "#de77ae"
            ],
            [
             0.3,
             "#f1b6da"
            ],
            [
             0.4,
             "#fde0ef"
            ],
            [
             0.5,
             "#f7f7f7"
            ],
            [
             0.6,
             "#e6f5d0"
            ],
            [
             0.7,
             "#b8e186"
            ],
            [
             0.8,
             "#7fbc41"
            ],
            [
             0.9,
             "#4d9221"
            ],
            [
             1,
             "#276419"
            ]
           ]
          },
          "xaxis": {
           "gridcolor": "white",
           "linecolor": "white",
           "ticks": "",
           "title": {
            "standoff": 15
           },
           "zerolinecolor": "white",
           "automargin": true,
           "zerolinewidth": 2
          },
          "yaxis": {
           "gridcolor": "white",
           "linecolor": "white",
           "ticks": "",
           "title": {
            "standoff": 15
           },
           "zerolinecolor": "white",
           "automargin": true,
           "zerolinewidth": 2
          },
          "scene": {
           "xaxis": {
            "backgroundcolor": "#E5ECF6",
            "gridcolor": "white",
            "linecolor": "white",
            "showbackground": true,
            "ticks": "",
            "zerolinecolor": "white",
            "gridwidth": 2
           },
           "yaxis": {
            "backgroundcolor": "#E5ECF6",
            "gridcolor": "white",
            "linecolor": "white",
            "showbackground": true,
            "ticks": "",
            "zerolinecolor": "white",
            "gridwidth": 2
           },
           "zaxis": {
            "backgroundcolor": "#E5ECF6",
            "gridcolor": "white",
            "linecolor": "white",
            "showbackground": true,
            "ticks": "",
            "zerolinecolor": "white",
            "gridwidth": 2
           }
          },
          "shapedefaults": {
           "line": {
            "color": "#2a3f5f"
           }
          },
          "annotationdefaults": {
           "arrowcolor": "#2a3f5f",
           "arrowhead": 0,
           "arrowwidth": 1
          },
          "geo": {
           "bgcolor": "white",
           "landcolor": "#E5ECF6",
           "subunitcolor": "white",
           "showland": true,
           "showlakes": true,
           "lakecolor": "white"
          },
          "title": {
           "x": 0.05
          },
          "mapbox": {
           "style": "light"
          }
         }
        },
        "xaxis": {
         "anchor": "y",
         "domain": [
          0.0,
          1.0
         ],
         "scaleanchor": "y",
         "constrain": "domain"
        },
        "yaxis": {
         "anchor": "x",
         "domain": [
          0.0,
          1.0
         ],
         "autorange": "reversed",
         "constrain": "domain"
        },
        "coloraxis": {
         "colorbar": {
          "title": {
           "text": "Similarity Score"
          }
         },
         "colorscale": [
          [
           0.0,
           "rgb(247,252,240)"
          ],
          [
           0.125,
           "rgb(224,243,219)"
          ],
          [
           0.25,
           "rgb(204,235,197)"
          ],
          [
           0.375,
           "rgb(168,221,181)"
          ],
          [
           0.5,
           "rgb(123,204,196)"
          ],
          [
           0.625,
           "rgb(78,179,211)"
          ],
          [
           0.75,
           "rgb(43,140,190)"
          ],
          [
           0.875,
           "rgb(8,104,172)"
          ],
          [
           1.0,
           "rgb(8,64,129)"
          ]
         ]
        },
        "margin": {
         "t": 60
        },
        "title": {
         "font": {
          "size": 22,
          "color": "Black"
         },
         "text": "<b>Similarity Matrix</b>",
         "y": 0.95,
         "x": 0.55,
         "xanchor": "center",
         "yanchor": "top"
        },
        "hoverlabel": {
         "font": {
          "size": 16,
          "family": "Rockwell"
         },
         "bgcolor": "white"
        },
        "width": 800,
        "height": 800,
        "showlegend": true,
        "legend": {
         "title": {
          "text": "Trend"
         }
        }
       },
       "config": {
        "plotlyServerURL": "https://plot.ly"
       }
      },
      "text/html": "<div>                            <div id=\"fd16b47d-026d-41ff-9b54-632921e7e51a\" class=\"plotly-graph-div\" style=\"height:800px; width:800px;\"></div>            <script type=\"text/javascript\">                require([\"plotly\"], function(Plotly) {                    window.PLOTLYENV=window.PLOTLYENV || {};                                    if (document.getElementById(\"fd16b47d-026d-41ff-9b54-632921e7e51a\")) {                    Plotly.newPlot(                        \"fd16b47d-026d-41ff-9b54-632921e7e51a\",                        [{\"coloraxis\":\"coloraxis\",\"name\":\"0\",\"x\":[\"0_eon_contract_customer\",\"1_essent_years_customer\",\"2_invoice_invoices_receive\",\"3_contract_agreement_new\",\"4_phone_minutes_service\",\"5_price_prices_suppliers\",\"6_long_process_took\",\"7_meter_reading_readings\",\"8_payment_installment_euros\",\"9_bills_billing_high\",\"10_recommend_recommendation...\",\"11_energy_supplier_recommend\",\"12_chat_chatbot_robot\",\"13_power_outage_announced\",\"14_website_site_page\",\"15_customers_customer_regular\",\"16_accessible_reduce_poorly\",\"17_communication_conversati...\",\"18_connection_email_notific...\",\"19_gas_electricity_contract\",\"20_choice_decide_choose\",\"21_password_log_login\",\"22_electricity_energy_price\",\"23_question_answer_questions\",\"24_service_customer_bad\",\"25_request_response_requests\",\"26_information_confusing_un...\",\"27_contact_phone_touch\",\"28_look_amateurish_\",\"29_rating_influenced_score\",\"30_consumption_manager_app\",\"31_electricity_lower_grid\",\"32_innogy_client_polska\",\"33_contracts_contract_add\",\"34_satisfied_happy_good\",\"35_employee_lady_question\",\"36_solved_problem_solution\",\"37_providers_provider_company\",\"38_solar_panels_cells\",\"39_boiler_water_thermostat\",\"40_know_cheaper_accessibility\",\"41_talk_friends_don\",\"42_portal_online_confusing\",\"43_wrote_described_note\",\"44_cena_know_champion\",\"45_installation_installers_...\",\"46_se_\\u00ba\\u00e3_hatrid\",\"47_helped_help_noded\",\"48_tariff_tariffs_change\",\"49_annual_statement_accounts\",\"50_cubic_consumption_gas\",\"51_ifo_colsenter_just\",\"52_transcription_transcript...\",\"53_nee_know_ne\",\"54_transfer_cancellation_fee\",\"55_reduce_price_expensive\",\"56_nope_guessing_purely\",\"57_know_doubt_moment\",\"58_promises_faster_promise\",\"59_rates_rate_increase\",\"60_app_work_working\",\"61_accessibility_poor_acces...\",\"62_survey_surveys_questionn...\",\"63_know_don_\",\"64_electricity_connection_e...\",\"65_malfunction_error_malfun...\",\"66_works_work_doesn\",\"67_complaint_contract_contr...\"],\"y\":[\"0_eon_contract_customer\",\"1_essent_years_customer\",\"2_invoice_invoices_receive\",\"3_contract_agreement_new\",\"4_phone_minutes_service\",\"5_price_prices_suppliers\",\"6_long_process_took\",\"7_meter_reading_readings\",\"8_payment_installment_euros\",\"9_bills_billing_high\",\"10_recommend_recommendation...\",\"11_energy_supplier_recommend\",\"12_chat_chatbot_robot\",\"13_power_outage_announced\",\"14_website_site_page\",\"15_customers_customer_regular\",\"16_accessible_reduce_poorly\",\"17_communication_conversati...\",\"18_connection_email_notific...\",\"19_gas_electricity_contract\",\"20_choice_decide_choose\",\"21_password_log_login\",\"22_electricity_energy_price\",\"23_question_answer_questions\",\"24_service_customer_bad\",\"25_request_response_requests\",\"26_information_confusing_un...\",\"27_contact_phone_touch\",\"28_look_amateurish_\",\"29_rating_influenced_score\",\"30_consumption_manager_app\",\"31_electricity_lower_grid\",\"32_innogy_client_polska\",\"33_contracts_contract_add\",\"34_satisfied_happy_good\",\"35_employee_lady_question\",\"36_solved_problem_solution\",\"37_providers_provider_company\",\"38_solar_panels_cells\",\"39_boiler_water_thermostat\",\"40_know_cheaper_accessibility\",\"41_talk_friends_don\",\"42_portal_online_confusing\",\"43_wrote_described_note\",\"44_cena_know_champion\",\"45_installation_installers_...\",\"46_se_\\u00ba\\u00e3_hatrid\",\"47_helped_help_noded\",\"48_tariff_tariffs_change\",\"49_annual_statement_accounts\",\"50_cubic_consumption_gas\",\"51_ifo_colsenter_just\",\"52_transcription_transcript...\",\"53_nee_know_ne\",\"54_transfer_cancellation_fee\",\"55_reduce_price_expensive\",\"56_nope_guessing_purely\",\"57_know_doubt_moment\",\"58_promises_faster_promise\",\"59_rates_rate_increase\",\"60_app_work_working\",\"61_accessibility_poor_acces...\",\"62_survey_surveys_questionn...\",\"63_know_don_\",\"64_electricity_connection_e...\",\"65_malfunction_error_malfun...\",\"66_works_work_doesn\",\"67_complaint_contract_contr...\"],\"z\":[[0.9999999403953552,0.6262217164039612,0.4645747244358063,0.5927590727806091,0.5603529214859009,0.4271277189254761,0.42686256766319275,0.4830588698387146,0.5770176649093628,0.4971194863319397,0.22477667033672333,0.4635327458381653,0.33300864696502686,0.40247616171836853,0.3756859302520752,0.5512391328811646,0.3687630891799927,0.3396311402320862,0.5300878286361694,0.661831259727478,0.10354921966791153,0.3140648305416107,0.44391465187072754,0.3097658157348633,0.603900671005249,0.40239208936691284,0.3157247006893158,0.4009957015514374,0.20042496919631958,0.40284663438796997,0.3611961305141449,0.3583471179008484,0.5051142573356628,0.524384081363678,0.27908921241760254,0.3933006525039673,0.3415963351726532,0.575262725353241,0.4922822415828705,0.4046141505241394,0.21960550546646118,0.17850801348686218,0.43529075384140015,0.21511168777942657,0.14895829558372498,0.4699747860431671,0.15675199031829834,0.276283860206604,0.5032028555870056,0.39411836862564087,0.42511075735092163,0.12672430276870728,0.4511150121688843,0.2039770483970642,0.5791597962379456,0.21378850936889648,0.12841728329658508,0.2969731092453003,0.33002161979675293,0.5007497072219849,0.34398582577705383,0.20460420846939087,0.38844552636146545,0.20496971905231476,0.5873410105705261,0.3630259931087494,0.2708852291107178,0.6167587637901306],[0.6262217164039612,0.9999997615814209,0.3714523911476135,0.48552316427230835,0.49440181255340576,0.4512730836868286,0.35975632071495056,0.41628196835517883,0.44143393635749817,0.3985162675380707,0.28024494647979736,0.46859294176101685,0.24140304327011108,0.3502383828163147,0.2716341018676758,0.5043867826461792,0.3192935287952423,0.2947430908679962,0.39615780115127563,0.5858249664306641,0.08297865092754364,0.20617035031318665,0.4036886692047119,0.2825202941894531,0.5279935002326965,0.3233054578304291,0.27243393659591675,0.33983558416366577,0.20472748577594757,0.35840290784835815,0.36498355865478516,0.3249928653240204,0.48526081442832947,0.3663991093635559,0.2768597900867462,0.3925226926803589,0.276957631111145,0.534680962562561,0.42046234011650085,0.43204447627067566,0.2306540310382843,0.14789992570877075,0.33269912004470825,0.1613759696483612,0.08231392502784729,0.4377719461917877,0.162002295255661,0.3063661456108093,0.4289851784706116,0.3214586675167084,0.39061862230300903,0.08591790497303009,0.3318674564361572,0.20273014903068542,0.46126410365104675,0.22431820631027222,0.08711402118206024,0.2369977831840515,0.2526746690273285,0.38777920603752136,0.2874245345592499,0.1802704632282257,0.3678625226020813,0.19391998648643494,0.49851810932159424,0.29664039611816406,0.22717759013175964,0.5320436954498291],[0.4645747244358063,0.3714523911476135,1.0000001192092896,0.6155476570129395,0.511144757270813,0.3563220798969269,0.45183709263801575,0.4159604012966156,0.7352744340896606,0.6596734523773193,0.09825994819402695,0.22543169558048248,0.22509554028511047,0.30358633399009705,0.2897428274154663,0.5081073045730591,0.3120732307434082,0.3134038746356964,0.5078060030937195,0.5733746886253357,-0.019097108393907547,0.21506106853485107,0.2939382791519165,0.31665778160095215,0.5505523681640625,0.4508284032344818,0.33222371339797974,0.3634622097015381,0.1905781775712967,0.28063398599624634,0.30831795930862427,0.16883718967437744,0.5830186009407043,0.5416911244392395,0.24960997700691223,0.45057785511016846,0.3182343542575836,0.3891151547431946,0.34875962138175964,0.3560137450695038,0.1554725170135498,0.11011892557144165,0.30705273151397705,0.27111750841140747,0.07393759489059448,0.43067991733551025,0.15881897509098053,0.27339601516723633,0.3988316059112549,0.5281646847724915,0.3805461525917053,0.04234311357140541,0.4968598484992981,0.10848362743854523,0.582676112651825,0.20819051563739777,0.04167857766151428,0.21789565682411194,0.3372909128665924,0.4245048463344574,0.2586454153060913,0.18658095598220825,0.36930039525032043,0.1375902146100998,0.4471108317375183,0.3164089322090149,0.19045493006706238,0.6425069570541382],[0.5927590727806091,0.48552316427230835,0.6155476570129395,0.9999997019767761,0.6013584136962891,0.47624528408050537,0.5412757992744446,0.45117202401161194,0.689507007598877,0.5552109479904175,0.18535786867141724,0.37733355164527893,0.33352094888687134,0.349101722240448,0.3116818368434906,0.6218430399894714,0.3932906985282898,0.4378511309623718,0.5628113150596619,0.7055002450942993,0.12192695587873459,0.2668095827102661,0.4103925824165344,0.34054434299468994,0.6294406652450562,0.4634545147418976,0.3557708263397217,0.4412824511528015,0.18759602308273315,0.35935693979263306,0.28101250529289246,0.26234370470046997,0.5480750203132629,0.7885144948959351,0.3313021659851074,0.4759673476219177,0.37344735860824585,0.552471935749054,0.4727920889854431,0.4449925422668457,0.20488135516643524,0.18390768766403198,0.3331095278263092,0.27866068482398987,0.09854808449745178,0.5343738198280334,0.19285526871681213,0.2901371717453003,0.5585217475891113,0.4639674425125122,0.39098647236824036,0.08357458561658859,0.49464040994644165,0.16302648186683655,0.7069078087806702,0.2337612807750702,0.08464314788579941,0.3415530323982239,0.48269879817962646,0.5461470484733582,0.30679935216903687,0.18869882822036743,0.4209630489349365,0.16427025198936462,0.5558454990386963,0.3026389479637146,0.23818400502204895,0.7924924492835999],[0.5603529214859009,0.49440181255340576,0.511144757270813,0.6013584136962891,0.9999997615814209,0.352408230304718,0.603182852268219,0.5136630535125732,0.5879018306732178,0.5169559717178345,0.25282013416290283,0.28732168674468994,0.6170677542686462,0.42392459511756897,0.46187689900398254,0.6193049550056458,0.4050719141960144,0.5135815143585205,0.7053219079971313,0.6516391038894653,0.08698612451553345,0.4536929726600647,0.27655088901519775,0.4818587899208069,0.8639402389526367,0.6200034022331238,0.41107916831970215,0.7987988591194153,0.22590799629688263,0.37853264808654785,0.28184616565704346,0.18131740391254425,0.5228695273399353,0.4998016953468323,0.30846959352493286,0.6430596709251404,0.47840309143066406,0.5738979578018188,0.39996373653411865,0.4487728178501129,0.2355107218027115,0.21552035212516785,0.5341671705245972,0.20574651658535004,0.08640976995229721,0.5629866123199463,0.1836913526058197,0.5256290435791016,0.4349941611289978,0.39307674765586853,0.31497788429260254,0.08180297166109085,0.5446652173995972,0.2027430236339569,0.6520705819129944,0.21966330707073212,0.08299712836742401,0.3038679361343384,0.41117382049560547,0.4695754051208496,0.5242677330970764,0.3848576843738556,0.5000854134559631,0.19767670333385468,0.5909609794616699,0.5149288177490234,0.40617871284484863,0.8019988536834717],[0.4271277189254761,0.4512730836868286,0.3563220798969269,0.47624528408050537,0.352408230304718,1.000000238418579,0.34182703495025635,0.275099515914917,0.41831862926483154,0.49519041180610657,0.37911826372146606,0.5245798826217651,0.21038159728050232,0.22015108168125153,0.30319035053253174,0.629580020904541,0.6190627813339233,0.3137631118297577,0.2806349992752075,0.4460280239582062,0.29057157039642334,0.0767306387424469,0.6390701532363892,0.31581422686576843,0.4847721755504608,0.2983686923980713,0.35404935479164124,0.21346405148506165,0.2907244861125946,0.40869688987731934,0.3898477852344513,0.5160969495773315,0.4218597710132599,0.2765374779701233,0.2836799621582031,0.267738401889801,0.2696482837200165,0.699734091758728,0.38981345295906067,0.34281209111213684,0.419986367225647,0.21596720814704895,0.2575162649154663,0.27539685368537903,0.10116036236286163,0.3587101995944977,0.25619661808013916,0.20848432183265686,0.5944733023643494,0.27158239483833313,0.4313339591026306,0.1655922830104828,0.22523799538612366,0.18825611472129822,0.38944780826568604,0.6596240997314453,0.16554293036460876,0.3367782533168793,0.3599427342414856,0.6647561192512512,0.20281708240509033,0.23097820580005646,0.32929810881614685,0.22923853993415833,0.32455310225486755,0.26152241230010986,0.2384358048439026,0.41722482442855835],[0.42686256766319275,0.35975632071495056,0.45183709263801575,0.5412757992744446,0.603182852268219,0.34182703495025635,0.9999996423721313,0.3672771155834198,0.4828503727912903,0.4059332609176636,0.1415325105190277,0.16440674662590027,0.34201499819755554,0.3845566511154175,0.3731060028076172,0.4411010444164276,0.4202326536178589,0.5038475394248962,0.6362175345420837,0.46891093254089355,0.16847054660320282,0.2945604622364044,0.25970470905303955,0.43097683787345886,0.5852586627006531,0.6417337656021118,0.4858807325363159,0.4101424217224121,0.1948964148759842,0.34457480907440186,0.2555283010005951,0.16953152418136597,0.4241317808628082,0.37586134672164917,0.3683108687400818,0.48768436908721924,0.4952777922153473,0.3438493609428406,0.38326936960220337,0.41882288455963135,0.26845771074295044,0.22232308983802795,0.43634864687919617,0.2731746435165405,0.08843043446540833,0.6313796043395996,0.2161502242088318,0.4192686676979065,0.404665470123291,0.397601455450058,0.2579765319824219,0.07841971516609192,0.5933594703674316,0.20618683099746704,0.5599341988563538,0.23905867338180542,0.07975660264492035,0.35757723450660706,0.5269973874092102,0.425376832485199,0.34780895709991455,0.345719575881958,0.4135425388813019,0.18138015270233154,0.5760231614112854,0.40893858671188354,0.3109172284603119,0.6208107471466064],[0.4830588698387146,0.41628196835517883,0.4159604012966156,0.45117202401161194,0.5136630535125732,0.275099515914917,0.3672771155834198,0.9999998807907104,0.49367189407348633,0.503848671913147,0.08342757076025009,0.432158499956131,0.3058331310749054,0.4903412461280823,0.32646748423576355,0.397812157869339,0.2620818614959717,0.2812664806842804,0.4802164137363434,0.7050057649612427,0.004117580596357584,0.3083903193473816,0.45343586802482605,0.3047237694263458,0.500683069229126,0.39869970083236694,0.3789334297180176,0.39594122767448425,0.13428421318531036,0.42110395431518555,0.49279773235321045,0.3430336117744446,0.4808562397956848,0.44597771763801575,0.2019217610359192,0.3760669529438019,0.3335491418838501,0.39112910628318787,0.530764102935791,0.4890124201774597,0.20198288559913635,0.11400178074836731,0.4097127318382263,0.19041065871715546,0.05593941733241081,0.4808780550956726,0.12566423416137695,0.2569192051887512,0.4382728338241577,0.3795161843299866,0.6213594079017639,0.05214861035346985,0.3691079616546631,0.13684605062007904,0.42218220233917236,0.12807497382164001,0.05328148603439331,0.19473731517791748,0.26339417695999146,0.4219309389591217,0.40343961119651794,0.2697567343711853,0.45449161529541016,0.15169872343540192,0.6779659986495972,0.43863338232040405,0.2835468053817749,0.519174337387085],[0.5770176649093628,0.44143393635749817,0.7352744340896606,0.689507007598877,0.5879018306732178,0.41831862926483154,0.4828503727912903,0.49367189407348633,0.9999998807907104,0.7852751016616821,0.14340199530124664,0.3126603960990906,0.33136314153671265,0.35007068514823914,0.38423463702201843,0.5468911528587341,0.37511777877807617,0.3558415472507477,0.5758218765258789,0.6754384636878967,0.022253070026636124,0.348987340927124,0.4090608060359955,0.36179301142692566,0.5975922346115112,0.48052021861076355,0.3548215329647064,0.4286192059516907,0.20120875537395477,0.38060081005096436,0.4162214398384094,0.24055886268615723,0.5519623160362244,0.5681352019309998,0.2722432613372803,0.4323992431163788,0.3780805468559265,0.47787487506866455,0.44480642676353455,0.38370317220687866,0.18339380621910095,0.17795102298259735,0.3804693818092346,0.2537628412246704,0.11118962615728378,0.4686260223388672,0.1866234838962555,0.32775411009788513,0.5137194991111755,0.6135901212692261,0.4556463956832886,0.09425660967826843,0.49271756410598755,0.15694011747837067,0.7974809408187866,0.2463185042142868,0.09500844031572342,0.2793181240558624,0.3764716684818268,0.597088634967804,0.34295928478240967,0.2251434624195099,0.3949205279350281,0.1936596930027008,0.5208094120025635,0.3520807921886444,0.27273353934288025,0.7059345245361328],[0.4971194863319397,0.3985162675380707,0.6596734523773193,0.5552109479904175,0.5169559717178345,0.49519041180610657,0.4059332609176636,0.503848671913147,0.7852751016616821,1.0000003576278687,0.14619438350200653,0.43685054779052734,0.2071426510810852,0.3803858458995819,0.27213698625564575,0.5295071005821228,0.3932366371154785,0.2879813015460968,0.3964039981365204,0.6741118431091309,0.09061840176582336,0.2240518480539322,0.5917940139770508,0.2879159152507782,0.5464304685592651,0.3566593825817108,0.3085576891899109,0.3060612380504608,0.19832530617713928,0.370249480009079,0.4948877990245819,0.41709133982658386,0.44473621249198914,0.42883849143981934,0.25990399718284607,0.35538917779922485,0.2820788323879242,0.5288515090942383,0.4218520224094391,0.35339632630348206,0.2816258668899536,0.21217039227485657,0.3044934868812561,0.21244379878044128,0.09736651182174683,0.4153962731361389,0.10887634009122849,0.28188055753707886,0.5191922783851624,0.5240748524665833,0.5989779233932495,0.11288334429264069,0.38901400566101074,0.09544602036476135,0.5701466798782349,0.28720220923423767,0.11377004534006119,0.23798488080501556,0.3429449200630188,0.6012968420982361,0.26285383105278015,0.22889003157615662,0.35192012786865234,0.11823804676532745,0.5408843755722046,0.28728675842285156,0.16555644571781158,0.5779828429222107],[0.22477667033672333,0.28024494647979736,0.09825994819402695,0.18535786867141724,0.25282013416290283,0.37911826372146606,0.1415325105190277,0.08342757076025009,0.14340199530124664,0.14619438350200653,1.0,0.3507596254348755,0.2190251648426056,0.05954635888338089,0.2453504502773285,0.34213897585868835,0.40493425726890564,0.2625735402107239,0.1885143220424652,0.14154884219169617,0.43167632818222046,0.08053275942802429,0.14018726348876953,0.2363235205411911,0.3271419405937195,0.1880658119916916,0.23387542366981506,0.2075265794992447,0.21843186020851135,0.40003129839897156,0.2070924937725067,0.15724143385887146,0.30474063754081726,0.060036905109882355,0.2875644564628601,0.24580539762973785,0.1975308656692505,0.42480313777923584,0.17449899017810822,0.18288983404636383,0.394564151763916,0.459469735622406,0.1898195445537567,0.22141557931900024,0.06386292725801468,0.22173744440078735,0.2415955811738968,0.320687860250473,0.15407872200012207,0.12473151832818985,0.07501900941133499,0.2129725217819214,0.09900467842817307,0.169525608420372,0.1879475712776184,0.2341281622648239,0.21226102113723755,0.30434295535087585,0.27790358662605286,0.22453492879867554,0.26169607043266296,0.1721498966217041,0.36090877652168274,0.1699422001838684,0.14643698930740356,0.1859980821609497,0.2767223119735718,0.2230301946401596],[0.4635327458381653,0.46859294176101685,0.22543169558048248,0.37733355164527893,0.28732168674468994,0.5245798826217651,0.16440674662590027,0.432158499956131,0.3126603960990906,0.43685054779052734,0.3507596254348755,0.9999999403953552,0.0923721194267273,0.4772605299949646,0.18082469701766968,0.44472166895866394,0.26752719283103943,0.17804990708827972,0.20034724473953247,0.7056626081466675,0.2328089475631714,0.04676683619618416,0.8159053325653076,0.20464938879013062,0.3989821672439575,0.16091586649417877,0.19997349381446838,0.16168692708015442,0.14247256517410278,0.3686814606189728,0.4165646433830261,0.7594550251960754,0.40179142355918884,0.23283305764198303,0.14412376284599304,0.23015522956848145,0.17576614022254944,0.5924649238586426,0.6403346061706543,0.42560699582099915,0.3644025921821594,0.19318035244941711,0.16384577751159668,0.14005985856056213,0.0683225467801094,0.3203624486923218,0.10247498750686646,0.1714109480381012,0.47334104776382446,0.21405357122421265,0.6678598523139954,0.12433318793773651,0.10269616544246674,0.1479400396347046,0.291917622089386,0.21586894989013672,0.12596064805984497,0.16941332817077637,0.2175064980983734,0.4117497205734253,0.12132816761732101,0.10980509221553802,0.3213246166706085,0.1485098898410797,0.6203330755233765,0.14993774890899658,0.11020452529191971,0.3800049126148224],[0.33300864696502686,0.24140304327011108,0.22509554028511047,0.33352094888687134,0.6170677542686462,0.21038159728050232,0.34201499819755554,0.3058331310749054,0.33136314153671265,0.2071426510810852,0.2190251648426056,0.0923721194267273,1.000000238418579,0.21456380188465118,0.43047964572906494,0.32902050018310547,0.37462955713272095,0.5329577922821045,0.5725232362747192,0.3550417423248291,0.12127242982387543,0.46084147691726685,0.10401488840579987,0.4773922264575958,0.48198041319847107,0.5382356643676758,0.33220502734184265,0.6667699813842773,0.22803360223770142,0.21679258346557617,0.18929482996463776,0.038117848336696625,0.3300711512565613,0.3363303542137146,0.3339044153690338,0.4654527008533478,0.4574028551578522,0.26287397742271423,0.22155392169952393,0.3524916470050812,0.2355966717004776,0.3084036409854889,0.44405677914619446,0.2450416386127472,0.11583130061626434,0.3171343505382538,0.271700382232666,0.5020872354507446,0.2470071017742157,0.18106910586357117,0.16910627484321594,0.12809959053993225,0.3451789617538452,0.1411035656929016,0.37518876791000366,0.1962754726409912,0.12761950492858887,0.3609599173069,0.29538142681121826,0.28698575496673584,0.47351381182670593,0.3351052701473236,0.3867962062358856,0.17826944589614868,0.30735018849372864,0.48716819286346436,0.47491729259490967,0.44914358854293823],[0.40247616171836853,0.3502383828163147,0.30358633399009705,0.349101722240448,0.42392459511756897,0.22015108168125153,0.3845566511154175,0.4903412461280823,0.35007068514823914,0.3803858458995819,0.05954635888338089,0.4772605299949646,0.21456380188465118,1.0,0.2343650609254837,0.31487756967544556,0.25877636671066284,0.2980431318283081,0.43004465103149414,0.6117428541183472,0.04816921427845955,0.23308788239955902,0.524510383605957,0.2889987528324127,0.42871615290641785,0.3232993483543396,0.2995963990688324,0.32696861028671265,0.10188715159893036,0.28898343443870544,0.31824344396591187,0.4505086839199066,0.33737072348594666,0.2036367654800415,0.1839316487312317,0.34368419647216797,0.3139704167842865,0.2785772979259491,0.46597355604171753,0.47977033257484436,0.25318050384521484,0.15828588604927063,0.2559795379638672,0.14748023450374603,0.09676891565322876,0.44799870252609253,0.123420350253582,0.2688235342502594,0.3310549855232239,0.24336141347885132,0.49664872884750366,0.07282665371894836,0.24938908219337463,0.12533295154571533,0.32156699895858765,0.09318287670612335,0.07453566044569016,0.21292981505393982,0.237053781747818,0.2863219976425171,0.24164262413978577,0.22394050657749176,0.3065946698188782,0.13658040761947632,0.7341142296791077,0.38825657963752747,0.23998884856700897,0.42065685987472534],[0.3756859302520752,0.2716341018676758,0.2897428274154663,0.3116818368434906,0.46187689900398254,0.30319035053253174,0.3731060028076172,0.32646748423576355,0.38423463702201843,0.27213698625564575,0.2453504502773285,0.18082469701766968,0.43047964572906494,0.2343650609254837,1.000000238418579,0.36747846007347107,0.41176658868789673,0.27613502740859985,0.49789953231811523,0.3523796498775482,0.08350235223770142,0.49478304386138916,0.17507943511009216,0.3558189868927002,0.5120508670806885,0.5260494947433472,0.44142937660217285,0.422171413898468,0.19205425679683685,0.34171807765960693,0.27705833315849304,0.12925538420677185,0.41546398401260376,0.41970548033714294,0.31831681728363037,0.2585265040397644,0.3710412085056305,0.3984842598438263,0.2594574987888336,0.2769172787666321,0.2770126163959503,0.1335442066192627,0.6905557513237,0.20753425359725952,0.09652826189994812,0.36139142513275146,0.24084247648715973,0.36599215865135193,0.290202260017395,0.33813756704330444,0.196030393242836,0.09306464344263077,0.2743661105632782,0.16204944252967834,0.3880285322666168,0.2449653297662735,0.0932595282793045,0.3001176118850708,0.2540668845176697,0.34450605511665344,0.5866366624832153,0.4877011179924011,0.4034193456172943,0.2150706946849823,0.3259953260421753,0.5058445334434509,0.45370393991470337,0.43258270621299744],[0.5512391328811646,0.5043867826461792,0.5081073045730591,0.6218430399894714,0.6193049550056458,0.629580020904541,0.4411010444164276,0.397812157869339,0.5468911528587341,0.5295071005821228,0.34213897585868835,0.44472166895866394,0.32902050018310547,0.31487756967544556,0.36747846007347107,1.0000001192092896,0.5269575715065002,0.49072590470314026,0.4350554049015045,0.5799334645271301,0.23620674014091492,0.24003268778324127,0.4561946392059326,0.3840287923812866,0.7977226972579956,0.41697388887405396,0.3960777521133423,0.361466646194458,0.23116149008274078,0.4336579740047455,0.3747601807117462,0.41904929280281067,0.513226330280304,0.44110405445098877,0.358531653881073,0.5587785243988037,0.36411118507385254,0.6778576970100403,0.390845388174057,0.3918348252773285,0.32414403557777405,0.2566685378551483,0.4141165614128113,0.27812111377716064,0.135359987616539,0.47900390625,0.211222305893898,0.3215698003768921,0.5246962904930115,0.4190906882286072,0.37486526370048523,0.09480287879705429,0.3192020654678345,0.16825135052204132,0.5269142985343933,0.41421380639076233,0.09647630155086517,0.2943134605884552,0.5247515439987183,0.6154841780662537,0.30478596687316895,0.2734755277633667,0.5268268585205078,0.20076678693294525,0.4588809311389923,0.3137783706188202,0.2407471239566803,0.6825549602508545],[0.3687630891799927,0.3192935287952423,0.3120732307434082,0.3932906985282898,0.4050719141960144,0.6190627813339233,0.4202326536178589,0.2620818614959717,0.37511777877807617,0.3932366371154785,0.40493425726890564,0.26752719283103943,0.37462955713272095,0.25877636671066284,0.41176658868789673,0.5269575715065002,1.0,0.6074564456939697,0.42205214500427246,0.36261823773384094,0.32034018635749817,0.23077870905399323,0.42473044991493225,0.48258650302886963,0.508942186832428,0.47497910261154175,0.5216338634490967,0.35332414507865906,0.48262935876846313,0.413669228553772,0.3224929869174957,0.39526626467704773,0.3550587296485901,0.24526488780975342,0.6056649088859558,0.4234001636505127,0.5215277075767517,0.4554750919342041,0.2892623841762543,0.33293354511260986,0.6829462051391602,0.5013325810432434,0.34160375595092773,0.5111494064331055,0.34012290835380554,0.3740675449371338,0.5682058334350586,0.4509751796722412,0.40105724334716797,0.2464601844549179,0.2877708673477173,0.33075690269470215,0.2532021701335907,0.3363904654979706,0.3650527000427246,0.6658183932304382,0.33041834831237793,0.6103792190551758,0.6015636324882507,0.446003794670105,0.3632633686065674,0.4556565582752228,0.45064985752105713,0.3616992235183716,0.3376568555831909,0.49370062351226807,0.5352436304092407,0.42747071385383606],[0.3396311402320862,0.2947430908679962,0.3134038746356964,0.4378511309623718,0.5135815143585205,0.3137631118297577,0.5038475394248962,0.2812664806842804,0.3558415472507477,0.2879813015460968,0.2625735402107239,0.17804990708827972,0.5329577922821045,0.2980431318283081,0.27613502740859985,0.49072590470314026,0.6074564456939697,1.0000001192092896,0.4999854564666748,0.34947705268859863,0.3376905918121338,0.20206312835216522,0.24935832619667053,0.5419912934303284,0.5466750264167786,0.5021123290061951,0.6259070038795471,0.516733705997467,0.2681107819080353,0.34650206565856934,0.21532322466373444,0.15354816615581512,0.36203476786613464,0.2385272979736328,0.584518551826477,0.6961320638656616,0.5750923156738281,0.3072323501110077,0.22469495236873627,0.3088507652282715,0.4809361696243286,0.5420190691947937,0.2909509539604187,0.48028361797332764,0.17643246054649353,0.36167752742767334,0.4204031229019165,0.48939049243927,0.33110785484313965,0.23218604922294617,0.20802050828933716,0.16255562007427216,0.38823625445365906,0.22916455566883087,0.37994661927223206,0.2209177166223526,0.16403844952583313,0.4957180619239807,0.6555996537208557,0.3297617733478546,0.2921615540981293,0.41014713048934937,0.4465269446372986,0.2083774358034134,0.345181405544281,0.47797295451164246,0.36643898487091064,0.5299425721168518],[0.5300878286361694,0.39615780115127563,0.5078060030937195,0.5628113150596619,0.7053219079971313,0.2806349992752075,0.6362175345420837,0.4802164137363434,0.5758218765258789,0.3964039981365204,0.1885143220424652,0.20034724473953247,0.5725232362747192,0.43004465103149414,0.49789953231811523,0.4350554049015045,0.42205214500427246,0.4999854564666748,1.000000238418579,0.5735443830490112,0.06316153705120087,0.5277961492538452,0.21171388030052185,0.5664018392562866,0.5984856486320496,0.7604353427886963,0.4205550253391266,0.6965246796607971,0.2705891728401184,0.31494593620300293,0.3033100962638855,0.11674445122480392,0.4387371838092804,0.5301775932312012,0.37709760665893555,0.4786785840988159,0.5225189924240112,0.41293126344680786,0.367431104183197,0.37227267026901245,0.24850749969482422,0.27228230237960815,0.5171336531639099,0.30759090185165405,0.13234883546829224,0.5095267295837402,0.24905791878700256,0.46192970871925354,0.3958789110183716,0.4166952669620514,0.2918042838573456,0.13185058534145355,0.45868122577667236,0.2127528041601181,0.6150695085525513,0.1785028725862503,0.13154707849025726,0.429261714220047,0.41403263807296753,0.4381900727748871,0.5088547468185425,0.32204920053482056,0.49639126658439636,0.2380673885345459,0.5699365139007568,0.4787983298301697,0.45352232456207275,0.6704484224319458],[0.661831259727478,0.5858249664306641,0.5733746886253357,0.7055002450942993,0.6516391038894653,0.4460280239582062,0.46891093254089355,0.7050057649612427,0.6754384636878967,0.6741118431091309,0.14154884219169617,0.7056626081466675,0.3550417423248291,0.6117428541183472,0.3523796498775482,0.5799334645271301,0.36261823773384094,0.34947705268859863,0.5735443830490112,1.0000004768371582,0.01751604862511158,0.33916255831718445,0.710686206817627,0.35492441058158875,0.6637904047966003,0.46677136421203613,0.3466816246509552,0.4847206473350525,0.18969133496284485,0.4009811580181122,0.5296052694320679,0.5599775910377502,0.568997323513031,0.6023670434951782,0.2574537992477417,0.4625876545906067,0.37935173511505127,0.5445271730422974,0.6666872501373291,0.6416966319084167,0.2629714906215668,0.1629224419593811,0.4269649088382721,0.20527726411819458,0.09333229809999466,0.591839075088501,0.16208337247371674,0.3512018322944641,0.5994225740432739,0.4668291211128235,0.7736935615539551,0.10145242512226105,0.4163564145565033,0.1695258915424347,0.6410498023033142,0.23528505861759186,0.10241006314754486,0.2568497955799103,0.3622193932533264,0.5332344770431519,0.33270829916000366,0.23711246252059937,0.4533141851425171,0.19797298312187195,0.8172704577445984,0.41030043363571167,0.28291720151901245,0.7440131902694702],[0.10354921966791153,0.08297865092754364,-0.019097108393907547,0.12192695587873459,0.08698612451553345,0.29057157039642334,0.16847054660320282,0.004117580596357584,0.022253070026636124,0.09061840176582336,0.43167632818222046,0.2328089475631714,0.12127242982387543,0.04816921427845955,0.08350235223770142,0.23620674014091492,0.32034018635749817,0.3376905918121338,0.06316153705120087,0.01751604862511158,1.0,-0.009671194478869438,0.1337067037820816,0.28456830978393555,0.12054848670959473,0.14504395425319672,0.2655414342880249,0.05536988005042076,0.1690562665462494,0.2269573211669922,0.10490911453962326,0.1297702193260193,0.13133618235588074,-0.013835511170327663,0.36630186438560486,0.16661755740642548,0.2207798957824707,0.2510738968849182,0.08039579540491104,0.05165257677435875,0.5323357582092285,0.44468963146209717,0.03829630836844444,0.2517443895339966,0.10487419366836548,0.10594974458217621,0.22063057124614716,0.1777067482471466,0.13602466881275177,0.031730953603982925,0.03129706531763077,0.21881097555160522,0.012053301557898521,0.14728379249572754,0.07248281687498093,0.12835952639579773,0.22022110223770142,0.39173173904418945,0.3430653214454651,0.14654362201690674,0.08780709654092789,0.1489597111940384,0.34227126836776733,0.07681144028902054,0.04457871615886688,0.05501118674874306,0.1365157663822174,0.09468051791191101],[0.3140648305416107,0.20617035031318665,0.21506106853485107,0.2668095827102661,0.4536929726600647,0.0767306387424469,0.2945604622364044,0.3083903193473816,0.348987340927124,0.2240518480539322,0.08053275942802429,0.04676683619618416,0.46084147691726685,0.23308788239955902,0.49478304386138916,0.24003268778324127,0.23077870905399323,0.20206312835216522,0.5277961492538452,0.33916255831718445,-0.009671194478869438,1.0000003576278687,0.05723292753100395,0.3069370687007904,0.40016162395477295,0.4350750148296356,0.1907147765159607,0.42248210310935974,0.09958922863006592,0.15715011954307556,0.18948101997375488,-0.008646368980407715,0.2744602560997009,0.4250805974006653,0.15605312585830688,0.2378961741924286,0.40512487292289734,0.18224915862083435,0.11264115571975708,0.22451895475387573,0.10265275835990906,0.12578245997428894,0.5518347024917603,0.11630135029554367,0.12848563492298126,0.2802122235298157,0.16667816042900085,0.3614591062068939,0.15302783250808716,0.2851189970970154,0.11783286929130554,0.051486894488334656,0.18285000324249268,0.10080500692129135,0.3511918783187866,0.09006009995937347,0.05184626206755638,0.18531617522239685,0.14520025253295898,0.17298956215381622,0.4561777710914612,0.27764448523521423,0.2581995725631714,0.1411890685558319,0.3054618835449219,0.4567182958126068,0.4596238136291504,0.3877555727958679],[0.44391465187072754,0.4036886692047119,0.2939382791519165,0.4103925824165344,0.27655088901519775,0.6390701532363892,0.25970470905303955,0.45343586802482605,0.4090608060359955,0.5917940139770508,0.14018726348876953,0.8159053325653076,0.10401488840579987,0.524510383605957,0.17507943511009216,0.4561946392059326,0.42473044991493225,0.24935832619667053,0.21171388030052185,0.710686206817627,0.1337067037820816,0.05723292753100395,0.9999999403953552,0.2242588996887207,0.39790940284729004,0.21545933187007904,0.25946879386901855,0.14223292469978333,0.1731591820716858,0.33321115374565125,0.4984815716743469,0.8774163722991943,0.3715175688266754,0.22368943691253662,0.15521767735481262,0.23358280956745148,0.2593385875225067,0.4858526885509491,0.6219260096549988,0.43863558769226074,0.3861701786518097,0.13614684343338013,0.1494394689798355,0.1858426034450531,0.08086758852005005,0.32950395345687866,0.15259325504302979,0.15689028799533844,0.5942973494529724,0.2271750271320343,0.7738733887672424,0.10133165121078491,0.15304192900657654,0.11106106638908386,0.32301223278045654,0.4101550579071045,0.10266788303852081,0.17388656735420227,0.27024218440055847,0.5529491901397705,0.11588715016841888,0.20227685570716858,0.2765938937664032,0.12363487482070923,0.6336204409599304,0.24889855086803436,0.15248733758926392,0.39490777254104614],[0.3097658157348633,0.2825202941894531,0.31665778160095215,0.34054434299468994,0.4818587899208069,0.31581422686576843,0.43097683787345886,0.3047237694263458,0.36179301142692566,0.2879159152507782,0.2363235205411911,0.20464938879013062,0.4773922264575958,0.2889987528324127,0.3558189868927002,0.3840287923812866,0.48258650302886963,0.5419912934303284,0.5664018392562866,0.35492441058158875,0.28456830978393555,0.3069370687007904,0.2242588996887207,1.000000238418579,0.46708688139915466,0.6630572080612183,0.6087483167648315,0.45934200286865234,0.3564191460609436,0.33560121059417725,0.25384825468063354,0.16524988412857056,0.31157779693603516,0.23136533796787262,0.44476455450057983,0.49929821491241455,0.6432873606681824,0.30927637219429016,0.29904183745384216,0.2903403043746948,0.4945029318332672,0.37446463108062744,0.3296690583229065,0.45142263174057007,0.23662880063056946,0.34855952858924866,0.3251168131828308,0.597973108291626,0.2711067497730255,0.2927176356315613,0.2645021378993988,0.3036956787109375,0.2502673268318176,0.2296631932258606,0.32019874453544617,0.22914963960647583,0.30295759439468384,0.5454294681549072,0.42390936613082886,0.3328557014465332,0.3274315595626831,0.34604114294052124,0.5371424555778503,0.34742477536201477,0.3467438817024231,0.42882901430130005,0.402332067489624,0.47766047716140747],[0.603900671005249,0.5279935002326965,0.5505523681640625,0.6294406652450562,0.8639402389526367,0.4847721755504608,0.5852586627006531,0.500683069229126,0.5975922346115112,0.5464304685592651,0.3271419405937195,0.3989821672439575,0.48198041319847107,0.42871615290641785,0.5120508670806885,0.7977226972579956,0.508942186832428,0.5466750264167786,0.5984856486320496,0.6637904047966003,0.12054848670959473,0.40016162395477295,0.39790940284729004,0.46708688139915466,0.9999998807907104,0.551186203956604,0.45382505655288696,0.5870986580848694,0.22099465131759644,0.4749332368373871,0.3104121685028076,0.30154454708099365,0.6059799790382385,0.4772622585296631,0.36302751302719116,0.6561492681503296,0.4593172073364258,0.6952925324440002,0.44121819734573364,0.5012144446372986,0.31831252574920654,0.2235732078552246,0.5661357641220093,0.21545648574829102,0.09926913678646088,0.6158275604248047,0.2147616446018219,0.44772833585739136,0.4795689582824707,0.43953263759613037,0.35032063722610474,0.08154983818531036,0.48575645685195923,0.190525084733963,0.6217114925384521,0.27353447675704956,0.08256129175424576,0.26500850915908813,0.4552850127220154,0.5270711183547974,0.48676323890686035,0.45000630617141724,0.5385093688964844,0.1990782767534256,0.5917556285858154,0.5301253795623779,0.3219011425971985,0.868736207485199],[0.40239208936691284,0.3233054578304291,0.4508284032344818,0.4634545147418976,0.6200034022331238,0.2983686923980713,0.6417337656021118,0.39869970083236694,0.48052021861076355,0.3566593825817108,0.1880658119916916,0.16091586649417877,0.5382356643676758,0.3232993483543396,0.5260494947433472,0.41697388887405396,0.47497910261154175,0.5021123290061951,0.7604353427886963,0.46677136421203613,0.14504395425319672,0.4350750148296356,0.21545933187007904,0.6630572080612183,0.551186203956604,1.0,0.4509602189064026,0.5552074909210205,0.2612933814525604,0.3333362936973572,0.2729473412036896,0.12814512848854065,0.40044286847114563,0.4033954441547394,0.42204204201698303,0.4664260745048523,0.5970803499221802,0.3311382830142975,0.3213876187801361,0.355030357837677,0.28377604484558105,0.2286389321088791,0.4969175457954407,0.3793846368789673,0.13160958886146545,0.45149752497673035,0.32343995571136475,0.4909040927886963,0.33729490637779236,0.34057819843292236,0.25573480129241943,0.13071154057979584,0.4251701235771179,0.21511045098304749,0.4712635576725006,0.25220394134521484,0.13020586967468262,0.45769593119621277,0.44475555419921875,0.4028332233428955,0.4595904052257538,0.3558093309402466,0.5218812227249146,0.18939056992530823,0.48559337854385376,0.525079071521759,0.42144161462783813,0.5914582014083862],[0.3157247006893158,0.27243393659591675,0.33222371339797974,0.3557708263397217,0.41107916831970215,0.35404935479164124,0.4858807325363159,0.3789334297180176,0.3548215329647064,0.3085576891899109,0.23387542366981506,0.19997349381446838,0.33220502734184265,0.2995963990688324,0.44142937660217285,0.3960777521133423,0.5216338634490967,0.6259070038795471,0.4205550253391266,0.3466816246509552,0.2655414342880249,0.1907147765159607,0.25946879386901855,0.6087483167648315,0.45382505655288696,0.4509602189064026,1.000000238418579,0.3681427240371704,0.3180252015590668,0.38737231492996216,0.38796043395996094,0.16847367584705353,0.3789907693862915,0.2903784513473511,0.43114641308784485,0.49657031893730164,0.5274384021759033,0.3046996295452118,0.306363582611084,0.3198870122432709,0.5311456322669983,0.34347280859947205,0.3661689758300781,0.5313831567764282,0.1463647484779358,0.38738813996315,0.35047292709350586,0.5017977952957153,0.34182536602020264,0.347145676612854,0.3609267473220825,0.12819154560565948,0.36096101999282837,0.22100648283958435,0.3337629735469818,0.23278842866420746,0.12864172458648682,0.4480717182159424,0.475759357213974,0.3831315338611603,0.33958613872528076,0.45232200622558594,0.42971909046173096,0.2433614283800125,0.32385483384132385,0.5152878761291504,0.3475790023803711,0.42641681432724],[0.4009957015514374,0.33983558416366577,0.3634622097015381,0.4412824511528015,0.7987988591194153,0.21346405148506165,0.4101424217224121,0.39594122767448425,0.4286192059516907,0.3060612380504608,0.2075265794992447,0.16168692708015442,0.6667699813842773,0.32696861028671265,0.422171413898468,0.361466646194458,0.35332414507865906,0.516733705997467,0.6965246796607971,0.4847206473350525,0.05536988005042076,0.42248210310935974,0.14223292469978333,0.45934200286865234,0.5870986580848694,0.5552074909210205,0.3681427240371704,1.0,0.23566366732120514,0.20325492322444916,0.20028015971183777,0.06889890134334564,0.361458957195282,0.45303183794021606,0.2756539285182953,0.4961472153663635,0.45410382747650146,0.35754820704460144,0.26245754957199097,0.32138529419898987,0.2260810136795044,0.2502135634422302,0.46536287665367126,0.19357486069202423,0.09614954143762589,0.3483934700489044,0.23820868134498596,0.49746236205101013,0.2585284113883972,0.2837011218070984,0.19276383519172668,0.05795958638191223,0.3781217336654663,0.22714415192604065,0.5032780766487122,0.20173469185829163,0.05759553983807564,0.3259735703468323,0.323615163564682,0.26832467317581177,0.48300909996032715,0.3795508146286011,0.3995303809642792,0.23106084764003754,0.42055660486221313,0.4800920784473419,0.4130498170852661,0.5909301042556763],[0.20042496919631958,0.20472748577594757,0.1905781775712967,0.18759602308273315,0.22590799629688263,0.2907244861125946,0.1948964148759842,0.13428421318531036,0.20120875537395477,0.19832530617713928,0.21843186020851135,0.14247256517410278,0.22803360223770142,0.10188715159893036,0.19205425679683685,0.23116149008274078,0.48262935876846313,0.2681107819080353,0.2705891728401184,0.18969133496284485,0.1690562665462494,0.09958922863006592,0.1731591820716858,0.3564191460609436,0.22099465131759644,0.2612933814525604,0.3180252015590668,0.23566366732120514,0.9999997615814209,0.1906568706035614,0.20024576783180237,0.16310617327690125,0.19377382099628448,0.1527951955795288,0.2961454391479492,0.17961882054805756,0.23751325905323029,0.22268468141555786,0.15694190561771393,0.17435720562934875,0.45896589756011963,0.31711894273757935,0.11778589338064194,0.5386505722999573,0.2144118994474411,0.20849066972732544,0.26380062103271484,0.3255537152290344,0.19131338596343994,0.14314493536949158,0.16177445650100708,0.20720887184143066,0.12469634413719177,0.19029372930526733,0.1812860369682312,0.2956998348236084,0.2073787897825241,0.4372156858444214,0.2540211081504822,0.21420550346374512,0.1980050504207611,0.17404215037822723,0.22834594547748566,0.3416438698768616,0.156134694814682,0.20504151284694672,0.2927129566669464,0.23166760802268982],[0.40284663438796997,0.35840290784835815,0.28063398599624634,0.35935693979263306,0.37853264808654785,0.40869688987731934,0.34457480907440186,0.42110395431518555,0.38060081005096436,0.370249480009079,0.40003129839897156,0.3686814606189728,0.21679258346557617,0.28898343443870544,0.34171807765960693,0.4336579740047455,0.413669228553772,0.34650206565856934,0.31494593620300293,0.4009811580181122,0.2269573211669922,0.15715011954307556,0.33321115374565125,0.33560121059417725,0.4749332368373871,0.3333362936973572,0.38737231492996216,0.20325492322444916,0.1906568706035614,1.000000238418579,0.31555041670799255,0.22848540544509888,0.4218078851699829,0.2343125343322754,0.42123016715049744,0.33291754126548767,0.25340479612350464,0.47612208127975464,0.33190983533859253,0.3214045464992523,0.3612941801548004,0.2441122680902481,0.27557480335235596,0.24375346302986145,0.13255032896995544,0.38471686840057373,0.24941492080688477,0.2241354137659073,0.34975698590278625,0.2947564721107483,0.3772522807121277,0.1995040774345398,0.30819612741470337,0.1480148583650589,0.36367267370224,0.18695153295993805,0.1986294835805893,0.31167924404144287,0.24973180890083313,0.4970332384109497,0.32363104820251465,0.234287828207016,0.46517616510391235,0.2056404948234558,0.3884987533092499,0.2836880683898926,0.2205076515674591,0.40717047452926636],[0.3611961305141449,0.36498355865478516,0.30831795930862427,0.28101250529289246,0.28184616565704346,0.3898477852344513,0.2555283010005951,0.49279773235321045,0.4162214398384094,0.4948877990245819,0.2070924937725067,0.4165646433830261,0.18929482996463776,0.31824344396591187,0.27705833315849304,0.3747601807117462,0.3224929869174957,0.21532322466373444,0.3033100962638855,0.5296052694320679,0.10490911453962326,0.18948101997375488,0.4984815716743469,0.25384825468063354,0.3104121685028076,0.2729473412036896,0.38796043395996094,0.20028015971183777,0.20024576783180237,0.31555041670799255,1.000000238418579,0.38685092329978943,0.30073392391204834,0.2953914999961853,0.24803391098976135,0.212173193693161,0.256797194480896,0.33568358421325684,0.3868873119354248,0.3670662045478821,0.3189408779144287,0.20050378143787384,0.25918734073638916,0.21367081999778748,0.04260949790477753,0.24333272874355316,0.14380958676338196,0.227447509765625,0.4364926815032959,0.4667537808418274,0.7481827139854431,0.09435761719942093,0.17888149619102478,0.12004084885120392,0.29061025381088257,0.22958244383335114,0.09516817331314087,0.20022720098495483,0.19507759809494019,0.4357142746448517,0.35212528705596924,0.23832717537879944,0.37589094042778015,0.11501072347164154,0.35860419273376465,0.28719884157180786,0.20137512683868408,0.31269335746765137],[0.3583471179008484,0.3249928653240204,0.16883718967437744,0.26234370470046997,0.18131740391254425,0.5160969495773315,0.16953152418136597,0.3430336117744446,0.24055886268615723,0.41709133982658386,0.15724143385887146,0.7594550251960754,0.038117848336696625,0.4505086839199066,0.12925538420677185,0.41904929280281067,0.39526626467704773,0.15354816615581512,0.11674445122480392,0.5599775910377502,0.1297702193260193,-0.008646368980407715,0.8774163722991943,0.16524988412857056,0.30154454708099365,0.12814512848854065,0.16847367584705353,0.06889890134334564,0.16310617327690125,0.22848540544509888,0.38685092329978943,0.9999997615814209,0.2840896546840668,0.10076064616441727,0.10952084511518478,0.13249845802783966,0.22146838903427124,0.4066181182861328,0.5725128650665283,0.33777397871017456,0.3892705738544464,0.09527018666267395,0.10043838620185852,0.1394137442111969,0.08178644627332687,0.2389039695262909,0.12025951594114304,0.1400749534368515,0.4964401423931122,0.11653922498226166,0.6259304285049438,0.07351318001747131,0.04026033729314804,0.09436368942260742,0.20117032527923584,0.49089622497558594,0.07599279284477234,0.11401695758104324,0.28716379404067993,0.43214792013168335,0.06085730344057083,0.1586715579032898,0.23241400718688965,0.13001275062561035,0.545181393623352,0.16406914591789246,0.16608397662639618,0.26146823167800903],[0.5051142573356628,0.48526081442832947,0.5830186009407043,0.5480750203132629,0.5228695273399353,0.4218597710132599,0.4241317808628082,0.4808562397956848,0.5519623160362244,0.44473621249198914,0.30474063754081726,0.40179142355918884,0.3300711512565613,0.33737072348594666,0.41546398401260376,0.513226330280304,0.3550587296485901,0.36203476786613464,0.4387371838092804,0.568997323513031,0.13133618235588074,0.2744602560997009,0.3715175688266754,0.31157779693603516,0.6059799790382385,0.40044286847114563,0.3789907693862915,0.361458957195282,0.19377382099628448,0.4218078851699829,0.30073392391204834,0.2840896546840668,1.000000238418579,0.4480333924293518,0.27191174030303955,0.4182738959789276,0.3466123640537262,0.5440645217895508,0.41401416063308716,0.4619885981082916,0.24501562118530273,0.1749379187822342,0.4201206564903259,0.22411619126796722,0.0907425731420517,0.4985811114311218,0.26424741744995117,0.28884461522102356,0.43110597133636475,0.41949376463890076,0.37223464250564575,0.09416163712739944,0.4087495505809784,0.2358558475971222,0.5409190654754639,0.20523479580879211,0.09369681775569916,0.2667420506477356,0.30439430475234985,0.46511179208755493,0.38025814294815063,0.2820630669593811,0.40337565541267395,0.18661637604236603,0.49153321981430054,0.3507109582424164,0.23085233569145203,0.6219121217727661],[0.524384081363678,0.3663991093635559,0.5416911244392395,0.7885144948959351,0.4998016953468323,0.2765374779701233,0.37586134672164917,0.44597771763801575,0.5681352019309998,0.42883849143981934,0.060036905109882355,0.23283305764198303,0.3363303542137146,0.2036367654800415,0.41970548033714294,0.44110405445098877,0.24526488780975342,0.2385272979736328,0.5301775932312012,0.6023670434951782,-0.013835511170327663,0.4250805974006653,0.22368943691253662,0.23136533796787262,0.4772622585296631,0.4033954441547394,0.2903784513473511,0.45303183794021606,0.1527951955795288,0.2343125343322754,0.2953914999961853,0.10076064616441727,0.4480333924293518,0.9999997615814209,0.19224613904953003,0.27388501167297363,0.32083648443222046,0.39624571800231934,0.3571746051311493,0.35768669843673706,0.10234023630619049,0.09436546266078949,0.47802048921585083,0.22452080249786377,0.05809451639652252,0.39469534158706665,0.1185503602027893,0.2372506856918335,0.40219390392303467,0.4690393805503845,0.29784610867500305,0.0006946097128093243,0.38932132720947266,0.10879051685333252,0.5799517631530762,0.12791283428668976,0.0011859629303216934,0.23799240589141846,0.2751488983631134,0.3866646885871887,0.3951878547668457,0.22059282660484314,0.32543492317199707,0.12024462223052979,0.42019733786582947,0.3343249559402466,0.2983141243457794,0.6203109622001648],[0.27908921241760254,0.2768597900867462,0.24960997700691223,0.3313021659851074,0.30846959352493286,0.2836799621582031,0.3683108687400818,0.2019217610359192,0.2722432613372803,0.25990399718284607,0.2875644564628601,0.14412376284599304,0.3339044153690338,0.1839316487312317,0.31831681728363037,0.358531653881073,0.6056649088859558,0.584518551826477,0.37709760665893555,0.2574537992477417,0.36630186438560486,0.15605312585830688,0.15521767735481262,0.44476455450057983,0.36302751302719116,0.42204204201698303,0.43114641308784485,0.2756539285182953,0.2961454391479492,0.42123016715049744,0.24803391098976135,0.10952084511518478,0.27191174030303955,0.19224613904953003,1.000000238418579,0.386596143245697,0.5024375915527344,0.275640606880188,0.20092496275901794,0.2744617760181427,0.50396728515625,0.45148611068725586,0.25388380885124207,0.44018837809562683,0.225493386387825,0.33485135436058044,0.4221210479736328,0.4217619001865387,0.20122864842414856,0.2218330204486847,0.16899758577346802,0.24310235679149628,0.23261210322380066,0.24838393926620483,0.28130072355270386,0.19567346572875977,0.24293020367622375,0.5688617825508118,0.5342358350753784,0.2336406111717224,0.28639116883277893,0.24976614117622375,0.4256626069545746,0.1915377378463745,0.2673449218273163,0.3695865571498871,0.3413819968700409,0.3369133472442627],[0.3933006525039673,0.3925226926803589,0.45057785511016846,0.4759673476219177,0.6430596709251404,0.267738401889801,0.48768436908721924,0.3760669529438019,0.4323992431163788,0.35538917779922485,0.24580539762973785,0.23015522956848145,0.4654527008533478,0.34368419647216797,0.2585265040397644,0.5587785243988037,0.4234001636505127,0.6961320638656616,0.4786785840988159,0.4625876545906067,0.16661755740642548,0.2378961741924286,0.23358280956745148,0.49929821491241455,0.6561492681503296,0.4664260745048523,0.49657031893730164,0.4961472153663635,0.17961882054805756,0.33291754126548767,0.212173193693161,0.13249845802783966,0.4182738959789276,0.27388501167297363,0.386596143245697,0.9999997615814209,0.46088945865631104,0.3551007807254791,0.30047088861465454,0.4135860800743103,0.29440534114837646,0.3243897557258606,0.32106032967567444,0.32442688941955566,0.11887939274311066,0.4681541919708252,0.24980539083480835,0.4744289517402649,0.31619584560394287,0.3198794424533844,0.27321377396583557,0.118750661611557,0.45933055877685547,0.23189100623130798,0.43880921602249146,0.15189695358276367,0.12101120501756668,0.3203747272491455,0.4566959738731384,0.326388418674469,0.2686328589916229,0.3445001244544983,0.481940358877182,0.20016580820083618,0.44175559282302856,0.4118037819862366,0.2719859778881073,0.6305332183837891],[0.3415963351726532,0.276957631111145,0.3182343542575836,0.37344735860824585,0.47840309143066406,0.2696482837200165,0.4952777922153473,0.3335491418838501,0.3780805468559265,0.2820788323879242,0.1975308656692505,0.17576614022254944,0.4574028551578522,0.3139704167842865,0.3710412085056305,0.36411118507385254,0.5215277075767517,0.5750923156738281,0.5225189924240112,0.37935173511505127,0.2207798957824707,0.40512487292289734,0.2593385875225067,0.6432873606681824,0.4593172073364258,0.5970803499221802,0.5274384021759033,0.45410382747650146,0.23751325905323029,0.25340479612350464,0.256797194480896,0.22146838903427124,0.3466123640537262,0.32083648443222046,0.5024375915527344,0.46088945865631104,1.000000238418579,0.2499983161687851,0.29254019260406494,0.35593312978744507,0.35497599840164185,0.3463704586029053,0.40533411502838135,0.42851197719573975,0.1992521584033966,0.43691486120224,0.3525448143482208,0.6105622053146362,0.2838045358657837,0.2815781831741333,0.23494142293930054,0.1289190649986267,0.258294939994812,0.2416514754295349,0.3660598695278168,0.3179018497467041,0.1296371966600418,0.4690174460411072,0.4615026116371155,0.2627332806587219,0.38687020540237427,0.34749582409858704,0.41535836458206177,0.1878276765346527,0.4239465296268463,0.6624294519424438,0.5770710706710815,0.48361101746559143],[0.575262725353241,0.534680962562561,0.3891151547431946,0.552471935749054,0.5738979578018188,0.699734091758728,0.3438493609428406,0.39112910628318787,0.47787487506866455,0.5288515090942383,0.42480313777923584,0.5924649238586426,0.26287397742271423,0.2785772979259491,0.3984842598438263,0.6778576970100403,0.4554750919342041,0.3072323501110077,0.41293126344680786,0.5445271730422974,0.2510738968849182,0.18224915862083435,0.4858526885509491,0.30927637219429016,0.6952925324440002,0.3311382830142975,0.3046996295452118,0.35754820704460144,0.22268468141555786,0.47612208127975464,0.33568358421325684,0.4066181182861328,0.5440645217895508,0.39624571800231934,0.275640606880188,0.3551007807254791,0.2499983161687851,0.9999997615814209,0.4082877039909363,0.31622692942619324,0.3460477888584137,0.17762377858161926,0.42265981435775757,0.2153460681438446,0.09308922290802002,0.41535136103630066,0.21274486184120178,0.24823331832885742,0.5308469533920288,0.36068081855773926,0.3793143928050995,0.13466821610927582,0.3321263790130615,0.229038268327713,0.4925493597984314,0.3390927016735077,0.13586467504501343,0.28121277689933777,0.3162277638912201,0.6138076782226562,0.412226140499115,0.27854713797569275,0.43161946535110474,0.21574878692626953,0.42683762311935425,0.2789348363876343,0.20921047031879425,0.5751356482505798],[0.4922822415828705,0.42046234011650085,0.34875962138175964,0.4727920889854431,0.39996373653411865,0.38981345295906067,0.38326936960220337,0.530764102935791,0.44480642676353455,0.4218520224094391,0.17449899017810822,0.6403346061706543,0.22155392169952393,0.46597355604171753,0.2594574987888336,0.390845388174057,0.2892623841762543,0.22469495236873627,0.367431104183197,0.6666872501373291,0.08039579540491104,0.11264115571975708,0.6219260096549988,0.29904183745384216,0.44121819734573364,0.3213876187801361,0.306363582611084,0.26245754957199097,0.15694190561771393,0.33190983533859253,0.3868873119354248,0.5725128650665283,0.41401416063308716,0.3571746051311493,0.20092496275901794,0.30047088861465454,0.29254019260406494,0.4082877039909363,1.000000238418579,0.4280586242675781,0.2672620117664337,0.12082728743553162,0.29453879594802856,0.2020573616027832,0.022384434938430786,0.540963888168335,0.1233115866780281,0.24720199406147003,0.46795111894607544,0.30578503012657166,0.5919731855392456,0.07937013357877731,0.27874842286109924,0.16267023980617523,0.39849138259887695,0.2077276110649109,0.08031889796257019,0.21309617161750793,0.2899029552936554,0.3936918377876282,0.24222803115844727,0.1915728747844696,0.3313296437263489,0.164054274559021,0.6764711141586304,0.314753919839859,0.2008054405450821,0.4819914996623993],[0.4046141505241394,0.43204447627067566,0.3560137450695038,0.4449925422668457,0.4487728178501129,0.34281209111213684,0.41882288455963135,0.4890124201774597,0.38370317220687866,0.35339632630348206,0.18288983404636383,0.42560699582099915,0.3524916470050812,0.47977033257484436,0.2769172787666321,0.3918348252773285,0.33293354511260986,0.3088507652282715,0.37227267026901245,0.6416966319084167,0.05165257677435875,0.22451895475387573,0.43863558769226074,0.2903403043746948,0.5012144446372986,0.355030357837677,0.3198870122432709,0.32138529419898987,0.17435720562934875,0.3214045464992523,0.3670662045478821,0.33777397871017456,0.4619885981082916,0.35768669843673706,0.2744617760181427,0.4135860800743103,0.35593312978744507,0.31622692942619324,0.4280586242675781,1.0,0.21240347623825073,0.15184713900089264,0.3646164536476135,0.186905175447464,0.06612618267536163,0.6528422832489014,0.13099528849124908,0.3185722231864929,0.33191022276878357,0.33956819772720337,0.5172351002693176,0.08035849779844284,0.3442345857620239,0.1123599112033844,0.4031728506088257,0.18803004920482635,0.08027658611536026,0.19534346461296082,0.26869723200798035,0.3197174072265625,0.23927587270736694,0.229984849691391,0.3256375193595886,0.17304769158363342,0.5809996128082275,0.45169466733932495,0.2872775197029114,0.5283030271530151],[0.21960550546646118,0.2306540310382843,0.1554725170135498,0.20488135516643524,0.2355107218027115,0.419986367225647,0.26845771074295044,0.20198288559913635,0.18339380621910095,0.2816258668899536,0.394564151763916,0.3644025921821594,0.2355966717004776,0.25318050384521484,0.2770126163959503,0.32414403557777405,0.6829462051391602,0.4809361696243286,0.24850749969482422,0.2629714906215668,0.5323357582092285,0.10265275835990906,0.3861701786518097,0.4945029318332672,0.31831252574920654,0.28377604484558105,0.5311456322669983,0.2260810136795044,0.45896589756011963,0.3612941801548004,0.3189408779144287,0.3892705738544464,0.24501562118530273,0.10234023630619049,0.50396728515625,0.29440534114837646,0.35497599840164185,0.3460477888584137,0.2672620117664337,0.21240347623825073,1.0000001192092896,0.5386137962341309,0.17325443029403687,0.426142156124115,0.3351891040802002,0.23414549231529236,0.4718151092529297,0.3957388997077942,0.26263540983200073,0.16753627359867096,0.30841800570487976,0.3693622350692749,0.12373688817024231,0.342969685792923,0.15058770775794983,0.35190549492836,0.36954548954963684,0.5754368901252747,0.41954460740089417,0.29295778274536133,0.25314468145370483,0.4658063054084778,0.42655444145202637,0.45433399081230164,0.2655227780342102,0.2890302538871765,0.3712615966796875,0.25618353486061096],[0.17850801348686218,0.14789992570877075,0.11011892557144165,0.18390768766403198,0.21552035212516785,0.21596720814704895,0.22232308983802795,0.11400178074836731,0.17795102298259735,0.21217039227485657,0.459469735622406,0.19318035244941711,0.3084036409854889,0.15828588604927063,0.1335442066192627,0.2566685378551483,0.5013325810432434,0.5420190691947937,0.27228230237960815,0.1629224419593811,0.44468963146209717,0.12578245997428894,0.13614684343338013,0.37446463108062744,0.2235732078552246,0.2286389321088791,0.34347280859947205,0.2502135634422302,0.31711894273757935,0.2441122680902481,0.20050378143787384,0.09527018666267395,0.1749379187822342,0.09436546266078949,0.45148611068725586,0.3243897557258606,0.3463704586029053,0.17762377858161926,0.12082728743553162,0.15184713900089264,0.5386137962341309,1.0000001192092896,0.10811860859394073,0.3698360025882721,0.20529291033744812,0.1547592431306839,0.3089277744293213,0.3811928629875183,0.1268923282623291,0.18773192167282104,0.13228601217269897,0.318791002035141,0.08808004856109619,0.19122380018234253,0.17978191375732422,0.20563361048698425,0.3195260465145111,0.5143668055534363,0.4217883050441742,0.17933908104896545,0.18975909054279327,0.1759873926639557,0.39310118556022644,0.26587551832199097,0.14024436473846436,0.21402141451835632,0.28294214606285095,0.22481276094913483],[0.43529075384140015,0.33269912004470825,0.30705273151397705,0.3331095278263092,0.5341671705245972,0.2575162649154663,0.43634864687919617,0.4097127318382263,0.3804693818092346,0.3044934868812561,0.1898195445537567,0.16384577751159668,0.44405677914619446,0.2559795379638672,0.6905557513237,0.4141165614128113,0.34160375595092773,0.2909509539604187,0.5171336531639099,0.4269649088382721,0.03829630836844444,0.5518347024917603,0.1494394689798355,0.3296690583229065,0.5661357641220093,0.4969175457954407,0.3661689758300781,0.46536287665367126,0.11778589338064194,0.27557480335235596,0.25918734073638916,0.10043838620185852,0.4201206564903259,0.47802048921585083,0.25388380885124207,0.32106032967567444,0.40533411502838135,0.42265981435775757,0.29453879594802856,0.3646164536476135,0.17325443029403687,0.10811860859394073,0.9999998807907104,0.17376968264579773,0.05176166817545891,0.4069391191005707,0.19580179452896118,0.3315313756465912,0.3031444549560547,0.3657969832420349,0.20132942497730255,0.03737005591392517,0.319895476102829,0.23133648931980133,0.40539664030075073,0.17992454767227173,0.03824961930513382,0.2419731169939041,0.28083986043930054,0.30293071269989014,0.5433621406555176,0.46132373809814453,0.3723694086074829,0.1637033224105835,0.3773548901081085,0.5110993385314941,0.38692328333854675,0.4839204251766205],[0.21511168777942657,0.1613759696483612,0.27111750841140747,0.27866068482398987,0.20574651658535004,0.27539685368537903,0.2731746435165405,0.19041065871715546,0.2537628412246704,0.21244379878044128,0.22141557931900024,0.14005985856056213,0.2450416386127472,0.14748023450374603,0.20753425359725952,0.27812111377716064,0.5111494064331055,0.48028361797332764,0.30759090185165405,0.20527726411819458,0.2517443895339966,0.11630135029554367,0.1858426034450531,0.45142263174057007,0.21545648574829102,0.3793846368789673,0.5313831567764282,0.19357486069202423,0.5386505722999573,0.24375346302986145,0.21367081999778748,0.1394137442111969,0.22411619126796722,0.22452080249786377,0.44018837809562683,0.32442688941955566,0.42851197719573975,0.2153460681438446,0.2020573616027832,0.186905175447464,0.426142156124115,0.3698360025882721,0.17376968264579773,0.9999998807907104,0.23235177993774414,0.2324591428041458,0.4113912880420685,0.34104838967323303,0.2269313484430313,0.22747454047203064,0.2064402997493744,0.13174252212047577,0.2728290259838104,0.21028365194797516,0.1879357099533081,0.226863294839859,0.13368426263332367,0.5082773566246033,0.3883824944496155,0.21118885278701782,0.1833951771259308,0.24787545204162598,0.32188403606414795,0.24119865894317627,0.18526504933834076,0.31243234872817993,0.29384371638298035,0.2519386410713196],[0.14895829558372498,0.08231392502784729,0.07393759489059448,0.09854808449745178,0.08640976995229721,0.10116036236286163,0.08843043446540833,0.05593941733241081,0.11118962615728378,0.09736651182174683,0.06386292725801468,0.0683225467801094,0.11583130061626434,0.09676891565322876,0.09652826189994812,0.135359987616539,0.34012290835380554,0.17643246054649353,0.13234883546829224,0.09333229809999466,0.10487419366836548,0.12848563492298126,0.08086758852005005,0.23662880063056946,0.09926913678646088,0.13160958886146545,0.1463647484779358,0.09614954143762589,0.2144118994474411,0.13255032896995544,0.04260949790477753,0.08178644627332687,0.0907425731420517,0.05809451639652252,0.225493386387825,0.11887939274311066,0.1992521584033966,0.09308922290802002,0.022384434938430786,0.06612618267536163,0.3351891040802002,0.20529291033744812,0.05176166817545891,0.23235177993774414,0.9999998807907104,0.07085476070642471,0.3971787393093109,0.14547781646251678,0.04394801706075668,0.08495937287807465,0.02195485681295395,0.20698681473731995,0.05816662311553955,0.31417667865753174,0.08708206564188004,0.18656805157661438,0.20643380284309387,0.3573123812675476,0.21843422949314117,0.07772702723741531,0.03598276898264885,0.04804491996765137,0.21520209312438965,0.4646044373512268,0.10965052247047424,0.10824670642614365,0.2032594531774521,0.10724391788244247],[0.4699747860431671,0.4377719461917877,0.43067991733551025,0.5343738198280334,0.5629866123199463,0.3587101995944977,0.6313796043395996,0.4808780550956726,0.4686260223388672,0.4153962731361389,0.22173744440078735,0.3203624486923218,0.3171343505382538,0.44799870252609253,0.36139142513275146,0.47900390625,0.3740675449371338,0.36167752742767334,0.5095267295837402,0.591839075088501,0.10594974458217621,0.2802122235298157,0.32950395345687866,0.34855952858924866,0.6158275604248047,0.45149752497673035,0.38738813996315,0.3483934700489044,0.20849066972732544,0.38471686840057373,0.24333272874355316,0.2389039695262909,0.4985811114311218,0.39469534158706665,0.33485135436058044,0.4681541919708252,0.43691486120224,0.41535136103630066,0.540963888168335,0.6528422832489014,0.23414549231529236,0.1547592431306839,0.4069391191005707,0.2324591428041458,0.07085476070642471,1.000000238418579,0.16539937257766724,0.37302160263061523,0.3694000244140625,0.3281439244747162,0.3611122965812683,0.08426728844642639,0.46278005838394165,0.1412365734577179,0.5180873274803162,0.21052707731723785,0.0840529203414917,0.2701820135116577,0.35973766446113586,0.35925453901290894,0.3513363003730774,0.3279954195022583,0.37994879484176636,0.20050740242004395,0.6889870166778564,0.505121111869812,0.34968245029449463,0.6110793948173523],[0.15675199031829834,0.162002295255661,0.15881897509098053,0.19285526871681213,0.1836913526058197,0.25619661808013916,0.2161502242088318,0.12566423416137695,0.1866234838962555,0.10887634009122849,0.2415955811738968,0.10247498750686646,0.271700382232666,0.123420350253582,0.24084247648715973,0.211222305893898,0.5682058334350586,0.4204031229019165,0.24905791878700256,0.16208337247371674,0.22063057124614716,0.16667816042900085,0.15259325504302979,0.3251168131828308,0.2147616446018219,0.32343995571136475,0.35047292709350586,0.23820868134498596,0.26380062103271484,0.24941492080688477,0.14380958676338196,0.12025951594114304,0.26424741744995117,0.1185503602027893,0.4221210479736328,0.24980539083480835,0.3525448143482208,0.21274486184120178,0.1233115866780281,0.13099528849124908,0.4718151092529297,0.3089277744293213,0.19580179452896118,0.4113912880420685,0.3971787393093109,0.16539937257766724,0.9999998211860657,0.27999114990234375,0.20135104656219482,0.12123291194438934,0.11660271137952805,0.29681265354156494,0.20644623041152954,0.4718324542045593,0.1856018304824829,0.2988187074661255,0.2948716878890991,0.45900365710258484,0.34134402871131897,0.15864813327789307,0.1788988709449768,0.2639100253582001,0.35386866331100464,0.3010041117668152,0.15029223263263702,0.29214173555374146,0.3231549859046936,0.178872212767601],[0.276283860206604,0.3063661456108093,0.27339601516723633,0.2901371717453003,0.5256290435791016,0.20848432183265686,0.4192686676979065,0.2569192051887512,0.32775411009788513,0.28188055753707886,0.320687860250473,0.1714109480381012,0.5020872354507446,0.2688235342502594,0.36599215865135193,0.3215698003768921,0.4509751796722412,0.48939049243927,0.46192970871925354,0.3512018322944641,0.1777067482471466,0.3614591062068939,0.15689028799533844,0.597973108291626,0.44772833585739136,0.4909040927886963,0.5017977952957153,0.49746236205101013,0.3255537152290344,0.2241354137659073,0.227447509765625,0.1400749534368515,0.28884461522102356,0.2372506856918335,0.4217619001865387,0.4744289517402649,0.6105622053146362,0.24823331832885742,0.24720199406147003,0.3185722231864929,0.3957388997077942,0.3811928629875183,0.3315313756465912,0.34104838967323303,0.14547781646251678,0.37302160263061523,0.27999114990234375,1.0,0.217300146818161,0.18522587418556213,0.2011551856994629,0.22007572650909424,0.2840794324874878,0.21235546469688416,0.32699888944625854,0.20375898480415344,0.22090297937393188,0.4316437840461731,0.3997436761856079,0.24298274517059326,0.34499961137771606,0.3778758645057678,0.36289501190185547,0.21435752511024475,0.3643428683280945,0.47314637899398804,0.47784051299095154,0.4310789704322815],[0.5032028555870056,0.4289851784706116,0.3988316059112549,0.5585217475891113,0.4349941611289978,0.5944733023643494,0.404665470123291,0.4382728338241577,0.5137194991111755,0.5191922783851624,0.15407872200012207,0.47334104776382446,0.2470071017742157,0.3310549855232239,0.290202260017395,0.5246962904930115,0.40105724334716797,0.33110785484313965,0.3958789110183716,0.5994225740432739,0.13602466881275177,0.15302783250808716,0.5942973494529724,0.2711067497730255,0.4795689582824707,0.33729490637779236,0.34182536602020264,0.2585284113883972,0.19131338596343994,0.34975698590278625,0.4364926815032959,0.4964401423931122,0.43110597133636475,0.40219390392303467,0.20122864842414856,0.31619584560394287,0.2838045358657837,0.5308469533920288,0.46795111894607544,0.33191022276878357,0.26263540983200073,0.1268923282623291,0.3031444549560547,0.2269313484430313,0.04394801706075668,0.3694000244140625,0.20135104656219482,0.217300146818161,0.9999998807907104,0.3286231756210327,0.4958990812301636,0.05973184108734131,0.36551526188850403,0.16329646110534668,0.5190106630325317,0.35589417815208435,0.06139972805976868,0.26402562856674194,0.3132968842983246,0.6575424075126648,0.21213579177856445,0.2085694670677185,0.3183664381504059,0.16823112964630127,0.4640365242958069,0.23322740197181702,0.22499726712703705,0.5282360911369324],[0.39411836862564087,0.3214586675167084,0.5281646847724915,0.4639674425125122,0.39307674765586853,0.27158239483833313,0.397601455450058,0.3795161843299866,0.6135901212692261,0.5240748524665833,0.12473151832818985,0.21405357122421265,0.18106910586357117,0.24336141347885132,0.33813756704330444,0.4190906882286072,0.2464601844549179,0.23218604922294617,0.4166952669620514,0.4668291211128235,0.031730953603982925,0.2851189970970154,0.2271750271320343,0.2927176356315613,0.43953263759613037,0.34057819843292236,0.347145676612854,0.2837011218070984,0.14314493536949158,0.2947564721107483,0.4667537808418274,0.11653922498226166,0.41949376463890076,0.4690393805503845,0.2218330204486847,0.3198794424533844,0.2815781831741333,0.36068081855773926,0.30578503012657166,0.33956819772720337,0.16753627359867096,0.18773192167282104,0.3657969832420349,0.22747454047203064,0.08495937287807465,0.3281439244747162,0.12123291194438934,0.18522587418556213,0.3286231756210327,0.9999997615814209,0.3891097605228424,0.05500291287899017,0.40010225772857666,0.1203136146068573,0.5002769827842712,0.09988708794116974,0.05494513362646103,0.22282977402210236,0.24803376197814941,0.42158737778663635,0.2958846390247345,0.21015037596225739,0.4036005139350891,0.15255598723888397,0.31765419244766235,0.278323233127594,0.14143942296504974,0.5142621994018555],[0.42511075735092163,0.39061862230300903,0.3805461525917053,0.39098647236824036,0.31497788429260254,0.4313339591026306,0.2579765319824219,0.6213594079017639,0.4556463956832886,0.5989779233932495,0.07501900941133499,0.6678598523139954,0.16910627484321594,0.49664872884750366,0.196030393242836,0.37486526370048523,0.2877708673477173,0.20802050828933716,0.2918042838573456,0.7736935615539551,0.03129706531763077,0.11783286929130554,0.7738733887672424,0.2645021378993988,0.35032063722610474,0.25573480129241943,0.3609267473220825,0.19276383519172668,0.16177445650100708,0.3772522807121277,0.7481827139854431,0.6259304285049438,0.37223464250564575,0.29784610867500305,0.16899758577346802,0.27321377396583557,0.23494142293930054,0.3793143928050995,0.5919731855392456,0.5172351002693176,0.30841800570487976,0.13228601217269897,0.20132942497730255,0.2064402997493744,0.02195485681295395,0.3611122965812683,0.11660271137952805,0.2011551856994629,0.4958990812301636,0.3891097605228424,0.9999999403953552,0.11206962913274765,0.23282285034656525,0.09663840383291245,0.3433898091316223,0.23779010772705078,0.11279664933681488,0.15788888931274414,0.20313569903373718,0.4944568872451782,0.20036688446998596,0.18391641974449158,0.3330806493759155,0.1150425598025322,0.5894772410392761,0.262198269367218,0.1385505199432373,0.38923171162605286],[0.12672430276870728,0.08591790497303009,0.04234311357140541,0.08357458561658859,0.08180297166109085,0.1655922830104828,0.07841971516609192,0.05214861035346985,0.09425660967826843,0.11288334429264069,0.2129725217819214,0.12433318793773651,0.12809959053993225,0.07282665371894836,0.09306464344263077,0.09480287879705429,0.33075690269470215,0.16255562007427216,0.13185058534145355,0.10145242512226105,0.21881097555160522,0.051486894488334656,0.10133165121078491,0.3036956787109375,0.08154983818531036,0.13071154057979584,0.12819154560565948,0.05795958638191223,0.20720887184143066,0.1995040774345398,0.09435761719942093,0.07351318001747131,0.09416163712739944,0.0006946097128093243,0.24310235679149628,0.118750661611557,0.1289190649986267,0.13466821610927582,0.07937013357877731,0.08035849779844284,0.3693622350692749,0.318791002035141,0.03737005591392517,0.13174252212047577,0.20698681473731995,0.08426728844642639,0.29681265354156494,0.22007572650909424,0.05973184108734131,0.05500291287899017,0.11206962913274765,1.0,0.018355943262577057,0.21859237551689148,0.0666034147143364,0.17294754087924957,0.9996793866157532,0.5393195152282715,0.18167051672935486,0.12566807866096497,0.1285480409860611,0.051991213113069534,0.23056963086128235,0.2870827317237854,0.07232189178466797,0.05464498698711395,0.1785363405942917,0.0738464742898941],[0.4511150121688843,0.3318674564361572,0.4968598484992981,0.49464040994644165,0.5446652173995972,0.22523799538612366,0.5933594703674316,0.3691079616546631,0.49271756410598755,0.38901400566101074,0.09900467842817307,0.10269616544246674,0.3451789617538452,0.24938908219337463,0.2743661105632782,0.3192020654678345,0.2532021701335907,0.38823625445365906,0.45868122577667236,0.4163564145565033,0.012053301557898521,0.18285000324249268,0.15304192900657654,0.2502673268318176,0.48575645685195923,0.4251701235771179,0.36096101999282837,0.3781217336654663,0.12469634413719177,0.30819612741470337,0.17888149619102478,0.04026033729314804,0.4087495505809784,0.38932132720947266,0.23261210322380066,0.45933055877685547,0.258294939994812,0.3321263790130615,0.27874842286109924,0.3442345857620239,0.12373688817024231,0.08808004856109619,0.319895476102829,0.2728290259838104,0.05816662311553955,0.46278005838394165,0.20644623041152954,0.2840794324874878,0.36551526188850403,0.40010225772857666,0.23282285034656525,0.018355943262577057,0.9999998807907104,0.10661512613296509,0.5660590529441833,0.10401398688554764,0.019391929730772972,0.22302620112895966,0.28687816858291626,0.3866889476776123,0.2748402953147888,0.30830806493759155,0.31445491313934326,0.12714409828186035,0.40898799896240234,0.30044659972190857,0.21844980120658875,0.524325966835022],[0.2039770483970642,0.20273014903068542,0.10848362743854523,0.16302648186683655,0.2027430236339569,0.18825611472129822,0.20618683099746704,0.13684605062007904,0.15694011747837067,0.09544602036476135,0.169525608420372,0.1479400396347046,0.1411035656929016,0.12533295154571533,0.16204944252967834,0.16825135052204132,0.3363904654979706,0.22916455566883087,0.2127528041601181,0.1695258915424347,0.14728379249572754,0.10080500692129135,0.11106106638908386,0.2296631932258606,0.190525084733963,0.21511045098304749,0.22100648283958435,0.22714415192604065,0.19029372930526733,0.1480148583650589,0.12004084885120392,0.09436368942260742,0.2358558475971222,0.10879051685333252,0.24838393926620483,0.23189100623130798,0.2416514754295349,0.229038268327713,0.16267023980617523,0.1123599112033844,0.342969685792923,0.19122380018234253,0.23133648931980133,0.21028365194797516,0.31417667865753174,0.1412365734577179,0.4718324542045593,0.21235546469688416,0.16329646110534668,0.1203136146068573,0.09663840383291245,0.21859237551689148,0.10661512613296509,0.9999999403953552,0.18069827556610107,0.18063907325267792,0.22069866955280304,0.3567330241203308,0.2112547755241394,0.12089469283819199,0.1581624448299408,0.1518196165561676,0.2326829731464386,0.38635241985321045,0.15216338634490967,0.1722063422203064,0.20134729146957397,0.18028602004051208],[0.5791597962379456,0.46126410365104675,0.582676112651825,0.7069078087806702,0.6520705819129944,0.38944780826568604,0.5599341988563538,0.42218220233917236,0.7974809408187866,0.5701466798782349,0.1879475712776184,0.291917622089386,0.37518876791000366,0.32156699895858765,0.3880285322666168,0.5269142985343933,0.3650527000427246,0.37994661927223206,0.6150695085525513,0.6410498023033142,0.07248281687498093,0.3511918783187866,0.32301223278045654,0.32019874453544617,0.6217114925384521,0.4712635576725006,0.3337629735469818,0.5032780766487122,0.1812860369682312,0.36367267370224,0.29061025381088257,0.20117032527923584,0.5409190654754639,0.5799517631530762,0.28130072355270386,0.43880921602249146,0.3660598695278168,0.4925493597984314,0.39849138259887695,0.4031728506088257,0.15058770775794983,0.17978191375732422,0.40539664030075073,0.1879357099533081,0.08708206564188004,0.5180873274803162,0.1856018304824829,0.32699888944625854,0.5190106630325317,0.5002769827842712,0.3433898091316223,0.0666034147143364,0.5660590529441833,0.18069827556610107,0.9999998211860657,0.25924238562583923,0.06798775494098663,0.2895479202270508,0.37345391511917114,0.5672423839569092,0.33895963430404663,0.21091386675834656,0.36017847061157227,0.20155487954616547,0.5196565985679626,0.34104132652282715,0.3041327893733978,0.7128382921218872],[0.21378850936889648,0.22431820631027222,0.20819051563739777,0.2337612807750702,0.21966330707073212,0.6596240997314453,0.23905867338180542,0.12807497382164001,0.2463185042142868,0.28720220923423767,0.2341281622648239,0.21586894989013672,0.1962754726409912,0.09318287670612335,0.2449653297662735,0.41421380639076233,0.6658183932304382,0.2209177166223526,0.1785028725862503,0.23528505861759186,0.12835952639579773,0.09006009995937347,0.4101550579071045,0.22914963960647583,0.27353447675704956,0.25220394134521484,0.23278842866420746,0.20173469185829163,0.2956998348236084,0.18695153295993805,0.22958244383335114,0.49089622497558594,0.20523479580879211,0.12791283428668976,0.19567346572875977,0.15189695358276367,0.3179018497467041,0.3390927016735077,0.2077276110649109,0.18803004920482635,0.35190549492836,0.20563361048698425,0.17992454767227173,0.226863294839859,0.18656805157661438,0.21052707731723785,0.2988187074661255,0.20375898480415344,0.35589417815208435,0.09988708794116974,0.23779010772705078,0.17294754087924957,0.10401398688554764,0.18063907325267792,0.25924238562583923,1.000000238418579,0.17220540344715118,0.2750329077243805,0.34261274337768555,0.37797561287879944,0.18253572285175323,0.22878514230251312,0.21535459160804749,0.23253029584884644,0.17959564924240112,0.26787590980529785,0.36015772819519043,0.20117060840129852],[0.12841728329658508,0.08711402118206024,0.04167857766151428,0.08464314788579941,0.08299712836742401,0.16554293036460876,0.07975660264492035,0.05328148603439331,0.09500844031572342,0.11377004534006119,0.21226102113723755,0.12596064805984497,0.12761950492858887,0.07453566044569016,0.0932595282793045,0.09647630155086517,0.33041834831237793,0.16403844952583313,0.13154707849025726,0.10241006314754486,0.22022110223770142,0.05184626206755638,0.10266788303852081,0.30295759439468384,0.08256129175424576,0.13020586967468262,0.12864172458648682,0.05759553983807564,0.2073787897825241,0.1986294835805893,0.09516817331314087,0.07599279284477234,0.09369681775569916,0.0011859629303216934,0.24293020367622375,0.12101120501756668,0.1296371966600418,0.13586467504501343,0.08031889796257019,0.08027658611536026,0.36954548954963684,0.3195260465145111,0.03824961930513382,0.13368426263332367,0.20643380284309387,0.0840529203414917,0.2948716878890991,0.22090297937393188,0.06139972805976868,0.05494513362646103,0.11279664933681488,0.9996793866157532,0.019391929730772972,0.22069866955280304,0.06798775494098663,0.17220540344715118,0.9999997615814209,0.5405228137969971,0.184114471077919,0.12702704966068268,0.1271769255399704,0.051128704100847244,0.23038488626480103,0.2874763309955597,0.07296567410230637,0.053680963814258575,0.1776179075241089,0.07537490129470825],[0.2969731092453003,0.2369977831840515,0.21789565682411194,0.3415530323982239,0.3038679361343384,0.3367782533168793,0.35757723450660706,0.19473731517791748,0.2793181240558624,0.23798488080501556,0.30434295535087585,0.16941332817077637,0.3609599173069,0.21292981505393982,0.3001176118850708,0.2943134605884552,0.6103792190551758,0.4957180619239807,0.429261714220047,0.2568497955799103,0.39173173904418945,0.18531617522239685,0.17388656735420227,0.5454294681549072,0.26500850915908813,0.45769593119621277,0.4480717182159424,0.3259735703468323,0.4372156858444214,0.31167924404144287,0.20022720098495483,0.11401695758104324,0.2667420506477356,0.23799240589141846,0.5688617825508118,0.3203747272491455,0.4690174460411072,0.28121277689933777,0.21309617161750793,0.19534346461296082,0.5754368901252747,0.5143668055534363,0.2419731169939041,0.5082773566246033,0.3573123812675476,0.2701820135116577,0.45900365710258484,0.4316437840461731,0.26402562856674194,0.22282977402210236,0.15788888931274414,0.5393195152282715,0.22302620112895966,0.3567330241203308,0.2895479202270508,0.2750329077243805,0.5405228137969971,1.0,0.5260582566261292,0.2953389286994934,0.31542038917541504,0.19160684943199158,0.4460199475288391,0.4880474805831909,0.2574194669723511,0.297715425491333,0.40926074981689453,0.28146111965179443],[0.33002161979675293,0.2526746690273285,0.3372909128665924,0.48269879817962646,0.41117382049560547,0.3599427342414856,0.5269973874092102,0.26339417695999146,0.3764716684818268,0.3429449200630188,0.27790358662605286,0.2175064980983734,0.29538142681121826,0.237053781747818,0.2540668845176697,0.5247515439987183,0.6015636324882507,0.6555996537208557,0.41403263807296753,0.3622193932533264,0.3430653214454651,0.14520025253295898,0.27024218440055847,0.42390936613082886,0.4552850127220154,0.44475555419921875,0.475759357213974,0.323615163564682,0.2540211081504822,0.24973180890083313,0.19507759809494019,0.28716379404067993,0.30439430475234985,0.2751488983631134,0.5342358350753784,0.4566959738731384,0.4615026116371155,0.3162277638912201,0.2899029552936554,0.26869723200798035,0.41954460740089417,0.4217883050441742,0.28083986043930054,0.3883824944496155,0.21843422949314117,0.35973766446113586,0.34134402871131897,0.3997436761856079,0.3132968842983246,0.24803376197814941,0.20313569903373718,0.18167051672935486,0.28687816858291626,0.2112547755241394,0.37345391511917114,0.34261274337768555,0.184114471077919,0.5260582566261292,1.0000001192092896,0.38097280263900757,0.24424904584884644,0.23683255910873413,0.4063960015773773,0.19564662873744965,0.36010557413101196,0.32417190074920654,0.3568493127822876,0.4724259674549103],[0.5007497072219849,0.38777920603752136,0.4245048463344574,0.5461470484733582,0.4695754051208496,0.6647561192512512,0.425376832485199,0.4219309389591217,0.597088634967804,0.6012968420982361,0.22453492879867554,0.4117497205734253,0.28698575496673584,0.2863219976425171,0.34450605511665344,0.6154841780662537,0.446003794670105,0.3297617733478546,0.4381900727748871,0.5332344770431519,0.14654362201690674,0.17298956215381622,0.5529491901397705,0.3328557014465332,0.5270711183547974,0.4028332233428955,0.3831315338611603,0.26832467317581177,0.21420550346374512,0.4970332384109497,0.4357142746448517,0.43214792013168335,0.46511179208755493,0.3866646885871887,0.2336406111717224,0.326388418674469,0.2627332806587219,0.6138076782226562,0.3936918377876282,0.3197174072265625,0.29295778274536133,0.17933908104896545,0.30293071269989014,0.21118885278701782,0.07772702723741531,0.35925453901290894,0.15864813327789307,0.24298274517059326,0.6575424075126648,0.42158737778663635,0.4944568872451782,0.12566807866096497,0.3866889476776123,0.12089469283819199,0.5672423839569092,0.37797561287879944,0.12702704966068268,0.2953389286994934,0.38097280263900757,1.0000001192092896,0.2656577229499817,0.22965437173843384,0.3880211114883423,0.1984160840511322,0.40769585967063904,0.2297310084104538,0.21712064743041992,0.509994387626648],[0.34398582577705383,0.2874245345592499,0.2586454153060913,0.30679935216903687,0.5242677330970764,0.20281708240509033,0.34780895709991455,0.40343961119651794,0.34295928478240967,0.26285383105278015,0.26169607043266296,0.12132816761732101,0.47351381182670593,0.24164262413978577,0.5866366624832153,0.30478596687316895,0.3632633686065674,0.2921615540981293,0.5088547468185425,0.33270829916000366,0.08780709654092789,0.4561777710914612,0.11588715016841888,0.3274315595626831,0.48676323890686035,0.4595904052257538,0.33958613872528076,0.48300909996032715,0.1980050504207611,0.32363104820251465,0.35212528705596924,0.06085730344057083,0.38025814294815063,0.3951878547668457,0.28639116883277893,0.2686328589916229,0.38687020540237427,0.412226140499115,0.24222803115844727,0.23927587270736694,0.25314468145370483,0.18975909054279327,0.5433621406555176,0.1833951771259308,0.03598276898264885,0.3513363003730774,0.1788988709449768,0.34499961137771606,0.21213579177856445,0.2958846390247345,0.20036688446998596,0.1285480409860611,0.2748402953147888,0.1581624448299408,0.33895963430404663,0.18253572285175323,0.1271769255399704,0.31542038917541504,0.24424904584884644,0.2656577229499817,1.0000001192092896,0.4402398467063904,0.39765098690986633,0.18711647391319275,0.32717037200927734,0.5327794551849365,0.517248272895813,0.41851937770843506],[0.20460420846939087,0.1802704632282257,0.18658095598220825,0.18869882822036743,0.3848576843738556,0.23097820580005646,0.345719575881958,0.2697567343711853,0.2251434624195099,0.22889003157615662,0.1721498966217041,0.10980509221553802,0.3351052701473236,0.22394050657749176,0.4877011179924011,0.2734755277633667,0.4556565582752228,0.41014713048934937,0.32204920053482056,0.23711246252059937,0.1489597111940384,0.27764448523521423,0.20227685570716858,0.34604114294052124,0.45000630617141724,0.3558093309402466,0.45232200622558594,0.3795508146286011,0.17404215037822723,0.234287828207016,0.23832717537879944,0.1586715579032898,0.2820630669593811,0.22059282660484314,0.24976614117622375,0.3445001244544983,0.34749582409858704,0.27854713797569275,0.1915728747844696,0.229984849691391,0.4658063054084778,0.1759873926639557,0.46132373809814453,0.24787545204162598,0.04804491996765137,0.3279954195022583,0.2639100253582001,0.3778758645057678,0.2085694670677185,0.21015037596225739,0.18391641974449158,0.051991213113069534,0.30830806493759155,0.1518196165561676,0.21091386675834656,0.22878514230251312,0.051128704100847244,0.19160684943199158,0.23683255910873413,0.22965437173843384,0.4402398467063904,1.0000001192092896,0.2787891924381256,0.14562653005123138,0.2916921377182007,0.4965004622936249,0.3181321918964386,0.3372361958026886],[0.38844552636146545,0.3678625226020813,0.36930039525032043,0.4209630489349365,0.5000854134559631,0.32929810881614685,0.4135425388813019,0.45449161529541016,0.3949205279350281,0.35192012786865234,0.36090877652168274,0.3213246166706085,0.3867962062358856,0.3065946698188782,0.4034193456172943,0.5268268585205078,0.45064985752105713,0.4465269446372986,0.49639126658439636,0.4533141851425171,0.34227126836776733,0.2581995725631714,0.2765938937664032,0.5371424555778503,0.5385093688964844,0.5218812227249146,0.42971909046173096,0.3995303809642792,0.22834594547748566,0.46517616510391235,0.37589094042778015,0.23241400718688965,0.40337565541267395,0.32543492317199707,0.4256626069545746,0.481940358877182,0.41535836458206177,0.43161946535110474,0.3313296437263489,0.3256375193595886,0.42655444145202637,0.39310118556022644,0.3723694086074829,0.32188403606414795,0.21520209312438965,0.37994879484176636,0.35386866331100464,0.36289501190185547,0.3183664381504059,0.4036005139350891,0.3330806493759155,0.23056963086128235,0.31445491313934326,0.2326829731464386,0.36017847061157227,0.21535459160804749,0.23038488626480103,0.4460199475288391,0.4063960015773773,0.3880211114883423,0.39765098690986633,0.2787891924381256,0.9999999403953552,0.2331913262605667,0.3859193027019501,0.34655317664146423,0.3307543992996216,0.5097315311431885],[0.20496971905231476,0.19391998648643494,0.1375902146100998,0.16427025198936462,0.19767670333385468,0.22923853993415833,0.18138015270233154,0.15169872343540192,0.1936596930027008,0.11823804676532745,0.1699422001838684,0.1485098898410797,0.17826944589614868,0.13658040761947632,0.2150706946849823,0.20076678693294525,0.3616992235183716,0.2083774358034134,0.2380673885345459,0.19797298312187195,0.07681144028902054,0.1411890685558319,0.12363487482070923,0.34742477536201477,0.1990782767534256,0.18939056992530823,0.2433614283800125,0.23106084764003754,0.3416438698768616,0.2056404948234558,0.11501072347164154,0.13001275062561035,0.18661637604236603,0.12024462223052979,0.1915377378463745,0.20016580820083618,0.1878276765346527,0.21574878692626953,0.164054274559021,0.17304769158363342,0.45433399081230164,0.26587551832199097,0.1637033224105835,0.24119865894317627,0.4646044373512268,0.20050740242004395,0.3010041117668152,0.21435752511024475,0.16823112964630127,0.15255598723888397,0.1150425598025322,0.2870827317237854,0.12714409828186035,0.38635241985321045,0.20155487954616547,0.23253029584884644,0.2874763309955597,0.4880474805831909,0.19564662873744965,0.1984160840511322,0.18711647391319275,0.14562653005123138,0.2331913262605667,1.000000238418579,0.18375608325004578,0.16676589846611023,0.2691502273082733,0.2023589164018631],[0.5873410105705261,0.49851810932159424,0.4471108317375183,0.5558454990386963,0.5909609794616699,0.32455310225486755,0.5760231614112854,0.6779659986495972,0.5208094120025635,0.5408843755722046,0.14643698930740356,0.6203330755233765,0.30735018849372864,0.7341142296791077,0.3259953260421753,0.4588809311389923,0.3376568555831909,0.345181405544281,0.5699365139007568,0.8172704577445984,0.04457871615886688,0.3054618835449219,0.6336204409599304,0.3467438817024231,0.5917556285858154,0.48559337854385376,0.32385483384132385,0.42055660486221313,0.156134694814682,0.3884987533092499,0.35860419273376465,0.545181393623352,0.49153321981430054,0.42019733786582947,0.2673449218273163,0.44175559282302856,0.4239465296268463,0.42683762311935425,0.6764711141586304,0.5809996128082275,0.2655227780342102,0.14024436473846436,0.3773548901081085,0.18526504933834076,0.10965052247047424,0.6889870166778564,0.15029223263263702,0.3643428683280945,0.4640365242958069,0.31765419244766235,0.5894772410392761,0.07232189178466797,0.40898799896240234,0.15216338634490967,0.5196565985679626,0.17959564924240112,0.07296567410230637,0.2574194669723511,0.36010557413101196,0.40769585967063904,0.32717037200927734,0.2916921377182007,0.3859193027019501,0.18375608325004578,1.0000001192092896,0.46027565002441406,0.3206596374511719,0.6194417476654053],[0.3630259931087494,0.29664039611816406,0.3164089322090149,0.3026389479637146,0.5149288177490234,0.26152241230010986,0.40893858671188354,0.43863338232040405,0.3520807921886444,0.28728675842285156,0.1859980821609497,0.14993774890899658,0.48716819286346436,0.38825657963752747,0.5058445334434509,0.3137783706188202,0.49370062351226807,0.47797295451164246,0.4787983298301697,0.41030043363571167,0.05501118674874306,0.4567182958126068,0.24889855086803436,0.42882901430130005,0.5301253795623779,0.525079071521759,0.5152878761291504,0.4800920784473419,0.20504151284694672,0.2836880683898926,0.28719884157180786,0.16406914591789246,0.3507109582424164,0.3343249559402466,0.3695865571498871,0.4118037819862366,0.6624294519424438,0.2789348363876343,0.314753919839859,0.45169466733932495,0.2890302538871765,0.21402141451835632,0.5110993385314941,0.31243234872817993,0.10824670642614365,0.505121111869812,0.29214173555374146,0.47314637899398804,0.23322740197181702,0.278323233127594,0.262198269367218,0.05464498698711395,0.30044659972190857,0.1722063422203064,0.34104132652282715,0.26787590980529785,0.053680963814258575,0.297715425491333,0.32417190074920654,0.2297310084104538,0.5327794551849365,0.4965004622936249,0.34655317664146423,0.16676589846611023,0.46027565002441406,1.000000238418579,0.6375777721405029,0.4640398919582367],[0.2708852291107178,0.22717759013175964,0.19045493006706238,0.23818400502204895,0.40617871284484863,0.2384358048439026,0.3109172284603119,0.2835468053817749,0.27273353934288025,0.16555644571781158,0.2767223119735718,0.11020452529191971,0.47491729259490967,0.23998884856700897,0.45370393991470337,0.2407471239566803,0.5352436304092407,0.36643898487091064,0.45352232456207275,0.28291720151901245,0.1365157663822174,0.4596238136291504,0.15248733758926392,0.402332067489624,0.3219011425971985,0.42144161462783813,0.3475790023803711,0.4130498170852661,0.2927129566669464,0.2205076515674591,0.20137512683868408,0.16608397662639618,0.23085233569145203,0.2983141243457794,0.3413819968700409,0.2719859778881073,0.5770710706710815,0.20921047031879425,0.2008054405450821,0.2872775197029114,0.3712615966796875,0.28294214606285095,0.38692328333854675,0.29384371638298035,0.2032594531774521,0.34968245029449463,0.3231549859046936,0.47784051299095154,0.22499726712703705,0.14143942296504974,0.1385505199432373,0.1785363405942917,0.21844980120658875,0.20134729146957397,0.3041327893733978,0.36015772819519043,0.1776179075241089,0.40926074981689453,0.3568493127822876,0.21712064743041992,0.517248272895813,0.3181321918964386,0.3307543992996216,0.2691502273082733,0.3206596374511719,0.6375777721405029,0.9999997615814209,0.29228949546813965],[0.6167587637901306,0.5320436954498291,0.6425069570541382,0.7924924492835999,0.8019988536834717,0.41722482442855835,0.6208107471466064,0.519174337387085,0.7059345245361328,0.5779828429222107,0.2230301946401596,0.3800049126148224,0.44914358854293823,0.42065685987472534,0.43258270621299744,0.6825549602508545,0.42747071385383606,0.5299425721168518,0.6704484224319458,0.7440131902694702,0.09468051791191101,0.3877555727958679,0.39490777254104614,0.47766047716140747,0.868736207485199,0.5914582014083862,0.42641681432724,0.5909301042556763,0.23166760802268982,0.40717047452926636,0.31269335746765137,0.26146823167800903,0.6219121217727661,0.6203109622001648,0.3369133472442627,0.6305332183837891,0.48361101746559143,0.5751356482505798,0.4819914996623993,0.5283030271530151,0.25618353486061096,0.22481276094913483,0.4839204251766205,0.2519386410713196,0.10724391788244247,0.6110793948173523,0.178872212767601,0.4310789704322815,0.5282360911369324,0.5142621994018555,0.38923171162605286,0.0738464742898941,0.524325966835022,0.18028602004051208,0.7128382921218872,0.20117060840129852,0.07537490129470825,0.28146111965179443,0.4724259674549103,0.509994387626648,0.41851937770843506,0.3372361958026886,0.5097315311431885,0.2023589164018631,0.6194417476654053,0.4640398919582367,0.29228949546813965,1.0]],\"type\":\"heatmap\",\"xaxis\":\"x\",\"yaxis\":\"y\",\"hovertemplate\":\"x: %{x}\\u003cbr\\u003ey: %{y}\\u003cbr\\u003eSimilarity Score: %{z}\\u003cextra\\u003e\\u003c\\u002fextra\\u003e\"}],                        {\"template\":{\"data\":{\"histogram2dcontour\":[{\"type\":\"histogram2dcontour\",\"colorbar\":{\"outlinewidth\":0,\"ticks\":\"\"},\"colorscale\":[[0.0,\"#0d0887\"],[0.1111111111111111,\"#46039f\"],[0.2222222222222222,\"#7201a8\"],[0.3333333333333333,\"#9c179e\"],[0.4444444444444444,\"#bd3786\"],[0.5555555555555556,\"#d8576b\"],[0.6666666666666666,\"#ed7953\"],[0.7777777777777778,\"#fb9f3a\"],[0.8888888888888888,\"#fdca26\"],[1.0,\"#f0f921\"]]}],\"choropleth\":[{\"type\":\"choropleth\",\"colorbar\":{\"outlinewidth\":0,\"ticks\":\"\"}}],\"histogram2d\":[{\"type\":\"histogram2d\",\"colorbar\":{\"outlinewidth\":0,\"ticks\":\"\"},\"colorscale\":[[0.0,\"#0d0887\"],[0.1111111111111111,\"#46039f\"],[0.2222222222222222,\"#7201a8\"],[0.3333333333333333,\"#9c179e\"],[0.4444444444444444,\"#bd3786\"],[0.5555555555555556,\"#d8576b\"],[0.6666666666666666,\"#ed7953\"],[0.7777777777777778,\"#fb9f3a\"],[0.8888888888888888,\"#fdca26\"],[1.0,\"#f0f921\"]]}],\"heatmap\":[{\"type\":\"heatmap\",\"colorbar\":{\"outlinewidth\":0,\"ticks\":\"\"},\"colorscale\":[[0.0,\"#0d0887\"],[0.1111111111111111,\"#46039f\"],[0.2222222222222222,\"#7201a8\"],[0.3333333333333333,\"#9c179e\"],[0.4444444444444444,\"#bd3786\"],[0.5555555555555556,\"#d8576b\"],[0.6666666666666666,\"#ed7953\"],[0.7777777777777778,\"#fb9f3a\"],[0.8888888888888888,\"#fdca26\"],[1.0,\"#f0f921\"]]}],\"heatmapgl\":[{\"type\":\"heatmapgl\",\"colorbar\":{\"outlinewidth\":0,\"ticks\":\"\"},\"colorscale\":[[0.0,\"#0d0887\"],[0.1111111111111111,\"#46039f\"],[0.2222222222222222,\"#7201a8\"],[0.3333333333333333,\"#9c179e\"],[0.4444444444444444,\"#bd3786\"],[0.5555555555555556,\"#d8576b\"],[0.6666666666666666,\"#ed7953\"],[0.7777777777777778,\"#fb9f3a\"],[0.8888888888888888,\"#fdca26\"],[1.0,\"#f0f921\"]]}],\"contourcarpet\":[{\"type\":\"contourcarpet\",\"colorbar\":{\"outlinewidth\":0,\"ticks\":\"\"}}],\"contour\":[{\"type\":\"contour\",\"colorbar\":{\"outlinewidth\":0,\"ticks\":\"\"},\"colorscale\":[[0.0,\"#0d0887\"],[0.1111111111111111,\"#46039f\"],[0.2222222222222222,\"#7201a8\"],[0.3333333333333333,\"#9c179e\"],[0.4444444444444444,\"#bd3786\"],[0.5555555555555556,\"#d8576b\"],[0.6666666666666666,\"#ed7953\"],[0.7777777777777778,\"#fb9f3a\"],[0.8888888888888888,\"#fdca26\"],[1.0,\"#f0f921\"]]}],\"surface\":[{\"type\":\"surface\",\"colorbar\":{\"outlinewidth\":0,\"ticks\":\"\"},\"colorscale\":[[0.0,\"#0d0887\"],[0.1111111111111111,\"#46039f\"],[0.2222222222222222,\"#7201a8\"],[0.3333333333333333,\"#9c179e\"],[0.4444444444444444,\"#bd3786\"],[0.5555555555555556,\"#d8576b\"],[0.6666666666666666,\"#ed7953\"],[0.7777777777777778,\"#fb9f3a\"],[0.8888888888888888,\"#fdca26\"],[1.0,\"#f0f921\"]]}],\"mesh3d\":[{\"type\":\"mesh3d\",\"colorbar\":{\"outlinewidth\":0,\"ticks\":\"\"}}],\"scatter\":[{\"fillpattern\":{\"fillmode\":\"overlay\",\"size\":10,\"solidity\":0.2},\"type\":\"scatter\"}],\"parcoords\":[{\"type\":\"parcoords\",\"line\":{\"colorbar\":{\"outlinewidth\":0,\"ticks\":\"\"}}}],\"scatterpolargl\":[{\"type\":\"scatterpolargl\",\"marker\":{\"colorbar\":{\"outlinewidth\":0,\"ticks\":\"\"}}}],\"bar\":[{\"error_x\":{\"color\":\"#2a3f5f\"},\"error_y\":{\"color\":\"#2a3f5f\"},\"marker\":{\"line\":{\"color\":\"#E5ECF6\",\"width\":0.5},\"pattern\":{\"fillmode\":\"overlay\",\"size\":10,\"solidity\":0.2}},\"type\":\"bar\"}],\"scattergeo\":[{\"type\":\"scattergeo\",\"marker\":{\"colorbar\":{\"outlinewidth\":0,\"ticks\":\"\"}}}],\"scatterpolar\":[{\"type\":\"scatterpolar\",\"marker\":{\"colorbar\":{\"outlinewidth\":0,\"ticks\":\"\"}}}],\"histogram\":[{\"marker\":{\"pattern\":{\"fillmode\":\"overlay\",\"size\":10,\"solidity\":0.2}},\"type\":\"histogram\"}],\"scattergl\":[{\"type\":\"scattergl\",\"marker\":{\"colorbar\":{\"outlinewidth\":0,\"ticks\":\"\"}}}],\"scatter3d\":[{\"type\":\"scatter3d\",\"line\":{\"colorbar\":{\"outlinewidth\":0,\"ticks\":\"\"}},\"marker\":{\"colorbar\":{\"outlinewidth\":0,\"ticks\":\"\"}}}],\"scattermapbox\":[{\"type\":\"scattermapbox\",\"marker\":{\"colorbar\":{\"outlinewidth\":0,\"ticks\":\"\"}}}],\"scatterternary\":[{\"type\":\"scatterternary\",\"marker\":{\"colorbar\":{\"outlinewidth\":0,\"ticks\":\"\"}}}],\"scattercarpet\":[{\"type\":\"scattercarpet\",\"marker\":{\"colorbar\":{\"outlinewidth\":0,\"ticks\":\"\"}}}],\"carpet\":[{\"aaxis\":{\"endlinecolor\":\"#2a3f5f\",\"gridcolor\":\"white\",\"linecolor\":\"white\",\"minorgridcolor\":\"white\",\"startlinecolor\":\"#2a3f5f\"},\"baxis\":{\"endlinecolor\":\"#2a3f5f\",\"gridcolor\":\"white\",\"linecolor\":\"white\",\"minorgridcolor\":\"white\",\"startlinecolor\":\"#2a3f5f\"},\"type\":\"carpet\"}],\"table\":[{\"cells\":{\"fill\":{\"color\":\"#EBF0F8\"},\"line\":{\"color\":\"white\"}},\"header\":{\"fill\":{\"color\":\"#C8D4E3\"},\"line\":{\"color\":\"white\"}},\"type\":\"table\"}],\"barpolar\":[{\"marker\":{\"line\":{\"color\":\"#E5ECF6\",\"width\":0.5},\"pattern\":{\"fillmode\":\"overlay\",\"size\":10,\"solidity\":0.2}},\"type\":\"barpolar\"}],\"pie\":[{\"automargin\":true,\"type\":\"pie\"}]},\"layout\":{\"autotypenumbers\":\"strict\",\"colorway\":[\"#636efa\",\"#EF553B\",\"#00cc96\",\"#ab63fa\",\"#FFA15A\",\"#19d3f3\",\"#FF6692\",\"#B6E880\",\"#FF97FF\",\"#FECB52\"],\"font\":{\"color\":\"#2a3f5f\"},\"hovermode\":\"closest\",\"hoverlabel\":{\"align\":\"left\"},\"paper_bgcolor\":\"white\",\"plot_bgcolor\":\"#E5ECF6\",\"polar\":{\"bgcolor\":\"#E5ECF6\",\"angularaxis\":{\"gridcolor\":\"white\",\"linecolor\":\"white\",\"ticks\":\"\"},\"radialaxis\":{\"gridcolor\":\"white\",\"linecolor\":\"white\",\"ticks\":\"\"}},\"ternary\":{\"bgcolor\":\"#E5ECF6\",\"aaxis\":{\"gridcolor\":\"white\",\"linecolor\":\"white\",\"ticks\":\"\"},\"baxis\":{\"gridcolor\":\"white\",\"linecolor\":\"white\",\"ticks\":\"\"},\"caxis\":{\"gridcolor\":\"white\",\"linecolor\":\"white\",\"ticks\":\"\"}},\"coloraxis\":{\"colorbar\":{\"outlinewidth\":0,\"ticks\":\"\"}},\"colorscale\":{\"sequential\":[[0.0,\"#0d0887\"],[0.1111111111111111,\"#46039f\"],[0.2222222222222222,\"#7201a8\"],[0.3333333333333333,\"#9c179e\"],[0.4444444444444444,\"#bd3786\"],[0.5555555555555556,\"#d8576b\"],[0.6666666666666666,\"#ed7953\"],[0.7777777777777778,\"#fb9f3a\"],[0.8888888888888888,\"#fdca26\"],[1.0,\"#f0f921\"]],\"sequentialminus\":[[0.0,\"#0d0887\"],[0.1111111111111111,\"#46039f\"],[0.2222222222222222,\"#7201a8\"],[0.3333333333333333,\"#9c179e\"],[0.4444444444444444,\"#bd3786\"],[0.5555555555555556,\"#d8576b\"],[0.6666666666666666,\"#ed7953\"],[0.7777777777777778,\"#fb9f3a\"],[0.8888888888888888,\"#fdca26\"],[1.0,\"#f0f921\"]],\"diverging\":[[0,\"#8e0152\"],[0.1,\"#c51b7d\"],[0.2,\"#de77ae\"],[0.3,\"#f1b6da\"],[0.4,\"#fde0ef\"],[0.5,\"#f7f7f7\"],[0.6,\"#e6f5d0\"],[0.7,\"#b8e186\"],[0.8,\"#7fbc41\"],[0.9,\"#4d9221\"],[1,\"#276419\"]]},\"xaxis\":{\"gridcolor\":\"white\",\"linecolor\":\"white\",\"ticks\":\"\",\"title\":{\"standoff\":15},\"zerolinecolor\":\"white\",\"automargin\":true,\"zerolinewidth\":2},\"yaxis\":{\"gridcolor\":\"white\",\"linecolor\":\"white\",\"ticks\":\"\",\"title\":{\"standoff\":15},\"zerolinecolor\":\"white\",\"automargin\":true,\"zerolinewidth\":2},\"scene\":{\"xaxis\":{\"backgroundcolor\":\"#E5ECF6\",\"gridcolor\":\"white\",\"linecolor\":\"white\",\"showbackground\":true,\"ticks\":\"\",\"zerolinecolor\":\"white\",\"gridwidth\":2},\"yaxis\":{\"backgroundcolor\":\"#E5ECF6\",\"gridcolor\":\"white\",\"linecolor\":\"white\",\"showbackground\":true,\"ticks\":\"\",\"zerolinecolor\":\"white\",\"gridwidth\":2},\"zaxis\":{\"backgroundcolor\":\"#E5ECF6\",\"gridcolor\":\"white\",\"linecolor\":\"white\",\"showbackground\":true,\"ticks\":\"\",\"zerolinecolor\":\"white\",\"gridwidth\":2}},\"shapedefaults\":{\"line\":{\"color\":\"#2a3f5f\"}},\"annotationdefaults\":{\"arrowcolor\":\"#2a3f5f\",\"arrowhead\":0,\"arrowwidth\":1},\"geo\":{\"bgcolor\":\"white\",\"landcolor\":\"#E5ECF6\",\"subunitcolor\":\"white\",\"showland\":true,\"showlakes\":true,\"lakecolor\":\"white\"},\"title\":{\"x\":0.05},\"mapbox\":{\"style\":\"light\"}}},\"xaxis\":{\"anchor\":\"y\",\"domain\":[0.0,1.0],\"scaleanchor\":\"y\",\"constrain\":\"domain\"},\"yaxis\":{\"anchor\":\"x\",\"domain\":[0.0,1.0],\"autorange\":\"reversed\",\"constrain\":\"domain\"},\"coloraxis\":{\"colorbar\":{\"title\":{\"text\":\"Similarity Score\"}},\"colorscale\":[[0.0,\"rgb(247,252,240)\"],[0.125,\"rgb(224,243,219)\"],[0.25,\"rgb(204,235,197)\"],[0.375,\"rgb(168,221,181)\"],[0.5,\"rgb(123,204,196)\"],[0.625,\"rgb(78,179,211)\"],[0.75,\"rgb(43,140,190)\"],[0.875,\"rgb(8,104,172)\"],[1.0,\"rgb(8,64,129)\"]]},\"margin\":{\"t\":60},\"title\":{\"font\":{\"size\":22,\"color\":\"Black\"},\"text\":\"\\u003cb\\u003eSimilarity Matrix\\u003c\\u002fb\\u003e\",\"y\":0.95,\"x\":0.55,\"xanchor\":\"center\",\"yanchor\":\"top\"},\"hoverlabel\":{\"font\":{\"size\":16,\"family\":\"Rockwell\"},\"bgcolor\":\"white\"},\"width\":800,\"height\":800,\"showlegend\":true,\"legend\":{\"title\":{\"text\":\"Trend\"}}},                        {\"responsive\": true}                    ).then(function(){\n                            \nvar gd = document.getElementById('fd16b47d-026d-41ff-9b54-632921e7e51a');\nvar x = new MutationObserver(function (mutations, observer) {{\n        var display = window.getComputedStyle(gd).display;\n        if (!display || display === 'none') {{\n            console.log([gd, 'removed!']);\n            Plotly.purge(gd);\n            observer.disconnect();\n        }}\n}});\n\n// Listen for the removal of the full notebook cells\nvar notebookContainer = gd.closest('#notebook-container');\nif (notebookContainer) {{\n    x.observe(notebookContainer, {childList: true});\n}}\n\n// Listen for the clearing of the current output cell\nvar outputEl = gd.closest('.output');\nif (outputEl) {{\n    x.observe(outputEl, {childList: true});\n}}\n\n                        })                };                });            </script>        </div>"
     },
     "metadata": {},
     "output_type": "display_data"
    }
   ],
   "source": [
    "heatmap_bert = model_bert.visualize_heatmap()\n",
    "heatmap_bert.write_html('heatmap_bert.html')\n",
    "heatmap_bert"
   ],
   "metadata": {
    "collapsed": false,
    "ExecuteTime": {
     "end_time": "2024-02-08T19:10:18.964598Z",
     "start_time": "2024-02-08T19:10:18.862699Z"
    }
   }
  },
  {
   "cell_type": "code",
   "execution_count": 283,
   "outputs": [
    {
     "data": {
      "application/vnd.plotly.v1+json": {
       "data": [
        {
         "hoverinfo": "text",
         "marker": {
          "color": "rgb(61,153,112)"
         },
         "mode": "lines",
         "x": [
          0.0,
          0.6775267922377138,
          0.6775267922377138,
          0.0
         ],
         "xaxis": "x",
         "y": [
          -15.0,
          -15.0,
          -25.0,
          -25.0
         ],
         "yaxis": "y",
         "type": "scatter"
        },
        {
         "hoverinfo": "text",
         "marker": {
          "color": "rgb(61,153,112)"
         },
         "mode": "lines",
         "x": [
          0.0,
          0.8548386469938318,
          0.8548386469938318,
          0.6775267922377138
         ],
         "xaxis": "x",
         "y": [
          -5.0,
          -5.0,
          -20.0,
          -20.0
         ],
         "yaxis": "y",
         "type": "scatter"
        },
        {
         "hoverinfo": "text",
         "marker": {
          "color": "rgb(61,153,112)"
         },
         "mode": "lines",
         "x": [
          0.8548386469938318,
          0.9244114938275215,
          0.9244114938275215,
          0.0
         ],
         "xaxis": "x",
         "y": [
          -12.5,
          -12.5,
          -35.0,
          -35.0
         ],
         "yaxis": "y",
         "type": "scatter"
        },
        {
         "hoverinfo": "text",
         "marker": {
          "color": "rgb(255,65,54)"
         },
         "mode": "lines",
         "x": [
          0.0,
          0.5188394694270551,
          0.5188394694270551,
          0.0
         ],
         "xaxis": "x",
         "y": [
          -65.0,
          -65.0,
          -75.0,
          -75.0
         ],
         "yaxis": "y",
         "type": "scatter"
        },
        {
         "hoverinfo": "text",
         "marker": {
          "color": "rgb(255,65,54)"
         },
         "mode": "lines",
         "x": [
          0.0,
          0.5833820704408795,
          0.5833820704408795,
          0.5188394694270551
         ],
         "xaxis": "x",
         "y": [
          -55.0,
          -55.0,
          -70.0,
          -70.0
         ],
         "yaxis": "y",
         "type": "scatter"
        },
        {
         "hoverinfo": "text",
         "marker": {
          "color": "rgb(255,65,54)"
         },
         "mode": "lines",
         "x": [
          0.5833820704408795,
          0.8110929759128704,
          0.8110929759128704,
          0.0
         ],
         "xaxis": "x",
         "y": [
          -62.5,
          -62.5,
          -85.0,
          -85.0
         ],
         "yaxis": "y",
         "type": "scatter"
        },
        {
         "hoverinfo": "text",
         "marker": {
          "color": "rgb(255,65,54)"
         },
         "mode": "lines",
         "x": [
          0.0,
          0.8872109332729257,
          0.8872109332729257,
          0.8110929759128704
         ],
         "xaxis": "x",
         "y": [
          -45.0,
          -45.0,
          -73.75,
          -73.75
         ],
         "yaxis": "y",
         "type": "scatter"
        },
        {
         "hoverinfo": "text",
         "marker": {
          "color": "rgb(0,116,217)"
         },
         "mode": "lines",
         "x": [
          0.9244114938275215,
          1.0829608919750662,
          1.0829608919750662,
          0.8872109332729257
         ],
         "xaxis": "x",
         "y": [
          -23.75,
          -23.75,
          -59.375,
          -59.375
         ],
         "yaxis": "y",
         "type": "scatter"
        },
        {
         "hoverinfo": "text",
         "marker": {
          "color": "rgb(35,205,205)"
         },
         "mode": "lines",
         "x": [
          0.0,
          0.5701684302255707,
          0.5701684302255707,
          0.0
         ],
         "xaxis": "x",
         "y": [
          -105.0,
          -105.0,
          -115.0,
          -115.0
         ],
         "yaxis": "y",
         "type": "scatter"
        },
        {
         "hoverinfo": "text",
         "marker": {
          "color": "rgb(35,205,205)"
         },
         "mode": "lines",
         "x": [
          0.0,
          0.7034163950147819,
          0.7034163950147819,
          0.5701684302255707
         ],
         "xaxis": "x",
         "y": [
          -95.0,
          -95.0,
          -110.0,
          -110.0
         ],
         "yaxis": "y",
         "type": "scatter"
        },
        {
         "hoverinfo": "text",
         "marker": {
          "color": "rgb(35,205,205)"
         },
         "mode": "lines",
         "x": [
          0.7034163950147819,
          0.7496603366601344,
          0.7496603366601344,
          0.0
         ],
         "xaxis": "x",
         "y": [
          -102.5,
          -102.5,
          -125.0,
          -125.0
         ],
         "yaxis": "y",
         "type": "scatter"
        },
        {
         "hoverinfo": "text",
         "marker": {
          "color": "rgb(35,205,205)"
         },
         "mode": "lines",
         "x": [
          0.0,
          0.407674396294064,
          0.407674396294064,
          0.0
         ],
         "xaxis": "x",
         "y": [
          -145.0,
          -145.0,
          -155.0,
          -155.0
         ],
         "yaxis": "y",
         "type": "scatter"
        },
        {
         "hoverinfo": "text",
         "marker": {
          "color": "rgb(35,205,205)"
         },
         "mode": "lines",
         "x": [
          0.0,
          0.460999985452213,
          0.460999985452213,
          0.0
         ],
         "xaxis": "x",
         "y": [
          -165.0,
          -165.0,
          -175.0,
          -175.0
         ],
         "yaxis": "y",
         "type": "scatter"
        },
        {
         "hoverinfo": "text",
         "marker": {
          "color": "rgb(35,205,205)"
         },
         "mode": "lines",
         "x": [
          0.407674396294064,
          0.5813701517136797,
          0.5813701517136797,
          0.460999985452213
         ],
         "xaxis": "x",
         "y": [
          -150.0,
          -150.0,
          -170.0,
          -170.0
         ],
         "yaxis": "y",
         "type": "scatter"
        },
        {
         "hoverinfo": "text",
         "marker": {
          "color": "rgb(35,205,205)"
         },
         "mode": "lines",
         "x": [
          0.0,
          0.6050557047106925,
          0.6050557047106925,
          0.5813701517136797
         ],
         "xaxis": "x",
         "y": [
          -135.0,
          -135.0,
          -160.0,
          -160.0
         ],
         "yaxis": "y",
         "type": "scatter"
        },
        {
         "hoverinfo": "text",
         "marker": {
          "color": "rgb(35,205,205)"
         },
         "mode": "lines",
         "x": [
          0.6050557047106925,
          0.7605312937326172,
          0.7605312937326172,
          0.0
         ],
         "xaxis": "x",
         "y": [
          -147.5,
          -147.5,
          -185.0,
          -185.0
         ],
         "yaxis": "y",
         "type": "scatter"
        },
        {
         "hoverinfo": "text",
         "marker": {
          "color": "rgb(35,205,205)"
         },
         "mode": "lines",
         "x": [
          0.7496603366601344,
          0.9563547879819665,
          0.9563547879819665,
          0.7605312937326172
         ],
         "xaxis": "x",
         "y": [
          -113.75,
          -113.75,
          -166.25,
          -166.25
         ],
         "yaxis": "y",
         "type": "scatter"
        },
        {
         "hoverinfo": "text",
         "marker": {
          "color": "rgb(133,20,75)"
         },
         "mode": "lines",
         "x": [
          0.0,
          0.5593395879479408,
          0.5593395879479408,
          0.0
         ],
         "xaxis": "x",
         "y": [
          -195.0,
          -195.0,
          -205.0,
          -205.0
         ],
         "yaxis": "y",
         "type": "scatter"
        },
        {
         "hoverinfo": "text",
         "marker": {
          "color": "rgb(255,220,0)"
         },
         "mode": "lines",
         "x": [
          0.0,
          0.6490927760879696,
          0.6490927760879696,
          0.0
         ],
         "xaxis": "x",
         "y": [
          -225.0,
          -225.0,
          -235.0,
          -235.0
         ],
         "yaxis": "y",
         "type": "scatter"
        },
        {
         "hoverinfo": "text",
         "marker": {
          "color": "rgb(255,220,0)"
         },
         "mode": "lines",
         "x": [
          0.0,
          0.8506418790738207,
          0.8506418790738207,
          0.0
         ],
         "xaxis": "x",
         "y": [
          -245.0,
          -245.0,
          -255.0,
          -255.0
         ],
         "yaxis": "y",
         "type": "scatter"
        },
        {
         "hoverinfo": "text",
         "marker": {
          "color": "rgb(255,220,0)"
         },
         "mode": "lines",
         "x": [
          0.6490927760879696,
          0.8781551235103705,
          0.8781551235103705,
          0.8506418790738207
         ],
         "xaxis": "x",
         "y": [
          -230.0,
          -230.0,
          -250.0,
          -250.0
         ],
         "yaxis": "y",
         "type": "scatter"
        },
        {
         "hoverinfo": "text",
         "marker": {
          "color": "rgb(255,220,0)"
         },
         "mode": "lines",
         "x": [
          0.0,
          0.9242140122797573,
          0.9242140122797573,
          0.8781551235103705
         ],
         "xaxis": "x",
         "y": [
          -215.0,
          -215.0,
          -240.0,
          -240.0
         ],
         "yaxis": "y",
         "type": "scatter"
        },
        {
         "hoverinfo": "text",
         "marker": {
          "color": "rgb(255,220,0)"
         },
         "mode": "lines",
         "x": [
          0.0,
          0.8247118370321047,
          0.8247118370321047,
          0.0
         ],
         "xaxis": "x",
         "y": [
          -265.0,
          -265.0,
          -275.0,
          -275.0
         ],
         "yaxis": "y",
         "type": "scatter"
        },
        {
         "hoverinfo": "text",
         "marker": {
          "color": "rgb(255,220,0)"
         },
         "mode": "lines",
         "x": [
          0.8247118370321047,
          0.9311337688994267,
          0.9311337688994267,
          0.0
         ],
         "xaxis": "x",
         "y": [
          -270.0,
          -270.0,
          -285.0,
          -285.0
         ],
         "yaxis": "y",
         "type": "scatter"
        },
        {
         "hoverinfo": "text",
         "marker": {
          "color": "rgb(255,220,0)"
         },
         "mode": "lines",
         "x": [
          0.9242140122797573,
          0.9692235547942315,
          0.9692235547942315,
          0.9311337688994267
         ],
         "xaxis": "x",
         "y": [
          -227.5,
          -227.5,
          -277.5,
          -277.5
         ],
         "yaxis": "y",
         "type": "scatter"
        },
        {
         "hoverinfo": "text",
         "marker": {
          "color": "rgb(0,116,217)"
         },
         "mode": "lines",
         "x": [
          0.5593395879479408,
          1.0978759995752332,
          1.0978759995752332,
          0.9692235547942315
         ],
         "xaxis": "x",
         "y": [
          -200.0,
          -200.0,
          -252.5,
          -252.5
         ],
         "yaxis": "y",
         "type": "scatter"
        },
        {
         "hoverinfo": "text",
         "marker": {
          "color": "rgb(0,116,217)"
         },
         "mode": "lines",
         "x": [
          0.9563547879819665,
          1.185015909759907,
          1.185015909759907,
          1.0978759995752332
         ],
         "xaxis": "x",
         "y": [
          -140.0,
          -140.0,
          -226.25,
          -226.25
         ],
         "yaxis": "y",
         "type": "scatter"
        },
        {
         "hoverinfo": "text",
         "marker": {
          "color": "rgb(0,116,217)"
         },
         "mode": "lines",
         "x": [
          1.0829608919750662,
          1.3276707620850758,
          1.3276707620850758,
          1.185015909759907
         ],
         "xaxis": "x",
         "y": [
          -41.5625,
          -41.5625,
          -183.125,
          -183.125
         ],
         "yaxis": "y",
         "type": "scatter"
        },
        {
         "hoverinfo": "text",
         "marker": {
          "color": "rgb(40,35,35)"
         },
         "mode": "lines",
         "x": [
          0.0,
          0.9364731345494425,
          0.9364731345494425,
          0.0
         ],
         "xaxis": "x",
         "y": [
          -295.0,
          -295.0,
          -305.0,
          -305.0
         ],
         "yaxis": "y",
         "type": "scatter"
        },
        {
         "hoverinfo": "text",
         "marker": {
          "color": "rgb(40,35,35)"
         },
         "mode": "lines",
         "x": [
          0.0,
          0.66469981223374,
          0.66469981223374,
          0.0
         ],
         "xaxis": "x",
         "y": [
          -315.0,
          -315.0,
          -325.0,
          -325.0
         ],
         "yaxis": "y",
         "type": "scatter"
        },
        {
         "hoverinfo": "text",
         "marker": {
          "color": "rgb(40,35,35)"
         },
         "mode": "lines",
         "x": [
          0.0,
          0.894172266902697,
          0.894172266902697,
          0.0
         ],
         "xaxis": "x",
         "y": [
          -335.0,
          -335.0,
          -345.0,
          -345.0
         ],
         "yaxis": "y",
         "type": "scatter"
        },
        {
         "hoverinfo": "text",
         "marker": {
          "color": "rgb(40,35,35)"
         },
         "mode": "lines",
         "x": [
          0.66469981223374,
          0.9147201142972644,
          0.9147201142972644,
          0.894172266902697
         ],
         "xaxis": "x",
         "y": [
          -320.0,
          -320.0,
          -340.0,
          -340.0
         ],
         "yaxis": "y",
         "type": "scatter"
        },
        {
         "hoverinfo": "text",
         "marker": {
          "color": "rgb(40,35,35)"
         },
         "mode": "lines",
         "x": [
          0.9364731345494425,
          0.968569536095672,
          0.968569536095672,
          0.9147201142972644
         ],
         "xaxis": "x",
         "y": [
          -300.0,
          -300.0,
          -330.0,
          -330.0
         ],
         "yaxis": "y",
         "type": "scatter"
        },
        {
         "hoverinfo": "text",
         "marker": {
          "color": "rgb(61,153,112)"
         },
         "mode": "lines",
         "x": [
          0.0,
          0.33488712237828433,
          0.33488712237828433,
          0.0
         ],
         "xaxis": "x",
         "y": [
          -355.0,
          -355.0,
          -365.0,
          -365.0
         ],
         "yaxis": "y",
         "type": "scatter"
        },
        {
         "hoverinfo": "text",
         "marker": {
          "color": "rgb(61,153,112)"
         },
         "mode": "lines",
         "x": [
          0.33488712237828433,
          0.6371849346444094,
          0.6371849346444094,
          0.0
         ],
         "xaxis": "x",
         "y": [
          -360.0,
          -360.0,
          -375.0,
          -375.0
         ],
         "yaxis": "y",
         "type": "scatter"
        },
        {
         "hoverinfo": "text",
         "marker": {
          "color": "rgb(61,153,112)"
         },
         "mode": "lines",
         "x": [
          0.6371849346444094,
          0.7691534550555669,
          0.7691534550555669,
          0.0
         ],
         "xaxis": "x",
         "y": [
          -367.5,
          -367.5,
          -385.0,
          -385.0
         ],
         "yaxis": "y",
         "type": "scatter"
        },
        {
         "hoverinfo": "text",
         "marker": {
          "color": "rgb(0,116,217)"
         },
         "mode": "lines",
         "x": [
          0.968569536095672,
          1.0437721825733792,
          1.0437721825733792,
          0.7691534550555669
         ],
         "xaxis": "x",
         "y": [
          -315.0,
          -315.0,
          -376.25,
          -376.25
         ],
         "yaxis": "y",
         "type": "scatter"
        },
        {
         "hoverinfo": "text",
         "marker": {
          "color": "rgb(255,65,54)"
         },
         "mode": "lines",
         "x": [
          0.0,
          0.8647988199106238,
          0.8647988199106238,
          0.0
         ],
         "xaxis": "x",
         "y": [
          -395.0,
          -395.0,
          -405.0,
          -405.0
         ],
         "yaxis": "y",
         "type": "scatter"
        },
        {
         "hoverinfo": "text",
         "marker": {
          "color": "rgb(255,65,54)"
         },
         "mode": "lines",
         "x": [
          0.0,
          0.7915092508434157,
          0.7915092508434157,
          0.0
         ],
         "xaxis": "x",
         "y": [
          -415.0,
          -415.0,
          -425.0,
          -425.0
         ],
         "yaxis": "y",
         "type": "scatter"
        },
        {
         "hoverinfo": "text",
         "marker": {
          "color": "rgb(255,65,54)"
         },
         "mode": "lines",
         "x": [
          0.0,
          0.8308115853645379,
          0.8308115853645379,
          0.0
         ],
         "xaxis": "x",
         "y": [
          -435.0,
          -435.0,
          -445.0,
          -445.0
         ],
         "yaxis": "y",
         "type": "scatter"
        },
        {
         "hoverinfo": "text",
         "marker": {
          "color": "rgb(255,65,54)"
         },
         "mode": "lines",
         "x": [
          0.7915092508434157,
          0.8864106555769089,
          0.8864106555769089,
          0.8308115853645379
         ],
         "xaxis": "x",
         "y": [
          -420.0,
          -420.0,
          -440.0,
          -440.0
         ],
         "yaxis": "y",
         "type": "scatter"
        },
        {
         "hoverinfo": "text",
         "marker": {
          "color": "rgb(255,65,54)"
         },
         "mode": "lines",
         "x": [
          0.8647988199106238,
          0.9220434889669931,
          0.9220434889669931,
          0.8864106555769089
         ],
         "xaxis": "x",
         "y": [
          -400.0,
          -400.0,
          -430.0,
          -430.0
         ],
         "yaxis": "y",
         "type": "scatter"
        },
        {
         "hoverinfo": "text",
         "marker": {
          "color": "rgb(0,116,217)"
         },
         "mode": "lines",
         "x": [
          1.0437721825733792,
          1.2876707978159192,
          1.2876707978159192,
          0.9220434889669931
         ],
         "xaxis": "x",
         "y": [
          -345.625,
          -345.625,
          -415.0,
          -415.0
         ],
         "yaxis": "y",
         "type": "scatter"
        },
        {
         "hoverinfo": "text",
         "marker": {
          "color": "rgb(0,116,217)"
         },
         "mode": "lines",
         "x": [
          1.3276707620850758,
          1.4179621439339716,
          1.4179621439339716,
          1.2876707978159192
         ],
         "xaxis": "x",
         "y": [
          -112.34375,
          -112.34375,
          -380.3125,
          -380.3125
         ],
         "yaxis": "y",
         "type": "scatter"
        },
        {
         "hoverinfo": "text",
         "marker": {
          "color": "rgb(35,205,205)"
         },
         "mode": "lines",
         "x": [
          0.0,
          0.9345630520618236,
          0.9345630520618236,
          0.0
         ],
         "xaxis": "x",
         "y": [
          -465.0,
          -465.0,
          -475.0,
          -475.0
         ],
         "yaxis": "y",
         "type": "scatter"
        },
        {
         "hoverinfo": "text",
         "marker": {
          "color": "rgb(35,205,205)"
         },
         "mode": "lines",
         "x": [
          0.0,
          0.9939239385413351,
          0.9939239385413351,
          0.9345630520618236
         ],
         "xaxis": "x",
         "y": [
          -455.0,
          -455.0,
          -470.0,
          -470.0
         ],
         "yaxis": "y",
         "type": "scatter"
        },
        {
         "hoverinfo": "text",
         "marker": {
          "color": "rgb(61,153,112)"
         },
         "mode": "lines",
         "x": [
          0.0,
          0.9657534631061837,
          0.9657534631061837,
          0.0
         ],
         "xaxis": "x",
         "y": [
          -495.0,
          -495.0,
          -505.0,
          -505.0
         ],
         "yaxis": "y",
         "type": "scatter"
        },
        {
         "hoverinfo": "text",
         "marker": {
          "color": "rgb(61,153,112)"
         },
         "mode": "lines",
         "x": [
          0.0,
          0.9673701518207156,
          0.9673701518207156,
          0.0
         ],
         "xaxis": "x",
         "y": [
          -515.0,
          -515.0,
          -525.0,
          -525.0
         ],
         "yaxis": "y",
         "type": "scatter"
        },
        {
         "hoverinfo": "text",
         "marker": {
          "color": "rgb(61,153,112)"
         },
         "mode": "lines",
         "x": [
          0.9657534631061837,
          0.9846993202851058,
          0.9846993202851058,
          0.9673701518207156
         ],
         "xaxis": "x",
         "y": [
          -500.0,
          -500.0,
          -520.0,
          -520.0
         ],
         "yaxis": "y",
         "type": "scatter"
        },
        {
         "hoverinfo": "text",
         "marker": {
          "color": "rgb(0,116,217)"
         },
         "mode": "lines",
         "x": [
          0.0,
          1.005137927186064,
          1.005137927186064,
          0.9846993202851058
         ],
         "xaxis": "x",
         "y": [
          -485.0,
          -485.0,
          -510.0,
          -510.0
         ],
         "yaxis": "y",
         "type": "scatter"
        },
        {
         "hoverinfo": "text",
         "marker": {
          "color": "rgb(255,65,54)"
         },
         "mode": "lines",
         "x": [
          0.0,
          0.9824986223681949,
          0.9824986223681949,
          0.0
         ],
         "xaxis": "x",
         "y": [
          -535.0,
          -535.0,
          -545.0,
          -545.0
         ],
         "yaxis": "y",
         "type": "scatter"
        },
        {
         "hoverinfo": "text",
         "marker": {
          "color": "rgb(0,116,217)"
         },
         "mode": "lines",
         "x": [
          1.005137927186064,
          1.0229953306733715,
          1.0229953306733715,
          0.9824986223681949
         ],
         "xaxis": "x",
         "y": [
          -497.5,
          -497.5,
          -540.0,
          -540.0
         ],
         "yaxis": "y",
         "type": "scatter"
        },
        {
         "hoverinfo": "text",
         "marker": {
          "color": "rgb(0,116,217)"
         },
         "mode": "lines",
         "x": [
          0.9939239385413351,
          1.0573575216812388,
          1.0573575216812388,
          1.0229953306733715
         ],
         "xaxis": "x",
         "y": [
          -462.5,
          -462.5,
          -518.75,
          -518.75
         ],
         "yaxis": "y",
         "type": "scatter"
        },
        {
         "hoverinfo": "text",
         "marker": {
          "color": "rgb(35,205,205)"
         },
         "mode": "lines",
         "x": [
          0.0,
          0.5232883246655873,
          0.5232883246655873,
          0.0
         ],
         "xaxis": "x",
         "y": [
          -565.0,
          -565.0,
          -575.0,
          -575.0
         ],
         "yaxis": "y",
         "type": "scatter"
        },
        {
         "hoverinfo": "text",
         "marker": {
          "color": "rgb(35,205,205)"
         },
         "mode": "lines",
         "x": [
          0.0,
          0.8078098869841961,
          0.8078098869841961,
          0.5232883246655873
         ],
         "xaxis": "x",
         "y": [
          -555.0,
          -555.0,
          -570.0,
          -570.0
         ],
         "yaxis": "y",
         "type": "scatter"
        },
        {
         "hoverinfo": "text",
         "marker": {
          "color": "rgb(35,205,205)"
         },
         "mode": "lines",
         "x": [
          0.8078098869841961,
          0.9647432029602849,
          0.9647432029602849,
          0.0
         ],
         "xaxis": "x",
         "y": [
          -562.5,
          -562.5,
          -585.0,
          -585.0
         ],
         "yaxis": "y",
         "type": "scatter"
        },
        {
         "hoverinfo": "text",
         "marker": {
          "color": "rgb(0,116,217)"
         },
         "mode": "lines",
         "x": [
          1.0573575216812388,
          1.277613671219217,
          1.277613671219217,
          0.9647432029602849
         ],
         "xaxis": "x",
         "y": [
          -490.625,
          -490.625,
          -573.75,
          -573.75
         ],
         "yaxis": "y",
         "type": "scatter"
        },
        {
         "hoverinfo": "text",
         "marker": {
          "color": "rgb(133,20,75)"
         },
         "mode": "lines",
         "x": [
          0.0,
          0.6104685251836086,
          0.6104685251836086,
          0.0
         ],
         "xaxis": "x",
         "y": [
          -605.0,
          -605.0,
          -615.0,
          -615.0
         ],
         "yaxis": "y",
         "type": "scatter"
        },
        {
         "hoverinfo": "text",
         "marker": {
          "color": "rgb(133,20,75)"
         },
         "mode": "lines",
         "x": [
          0.0,
          0.8046679239302196,
          0.8046679239302196,
          0.6104685251836086
         ],
         "xaxis": "x",
         "y": [
          -595.0,
          -595.0,
          -610.0,
          -610.0
         ],
         "yaxis": "y",
         "type": "scatter"
        },
        {
         "hoverinfo": "text",
         "marker": {
          "color": "rgb(133,20,75)"
         },
         "mode": "lines",
         "x": [
          0.8046679239302196,
          0.8957683316618531,
          0.8957683316618531,
          0.0
         ],
         "xaxis": "x",
         "y": [
          -602.5,
          -602.5,
          -625.0,
          -625.0
         ],
         "yaxis": "y",
         "type": "scatter"
        },
        {
         "hoverinfo": "text",
         "marker": {
          "color": "rgb(0,116,217)"
         },
         "mode": "lines",
         "x": [
          1.277613671219217,
          1.2955793428003703,
          1.2955793428003703,
          0.8957683316618531
         ],
         "xaxis": "x",
         "y": [
          -532.1875,
          -532.1875,
          -613.75,
          -613.75
         ],
         "yaxis": "y",
         "type": "scatter"
        },
        {
         "hoverinfo": "text",
         "marker": {
          "color": "rgb(255,220,0)"
         },
         "mode": "lines",
         "x": [
          0.0,
          0.38705317940082185,
          0.38705317940082185,
          0.0
         ],
         "xaxis": "x",
         "y": [
          -635.0,
          -635.0,
          -645.0,
          -645.0
         ],
         "yaxis": "y",
         "type": "scatter"
        },
        {
         "hoverinfo": "text",
         "marker": {
          "color": "rgb(255,220,0)"
         },
         "mode": "lines",
         "x": [
          0.38705317940082185,
          0.5762652093666959,
          0.5762652093666959,
          0.0
         ],
         "xaxis": "x",
         "y": [
          -640.0,
          -640.0,
          -655.0,
          -655.0
         ],
         "yaxis": "y",
         "type": "scatter"
        },
        {
         "hoverinfo": "text",
         "marker": {
          "color": "rgb(40,35,35)"
         },
         "mode": "lines",
         "x": [
          0.0,
          0.5388084262899933,
          0.5388084262899933,
          0.0
         ],
         "xaxis": "x",
         "y": [
          -665.0,
          -665.0,
          -675.0,
          -675.0
         ],
         "yaxis": "y",
         "type": "scatter"
        },
        {
         "hoverinfo": "text",
         "marker": {
          "color": "rgb(0,116,217)"
         },
         "mode": "lines",
         "x": [
          0.5762652093666959,
          1.1057318777983776,
          1.1057318777983776,
          0.5388084262899933
         ],
         "xaxis": "x",
         "y": [
          -647.5,
          -647.5,
          -670.0,
          -670.0
         ],
         "yaxis": "y",
         "type": "scatter"
        },
        {
         "hoverinfo": "text",
         "marker": {
          "color": "rgb(0,116,217)"
         },
         "mode": "lines",
         "x": [
          1.2955793428003703,
          1.484294428740262,
          1.484294428740262,
          1.1057318777983776
         ],
         "xaxis": "x",
         "y": [
          -572.96875,
          -572.96875,
          -658.75,
          -658.75
         ],
         "yaxis": "y",
         "type": "scatter"
        },
        {
         "hoverinfo": "text",
         "marker": {
          "color": "rgb(0,116,217)"
         },
         "mode": "lines",
         "x": [
          1.4179621439339716,
          1.8052456422663266,
          1.8052456422663266,
          1.484294428740262
         ],
         "xaxis": "x",
         "y": [
          -246.328125,
          -246.328125,
          -615.859375,
          -615.859375
         ],
         "yaxis": "y",
         "type": "scatter"
        }
       ],
       "layout": {
        "autosize": false,
        "height": 1220,
        "hovermode": "closest",
        "showlegend": false,
        "width": 1000,
        "xaxis": {
         "mirror": "allticks",
         "rangemode": "tozero",
         "showgrid": false,
         "showline": true,
         "showticklabels": true,
         "ticks": "outside",
         "type": "linear",
         "zeroline": false
        },
        "yaxis": {
         "mirror": "allticks",
         "rangemode": "tozero",
         "showgrid": false,
         "showline": true,
         "showticklabels": true,
         "tickmode": "array",
         "ticks": "outside",
         "ticktext": [
          "38_solar_panels_cells",
          "45_installation_installers_...",
          "39_boiler_water_thermostat",
          "13_power_outage_announced",
          "52_transcription_transcript...",
          "6_long_process_took",
          "64_electricity_connection_e...",
          "18_connection_email_notific...",
          "25_request_response_requests",
          "2_invoice_invoices_receive",
          "8_payment_installment_euros",
          "9_bills_billing_high",
          "54_transfer_cancellation_fee",
          "67_complaint_contract_contr...",
          "0_eon_contract_customer",
          "19_gas_electricity_contract",
          "3_contract_agreement_new",
          "33_contracts_contract_add",
          "7_meter_reading_readings",
          "30_consumption_manager_app",
          "50_cubic_consumption_gas",
          "48_tariff_tariffs_change",
          "15_customers_customer_regular",
          "1_essent_years_customer",
          "59_rates_rate_increase",
          "37_providers_provider_company",
          "32_innogy_client_polska",
          "29_rating_influenced_score",
          "34_satisfied_happy_good",
          "36_solved_problem_solution",
          "47_helped_help_noded",
          "23_question_answer_questions",
          "35_employee_lady_question",
          "17_communication_conversati...",
          "26_information_confusing_un...",
          "24_service_customer_bad",
          "4_phone_minutes_service",
          "27_contact_phone_touch",
          "12_chat_chatbot_robot",
          "21_password_log_login",
          "42_portal_online_confusing",
          "14_website_site_page",
          "60_app_work_working",
          "66_works_work_doesn",
          "65_malfunction_error_malfun...",
          "44_cena_know_champion",
          "46_se_ºã_hatrid",
          "53_nee_know_ne",
          "28_look_amateurish_",
          "62_survey_surveys_questionn...",
          "43_wrote_described_note",
          "49_annual_statement_accounts",
          "58_promises_faster_promise",
          "51_ifo_colsenter_just",
          "56_nope_guessing_purely",
          "57_know_doubt_moment",
          "63_know_don_",
          "40_know_cheaper_accessibility",
          "61_accessibility_poor_acces...",
          "20_choice_decide_choose",
          "11_energy_supplier_recommend",
          "10_recommend_recommendation...",
          "41_talk_friends_don",
          "31_electricity_lower_grid",
          "22_electricity_energy_price",
          "5_price_prices_suppliers",
          "16_accessible_reduce_poorly",
          "55_reduce_price_expensive"
         ],
         "tickvals": [
          -5.0,
          -15.0,
          -25.0,
          -35.0,
          -45.0,
          -55.0,
          -65.0,
          -75.0,
          -85.0,
          -95.0,
          -105.0,
          -115.0,
          -125.0,
          -135.0,
          -145.0,
          -155.0,
          -165.0,
          -175.0,
          -185.0,
          -195.0,
          -205.0,
          -215.0,
          -225.0,
          -235.0,
          -245.0,
          -255.0,
          -265.0,
          -275.0,
          -285.0,
          -295.0,
          -305.0,
          -315.0,
          -325.0,
          -335.0,
          -345.0,
          -355.0,
          -365.0,
          -375.0,
          -385.0,
          -395.0,
          -405.0,
          -415.0,
          -425.0,
          -435.0,
          -445.0,
          -455.0,
          -465.0,
          -475.0,
          -485.0,
          -495.0,
          -505.0,
          -515.0,
          -525.0,
          -535.0,
          -545.0,
          -555.0,
          -565.0,
          -575.0,
          -585.0,
          -595.0,
          -605.0,
          -615.0,
          -625.0,
          -635.0,
          -645.0,
          -655.0,
          -665.0,
          -675.0
         ],
         "type": "linear",
         "zeroline": false,
         "range": [
          -680.0,
          0.0
         ]
        },
        "template": {
         "data": {
          "barpolar": [
           {
            "marker": {
             "line": {
              "color": "white",
              "width": 0.5
             },
             "pattern": {
              "fillmode": "overlay",
              "size": 10,
              "solidity": 0.2
             }
            },
            "type": "barpolar"
           }
          ],
          "bar": [
           {
            "error_x": {
             "color": "#2a3f5f"
            },
            "error_y": {
             "color": "#2a3f5f"
            },
            "marker": {
             "line": {
              "color": "white",
              "width": 0.5
             },
             "pattern": {
              "fillmode": "overlay",
              "size": 10,
              "solidity": 0.2
             }
            },
            "type": "bar"
           }
          ],
          "carpet": [
           {
            "aaxis": {
             "endlinecolor": "#2a3f5f",
             "gridcolor": "#C8D4E3",
             "linecolor": "#C8D4E3",
             "minorgridcolor": "#C8D4E3",
             "startlinecolor": "#2a3f5f"
            },
            "baxis": {
             "endlinecolor": "#2a3f5f",
             "gridcolor": "#C8D4E3",
             "linecolor": "#C8D4E3",
             "minorgridcolor": "#C8D4E3",
             "startlinecolor": "#2a3f5f"
            },
            "type": "carpet"
           }
          ],
          "choropleth": [
           {
            "colorbar": {
             "outlinewidth": 0,
             "ticks": ""
            },
            "type": "choropleth"
           }
          ],
          "contourcarpet": [
           {
            "colorbar": {
             "outlinewidth": 0,
             "ticks": ""
            },
            "type": "contourcarpet"
           }
          ],
          "contour": [
           {
            "colorbar": {
             "outlinewidth": 0,
             "ticks": ""
            },
            "colorscale": [
             [
              0.0,
              "#0d0887"
             ],
             [
              0.1111111111111111,
              "#46039f"
             ],
             [
              0.2222222222222222,
              "#7201a8"
             ],
             [
              0.3333333333333333,
              "#9c179e"
             ],
             [
              0.4444444444444444,
              "#bd3786"
             ],
             [
              0.5555555555555556,
              "#d8576b"
             ],
             [
              0.6666666666666666,
              "#ed7953"
             ],
             [
              0.7777777777777778,
              "#fb9f3a"
             ],
             [
              0.8888888888888888,
              "#fdca26"
             ],
             [
              1.0,
              "#f0f921"
             ]
            ],
            "type": "contour"
           }
          ],
          "heatmapgl": [
           {
            "colorbar": {
             "outlinewidth": 0,
             "ticks": ""
            },
            "colorscale": [
             [
              0.0,
              "#0d0887"
             ],
             [
              0.1111111111111111,
              "#46039f"
             ],
             [
              0.2222222222222222,
              "#7201a8"
             ],
             [
              0.3333333333333333,
              "#9c179e"
             ],
             [
              0.4444444444444444,
              "#bd3786"
             ],
             [
              0.5555555555555556,
              "#d8576b"
             ],
             [
              0.6666666666666666,
              "#ed7953"
             ],
             [
              0.7777777777777778,
              "#fb9f3a"
             ],
             [
              0.8888888888888888,
              "#fdca26"
             ],
             [
              1.0,
              "#f0f921"
             ]
            ],
            "type": "heatmapgl"
           }
          ],
          "heatmap": [
           {
            "colorbar": {
             "outlinewidth": 0,
             "ticks": ""
            },
            "colorscale": [
             [
              0.0,
              "#0d0887"
             ],
             [
              0.1111111111111111,
              "#46039f"
             ],
             [
              0.2222222222222222,
              "#7201a8"
             ],
             [
              0.3333333333333333,
              "#9c179e"
             ],
             [
              0.4444444444444444,
              "#bd3786"
             ],
             [
              0.5555555555555556,
              "#d8576b"
             ],
             [
              0.6666666666666666,
              "#ed7953"
             ],
             [
              0.7777777777777778,
              "#fb9f3a"
             ],
             [
              0.8888888888888888,
              "#fdca26"
             ],
             [
              1.0,
              "#f0f921"
             ]
            ],
            "type": "heatmap"
           }
          ],
          "histogram2dcontour": [
           {
            "colorbar": {
             "outlinewidth": 0,
             "ticks": ""
            },
            "colorscale": [
             [
              0.0,
              "#0d0887"
             ],
             [
              0.1111111111111111,
              "#46039f"
             ],
             [
              0.2222222222222222,
              "#7201a8"
             ],
             [
              0.3333333333333333,
              "#9c179e"
             ],
             [
              0.4444444444444444,
              "#bd3786"
             ],
             [
              0.5555555555555556,
              "#d8576b"
             ],
             [
              0.6666666666666666,
              "#ed7953"
             ],
             [
              0.7777777777777778,
              "#fb9f3a"
             ],
             [
              0.8888888888888888,
              "#fdca26"
             ],
             [
              1.0,
              "#f0f921"
             ]
            ],
            "type": "histogram2dcontour"
           }
          ],
          "histogram2d": [
           {
            "colorbar": {
             "outlinewidth": 0,
             "ticks": ""
            },
            "colorscale": [
             [
              0.0,
              "#0d0887"
             ],
             [
              0.1111111111111111,
              "#46039f"
             ],
             [
              0.2222222222222222,
              "#7201a8"
             ],
             [
              0.3333333333333333,
              "#9c179e"
             ],
             [
              0.4444444444444444,
              "#bd3786"
             ],
             [
              0.5555555555555556,
              "#d8576b"
             ],
             [
              0.6666666666666666,
              "#ed7953"
             ],
             [
              0.7777777777777778,
              "#fb9f3a"
             ],
             [
              0.8888888888888888,
              "#fdca26"
             ],
             [
              1.0,
              "#f0f921"
             ]
            ],
            "type": "histogram2d"
           }
          ],
          "histogram": [
           {
            "marker": {
             "pattern": {
              "fillmode": "overlay",
              "size": 10,
              "solidity": 0.2
             }
            },
            "type": "histogram"
           }
          ],
          "mesh3d": [
           {
            "colorbar": {
             "outlinewidth": 0,
             "ticks": ""
            },
            "type": "mesh3d"
           }
          ],
          "parcoords": [
           {
            "line": {
             "colorbar": {
              "outlinewidth": 0,
              "ticks": ""
             }
            },
            "type": "parcoords"
           }
          ],
          "pie": [
           {
            "automargin": true,
            "type": "pie"
           }
          ],
          "scatter3d": [
           {
            "line": {
             "colorbar": {
              "outlinewidth": 0,
              "ticks": ""
             }
            },
            "marker": {
             "colorbar": {
              "outlinewidth": 0,
              "ticks": ""
             }
            },
            "type": "scatter3d"
           }
          ],
          "scattercarpet": [
           {
            "marker": {
             "colorbar": {
              "outlinewidth": 0,
              "ticks": ""
             }
            },
            "type": "scattercarpet"
           }
          ],
          "scattergeo": [
           {
            "marker": {
             "colorbar": {
              "outlinewidth": 0,
              "ticks": ""
             }
            },
            "type": "scattergeo"
           }
          ],
          "scattergl": [
           {
            "marker": {
             "colorbar": {
              "outlinewidth": 0,
              "ticks": ""
             }
            },
            "type": "scattergl"
           }
          ],
          "scattermapbox": [
           {
            "marker": {
             "colorbar": {
              "outlinewidth": 0,
              "ticks": ""
             }
            },
            "type": "scattermapbox"
           }
          ],
          "scatterpolargl": [
           {
            "marker": {
             "colorbar": {
              "outlinewidth": 0,
              "ticks": ""
             }
            },
            "type": "scatterpolargl"
           }
          ],
          "scatterpolar": [
           {
            "marker": {
             "colorbar": {
              "outlinewidth": 0,
              "ticks": ""
             }
            },
            "type": "scatterpolar"
           }
          ],
          "scatter": [
           {
            "fillpattern": {
             "fillmode": "overlay",
             "size": 10,
             "solidity": 0.2
            },
            "type": "scatter"
           }
          ],
          "scatterternary": [
           {
            "marker": {
             "colorbar": {
              "outlinewidth": 0,
              "ticks": ""
             }
            },
            "type": "scatterternary"
           }
          ],
          "surface": [
           {
            "colorbar": {
             "outlinewidth": 0,
             "ticks": ""
            },
            "colorscale": [
             [
              0.0,
              "#0d0887"
             ],
             [
              0.1111111111111111,
              "#46039f"
             ],
             [
              0.2222222222222222,
              "#7201a8"
             ],
             [
              0.3333333333333333,
              "#9c179e"
             ],
             [
              0.4444444444444444,
              "#bd3786"
             ],
             [
              0.5555555555555556,
              "#d8576b"
             ],
             [
              0.6666666666666666,
              "#ed7953"
             ],
             [
              0.7777777777777778,
              "#fb9f3a"
             ],
             [
              0.8888888888888888,
              "#fdca26"
             ],
             [
              1.0,
              "#f0f921"
             ]
            ],
            "type": "surface"
           }
          ],
          "table": [
           {
            "cells": {
             "fill": {
              "color": "#EBF0F8"
             },
             "line": {
              "color": "white"
             }
            },
            "header": {
             "fill": {
              "color": "#C8D4E3"
             },
             "line": {
              "color": "white"
             }
            },
            "type": "table"
           }
          ]
         },
         "layout": {
          "annotationdefaults": {
           "arrowcolor": "#2a3f5f",
           "arrowhead": 0,
           "arrowwidth": 1
          },
          "autotypenumbers": "strict",
          "coloraxis": {
           "colorbar": {
            "outlinewidth": 0,
            "ticks": ""
           }
          },
          "colorscale": {
           "diverging": [
            [
             0,
             "#8e0152"
            ],
            [
             0.1,
             "#c51b7d"
            ],
            [
             0.2,
             "#de77ae"
            ],
            [
             0.3,
             "#f1b6da"
            ],
            [
             0.4,
             "#fde0ef"
            ],
            [
             0.5,
             "#f7f7f7"
            ],
            [
             0.6,
             "#e6f5d0"
            ],
            [
             0.7,
             "#b8e186"
            ],
            [
             0.8,
             "#7fbc41"
            ],
            [
             0.9,
             "#4d9221"
            ],
            [
             1,
             "#276419"
            ]
           ],
           "sequential": [
            [
             0.0,
             "#0d0887"
            ],
            [
             0.1111111111111111,
             "#46039f"
            ],
            [
             0.2222222222222222,
             "#7201a8"
            ],
            [
             0.3333333333333333,
             "#9c179e"
            ],
            [
             0.4444444444444444,
             "#bd3786"
            ],
            [
             0.5555555555555556,
             "#d8576b"
            ],
            [
             0.6666666666666666,
             "#ed7953"
            ],
            [
             0.7777777777777778,
             "#fb9f3a"
            ],
            [
             0.8888888888888888,
             "#fdca26"
            ],
            [
             1.0,
             "#f0f921"
            ]
           ],
           "sequentialminus": [
            [
             0.0,
             "#0d0887"
            ],
            [
             0.1111111111111111,
             "#46039f"
            ],
            [
             0.2222222222222222,
             "#7201a8"
            ],
            [
             0.3333333333333333,
             "#9c179e"
            ],
            [
             0.4444444444444444,
             "#bd3786"
            ],
            [
             0.5555555555555556,
             "#d8576b"
            ],
            [
             0.6666666666666666,
             "#ed7953"
            ],
            [
             0.7777777777777778,
             "#fb9f3a"
            ],
            [
             0.8888888888888888,
             "#fdca26"
            ],
            [
             1.0,
             "#f0f921"
            ]
           ]
          },
          "colorway": [
           "#636efa",
           "#EF553B",
           "#00cc96",
           "#ab63fa",
           "#FFA15A",
           "#19d3f3",
           "#FF6692",
           "#B6E880",
           "#FF97FF",
           "#FECB52"
          ],
          "font": {
           "color": "#2a3f5f"
          },
          "geo": {
           "bgcolor": "white",
           "lakecolor": "white",
           "landcolor": "white",
           "showlakes": true,
           "showland": true,
           "subunitcolor": "#C8D4E3"
          },
          "hoverlabel": {
           "align": "left"
          },
          "hovermode": "closest",
          "mapbox": {
           "style": "light"
          },
          "paper_bgcolor": "white",
          "plot_bgcolor": "white",
          "polar": {
           "angularaxis": {
            "gridcolor": "#EBF0F8",
            "linecolor": "#EBF0F8",
            "ticks": ""
           },
           "bgcolor": "white",
           "radialaxis": {
            "gridcolor": "#EBF0F8",
            "linecolor": "#EBF0F8",
            "ticks": ""
           }
          },
          "scene": {
           "xaxis": {
            "backgroundcolor": "white",
            "gridcolor": "#DFE8F3",
            "gridwidth": 2,
            "linecolor": "#EBF0F8",
            "showbackground": true,
            "ticks": "",
            "zerolinecolor": "#EBF0F8"
           },
           "yaxis": {
            "backgroundcolor": "white",
            "gridcolor": "#DFE8F3",
            "gridwidth": 2,
            "linecolor": "#EBF0F8",
            "showbackground": true,
            "ticks": "",
            "zerolinecolor": "#EBF0F8"
           },
           "zaxis": {
            "backgroundcolor": "white",
            "gridcolor": "#DFE8F3",
            "gridwidth": 2,
            "linecolor": "#EBF0F8",
            "showbackground": true,
            "ticks": "",
            "zerolinecolor": "#EBF0F8"
           }
          },
          "shapedefaults": {
           "line": {
            "color": "#2a3f5f"
           }
          },
          "ternary": {
           "aaxis": {
            "gridcolor": "#DFE8F3",
            "linecolor": "#A2B1C6",
            "ticks": ""
           },
           "baxis": {
            "gridcolor": "#DFE8F3",
            "linecolor": "#A2B1C6",
            "ticks": ""
           },
           "bgcolor": "white",
           "caxis": {
            "gridcolor": "#DFE8F3",
            "linecolor": "#A2B1C6",
            "ticks": ""
           }
          },
          "title": {
           "x": 0.05
          },
          "xaxis": {
           "automargin": true,
           "gridcolor": "#EBF0F8",
           "linecolor": "#EBF0F8",
           "ticks": "",
           "title": {
            "standoff": 15
           },
           "zerolinecolor": "#EBF0F8",
           "zerolinewidth": 2
          },
          "yaxis": {
           "automargin": true,
           "gridcolor": "#EBF0F8",
           "linecolor": "#EBF0F8",
           "ticks": "",
           "title": {
            "standoff": 15
           },
           "zerolinecolor": "#EBF0F8",
           "zerolinewidth": 2
          }
         }
        },
        "title": {
         "font": {
          "size": 22,
          "color": "Black"
         },
         "text": "<b>Hierarchical Clustering</b>",
         "x": 0.5,
         "xanchor": "center",
         "yanchor": "top"
        },
        "hoverlabel": {
         "font": {
          "size": 16,
          "family": "Rockwell"
         },
         "bgcolor": "white"
        },
        "plot_bgcolor": "#ECEFF1"
       },
       "config": {
        "plotlyServerURL": "https://plot.ly"
       }
      },
      "text/html": "<div>                            <div id=\"df4c20c8-61dd-44dc-9c48-cfd2f1e25cac\" class=\"plotly-graph-div\" style=\"height:1220px; width:1000px;\"></div>            <script type=\"text/javascript\">                require([\"plotly\"], function(Plotly) {                    window.PLOTLYENV=window.PLOTLYENV || {};                                    if (document.getElementById(\"df4c20c8-61dd-44dc-9c48-cfd2f1e25cac\")) {                    Plotly.newPlot(                        \"df4c20c8-61dd-44dc-9c48-cfd2f1e25cac\",                        [{\"hoverinfo\":\"text\",\"marker\":{\"color\":\"rgb(61,153,112)\"},\"mode\":\"lines\",\"x\":[0.0,0.6775267922377138,0.6775267922377138,0.0],\"xaxis\":\"x\",\"y\":[-15.0,-15.0,-25.0,-25.0],\"yaxis\":\"y\",\"type\":\"scatter\"},{\"hoverinfo\":\"text\",\"marker\":{\"color\":\"rgb(61,153,112)\"},\"mode\":\"lines\",\"x\":[0.0,0.8548386469938318,0.8548386469938318,0.6775267922377138],\"xaxis\":\"x\",\"y\":[-5.0,-5.0,-20.0,-20.0],\"yaxis\":\"y\",\"type\":\"scatter\"},{\"hoverinfo\":\"text\",\"marker\":{\"color\":\"rgb(61,153,112)\"},\"mode\":\"lines\",\"x\":[0.8548386469938318,0.9244114938275215,0.9244114938275215,0.0],\"xaxis\":\"x\",\"y\":[-12.5,-12.5,-35.0,-35.0],\"yaxis\":\"y\",\"type\":\"scatter\"},{\"hoverinfo\":\"text\",\"marker\":{\"color\":\"rgb(255,65,54)\"},\"mode\":\"lines\",\"x\":[0.0,0.5188394694270551,0.5188394694270551,0.0],\"xaxis\":\"x\",\"y\":[-65.0,-65.0,-75.0,-75.0],\"yaxis\":\"y\",\"type\":\"scatter\"},{\"hoverinfo\":\"text\",\"marker\":{\"color\":\"rgb(255,65,54)\"},\"mode\":\"lines\",\"x\":[0.0,0.5833820704408795,0.5833820704408795,0.5188394694270551],\"xaxis\":\"x\",\"y\":[-55.0,-55.0,-70.0,-70.0],\"yaxis\":\"y\",\"type\":\"scatter\"},{\"hoverinfo\":\"text\",\"marker\":{\"color\":\"rgb(255,65,54)\"},\"mode\":\"lines\",\"x\":[0.5833820704408795,0.8110929759128704,0.8110929759128704,0.0],\"xaxis\":\"x\",\"y\":[-62.5,-62.5,-85.0,-85.0],\"yaxis\":\"y\",\"type\":\"scatter\"},{\"hoverinfo\":\"text\",\"marker\":{\"color\":\"rgb(255,65,54)\"},\"mode\":\"lines\",\"x\":[0.0,0.8872109332729257,0.8872109332729257,0.8110929759128704],\"xaxis\":\"x\",\"y\":[-45.0,-45.0,-73.75,-73.75],\"yaxis\":\"y\",\"type\":\"scatter\"},{\"hoverinfo\":\"text\",\"marker\":{\"color\":\"rgb(0,116,217)\"},\"mode\":\"lines\",\"x\":[0.9244114938275215,1.0829608919750662,1.0829608919750662,0.8872109332729257],\"xaxis\":\"x\",\"y\":[-23.75,-23.75,-59.375,-59.375],\"yaxis\":\"y\",\"type\":\"scatter\"},{\"hoverinfo\":\"text\",\"marker\":{\"color\":\"rgb(35,205,205)\"},\"mode\":\"lines\",\"x\":[0.0,0.5701684302255707,0.5701684302255707,0.0],\"xaxis\":\"x\",\"y\":[-105.0,-105.0,-115.0,-115.0],\"yaxis\":\"y\",\"type\":\"scatter\"},{\"hoverinfo\":\"text\",\"marker\":{\"color\":\"rgb(35,205,205)\"},\"mode\":\"lines\",\"x\":[0.0,0.7034163950147819,0.7034163950147819,0.5701684302255707],\"xaxis\":\"x\",\"y\":[-95.0,-95.0,-110.0,-110.0],\"yaxis\":\"y\",\"type\":\"scatter\"},{\"hoverinfo\":\"text\",\"marker\":{\"color\":\"rgb(35,205,205)\"},\"mode\":\"lines\",\"x\":[0.7034163950147819,0.7496603366601344,0.7496603366601344,0.0],\"xaxis\":\"x\",\"y\":[-102.5,-102.5,-125.0,-125.0],\"yaxis\":\"y\",\"type\":\"scatter\"},{\"hoverinfo\":\"text\",\"marker\":{\"color\":\"rgb(35,205,205)\"},\"mode\":\"lines\",\"x\":[0.0,0.407674396294064,0.407674396294064,0.0],\"xaxis\":\"x\",\"y\":[-145.0,-145.0,-155.0,-155.0],\"yaxis\":\"y\",\"type\":\"scatter\"},{\"hoverinfo\":\"text\",\"marker\":{\"color\":\"rgb(35,205,205)\"},\"mode\":\"lines\",\"x\":[0.0,0.460999985452213,0.460999985452213,0.0],\"xaxis\":\"x\",\"y\":[-165.0,-165.0,-175.0,-175.0],\"yaxis\":\"y\",\"type\":\"scatter\"},{\"hoverinfo\":\"text\",\"marker\":{\"color\":\"rgb(35,205,205)\"},\"mode\":\"lines\",\"x\":[0.407674396294064,0.5813701517136797,0.5813701517136797,0.460999985452213],\"xaxis\":\"x\",\"y\":[-150.0,-150.0,-170.0,-170.0],\"yaxis\":\"y\",\"type\":\"scatter\"},{\"hoverinfo\":\"text\",\"marker\":{\"color\":\"rgb(35,205,205)\"},\"mode\":\"lines\",\"x\":[0.0,0.6050557047106925,0.6050557047106925,0.5813701517136797],\"xaxis\":\"x\",\"y\":[-135.0,-135.0,-160.0,-160.0],\"yaxis\":\"y\",\"type\":\"scatter\"},{\"hoverinfo\":\"text\",\"marker\":{\"color\":\"rgb(35,205,205)\"},\"mode\":\"lines\",\"x\":[0.6050557047106925,0.7605312937326172,0.7605312937326172,0.0],\"xaxis\":\"x\",\"y\":[-147.5,-147.5,-185.0,-185.0],\"yaxis\":\"y\",\"type\":\"scatter\"},{\"hoverinfo\":\"text\",\"marker\":{\"color\":\"rgb(35,205,205)\"},\"mode\":\"lines\",\"x\":[0.7496603366601344,0.9563547879819665,0.9563547879819665,0.7605312937326172],\"xaxis\":\"x\",\"y\":[-113.75,-113.75,-166.25,-166.25],\"yaxis\":\"y\",\"type\":\"scatter\"},{\"hoverinfo\":\"text\",\"marker\":{\"color\":\"rgb(133,20,75)\"},\"mode\":\"lines\",\"x\":[0.0,0.5593395879479408,0.5593395879479408,0.0],\"xaxis\":\"x\",\"y\":[-195.0,-195.0,-205.0,-205.0],\"yaxis\":\"y\",\"type\":\"scatter\"},{\"hoverinfo\":\"text\",\"marker\":{\"color\":\"rgb(255,220,0)\"},\"mode\":\"lines\",\"x\":[0.0,0.6490927760879696,0.6490927760879696,0.0],\"xaxis\":\"x\",\"y\":[-225.0,-225.0,-235.0,-235.0],\"yaxis\":\"y\",\"type\":\"scatter\"},{\"hoverinfo\":\"text\",\"marker\":{\"color\":\"rgb(255,220,0)\"},\"mode\":\"lines\",\"x\":[0.0,0.8506418790738207,0.8506418790738207,0.0],\"xaxis\":\"x\",\"y\":[-245.0,-245.0,-255.0,-255.0],\"yaxis\":\"y\",\"type\":\"scatter\"},{\"hoverinfo\":\"text\",\"marker\":{\"color\":\"rgb(255,220,0)\"},\"mode\":\"lines\",\"x\":[0.6490927760879696,0.8781551235103705,0.8781551235103705,0.8506418790738207],\"xaxis\":\"x\",\"y\":[-230.0,-230.0,-250.0,-250.0],\"yaxis\":\"y\",\"type\":\"scatter\"},{\"hoverinfo\":\"text\",\"marker\":{\"color\":\"rgb(255,220,0)\"},\"mode\":\"lines\",\"x\":[0.0,0.9242140122797573,0.9242140122797573,0.8781551235103705],\"xaxis\":\"x\",\"y\":[-215.0,-215.0,-240.0,-240.0],\"yaxis\":\"y\",\"type\":\"scatter\"},{\"hoverinfo\":\"text\",\"marker\":{\"color\":\"rgb(255,220,0)\"},\"mode\":\"lines\",\"x\":[0.0,0.8247118370321047,0.8247118370321047,0.0],\"xaxis\":\"x\",\"y\":[-265.0,-265.0,-275.0,-275.0],\"yaxis\":\"y\",\"type\":\"scatter\"},{\"hoverinfo\":\"text\",\"marker\":{\"color\":\"rgb(255,220,0)\"},\"mode\":\"lines\",\"x\":[0.8247118370321047,0.9311337688994267,0.9311337688994267,0.0],\"xaxis\":\"x\",\"y\":[-270.0,-270.0,-285.0,-285.0],\"yaxis\":\"y\",\"type\":\"scatter\"},{\"hoverinfo\":\"text\",\"marker\":{\"color\":\"rgb(255,220,0)\"},\"mode\":\"lines\",\"x\":[0.9242140122797573,0.9692235547942315,0.9692235547942315,0.9311337688994267],\"xaxis\":\"x\",\"y\":[-227.5,-227.5,-277.5,-277.5],\"yaxis\":\"y\",\"type\":\"scatter\"},{\"hoverinfo\":\"text\",\"marker\":{\"color\":\"rgb(0,116,217)\"},\"mode\":\"lines\",\"x\":[0.5593395879479408,1.0978759995752332,1.0978759995752332,0.9692235547942315],\"xaxis\":\"x\",\"y\":[-200.0,-200.0,-252.5,-252.5],\"yaxis\":\"y\",\"type\":\"scatter\"},{\"hoverinfo\":\"text\",\"marker\":{\"color\":\"rgb(0,116,217)\"},\"mode\":\"lines\",\"x\":[0.9563547879819665,1.185015909759907,1.185015909759907,1.0978759995752332],\"xaxis\":\"x\",\"y\":[-140.0,-140.0,-226.25,-226.25],\"yaxis\":\"y\",\"type\":\"scatter\"},{\"hoverinfo\":\"text\",\"marker\":{\"color\":\"rgb(0,116,217)\"},\"mode\":\"lines\",\"x\":[1.0829608919750662,1.3276707620850758,1.3276707620850758,1.185015909759907],\"xaxis\":\"x\",\"y\":[-41.5625,-41.5625,-183.125,-183.125],\"yaxis\":\"y\",\"type\":\"scatter\"},{\"hoverinfo\":\"text\",\"marker\":{\"color\":\"rgb(40,35,35)\"},\"mode\":\"lines\",\"x\":[0.0,0.9364731345494425,0.9364731345494425,0.0],\"xaxis\":\"x\",\"y\":[-295.0,-295.0,-305.0,-305.0],\"yaxis\":\"y\",\"type\":\"scatter\"},{\"hoverinfo\":\"text\",\"marker\":{\"color\":\"rgb(40,35,35)\"},\"mode\":\"lines\",\"x\":[0.0,0.66469981223374,0.66469981223374,0.0],\"xaxis\":\"x\",\"y\":[-315.0,-315.0,-325.0,-325.0],\"yaxis\":\"y\",\"type\":\"scatter\"},{\"hoverinfo\":\"text\",\"marker\":{\"color\":\"rgb(40,35,35)\"},\"mode\":\"lines\",\"x\":[0.0,0.894172266902697,0.894172266902697,0.0],\"xaxis\":\"x\",\"y\":[-335.0,-335.0,-345.0,-345.0],\"yaxis\":\"y\",\"type\":\"scatter\"},{\"hoverinfo\":\"text\",\"marker\":{\"color\":\"rgb(40,35,35)\"},\"mode\":\"lines\",\"x\":[0.66469981223374,0.9147201142972644,0.9147201142972644,0.894172266902697],\"xaxis\":\"x\",\"y\":[-320.0,-320.0,-340.0,-340.0],\"yaxis\":\"y\",\"type\":\"scatter\"},{\"hoverinfo\":\"text\",\"marker\":{\"color\":\"rgb(40,35,35)\"},\"mode\":\"lines\",\"x\":[0.9364731345494425,0.968569536095672,0.968569536095672,0.9147201142972644],\"xaxis\":\"x\",\"y\":[-300.0,-300.0,-330.0,-330.0],\"yaxis\":\"y\",\"type\":\"scatter\"},{\"hoverinfo\":\"text\",\"marker\":{\"color\":\"rgb(61,153,112)\"},\"mode\":\"lines\",\"x\":[0.0,0.33488712237828433,0.33488712237828433,0.0],\"xaxis\":\"x\",\"y\":[-355.0,-355.0,-365.0,-365.0],\"yaxis\":\"y\",\"type\":\"scatter\"},{\"hoverinfo\":\"text\",\"marker\":{\"color\":\"rgb(61,153,112)\"},\"mode\":\"lines\",\"x\":[0.33488712237828433,0.6371849346444094,0.6371849346444094,0.0],\"xaxis\":\"x\",\"y\":[-360.0,-360.0,-375.0,-375.0],\"yaxis\":\"y\",\"type\":\"scatter\"},{\"hoverinfo\":\"text\",\"marker\":{\"color\":\"rgb(61,153,112)\"},\"mode\":\"lines\",\"x\":[0.6371849346444094,0.7691534550555669,0.7691534550555669,0.0],\"xaxis\":\"x\",\"y\":[-367.5,-367.5,-385.0,-385.0],\"yaxis\":\"y\",\"type\":\"scatter\"},{\"hoverinfo\":\"text\",\"marker\":{\"color\":\"rgb(0,116,217)\"},\"mode\":\"lines\",\"x\":[0.968569536095672,1.0437721825733792,1.0437721825733792,0.7691534550555669],\"xaxis\":\"x\",\"y\":[-315.0,-315.0,-376.25,-376.25],\"yaxis\":\"y\",\"type\":\"scatter\"},{\"hoverinfo\":\"text\",\"marker\":{\"color\":\"rgb(255,65,54)\"},\"mode\":\"lines\",\"x\":[0.0,0.8647988199106238,0.8647988199106238,0.0],\"xaxis\":\"x\",\"y\":[-395.0,-395.0,-405.0,-405.0],\"yaxis\":\"y\",\"type\":\"scatter\"},{\"hoverinfo\":\"text\",\"marker\":{\"color\":\"rgb(255,65,54)\"},\"mode\":\"lines\",\"x\":[0.0,0.7915092508434157,0.7915092508434157,0.0],\"xaxis\":\"x\",\"y\":[-415.0,-415.0,-425.0,-425.0],\"yaxis\":\"y\",\"type\":\"scatter\"},{\"hoverinfo\":\"text\",\"marker\":{\"color\":\"rgb(255,65,54)\"},\"mode\":\"lines\",\"x\":[0.0,0.8308115853645379,0.8308115853645379,0.0],\"xaxis\":\"x\",\"y\":[-435.0,-435.0,-445.0,-445.0],\"yaxis\":\"y\",\"type\":\"scatter\"},{\"hoverinfo\":\"text\",\"marker\":{\"color\":\"rgb(255,65,54)\"},\"mode\":\"lines\",\"x\":[0.7915092508434157,0.8864106555769089,0.8864106555769089,0.8308115853645379],\"xaxis\":\"x\",\"y\":[-420.0,-420.0,-440.0,-440.0],\"yaxis\":\"y\",\"type\":\"scatter\"},{\"hoverinfo\":\"text\",\"marker\":{\"color\":\"rgb(255,65,54)\"},\"mode\":\"lines\",\"x\":[0.8647988199106238,0.9220434889669931,0.9220434889669931,0.8864106555769089],\"xaxis\":\"x\",\"y\":[-400.0,-400.0,-430.0,-430.0],\"yaxis\":\"y\",\"type\":\"scatter\"},{\"hoverinfo\":\"text\",\"marker\":{\"color\":\"rgb(0,116,217)\"},\"mode\":\"lines\",\"x\":[1.0437721825733792,1.2876707978159192,1.2876707978159192,0.9220434889669931],\"xaxis\":\"x\",\"y\":[-345.625,-345.625,-415.0,-415.0],\"yaxis\":\"y\",\"type\":\"scatter\"},{\"hoverinfo\":\"text\",\"marker\":{\"color\":\"rgb(0,116,217)\"},\"mode\":\"lines\",\"x\":[1.3276707620850758,1.4179621439339716,1.4179621439339716,1.2876707978159192],\"xaxis\":\"x\",\"y\":[-112.34375,-112.34375,-380.3125,-380.3125],\"yaxis\":\"y\",\"type\":\"scatter\"},{\"hoverinfo\":\"text\",\"marker\":{\"color\":\"rgb(35,205,205)\"},\"mode\":\"lines\",\"x\":[0.0,0.9345630520618236,0.9345630520618236,0.0],\"xaxis\":\"x\",\"y\":[-465.0,-465.0,-475.0,-475.0],\"yaxis\":\"y\",\"type\":\"scatter\"},{\"hoverinfo\":\"text\",\"marker\":{\"color\":\"rgb(35,205,205)\"},\"mode\":\"lines\",\"x\":[0.0,0.9939239385413351,0.9939239385413351,0.9345630520618236],\"xaxis\":\"x\",\"y\":[-455.0,-455.0,-470.0,-470.0],\"yaxis\":\"y\",\"type\":\"scatter\"},{\"hoverinfo\":\"text\",\"marker\":{\"color\":\"rgb(61,153,112)\"},\"mode\":\"lines\",\"x\":[0.0,0.9657534631061837,0.9657534631061837,0.0],\"xaxis\":\"x\",\"y\":[-495.0,-495.0,-505.0,-505.0],\"yaxis\":\"y\",\"type\":\"scatter\"},{\"hoverinfo\":\"text\",\"marker\":{\"color\":\"rgb(61,153,112)\"},\"mode\":\"lines\",\"x\":[0.0,0.9673701518207156,0.9673701518207156,0.0],\"xaxis\":\"x\",\"y\":[-515.0,-515.0,-525.0,-525.0],\"yaxis\":\"y\",\"type\":\"scatter\"},{\"hoverinfo\":\"text\",\"marker\":{\"color\":\"rgb(61,153,112)\"},\"mode\":\"lines\",\"x\":[0.9657534631061837,0.9846993202851058,0.9846993202851058,0.9673701518207156],\"xaxis\":\"x\",\"y\":[-500.0,-500.0,-520.0,-520.0],\"yaxis\":\"y\",\"type\":\"scatter\"},{\"hoverinfo\":\"text\",\"marker\":{\"color\":\"rgb(0,116,217)\"},\"mode\":\"lines\",\"x\":[0.0,1.005137927186064,1.005137927186064,0.9846993202851058],\"xaxis\":\"x\",\"y\":[-485.0,-485.0,-510.0,-510.0],\"yaxis\":\"y\",\"type\":\"scatter\"},{\"hoverinfo\":\"text\",\"marker\":{\"color\":\"rgb(255,65,54)\"},\"mode\":\"lines\",\"x\":[0.0,0.9824986223681949,0.9824986223681949,0.0],\"xaxis\":\"x\",\"y\":[-535.0,-535.0,-545.0,-545.0],\"yaxis\":\"y\",\"type\":\"scatter\"},{\"hoverinfo\":\"text\",\"marker\":{\"color\":\"rgb(0,116,217)\"},\"mode\":\"lines\",\"x\":[1.005137927186064,1.0229953306733715,1.0229953306733715,0.9824986223681949],\"xaxis\":\"x\",\"y\":[-497.5,-497.5,-540.0,-540.0],\"yaxis\":\"y\",\"type\":\"scatter\"},{\"hoverinfo\":\"text\",\"marker\":{\"color\":\"rgb(0,116,217)\"},\"mode\":\"lines\",\"x\":[0.9939239385413351,1.0573575216812388,1.0573575216812388,1.0229953306733715],\"xaxis\":\"x\",\"y\":[-462.5,-462.5,-518.75,-518.75],\"yaxis\":\"y\",\"type\":\"scatter\"},{\"hoverinfo\":\"text\",\"marker\":{\"color\":\"rgb(35,205,205)\"},\"mode\":\"lines\",\"x\":[0.0,0.5232883246655873,0.5232883246655873,0.0],\"xaxis\":\"x\",\"y\":[-565.0,-565.0,-575.0,-575.0],\"yaxis\":\"y\",\"type\":\"scatter\"},{\"hoverinfo\":\"text\",\"marker\":{\"color\":\"rgb(35,205,205)\"},\"mode\":\"lines\",\"x\":[0.0,0.8078098869841961,0.8078098869841961,0.5232883246655873],\"xaxis\":\"x\",\"y\":[-555.0,-555.0,-570.0,-570.0],\"yaxis\":\"y\",\"type\":\"scatter\"},{\"hoverinfo\":\"text\",\"marker\":{\"color\":\"rgb(35,205,205)\"},\"mode\":\"lines\",\"x\":[0.8078098869841961,0.9647432029602849,0.9647432029602849,0.0],\"xaxis\":\"x\",\"y\":[-562.5,-562.5,-585.0,-585.0],\"yaxis\":\"y\",\"type\":\"scatter\"},{\"hoverinfo\":\"text\",\"marker\":{\"color\":\"rgb(0,116,217)\"},\"mode\":\"lines\",\"x\":[1.0573575216812388,1.277613671219217,1.277613671219217,0.9647432029602849],\"xaxis\":\"x\",\"y\":[-490.625,-490.625,-573.75,-573.75],\"yaxis\":\"y\",\"type\":\"scatter\"},{\"hoverinfo\":\"text\",\"marker\":{\"color\":\"rgb(133,20,75)\"},\"mode\":\"lines\",\"x\":[0.0,0.6104685251836086,0.6104685251836086,0.0],\"xaxis\":\"x\",\"y\":[-605.0,-605.0,-615.0,-615.0],\"yaxis\":\"y\",\"type\":\"scatter\"},{\"hoverinfo\":\"text\",\"marker\":{\"color\":\"rgb(133,20,75)\"},\"mode\":\"lines\",\"x\":[0.0,0.8046679239302196,0.8046679239302196,0.6104685251836086],\"xaxis\":\"x\",\"y\":[-595.0,-595.0,-610.0,-610.0],\"yaxis\":\"y\",\"type\":\"scatter\"},{\"hoverinfo\":\"text\",\"marker\":{\"color\":\"rgb(133,20,75)\"},\"mode\":\"lines\",\"x\":[0.8046679239302196,0.8957683316618531,0.8957683316618531,0.0],\"xaxis\":\"x\",\"y\":[-602.5,-602.5,-625.0,-625.0],\"yaxis\":\"y\",\"type\":\"scatter\"},{\"hoverinfo\":\"text\",\"marker\":{\"color\":\"rgb(0,116,217)\"},\"mode\":\"lines\",\"x\":[1.277613671219217,1.2955793428003703,1.2955793428003703,0.8957683316618531],\"xaxis\":\"x\",\"y\":[-532.1875,-532.1875,-613.75,-613.75],\"yaxis\":\"y\",\"type\":\"scatter\"},{\"hoverinfo\":\"text\",\"marker\":{\"color\":\"rgb(255,220,0)\"},\"mode\":\"lines\",\"x\":[0.0,0.38705317940082185,0.38705317940082185,0.0],\"xaxis\":\"x\",\"y\":[-635.0,-635.0,-645.0,-645.0],\"yaxis\":\"y\",\"type\":\"scatter\"},{\"hoverinfo\":\"text\",\"marker\":{\"color\":\"rgb(255,220,0)\"},\"mode\":\"lines\",\"x\":[0.38705317940082185,0.5762652093666959,0.5762652093666959,0.0],\"xaxis\":\"x\",\"y\":[-640.0,-640.0,-655.0,-655.0],\"yaxis\":\"y\",\"type\":\"scatter\"},{\"hoverinfo\":\"text\",\"marker\":{\"color\":\"rgb(40,35,35)\"},\"mode\":\"lines\",\"x\":[0.0,0.5388084262899933,0.5388084262899933,0.0],\"xaxis\":\"x\",\"y\":[-665.0,-665.0,-675.0,-675.0],\"yaxis\":\"y\",\"type\":\"scatter\"},{\"hoverinfo\":\"text\",\"marker\":{\"color\":\"rgb(0,116,217)\"},\"mode\":\"lines\",\"x\":[0.5762652093666959,1.1057318777983776,1.1057318777983776,0.5388084262899933],\"xaxis\":\"x\",\"y\":[-647.5,-647.5,-670.0,-670.0],\"yaxis\":\"y\",\"type\":\"scatter\"},{\"hoverinfo\":\"text\",\"marker\":{\"color\":\"rgb(0,116,217)\"},\"mode\":\"lines\",\"x\":[1.2955793428003703,1.484294428740262,1.484294428740262,1.1057318777983776],\"xaxis\":\"x\",\"y\":[-572.96875,-572.96875,-658.75,-658.75],\"yaxis\":\"y\",\"type\":\"scatter\"},{\"hoverinfo\":\"text\",\"marker\":{\"color\":\"rgb(0,116,217)\"},\"mode\":\"lines\",\"x\":[1.4179621439339716,1.8052456422663266,1.8052456422663266,1.484294428740262],\"xaxis\":\"x\",\"y\":[-246.328125,-246.328125,-615.859375,-615.859375],\"yaxis\":\"y\",\"type\":\"scatter\"}],                        {\"autosize\":false,\"height\":1220,\"hovermode\":\"closest\",\"showlegend\":false,\"width\":1000,\"xaxis\":{\"mirror\":\"allticks\",\"rangemode\":\"tozero\",\"showgrid\":false,\"showline\":true,\"showticklabels\":true,\"ticks\":\"outside\",\"type\":\"linear\",\"zeroline\":false},\"yaxis\":{\"mirror\":\"allticks\",\"rangemode\":\"tozero\",\"showgrid\":false,\"showline\":true,\"showticklabels\":true,\"tickmode\":\"array\",\"ticks\":\"outside\",\"ticktext\":[\"38_solar_panels_cells\",\"45_installation_installers_...\",\"39_boiler_water_thermostat\",\"13_power_outage_announced\",\"52_transcription_transcript...\",\"6_long_process_took\",\"64_electricity_connection_e...\",\"18_connection_email_notific...\",\"25_request_response_requests\",\"2_invoice_invoices_receive\",\"8_payment_installment_euros\",\"9_bills_billing_high\",\"54_transfer_cancellation_fee\",\"67_complaint_contract_contr...\",\"0_eon_contract_customer\",\"19_gas_electricity_contract\",\"3_contract_agreement_new\",\"33_contracts_contract_add\",\"7_meter_reading_readings\",\"30_consumption_manager_app\",\"50_cubic_consumption_gas\",\"48_tariff_tariffs_change\",\"15_customers_customer_regular\",\"1_essent_years_customer\",\"59_rates_rate_increase\",\"37_providers_provider_company\",\"32_innogy_client_polska\",\"29_rating_influenced_score\",\"34_satisfied_happy_good\",\"36_solved_problem_solution\",\"47_helped_help_noded\",\"23_question_answer_questions\",\"35_employee_lady_question\",\"17_communication_conversati...\",\"26_information_confusing_un...\",\"24_service_customer_bad\",\"4_phone_minutes_service\",\"27_contact_phone_touch\",\"12_chat_chatbot_robot\",\"21_password_log_login\",\"42_portal_online_confusing\",\"14_website_site_page\",\"60_app_work_working\",\"66_works_work_doesn\",\"65_malfunction_error_malfun...\",\"44_cena_know_champion\",\"46_se_\\u00ba\\u00e3_hatrid\",\"53_nee_know_ne\",\"28_look_amateurish_\",\"62_survey_surveys_questionn...\",\"43_wrote_described_note\",\"49_annual_statement_accounts\",\"58_promises_faster_promise\",\"51_ifo_colsenter_just\",\"56_nope_guessing_purely\",\"57_know_doubt_moment\",\"63_know_don_\",\"40_know_cheaper_accessibility\",\"61_accessibility_poor_acces...\",\"20_choice_decide_choose\",\"11_energy_supplier_recommend\",\"10_recommend_recommendation...\",\"41_talk_friends_don\",\"31_electricity_lower_grid\",\"22_electricity_energy_price\",\"5_price_prices_suppliers\",\"16_accessible_reduce_poorly\",\"55_reduce_price_expensive\"],\"tickvals\":[-5.0,-15.0,-25.0,-35.0,-45.0,-55.0,-65.0,-75.0,-85.0,-95.0,-105.0,-115.0,-125.0,-135.0,-145.0,-155.0,-165.0,-175.0,-185.0,-195.0,-205.0,-215.0,-225.0,-235.0,-245.0,-255.0,-265.0,-275.0,-285.0,-295.0,-305.0,-315.0,-325.0,-335.0,-345.0,-355.0,-365.0,-375.0,-385.0,-395.0,-405.0,-415.0,-425.0,-435.0,-445.0,-455.0,-465.0,-475.0,-485.0,-495.0,-505.0,-515.0,-525.0,-535.0,-545.0,-555.0,-565.0,-575.0,-585.0,-595.0,-605.0,-615.0,-625.0,-635.0,-645.0,-655.0,-665.0,-675.0],\"type\":\"linear\",\"zeroline\":false,\"range\":[-680.0,0.0]},\"template\":{\"data\":{\"barpolar\":[{\"marker\":{\"line\":{\"color\":\"white\",\"width\":0.5},\"pattern\":{\"fillmode\":\"overlay\",\"size\":10,\"solidity\":0.2}},\"type\":\"barpolar\"}],\"bar\":[{\"error_x\":{\"color\":\"#2a3f5f\"},\"error_y\":{\"color\":\"#2a3f5f\"},\"marker\":{\"line\":{\"color\":\"white\",\"width\":0.5},\"pattern\":{\"fillmode\":\"overlay\",\"size\":10,\"solidity\":0.2}},\"type\":\"bar\"}],\"carpet\":[{\"aaxis\":{\"endlinecolor\":\"#2a3f5f\",\"gridcolor\":\"#C8D4E3\",\"linecolor\":\"#C8D4E3\",\"minorgridcolor\":\"#C8D4E3\",\"startlinecolor\":\"#2a3f5f\"},\"baxis\":{\"endlinecolor\":\"#2a3f5f\",\"gridcolor\":\"#C8D4E3\",\"linecolor\":\"#C8D4E3\",\"minorgridcolor\":\"#C8D4E3\",\"startlinecolor\":\"#2a3f5f\"},\"type\":\"carpet\"}],\"choropleth\":[{\"colorbar\":{\"outlinewidth\":0,\"ticks\":\"\"},\"type\":\"choropleth\"}],\"contourcarpet\":[{\"colorbar\":{\"outlinewidth\":0,\"ticks\":\"\"},\"type\":\"contourcarpet\"}],\"contour\":[{\"colorbar\":{\"outlinewidth\":0,\"ticks\":\"\"},\"colorscale\":[[0.0,\"#0d0887\"],[0.1111111111111111,\"#46039f\"],[0.2222222222222222,\"#7201a8\"],[0.3333333333333333,\"#9c179e\"],[0.4444444444444444,\"#bd3786\"],[0.5555555555555556,\"#d8576b\"],[0.6666666666666666,\"#ed7953\"],[0.7777777777777778,\"#fb9f3a\"],[0.8888888888888888,\"#fdca26\"],[1.0,\"#f0f921\"]],\"type\":\"contour\"}],\"heatmapgl\":[{\"colorbar\":{\"outlinewidth\":0,\"ticks\":\"\"},\"colorscale\":[[0.0,\"#0d0887\"],[0.1111111111111111,\"#46039f\"],[0.2222222222222222,\"#7201a8\"],[0.3333333333333333,\"#9c179e\"],[0.4444444444444444,\"#bd3786\"],[0.5555555555555556,\"#d8576b\"],[0.6666666666666666,\"#ed7953\"],[0.7777777777777778,\"#fb9f3a\"],[0.8888888888888888,\"#fdca26\"],[1.0,\"#f0f921\"]],\"type\":\"heatmapgl\"}],\"heatmap\":[{\"colorbar\":{\"outlinewidth\":0,\"ticks\":\"\"},\"colorscale\":[[0.0,\"#0d0887\"],[0.1111111111111111,\"#46039f\"],[0.2222222222222222,\"#7201a8\"],[0.3333333333333333,\"#9c179e\"],[0.4444444444444444,\"#bd3786\"],[0.5555555555555556,\"#d8576b\"],[0.6666666666666666,\"#ed7953\"],[0.7777777777777778,\"#fb9f3a\"],[0.8888888888888888,\"#fdca26\"],[1.0,\"#f0f921\"]],\"type\":\"heatmap\"}],\"histogram2dcontour\":[{\"colorbar\":{\"outlinewidth\":0,\"ticks\":\"\"},\"colorscale\":[[0.0,\"#0d0887\"],[0.1111111111111111,\"#46039f\"],[0.2222222222222222,\"#7201a8\"],[0.3333333333333333,\"#9c179e\"],[0.4444444444444444,\"#bd3786\"],[0.5555555555555556,\"#d8576b\"],[0.6666666666666666,\"#ed7953\"],[0.7777777777777778,\"#fb9f3a\"],[0.8888888888888888,\"#fdca26\"],[1.0,\"#f0f921\"]],\"type\":\"histogram2dcontour\"}],\"histogram2d\":[{\"colorbar\":{\"outlinewidth\":0,\"ticks\":\"\"},\"colorscale\":[[0.0,\"#0d0887\"],[0.1111111111111111,\"#46039f\"],[0.2222222222222222,\"#7201a8\"],[0.3333333333333333,\"#9c179e\"],[0.4444444444444444,\"#bd3786\"],[0.5555555555555556,\"#d8576b\"],[0.6666666666666666,\"#ed7953\"],[0.7777777777777778,\"#fb9f3a\"],[0.8888888888888888,\"#fdca26\"],[1.0,\"#f0f921\"]],\"type\":\"histogram2d\"}],\"histogram\":[{\"marker\":{\"pattern\":{\"fillmode\":\"overlay\",\"size\":10,\"solidity\":0.2}},\"type\":\"histogram\"}],\"mesh3d\":[{\"colorbar\":{\"outlinewidth\":0,\"ticks\":\"\"},\"type\":\"mesh3d\"}],\"parcoords\":[{\"line\":{\"colorbar\":{\"outlinewidth\":0,\"ticks\":\"\"}},\"type\":\"parcoords\"}],\"pie\":[{\"automargin\":true,\"type\":\"pie\"}],\"scatter3d\":[{\"line\":{\"colorbar\":{\"outlinewidth\":0,\"ticks\":\"\"}},\"marker\":{\"colorbar\":{\"outlinewidth\":0,\"ticks\":\"\"}},\"type\":\"scatter3d\"}],\"scattercarpet\":[{\"marker\":{\"colorbar\":{\"outlinewidth\":0,\"ticks\":\"\"}},\"type\":\"scattercarpet\"}],\"scattergeo\":[{\"marker\":{\"colorbar\":{\"outlinewidth\":0,\"ticks\":\"\"}},\"type\":\"scattergeo\"}],\"scattergl\":[{\"marker\":{\"colorbar\":{\"outlinewidth\":0,\"ticks\":\"\"}},\"type\":\"scattergl\"}],\"scattermapbox\":[{\"marker\":{\"colorbar\":{\"outlinewidth\":0,\"ticks\":\"\"}},\"type\":\"scattermapbox\"}],\"scatterpolargl\":[{\"marker\":{\"colorbar\":{\"outlinewidth\":0,\"ticks\":\"\"}},\"type\":\"scatterpolargl\"}],\"scatterpolar\":[{\"marker\":{\"colorbar\":{\"outlinewidth\":0,\"ticks\":\"\"}},\"type\":\"scatterpolar\"}],\"scatter\":[{\"fillpattern\":{\"fillmode\":\"overlay\",\"size\":10,\"solidity\":0.2},\"type\":\"scatter\"}],\"scatterternary\":[{\"marker\":{\"colorbar\":{\"outlinewidth\":0,\"ticks\":\"\"}},\"type\":\"scatterternary\"}],\"surface\":[{\"colorbar\":{\"outlinewidth\":0,\"ticks\":\"\"},\"colorscale\":[[0.0,\"#0d0887\"],[0.1111111111111111,\"#46039f\"],[0.2222222222222222,\"#7201a8\"],[0.3333333333333333,\"#9c179e\"],[0.4444444444444444,\"#bd3786\"],[0.5555555555555556,\"#d8576b\"],[0.6666666666666666,\"#ed7953\"],[0.7777777777777778,\"#fb9f3a\"],[0.8888888888888888,\"#fdca26\"],[1.0,\"#f0f921\"]],\"type\":\"surface\"}],\"table\":[{\"cells\":{\"fill\":{\"color\":\"#EBF0F8\"},\"line\":{\"color\":\"white\"}},\"header\":{\"fill\":{\"color\":\"#C8D4E3\"},\"line\":{\"color\":\"white\"}},\"type\":\"table\"}]},\"layout\":{\"annotationdefaults\":{\"arrowcolor\":\"#2a3f5f\",\"arrowhead\":0,\"arrowwidth\":1},\"autotypenumbers\":\"strict\",\"coloraxis\":{\"colorbar\":{\"outlinewidth\":0,\"ticks\":\"\"}},\"colorscale\":{\"diverging\":[[0,\"#8e0152\"],[0.1,\"#c51b7d\"],[0.2,\"#de77ae\"],[0.3,\"#f1b6da\"],[0.4,\"#fde0ef\"],[0.5,\"#f7f7f7\"],[0.6,\"#e6f5d0\"],[0.7,\"#b8e186\"],[0.8,\"#7fbc41\"],[0.9,\"#4d9221\"],[1,\"#276419\"]],\"sequential\":[[0.0,\"#0d0887\"],[0.1111111111111111,\"#46039f\"],[0.2222222222222222,\"#7201a8\"],[0.3333333333333333,\"#9c179e\"],[0.4444444444444444,\"#bd3786\"],[0.5555555555555556,\"#d8576b\"],[0.6666666666666666,\"#ed7953\"],[0.7777777777777778,\"#fb9f3a\"],[0.8888888888888888,\"#fdca26\"],[1.0,\"#f0f921\"]],\"sequentialminus\":[[0.0,\"#0d0887\"],[0.1111111111111111,\"#46039f\"],[0.2222222222222222,\"#7201a8\"],[0.3333333333333333,\"#9c179e\"],[0.4444444444444444,\"#bd3786\"],[0.5555555555555556,\"#d8576b\"],[0.6666666666666666,\"#ed7953\"],[0.7777777777777778,\"#fb9f3a\"],[0.8888888888888888,\"#fdca26\"],[1.0,\"#f0f921\"]]},\"colorway\":[\"#636efa\",\"#EF553B\",\"#00cc96\",\"#ab63fa\",\"#FFA15A\",\"#19d3f3\",\"#FF6692\",\"#B6E880\",\"#FF97FF\",\"#FECB52\"],\"font\":{\"color\":\"#2a3f5f\"},\"geo\":{\"bgcolor\":\"white\",\"lakecolor\":\"white\",\"landcolor\":\"white\",\"showlakes\":true,\"showland\":true,\"subunitcolor\":\"#C8D4E3\"},\"hoverlabel\":{\"align\":\"left\"},\"hovermode\":\"closest\",\"mapbox\":{\"style\":\"light\"},\"paper_bgcolor\":\"white\",\"plot_bgcolor\":\"white\",\"polar\":{\"angularaxis\":{\"gridcolor\":\"#EBF0F8\",\"linecolor\":\"#EBF0F8\",\"ticks\":\"\"},\"bgcolor\":\"white\",\"radialaxis\":{\"gridcolor\":\"#EBF0F8\",\"linecolor\":\"#EBF0F8\",\"ticks\":\"\"}},\"scene\":{\"xaxis\":{\"backgroundcolor\":\"white\",\"gridcolor\":\"#DFE8F3\",\"gridwidth\":2,\"linecolor\":\"#EBF0F8\",\"showbackground\":true,\"ticks\":\"\",\"zerolinecolor\":\"#EBF0F8\"},\"yaxis\":{\"backgroundcolor\":\"white\",\"gridcolor\":\"#DFE8F3\",\"gridwidth\":2,\"linecolor\":\"#EBF0F8\",\"showbackground\":true,\"ticks\":\"\",\"zerolinecolor\":\"#EBF0F8\"},\"zaxis\":{\"backgroundcolor\":\"white\",\"gridcolor\":\"#DFE8F3\",\"gridwidth\":2,\"linecolor\":\"#EBF0F8\",\"showbackground\":true,\"ticks\":\"\",\"zerolinecolor\":\"#EBF0F8\"}},\"shapedefaults\":{\"line\":{\"color\":\"#2a3f5f\"}},\"ternary\":{\"aaxis\":{\"gridcolor\":\"#DFE8F3\",\"linecolor\":\"#A2B1C6\",\"ticks\":\"\"},\"baxis\":{\"gridcolor\":\"#DFE8F3\",\"linecolor\":\"#A2B1C6\",\"ticks\":\"\"},\"bgcolor\":\"white\",\"caxis\":{\"gridcolor\":\"#DFE8F3\",\"linecolor\":\"#A2B1C6\",\"ticks\":\"\"}},\"title\":{\"x\":0.05},\"xaxis\":{\"automargin\":true,\"gridcolor\":\"#EBF0F8\",\"linecolor\":\"#EBF0F8\",\"ticks\":\"\",\"title\":{\"standoff\":15},\"zerolinecolor\":\"#EBF0F8\",\"zerolinewidth\":2},\"yaxis\":{\"automargin\":true,\"gridcolor\":\"#EBF0F8\",\"linecolor\":\"#EBF0F8\",\"ticks\":\"\",\"title\":{\"standoff\":15},\"zerolinecolor\":\"#EBF0F8\",\"zerolinewidth\":2}}},\"title\":{\"font\":{\"size\":22,\"color\":\"Black\"},\"text\":\"\\u003cb\\u003eHierarchical Clustering\\u003c\\u002fb\\u003e\",\"x\":0.5,\"xanchor\":\"center\",\"yanchor\":\"top\"},\"hoverlabel\":{\"font\":{\"size\":16,\"family\":\"Rockwell\"},\"bgcolor\":\"white\"},\"plot_bgcolor\":\"#ECEFF1\"},                        {\"responsive\": true}                    ).then(function(){\n                            \nvar gd = document.getElementById('df4c20c8-61dd-44dc-9c48-cfd2f1e25cac');\nvar x = new MutationObserver(function (mutations, observer) {{\n        var display = window.getComputedStyle(gd).display;\n        if (!display || display === 'none') {{\n            console.log([gd, 'removed!']);\n            Plotly.purge(gd);\n            observer.disconnect();\n        }}\n}});\n\n// Listen for the removal of the full notebook cells\nvar notebookContainer = gd.closest('#notebook-container');\nif (notebookContainer) {{\n    x.observe(notebookContainer, {childList: true});\n}}\n\n// Listen for the clearing of the current output cell\nvar outputEl = gd.closest('.output');\nif (outputEl) {{\n    x.observe(outputEl, {childList: true});\n}}\n\n                        })                };                });            </script>        </div>"
     },
     "metadata": {},
     "output_type": "display_data"
    }
   ],
   "source": [
    "model_bert.visualize_hierarchy()"
   ],
   "metadata": {
    "collapsed": false,
    "ExecuteTime": {
     "end_time": "2024-02-08T19:10:19.026890Z",
     "start_time": "2024-02-08T19:10:18.970704Z"
    }
   }
  },
  {
   "cell_type": "code",
   "execution_count": 284,
   "outputs": [
    {
     "name": "stdout",
     "output_type": "stream",
     "text": [
      "[('eon', 0.06821379794480599), ('contract', 0.012875217179232635), ('customer', 0.01138633464690117), ('electricity', 0.009766549370207458), ('new', 0.009074282696778164), ('service', 0.00852755581386713), ('contracts', 0.008322318376377452), ('phone', 0.007837979709745996), ('don', 0.007797988448291199), ('months', 0.007645267608933185)]\n",
      "[\"don't know why he has eon\", \"I'm new to eon\", 'Eon']\n",
      "   Topic  Count                                 Name  \\\n",
      "0      0   5051  0_eon_contract_customer_electricity   \n",
      "\n",
      "                                      Representation  \\\n",
      "0  [eon, contract, customer, electricity, new, se...   \n",
      "\n",
      "                                Representative_Docs  \n",
      "0  [don't know why he has eon, I'm new to eon, Eon]  \n"
     ]
    }
   ],
   "source": [
    "print(model_bert.get_topic(0))\n",
    "print(model_bert.get_representative_docs(0))\n",
    "print(model_bert.get_topic_info(0))"
   ],
   "metadata": {
    "collapsed": false,
    "ExecuteTime": {
     "end_time": "2024-02-08T19:10:19.040983Z",
     "start_time": "2024-02-08T19:10:19.033957Z"
    }
   }
  },
  {
   "cell_type": "code",
   "execution_count": 285,
   "outputs": [],
   "source": [
    "dataset_bert[\"topic\"] = topics"
   ],
   "metadata": {
    "collapsed": false,
    "ExecuteTime": {
     "end_time": "2024-02-08T19:10:19.075024Z",
     "start_time": "2024-02-08T19:10:19.057802Z"
    }
   }
  },
  {
   "cell_type": "code",
   "execution_count": 286,
   "outputs": [
    {
     "data": {
      "text/plain": "            ID interview_date      country  NPS  \\\n0            1     2022-05-11      Germany  0.0   \n1            2     2022-07-19       Poland  0.0   \n8            9     2022-07-15       Poland  1.0   \n12          13     2022-12-15      Romania  5.0   \n14          15     2022-07-12       Poland  0.0   \n...        ...            ...          ...  ...   \n491398  503943     2022-10-23  Netherlands  2.0   \n491399  503944     2022-10-04  Netherlands  4.0   \n491400  503945     2022-10-02  Netherlands  0.0   \n491403  503948     2022-10-15  Netherlands  6.0   \n491404  503949     2022-10-27  Netherlands  5.0   \n\n                                       translated_comment customer_type  \\\n0       My mother's contract change did not go through...    detractors   \n1              ebok does not work - no access to invoices    detractors   \n8                                      The contract I got    detractors   \n12                                       it took too long    detractors   \n14      No invoices sent, total inability to take over...    detractors   \n...                                                   ...           ...   \n491398  Waiting time when calling:  / hours. Finally c...    detractors   \n491399                       I never recommend companies.    detractors   \n491400                                                 no    detractors   \n491403  Same as above and unable to log in immediately...    detractors   \n491404  Regular customer for over  years. Due to movin...    detractors   \n\n        comment_length                    translated_comment_preprocessed  \\\n0                  618  mother contract change not go expected bank de...   \n1                   42                    ebok not work no access invoice   \n8                   18                                       contract got   \n12                  16                                          took long   \n14                  98  no invoice sent total inability take new clien...   \n...                ...                                                ...   \n491398             155  waiting time calling hour finally contacted di...   \n491399              28                            never recommend company   \n491400               2                                                 no   \n491403              65               unable log immediately due busy line   \n491404             384  regular customer year due moving forced rent h...   \n\n        topic  \n0           0  \n1           2  \n8           3  \n12         -1  \n14         -1  \n...       ...  \n491398      4  \n491399     -1  \n491400     56  \n491403     21  \n491404     15  \n\n[110119 rows x 9 columns]",
      "text/html": "<div>\n<style scoped>\n    .dataframe tbody tr th:only-of-type {\n        vertical-align: middle;\n    }\n\n    .dataframe tbody tr th {\n        vertical-align: top;\n    }\n\n    .dataframe thead th {\n        text-align: right;\n    }\n</style>\n<table border=\"1\" class=\"dataframe\">\n  <thead>\n    <tr style=\"text-align: right;\">\n      <th></th>\n      <th>ID</th>\n      <th>interview_date</th>\n      <th>country</th>\n      <th>NPS</th>\n      <th>translated_comment</th>\n      <th>customer_type</th>\n      <th>comment_length</th>\n      <th>translated_comment_preprocessed</th>\n      <th>topic</th>\n    </tr>\n  </thead>\n  <tbody>\n    <tr>\n      <th>0</th>\n      <td>1</td>\n      <td>2022-05-11</td>\n      <td>Germany</td>\n      <td>0.0</td>\n      <td>My mother's contract change did not go through...</td>\n      <td>detractors</td>\n      <td>618</td>\n      <td>mother contract change not go expected bank de...</td>\n      <td>0</td>\n    </tr>\n    <tr>\n      <th>1</th>\n      <td>2</td>\n      <td>2022-07-19</td>\n      <td>Poland</td>\n      <td>0.0</td>\n      <td>ebok does not work - no access to invoices</td>\n      <td>detractors</td>\n      <td>42</td>\n      <td>ebok not work no access invoice</td>\n      <td>2</td>\n    </tr>\n    <tr>\n      <th>8</th>\n      <td>9</td>\n      <td>2022-07-15</td>\n      <td>Poland</td>\n      <td>1.0</td>\n      <td>The contract I got</td>\n      <td>detractors</td>\n      <td>18</td>\n      <td>contract got</td>\n      <td>3</td>\n    </tr>\n    <tr>\n      <th>12</th>\n      <td>13</td>\n      <td>2022-12-15</td>\n      <td>Romania</td>\n      <td>5.0</td>\n      <td>it took too long</td>\n      <td>detractors</td>\n      <td>16</td>\n      <td>took long</td>\n      <td>-1</td>\n    </tr>\n    <tr>\n      <th>14</th>\n      <td>15</td>\n      <td>2022-07-12</td>\n      <td>Poland</td>\n      <td>0.0</td>\n      <td>No invoices sent, total inability to take over...</td>\n      <td>detractors</td>\n      <td>98</td>\n      <td>no invoice sent total inability take new clien...</td>\n      <td>-1</td>\n    </tr>\n    <tr>\n      <th>...</th>\n      <td>...</td>\n      <td>...</td>\n      <td>...</td>\n      <td>...</td>\n      <td>...</td>\n      <td>...</td>\n      <td>...</td>\n      <td>...</td>\n      <td>...</td>\n    </tr>\n    <tr>\n      <th>491398</th>\n      <td>503943</td>\n      <td>2022-10-23</td>\n      <td>Netherlands</td>\n      <td>2.0</td>\n      <td>Waiting time when calling:  / hours. Finally c...</td>\n      <td>detractors</td>\n      <td>155</td>\n      <td>waiting time calling hour finally contacted di...</td>\n      <td>4</td>\n    </tr>\n    <tr>\n      <th>491399</th>\n      <td>503944</td>\n      <td>2022-10-04</td>\n      <td>Netherlands</td>\n      <td>4.0</td>\n      <td>I never recommend companies.</td>\n      <td>detractors</td>\n      <td>28</td>\n      <td>never recommend company</td>\n      <td>-1</td>\n    </tr>\n    <tr>\n      <th>491400</th>\n      <td>503945</td>\n      <td>2022-10-02</td>\n      <td>Netherlands</td>\n      <td>0.0</td>\n      <td>no</td>\n      <td>detractors</td>\n      <td>2</td>\n      <td>no</td>\n      <td>56</td>\n    </tr>\n    <tr>\n      <th>491403</th>\n      <td>503948</td>\n      <td>2022-10-15</td>\n      <td>Netherlands</td>\n      <td>6.0</td>\n      <td>Same as above and unable to log in immediately...</td>\n      <td>detractors</td>\n      <td>65</td>\n      <td>unable log immediately due busy line</td>\n      <td>21</td>\n    </tr>\n    <tr>\n      <th>491404</th>\n      <td>503949</td>\n      <td>2022-10-27</td>\n      <td>Netherlands</td>\n      <td>5.0</td>\n      <td>Regular customer for over  years. Due to movin...</td>\n      <td>detractors</td>\n      <td>384</td>\n      <td>regular customer year due moving forced rent h...</td>\n      <td>15</td>\n    </tr>\n  </tbody>\n</table>\n<p>110119 rows × 9 columns</p>\n</div>"
     },
     "execution_count": 286,
     "metadata": {},
     "output_type": "execute_result"
    }
   ],
   "source": [
    "dataset_bert"
   ],
   "metadata": {
    "collapsed": false,
    "ExecuteTime": {
     "end_time": "2024-02-08T19:10:19.110574Z",
     "start_time": "2024-02-08T19:10:19.073771Z"
    }
   }
  },
  {
   "cell_type": "code",
   "execution_count": 287,
   "outputs": [],
   "source": [
    "dataset_bert.to_csv('dataset_plus_BERTopic_mpnet.csv')"
   ],
   "metadata": {
    "collapsed": false,
    "ExecuteTime": {
     "end_time": "2024-02-08T19:10:20.012533Z",
     "start_time": "2024-02-08T19:10:19.109215Z"
    }
   }
  },
  {
   "cell_type": "code",
   "execution_count": 288,
   "outputs": [
    {
     "name": "stderr",
     "output_type": "stream",
     "text": [
      "100%|██████████| 67/67 [00:00<00:00, 212.83it/s]\n"
     ]
    },
    {
     "data": {
      "text/plain": "   Parent_ID                                      Parent_Name  \\\n66       134                essent_eon_contract_time_customer   \n65       133        recommend_price_energy_electricity_prices   \n64       132                essent_eon_contract_time_customer   \n63       131                essent_eon_contract_meter_invoice   \n62       130                recommend_energy_cena_know_choice   \n..       ...                                              ...   \n4         72  connection_email_connect_notification_connected   \n3         71            contract_contracts_new_agreement_year   \n2         70            eon_gas_contract_electricity_customer   \n1         69            electricity_energy_price_prices_lower   \n0         68           service_phone_customer_minutes_waiting   \n\n                                               Topics Child_Left_ID  \\\n66  [0, 1, 2, 3, 4, 5, 6, 7, 8, 9, 10, 11, 12, 13,...           132   \n65  [5, 10, 11, 16, 20, 22, 28, 31, 40, 41, 43, 44...           130   \n64  [0, 1, 2, 3, 4, 6, 7, 8, 9, 12, 13, 14, 15, 17...           131   \n63  [0, 1, 2, 3, 6, 7, 8, 9, 13, 15, 18, 19, 25, 2...           124   \n62  [10, 11, 20, 28, 40, 41, 43, 44, 46, 49, 51, 5...           128   \n..                                                ...           ...   \n4                                            [18, 64]            64   \n3                                             [3, 33]             3   \n2                                             [0, 19]             0   \n1                                            [22, 31]            31   \n0                                             [4, 24]            24   \n\n                                    Child_Left_Name Child_Right_ID  \\\n66                essent_eon_contract_time_customer            133   \n65                recommend_energy_cena_know_choice            126   \n64                essent_eon_contract_meter_invoice            129   \n63                      power_outage_long_time_took            127   \n62               cena_nee_accessibility_annual_know            103   \n..                                              ...            ...   \n4   electricity_connection_electrician_connect_took             18   \n3           contract_agreement_new_contracts_extend             33   \n2             eon_contract_customer_electricity_new             19   \n1             electricity_lower_grid_prices_cheaper             22   \n0               service_customer_bad_poor_employees              4   \n\n                                  Child_Right_Name  Distance  \n66       recommend_price_energy_electricity_prices  1.805246  \n65         price_prices_electricity_high_expensive  1.484294  \n64              chat_website_phone_question_answer  1.417962  \n63               essent_eon_contract_meter_invoice  1.327671  \n62  recommend_energy_choice_decide_recommendations  1.295579  \n..                                             ...       ...  \n4       connection_email_notification_connect_mail  0.518839  \n3               contracts_contract_add_account_new  0.461000  \n2    gas_electricity_contract_energiedirect_energy  0.407674  \n1             electricity_energy_price_high_prices  0.387053  \n0               phone_minutes_service_hold_waiting  0.334887  \n\n[67 rows x 8 columns]",
      "text/html": "<div>\n<style scoped>\n    .dataframe tbody tr th:only-of-type {\n        vertical-align: middle;\n    }\n\n    .dataframe tbody tr th {\n        vertical-align: top;\n    }\n\n    .dataframe thead th {\n        text-align: right;\n    }\n</style>\n<table border=\"1\" class=\"dataframe\">\n  <thead>\n    <tr style=\"text-align: right;\">\n      <th></th>\n      <th>Parent_ID</th>\n      <th>Parent_Name</th>\n      <th>Topics</th>\n      <th>Child_Left_ID</th>\n      <th>Child_Left_Name</th>\n      <th>Child_Right_ID</th>\n      <th>Child_Right_Name</th>\n      <th>Distance</th>\n    </tr>\n  </thead>\n  <tbody>\n    <tr>\n      <th>66</th>\n      <td>134</td>\n      <td>essent_eon_contract_time_customer</td>\n      <td>[0, 1, 2, 3, 4, 5, 6, 7, 8, 9, 10, 11, 12, 13,...</td>\n      <td>132</td>\n      <td>essent_eon_contract_time_customer</td>\n      <td>133</td>\n      <td>recommend_price_energy_electricity_prices</td>\n      <td>1.805246</td>\n    </tr>\n    <tr>\n      <th>65</th>\n      <td>133</td>\n      <td>recommend_price_energy_electricity_prices</td>\n      <td>[5, 10, 11, 16, 20, 22, 28, 31, 40, 41, 43, 44...</td>\n      <td>130</td>\n      <td>recommend_energy_cena_know_choice</td>\n      <td>126</td>\n      <td>price_prices_electricity_high_expensive</td>\n      <td>1.484294</td>\n    </tr>\n    <tr>\n      <th>64</th>\n      <td>132</td>\n      <td>essent_eon_contract_time_customer</td>\n      <td>[0, 1, 2, 3, 4, 6, 7, 8, 9, 12, 13, 14, 15, 17...</td>\n      <td>131</td>\n      <td>essent_eon_contract_meter_invoice</td>\n      <td>129</td>\n      <td>chat_website_phone_question_answer</td>\n      <td>1.417962</td>\n    </tr>\n    <tr>\n      <th>63</th>\n      <td>131</td>\n      <td>essent_eon_contract_meter_invoice</td>\n      <td>[0, 1, 2, 3, 6, 7, 8, 9, 13, 15, 18, 19, 25, 2...</td>\n      <td>124</td>\n      <td>power_outage_long_time_took</td>\n      <td>127</td>\n      <td>essent_eon_contract_meter_invoice</td>\n      <td>1.327671</td>\n    </tr>\n    <tr>\n      <th>62</th>\n      <td>130</td>\n      <td>recommend_energy_cena_know_choice</td>\n      <td>[10, 11, 20, 28, 40, 41, 43, 44, 46, 49, 51, 5...</td>\n      <td>128</td>\n      <td>cena_nee_accessibility_annual_know</td>\n      <td>103</td>\n      <td>recommend_energy_choice_decide_recommendations</td>\n      <td>1.295579</td>\n    </tr>\n    <tr>\n      <th>...</th>\n      <td>...</td>\n      <td>...</td>\n      <td>...</td>\n      <td>...</td>\n      <td>...</td>\n      <td>...</td>\n      <td>...</td>\n      <td>...</td>\n    </tr>\n    <tr>\n      <th>4</th>\n      <td>72</td>\n      <td>connection_email_connect_notification_connected</td>\n      <td>[18, 64]</td>\n      <td>64</td>\n      <td>electricity_connection_electrician_connect_took</td>\n      <td>18</td>\n      <td>connection_email_notification_connect_mail</td>\n      <td>0.518839</td>\n    </tr>\n    <tr>\n      <th>3</th>\n      <td>71</td>\n      <td>contract_contracts_new_agreement_year</td>\n      <td>[3, 33]</td>\n      <td>3</td>\n      <td>contract_agreement_new_contracts_extend</td>\n      <td>33</td>\n      <td>contracts_contract_add_account_new</td>\n      <td>0.461000</td>\n    </tr>\n    <tr>\n      <th>2</th>\n      <td>70</td>\n      <td>eon_gas_contract_electricity_customer</td>\n      <td>[0, 19]</td>\n      <td>0</td>\n      <td>eon_contract_customer_electricity_new</td>\n      <td>19</td>\n      <td>gas_electricity_contract_energiedirect_energy</td>\n      <td>0.407674</td>\n    </tr>\n    <tr>\n      <th>1</th>\n      <td>69</td>\n      <td>electricity_energy_price_prices_lower</td>\n      <td>[22, 31]</td>\n      <td>31</td>\n      <td>electricity_lower_grid_prices_cheaper</td>\n      <td>22</td>\n      <td>electricity_energy_price_high_prices</td>\n      <td>0.387053</td>\n    </tr>\n    <tr>\n      <th>0</th>\n      <td>68</td>\n      <td>service_phone_customer_minutes_waiting</td>\n      <td>[4, 24]</td>\n      <td>24</td>\n      <td>service_customer_bad_poor_employees</td>\n      <td>4</td>\n      <td>phone_minutes_service_hold_waiting</td>\n      <td>0.334887</td>\n    </tr>\n  </tbody>\n</table>\n<p>67 rows × 8 columns</p>\n</div>"
     },
     "execution_count": 288,
     "metadata": {},
     "output_type": "execute_result"
    }
   ],
   "source": [
    "model_bert.hierarchical_topics(dataset_bert[\"translated_comment\"])"
   ],
   "metadata": {
    "collapsed": false,
    "ExecuteTime": {
     "end_time": "2024-02-08T19:10:20.819278Z",
     "start_time": "2024-02-08T19:10:20.027110Z"
    }
   }
  }
 ],
 "metadata": {
  "kernelspec": {
   "display_name": "Python 3",
   "language": "python",
   "name": "python3"
  },
  "language_info": {
   "codemirror_mode": {
    "name": "ipython",
    "version": 2
   },
   "file_extension": ".py",
   "mimetype": "text/x-python",
   "name": "python",
   "nbconvert_exporter": "python",
   "pygments_lexer": "ipython2",
   "version": "2.7.6"
  }
 },
 "nbformat": 4,
 "nbformat_minor": 0
}
