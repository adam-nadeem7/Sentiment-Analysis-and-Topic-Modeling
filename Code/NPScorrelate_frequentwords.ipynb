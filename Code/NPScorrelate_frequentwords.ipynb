{
 "cells": [
  {
   "cell_type": "code",
   "execution_count": 1,
   "id": "b32717fa",
   "metadata": {},
   "outputs": [],
   "source": [
    "import pandas as pd\n",
    "from sklearn.feature_extraction.text import TfidfVectorizer\n",
    "from sklearn.model_selection import train_test_split\n",
    "from sklearn.metrics import mean_absolute_error\n",
    "import numpy as np\n",
    "import nltk\n",
    "import matplotlib.pyplot as plt\n",
    "import seaborn as sns\n",
    "from datetime import datetime"
   ]
  },
  {
   "cell_type": "code",
   "execution_count": 2,
   "id": "127d1604",
   "metadata": {},
   "outputs": [
    {
     "data": {
      "text/html": [
       "<div>\n",
       "<style scoped>\n",
       "    .dataframe tbody tr th:only-of-type {\n",
       "        vertical-align: middle;\n",
       "    }\n",
       "\n",
       "    .dataframe tbody tr th {\n",
       "        vertical-align: top;\n",
       "    }\n",
       "\n",
       "    .dataframe thead th {\n",
       "        text-align: right;\n",
       "    }\n",
       "</style>\n",
       "<table border=\"1\" class=\"dataframe\">\n",
       "  <thead>\n",
       "    <tr style=\"text-align: right;\">\n",
       "      <th></th>\n",
       "      <th>ID</th>\n",
       "      <th>interview_date</th>\n",
       "      <th>country</th>\n",
       "      <th>NPS</th>\n",
       "      <th>translated_comment</th>\n",
       "      <th>customer_type</th>\n",
       "      <th>comment_length</th>\n",
       "      <th>translated_comment_preprocessed</th>\n",
       "      <th>bert_sentiment</th>\n",
       "      <th>vader_sentiment</th>\n",
       "      <th>sentiment</th>\n",
       "      <th>textblob_sentiment</th>\n",
       "    </tr>\n",
       "  </thead>\n",
       "  <tbody>\n",
       "    <tr>\n",
       "      <th>0</th>\n",
       "      <td>17</td>\n",
       "      <td>2022-07-01</td>\n",
       "      <td>Poland</td>\n",
       "      <td>5.0</td>\n",
       "      <td>High prices</td>\n",
       "      <td>detractors</td>\n",
       "      <td>11</td>\n",
       "      <td>high price</td>\n",
       "      <td>10</td>\n",
       "      <td>5.000</td>\n",
       "      <td>neu</td>\n",
       "      <td>5.800000</td>\n",
       "    </tr>\n",
       "    <tr>\n",
       "      <th>1</th>\n",
       "      <td>20</td>\n",
       "      <td>2020-11-22</td>\n",
       "      <td>Sweden</td>\n",
       "      <td>8.0</td>\n",
       "      <td>beat caught</td>\n",
       "      <td>passives</td>\n",
       "      <td>11</td>\n",
       "      <td>beat caught</td>\n",
       "      <td>2</td>\n",
       "      <td>5.000</td>\n",
       "      <td>neu</td>\n",
       "      <td>5.000000</td>\n",
       "    </tr>\n",
       "    <tr>\n",
       "      <th>2</th>\n",
       "      <td>29</td>\n",
       "      <td>2022-08-03</td>\n",
       "      <td>Poland</td>\n",
       "      <td>10.0</td>\n",
       "      <td>Very easy and transparent meter takeover proce...</td>\n",
       "      <td>promoters</td>\n",
       "      <td>50</td>\n",
       "      <td>easy transparent meter takeover procedure</td>\n",
       "      <td>10</td>\n",
       "      <td>7.202</td>\n",
       "      <td>pos</td>\n",
       "      <td>7.166667</td>\n",
       "    </tr>\n",
       "    <tr>\n",
       "      <th>3</th>\n",
       "      <td>32</td>\n",
       "      <td>2022-07-06</td>\n",
       "      <td>Poland</td>\n",
       "      <td>5.0</td>\n",
       "      <td>confusion in the name of the company</td>\n",
       "      <td>detractors</td>\n",
       "      <td>36</td>\n",
       "      <td>confusion name company</td>\n",
       "      <td>2</td>\n",
       "      <td>3.520</td>\n",
       "      <td>neg</td>\n",
       "      <td>5.000000</td>\n",
       "    </tr>\n",
       "    <tr>\n",
       "      <th>4</th>\n",
       "      <td>42</td>\n",
       "      <td>2022-06-23</td>\n",
       "      <td>Romania</td>\n",
       "      <td>7.0</td>\n",
       "      <td>solving immediate problems, that is, first of ...</td>\n",
       "      <td>passives</td>\n",
       "      <td>218</td>\n",
       "      <td>solving immediate problem first malfunction oc...</td>\n",
       "      <td>6</td>\n",
       "      <td>3.194</td>\n",
       "      <td>neg</td>\n",
       "      <td>6.250000</td>\n",
       "    </tr>\n",
       "  </tbody>\n",
       "</table>\n",
       "</div>"
      ],
      "text/plain": [
       "   ID interview_date  country   NPS  \\\n",
       "0  17     2022-07-01   Poland   5.0   \n",
       "1  20     2020-11-22   Sweden   8.0   \n",
       "2  29     2022-08-03   Poland  10.0   \n",
       "3  32     2022-07-06   Poland   5.0   \n",
       "4  42     2022-06-23  Romania   7.0   \n",
       "\n",
       "                                  translated_comment customer_type  \\\n",
       "0                                        High prices    detractors   \n",
       "1                                        beat caught      passives   \n",
       "2  Very easy and transparent meter takeover proce...     promoters   \n",
       "3               confusion in the name of the company    detractors   \n",
       "4  solving immediate problems, that is, first of ...      passives   \n",
       "\n",
       "   comment_length                    translated_comment_preprocessed  \\\n",
       "0              11                                         high price   \n",
       "1              11                                        beat caught   \n",
       "2              50          easy transparent meter takeover procedure   \n",
       "3              36                             confusion name company   \n",
       "4             218  solving immediate problem first malfunction oc...   \n",
       "\n",
       "   bert_sentiment  vader_sentiment sentiment  textblob_sentiment  \n",
       "0              10            5.000       neu            5.800000  \n",
       "1               2            5.000       neu            5.000000  \n",
       "2              10            7.202       pos            7.166667  \n",
       "3               2            3.520       neg            5.000000  \n",
       "4               6            3.194       neg            6.250000  "
      ]
     },
     "execution_count": 2,
     "metadata": {},
     "output_type": "execute_result"
    }
   ],
   "source": [
    "#read data\n",
    "file_path = \"three_sentiments.csv\"\n",
    "dataset = pd.read_csv(file_path)\n",
    "dataset.head()"
   ]
  },
  {
   "cell_type": "code",
   "execution_count": 3,
   "id": "c778ddd1",
   "metadata": {},
   "outputs": [
    {
     "data": {
      "text/html": [
       "<div>\n",
       "<style scoped>\n",
       "    .dataframe tbody tr th:only-of-type {\n",
       "        vertical-align: middle;\n",
       "    }\n",
       "\n",
       "    .dataframe tbody tr th {\n",
       "        vertical-align: top;\n",
       "    }\n",
       "\n",
       "    .dataframe thead th {\n",
       "        text-align: right;\n",
       "    }\n",
       "</style>\n",
       "<table border=\"1\" class=\"dataframe\">\n",
       "  <thead>\n",
       "    <tr style=\"text-align: right;\">\n",
       "      <th></th>\n",
       "      <th>ID</th>\n",
       "      <th>interview_date</th>\n",
       "      <th>country</th>\n",
       "      <th>NPS</th>\n",
       "      <th>translated_comment</th>\n",
       "      <th>customer_type</th>\n",
       "      <th>comment_length</th>\n",
       "      <th>translated_comment_preprocessed</th>\n",
       "      <th>bert_sentiment</th>\n",
       "      <th>vader_sentiment</th>\n",
       "      <th>sentiment</th>\n",
       "      <th>textblob_sentiment</th>\n",
       "      <th>tokens</th>\n",
       "    </tr>\n",
       "  </thead>\n",
       "  <tbody>\n",
       "    <tr>\n",
       "      <th>0</th>\n",
       "      <td>17</td>\n",
       "      <td>2022-07-01</td>\n",
       "      <td>Poland</td>\n",
       "      <td>5.0</td>\n",
       "      <td>High prices</td>\n",
       "      <td>detractors</td>\n",
       "      <td>11</td>\n",
       "      <td>high price</td>\n",
       "      <td>10</td>\n",
       "      <td>5.000</td>\n",
       "      <td>neu</td>\n",
       "      <td>5.800000</td>\n",
       "      <td>[high, price]</td>\n",
       "    </tr>\n",
       "    <tr>\n",
       "      <th>1</th>\n",
       "      <td>20</td>\n",
       "      <td>2020-11-22</td>\n",
       "      <td>Sweden</td>\n",
       "      <td>8.0</td>\n",
       "      <td>beat caught</td>\n",
       "      <td>passives</td>\n",
       "      <td>11</td>\n",
       "      <td>beat caught</td>\n",
       "      <td>2</td>\n",
       "      <td>5.000</td>\n",
       "      <td>neu</td>\n",
       "      <td>5.000000</td>\n",
       "      <td>[beat, caught]</td>\n",
       "    </tr>\n",
       "    <tr>\n",
       "      <th>2</th>\n",
       "      <td>29</td>\n",
       "      <td>2022-08-03</td>\n",
       "      <td>Poland</td>\n",
       "      <td>10.0</td>\n",
       "      <td>Very easy and transparent meter takeover proce...</td>\n",
       "      <td>promoters</td>\n",
       "      <td>50</td>\n",
       "      <td>easy transparent meter takeover procedure</td>\n",
       "      <td>10</td>\n",
       "      <td>7.202</td>\n",
       "      <td>pos</td>\n",
       "      <td>7.166667</td>\n",
       "      <td>[easy, transparent, meter, takeover, procedure]</td>\n",
       "    </tr>\n",
       "    <tr>\n",
       "      <th>3</th>\n",
       "      <td>32</td>\n",
       "      <td>2022-07-06</td>\n",
       "      <td>Poland</td>\n",
       "      <td>5.0</td>\n",
       "      <td>confusion in the name of the company</td>\n",
       "      <td>detractors</td>\n",
       "      <td>36</td>\n",
       "      <td>confusion name company</td>\n",
       "      <td>2</td>\n",
       "      <td>3.520</td>\n",
       "      <td>neg</td>\n",
       "      <td>5.000000</td>\n",
       "      <td>[confusion, name, company]</td>\n",
       "    </tr>\n",
       "    <tr>\n",
       "      <th>4</th>\n",
       "      <td>42</td>\n",
       "      <td>2022-06-23</td>\n",
       "      <td>Romania</td>\n",
       "      <td>7.0</td>\n",
       "      <td>solving immediate problems, that is, first of ...</td>\n",
       "      <td>passives</td>\n",
       "      <td>218</td>\n",
       "      <td>solving immediate problem first malfunction oc...</td>\n",
       "      <td>6</td>\n",
       "      <td>3.194</td>\n",
       "      <td>neg</td>\n",
       "      <td>6.250000</td>\n",
       "      <td>[solving, immediate, problem, first, malfuncti...</td>\n",
       "    </tr>\n",
       "  </tbody>\n",
       "</table>\n",
       "</div>"
      ],
      "text/plain": [
       "   ID interview_date  country   NPS  \\\n",
       "0  17     2022-07-01   Poland   5.0   \n",
       "1  20     2020-11-22   Sweden   8.0   \n",
       "2  29     2022-08-03   Poland  10.0   \n",
       "3  32     2022-07-06   Poland   5.0   \n",
       "4  42     2022-06-23  Romania   7.0   \n",
       "\n",
       "                                  translated_comment customer_type  \\\n",
       "0                                        High prices    detractors   \n",
       "1                                        beat caught      passives   \n",
       "2  Very easy and transparent meter takeover proce...     promoters   \n",
       "3               confusion in the name of the company    detractors   \n",
       "4  solving immediate problems, that is, first of ...      passives   \n",
       "\n",
       "   comment_length                    translated_comment_preprocessed  \\\n",
       "0              11                                         high price   \n",
       "1              11                                        beat caught   \n",
       "2              50          easy transparent meter takeover procedure   \n",
       "3              36                             confusion name company   \n",
       "4             218  solving immediate problem first malfunction oc...   \n",
       "\n",
       "   bert_sentiment  vader_sentiment sentiment  textblob_sentiment  \\\n",
       "0              10            5.000       neu            5.800000   \n",
       "1               2            5.000       neu            5.000000   \n",
       "2              10            7.202       pos            7.166667   \n",
       "3               2            3.520       neg            5.000000   \n",
       "4               6            3.194       neg            6.250000   \n",
       "\n",
       "                                              tokens  \n",
       "0                                      [high, price]  \n",
       "1                                     [beat, caught]  \n",
       "2    [easy, transparent, meter, takeover, procedure]  \n",
       "3                         [confusion, name, company]  \n",
       "4  [solving, immediate, problem, first, malfuncti...  "
      ]
     },
     "execution_count": 3,
     "metadata": {},
     "output_type": "execute_result"
    }
   ],
   "source": [
    "from nltk.tokenize import RegexpTokenizer\n",
    "\n",
    "tokenizer = RegexpTokenizer(r'\\w+')\n",
    "\n",
    "dataset[\"tokens\"] = dataset[\"translated_comment_preprocessed\"].apply(tokenizer.tokenize)\n",
    "dataset.head()"
   ]
  },
  {
   "cell_type": "code",
   "execution_count": 4,
   "id": "7d99ad3d",
   "metadata": {},
   "outputs": [
    {
     "name": "stdout",
     "output_type": "stream",
     "text": [
      "297177 words total, with a vocabulary size of 10074\n",
      "Max sentence length is 259\n"
     ]
    }
   ],
   "source": [
    "all_words = [word for tokens in dataset[\"tokens\"] for word in tokens]\n",
    "sentence_lengths = [len(tokens) for tokens in dataset[\"tokens\"]]\n",
    "VOCAB = sorted(list(set(all_words)))\n",
    "print(\"%s words total, with a vocabulary size of %s\" % (len(all_words), len(VOCAB)))\n",
    "print(\"Max sentence length is %s\" % max(sentence_lengths))"
   ]
  },
  {
   "cell_type": "code",
   "execution_count": 5,
   "id": "29e308e3",
   "metadata": {},
   "outputs": [
    {
     "data": {
      "image/png": "[encoded data removed]",
      "text/plain": [
       "<Figure size 720x720 with 1 Axes>"
      ]
     },
     "metadata": {
      "needs_background": "light"
     },
     "output_type": "display_data"
    }
   ],
   "source": [
    "import matplotlib.pyplot as plt\n",
    "\n",
    "fig = plt.figure(figsize=(10, 10)) \n",
    "plt.xlabel('Sentence length')\n",
    "plt.ylabel('Number of sentences')\n",
    "plt.hist(sentence_lengths, range = [0, 60])\n",
    "plt.show()"
   ]
  },
  {
   "cell_type": "code",
   "execution_count": 29,
   "id": "7e86138c",
   "metadata": {},
   "outputs": [
    {
     "name": "stdout",
     "output_type": "stream",
     "text": [
      "Word frequency for positive sentiment:\n",
      "[('satisfied', 269), ('im happy', 120), ('friendly helpful', 65), ('pleased', 50), ('great help', 48), ('always satisfied', 31), ('super', 31), ('completely satisfied', 29), ('satisfied everything', 28), ('satisfied essent', 28), ('great satisfaction', 26), ('good help', 25), ('im satisfied', 23), ('friendly', 22), ('good', 21), ('kindly helped', 21), ('good service', 18), ('friendly clear', 15), ('everything great', 14), ('friendly knowledgeable', 14), ('satisfied eon', 13), ('easy', 13), ('good friendly help', 13), ('helpful friendly', 12), ('satisfied service', 12), ('quick easy', 12), ('great company', 12), ('great', 12), ('fast good help', 12), ('got good help', 12), ('happy', 10), ('easy use', 10), ('pleasant meeting', 10), ('super service', 10), ('excellent', 9), ('excellent communication', 9), ('great service', 9), ('friendly help', 9), ('customer praise smooth uncomplicated process far', 9), ('best', 9), ('perfect', 9), ('clear friendly', 9), ('everything perfect', 8), ('clear easy use', 8), ('good value money', 8), ('always good help', 8), ('customer friendly', 8), ('pleasant communication', 7), ('far good', 7), ('always good service', 7), ('satisfied company', 7), ('great communication', 7), ('pleasant conversation', 7), ('good energy supplier', 7), ('everything good', 7), ('nice', 6), ('good clear help', 6), ('extremely satisfied', 6), ('good deal', 6), ('satisfied customer many year', 6), ('honest', 6), ('easy uncomplicated', 6), ('nice service', 6), ('helped perfectly', 6), ('friendly employee', 6), ('friendly clear help', 6), ('satisfied customer', 6), ('friendly good explanation', 6), ('always satisfied essent', 6), ('pleasantly helped', 6), ('friendly thoughtful', 6), ('quick friendly dealing', 5), ('nicely helped', 5), ('excellent cooperation', 5), ('good company', 5), ('friendly dealing', 5), ('happy everything', 5), ('perfect service', 5), ('good service good price', 5), ('satisfied customer year', 5), ('easy handling', 5), ('good feeling', 5), ('fully satisfied', 5), ('good cooperation', 5), ('good service friendly', 5), ('pleasant cooperation', 5), ('always friendly', 5), ('bright', 5), ('outstanding service', 5), ('friendly helpful employee', 4), ('fast good', 4), ('easy communication', 4), ('nice helpful', 4), ('excellent energy supplier', 4), ('great approach', 4), ('friendly deal', 4), ('nicely spoken', 4), ('knowledgeable friendly', 4), ('everything worked perfectly', 4), ('excellent supplier', 4)]\n",
      "\n",
      "Word frequency for negative sentiment:\n",
      "[('no', 205), ('not know', 201), ('expensive', 38), ('nothing', 29), ('no comment', 25), ('no idea', 20), ('no opinion', 20), ('bad communication', 19), ('no answer question', 18), ('unreachable', 18), ('not', 15), ('spoke', 15), ('no contact', 14), ('nothing specific', 12), ('no reason', 12), ('bad service', 12), ('never recommend anything', 11), ('none', 10), ('uncomplicated', 9), ('poor accessibility', 9), ('nothing come mind', 8), ('didnt get answer question', 8), ('question not answered', 8), ('dont get answer question', 8), ('not reachable', 8), ('dissatisfaction', 8), ('cena', 7), ('not work', 7), ('no clue', 7), ('no answer', 7), ('not necessary', 6), ('no experience yet', 6), ('invoice not arrive time', 6), ('difficult reach', 6), ('never', 6), ('problem not solved', 6), ('never talk', 6), ('niks mi mee', 5), ('hasslefree', 5), ('not want answer', 5), ('got no contact', 5), ('received invoice time', 5), ('no service', 5), ('no explanation', 5), ('expensive electricity', 5), ('without reason', 5), ('no choice', 5), ('asked', 5), ('not apply', 5), ('complicated', 4), ('punctuality', 4), ('bad', 4), ('not helped', 4), ('bad contact', 4), ('worthless', 4), ('not getting answer question', 4), ('cant speak anyone', 4), ('no good answer', 4), ('name', 4), ('not available', 4), ('no fuss', 4), ('doesnt work', 4), ('cheapest', 4), ('unfriendly', 4), ('bad customer service', 4), ('not received answer question', 4), ('no service provider', 4), ('no reservation', 3), ('confusing', 3), ('cant get touch way', 3), ('dont', 3), ('never recommend', 3), ('site not working', 3), ('xxxx', 3), ('no comparison', 3), ('no not', 3), ('nothing else', 3), ('customer service unavailable', 3), ('difficult contact', 3), ('dont recommend anything', 3), ('not get touch', 3), ('cant answer', 3), ('dont get answer', 3), ('dont see', 3), ('not answer', 3), ('cant answer question', 3), ('poor service', 3), ('not feel like', 3), ('reason', 3), ('without comment', 3), ('unfortunately not', 3), ('rate', 3), ('dont keep appointment', 3), ('already stated', 3), ('difficult reach phone', 3), ('not log', 3), ('im not recommending anything anyone', 3), ('invoice time', 3), ('na', 3), ('lousy customer service', 3)]\n",
      "\n"
     ]
    }
   ],
   "source": [
    "#find out the ost frequent words that appeared accross different sentiment categories\n",
    "from nltk import FreqDist\n",
    "\n",
    "dataset['average_sentiment'] = dataset[['bert_sentiment', 'vader_sentiment', 'textblob_sentiment']].mean(axis=1)\n",
    "\n",
    "pos_freq_dic=FreqDist(dataset[\"translated_comment_preprocessed\"][dataset['average_sentiment'] >= 8])\n",
    "neg_freq_dic=FreqDist(dataset[\"translated_comment_preprocessed\"][dataset['average_sentiment'] <= 4])\n",
    "\n",
    "# Display the most common words\n",
    "print(\"Word frequency for positive sentiment:\")\n",
    "print(pos_freq_dic.most_common(100))\n",
    "print()\n",
    "print(\"Word frequency for negative sentiment:\")\n",
    "print(neg_freq_dic.most_common(100))\n",
    "print()"
   ]
  },
  {
   "cell_type": "code",
   "execution_count": 30,
   "id": "3bae51e0",
   "metadata": {},
   "outputs": [
    {
     "name": "stdout",
     "output_type": "stream",
     "text": [
      "Word frequency for promoters:\n",
      "[('satisfaction', 1121), ('satisfied', 569), ('everything ok', 153), ('good service', 120), ('im happy', 107), ('no problem', 93), ('good', 93), ('speed', 89), ('ok', 88), ('satisfied service', 85), ('reliability', 81), ('im satisfied', 65), ('never problem', 58), ('right', 58), ('satisfaction service', 54), ('fast processing', 49), ('everything fine', 46), ('well helped', 46), ('good communication', 45), ('see', 44), ('pleased', 39), ('overall satisfaction', 38), ('absolute satisfaction', 38), ('invoice come time', 38), ('friendly helpful', 37), ('trustworthy', 37), ('professionalism', 35), ('clear', 34), ('good cooperation', 33), ('desire', 33), ('no', 33), ('processing speed', 32), ('quick action', 32), ('get time', 32), ('satisfied customer', 31), ('satisfied everything', 31), ('everything went well', 30), ('great help', 29), ('satisfied essent', 29), ('completely satisfied', 28), ('super', 27), ('maximum satisfaction', 27), ('convenience', 25), ('good experience', 25), ('professional approach', 25), ('great satisfaction', 25), ('satisfied eon', 24), ('worked well', 23), ('everything went smoothly', 23), ('clarity', 22), ('experience', 20), ('longterm satisfaction', 20), ('always satisfied', 20), ('everything', 19), ('asked', 19), ('good price', 19), ('work well', 19), ('not problem', 19), ('everything work', 18), ('everything alright', 18), ('helpful', 18), ('quick reply', 17), ('readiness', 17), ('fast', 17), ('friendly', 17), ('resolved quickly', 16), ('nee', 16), ('good help', 16), ('clearly', 16), ('seriousness', 16), ('customer friendly', 16), ('dont know', 15), ('communication', 15), ('work', 15), ('stability', 15), ('correct', 15), ('service', 15), ('reliable company', 15), ('clear explanation', 15), ('satisfied company', 15), ('thank', 15), ('invoice arrive time', 15), ('amenity', 14), ('satisfaction far', 14), ('no complaint', 14), ('timeliness', 14), ('nice service', 14), ('thanks', 14), ('reliable', 14), ('helped well', 14), ('invoice arrives time', 14), ('good information', 13), ('everything great', 13), ('satisfied customer year', 13), ('fast reaction', 13), ('na', 13), ('first service', 13), ('good explanation', 13), ('problem solved', 13), ('friendly clear', 13)]\n",
      "\n",
      "Word frequency for detractors:\n",
      "[('see', 105), ('not know', 92), ('lower price', 63), ('reduce price', 49), ('no', 44), ('expensive', 31), ('price', 29), ('cena', 28), ('nee', 25), ('better price', 23), ('high price', 19), ('bad communication', 18), ('unreachable', 18), ('no answer question', 16), ('no contact', 14), ('cheaper electricity', 13), ('na', 13), ('no opinion', 12), ('cheaper', 12), ('bad service', 12), ('poorly accessible', 11), ('dont know', 10), ('not helped', 10), ('accessibility', 10), ('never recommend anything', 10), ('experience', 9), ('everyone know', 9), ('satisfaction', 9), ('already wrote', 9), ('poor accessibility', 9), ('see previous', 9), ('nothing', 9), ('everyone choose', 8), ('didnt get answer question', 8), ('see previous comment', 8), ('question not answered', 8), ('no idea', 8), ('hard reach', 8), ('dont get answer question', 8), ('not reachable', 8), ('dissatisfaction', 8), ('satisfied', 8), ('not work', 7), ('no comment', 7), ('no experience yet', 7), ('ok', 7), ('price high', 7), ('everyone decide', 7), ('lower electricity price', 7), ('communication', 6), ('took long', 6), ('never', 6), ('dont see', 6), ('lower network fee', 6), ('energy price', 6), ('problem not solved', 6), ('lower cost', 6), ('lower fee', 6), ('price increase', 5), ('good', 5), ('think', 5), ('cant get touch', 5), ('got no contact', 5), ('waiting time', 5), ('cheaper price', 5), ('already', 5), ('no service', 5), ('not know yet', 5), ('difficult reach', 5), ('see comment', 5), ('price energy', 5), ('become cheaper', 5), ('not clear', 5), ('never talk', 5), ('new customer', 5), ('confusing', 4), ('bad', 4), ('impersonal', 4), ('customer service', 4), ('service', 4), ('pricing policy', 4), ('no clue', 4), ('customer service unavailable', 4), ('no answer', 4), ('bad contact', 4), ('worthless', 4), ('not getting answer question', 4), ('long waiting time', 4), ('cant speak anyone', 4), ('no reason', 4), ('high bill', 4), ('expensive energy', 4), ('not available', 4), ('nothing special', 4), ('doesnt work', 4), ('bill amount', 4), ('see note', 4), ('lower network charge', 4), ('customer', 4), ('unfriendly', 4)]\n",
      "\n",
      "Word frequency for passives:\n",
      "[('satisfied', 234), ('no', 129), ('not know', 118), ('satisfaction', 111), ('good service', 89), ('good', 84), ('lower price', 80), ('nee', 78), ('na', 56), ('reduce price', 52), ('well helped', 49), ('see', 43), ('trustworthy', 41), ('no problem', 38), ('never problem', 37), ('price', 29), ('friendly helpful', 28), ('friendly', 27), ('ok', 26), ('satisfied essent', 25), ('clear', 24), ('experience', 22), ('no complaint', 22), ('always room improvement', 21), ('great help', 19), ('everything ok', 18), ('dont know', 17), ('cena', 17), ('good explanation', 17), ('cheaper', 17), ('im satisfied', 16), ('good experience', 16), ('better price', 16), ('satisfied far', 15), ('clearly', 15), ('customer friendly', 15), ('clear explanation', 15), ('satisfied customer', 14), ('cheaper electricity', 14), ('good information', 13), ('good conversation', 13), ('kindly helped', 13), ('good contact', 13), ('nothing', 12), ('no idea', 12), ('like', 12), ('first service', 12), ('pleased', 12), ('always satisfied', 11), ('helped well', 11), ('took long time', 11), ('clarity', 11), ('never problem essent', 11), ('im happy', 11), ('reliability', 11), ('friendly spoken', 11), ('helped quickly', 10), ('speed', 9), ('no comment', 9), ('customer service', 9), ('good help', 9), ('satisfied year', 9), ('x', 9), ('asked', 9), ('everything fine', 9), ('okay', 9), ('lower electricity price', 8), ('quite satisfied', 8), ('service', 8), ('always better', 8), ('waiting time', 8), ('clear answer question', 8), ('spoke', 8), ('friendly employee', 8), ('got good help', 8), ('good supplier', 7), ('previous experience', 7), ('overall satisfaction', 7), ('faster', 7), ('reliable supplier', 7), ('never complaint', 7), ('good price', 7), ('clear answer', 7), ('satisfied eon', 7), ('well spoken', 7), ('higher price', 7), ('nice conversation', 7), ('good communication', 7), ('not', 7), ('fine', 7), ('right', 6), ('nothing specific', 6), ('correct', 6), ('fast processing', 6), ('reliable company', 6), ('cheaper price', 6), ('neatly treated', 6), ('clear information', 6), ('reliable', 6), ('become cheaper', 6)]\n"
     ]
    }
   ],
   "source": [
    "#find out the most frequent words that appeared accross different customer types\n",
    "from nltk import FreqDist\n",
    "\n",
    "detractors_freq_dic=FreqDist(dataset[\"translated_comment_preprocessed\"][dataset['customer_type'] == \"detractors\"])\n",
    "passives_freq_dic=FreqDist(dataset[\"translated_comment_preprocessed\"][dataset['customer_type'] == \"passives\"])\n",
    "promoters_freq_dic=FreqDist(dataset[\"translated_comment_preprocessed\"][dataset['customer_type'] == \"promoters\"])\n",
    "\n",
    "# Display the most common words\n",
    "print(\"Word frequency for promoters:\")\n",
    "print(promoters_freq_dic.most_common(100))\n",
    "print()\n",
    "print(\"Word frequency for detractors:\")\n",
    "print(detractors_freq_dic.most_common(100))\n",
    "print()\n",
    "print(\"Word frequency for passives:\")\n",
    "print(passives_freq_dic.most_common(100))\n"
   ]
  },
  {
   "cell_type": "code",
   "execution_count": 31,
   "id": "129f49ce",
   "metadata": {},
   "outputs": [],
   "source": [
    "#Get rid of the counts per most common words\n",
    "positive = set(x[0] for x in pos_freq_dic.most_common(100))\n",
    "negative = set(x[0] for x in neg_freq_dic.most_common(100))\n",
    "promoters = set(x[0] for x in promoters_freq_dic.most_common(100))\n",
    "detractors = set(x[0] for x in detractors_freq_dic.most_common(100))\n"
   ]
  },
  {
   "cell_type": "code",
   "execution_count": 32,
   "id": "a04a3d8a",
   "metadata": {},
   "outputs": [
    {
     "name": "stdout",
     "output_type": "stream",
     "text": [
      "{'satisfied', 'good service', 'im happy', 'everything great', 'satisfied service', 'satisfied customer', 'satisfied essent', 'im satisfied', 'good', 'super', 'pleased', 'great satisfaction', 'customer friendly', 'good cooperation', 'always satisfied', 'nice service', 'good help', 'friendly clear', 'satisfied eon', 'completely satisfied', 'satisfied customer year', 'satisfied company', 'satisfied everything', 'friendly helpful', 'friendly', 'great help'}\n",
      "\n",
      "Out of 100 words there are 26 in common\n",
      "\n",
      "{'no clue', 'bad service', 'no answer', 'no contact', 'unreachable', 'not work', 'no idea', 'bad contact', 'never talk', 'dont see', 'question not answered', 'no answer question', 'confusing', 'cena', 'na', 'not helped', 'dont get answer question', 'not getting answer question', 'never', 'problem not solved', 'not reachable', 'cant speak anyone', 'no opinion', 'doesnt work', 'didnt get answer question', 'no', 'no experience yet', 'dissatisfaction', 'difficult reach', 'got no contact', 'not available', 'customer service unavailable', 'worthless', 'never recommend anything', 'not know', 'bad', 'bad communication', 'no service', 'expensive', 'unfriendly', 'poor accessibility', 'nothing', 'no reason', 'no comment'}\n",
      "\n",
      "Out of 100 words there are 44 in common\n",
      "\n"
     ]
    }
   ],
   "source": [
    "print(positive & promoters) #join\n",
    "print ('\\nOut of', len(positive), 'words there are', len(positive & promoters), 'in common')\n",
    "print()\n",
    "print(negative & detractors) #join\n",
    "print ('\\nOut of', len(positive), 'words there are', len(negative & detractors), 'in common')\n",
    "print()"
   ]
  },
  {
   "cell_type": "code",
   "execution_count": 33,
   "id": "5a0bf474",
   "metadata": {},
   "outputs": [
    {
     "name": "stdout",
     "output_type": "stream",
     "text": [
      "{'satisfied', 'good service', 'im happy', 'everything great', 'satisfied service', 'satisfied customer', 'satisfied essent', 'im satisfied', 'good', 'super', 'pleased', 'great satisfaction', 'customer friendly', 'good cooperation', 'always satisfied', 'nice service', 'good help', 'friendly clear', 'satisfied eon', 'completely satisfied', 'satisfied customer year', 'satisfied company', 'satisfied everything', 'friendly helpful', 'friendly', 'great help'}\n",
      "\n",
      "Out of 100 words there are 26 in common\n",
      "\n",
      "{'no clue', 'bad service', 'no answer', 'no contact', 'unreachable', 'not work', 'no idea', 'bad contact', 'never talk', 'dont see', 'question not answered', 'no answer question', 'confusing', 'cena', 'na', 'not helped', 'dont get answer question', 'not getting answer question', 'never', 'problem not solved', 'not reachable', 'cant speak anyone', 'no opinion', 'doesnt work', 'didnt get answer question', 'no', 'no experience yet', 'dissatisfaction', 'difficult reach', 'got no contact', 'not available', 'customer service unavailable', 'worthless', 'never recommend anything', 'not know', 'bad', 'bad communication', 'no service', 'expensive', 'unfriendly', 'poor accessibility', 'nothing', 'no reason', 'no comment'}\n",
      "\n",
      "Out of 100 words there are 44 in common\n"
     ]
    }
   ],
   "source": [
    "#Flag the reviews that have inconsistent NPS scores and reviews (sentiments)\n",
    "#For example - filter out words that are used in both Promoters and neg\n",
    "print(positive & promoters) #join\n",
    "print ('\\nOut of', len(positive), 'words there are', len(positive & promoters), 'in common')\n",
    "print()\n",
    "print(negative & detractors)\n",
    "print ('\\nOut of', len(negative), 'words there are', len(negative & detractors), 'in common')\n",
    "#Inconsiste"
   ]
  },
  {
   "cell_type": "code",
   "execution_count": 34,
   "id": "6e7125a0",
   "metadata": {},
   "outputs": [],
   "source": [
    "#Create a list\n",
    "positive_detractors_list = [word for word in positive & detractors]\n",
    "positive_promoters_list = [word for word in positive & promoters]\n",
    "negative_promoters_list = [word for word in negative & promoters]\n",
    "negative_detractors_list = [word for word in negative & detractors]"
   ]
  },
  {
   "cell_type": "code",
   "execution_count": 43,
   "id": "d5f9eda7",
   "metadata": {},
   "outputs": [
    {
     "data": {
      "text/plain": [
       "True     3874\n",
       "False    1172\n",
       "Name: check, dtype: int64"
      ]
     },
     "execution_count": 43,
     "metadata": {},
     "output_type": "execute_result"
    }
   ],
   "source": [
    "def extract_keywords(sentence, user_keywords):\n",
    "    # Convert the sentence to lowercase for case-insensitive matching\n",
    "    sentence_lower = sentence.lower()\n",
    "\n",
    "    # Extract keywords from the sentence\n",
    "    extracted_keywords = [keyword for keyword in user_keywords if keyword.lower() in sentence_lower]   \n",
    "    \n",
    "    # Check if there are inconsistencies\n",
    "    if extracted_keywords:\n",
    "        return 'inconsistent findings'\n",
    "    else:\n",
    "        return 'consistent'\n",
    "    \n",
    "import math\n",
    "\n",
    "# Apply the categorization function to each row for positive sentiment\n",
    "dataset.loc[dataset['customer_type'] == \"detractors\", 'flag_inconsistent'] = dataset['translated_comment_preprocessed'][dataset['customer_type'] == \"detractors\"].apply(lambda x: extract_keywords(x, positive_promoters_list))\n",
    "# Apply the categorization function to each row for negative sentiment\n",
    "dataset.loc[dataset['customer_type'] == \"promoters\", 'flag_inconsistent'] = dataset['translated_comment_preprocessed'][dataset['customer_type'] == \"promoters\"].apply(lambda x: extract_keywords(x, negative_detractors_list))\n",
    "# Display the first 20 rows\n",
    "dataset['diff'] = np.abs(dataset['NPS'] - dataset[\"average_sentiment\"])\n",
    "# dataset['check'] = False\n",
    "dataset['check'] = dataset['diff'] > 2\n",
    "# display(dataset[[\"NPS\", \"customer_type\",\"translated_comment_preprocessed\", \"flag_inconsistent\", \"bert_sentiment\", \"vader_sentiment\"]][(dataset[\"flag_inconsistent\"]== \"inconsistent findings\") & (dataset[\"customer_type\"]== \"promoters\")])\n",
    "# display(dataset[[\"NPS\", \"customer_type\",\"translated_comment_preprocessed\", \"flag_inconsistent\", \"average_sentiment\", 'check']][(dataset[\"flag_inconsistent\"]== \"inconsistent findings\") & (dataset[\"customer_type\"]== \"detractors\")])\n",
    "\n",
    "dataset[(dataset[\"flag_inconsistent\"]== \"inconsistent findings\") & (dataset[\"customer_type\"]== \"promoters\")]['check'].value_counts()\n",
    "\n",
    "# Apply the categorization function to each row\n",
    "#dataset['flag_inconsistent'] = dataset['translated_comment_preprocessed'][dataset['customer_type'] == \"detractors\"].apply(lambda x: extract_keywords(x, positive_words_list))\n",
    "#dataset['flag_inconsistent'] = dataset['translated_comment_preprocessed'][dataset['customer_type'] == \"promoters\"].apply(lambda x: extract_keywords(x, negative_words_list))\n",
    "\n"
   ]
  },
  {
   "cell_type": "code",
   "execution_count": 14,
   "id": "4ad98d27",
   "metadata": {},
   "outputs": [],
   "source": [
    "dataset.to_excel(\"temp3.xlsx\")\n"
   ]
  },
  {
   "cell_type": "code",
   "execution_count": 15,
   "id": "21038aba",
   "metadata": {},
   "outputs": [
    {
     "name": "stdout",
     "output_type": "stream",
     "text": [
      "{'service', 'ok', 'nee', 'experience', 'satisfied', 'satisfaction', 'good', 'na', 'communication', 'cena', 'see'}\n",
      "\n",
      "Out of 100 words there are 11 in common\n",
      "\n",
      "{'no problem', 'no complaints', 'no problems', 'problem solved'}\n",
      "\n",
      "Out of 100 words there are 4 in common\n"
     ]
    }
   ],
   "source": [
    "#Flag the reviews that have inconsistent NPS scores and reviews (sentiments)\n",
    "#For example - filter out words that are used in both Promoters and neg\n",
    "print(promoters & detractors) #join\n",
    "print ('\\nOut of', len(promoters), 'words there are', len(promoters & detractors), 'in common')\n",
    "print()\n",
    "print(negative & promoters)\n",
    "print ('\\nOut of', len(negative), 'words there are', len(negative & promoters), 'in common')\n",
    "#Inconsiste"
   ]
  },
  {
   "cell_type": "code",
   "execution_count": 17,
   "id": "172db33b",
   "metadata": {},
   "outputs": [
    {
     "data": {
      "text/html": [
       "<div>\n",
       "<style scoped>\n",
       "    .dataframe tbody tr th:only-of-type {\n",
       "        vertical-align: middle;\n",
       "    }\n",
       "\n",
       "    .dataframe tbody tr th {\n",
       "        vertical-align: top;\n",
       "    }\n",
       "\n",
       "    .dataframe thead th {\n",
       "        text-align: right;\n",
       "    }\n",
       "</style>\n",
       "<table border=\"1\" class=\"dataframe\">\n",
       "  <thead>\n",
       "    <tr style=\"text-align: right;\">\n",
       "      <th></th>\n",
       "      <th>NPS</th>\n",
       "      <th>customer_type</th>\n",
       "      <th>comment_length</th>\n",
       "    </tr>\n",
       "  </thead>\n",
       "  <tbody>\n",
       "    <tr>\n",
       "      <th>0</th>\n",
       "      <td>8.0</td>\n",
       "      <td>passives</td>\n",
       "      <td>129</td>\n",
       "    </tr>\n",
       "    <tr>\n",
       "      <th>1</th>\n",
       "      <td>10.0</td>\n",
       "      <td>promoters</td>\n",
       "      <td>289</td>\n",
       "    </tr>\n",
       "    <tr>\n",
       "      <th>2</th>\n",
       "      <td>10.0</td>\n",
       "      <td>promoters</td>\n",
       "      <td>107</td>\n",
       "    </tr>\n",
       "    <tr>\n",
       "      <th>3</th>\n",
       "      <td>9.0</td>\n",
       "      <td>promoters</td>\n",
       "      <td>21</td>\n",
       "    </tr>\n",
       "    <tr>\n",
       "      <th>4</th>\n",
       "      <td>10.0</td>\n",
       "      <td>promoters</td>\n",
       "      <td>371</td>\n",
       "    </tr>\n",
       "    <tr>\n",
       "      <th>...</th>\n",
       "      <td>...</td>\n",
       "      <td>...</td>\n",
       "      <td>...</td>\n",
       "    </tr>\n",
       "    <tr>\n",
       "      <th>48993</th>\n",
       "      <td>0.0</td>\n",
       "      <td>detractors</td>\n",
       "      <td>17</td>\n",
       "    </tr>\n",
       "    <tr>\n",
       "      <th>48994</th>\n",
       "      <td>10.0</td>\n",
       "      <td>promoters</td>\n",
       "      <td>73</td>\n",
       "    </tr>\n",
       "    <tr>\n",
       "      <th>48995</th>\n",
       "      <td>5.0</td>\n",
       "      <td>detractors</td>\n",
       "      <td>157</td>\n",
       "    </tr>\n",
       "    <tr>\n",
       "      <th>48996</th>\n",
       "      <td>8.0</td>\n",
       "      <td>passives</td>\n",
       "      <td>86</td>\n",
       "    </tr>\n",
       "    <tr>\n",
       "      <th>48997</th>\n",
       "      <td>10.0</td>\n",
       "      <td>promoters</td>\n",
       "      <td>27</td>\n",
       "    </tr>\n",
       "  </tbody>\n",
       "</table>\n",
       "<p>48998 rows × 3 columns</p>\n",
       "</div>"
      ],
      "text/plain": [
       "        NPS customer_type  comment_length\n",
       "0       8.0      passives             129\n",
       "1      10.0     promoters             289\n",
       "2      10.0     promoters             107\n",
       "3       9.0     promoters              21\n",
       "4      10.0     promoters             371\n",
       "...     ...           ...             ...\n",
       "48993   0.0    detractors              17\n",
       "48994  10.0     promoters              73\n",
       "48995   5.0    detractors             157\n",
       "48996   8.0      passives              86\n",
       "48997  10.0     promoters              27\n",
       "\n",
       "[48998 rows x 3 columns]"
      ]
     },
     "execution_count": 17,
     "metadata": {},
     "output_type": "execute_result"
    }
   ],
   "source": [
    "dataset[[\"NPS\", \"customer_type\",\"comment_length\"]]"
   ]
  },
  {
   "cell_type": "code",
   "execution_count": 18,
   "id": "e85b0254",
   "metadata": {},
   "outputs": [
    {
     "name": "stdout",
     "output_type": "stream",
     "text": [
      "Correlation between NPS and comment length: -0.23257829532151889\n"
     ]
    }
   ],
   "source": [
    "correlation = dataset[\"NPS\"].corr(dataset[\"comment_length\"])\n",
    "print(f\"Correlation between NPS and comment length: {correlation}\")\n"
   ]
  },
  {
   "cell_type": "code",
   "execution_count": 19,
   "id": "7f74ab76",
   "metadata": {},
   "outputs": [
    {
     "name": "stdout",
     "output_type": "stream",
     "text": [
      "Correlation for passives: -0.07511555057425096\n",
      "Correlation for promoters: 0.009689640919639222\n",
      "Correlation for detractors: -0.08684802391212029\n"
     ]
    }
   ],
   "source": [
    "# Assuming 'customer_type' is a column in your DataFrame\n",
    "customer_types = dataset['customer_type'].unique()\n",
    "\n",
    "# Create an empty dictionary to store correlation results for each customer type\n",
    "correlation_results = {}\n",
    "\n",
    "# Iterate over each customer type and calculate the correlation\n",
    "for customer_type in customer_types:\n",
    "    subset = dataset[dataset['customer_type'] == customer_type]\n",
    "    correlation = subset['NPS'].corr(subset['comment_length'])\n",
    "    correlation_results[customer_type] = correlation\n",
    "\n",
    "# Display the results\n",
    "for customer_type, correlation in correlation_results.items():\n",
    "    print(f\"Correlation for {customer_type}: {correlation}\")\n"
   ]
  },
  {
   "cell_type": "code",
   "execution_count": null,
   "id": "ef8ddbbb",
   "metadata": {},
   "outputs": [],
   "source": []
  }
 ],
 "metadata": {
  "kernelspec": {
   "display_name": "Python 3 (ipykernel)",
   "language": "python",
   "name": "python3"
  },
  "language_info": {
   "codemirror_mode": {
    "name": "ipython",
    "version": 3
   },
   "file_extension": ".py",
   "mimetype": "text/x-python",
   "name": "python",
   "nbconvert_exporter": "python",
   "pygments_lexer": "ipython3",
   "version": "3.8.8"
  }
 },
 "nbformat": 4,
 "nbformat_minor": 5
}
