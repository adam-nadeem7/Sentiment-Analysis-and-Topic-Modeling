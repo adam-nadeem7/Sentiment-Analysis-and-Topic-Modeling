{
 "cells": [
  {
   "cell_type": "code",
   "execution_count": 1,
   "metadata": {},
   "outputs": [
    {
     "name": "stdout",
     "output_type": "stream",
     "text": [
      "Looking in links: https://download.pytorch.org/whl/torch_stable.html\n",
      "\u001b[31mERROR: Could not find a version that satisfies the requirement torch==1.8.1+cu111\u001b[0m\n",
      "\u001b[31mERROR: No matching distribution found for torch==1.8.1+cu111\u001b[0m\n",
      "Requirement already satisfied: transformers in /opt/anaconda3/lib/python3.8/site-packages (4.36.1)\n",
      "Requirement already satisfied: requests in /opt/anaconda3/lib/python3.8/site-packages (2.25.1)\n",
      "Requirement already satisfied: beautifulsoup4 in /opt/anaconda3/lib/python3.8/site-packages (4.9.3)\n",
      "Requirement already satisfied: pandas in /opt/anaconda3/lib/python3.8/site-packages (1.2.4)\n",
      "Requirement already satisfied: numpy in /opt/anaconda3/lib/python3.8/site-packages (1.22.4)\n",
      "Requirement already satisfied: soupsieve>1.2 in /opt/anaconda3/lib/python3.8/site-packages (from beautifulsoup4) (2.2.1)\n",
      "Requirement already satisfied: python-dateutil>=2.7.3 in /opt/anaconda3/lib/python3.8/site-packages (from pandas) (2.8.1)\n",
      "Requirement already satisfied: pytz>=2017.3 in /opt/anaconda3/lib/python3.8/site-packages (from pandas) (2021.1)\n",
      "Requirement already satisfied: six>=1.5 in /opt/anaconda3/lib/python3.8/site-packages (from python-dateutil>=2.7.3->pandas) (1.15.0)\n",
      "Requirement already satisfied: urllib3<1.27,>=1.21.1 in /opt/anaconda3/lib/python3.8/site-packages (from requests) (1.26.8)\n",
      "Requirement already satisfied: chardet<5,>=3.0.2 in /opt/anaconda3/lib/python3.8/site-packages (from requests) (4.0.0)\n",
      "Requirement already satisfied: idna<3,>=2.5 in /opt/anaconda3/lib/python3.8/site-packages (from requests) (2.10)\n",
      "Requirement already satisfied: certifi>=2017.4.17 in /opt/anaconda3/lib/python3.8/site-packages (from requests) (2020.12.5)\n",
      "Requirement already satisfied: huggingface-hub<1.0,>=0.19.3 in /opt/anaconda3/lib/python3.8/site-packages (from transformers) (0.19.4)\n",
      "Requirement already satisfied: tqdm>=4.27 in /opt/anaconda3/lib/python3.8/site-packages (from transformers) (4.59.0)\n",
      "Requirement already satisfied: safetensors>=0.3.1 in /opt/anaconda3/lib/python3.8/site-packages (from transformers) (0.4.1)\n",
      "Requirement already satisfied: filelock in /opt/anaconda3/lib/python3.8/site-packages (from transformers) (3.4.0)\n",
      "Requirement already satisfied: tokenizers<0.19,>=0.14 in /opt/anaconda3/lib/python3.8/site-packages (from transformers) (0.15.0)\n",
      "Requirement already satisfied: pyyaml>=5.1 in /opt/anaconda3/lib/python3.8/site-packages (from transformers) (5.4.1)\n",
      "Requirement already satisfied: regex!=2019.12.17 in /opt/anaconda3/lib/python3.8/site-packages (from transformers) (2021.4.4)\n",
      "Requirement already satisfied: packaging>=20.0 in /opt/anaconda3/lib/python3.8/site-packages (from transformers) (20.9)\n",
      "Requirement already satisfied: typing-extensions>=3.7.4.3 in /opt/anaconda3/lib/python3.8/site-packages (from huggingface-hub<1.0,>=0.19.3->transformers) (4.4.0)\n",
      "Requirement already satisfied: fsspec>=2023.5.0 in /opt/anaconda3/lib/python3.8/site-packages (from huggingface-hub<1.0,>=0.19.3->transformers) (2023.12.2)\n",
      "Requirement already satisfied: pyparsing>=2.0.2 in /opt/anaconda3/lib/python3.8/site-packages (from packaging>=20.0->transformers) (2.4.7)\n"
     ]
    }
   ],
   "source": [
    "!pip install torch==1.8.1+cu111 torchvision==0.9.1+cu111 torchaudio===0.8.1 -f https://download.pytorch.org/whl/torch_stable.html\n",
    "!pip install transformers requests beautifulsoup4 pandas numpy"
   ]
  },
  {
   "cell_type": "code",
   "execution_count": 2,
   "metadata": {},
   "outputs": [],
   "source": [
    "# Load libraries\n",
    "import pandas as pd\n",
    "import numpy as np\n",
    "import matplotlib.pyplot as plt\n",
    "import seaborn as sns\n",
    "from datetime import datetime\n",
    "\n",
    "from transformers import AutoTokenizer, AutoModelForSequenceClassification\n",
    "import torch\n",
    "import requests\n",
    "import re"
   ]
  },
  {
   "cell_type": "code",
   "execution_count": 3,
   "metadata": {},
   "outputs": [
    {
     "data": {
      "text/html": [
       "<div>\n",
       "<style scoped>\n",
       "    .dataframe tbody tr th:only-of-type {\n",
       "        vertical-align: middle;\n",
       "    }\n",
       "\n",
       "    .dataframe tbody tr th {\n",
       "        vertical-align: top;\n",
       "    }\n",
       "\n",
       "    .dataframe thead th {\n",
       "        text-align: right;\n",
       "    }\n",
       "</style>\n",
       "<table border=\"1\" class=\"dataframe\">\n",
       "  <thead>\n",
       "    <tr style=\"text-align: right;\">\n",
       "      <th></th>\n",
       "      <th>ID</th>\n",
       "      <th>interview_date</th>\n",
       "      <th>country</th>\n",
       "      <th>NPS</th>\n",
       "      <th>translated_comment</th>\n",
       "      <th>customer_type</th>\n",
       "      <th>comment_length</th>\n",
       "      <th>translated_comment_preprocessed</th>\n",
       "    </tr>\n",
       "  </thead>\n",
       "  <tbody>\n",
       "    <tr>\n",
       "      <th>0</th>\n",
       "      <td>213278</td>\n",
       "      <td>2022-09-10</td>\n",
       "      <td>Czech</td>\n",
       "      <td>10.0</td>\n",
       "      <td>&amp;;&amp;;&amp;;Processing the request &amp;;&amp;;&amp;;</td>\n",
       "      <td>promoters</td>\n",
       "      <td>59</td>\n",
       "      <td>processing request</td>\n",
       "    </tr>\n",
       "    <tr>\n",
       "      <th>1</th>\n",
       "      <td>174512</td>\n",
       "      <td>2021-02-10</td>\n",
       "      <td>Sweden</td>\n",
       "      <td>5.0</td>\n",
       "      <td>E.on Pay more</td>\n",
       "      <td>detractors</td>\n",
       "      <td>13</td>\n",
       "      <td>eon pay</td>\n",
       "    </tr>\n",
       "    <tr>\n",
       "      <th>2</th>\n",
       "      <td>48192</td>\n",
       "      <td>2021-05-20</td>\n",
       "      <td>Netherlands</td>\n",
       "      <td>8.0</td>\n",
       "      <td>am satisfied with essence</td>\n",
       "      <td>passives</td>\n",
       "      <td>25</td>\n",
       "      <td>satisfied essence</td>\n",
       "    </tr>\n",
       "    <tr>\n",
       "      <th>3</th>\n",
       "      <td>118266</td>\n",
       "      <td>2021-08-21</td>\n",
       "      <td>Sweden</td>\n",
       "      <td>8.0</td>\n",
       "      <td>Can't answer the question.</td>\n",
       "      <td>passives</td>\n",
       "      <td>30</td>\n",
       "      <td>cant answer question</td>\n",
       "    </tr>\n",
       "    <tr>\n",
       "      <th>4</th>\n",
       "      <td>160338</td>\n",
       "      <td>2021-08-06</td>\n",
       "      <td>Romania</td>\n",
       "      <td>8.0</td>\n",
       "      <td>hurry up, until I made the appointment, why di...</td>\n",
       "      <td>passives</td>\n",
       "      <td>68</td>\n",
       "      <td>hurry made appointment didnt go directly</td>\n",
       "    </tr>\n",
       "  </tbody>\n",
       "</table>\n",
       "</div>"
      ],
      "text/plain": [
       "       ID interview_date      country   NPS  \\\n",
       "0  213278     2022-09-10        Czech  10.0   \n",
       "1  174512     2021-02-10       Sweden   5.0   \n",
       "2   48192     2021-05-20  Netherlands   8.0   \n",
       "3  118266     2021-08-21       Sweden   8.0   \n",
       "4  160338     2021-08-06      Romania   8.0   \n",
       "\n",
       "                                  translated_comment customer_type  \\\n",
       "0                &;&;&;Processing the request &;&;&;     promoters   \n",
       "1                                      E.on Pay more    detractors   \n",
       "2                          am satisfied with essence      passives   \n",
       "3                         Can't answer the question.      passives   \n",
       "4  hurry up, until I made the appointment, why di...      passives   \n",
       "\n",
       "   comment_length           translated_comment_preprocessed  \n",
       "0              59                        processing request  \n",
       "1              13                                   eon pay  \n",
       "2              25                         satisfied essence  \n",
       "3              30                      cant answer question  \n",
       "4              68  hurry made appointment didnt go directly  "
      ]
     },
     "execution_count": 3,
     "metadata": {},
     "output_type": "execute_result"
    }
   ],
   "source": [
    "file_path = \"cleaned_dataset_10percent.csv\"\n",
    "dataset = pd.read_csv(file_path)\n",
    "\n",
    "# Display the first few rows of the dataset to understand its structure\n",
    "dataset.head()"
   ]
  },
  {
   "cell_type": "code",
   "execution_count": 4,
   "metadata": {},
   "outputs": [],
   "source": [
    "# Function for sentiment scores\n",
    "def sentiment_score(review):\n",
    "    tokens = tokenizer.encode(review, return_tensors='pt')\n",
    "    result = model(tokens)\n",
    "    return int(torch.argmax(result.logits))+1\n"
   ]
  },
  {
   "cell_type": "code",
   "execution_count": 5,
   "metadata": {},
   "outputs": [],
   "source": [
    "# Utilizing pretrained model\n",
    "tokenizer = AutoTokenizer.from_pretrained('nlptown/bert-base-multilingual-uncased-sentiment')\n",
    "\n",
    "model = AutoModelForSequenceClassification.from_pretrained('nlptown/bert-base-multilingual-uncased-sentiment')\n",
    "\n",
    "sentiment_scores = []\n",
    "\n",
    "# Iterate through each row in the DataFrame\n",
    "for index, row in dataset.iterrows():\n",
    "    # Calculate sentiment score and append to the list\n",
    "    sentiment_scores.append(sentiment_score(row['translated_comment'][:1024]))"
   ]
  },
  {
   "cell_type": "code",
   "execution_count": 6,
   "metadata": {},
   "outputs": [],
   "source": [
    "# Assigning the sentiment scores to a new column\n",
    "dataset['bert_sentiment'] = sentiment_scores"
   ]
  },
  {
   "cell_type": "code",
   "execution_count": 8,
   "metadata": {},
   "outputs": [],
   "source": [
    "# Saving dataset\n",
    "dataset.to_csv(\"tenpercent_bert.csv\", index=False)"
   ]
  },
  {
   "cell_type": "code",
   "execution_count": null,
   "metadata": {},
   "outputs": [],
   "source": []
  }
 ],
 "metadata": {
  "kernelspec": {
   "display_name": "base",
   "language": "python",
   "name": "python3"
  },
  "language_info": {
   "codemirror_mode": {
    "name": "ipython",
    "version": 3
   },
   "file_extension": ".py",
   "mimetype": "text/x-python",
   "name": "python",
   "nbconvert_exporter": "python",
   "pygments_lexer": "ipython3",
   "version": "3.8.8"
  }
 },
 "nbformat": 4,
 "nbformat_minor": 2
}
